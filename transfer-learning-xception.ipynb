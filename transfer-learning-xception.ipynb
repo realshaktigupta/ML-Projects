{
 "cells": [
  {
   "cell_type": "code",
   "execution_count": 1,
   "id": "4e081097",
   "metadata": {
    "_cell_guid": "b1076dfc-b9ad-4769-8c92-a6c4dae69d19",
    "_uuid": "8f2839f25d086af736a60e9eeb907d3b93b6e0e5",
    "execution": {
     "iopub.execute_input": "2023-06-23T07:11:10.253045Z",
     "iopub.status.busy": "2023-06-23T07:11:10.252302Z",
     "iopub.status.idle": "2023-06-23T07:11:10.265920Z",
     "shell.execute_reply": "2023-06-23T07:11:10.265072Z"
    },
    "papermill": {
     "duration": 0.023566,
     "end_time": "2023-06-23T07:11:10.267905",
     "exception": false,
     "start_time": "2023-06-23T07:11:10.244339",
     "status": "completed"
    },
    "tags": []
   },
   "outputs": [],
   "source": [
    "# This Python 3 environment comes with many helpful analytics libraries installed\n",
    "# It is defined by the kaggle/python Docker image: https://github.com/kaggle/docker-python\n",
    "# For example, here's several helpful packages to load\n",
    "\n",
    "import numpy as np # linear algebra\n",
    "import pandas as pd # data processing, CSV file I/O (e.g. pd.read_csv)\n",
    "\n",
    "# Input data files are available in the read-only \"../input/\" directory\n",
    "# For example, running this (by clicking run or pressing Shift+Enter) will list all files under the input directory\n",
    "\n",
    "import os\n",
    "for dirname, _, filenames in os.walk('/kaggle/input'):\n",
    "    for filename in filenames:\n",
    "        print(os.path.join(dirname, filename))\n",
    "\n",
    "# You can write up to 20GB to the current directory (/kaggle/working/) that gets preserved as output when you create a version using \"Save & Run All\" \n",
    "# You can also write temporary files to /kaggle/temp/, but they won't be saved outside of the current session"
   ]
  },
  {
   "cell_type": "code",
   "execution_count": 2,
   "id": "f5b80439",
   "metadata": {
    "execution": {
     "iopub.execute_input": "2023-06-23T07:11:10.280169Z",
     "iopub.status.busy": "2023-06-23T07:11:10.279352Z",
     "iopub.status.idle": "2023-06-23T07:11:18.998015Z",
     "shell.execute_reply": "2023-06-23T07:11:18.997016Z"
    },
    "papermill": {
     "duration": 8.727516,
     "end_time": "2023-06-23T07:11:19.000802",
     "exception": false,
     "start_time": "2023-06-23T07:11:10.273286",
     "status": "completed"
    },
    "tags": []
   },
   "outputs": [
    {
     "name": "stderr",
     "output_type": "stream",
     "text": [
      "/opt/conda/lib/python3.10/site-packages/tensorflow_io/python/ops/__init__.py:98: UserWarning: unable to load libtensorflow_io_plugins.so: unable to open file: libtensorflow_io_plugins.so, from paths: ['/opt/conda/lib/python3.10/site-packages/tensorflow_io/python/ops/libtensorflow_io_plugins.so']\n",
      "caused by: ['/opt/conda/lib/python3.10/site-packages/tensorflow_io/python/ops/libtensorflow_io_plugins.so: undefined symbol: _ZN3tsl6StatusC1EN10tensorflow5error4CodeESt17basic_string_viewIcSt11char_traitsIcEENS_14SourceLocationE']\n",
      "  warnings.warn(f\"unable to load libtensorflow_io_plugins.so: {e}\")\n",
      "/opt/conda/lib/python3.10/site-packages/tensorflow_io/python/ops/__init__.py:104: UserWarning: file system plugins are not loaded: unable to open file: libtensorflow_io.so, from paths: ['/opt/conda/lib/python3.10/site-packages/tensorflow_io/python/ops/libtensorflow_io.so']\n",
      "caused by: ['/opt/conda/lib/python3.10/site-packages/tensorflow_io/python/ops/libtensorflow_io.so: undefined symbol: _ZTVN10tensorflow13GcsFileSystemE']\n",
      "  warnings.warn(f\"file system plugins are not loaded: {e}\")\n"
     ]
    }
   ],
   "source": [
    "import tensorflow as tf"
   ]
  },
  {
   "cell_type": "code",
   "execution_count": 3,
   "id": "be18b38b",
   "metadata": {
    "execution": {
     "iopub.execute_input": "2023-06-23T07:11:19.015276Z",
     "iopub.status.busy": "2023-06-23T07:11:19.013530Z",
     "iopub.status.idle": "2023-06-23T07:11:19.019096Z",
     "shell.execute_reply": "2023-06-23T07:11:19.018264Z"
    },
    "papermill": {
     "duration": 0.014153,
     "end_time": "2023-06-23T07:11:19.020838",
     "exception": false,
     "start_time": "2023-06-23T07:11:19.006685",
     "status": "completed"
    },
    "tags": []
   },
   "outputs": [],
   "source": [
    "from tensorflow import keras"
   ]
  },
  {
   "cell_type": "code",
   "execution_count": 4,
   "id": "30bc39cf",
   "metadata": {
    "execution": {
     "iopub.execute_input": "2023-06-23T07:11:19.033396Z",
     "iopub.status.busy": "2023-06-23T07:11:19.032547Z",
     "iopub.status.idle": "2023-06-23T07:11:19.037156Z",
     "shell.execute_reply": "2023-06-23T07:11:19.036360Z"
    },
    "papermill": {
     "duration": 0.012719,
     "end_time": "2023-06-23T07:11:19.039060",
     "exception": false,
     "start_time": "2023-06-23T07:11:19.026341",
     "status": "completed"
    },
    "tags": []
   },
   "outputs": [],
   "source": [
    "tf.random.set_seed(42)"
   ]
  },
  {
   "cell_type": "code",
   "execution_count": 5,
   "id": "3c9ccb68",
   "metadata": {
    "execution": {
     "iopub.execute_input": "2023-06-23T07:11:19.051322Z",
     "iopub.status.busy": "2023-06-23T07:11:19.050534Z",
     "iopub.status.idle": "2023-06-23T07:11:26.777220Z",
     "shell.execute_reply": "2023-06-23T07:11:26.776274Z"
    },
    "papermill": {
     "duration": 7.735225,
     "end_time": "2023-06-23T07:11:26.779595",
     "exception": false,
     "start_time": "2023-06-23T07:11:19.044370",
     "status": "completed"
    },
    "tags": []
   },
   "outputs": [
    {
     "name": "stdout",
     "output_type": "stream",
     "text": [
      "\u001b[1mDownloading and preparing dataset 218.21 MiB (download: 218.21 MiB, generated: 221.83 MiB, total: 440.05 MiB) to /root/tensorflow_datasets/tf_flowers/3.0.1...\u001b[0m\n"
     ]
    },
    {
     "data": {
      "application/vnd.jupyter.widget-view+json": {
       "model_id": "e6aec135d4fc4dd784bafca0e792e933",
       "version_major": 2,
       "version_minor": 0
      },
      "text/plain": [
       "Dl Completed...:   0%|          | 0/5 [00:00<?, ? file/s]"
      ]
     },
     "metadata": {},
     "output_type": "display_data"
    },
    {
     "name": "stdout",
     "output_type": "stream",
     "text": [
      "\u001b[1mDataset tf_flowers downloaded and prepared to /root/tensorflow_datasets/tf_flowers/3.0.1. Subsequent calls will reuse this data.\u001b[0m\n"
     ]
    }
   ],
   "source": [
    "import tensorflow_datasets as tfds\n",
    "\n",
    "dataset, info = tfds.load(\"tf_flowers\", as_supervised=True, with_info=True)"
   ]
  },
  {
   "cell_type": "code",
   "execution_count": 6,
   "id": "797406a4",
   "metadata": {
    "execution": {
     "iopub.execute_input": "2023-06-23T07:11:26.793365Z",
     "iopub.status.busy": "2023-06-23T07:11:26.792998Z",
     "iopub.status.idle": "2023-06-23T07:11:26.799605Z",
     "shell.execute_reply": "2023-06-23T07:11:26.798627Z"
    },
    "papermill": {
     "duration": 0.017024,
     "end_time": "2023-06-23T07:11:26.802972",
     "exception": false,
     "start_time": "2023-06-23T07:11:26.785948",
     "status": "completed"
    },
    "tags": []
   },
   "outputs": [
    {
     "data": {
      "text/plain": [
       "{'train': <SplitInfo num_examples=3670, num_shards=2>}"
      ]
     },
     "execution_count": 6,
     "metadata": {},
     "output_type": "execute_result"
    }
   ],
   "source": [
    "info.splits"
   ]
  },
  {
   "cell_type": "code",
   "execution_count": 7,
   "id": "1d81ed1c",
   "metadata": {
    "execution": {
     "iopub.execute_input": "2023-06-23T07:11:26.816137Z",
     "iopub.status.busy": "2023-06-23T07:11:26.815875Z",
     "iopub.status.idle": "2023-06-23T07:11:26.821074Z",
     "shell.execute_reply": "2023-06-23T07:11:26.820275Z"
    },
    "papermill": {
     "duration": 0.01367,
     "end_time": "2023-06-23T07:11:26.822903",
     "exception": false,
     "start_time": "2023-06-23T07:11:26.809233",
     "status": "completed"
    },
    "tags": []
   },
   "outputs": [
    {
     "data": {
      "text/plain": [
       "<SplitInfo num_examples=3670, num_shards=2>"
      ]
     },
     "execution_count": 7,
     "metadata": {},
     "output_type": "execute_result"
    }
   ],
   "source": [
    "info.splits[\"train\"]"
   ]
  },
  {
   "cell_type": "code",
   "execution_count": 8,
   "id": "23fd3d95",
   "metadata": {
    "execution": {
     "iopub.execute_input": "2023-06-23T07:11:26.836258Z",
     "iopub.status.busy": "2023-06-23T07:11:26.835337Z",
     "iopub.status.idle": "2023-06-23T07:11:26.841597Z",
     "shell.execute_reply": "2023-06-23T07:11:26.840629Z"
    },
    "papermill": {
     "duration": 0.015335,
     "end_time": "2023-06-23T07:11:26.844028",
     "exception": false,
     "start_time": "2023-06-23T07:11:26.828693",
     "status": "completed"
    },
    "tags": []
   },
   "outputs": [
    {
     "data": {
      "text/plain": [
       "['dandelion', 'daisy', 'tulips', 'sunflowers', 'roses']"
      ]
     },
     "execution_count": 8,
     "metadata": {},
     "output_type": "execute_result"
    }
   ],
   "source": [
    "class_names = info.features[\"label\"].names\n",
    "class_names"
   ]
  },
  {
   "cell_type": "code",
   "execution_count": 9,
   "id": "b7e50ad5",
   "metadata": {
    "execution": {
     "iopub.execute_input": "2023-06-23T07:11:26.857073Z",
     "iopub.status.busy": "2023-06-23T07:11:26.856811Z",
     "iopub.status.idle": "2023-06-23T07:11:26.860770Z",
     "shell.execute_reply": "2023-06-23T07:11:26.859804Z"
    },
    "papermill": {
     "duration": 0.012504,
     "end_time": "2023-06-23T07:11:26.862581",
     "exception": false,
     "start_time": "2023-06-23T07:11:26.850077",
     "status": "completed"
    },
    "tags": []
   },
   "outputs": [],
   "source": [
    "n_classes = info.features[\"label\"].num_classes"
   ]
  },
  {
   "cell_type": "code",
   "execution_count": 10,
   "id": "662f6d7c",
   "metadata": {
    "execution": {
     "iopub.execute_input": "2023-06-23T07:11:26.876234Z",
     "iopub.status.busy": "2023-06-23T07:11:26.875434Z",
     "iopub.status.idle": "2023-06-23T07:11:26.881569Z",
     "shell.execute_reply": "2023-06-23T07:11:26.880604Z"
    },
    "papermill": {
     "duration": 0.01502,
     "end_time": "2023-06-23T07:11:26.883700",
     "exception": false,
     "start_time": "2023-06-23T07:11:26.868680",
     "status": "completed"
    },
    "tags": []
   },
   "outputs": [
    {
     "data": {
      "text/plain": [
       "3670"
      ]
     },
     "execution_count": 10,
     "metadata": {},
     "output_type": "execute_result"
    }
   ],
   "source": [
    "dataset_size = info.splits[\"train\"].num_examples\n",
    "dataset_size"
   ]
  },
  {
   "cell_type": "code",
   "execution_count": 11,
   "id": "41d6e929",
   "metadata": {
    "execution": {
     "iopub.execute_input": "2023-06-23T07:11:26.896822Z",
     "iopub.status.busy": "2023-06-23T07:11:26.896570Z",
     "iopub.status.idle": "2023-06-23T07:11:27.027468Z",
     "shell.execute_reply": "2023-06-23T07:11:27.026636Z"
    },
    "papermill": {
     "duration": 0.139875,
     "end_time": "2023-06-23T07:11:27.029647",
     "exception": false,
     "start_time": "2023-06-23T07:11:26.889772",
     "status": "completed"
    },
    "tags": []
   },
   "outputs": [],
   "source": [
    "test_set_raw, valid_set_raw, train_set_raw = tfds.load(\n",
    "    \"tf_flowers\",\n",
    "    split=[\"train[:10%]\", \"train[10%:25%]\", \"train[25%:]\"],\n",
    "    as_supervised=True)"
   ]
  },
  {
   "cell_type": "code",
   "execution_count": 12,
   "id": "eb588bc4",
   "metadata": {
    "execution": {
     "iopub.execute_input": "2023-06-23T07:11:27.045149Z",
     "iopub.status.busy": "2023-06-23T07:11:27.043545Z",
     "iopub.status.idle": "2023-06-23T07:11:27.049963Z",
     "shell.execute_reply": "2023-06-23T07:11:27.049045Z"
    },
    "papermill": {
     "duration": 0.015572,
     "end_time": "2023-06-23T07:11:27.051872",
     "exception": false,
     "start_time": "2023-06-23T07:11:27.036300",
     "status": "completed"
    },
    "tags": []
   },
   "outputs": [],
   "source": [
    "def preprocess(image, label):\n",
    "    resized_image = tf.image.resize(image, [224, 224])\n",
    "    final_image = keras.applications.xception.preprocess_input(resized_image)\n",
    "    return final_image, label"
   ]
  },
  {
   "cell_type": "code",
   "execution_count": 13,
   "id": "e9d3aa9c",
   "metadata": {
    "execution": {
     "iopub.execute_input": "2023-06-23T07:11:27.065171Z",
     "iopub.status.busy": "2023-06-23T07:11:27.064898Z",
     "iopub.status.idle": "2023-06-23T07:11:27.073244Z",
     "shell.execute_reply": "2023-06-23T07:11:27.072266Z"
    },
    "papermill": {
     "duration": 0.017539,
     "end_time": "2023-06-23T07:11:27.075522",
     "exception": false,
     "start_time": "2023-06-23T07:11:27.057983",
     "status": "completed"
    },
    "tags": []
   },
   "outputs": [],
   "source": [
    "def central_crop(image):\n",
    "    shape = tf.shape(image)\n",
    "    min_dim = tf.reduce_min([shape[0], shape[1]])\n",
    "    top_crop = (shape[0] - min_dim) // 4\n",
    "    bottom_crop = shape[0] - top_crop\n",
    "    left_crop = (shape[1] - min_dim) // 4\n",
    "    right_crop = shape[1] - left_crop\n",
    "    return image[top_crop:bottom_crop, left_crop:right_crop]\n",
    "\n",
    "def random_crop(image):\n",
    "    shape = tf.shape(image)\n",
    "    min_dim = tf.reduce_min([shape[0], shape[1]]) * 90 // 100\n",
    "    return tf.image.random_crop(image, [min_dim, min_dim, 3])\n",
    "\n",
    "def preprocess(image, label, randomize=False):\n",
    "    if randomize:\n",
    "        cropped_image = random_crop(image)\n",
    "        cropped_image = tf.image.random_flip_left_right(cropped_image)\n",
    "    else:\n",
    "        cropped_image = central_crop(image)\n",
    "    resized_image = tf.image.resize(cropped_image, [224, 224])\n",
    "    final_image = keras.applications.xception.preprocess_input(resized_image)\n",
    "    return final_image, label"
   ]
  },
  {
   "cell_type": "code",
   "execution_count": 14,
   "id": "2e4a7b58",
   "metadata": {
    "execution": {
     "iopub.execute_input": "2023-06-23T07:11:27.088793Z",
     "iopub.status.busy": "2023-06-23T07:11:27.088515Z",
     "iopub.status.idle": "2023-06-23T07:11:27.092655Z",
     "shell.execute_reply": "2023-06-23T07:11:27.091669Z"
    },
    "papermill": {
     "duration": 0.016169,
     "end_time": "2023-06-23T07:11:27.097797",
     "exception": false,
     "start_time": "2023-06-23T07:11:27.081628",
     "status": "completed"
    },
    "tags": []
   },
   "outputs": [],
   "source": [
    "from functools import partial"
   ]
  },
  {
   "cell_type": "code",
   "execution_count": 15,
   "id": "335f8f94",
   "metadata": {
    "execution": {
     "iopub.execute_input": "2023-06-23T07:11:27.111366Z",
     "iopub.status.busy": "2023-06-23T07:11:27.111096Z",
     "iopub.status.idle": "2023-06-23T07:11:27.498496Z",
     "shell.execute_reply": "2023-06-23T07:11:27.497485Z"
    },
    "papermill": {
     "duration": 0.396973,
     "end_time": "2023-06-23T07:11:27.500966",
     "exception": false,
     "start_time": "2023-06-23T07:11:27.103993",
     "status": "completed"
    },
    "tags": []
   },
   "outputs": [],
   "source": [
    "batch_size = 32\n",
    "train_set = train_set_raw.shuffle(1000).repeat()\n",
    "train_set = train_set.map(partial(preprocess, randomize=True)).batch(batch_size).prefetch(1)\n",
    "valid_set = valid_set_raw.map(preprocess).batch(batch_size).prefetch(1)\n",
    "test_set = test_set_raw.map(preprocess).batch(batch_size).prefetch(1)"
   ]
  },
  {
   "cell_type": "code",
   "execution_count": 16,
   "id": "bf1841e8",
   "metadata": {
    "execution": {
     "iopub.execute_input": "2023-06-23T07:11:27.515633Z",
     "iopub.status.busy": "2023-06-23T07:11:27.514970Z",
     "iopub.status.idle": "2023-06-23T07:11:27.833355Z",
     "shell.execute_reply": "2023-06-23T07:11:27.832372Z"
    },
    "papermill": {
     "duration": 0.328331,
     "end_time": "2023-06-23T07:11:27.835738",
     "exception": false,
     "start_time": "2023-06-23T07:11:27.507407",
     "status": "completed"
    },
    "tags": []
   },
   "outputs": [],
   "source": [
    "mirrored_strategy = tf.distribute.MirroredStrategy(devices=[\"/gpu:0\", \"/gpu:1\"])"
   ]
  },
  {
   "cell_type": "code",
   "execution_count": 17,
   "id": "6270b55b",
   "metadata": {
    "execution": {
     "iopub.execute_input": "2023-06-23T07:11:27.850017Z",
     "iopub.status.busy": "2023-06-23T07:11:27.849234Z",
     "iopub.status.idle": "2023-06-23T07:12:32.508872Z",
     "shell.execute_reply": "2023-06-23T07:12:32.507833Z"
    },
    "papermill": {
     "duration": 64.669462,
     "end_time": "2023-06-23T07:12:32.511542",
     "exception": false,
     "start_time": "2023-06-23T07:11:27.842080",
     "status": "completed"
    },
    "tags": []
   },
   "outputs": [
    {
     "name": "stdout",
     "output_type": "stream",
     "text": [
      "Downloading data from https://storage.googleapis.com/tensorflow/keras-applications/xception/xception_weights_tf_dim_ordering_tf_kernels_notop.h5\n",
      "83683744/83683744 [==============================] - 0s 0us/step\n",
      "Epoch 1/5\n",
      "86/86 [==============================] - 28s 129ms/step - loss: 1.5910 - accuracy: 0.7823 - val_loss: 2.5420 - val_accuracy: 0.8088\n",
      "Epoch 2/5\n",
      "86/86 [==============================] - 9s 106ms/step - loss: 1.1483 - accuracy: 0.8779 - val_loss: 1.2678 - val_accuracy: 0.8346\n",
      "Epoch 3/5\n",
      "86/86 [==============================] - 8s 93ms/step - loss: 0.6686 - accuracy: 0.8921 - val_loss: 1.3582 - val_accuracy: 0.8290\n",
      "Epoch 4/5\n",
      "86/86 [==============================] - 8s 96ms/step - loss: 0.5247 - accuracy: 0.9081 - val_loss: 1.0576 - val_accuracy: 0.8603\n",
      "Epoch 5/5\n",
      "86/86 [==============================] - 8s 92ms/step - loss: 0.4947 - accuracy: 0.9004 - val_loss: 1.1260 - val_accuracy: 0.8474\n"
     ]
    }
   ],
   "source": [
    "with mirrored_strategy.scope():\n",
    "    base_model = keras.applications.xception.Xception(weights=\"imagenet\",\n",
    "                                                  include_top=False)\n",
    "    avg = keras.layers.GlobalAveragePooling2D()(base_model.output)\n",
    "    output = keras.layers.Dense(n_classes, activation=\"softmax\")(avg)\n",
    "    model = keras.models.Model(inputs=base_model.input, outputs=output)\n",
    "    for layer in base_model.layers:\n",
    "        layer.trainable = False\n",
    "    optimizer = keras.optimizers.SGD(learning_rate=0.2, momentum=0.9,weight_decay=0.01)\n",
    "    model.compile(loss=\"sparse_categorical_crossentropy\", optimizer=optimizer,\n",
    "                  metrics=[\"accuracy\"])\n",
    "    history = model.fit(train_set,\n",
    "                        steps_per_epoch=int(0.75 * dataset_size / batch_size),\n",
    "                        validation_data=valid_set,\n",
    "                        validation_steps=int(0.15 * dataset_size / batch_size),\n",
    "                        epochs=5)"
   ]
  },
  {
   "cell_type": "code",
   "execution_count": 18,
   "id": "2f49918f",
   "metadata": {
    "execution": {
     "iopub.execute_input": "2023-06-23T07:12:32.593068Z",
     "iopub.status.busy": "2023-06-23T07:12:32.592744Z",
     "iopub.status.idle": "2023-06-23T07:31:37.498520Z",
     "shell.execute_reply": "2023-06-23T07:31:37.497511Z"
    },
    "papermill": {
     "duration": 1144.94841,
     "end_time": "2023-06-23T07:31:37.501107",
     "exception": false,
     "start_time": "2023-06-23T07:12:32.552697",
     "status": "completed"
    },
    "tags": []
   },
   "outputs": [
    {
     "name": "stdout",
     "output_type": "stream",
     "text": [
      "Epoch 1/40\n",
      "86/86 [==============================] - 70s 337ms/step - loss: 0.4328 - accuracy: 0.8681 - val_loss: 0.6680 - val_accuracy: 0.8566\n",
      "Epoch 2/40\n",
      "86/86 [==============================] - 27s 315ms/step - loss: 0.1699 - accuracy: 0.9411 - val_loss: 0.2515 - val_accuracy: 0.9154\n",
      "Epoch 3/40\n",
      "86/86 [==============================] - 27s 315ms/step - loss: 0.1089 - accuracy: 0.9644 - val_loss: 0.2830 - val_accuracy: 0.9062\n",
      "Epoch 4/40\n",
      "86/86 [==============================] - 28s 322ms/step - loss: 0.0804 - accuracy: 0.9735 - val_loss: 0.2596 - val_accuracy: 0.9173\n",
      "Epoch 5/40\n",
      "86/86 [==============================] - 27s 317ms/step - loss: 0.0753 - accuracy: 0.9749 - val_loss: 0.2703 - val_accuracy: 0.9191\n",
      "Epoch 6/40\n",
      "86/86 [==============================] - 27s 315ms/step - loss: 0.0416 - accuracy: 0.9869 - val_loss: 0.2432 - val_accuracy: 0.9265\n",
      "Epoch 7/40\n",
      "86/86 [==============================] - 27s 318ms/step - loss: 0.0471 - accuracy: 0.9887 - val_loss: 0.2675 - val_accuracy: 0.9301\n",
      "Epoch 8/40\n",
      "86/86 [==============================] - 27s 316ms/step - loss: 0.0459 - accuracy: 0.9847 - val_loss: 0.2919 - val_accuracy: 0.9228\n",
      "Epoch 9/40\n",
      "86/86 [==============================] - 28s 326ms/step - loss: 0.0333 - accuracy: 0.9869 - val_loss: 0.3069 - val_accuracy: 0.9265\n",
      "Epoch 10/40\n",
      "86/86 [==============================] - 28s 327ms/step - loss: 0.0391 - accuracy: 0.9895 - val_loss: 0.2766 - val_accuracy: 0.9246\n",
      "Epoch 11/40\n",
      "86/86 [==============================] - 27s 316ms/step - loss: 0.0303 - accuracy: 0.9902 - val_loss: 0.2630 - val_accuracy: 0.9393\n",
      "Epoch 12/40\n",
      "86/86 [==============================] - 28s 331ms/step - loss: 0.0281 - accuracy: 0.9920 - val_loss: 0.2446 - val_accuracy: 0.9320\n",
      "Epoch 13/40\n",
      "86/86 [==============================] - 27s 319ms/step - loss: 0.0245 - accuracy: 0.9942 - val_loss: 0.2356 - val_accuracy: 0.9338\n",
      "Epoch 14/40\n",
      "86/86 [==============================] - 28s 329ms/step - loss: 0.0142 - accuracy: 0.9938 - val_loss: 0.2602 - val_accuracy: 0.9338\n",
      "Epoch 15/40\n",
      "86/86 [==============================] - 27s 319ms/step - loss: 0.0187 - accuracy: 0.9935 - val_loss: 0.2972 - val_accuracy: 0.9301\n",
      "Epoch 16/40\n",
      "86/86 [==============================] - 28s 328ms/step - loss: 0.0269 - accuracy: 0.9916 - val_loss: 0.4701 - val_accuracy: 0.9099\n",
      "Epoch 17/40\n",
      "86/86 [==============================] - 27s 319ms/step - loss: 0.0273 - accuracy: 0.9916 - val_loss: 0.2717 - val_accuracy: 0.9283\n",
      "Epoch 18/40\n",
      "86/86 [==============================] - 27s 318ms/step - loss: 0.0151 - accuracy: 0.9935 - val_loss: 0.3721 - val_accuracy: 0.9228\n",
      "Epoch 19/40\n",
      "86/86 [==============================] - 27s 319ms/step - loss: 0.0295 - accuracy: 0.9902 - val_loss: 0.3468 - val_accuracy: 0.9246\n",
      "Epoch 20/40\n",
      "86/86 [==============================] - 28s 329ms/step - loss: 0.0157 - accuracy: 0.9960 - val_loss: 0.2645 - val_accuracy: 0.9320\n",
      "Epoch 21/40\n",
      "86/86 [==============================] - 27s 317ms/step - loss: 0.0120 - accuracy: 0.9967 - val_loss: 0.2747 - val_accuracy: 0.9375\n",
      "Epoch 22/40\n",
      "86/86 [==============================] - 27s 318ms/step - loss: 0.0133 - accuracy: 0.9945 - val_loss: 0.2457 - val_accuracy: 0.9283\n",
      "Epoch 23/40\n",
      "86/86 [==============================] - 27s 315ms/step - loss: 0.0087 - accuracy: 0.9964 - val_loss: 0.3060 - val_accuracy: 0.9283\n",
      "Epoch 24/40\n",
      "86/86 [==============================] - 27s 317ms/step - loss: 0.0074 - accuracy: 0.9982 - val_loss: 0.2850 - val_accuracy: 0.9320\n",
      "Epoch 25/40\n",
      "86/86 [==============================] - 28s 325ms/step - loss: 0.0095 - accuracy: 0.9971 - val_loss: 0.2855 - val_accuracy: 0.9265\n",
      "Epoch 26/40\n",
      "86/86 [==============================] - 28s 326ms/step - loss: 0.0092 - accuracy: 0.9964 - val_loss: 0.3312 - val_accuracy: 0.9191\n",
      "Epoch 27/40\n",
      "86/86 [==============================] - 27s 318ms/step - loss: 0.0167 - accuracy: 0.9960 - val_loss: 0.2618 - val_accuracy: 0.9338\n",
      "Epoch 28/40\n",
      "86/86 [==============================] - 28s 328ms/step - loss: 0.0087 - accuracy: 0.9960 - val_loss: 0.2481 - val_accuracy: 0.9430\n",
      "Epoch 29/40\n",
      "86/86 [==============================] - 27s 316ms/step - loss: 0.0056 - accuracy: 0.9978 - val_loss: 0.2497 - val_accuracy: 0.9485\n",
      "Epoch 30/40\n",
      "86/86 [==============================] - 28s 327ms/step - loss: 0.0045 - accuracy: 0.9982 - val_loss: 0.2645 - val_accuracy: 0.9467\n",
      "Epoch 31/40\n",
      "86/86 [==============================] - 27s 318ms/step - loss: 0.0067 - accuracy: 0.9971 - val_loss: 0.3220 - val_accuracy: 0.9320\n",
      "Epoch 32/40\n",
      "86/86 [==============================] - 27s 319ms/step - loss: 0.0063 - accuracy: 0.9978 - val_loss: 0.2831 - val_accuracy: 0.9357\n",
      "Epoch 33/40\n",
      "86/86 [==============================] - 27s 316ms/step - loss: 0.0072 - accuracy: 0.9975 - val_loss: 0.2750 - val_accuracy: 0.9375\n",
      "Epoch 34/40\n",
      "86/86 [==============================] - 27s 317ms/step - loss: 0.0045 - accuracy: 0.9985 - val_loss: 0.2804 - val_accuracy: 0.9375\n",
      "Epoch 35/40\n",
      "86/86 [==============================] - 28s 329ms/step - loss: 0.0097 - accuracy: 0.9967 - val_loss: 0.2710 - val_accuracy: 0.9393\n",
      "Epoch 36/40\n",
      "86/86 [==============================] - 27s 319ms/step - loss: 0.0136 - accuracy: 0.9967 - val_loss: 0.2763 - val_accuracy: 0.9265\n",
      "Epoch 37/40\n",
      "86/86 [==============================] - 27s 316ms/step - loss: 0.0056 - accuracy: 0.9975 - val_loss: 0.2881 - val_accuracy: 0.9246\n",
      "Epoch 38/40\n",
      "86/86 [==============================] - 27s 318ms/step - loss: 0.0042 - accuracy: 0.9993 - val_loss: 0.3058 - val_accuracy: 0.9283\n",
      "Epoch 39/40\n",
      "86/86 [==============================] - 27s 319ms/step - loss: 0.0039 - accuracy: 0.9982 - val_loss: 0.2642 - val_accuracy: 0.9338\n",
      "Epoch 40/40\n",
      "86/86 [==============================] - 28s 321ms/step - loss: 0.0048 - accuracy: 0.9982 - val_loss: 0.2720 - val_accuracy: 0.9412\n"
     ]
    }
   ],
   "source": [
    "with mirrored_strategy.scope():\n",
    "    for layer in base_model.layers:\n",
    "        layer.trainable = True\n",
    "\n",
    "    optimizer = keras.optimizers.SGD(learning_rate=0.01, momentum=0.9,\n",
    "                                     nesterov=True, weight_decay=0.001)\n",
    "    model.compile(loss=\"sparse_categorical_crossentropy\", optimizer=optimizer,\n",
    "                  metrics=[\"accuracy\"])\n",
    "    history = model.fit(train_set,\n",
    "                        steps_per_epoch=int(0.75 * dataset_size / batch_size),\n",
    "                        validation_data=valid_set,\n",
    "                        validation_steps=int(0.15 * dataset_size / batch_size),\n",
    "                        epochs=40)"
   ]
  },
  {
   "cell_type": "code",
   "execution_count": null,
   "id": "90f7fc55",
   "metadata": {
    "papermill": {
     "duration": 0.300307,
     "end_time": "2023-06-23T07:31:38.162467",
     "exception": false,
     "start_time": "2023-06-23T07:31:37.862160",
     "status": "completed"
    },
    "tags": []
   },
   "outputs": [],
   "source": []
  }
 ],
 "metadata": {
  "kernelspec": {
   "display_name": "Python 3",
   "language": "python",
   "name": "python3"
  },
  "language_info": {
   "codemirror_mode": {
    "name": "ipython",
    "version": 3
   },
   "file_extension": ".py",
   "mimetype": "text/x-python",
   "name": "python",
   "nbconvert_exporter": "python",
   "pygments_lexer": "ipython3",
   "version": "3.10.10"
  },
  "papermill": {
   "default_parameters": {},
   "duration": 1243.598817,
   "end_time": "2023-06-23T07:31:42.350041",
   "environment_variables": {},
   "exception": null,
   "input_path": "__notebook__.ipynb",
   "output_path": "__notebook__.ipynb",
   "parameters": {},
   "start_time": "2023-06-23T07:10:58.751224",
   "version": "2.4.0"
  },
  "widgets": {
   "application/vnd.jupyter.widget-state+json": {
    "state": {
     "042574fb1b254c08bbb4165bd0f7ac5d": {
      "model_module": "@jupyter-widgets/controls",
      "model_module_version": "1.5.0",
      "model_name": "ProgressStyleModel",
      "state": {
       "_model_module": "@jupyter-widgets/controls",
       "_model_module_version": "1.5.0",
       "_model_name": "ProgressStyleModel",
       "_view_count": null,
       "_view_module": "@jupyter-widgets/base",
       "_view_module_version": "1.2.0",
       "_view_name": "StyleView",
       "bar_color": null,
       "description_width": ""
      }
     },
     "3039998fc638401fb86ea0df30dc4939": {
      "model_module": "@jupyter-widgets/controls",
      "model_module_version": "1.5.0",
      "model_name": "HTMLModel",
      "state": {
       "_dom_classes": [],
       "_model_module": "@jupyter-widgets/controls",
       "_model_module_version": "1.5.0",
       "_model_name": "HTMLModel",
       "_view_count": null,
       "_view_module": "@jupyter-widgets/controls",
       "_view_module_version": "1.5.0",
       "_view_name": "HTMLView",
       "description": "",
       "description_tooltip": null,
       "layout": "IPY_MODEL_a0789252a0b2403aa30273481cb2a135",
       "placeholder": "​",
       "style": "IPY_MODEL_d449c107bc1e48c89bea86519862babd",
       "value": "Dl Completed...: 100%"
      }
     },
     "4c3b9769f9f64fddac322234258dee5b": {
      "model_module": "@jupyter-widgets/base",
      "model_module_version": "1.2.0",
      "model_name": "LayoutModel",
      "state": {
       "_model_module": "@jupyter-widgets/base",
       "_model_module_version": "1.2.0",
       "_model_name": "LayoutModel",
       "_view_count": null,
       "_view_module": "@jupyter-widgets/base",
       "_view_module_version": "1.2.0",
       "_view_name": "LayoutView",
       "align_content": null,
       "align_items": null,
       "align_self": null,
       "border": null,
       "bottom": null,
       "display": null,
       "flex": null,
       "flex_flow": null,
       "grid_area": null,
       "grid_auto_columns": null,
       "grid_auto_flow": null,
       "grid_auto_rows": null,
       "grid_column": null,
       "grid_gap": null,
       "grid_row": null,
       "grid_template_areas": null,
       "grid_template_columns": null,
       "grid_template_rows": null,
       "height": null,
       "justify_content": null,
       "justify_items": null,
       "left": null,
       "margin": null,
       "max_height": null,
       "max_width": null,
       "min_height": null,
       "min_width": null,
       "object_fit": null,
       "object_position": null,
       "order": null,
       "overflow": null,
       "overflow_x": null,
       "overflow_y": null,
       "padding": null,
       "right": null,
       "top": null,
       "visibility": null,
       "width": null
      }
     },
     "509e115c10e24585bd53991531c2ea67": {
      "model_module": "@jupyter-widgets/controls",
      "model_module_version": "1.5.0",
      "model_name": "HTMLModel",
      "state": {
       "_dom_classes": [],
       "_model_module": "@jupyter-widgets/controls",
       "_model_module_version": "1.5.0",
       "_model_name": "HTMLModel",
       "_view_count": null,
       "_view_module": "@jupyter-widgets/controls",
       "_view_module_version": "1.5.0",
       "_view_name": "HTMLView",
       "description": "",
       "description_tooltip": null,
       "layout": "IPY_MODEL_907086c2edea42cfa8c579ee80194678",
       "placeholder": "​",
       "style": "IPY_MODEL_a692cd956497408388c10da7cca9a39f",
       "value": " 5/5 [00:01&lt;00:00,  4.25 file/s]"
      }
     },
     "6d2352226af64729a6cfb7db306911dd": {
      "model_module": "@jupyter-widgets/controls",
      "model_module_version": "1.5.0",
      "model_name": "FloatProgressModel",
      "state": {
       "_dom_classes": [],
       "_model_module": "@jupyter-widgets/controls",
       "_model_module_version": "1.5.0",
       "_model_name": "FloatProgressModel",
       "_view_count": null,
       "_view_module": "@jupyter-widgets/controls",
       "_view_module_version": "1.5.0",
       "_view_name": "ProgressView",
       "bar_style": "success",
       "description": "",
       "description_tooltip": null,
       "layout": "IPY_MODEL_4c3b9769f9f64fddac322234258dee5b",
       "max": 5.0,
       "min": 0.0,
       "orientation": "horizontal",
       "style": "IPY_MODEL_042574fb1b254c08bbb4165bd0f7ac5d",
       "value": 5.0
      }
     },
     "907086c2edea42cfa8c579ee80194678": {
      "model_module": "@jupyter-widgets/base",
      "model_module_version": "1.2.0",
      "model_name": "LayoutModel",
      "state": {
       "_model_module": "@jupyter-widgets/base",
       "_model_module_version": "1.2.0",
       "_model_name": "LayoutModel",
       "_view_count": null,
       "_view_module": "@jupyter-widgets/base",
       "_view_module_version": "1.2.0",
       "_view_name": "LayoutView",
       "align_content": null,
       "align_items": null,
       "align_self": null,
       "border": null,
       "bottom": null,
       "display": null,
       "flex": null,
       "flex_flow": null,
       "grid_area": null,
       "grid_auto_columns": null,
       "grid_auto_flow": null,
       "grid_auto_rows": null,
       "grid_column": null,
       "grid_gap": null,
       "grid_row": null,
       "grid_template_areas": null,
       "grid_template_columns": null,
       "grid_template_rows": null,
       "height": null,
       "justify_content": null,
       "justify_items": null,
       "left": null,
       "margin": null,
       "max_height": null,
       "max_width": null,
       "min_height": null,
       "min_width": null,
       "object_fit": null,
       "object_position": null,
       "order": null,
       "overflow": null,
       "overflow_x": null,
       "overflow_y": null,
       "padding": null,
       "right": null,
       "top": null,
       "visibility": null,
       "width": null
      }
     },
     "a0789252a0b2403aa30273481cb2a135": {
      "model_module": "@jupyter-widgets/base",
      "model_module_version": "1.2.0",
      "model_name": "LayoutModel",
      "state": {
       "_model_module": "@jupyter-widgets/base",
       "_model_module_version": "1.2.0",
       "_model_name": "LayoutModel",
       "_view_count": null,
       "_view_module": "@jupyter-widgets/base",
       "_view_module_version": "1.2.0",
       "_view_name": "LayoutView",
       "align_content": null,
       "align_items": null,
       "align_self": null,
       "border": null,
       "bottom": null,
       "display": null,
       "flex": null,
       "flex_flow": null,
       "grid_area": null,
       "grid_auto_columns": null,
       "grid_auto_flow": null,
       "grid_auto_rows": null,
       "grid_column": null,
       "grid_gap": null,
       "grid_row": null,
       "grid_template_areas": null,
       "grid_template_columns": null,
       "grid_template_rows": null,
       "height": null,
       "justify_content": null,
       "justify_items": null,
       "left": null,
       "margin": null,
       "max_height": null,
       "max_width": null,
       "min_height": null,
       "min_width": null,
       "object_fit": null,
       "object_position": null,
       "order": null,
       "overflow": null,
       "overflow_x": null,
       "overflow_y": null,
       "padding": null,
       "right": null,
       "top": null,
       "visibility": null,
       "width": null
      }
     },
     "a692cd956497408388c10da7cca9a39f": {
      "model_module": "@jupyter-widgets/controls",
      "model_module_version": "1.5.0",
      "model_name": "DescriptionStyleModel",
      "state": {
       "_model_module": "@jupyter-widgets/controls",
       "_model_module_version": "1.5.0",
       "_model_name": "DescriptionStyleModel",
       "_view_count": null,
       "_view_module": "@jupyter-widgets/base",
       "_view_module_version": "1.2.0",
       "_view_name": "StyleView",
       "description_width": ""
      }
     },
     "bda70fe4ea094666b809dc962760bc3d": {
      "model_module": "@jupyter-widgets/base",
      "model_module_version": "1.2.0",
      "model_name": "LayoutModel",
      "state": {
       "_model_module": "@jupyter-widgets/base",
       "_model_module_version": "1.2.0",
       "_model_name": "LayoutModel",
       "_view_count": null,
       "_view_module": "@jupyter-widgets/base",
       "_view_module_version": "1.2.0",
       "_view_name": "LayoutView",
       "align_content": null,
       "align_items": null,
       "align_self": null,
       "border": null,
       "bottom": null,
       "display": null,
       "flex": null,
       "flex_flow": null,
       "grid_area": null,
       "grid_auto_columns": null,
       "grid_auto_flow": null,
       "grid_auto_rows": null,
       "grid_column": null,
       "grid_gap": null,
       "grid_row": null,
       "grid_template_areas": null,
       "grid_template_columns": null,
       "grid_template_rows": null,
       "height": null,
       "justify_content": null,
       "justify_items": null,
       "left": null,
       "margin": null,
       "max_height": null,
       "max_width": null,
       "min_height": null,
       "min_width": null,
       "object_fit": null,
       "object_position": null,
       "order": null,
       "overflow": null,
       "overflow_x": null,
       "overflow_y": null,
       "padding": null,
       "right": null,
       "top": null,
       "visibility": null,
       "width": null
      }
     },
     "d449c107bc1e48c89bea86519862babd": {
      "model_module": "@jupyter-widgets/controls",
      "model_module_version": "1.5.0",
      "model_name": "DescriptionStyleModel",
      "state": {
       "_model_module": "@jupyter-widgets/controls",
       "_model_module_version": "1.5.0",
       "_model_name": "DescriptionStyleModel",
       "_view_count": null,
       "_view_module": "@jupyter-widgets/base",
       "_view_module_version": "1.2.0",
       "_view_name": "StyleView",
       "description_width": ""
      }
     },
     "e6aec135d4fc4dd784bafca0e792e933": {
      "model_module": "@jupyter-widgets/controls",
      "model_module_version": "1.5.0",
      "model_name": "HBoxModel",
      "state": {
       "_dom_classes": [],
       "_model_module": "@jupyter-widgets/controls",
       "_model_module_version": "1.5.0",
       "_model_name": "HBoxModel",
       "_view_count": null,
       "_view_module": "@jupyter-widgets/controls",
       "_view_module_version": "1.5.0",
       "_view_name": "HBoxView",
       "box_style": "",
       "children": [
        "IPY_MODEL_3039998fc638401fb86ea0df30dc4939",
        "IPY_MODEL_6d2352226af64729a6cfb7db306911dd",
        "IPY_MODEL_509e115c10e24585bd53991531c2ea67"
       ],
       "layout": "IPY_MODEL_bda70fe4ea094666b809dc962760bc3d"
      }
     }
    },
    "version_major": 2,
    "version_minor": 0
   }
  }
 },
 "nbformat": 4,
 "nbformat_minor": 5
}
