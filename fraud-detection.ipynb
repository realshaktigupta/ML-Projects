{
 "cells": [
  {
   "cell_type": "markdown",
   "id": "0fe61cd9",
   "metadata": {
    "papermill": {
     "duration": 0.014088,
     "end_time": "2023-07-23T09:27:34.445370",
     "exception": false,
     "start_time": "2023-07-23T09:27:34.431282",
     "status": "completed"
    },
    "tags": []
   },
   "source": [
    "# Detecting Fraud transactions with High Recall "
   ]
  },
  {
   "cell_type": "markdown",
   "id": "d0a7d336",
   "metadata": {
    "papermill": {
     "duration": 0.013082,
     "end_time": "2023-07-23T09:27:34.472159",
     "exception": false,
     "start_time": "2023-07-23T09:27:34.459077",
     "status": "completed"
    },
    "tags": []
   },
   "source": [
    "First, I install gdown which helps in downloading the file from google drive."
   ]
  },
  {
   "cell_type": "code",
   "execution_count": 1,
   "id": "537792dc",
   "metadata": {
    "execution": {
     "iopub.execute_input": "2023-07-23T09:27:34.502113Z",
     "iopub.status.busy": "2023-07-23T09:27:34.501719Z",
     "iopub.status.idle": "2023-07-23T09:27:49.200965Z",
     "shell.execute_reply": "2023-07-23T09:27:49.199319Z"
    },
    "papermill": {
     "duration": 14.717875,
     "end_time": "2023-07-23T09:27:49.203535",
     "exception": false,
     "start_time": "2023-07-23T09:27:34.485660",
     "status": "completed"
    },
    "tags": []
   },
   "outputs": [
    {
     "name": "stdout",
     "output_type": "stream",
     "text": [
      "Collecting gdown\r\n",
      "  Downloading gdown-4.7.1-py3-none-any.whl (15 kB)\r\n",
      "Requirement already satisfied: filelock in /opt/conda/lib/python3.10/site-packages (from gdown) (3.12.2)\r\n",
      "Requirement already satisfied: requests[socks] in /opt/conda/lib/python3.10/site-packages (from gdown) (2.31.0)\r\n",
      "Requirement already satisfied: six in /opt/conda/lib/python3.10/site-packages (from gdown) (1.16.0)\r\n",
      "Requirement already satisfied: tqdm in /opt/conda/lib/python3.10/site-packages (from gdown) (4.65.0)\r\n",
      "Requirement already satisfied: beautifulsoup4 in /opt/conda/lib/python3.10/site-packages (from gdown) (4.12.2)\r\n",
      "Requirement already satisfied: soupsieve>1.2 in /opt/conda/lib/python3.10/site-packages (from beautifulsoup4->gdown) (2.3.2.post1)\r\n",
      "Requirement already satisfied: charset-normalizer<4,>=2 in /opt/conda/lib/python3.10/site-packages (from requests[socks]->gdown) (3.1.0)\r\n",
      "Requirement already satisfied: idna<4,>=2.5 in /opt/conda/lib/python3.10/site-packages (from requests[socks]->gdown) (3.4)\r\n",
      "Requirement already satisfied: urllib3<3,>=1.21.1 in /opt/conda/lib/python3.10/site-packages (from requests[socks]->gdown) (1.26.15)\r\n",
      "Requirement already satisfied: certifi>=2017.4.17 in /opt/conda/lib/python3.10/site-packages (from requests[socks]->gdown) (2023.5.7)\r\n",
      "Requirement already satisfied: PySocks!=1.5.7,>=1.5.6 in /opt/conda/lib/python3.10/site-packages (from requests[socks]->gdown) (1.7.1)\r\n",
      "Installing collected packages: gdown\r\n",
      "Successfully installed gdown-4.7.1\r\n",
      "Note: you may need to restart the kernel to use updated packages.\n"
     ]
    }
   ],
   "source": [
    "pip install gdown"
   ]
  },
  {
   "cell_type": "code",
   "execution_count": 2,
   "id": "cba326f9",
   "metadata": {
    "_cell_guid": "b1076dfc-b9ad-4769-8c92-a6c4dae69d19",
    "_uuid": "8f2839f25d086af736a60e9eeb907d3b93b6e0e5",
    "execution": {
     "iopub.execute_input": "2023-07-23T09:27:49.234200Z",
     "iopub.status.busy": "2023-07-23T09:27:49.233815Z",
     "iopub.status.idle": "2023-07-23T09:27:51.279517Z",
     "shell.execute_reply": "2023-07-23T09:27:51.278213Z"
    },
    "papermill": {
     "duration": 2.064416,
     "end_time": "2023-07-23T09:27:51.282396",
     "exception": false,
     "start_time": "2023-07-23T09:27:49.217980",
     "status": "completed"
    },
    "tags": []
   },
   "outputs": [
    {
     "name": "stderr",
     "output_type": "stream",
     "text": [
      "/opt/conda/lib/python3.10/site-packages/scipy/__init__.py:146: UserWarning: A NumPy version >=1.16.5 and <1.23.0 is required for this version of SciPy (detected version 1.23.5\n",
      "  warnings.warn(f\"A NumPy version >={np_minversion} and <{np_maxversion}\"\n"
     ]
    }
   ],
   "source": [
    "import numpy as np\n",
    "import pandas as pd\n",
    "import gdown\n",
    "import matplotlib.pyplot as plt\n",
    "from sklearn.model_selection import train_test_split\n",
    "from sklearn.ensemble import RandomForestClassifier\n",
    "from sklearn.metrics import accuracy_score,confusion_matrix,recall_score,precision_score,roc_auc_score\n",
    "from imblearn.over_sampling import SMOTE\n",
    "import plotly.graph_objects as go\n",
    "import gc"
   ]
  },
  {
   "cell_type": "code",
   "execution_count": 3,
   "id": "f6c5319e",
   "metadata": {
    "execution": {
     "iopub.execute_input": "2023-07-23T09:27:51.313462Z",
     "iopub.status.busy": "2023-07-23T09:27:51.312802Z",
     "iopub.status.idle": "2023-07-23T09:27:56.409167Z",
     "shell.execute_reply": "2023-07-23T09:27:56.407936Z"
    },
    "papermill": {
     "duration": 5.115427,
     "end_time": "2023-07-23T09:27:56.412358",
     "exception": false,
     "start_time": "2023-07-23T09:27:51.296931",
     "status": "completed"
    },
    "tags": []
   },
   "outputs": [
    {
     "name": "stderr",
     "output_type": "stream",
     "text": [
      "Downloading...\n",
      "From: https://drive.google.com/uc?export=download&confirm=6gh6&id=1VNpyNkGxHdskfdTNRSjjyNa5qC9u0JyV\n",
      "To: /kaggle/working/Fraud.csv\n",
      "100%|██████████| 494M/494M [00:04<00:00, 112MB/s]\n"
     ]
    },
    {
     "data": {
      "text/plain": [
       "'Fraud.csv'"
      ]
     },
     "execution_count": 3,
     "metadata": {},
     "output_type": "execute_result"
    }
   ],
   "source": [
    "gdown.download(\"https://drive.google.com/uc?export=download&confirm=6gh6&id=1VNpyNkGxHdskfdTNRSjjyNa5qC9u0JyV\")"
   ]
  },
  {
   "cell_type": "code",
   "execution_count": 4,
   "id": "737ea7ee",
   "metadata": {
    "execution": {
     "iopub.execute_input": "2023-07-23T09:27:56.450217Z",
     "iopub.status.busy": "2023-07-23T09:27:56.449484Z",
     "iopub.status.idle": "2023-07-23T09:28:13.557507Z",
     "shell.execute_reply": "2023-07-23T09:28:13.556524Z"
    },
    "papermill": {
     "duration": 17.129428,
     "end_time": "2023-07-23T09:28:13.560310",
     "exception": false,
     "start_time": "2023-07-23T09:27:56.430882",
     "status": "completed"
    },
    "tags": []
   },
   "outputs": [],
   "source": [
    "fraud=pd.read_csv(\"/kaggle/working/Fraud.csv\")"
   ]
  },
  {
   "cell_type": "code",
   "execution_count": 5,
   "id": "438c946c",
   "metadata": {
    "execution": {
     "iopub.execute_input": "2023-07-23T09:28:13.598904Z",
     "iopub.status.busy": "2023-07-23T09:28:13.598170Z",
     "iopub.status.idle": "2023-07-23T09:28:13.627067Z",
     "shell.execute_reply": "2023-07-23T09:28:13.625974Z"
    },
    "papermill": {
     "duration": 0.051118,
     "end_time": "2023-07-23T09:28:13.629484",
     "exception": false,
     "start_time": "2023-07-23T09:28:13.578366",
     "status": "completed"
    },
    "tags": []
   },
   "outputs": [
    {
     "data": {
      "text/html": [
       "<div>\n",
       "<style scoped>\n",
       "    .dataframe tbody tr th:only-of-type {\n",
       "        vertical-align: middle;\n",
       "    }\n",
       "\n",
       "    .dataframe tbody tr th {\n",
       "        vertical-align: top;\n",
       "    }\n",
       "\n",
       "    .dataframe thead th {\n",
       "        text-align: right;\n",
       "    }\n",
       "</style>\n",
       "<table border=\"1\" class=\"dataframe\">\n",
       "  <thead>\n",
       "    <tr style=\"text-align: right;\">\n",
       "      <th></th>\n",
       "      <th>step</th>\n",
       "      <th>type</th>\n",
       "      <th>amount</th>\n",
       "      <th>nameOrig</th>\n",
       "      <th>oldbalanceOrg</th>\n",
       "      <th>newbalanceOrig</th>\n",
       "      <th>nameDest</th>\n",
       "      <th>oldbalanceDest</th>\n",
       "      <th>newbalanceDest</th>\n",
       "      <th>isFraud</th>\n",
       "      <th>isFlaggedFraud</th>\n",
       "    </tr>\n",
       "  </thead>\n",
       "  <tbody>\n",
       "    <tr>\n",
       "      <th>0</th>\n",
       "      <td>1</td>\n",
       "      <td>PAYMENT</td>\n",
       "      <td>9839.64</td>\n",
       "      <td>C1231006815</td>\n",
       "      <td>170136.0</td>\n",
       "      <td>160296.36</td>\n",
       "      <td>M1979787155</td>\n",
       "      <td>0.0</td>\n",
       "      <td>0.0</td>\n",
       "      <td>0</td>\n",
       "      <td>0</td>\n",
       "    </tr>\n",
       "    <tr>\n",
       "      <th>1</th>\n",
       "      <td>1</td>\n",
       "      <td>PAYMENT</td>\n",
       "      <td>1864.28</td>\n",
       "      <td>C1666544295</td>\n",
       "      <td>21249.0</td>\n",
       "      <td>19384.72</td>\n",
       "      <td>M2044282225</td>\n",
       "      <td>0.0</td>\n",
       "      <td>0.0</td>\n",
       "      <td>0</td>\n",
       "      <td>0</td>\n",
       "    </tr>\n",
       "    <tr>\n",
       "      <th>2</th>\n",
       "      <td>1</td>\n",
       "      <td>TRANSFER</td>\n",
       "      <td>181.00</td>\n",
       "      <td>C1305486145</td>\n",
       "      <td>181.0</td>\n",
       "      <td>0.00</td>\n",
       "      <td>C553264065</td>\n",
       "      <td>0.0</td>\n",
       "      <td>0.0</td>\n",
       "      <td>1</td>\n",
       "      <td>0</td>\n",
       "    </tr>\n",
       "    <tr>\n",
       "      <th>3</th>\n",
       "      <td>1</td>\n",
       "      <td>CASH_OUT</td>\n",
       "      <td>181.00</td>\n",
       "      <td>C840083671</td>\n",
       "      <td>181.0</td>\n",
       "      <td>0.00</td>\n",
       "      <td>C38997010</td>\n",
       "      <td>21182.0</td>\n",
       "      <td>0.0</td>\n",
       "      <td>1</td>\n",
       "      <td>0</td>\n",
       "    </tr>\n",
       "    <tr>\n",
       "      <th>4</th>\n",
       "      <td>1</td>\n",
       "      <td>PAYMENT</td>\n",
       "      <td>11668.14</td>\n",
       "      <td>C2048537720</td>\n",
       "      <td>41554.0</td>\n",
       "      <td>29885.86</td>\n",
       "      <td>M1230701703</td>\n",
       "      <td>0.0</td>\n",
       "      <td>0.0</td>\n",
       "      <td>0</td>\n",
       "      <td>0</td>\n",
       "    </tr>\n",
       "  </tbody>\n",
       "</table>\n",
       "</div>"
      ],
      "text/plain": [
       "   step      type    amount     nameOrig  oldbalanceOrg  newbalanceOrig  \\\n",
       "0     1   PAYMENT   9839.64  C1231006815       170136.0       160296.36   \n",
       "1     1   PAYMENT   1864.28  C1666544295        21249.0        19384.72   \n",
       "2     1  TRANSFER    181.00  C1305486145          181.0            0.00   \n",
       "3     1  CASH_OUT    181.00   C840083671          181.0            0.00   \n",
       "4     1   PAYMENT  11668.14  C2048537720        41554.0        29885.86   \n",
       "\n",
       "      nameDest  oldbalanceDest  newbalanceDest  isFraud  isFlaggedFraud  \n",
       "0  M1979787155             0.0             0.0        0               0  \n",
       "1  M2044282225             0.0             0.0        0               0  \n",
       "2   C553264065             0.0             0.0        1               0  \n",
       "3    C38997010         21182.0             0.0        1               0  \n",
       "4  M1230701703             0.0             0.0        0               0  "
      ]
     },
     "execution_count": 5,
     "metadata": {},
     "output_type": "execute_result"
    }
   ],
   "source": [
    "fraud.head()"
   ]
  },
  {
   "cell_type": "markdown",
   "id": "a40c8aba",
   "metadata": {
    "papermill": {
     "duration": 0.0173,
     "end_time": "2023-07-23T09:28:13.664494",
     "exception": false,
     "start_time": "2023-07-23T09:28:13.647194",
     "status": "completed"
    },
    "tags": []
   },
   "source": [
    "Now as mentioned in the data dictionary, this is a time series data and the step column represents the time. I try to explore the data to come to some conclusions about it."
   ]
  },
  {
   "cell_type": "markdown",
   "id": "ffeacace",
   "metadata": {
    "papermill": {
     "duration": 0.017159,
     "end_time": "2023-07-23T09:28:13.699835",
     "exception": false,
     "start_time": "2023-07-23T09:28:13.682676",
     "status": "completed"
    },
    "tags": []
   },
   "source": [
    "First, I check if the data contains any NULL values or not. As the following cell shows, the data doesn't contain any NULL values."
   ]
  },
  {
   "cell_type": "code",
   "execution_count": 6,
   "id": "72bb2f8e",
   "metadata": {
    "execution": {
     "iopub.execute_input": "2023-07-23T09:28:13.736659Z",
     "iopub.status.busy": "2023-07-23T09:28:13.736184Z",
     "iopub.status.idle": "2023-07-23T09:28:19.954878Z",
     "shell.execute_reply": "2023-07-23T09:28:19.953819Z"
    },
    "papermill": {
     "duration": 6.239798,
     "end_time": "2023-07-23T09:28:19.957146",
     "exception": false,
     "start_time": "2023-07-23T09:28:13.717348",
     "status": "completed"
    },
    "tags": []
   },
   "outputs": [
    {
     "data": {
      "text/plain": [
       "False"
      ]
     },
     "execution_count": 6,
     "metadata": {},
     "output_type": "execute_result"
    }
   ],
   "source": [
    "fraud.isnull().any().any()"
   ]
  },
  {
   "cell_type": "markdown",
   "id": "7685a368",
   "metadata": {
    "papermill": {
     "duration": 0.017366,
     "end_time": "2023-07-23T09:28:19.992199",
     "exception": false,
     "start_time": "2023-07-23T09:28:19.974833",
     "status": "completed"
    },
    "tags": []
   },
   "source": [
    "Now as mentioned in the data dictionary, the letters C and M in the 'nameOrig' and 'nameDest' column indicate the type of customer from which the transaction is originating and is destined for respectively.\n",
    "As the following Cell shows, all transactions in this data originate from customers only."
   ]
  },
  {
   "cell_type": "code",
   "execution_count": 7,
   "id": "80ec3716",
   "metadata": {
    "execution": {
     "iopub.execute_input": "2023-07-23T09:28:20.029412Z",
     "iopub.status.busy": "2023-07-23T09:28:20.029022Z",
     "iopub.status.idle": "2023-07-23T09:28:23.910783Z",
     "shell.execute_reply": "2023-07-23T09:28:23.909644Z"
    },
    "papermill": {
     "duration": 3.90343,
     "end_time": "2023-07-23T09:28:23.913234",
     "exception": false,
     "start_time": "2023-07-23T09:28:20.009804",
     "status": "completed"
    },
    "tags": []
   },
   "outputs": [
    {
     "data": {
      "text/plain": [
       "array(['C'], dtype='<U1')"
      ]
     },
     "execution_count": 7,
     "metadata": {},
     "output_type": "execute_result"
    }
   ],
   "source": [
    "np.unique(np.array([x[0] for x in fraud['nameOrig']]))"
   ]
  },
  {
   "cell_type": "markdown",
   "id": "19fe940d",
   "metadata": {
    "papermill": {
     "duration": 0.017606,
     "end_time": "2023-07-23T09:28:23.948717",
     "exception": false,
     "start_time": "2023-07-23T09:28:23.931111",
     "status": "completed"
    },
    "tags": []
   },
   "source": [
    "However, transactions in this data are destined for both Customers and Merchants."
   ]
  },
  {
   "cell_type": "code",
   "execution_count": 8,
   "id": "407a25e3",
   "metadata": {
    "execution": {
     "iopub.execute_input": "2023-07-23T09:28:23.987056Z",
     "iopub.status.busy": "2023-07-23T09:28:23.985895Z",
     "iopub.status.idle": "2023-07-23T09:28:27.898298Z",
     "shell.execute_reply": "2023-07-23T09:28:27.897129Z"
    },
    "papermill": {
     "duration": 3.93445,
     "end_time": "2023-07-23T09:28:27.900999",
     "exception": false,
     "start_time": "2023-07-23T09:28:23.966549",
     "status": "completed"
    },
    "tags": []
   },
   "outputs": [
    {
     "data": {
      "text/plain": [
       "array(['C', 'M'], dtype='<U1')"
      ]
     },
     "execution_count": 8,
     "metadata": {},
     "output_type": "execute_result"
    }
   ],
   "source": [
    "np.unique(np.array([x[0] for x in fraud['nameDest']]))"
   ]
  },
  {
   "cell_type": "code",
   "execution_count": 9,
   "id": "635925f6",
   "metadata": {
    "execution": {
     "iopub.execute_input": "2023-07-23T09:28:27.938782Z",
     "iopub.status.busy": "2023-07-23T09:28:27.938353Z",
     "iopub.status.idle": "2023-07-23T09:28:41.017823Z",
     "shell.execute_reply": "2023-07-23T09:28:41.016677Z"
    },
    "papermill": {
     "duration": 13.101044,
     "end_time": "2023-07-23T09:28:41.020135",
     "exception": false,
     "start_time": "2023-07-23T09:28:27.919091",
     "status": "completed"
    },
    "tags": []
   },
   "outputs": [
    {
     "data": {
      "text/plain": [
       "array(['CASH_IN', 'CASH_OUT', 'DEBIT', 'PAYMENT', 'TRANSFER'],\n",
       "      dtype=object)"
      ]
     },
     "execution_count": 9,
     "metadata": {},
     "output_type": "execute_result"
    }
   ],
   "source": [
    "np.unique(fraud['type'])"
   ]
  },
  {
   "cell_type": "markdown",
   "id": "0d073883",
   "metadata": {
    "papermill": {
     "duration": 0.018481,
     "end_time": "2023-07-23T09:28:41.057114",
     "exception": false,
     "start_time": "2023-07-23T09:28:41.038633",
     "status": "completed"
    },
    "tags": []
   },
   "source": [
    "Now,as the above cell shows, there are 5 different types of transactions in this dataset. Some types could have a higher correlation fraud compared to other types. It makes sense to do a one-hot encoding of this Column and add that to the dataset and then drop this column, which is done in the preprocessing function in the cell below.\n",
    "\n",
    "Also, since the 'nameOrig' column contains customers of a single type, it make sense to remove the prefix letter from the 'nameOrig' column and just retain the number. The 'nameDest' column contains customers of both types, so I create a new column named 'Desttype' containing the destination customer type. At the same time,I also removing the prefix indicating the customer type in the 'nameDest' column. And at last, I one-hot encode the new column 'Desttype' as it contains categorical values from two different categories and add it to the dataset while ultimately dropping the 'type' and 'Desttype' columns as the data they contain is already available in other columns.  All this is implemented via the preprocessing function defined in the cell below."
   ]
  },
  {
   "cell_type": "code",
   "execution_count": 10,
   "id": "a766e02d",
   "metadata": {
    "execution": {
     "iopub.execute_input": "2023-07-23T09:28:41.095138Z",
     "iopub.status.busy": "2023-07-23T09:28:41.094756Z",
     "iopub.status.idle": "2023-07-23T09:28:41.103039Z",
     "shell.execute_reply": "2023-07-23T09:28:41.101968Z"
    },
    "papermill": {
     "duration": 0.029819,
     "end_time": "2023-07-23T09:28:41.105129",
     "exception": false,
     "start_time": "2023-07-23T09:28:41.075310",
     "status": "completed"
    },
    "tags": []
   },
   "outputs": [],
   "source": [
    "def preprocessing(df):\n",
    "    df['nameOrig']=np.array([x[1:] for x in df['nameOrig']]).astype(np.int64) #removing the prefix letter C indicating customer type from 'nameOrig' column\n",
    "    df['Desttype']=[x[0] for x in df['nameDest']] #extracting the prefix letter indicating customer type from the 'nameDest' column and creating a new column\n",
    "    df['nameDest']=np.array([x[1:] for x in df['nameDest']]).astype(np.int64) #extracting the prefix letter indicating customer type from the 'nameDest' column\n",
    "    dummies=pd.get_dummies(df,columns=['type','Desttype']) #one-hot-encoding \n",
    "    for column in dummies.columns:\n",
    "        df[column]=dummies[column]\n",
    "    df=df.drop(['type','Desttype'],axis=1) \n",
    "    return df"
   ]
  },
  {
   "cell_type": "code",
   "execution_count": 11,
   "id": "2bc612ec",
   "metadata": {
    "execution": {
     "iopub.execute_input": "2023-07-23T09:28:41.143426Z",
     "iopub.status.busy": "2023-07-23T09:28:41.143048Z",
     "iopub.status.idle": "2023-07-23T09:29:04.606368Z",
     "shell.execute_reply": "2023-07-23T09:29:04.605094Z"
    },
    "papermill": {
     "duration": 23.485703,
     "end_time": "2023-07-23T09:29:04.609106",
     "exception": false,
     "start_time": "2023-07-23T09:28:41.123403",
     "status": "completed"
    },
    "tags": []
   },
   "outputs": [],
   "source": [
    "fraud=preprocessing(fraud)"
   ]
  },
  {
   "cell_type": "code",
   "execution_count": 12,
   "id": "daa218dc",
   "metadata": {
    "execution": {
     "iopub.execute_input": "2023-07-23T09:29:04.647756Z",
     "iopub.status.busy": "2023-07-23T09:29:04.646657Z",
     "iopub.status.idle": "2023-07-23T09:29:04.666941Z",
     "shell.execute_reply": "2023-07-23T09:29:04.665878Z"
    },
    "papermill": {
     "duration": 0.041768,
     "end_time": "2023-07-23T09:29:04.669248",
     "exception": false,
     "start_time": "2023-07-23T09:29:04.627480",
     "status": "completed"
    },
    "tags": []
   },
   "outputs": [
    {
     "data": {
      "text/html": [
       "<div>\n",
       "<style scoped>\n",
       "    .dataframe tbody tr th:only-of-type {\n",
       "        vertical-align: middle;\n",
       "    }\n",
       "\n",
       "    .dataframe tbody tr th {\n",
       "        vertical-align: top;\n",
       "    }\n",
       "\n",
       "    .dataframe thead th {\n",
       "        text-align: right;\n",
       "    }\n",
       "</style>\n",
       "<table border=\"1\" class=\"dataframe\">\n",
       "  <thead>\n",
       "    <tr style=\"text-align: right;\">\n",
       "      <th></th>\n",
       "      <th>step</th>\n",
       "      <th>amount</th>\n",
       "      <th>nameOrig</th>\n",
       "      <th>oldbalanceOrg</th>\n",
       "      <th>newbalanceOrig</th>\n",
       "      <th>nameDest</th>\n",
       "      <th>oldbalanceDest</th>\n",
       "      <th>newbalanceDest</th>\n",
       "      <th>isFraud</th>\n",
       "      <th>isFlaggedFraud</th>\n",
       "      <th>type_CASH_IN</th>\n",
       "      <th>type_CASH_OUT</th>\n",
       "      <th>type_DEBIT</th>\n",
       "      <th>type_PAYMENT</th>\n",
       "      <th>type_TRANSFER</th>\n",
       "      <th>Desttype_C</th>\n",
       "      <th>Desttype_M</th>\n",
       "    </tr>\n",
       "  </thead>\n",
       "  <tbody>\n",
       "    <tr>\n",
       "      <th>0</th>\n",
       "      <td>1</td>\n",
       "      <td>9839.64</td>\n",
       "      <td>1231006815</td>\n",
       "      <td>170136.0</td>\n",
       "      <td>160296.36</td>\n",
       "      <td>1979787155</td>\n",
       "      <td>0.0</td>\n",
       "      <td>0.0</td>\n",
       "      <td>0</td>\n",
       "      <td>0</td>\n",
       "      <td>0</td>\n",
       "      <td>0</td>\n",
       "      <td>0</td>\n",
       "      <td>1</td>\n",
       "      <td>0</td>\n",
       "      <td>0</td>\n",
       "      <td>1</td>\n",
       "    </tr>\n",
       "    <tr>\n",
       "      <th>1</th>\n",
       "      <td>1</td>\n",
       "      <td>1864.28</td>\n",
       "      <td>1666544295</td>\n",
       "      <td>21249.0</td>\n",
       "      <td>19384.72</td>\n",
       "      <td>2044282225</td>\n",
       "      <td>0.0</td>\n",
       "      <td>0.0</td>\n",
       "      <td>0</td>\n",
       "      <td>0</td>\n",
       "      <td>0</td>\n",
       "      <td>0</td>\n",
       "      <td>0</td>\n",
       "      <td>1</td>\n",
       "      <td>0</td>\n",
       "      <td>0</td>\n",
       "      <td>1</td>\n",
       "    </tr>\n",
       "    <tr>\n",
       "      <th>2</th>\n",
       "      <td>1</td>\n",
       "      <td>181.00</td>\n",
       "      <td>1305486145</td>\n",
       "      <td>181.0</td>\n",
       "      <td>0.00</td>\n",
       "      <td>553264065</td>\n",
       "      <td>0.0</td>\n",
       "      <td>0.0</td>\n",
       "      <td>1</td>\n",
       "      <td>0</td>\n",
       "      <td>0</td>\n",
       "      <td>0</td>\n",
       "      <td>0</td>\n",
       "      <td>0</td>\n",
       "      <td>1</td>\n",
       "      <td>1</td>\n",
       "      <td>0</td>\n",
       "    </tr>\n",
       "    <tr>\n",
       "      <th>3</th>\n",
       "      <td>1</td>\n",
       "      <td>181.00</td>\n",
       "      <td>840083671</td>\n",
       "      <td>181.0</td>\n",
       "      <td>0.00</td>\n",
       "      <td>38997010</td>\n",
       "      <td>21182.0</td>\n",
       "      <td>0.0</td>\n",
       "      <td>1</td>\n",
       "      <td>0</td>\n",
       "      <td>0</td>\n",
       "      <td>1</td>\n",
       "      <td>0</td>\n",
       "      <td>0</td>\n",
       "      <td>0</td>\n",
       "      <td>1</td>\n",
       "      <td>0</td>\n",
       "    </tr>\n",
       "    <tr>\n",
       "      <th>4</th>\n",
       "      <td>1</td>\n",
       "      <td>11668.14</td>\n",
       "      <td>2048537720</td>\n",
       "      <td>41554.0</td>\n",
       "      <td>29885.86</td>\n",
       "      <td>1230701703</td>\n",
       "      <td>0.0</td>\n",
       "      <td>0.0</td>\n",
       "      <td>0</td>\n",
       "      <td>0</td>\n",
       "      <td>0</td>\n",
       "      <td>0</td>\n",
       "      <td>0</td>\n",
       "      <td>1</td>\n",
       "      <td>0</td>\n",
       "      <td>0</td>\n",
       "      <td>1</td>\n",
       "    </tr>\n",
       "  </tbody>\n",
       "</table>\n",
       "</div>"
      ],
      "text/plain": [
       "   step    amount    nameOrig  oldbalanceOrg  newbalanceOrig    nameDest  \\\n",
       "0     1   9839.64  1231006815       170136.0       160296.36  1979787155   \n",
       "1     1   1864.28  1666544295        21249.0        19384.72  2044282225   \n",
       "2     1    181.00  1305486145          181.0            0.00   553264065   \n",
       "3     1    181.00   840083671          181.0            0.00    38997010   \n",
       "4     1  11668.14  2048537720        41554.0        29885.86  1230701703   \n",
       "\n",
       "   oldbalanceDest  newbalanceDest  isFraud  isFlaggedFraud  type_CASH_IN  \\\n",
       "0             0.0             0.0        0               0             0   \n",
       "1             0.0             0.0        0               0             0   \n",
       "2             0.0             0.0        1               0             0   \n",
       "3         21182.0             0.0        1               0             0   \n",
       "4             0.0             0.0        0               0             0   \n",
       "\n",
       "   type_CASH_OUT  type_DEBIT  type_PAYMENT  type_TRANSFER  Desttype_C  \\\n",
       "0              0           0             1              0           0   \n",
       "1              0           0             1              0           0   \n",
       "2              0           0             0              1           1   \n",
       "3              1           0             0              0           1   \n",
       "4              0           0             1              0           0   \n",
       "\n",
       "   Desttype_M  \n",
       "0           1  \n",
       "1           1  \n",
       "2           0  \n",
       "3           0  \n",
       "4           1  "
      ]
     },
     "execution_count": 12,
     "metadata": {},
     "output_type": "execute_result"
    }
   ],
   "source": [
    "fraud.head()"
   ]
  },
  {
   "cell_type": "markdown",
   "id": "32c494e8",
   "metadata": {
    "papermill": {
     "duration": 0.018145,
     "end_time": "2023-07-23T09:29:04.706117",
     "exception": false,
     "start_time": "2023-07-23T09:29:04.687972",
     "status": "completed"
    },
    "tags": []
   },
   "source": [
    "As it can be seen above, we have a much cleaner dataset.\n",
    "\n",
    "Now, I try and analyse whether the system is currently able to flag fraud transactions efficiently or not."
   ]
  },
  {
   "cell_type": "code",
   "execution_count": 13,
   "id": "a717c46e",
   "metadata": {
    "execution": {
     "iopub.execute_input": "2023-07-23T09:29:04.744840Z",
     "iopub.status.busy": "2023-07-23T09:29:04.744392Z",
     "iopub.status.idle": "2023-07-23T09:29:05.182865Z",
     "shell.execute_reply": "2023-07-23T09:29:05.182082Z"
    },
    "papermill": {
     "duration": 0.460703,
     "end_time": "2023-07-23T09:29:05.185198",
     "exception": false,
     "start_time": "2023-07-23T09:29:04.724495",
     "status": "completed"
    },
    "tags": []
   },
   "outputs": [
    {
     "name": "stdout",
     "output_type": "stream",
     "text": [
      "No. of fraud transactions:  8213 \n",
      "No. of fraud transactions which were flagged fraud:  16 \n",
      " No. of fraud transactions which were not flagged fraud:  8197 \n",
      " No. of genuine transactions which were falsely flagged fraud :  0\n"
     ]
    }
   ],
   "source": [
    "fraud_transactions=fraud.loc[fraud[\"isFraud\"]==1]\n",
    "fraud_and_flagged_fraud_transactions=fraud_transactions.loc[fraud_transactions[\"isFlaggedFraud\"]==1]\n",
    "fraud_and_not_flagged_fraud_transactions=fraud_transactions.loc[fraud_transactions[\"isFlaggedFraud\"]==0]\n",
    "false_flags=fraud.loc[fraud[\"isFlaggedFraud\"]==1].loc[fraud[\"isFraud\"]==0]\n",
    "print(\"No. of fraud transactions: \",len(fraud_transactions),\n",
    "      \"\\nNo. of fraud transactions which were flagged fraud: \",len(fraud_and_flagged_fraud_transactions),\n",
    "      \"\\n No. of fraud transactions which were not flagged fraud: \",len(fraud_and_not_flagged_fraud_transactions),\n",
    "      \"\\n No. of genuine transactions which were falsely flagged fraud : \",len(false_flags))"
   ]
  },
  {
   "cell_type": "markdown",
   "id": "ca369f50",
   "metadata": {
    "papermill": {
     "duration": 0.018196,
     "end_time": "2023-07-23T09:29:05.222209",
     "exception": false,
     "start_time": "2023-07-23T09:29:05.204013",
     "status": "completed"
    },
    "tags": []
   },
   "source": [
    "So, here lies the problem. The fraud detection algorithms in place are not all accurate enough to detect the fraud transactions. As it can be observed from the above cell that the fraud detection algorithm can only detect 16 out 8213 fraud transactions."
   ]
  },
  {
   "cell_type": "markdown",
   "id": "fe0159e8",
   "metadata": {
    "papermill": {
     "duration": 0.018269,
     "end_time": "2023-07-23T09:29:05.259150",
     "exception": false,
     "start_time": "2023-07-23T09:29:05.240881",
     "status": "completed"
    },
    "tags": []
   },
   "source": [
    "To check correlation among the columns, I plot the correlation matrix."
   ]
  },
  {
   "cell_type": "code",
   "execution_count": 14,
   "id": "5858c60e",
   "metadata": {
    "execution": {
     "iopub.execute_input": "2023-07-23T09:29:05.298538Z",
     "iopub.status.busy": "2023-07-23T09:29:05.297687Z",
     "iopub.status.idle": "2023-07-23T09:29:12.832532Z",
     "shell.execute_reply": "2023-07-23T09:29:12.831622Z"
    },
    "papermill": {
     "duration": 7.557344,
     "end_time": "2023-07-23T09:29:12.835116",
     "exception": false,
     "start_time": "2023-07-23T09:29:05.277772",
     "status": "completed"
    },
    "tags": []
   },
   "outputs": [
    {
     "data": {
      "image/png": "[encoded data removed]",
      "text/plain": [
       "<Figure size 500x500 with 2 Axes>"
      ]
     },
     "metadata": {},
     "output_type": "display_data"
    }
   ],
   "source": [
    "f=plt.figure(figsize=(5,5))\n",
    "plt.matshow(fraud.corr(numeric_only=False),fignum=f.number)\n",
    "plt.xticks(range(fraud.select_dtypes(['number','object']).shape[1]),fraud.select_dtypes(['number','object']).columns,fontsize=14,rotation=90)\n",
    "plt.yticks(range(fraud.select_dtypes(['number','object']).shape[1]),fraud.select_dtypes(['number','object']).columns,fontsize=14)\n",
    "cb = plt.colorbar()\n",
    "cb.ax.tick_params(labelsize=14)\n",
    "plt.title('Correlation Matrix',fontsize=16);"
   ]
  },
  {
   "cell_type": "markdown",
   "id": "4b34f602",
   "metadata": {
    "papermill": {
     "duration": 0.020099,
     "end_time": "2023-07-23T09:29:12.875724",
     "exception": false,
     "start_time": "2023-07-23T09:29:12.855625",
     "status": "completed"
    },
    "tags": []
   },
   "source": [
    "From here it can be seen that newbalanceOrig and oldbalanceOrig columns have very high correlation(Almost 1). So,dropping one of these makes sense. I will be dropping the newbalanceOrig column. There is not much clear and useful info here apart from this,so, I check the correlation coefficients of the columns with the 'isFraud' column only to gather some detailed insight."
   ]
  },
  {
   "cell_type": "code",
   "execution_count": 15,
   "id": "3400cc16",
   "metadata": {
    "execution": {
     "iopub.execute_input": "2023-07-23T09:29:12.919387Z",
     "iopub.status.busy": "2023-07-23T09:29:12.918511Z",
     "iopub.status.idle": "2023-07-23T09:29:18.610351Z",
     "shell.execute_reply": "2023-07-23T09:29:18.609256Z"
    },
    "papermill": {
     "duration": 5.716096,
     "end_time": "2023-07-23T09:29:18.612853",
     "exception": false,
     "start_time": "2023-07-23T09:29:12.896757",
     "status": "completed"
    },
    "tags": []
   },
   "outputs": [
    {
     "data": {
      "text/plain": [
       "isFraud           1.000000\n",
       "amount            0.076688\n",
       "type_TRANSFER     0.053869\n",
       "isFlaggedFraud    0.044109\n",
       "step              0.031578\n",
       "Desttype_C        0.025697\n",
       "type_CASH_OUT     0.011256\n",
       "oldbalanceOrg     0.010154\n",
       "newbalanceDest    0.000535\n",
       "nameOrig          0.000470\n",
       "nameDest         -0.000141\n",
       "type_DEBIT       -0.002911\n",
       "oldbalanceDest   -0.005885\n",
       "newbalanceOrig   -0.008148\n",
       "type_CASH_IN     -0.019089\n",
       "type_PAYMENT     -0.025697\n",
       "Desttype_M       -0.025697\n",
       "Name: isFraud, dtype: float64"
      ]
     },
     "execution_count": 15,
     "metadata": {},
     "output_type": "execute_result"
    }
   ],
   "source": [
    "fraud.corr(numeric_only=False)[\"isFraud\"].sort_values(ascending=False)"
   ]
  },
  {
   "cell_type": "markdown",
   "id": "372c7c12",
   "metadata": {
    "papermill": {
     "duration": 0.020881,
     "end_time": "2023-07-23T09:29:18.654432",
     "exception": false,
     "start_time": "2023-07-23T09:29:18.633551",
     "status": "completed"
    },
    "tags": []
   },
   "source": [
    "Upon taking a look at the coefficients above,some conclusions can be made:- \n",
    "\n",
    "1.The amount of transaction is a  key factor in behind whether a transaction is fraud or not. \n",
    "\n",
    "2.Also,TRANSFER and CASH_OUT transactions are relatively more likely to be fraud than other kinds of transactions. \n",
    "\n",
    "3.Most fraud transactions have a destination customer of type 'C', and transactions destined for merchants are very less likely to be fraud. \n",
    "\n",
    "4.The higher the initial balance in the origin account before the transaction,more is the chances of it being susceptible to a fraud transaction.This completely makes sense as scammers are more likely to target higher value accounts.\n",
    "\n",
    "5.The time when the transaction occurs is also marginally related to the chances of the transaction being fraud.\n",
    "\n",
    "6.The balance in the destination account is marginally positively related to the possibilty of a transaction being fraud.\n",
    "\n",
    "7.The name of the customer from which the transaction originates is also marginally positively related to the possibilty of a transaction being fraud.\n",
    "\n",
    "Most of these observations make sense except for maybe observation no. 7.\n",
    "\n",
    "Now,both the name columns are not exactly numerical columns but they are rather categorical columns as they represent individual customer names. Now as shown in the cell below, the no. of such names is very high."
   ]
  },
  {
   "cell_type": "code",
   "execution_count": 16,
   "id": "e198631a",
   "metadata": {
    "execution": {
     "iopub.execute_input": "2023-07-23T09:29:18.698974Z",
     "iopub.status.busy": "2023-07-23T09:29:18.697997Z",
     "iopub.status.idle": "2023-07-23T09:29:19.435609Z",
     "shell.execute_reply": "2023-07-23T09:29:19.434313Z"
    },
    "papermill": {
     "duration": 0.762744,
     "end_time": "2023-07-23T09:29:19.438150",
     "exception": false,
     "start_time": "2023-07-23T09:29:18.675406",
     "status": "completed"
    },
    "tags": []
   },
   "outputs": [
    {
     "data": {
      "text/plain": [
       "6356312"
      ]
     },
     "execution_count": 16,
     "metadata": {},
     "output_type": "execute_result"
    }
   ],
   "source": [
    "len(np.unique(fraud['nameOrig']+fraud['nameDest']))"
   ]
  },
  {
   "cell_type": "markdown",
   "id": "20a593f0",
   "metadata": {
    "papermill": {
     "duration": 0.020586,
     "end_time": "2023-07-23T09:29:19.479349",
     "exception": false,
     "start_time": "2023-07-23T09:29:19.458763",
     "status": "completed"
    },
    "tags": []
   },
   "source": [
    "Encoding these many names in order to feed it to the dataset does not sound rational as the correlation coefficient of 'nameOrig' is just 0.000470 and that of 'nameDest' is an even lower -0.025697.  It makes more sense to drop these columns before feeding the data to the model. This is done in final_split_data() function in the below cell which also performs Min-Max scaling on the data, which is entirely numerical at this point.\n",
    "\n",
    "In the function, The 'isFlaggedFraud' column is also dropped as it doesn't contribute much in determining whether the transaction is fraud or not as the flagging algorithm is very weak.Also, I aim to make the model independent of time in order to have a more robust model so the time indicator column named 'step' is also dropped. \n",
    "\n",
    "Also,the function splits the data into train and test sets and returns it. #Since, this is time series data, special care is taken to ensure that data is split along the time dimension. The train set contains the first 50% length of the data,and the remaining 50% is in the test set.#"
   ]
  },
  {
   "cell_type": "code",
   "execution_count": 17,
   "id": "505ac1b8",
   "metadata": {
    "execution": {
     "iopub.execute_input": "2023-07-23T09:29:19.522844Z",
     "iopub.status.busy": "2023-07-23T09:29:19.522126Z",
     "iopub.status.idle": "2023-07-23T09:29:19.530129Z",
     "shell.execute_reply": "2023-07-23T09:29:19.529051Z"
    },
    "papermill": {
     "duration": 0.032734,
     "end_time": "2023-07-23T09:29:19.532706",
     "exception": false,
     "start_time": "2023-07-23T09:29:19.499972",
     "status": "completed"
    },
    "tags": []
   },
   "outputs": [],
   "source": [
    "def final_split_data(df):\n",
    "    df=df.drop([\"nameOrig\",\"nameDest\",\"newbalanceOrig\",\"isFlaggedFraud\",\"step\"],axis=1)\n",
    "    df=(df-df.min())/(df.max()-df.min()+1e-16) #min_max_scaling\n",
    "    X,y=df.drop([\"isFraud\"],axis=1),df[\"isFraud\"]\n",
    "    X_train,X_test,y_train,y_test=train_test_split(X,y,train_size=0.7,random_state=42)\n",
    "    return(X_train,X_test,y_train,y_test)"
   ]
  },
  {
   "cell_type": "code",
   "execution_count": 18,
   "id": "199f8776",
   "metadata": {
    "execution": {
     "iopub.execute_input": "2023-07-23T09:29:19.577884Z",
     "iopub.status.busy": "2023-07-23T09:29:19.577171Z",
     "iopub.status.idle": "2023-07-23T09:29:22.837204Z",
     "shell.execute_reply": "2023-07-23T09:29:22.836007Z"
    },
    "papermill": {
     "duration": 3.2864,
     "end_time": "2023-07-23T09:29:22.839972",
     "exception": false,
     "start_time": "2023-07-23T09:29:19.553572",
     "status": "completed"
    },
    "tags": []
   },
   "outputs": [],
   "source": [
    "X_train,X_test,y_train,y_test=final_split_data(fraud)"
   ]
  },
  {
   "cell_type": "code",
   "execution_count": 19,
   "id": "6f0f56ee",
   "metadata": {
    "execution": {
     "iopub.execute_input": "2023-07-23T09:29:22.882970Z",
     "iopub.status.busy": "2023-07-23T09:29:22.882533Z",
     "iopub.status.idle": "2023-07-23T09:29:22.904679Z",
     "shell.execute_reply": "2023-07-23T09:29:22.903529Z"
    },
    "papermill": {
     "duration": 0.046292,
     "end_time": "2023-07-23T09:29:22.906958",
     "exception": false,
     "start_time": "2023-07-23T09:29:22.860666",
     "status": "completed"
    },
    "tags": []
   },
   "outputs": [
    {
     "data": {
      "text/html": [
       "<div>\n",
       "<style scoped>\n",
       "    .dataframe tbody tr th:only-of-type {\n",
       "        vertical-align: middle;\n",
       "    }\n",
       "\n",
       "    .dataframe tbody tr th {\n",
       "        vertical-align: top;\n",
       "    }\n",
       "\n",
       "    .dataframe thead th {\n",
       "        text-align: right;\n",
       "    }\n",
       "</style>\n",
       "<table border=\"1\" class=\"dataframe\">\n",
       "  <thead>\n",
       "    <tr style=\"text-align: right;\">\n",
       "      <th></th>\n",
       "      <th>amount</th>\n",
       "      <th>oldbalanceOrg</th>\n",
       "      <th>oldbalanceDest</th>\n",
       "      <th>newbalanceDest</th>\n",
       "      <th>type_CASH_IN</th>\n",
       "      <th>type_CASH_OUT</th>\n",
       "      <th>type_DEBIT</th>\n",
       "      <th>type_PAYMENT</th>\n",
       "      <th>type_TRANSFER</th>\n",
       "      <th>Desttype_C</th>\n",
       "      <th>Desttype_M</th>\n",
       "    </tr>\n",
       "  </thead>\n",
       "  <tbody>\n",
       "    <tr>\n",
       "      <th>2408104</th>\n",
       "      <td>0.000290</td>\n",
       "      <td>0.000462</td>\n",
       "      <td>0.020155</td>\n",
       "      <td>0.020071</td>\n",
       "      <td>1.0</td>\n",
       "      <td>0.0</td>\n",
       "      <td>0.0</td>\n",
       "      <td>0.0</td>\n",
       "      <td>0.0</td>\n",
       "      <td>1.0</td>\n",
       "      <td>0.0</td>\n",
       "    </tr>\n",
       "    <tr>\n",
       "      <th>662430</th>\n",
       "      <td>0.003731</td>\n",
       "      <td>0.000000</td>\n",
       "      <td>0.010482</td>\n",
       "      <td>0.011446</td>\n",
       "      <td>0.0</td>\n",
       "      <td>1.0</td>\n",
       "      <td>0.0</td>\n",
       "      <td>0.0</td>\n",
       "      <td>0.0</td>\n",
       "      <td>1.0</td>\n",
       "      <td>0.0</td>\n",
       "    </tr>\n",
       "    <tr>\n",
       "      <th>496595</th>\n",
       "      <td>0.020148</td>\n",
       "      <td>0.000000</td>\n",
       "      <td>0.009353</td>\n",
       "      <td>0.013795</td>\n",
       "      <td>0.0</td>\n",
       "      <td>0.0</td>\n",
       "      <td>0.0</td>\n",
       "      <td>0.0</td>\n",
       "      <td>1.0</td>\n",
       "      <td>1.0</td>\n",
       "      <td>0.0</td>\n",
       "    </tr>\n",
       "    <tr>\n",
       "      <th>5053741</th>\n",
       "      <td>0.000408</td>\n",
       "      <td>0.001119</td>\n",
       "      <td>0.000000</td>\n",
       "      <td>0.000000</td>\n",
       "      <td>0.0</td>\n",
       "      <td>0.0</td>\n",
       "      <td>0.0</td>\n",
       "      <td>1.0</td>\n",
       "      <td>0.0</td>\n",
       "      <td>0.0</td>\n",
       "      <td>1.0</td>\n",
       "    </tr>\n",
       "    <tr>\n",
       "      <th>755621</th>\n",
       "      <td>0.004068</td>\n",
       "      <td>0.000378</td>\n",
       "      <td>0.000512</td>\n",
       "      <td>0.001568</td>\n",
       "      <td>0.0</td>\n",
       "      <td>1.0</td>\n",
       "      <td>0.0</td>\n",
       "      <td>0.0</td>\n",
       "      <td>0.0</td>\n",
       "      <td>1.0</td>\n",
       "      <td>0.0</td>\n",
       "    </tr>\n",
       "  </tbody>\n",
       "</table>\n",
       "</div>"
      ],
      "text/plain": [
       "           amount  oldbalanceOrg  oldbalanceDest  newbalanceDest  \\\n",
       "2408104  0.000290       0.000462        0.020155        0.020071   \n",
       "662430   0.003731       0.000000        0.010482        0.011446   \n",
       "496595   0.020148       0.000000        0.009353        0.013795   \n",
       "5053741  0.000408       0.001119        0.000000        0.000000   \n",
       "755621   0.004068       0.000378        0.000512        0.001568   \n",
       "\n",
       "         type_CASH_IN  type_CASH_OUT  type_DEBIT  type_PAYMENT  type_TRANSFER  \\\n",
       "2408104           1.0            0.0         0.0           0.0            0.0   \n",
       "662430            0.0            1.0         0.0           0.0            0.0   \n",
       "496595            0.0            0.0         0.0           0.0            1.0   \n",
       "5053741           0.0            0.0         0.0           1.0            0.0   \n",
       "755621            0.0            1.0         0.0           0.0            0.0   \n",
       "\n",
       "         Desttype_C  Desttype_M  \n",
       "2408104         1.0         0.0  \n",
       "662430          1.0         0.0  \n",
       "496595          1.0         0.0  \n",
       "5053741         0.0         1.0  \n",
       "755621          1.0         0.0  "
      ]
     },
     "execution_count": 19,
     "metadata": {},
     "output_type": "execute_result"
    }
   ],
   "source": [
    "X_train.head()"
   ]
  },
  {
   "cell_type": "markdown",
   "id": "f98fe35f",
   "metadata": {
    "papermill": {
     "duration": 0.020754,
     "end_time": "2023-07-23T09:29:22.949200",
     "exception": false,
     "start_time": "2023-07-23T09:29:22.928446",
     "status": "completed"
    },
    "tags": []
   },
   "source": [
    "Now, it will be a good idea to free up some RAM by deleting the variables which are no longer needed."
   ]
  },
  {
   "cell_type": "code",
   "execution_count": 20,
   "id": "61bd6990",
   "metadata": {
    "execution": {
     "iopub.execute_input": "2023-07-23T09:29:22.993161Z",
     "iopub.status.busy": "2023-07-23T09:29:22.992733Z",
     "iopub.status.idle": "2023-07-23T09:29:23.151137Z",
     "shell.execute_reply": "2023-07-23T09:29:23.150101Z"
    },
    "papermill": {
     "duration": 0.183211,
     "end_time": "2023-07-23T09:29:23.153411",
     "exception": false,
     "start_time": "2023-07-23T09:29:22.970200",
     "status": "completed"
    },
    "tags": []
   },
   "outputs": [
    {
     "data": {
      "text/plain": [
       "67"
      ]
     },
     "execution_count": 20,
     "metadata": {},
     "output_type": "execute_result"
    }
   ],
   "source": [
    "del fraud,fraud_transactions,fraud_and_flagged_fraud_transactions,fraud_and_not_flagged_fraud_transactions,false_flags\n",
    "gc.collect()"
   ]
  },
  {
   "cell_type": "markdown",
   "id": "14d693ad",
   "metadata": {
    "execution": {
     "iopub.execute_input": "2023-07-23T07:12:01.486421Z",
     "iopub.status.busy": "2023-07-23T07:12:01.485991Z",
     "iopub.status.idle": "2023-07-23T07:12:01.494225Z",
     "shell.execute_reply": "2023-07-23T07:12:01.492194Z",
     "shell.execute_reply.started": "2023-07-23T07:12:01.486387Z"
    },
    "papermill": {
     "duration": 0.021218,
     "end_time": "2023-07-23T09:29:23.196645",
     "exception": false,
     "start_time": "2023-07-23T09:29:23.175427",
     "status": "completed"
    },
    "tags": []
   },
   "source": [
    "Now,I check the balance of the dataset. As the below cell shows, the train set is highly imbalanced in favour of the Genuine transactions, which is not surprising as Fraud transactions are much less common than Genuine Transactions."
   ]
  },
  {
   "cell_type": "code",
   "execution_count": 21,
   "id": "aba1dd23",
   "metadata": {
    "execution": {
     "iopub.execute_input": "2023-07-23T09:29:23.241406Z",
     "iopub.status.busy": "2023-07-23T09:29:23.241020Z",
     "iopub.status.idle": "2023-07-23T09:29:23.538335Z",
     "shell.execute_reply": "2023-07-23T09:29:23.537544Z"
    },
    "papermill": {
     "duration": 0.322332,
     "end_time": "2023-07-23T09:29:23.540609",
     "exception": false,
     "start_time": "2023-07-23T09:29:23.218277",
     "status": "completed"
    },
    "tags": []
   },
   "outputs": [
    {
     "data": {
      "text/html": [
       "        <script type=\"text/javascript\">\n",
       "        window.PlotlyConfig = {MathJaxConfig: 'local'};\n",
       "        if (window.MathJax && window.MathJax.Hub && window.MathJax.Hub.Config) {window.MathJax.Hub.Config({SVG: {font: \"STIX-Web\"}});}\n",
       "        if (typeof require !== 'undefined') {\n",
       "        require.undef(\"plotly\");\n",
       "        requirejs.config({\n",
       "            paths: {\n",
       "                'plotly': ['https://cdn.plot.ly/plotly-2.24.1.min']\n",
       "            }\n",
       "        });\n",
       "        require(['plotly'], function(Plotly) {\n",
       "            window._Plotly = Plotly;\n",
       "        });\n",
       "        }\n",
       "        </script>\n",
       "        "
      ]
     },
     "metadata": {},
     "output_type": "display_data"
    },
    {
     "data": {
      "text/html": [
       "<div>                            <div id=\"ef850de2-64d7-4331-aacc-69f72f73109f\" class=\"plotly-graph-div\" style=\"height:525px; width:100%;\"></div>            <script type=\"text/javascript\">                require([\"plotly\"], function(Plotly) {                    window.PLOTLYENV=window.PLOTLYENV || {};                                    if (document.getElementById(\"ef850de2-64d7-4331-aacc-69f72f73109f\")) {                    Plotly.newPlot(                        \"ef850de2-64d7-4331-aacc-69f72f73109f\",                        [{\"labels\":[\"Genuine\",\"Fraud\"],\"values\":[4448056,5778],\"type\":\"pie\"}],                        {\"template\":{\"data\":{\"histogram2dcontour\":[{\"type\":\"histogram2dcontour\",\"colorbar\":{\"outlinewidth\":0,\"ticks\":\"\"},\"colorscale\":[[0.0,\"#0d0887\"],[0.1111111111111111,\"#46039f\"],[0.2222222222222222,\"#7201a8\"],[0.3333333333333333,\"#9c179e\"],[0.4444444444444444,\"#bd3786\"],[0.5555555555555556,\"#d8576b\"],[0.6666666666666666,\"#ed7953\"],[0.7777777777777778,\"#fb9f3a\"],[0.8888888888888888,\"#fdca26\"],[1.0,\"#f0f921\"]]}],\"choropleth\":[{\"type\":\"choropleth\",\"colorbar\":{\"outlinewidth\":0,\"ticks\":\"\"}}],\"histogram2d\":[{\"type\":\"histogram2d\",\"colorbar\":{\"outlinewidth\":0,\"ticks\":\"\"},\"colorscale\":[[0.0,\"#0d0887\"],[0.1111111111111111,\"#46039f\"],[0.2222222222222222,\"#7201a8\"],[0.3333333333333333,\"#9c179e\"],[0.4444444444444444,\"#bd3786\"],[0.5555555555555556,\"#d8576b\"],[0.6666666666666666,\"#ed7953\"],[0.7777777777777778,\"#fb9f3a\"],[0.8888888888888888,\"#fdca26\"],[1.0,\"#f0f921\"]]}],\"heatmap\":[{\"type\":\"heatmap\",\"colorbar\":{\"outlinewidth\":0,\"ticks\":\"\"},\"colorscale\":[[0.0,\"#0d0887\"],[0.1111111111111111,\"#46039f\"],[0.2222222222222222,\"#7201a8\"],[0.3333333333333333,\"#9c179e\"],[0.4444444444444444,\"#bd3786\"],[0.5555555555555556,\"#d8576b\"],[0.6666666666666666,\"#ed7953\"],[0.7777777777777778,\"#fb9f3a\"],[0.8888888888888888,\"#fdca26\"],[1.0,\"#f0f921\"]]}],\"heatmapgl\":[{\"type\":\"heatmapgl\",\"colorbar\":{\"outlinewidth\":0,\"ticks\":\"\"},\"colorscale\":[[0.0,\"#0d0887\"],[0.1111111111111111,\"#46039f\"],[0.2222222222222222,\"#7201a8\"],[0.3333333333333333,\"#9c179e\"],[0.4444444444444444,\"#bd3786\"],[0.5555555555555556,\"#d8576b\"],[0.6666666666666666,\"#ed7953\"],[0.7777777777777778,\"#fb9f3a\"],[0.8888888888888888,\"#fdca26\"],[1.0,\"#f0f921\"]]}],\"contourcarpet\":[{\"type\":\"contourcarpet\",\"colorbar\":{\"outlinewidth\":0,\"ticks\":\"\"}}],\"contour\":[{\"type\":\"contour\",\"colorbar\":{\"outlinewidth\":0,\"ticks\":\"\"},\"colorscale\":[[0.0,\"#0d0887\"],[0.1111111111111111,\"#46039f\"],[0.2222222222222222,\"#7201a8\"],[0.3333333333333333,\"#9c179e\"],[0.4444444444444444,\"#bd3786\"],[0.5555555555555556,\"#d8576b\"],[0.6666666666666666,\"#ed7953\"],[0.7777777777777778,\"#fb9f3a\"],[0.8888888888888888,\"#fdca26\"],[1.0,\"#f0f921\"]]}],\"surface\":[{\"type\":\"surface\",\"colorbar\":{\"outlinewidth\":0,\"ticks\":\"\"},\"colorscale\":[[0.0,\"#0d0887\"],[0.1111111111111111,\"#46039f\"],[0.2222222222222222,\"#7201a8\"],[0.3333333333333333,\"#9c179e\"],[0.4444444444444444,\"#bd3786\"],[0.5555555555555556,\"#d8576b\"],[0.6666666666666666,\"#ed7953\"],[0.7777777777777778,\"#fb9f3a\"],[0.8888888888888888,\"#fdca26\"],[1.0,\"#f0f921\"]]}],\"mesh3d\":[{\"type\":\"mesh3d\",\"colorbar\":{\"outlinewidth\":0,\"ticks\":\"\"}}],\"scatter\":[{\"fillpattern\":{\"fillmode\":\"overlay\",\"size\":10,\"solidity\":0.2},\"type\":\"scatter\"}],\"parcoords\":[{\"type\":\"parcoords\",\"line\":{\"colorbar\":{\"outlinewidth\":0,\"ticks\":\"\"}}}],\"scatterpolargl\":[{\"type\":\"scatterpolargl\",\"marker\":{\"colorbar\":{\"outlinewidth\":0,\"ticks\":\"\"}}}],\"bar\":[{\"error_x\":{\"color\":\"#2a3f5f\"},\"error_y\":{\"color\":\"#2a3f5f\"},\"marker\":{\"line\":{\"color\":\"#E5ECF6\",\"width\":0.5},\"pattern\":{\"fillmode\":\"overlay\",\"size\":10,\"solidity\":0.2}},\"type\":\"bar\"}],\"scattergeo\":[{\"type\":\"scattergeo\",\"marker\":{\"colorbar\":{\"outlinewidth\":0,\"ticks\":\"\"}}}],\"scatterpolar\":[{\"type\":\"scatterpolar\",\"marker\":{\"colorbar\":{\"outlinewidth\":0,\"ticks\":\"\"}}}],\"histogram\":[{\"marker\":{\"pattern\":{\"fillmode\":\"overlay\",\"size\":10,\"solidity\":0.2}},\"type\":\"histogram\"}],\"scattergl\":[{\"type\":\"scattergl\",\"marker\":{\"colorbar\":{\"outlinewidth\":0,\"ticks\":\"\"}}}],\"scatter3d\":[{\"type\":\"scatter3d\",\"line\":{\"colorbar\":{\"outlinewidth\":0,\"ticks\":\"\"}},\"marker\":{\"colorbar\":{\"outlinewidth\":0,\"ticks\":\"\"}}}],\"scattermapbox\":[{\"type\":\"scattermapbox\",\"marker\":{\"colorbar\":{\"outlinewidth\":0,\"ticks\":\"\"}}}],\"scatterternary\":[{\"type\":\"scatterternary\",\"marker\":{\"colorbar\":{\"outlinewidth\":0,\"ticks\":\"\"}}}],\"scattercarpet\":[{\"type\":\"scattercarpet\",\"marker\":{\"colorbar\":{\"outlinewidth\":0,\"ticks\":\"\"}}}],\"carpet\":[{\"aaxis\":{\"endlinecolor\":\"#2a3f5f\",\"gridcolor\":\"white\",\"linecolor\":\"white\",\"minorgridcolor\":\"white\",\"startlinecolor\":\"#2a3f5f\"},\"baxis\":{\"endlinecolor\":\"#2a3f5f\",\"gridcolor\":\"white\",\"linecolor\":\"white\",\"minorgridcolor\":\"white\",\"startlinecolor\":\"#2a3f5f\"},\"type\":\"carpet\"}],\"table\":[{\"cells\":{\"fill\":{\"color\":\"#EBF0F8\"},\"line\":{\"color\":\"white\"}},\"header\":{\"fill\":{\"color\":\"#C8D4E3\"},\"line\":{\"color\":\"white\"}},\"type\":\"table\"}],\"barpolar\":[{\"marker\":{\"line\":{\"color\":\"#E5ECF6\",\"width\":0.5},\"pattern\":{\"fillmode\":\"overlay\",\"size\":10,\"solidity\":0.2}},\"type\":\"barpolar\"}],\"pie\":[{\"automargin\":true,\"type\":\"pie\"}]},\"layout\":{\"autotypenumbers\":\"strict\",\"colorway\":[\"#636efa\",\"#EF553B\",\"#00cc96\",\"#ab63fa\",\"#FFA15A\",\"#19d3f3\",\"#FF6692\",\"#B6E880\",\"#FF97FF\",\"#FECB52\"],\"font\":{\"color\":\"#2a3f5f\"},\"hovermode\":\"closest\",\"hoverlabel\":{\"align\":\"left\"},\"paper_bgcolor\":\"white\",\"plot_bgcolor\":\"#E5ECF6\",\"polar\":{\"bgcolor\":\"#E5ECF6\",\"angularaxis\":{\"gridcolor\":\"white\",\"linecolor\":\"white\",\"ticks\":\"\"},\"radialaxis\":{\"gridcolor\":\"white\",\"linecolor\":\"white\",\"ticks\":\"\"}},\"ternary\":{\"bgcolor\":\"#E5ECF6\",\"aaxis\":{\"gridcolor\":\"white\",\"linecolor\":\"white\",\"ticks\":\"\"},\"baxis\":{\"gridcolor\":\"white\",\"linecolor\":\"white\",\"ticks\":\"\"},\"caxis\":{\"gridcolor\":\"white\",\"linecolor\":\"white\",\"ticks\":\"\"}},\"coloraxis\":{\"colorbar\":{\"outlinewidth\":0,\"ticks\":\"\"}},\"colorscale\":{\"sequential\":[[0.0,\"#0d0887\"],[0.1111111111111111,\"#46039f\"],[0.2222222222222222,\"#7201a8\"],[0.3333333333333333,\"#9c179e\"],[0.4444444444444444,\"#bd3786\"],[0.5555555555555556,\"#d8576b\"],[0.6666666666666666,\"#ed7953\"],[0.7777777777777778,\"#fb9f3a\"],[0.8888888888888888,\"#fdca26\"],[1.0,\"#f0f921\"]],\"sequentialminus\":[[0.0,\"#0d0887\"],[0.1111111111111111,\"#46039f\"],[0.2222222222222222,\"#7201a8\"],[0.3333333333333333,\"#9c179e\"],[0.4444444444444444,\"#bd3786\"],[0.5555555555555556,\"#d8576b\"],[0.6666666666666666,\"#ed7953\"],[0.7777777777777778,\"#fb9f3a\"],[0.8888888888888888,\"#fdca26\"],[1.0,\"#f0f921\"]],\"diverging\":[[0,\"#8e0152\"],[0.1,\"#c51b7d\"],[0.2,\"#de77ae\"],[0.3,\"#f1b6da\"],[0.4,\"#fde0ef\"],[0.5,\"#f7f7f7\"],[0.6,\"#e6f5d0\"],[0.7,\"#b8e186\"],[0.8,\"#7fbc41\"],[0.9,\"#4d9221\"],[1,\"#276419\"]]},\"xaxis\":{\"gridcolor\":\"white\",\"linecolor\":\"white\",\"ticks\":\"\",\"title\":{\"standoff\":15},\"zerolinecolor\":\"white\",\"automargin\":true,\"zerolinewidth\":2},\"yaxis\":{\"gridcolor\":\"white\",\"linecolor\":\"white\",\"ticks\":\"\",\"title\":{\"standoff\":15},\"zerolinecolor\":\"white\",\"automargin\":true,\"zerolinewidth\":2},\"scene\":{\"xaxis\":{\"backgroundcolor\":\"#E5ECF6\",\"gridcolor\":\"white\",\"linecolor\":\"white\",\"showbackground\":true,\"ticks\":\"\",\"zerolinecolor\":\"white\",\"gridwidth\":2},\"yaxis\":{\"backgroundcolor\":\"#E5ECF6\",\"gridcolor\":\"white\",\"linecolor\":\"white\",\"showbackground\":true,\"ticks\":\"\",\"zerolinecolor\":\"white\",\"gridwidth\":2},\"zaxis\":{\"backgroundcolor\":\"#E5ECF6\",\"gridcolor\":\"white\",\"linecolor\":\"white\",\"showbackground\":true,\"ticks\":\"\",\"zerolinecolor\":\"white\",\"gridwidth\":2}},\"shapedefaults\":{\"line\":{\"color\":\"#2a3f5f\"}},\"annotationdefaults\":{\"arrowcolor\":\"#2a3f5f\",\"arrowhead\":0,\"arrowwidth\":1},\"geo\":{\"bgcolor\":\"white\",\"landcolor\":\"#E5ECF6\",\"subunitcolor\":\"white\",\"showland\":true,\"showlakes\":true,\"lakecolor\":\"white\"},\"title\":{\"x\":0.05},\"mapbox\":{\"style\":\"light\"}}}},                        {\"responsive\": true}                    ).then(function(){\n",
       "                            \n",
       "var gd = document.getElementById('ef850de2-64d7-4331-aacc-69f72f73109f');\n",
       "var x = new MutationObserver(function (mutations, observer) {{\n",
       "        var display = window.getComputedStyle(gd).display;\n",
       "        if (!display || display === 'none') {{\n",
       "            console.log([gd, 'removed!']);\n",
       "            Plotly.purge(gd);\n",
       "            observer.disconnect();\n",
       "        }}\n",
       "}});\n",
       "\n",
       "// Listen for the removal of the full notebook cells\n",
       "var notebookContainer = gd.closest('#notebook-container');\n",
       "if (notebookContainer) {{\n",
       "    x.observe(notebookContainer, {childList: true});\n",
       "}}\n",
       "\n",
       "// Listen for the clearing of the current output cell\n",
       "var outputEl = gd.closest('.output');\n",
       "if (outputEl) {{\n",
       "    x.observe(outputEl, {childList: true});\n",
       "}}\n",
       "\n",
       "                        })                };                });            </script>        </div>"
      ]
     },
     "metadata": {},
     "output_type": "display_data"
    }
   ],
   "source": [
    "fig=go.Figure(data=[go.Pie(labels=['Genuine','Fraud'], values=y_train.value_counts())])\n",
    "fig.show()"
   ]
  },
  {
   "cell_type": "markdown",
   "id": "8b831f33",
   "metadata": {
    "papermill": {
     "duration": 0.021628,
     "end_time": "2023-07-23T09:29:23.584540",
     "exception": false,
     "start_time": "2023-07-23T09:29:23.562912",
     "status": "completed"
    },
    "tags": []
   },
   "source": [
    "To Counter this imbalance, I use Over-Sampling to balance the train set."
   ]
  },
  {
   "cell_type": "code",
   "execution_count": 22,
   "id": "32928c31",
   "metadata": {
    "execution": {
     "iopub.execute_input": "2023-07-23T09:29:23.631012Z",
     "iopub.status.busy": "2023-07-23T09:29:23.630629Z",
     "iopub.status.idle": "2023-07-23T09:29:26.998767Z",
     "shell.execute_reply": "2023-07-23T09:29:26.997650Z"
    },
    "papermill": {
     "duration": 3.394037,
     "end_time": "2023-07-23T09:29:27.001347",
     "exception": false,
     "start_time": "2023-07-23T09:29:23.607310",
     "status": "completed"
    },
    "tags": []
   },
   "outputs": [
    {
     "data": {
      "text/html": [
       "<div>                            <div id=\"b95825c4-8b2f-4b9c-97d6-dfc9831fc783\" class=\"plotly-graph-div\" style=\"height:525px; width:100%;\"></div>            <script type=\"text/javascript\">                require([\"plotly\"], function(Plotly) {                    window.PLOTLYENV=window.PLOTLYENV || {};                                    if (document.getElementById(\"b95825c4-8b2f-4b9c-97d6-dfc9831fc783\")) {                    Plotly.newPlot(                        \"b95825c4-8b2f-4b9c-97d6-dfc9831fc783\",                        [{\"labels\":[\"Genuine\",\"Fraud\"],\"values\":[4448056,4448056],\"type\":\"pie\"}],                        {\"template\":{\"data\":{\"histogram2dcontour\":[{\"type\":\"histogram2dcontour\",\"colorbar\":{\"outlinewidth\":0,\"ticks\":\"\"},\"colorscale\":[[0.0,\"#0d0887\"],[0.1111111111111111,\"#46039f\"],[0.2222222222222222,\"#7201a8\"],[0.3333333333333333,\"#9c179e\"],[0.4444444444444444,\"#bd3786\"],[0.5555555555555556,\"#d8576b\"],[0.6666666666666666,\"#ed7953\"],[0.7777777777777778,\"#fb9f3a\"],[0.8888888888888888,\"#fdca26\"],[1.0,\"#f0f921\"]]}],\"choropleth\":[{\"type\":\"choropleth\",\"colorbar\":{\"outlinewidth\":0,\"ticks\":\"\"}}],\"histogram2d\":[{\"type\":\"histogram2d\",\"colorbar\":{\"outlinewidth\":0,\"ticks\":\"\"},\"colorscale\":[[0.0,\"#0d0887\"],[0.1111111111111111,\"#46039f\"],[0.2222222222222222,\"#7201a8\"],[0.3333333333333333,\"#9c179e\"],[0.4444444444444444,\"#bd3786\"],[0.5555555555555556,\"#d8576b\"],[0.6666666666666666,\"#ed7953\"],[0.7777777777777778,\"#fb9f3a\"],[0.8888888888888888,\"#fdca26\"],[1.0,\"#f0f921\"]]}],\"heatmap\":[{\"type\":\"heatmap\",\"colorbar\":{\"outlinewidth\":0,\"ticks\":\"\"},\"colorscale\":[[0.0,\"#0d0887\"],[0.1111111111111111,\"#46039f\"],[0.2222222222222222,\"#7201a8\"],[0.3333333333333333,\"#9c179e\"],[0.4444444444444444,\"#bd3786\"],[0.5555555555555556,\"#d8576b\"],[0.6666666666666666,\"#ed7953\"],[0.7777777777777778,\"#fb9f3a\"],[0.8888888888888888,\"#fdca26\"],[1.0,\"#f0f921\"]]}],\"heatmapgl\":[{\"type\":\"heatmapgl\",\"colorbar\":{\"outlinewidth\":0,\"ticks\":\"\"},\"colorscale\":[[0.0,\"#0d0887\"],[0.1111111111111111,\"#46039f\"],[0.2222222222222222,\"#7201a8\"],[0.3333333333333333,\"#9c179e\"],[0.4444444444444444,\"#bd3786\"],[0.5555555555555556,\"#d8576b\"],[0.6666666666666666,\"#ed7953\"],[0.7777777777777778,\"#fb9f3a\"],[0.8888888888888888,\"#fdca26\"],[1.0,\"#f0f921\"]]}],\"contourcarpet\":[{\"type\":\"contourcarpet\",\"colorbar\":{\"outlinewidth\":0,\"ticks\":\"\"}}],\"contour\":[{\"type\":\"contour\",\"colorbar\":{\"outlinewidth\":0,\"ticks\":\"\"},\"colorscale\":[[0.0,\"#0d0887\"],[0.1111111111111111,\"#46039f\"],[0.2222222222222222,\"#7201a8\"],[0.3333333333333333,\"#9c179e\"],[0.4444444444444444,\"#bd3786\"],[0.5555555555555556,\"#d8576b\"],[0.6666666666666666,\"#ed7953\"],[0.7777777777777778,\"#fb9f3a\"],[0.8888888888888888,\"#fdca26\"],[1.0,\"#f0f921\"]]}],\"surface\":[{\"type\":\"surface\",\"colorbar\":{\"outlinewidth\":0,\"ticks\":\"\"},\"colorscale\":[[0.0,\"#0d0887\"],[0.1111111111111111,\"#46039f\"],[0.2222222222222222,\"#7201a8\"],[0.3333333333333333,\"#9c179e\"],[0.4444444444444444,\"#bd3786\"],[0.5555555555555556,\"#d8576b\"],[0.6666666666666666,\"#ed7953\"],[0.7777777777777778,\"#fb9f3a\"],[0.8888888888888888,\"#fdca26\"],[1.0,\"#f0f921\"]]}],\"mesh3d\":[{\"type\":\"mesh3d\",\"colorbar\":{\"outlinewidth\":0,\"ticks\":\"\"}}],\"scatter\":[{\"fillpattern\":{\"fillmode\":\"overlay\",\"size\":10,\"solidity\":0.2},\"type\":\"scatter\"}],\"parcoords\":[{\"type\":\"parcoords\",\"line\":{\"colorbar\":{\"outlinewidth\":0,\"ticks\":\"\"}}}],\"scatterpolargl\":[{\"type\":\"scatterpolargl\",\"marker\":{\"colorbar\":{\"outlinewidth\":0,\"ticks\":\"\"}}}],\"bar\":[{\"error_x\":{\"color\":\"#2a3f5f\"},\"error_y\":{\"color\":\"#2a3f5f\"},\"marker\":{\"line\":{\"color\":\"#E5ECF6\",\"width\":0.5},\"pattern\":{\"fillmode\":\"overlay\",\"size\":10,\"solidity\":0.2}},\"type\":\"bar\"}],\"scattergeo\":[{\"type\":\"scattergeo\",\"marker\":{\"colorbar\":{\"outlinewidth\":0,\"ticks\":\"\"}}}],\"scatterpolar\":[{\"type\":\"scatterpolar\",\"marker\":{\"colorbar\":{\"outlinewidth\":0,\"ticks\":\"\"}}}],\"histogram\":[{\"marker\":{\"pattern\":{\"fillmode\":\"overlay\",\"size\":10,\"solidity\":0.2}},\"type\":\"histogram\"}],\"scattergl\":[{\"type\":\"scattergl\",\"marker\":{\"colorbar\":{\"outlinewidth\":0,\"ticks\":\"\"}}}],\"scatter3d\":[{\"type\":\"scatter3d\",\"line\":{\"colorbar\":{\"outlinewidth\":0,\"ticks\":\"\"}},\"marker\":{\"colorbar\":{\"outlinewidth\":0,\"ticks\":\"\"}}}],\"scattermapbox\":[{\"type\":\"scattermapbox\",\"marker\":{\"colorbar\":{\"outlinewidth\":0,\"ticks\":\"\"}}}],\"scatterternary\":[{\"type\":\"scatterternary\",\"marker\":{\"colorbar\":{\"outlinewidth\":0,\"ticks\":\"\"}}}],\"scattercarpet\":[{\"type\":\"scattercarpet\",\"marker\":{\"colorbar\":{\"outlinewidth\":0,\"ticks\":\"\"}}}],\"carpet\":[{\"aaxis\":{\"endlinecolor\":\"#2a3f5f\",\"gridcolor\":\"white\",\"linecolor\":\"white\",\"minorgridcolor\":\"white\",\"startlinecolor\":\"#2a3f5f\"},\"baxis\":{\"endlinecolor\":\"#2a3f5f\",\"gridcolor\":\"white\",\"linecolor\":\"white\",\"minorgridcolor\":\"white\",\"startlinecolor\":\"#2a3f5f\"},\"type\":\"carpet\"}],\"table\":[{\"cells\":{\"fill\":{\"color\":\"#EBF0F8\"},\"line\":{\"color\":\"white\"}},\"header\":{\"fill\":{\"color\":\"#C8D4E3\"},\"line\":{\"color\":\"white\"}},\"type\":\"table\"}],\"barpolar\":[{\"marker\":{\"line\":{\"color\":\"#E5ECF6\",\"width\":0.5},\"pattern\":{\"fillmode\":\"overlay\",\"size\":10,\"solidity\":0.2}},\"type\":\"barpolar\"}],\"pie\":[{\"automargin\":true,\"type\":\"pie\"}]},\"layout\":{\"autotypenumbers\":\"strict\",\"colorway\":[\"#636efa\",\"#EF553B\",\"#00cc96\",\"#ab63fa\",\"#FFA15A\",\"#19d3f3\",\"#FF6692\",\"#B6E880\",\"#FF97FF\",\"#FECB52\"],\"font\":{\"color\":\"#2a3f5f\"},\"hovermode\":\"closest\",\"hoverlabel\":{\"align\":\"left\"},\"paper_bgcolor\":\"white\",\"plot_bgcolor\":\"#E5ECF6\",\"polar\":{\"bgcolor\":\"#E5ECF6\",\"angularaxis\":{\"gridcolor\":\"white\",\"linecolor\":\"white\",\"ticks\":\"\"},\"radialaxis\":{\"gridcolor\":\"white\",\"linecolor\":\"white\",\"ticks\":\"\"}},\"ternary\":{\"bgcolor\":\"#E5ECF6\",\"aaxis\":{\"gridcolor\":\"white\",\"linecolor\":\"white\",\"ticks\":\"\"},\"baxis\":{\"gridcolor\":\"white\",\"linecolor\":\"white\",\"ticks\":\"\"},\"caxis\":{\"gridcolor\":\"white\",\"linecolor\":\"white\",\"ticks\":\"\"}},\"coloraxis\":{\"colorbar\":{\"outlinewidth\":0,\"ticks\":\"\"}},\"colorscale\":{\"sequential\":[[0.0,\"#0d0887\"],[0.1111111111111111,\"#46039f\"],[0.2222222222222222,\"#7201a8\"],[0.3333333333333333,\"#9c179e\"],[0.4444444444444444,\"#bd3786\"],[0.5555555555555556,\"#d8576b\"],[0.6666666666666666,\"#ed7953\"],[0.7777777777777778,\"#fb9f3a\"],[0.8888888888888888,\"#fdca26\"],[1.0,\"#f0f921\"]],\"sequentialminus\":[[0.0,\"#0d0887\"],[0.1111111111111111,\"#46039f\"],[0.2222222222222222,\"#7201a8\"],[0.3333333333333333,\"#9c179e\"],[0.4444444444444444,\"#bd3786\"],[0.5555555555555556,\"#d8576b\"],[0.6666666666666666,\"#ed7953\"],[0.7777777777777778,\"#fb9f3a\"],[0.8888888888888888,\"#fdca26\"],[1.0,\"#f0f921\"]],\"diverging\":[[0,\"#8e0152\"],[0.1,\"#c51b7d\"],[0.2,\"#de77ae\"],[0.3,\"#f1b6da\"],[0.4,\"#fde0ef\"],[0.5,\"#f7f7f7\"],[0.6,\"#e6f5d0\"],[0.7,\"#b8e186\"],[0.8,\"#7fbc41\"],[0.9,\"#4d9221\"],[1,\"#276419\"]]},\"xaxis\":{\"gridcolor\":\"white\",\"linecolor\":\"white\",\"ticks\":\"\",\"title\":{\"standoff\":15},\"zerolinecolor\":\"white\",\"automargin\":true,\"zerolinewidth\":2},\"yaxis\":{\"gridcolor\":\"white\",\"linecolor\":\"white\",\"ticks\":\"\",\"title\":{\"standoff\":15},\"zerolinecolor\":\"white\",\"automargin\":true,\"zerolinewidth\":2},\"scene\":{\"xaxis\":{\"backgroundcolor\":\"#E5ECF6\",\"gridcolor\":\"white\",\"linecolor\":\"white\",\"showbackground\":true,\"ticks\":\"\",\"zerolinecolor\":\"white\",\"gridwidth\":2},\"yaxis\":{\"backgroundcolor\":\"#E5ECF6\",\"gridcolor\":\"white\",\"linecolor\":\"white\",\"showbackground\":true,\"ticks\":\"\",\"zerolinecolor\":\"white\",\"gridwidth\":2},\"zaxis\":{\"backgroundcolor\":\"#E5ECF6\",\"gridcolor\":\"white\",\"linecolor\":\"white\",\"showbackground\":true,\"ticks\":\"\",\"zerolinecolor\":\"white\",\"gridwidth\":2}},\"shapedefaults\":{\"line\":{\"color\":\"#2a3f5f\"}},\"annotationdefaults\":{\"arrowcolor\":\"#2a3f5f\",\"arrowhead\":0,\"arrowwidth\":1},\"geo\":{\"bgcolor\":\"white\",\"landcolor\":\"#E5ECF6\",\"subunitcolor\":\"white\",\"showland\":true,\"showlakes\":true,\"lakecolor\":\"white\"},\"title\":{\"x\":0.05},\"mapbox\":{\"style\":\"light\"}}}},                        {\"responsive\": true}                    ).then(function(){\n",
       "                            \n",
       "var gd = document.getElementById('b95825c4-8b2f-4b9c-97d6-dfc9831fc783');\n",
       "var x = new MutationObserver(function (mutations, observer) {{\n",
       "        var display = window.getComputedStyle(gd).display;\n",
       "        if (!display || display === 'none') {{\n",
       "            console.log([gd, 'removed!']);\n",
       "            Plotly.purge(gd);\n",
       "            observer.disconnect();\n",
       "        }}\n",
       "}});\n",
       "\n",
       "// Listen for the removal of the full notebook cells\n",
       "var notebookContainer = gd.closest('#notebook-container');\n",
       "if (notebookContainer) {{\n",
       "    x.observe(notebookContainer, {childList: true});\n",
       "}}\n",
       "\n",
       "// Listen for the clearing of the current output cell\n",
       "var outputEl = gd.closest('.output');\n",
       "if (outputEl) {{\n",
       "    x.observe(outputEl, {childList: true});\n",
       "}}\n",
       "\n",
       "                        })                };                });            </script>        </div>"
      ]
     },
     "metadata": {},
     "output_type": "display_data"
    }
   ],
   "source": [
    "sm=SMOTE(random_state=42)\n",
    "X_train,y_train=sm.fit_resample(X_train,y_train)\n",
    "fig=go.Figure(data=[go.Pie(labels=['Genuine','Fraud'],values=y_train.value_counts())])\n",
    "fig.show()"
   ]
  },
  {
   "cell_type": "markdown",
   "id": "53d75a27",
   "metadata": {
    "papermill": {
     "duration": 0.021794,
     "end_time": "2023-07-23T09:29:27.046276",
     "exception": false,
     "start_time": "2023-07-23T09:29:27.024482",
     "status": "completed"
    },
    "tags": []
   },
   "source": [
    "Now, that the train set is balanced and as this dataset is tabular in addition to the fact task at hand is to detect fraud transactions,my previous experience with these kind of tasks says that tree based classifiers should perform well in this scenario. I try a RandomForestClassifier."
   ]
  },
  {
   "cell_type": "code",
   "execution_count": 23,
   "id": "dbe70567",
   "metadata": {
    "execution": {
     "iopub.execute_input": "2023-07-23T09:29:27.092754Z",
     "iopub.status.busy": "2023-07-23T09:29:27.092086Z",
     "iopub.status.idle": "2023-07-23T09:29:27.097138Z",
     "shell.execute_reply": "2023-07-23T09:29:27.096257Z"
    },
    "papermill": {
     "duration": 0.031186,
     "end_time": "2023-07-23T09:29:27.099268",
     "exception": false,
     "start_time": "2023-07-23T09:29:27.068082",
     "status": "completed"
    },
    "tags": []
   },
   "outputs": [],
   "source": [
    "clf=RandomForestClassifier(50,n_jobs=-1,verbose=3)"
   ]
  },
  {
   "cell_type": "code",
   "execution_count": 24,
   "id": "1eb6dcc6",
   "metadata": {
    "execution": {
     "iopub.execute_input": "2023-07-23T09:29:27.145363Z",
     "iopub.status.busy": "2023-07-23T09:29:27.144508Z",
     "iopub.status.idle": "2023-07-23T09:35:31.891995Z",
     "shell.execute_reply": "2023-07-23T09:35:31.890681Z"
    },
    "papermill": {
     "duration": 364.77366,
     "end_time": "2023-07-23T09:35:31.894608",
     "exception": false,
     "start_time": "2023-07-23T09:29:27.120948",
     "status": "completed"
    },
    "scrolled": true,
    "tags": []
   },
   "outputs": [
    {
     "name": "stderr",
     "output_type": "stream",
     "text": [
      "[Parallel(n_jobs=-1)]: Using backend ThreadingBackend with 4 concurrent workers.\n"
     ]
    },
    {
     "name": "stdout",
     "output_type": "stream",
     "text": [
      "building tree 1 of 50building tree 2 of 50\n",
      "building tree 3 of 50\n",
      "\n",
      "building tree 4 of 50\n",
      "building tree 5 of 50\n",
      "building tree 6 of 50\n",
      "building tree 7 of 50\n",
      "building tree 8 of 50\n",
      "building tree 9 of 50\n",
      "building tree 10 of 50\n",
      "building tree 11 of 50\n",
      "building tree 12 of 50\n",
      "building tree 13 of 50\n",
      "building tree 14 of 50\n",
      "building tree 15 of 50\n",
      "building tree 16 of 50\n",
      "building tree 17 of 50\n",
      "building tree 18 of 50\n",
      "building tree 19 of 50\n",
      "building tree 20 of 50\n",
      "building tree 21 of 50\n",
      "building tree 22 of 50\n",
      "building tree 23 of 50\n",
      "building tree 24 of 50\n",
      "building tree 25 of 50\n",
      "building tree 26 of 50\n",
      "building tree 27 of 50\n",
      "building tree 28 of 50\n"
     ]
    },
    {
     "name": "stderr",
     "output_type": "stream",
     "text": [
      "[Parallel(n_jobs=-1)]: Done  24 tasks      | elapsed:  3.0min\n"
     ]
    },
    {
     "name": "stdout",
     "output_type": "stream",
     "text": [
      "building tree 29 of 50\n",
      "building tree 30 of 50\n",
      "building tree 31 of 50\n",
      "building tree 32 of 50\n",
      "building tree 33 of 50\n",
      "building tree 34 of 50\n",
      "building tree 35 of 50\n",
      "building tree 36 of 50\n",
      "building tree 37 of 50\n",
      "building tree 38 of 50\n",
      "building tree 39 of 50\n",
      "building tree 40 of 50\n",
      "building tree 41 of 50\n",
      "building tree 42 of 50\n",
      "building tree 43 of 50building tree 44 of 50\n",
      "\n",
      "building tree 45 of 50\n",
      "building tree 46 of 50\n",
      "building tree 47 of 50\n",
      "building tree 48 of 50\n",
      "building tree 49 of 50\n",
      "building tree 50 of 50\n"
     ]
    },
    {
     "name": "stderr",
     "output_type": "stream",
     "text": [
      "[Parallel(n_jobs=-1)]: Done  50 out of  50 | elapsed:  6.0min finished\n"
     ]
    },
    {
     "data": {
      "text/html": [
       "<style>#sk-container-id-1 {color: black;background-color: white;}#sk-container-id-1 pre{padding: 0;}#sk-container-id-1 div.sk-toggleable {background-color: white;}#sk-container-id-1 label.sk-toggleable__label {cursor: pointer;display: block;width: 100%;margin-bottom: 0;padding: 0.3em;box-sizing: border-box;text-align: center;}#sk-container-id-1 label.sk-toggleable__label-arrow:before {content: \"▸\";float: left;margin-right: 0.25em;color: #696969;}#sk-container-id-1 label.sk-toggleable__label-arrow:hover:before {color: black;}#sk-container-id-1 div.sk-estimator:hover label.sk-toggleable__label-arrow:before {color: black;}#sk-container-id-1 div.sk-toggleable__content {max-height: 0;max-width: 0;overflow: hidden;text-align: left;background-color: #f0f8ff;}#sk-container-id-1 div.sk-toggleable__content pre {margin: 0.2em;color: black;border-radius: 0.25em;background-color: #f0f8ff;}#sk-container-id-1 input.sk-toggleable__control:checked~div.sk-toggleable__content {max-height: 200px;max-width: 100%;overflow: auto;}#sk-container-id-1 input.sk-toggleable__control:checked~label.sk-toggleable__label-arrow:before {content: \"▾\";}#sk-container-id-1 div.sk-estimator input.sk-toggleable__control:checked~label.sk-toggleable__label {background-color: #d4ebff;}#sk-container-id-1 div.sk-label input.sk-toggleable__control:checked~label.sk-toggleable__label {background-color: #d4ebff;}#sk-container-id-1 input.sk-hidden--visually {border: 0;clip: rect(1px 1px 1px 1px);clip: rect(1px, 1px, 1px, 1px);height: 1px;margin: -1px;overflow: hidden;padding: 0;position: absolute;width: 1px;}#sk-container-id-1 div.sk-estimator {font-family: monospace;background-color: #f0f8ff;border: 1px dotted black;border-radius: 0.25em;box-sizing: border-box;margin-bottom: 0.5em;}#sk-container-id-1 div.sk-estimator:hover {background-color: #d4ebff;}#sk-container-id-1 div.sk-parallel-item::after {content: \"\";width: 100%;border-bottom: 1px solid gray;flex-grow: 1;}#sk-container-id-1 div.sk-label:hover label.sk-toggleable__label {background-color: #d4ebff;}#sk-container-id-1 div.sk-serial::before {content: \"\";position: absolute;border-left: 1px solid gray;box-sizing: border-box;top: 0;bottom: 0;left: 50%;z-index: 0;}#sk-container-id-1 div.sk-serial {display: flex;flex-direction: column;align-items: center;background-color: white;padding-right: 0.2em;padding-left: 0.2em;position: relative;}#sk-container-id-1 div.sk-item {position: relative;z-index: 1;}#sk-container-id-1 div.sk-parallel {display: flex;align-items: stretch;justify-content: center;background-color: white;position: relative;}#sk-container-id-1 div.sk-item::before, #sk-container-id-1 div.sk-parallel-item::before {content: \"\";position: absolute;border-left: 1px solid gray;box-sizing: border-box;top: 0;bottom: 0;left: 50%;z-index: -1;}#sk-container-id-1 div.sk-parallel-item {display: flex;flex-direction: column;z-index: 1;position: relative;background-color: white;}#sk-container-id-1 div.sk-parallel-item:first-child::after {align-self: flex-end;width: 50%;}#sk-container-id-1 div.sk-parallel-item:last-child::after {align-self: flex-start;width: 50%;}#sk-container-id-1 div.sk-parallel-item:only-child::after {width: 0;}#sk-container-id-1 div.sk-dashed-wrapped {border: 1px dashed gray;margin: 0 0.4em 0.5em 0.4em;box-sizing: border-box;padding-bottom: 0.4em;background-color: white;}#sk-container-id-1 div.sk-label label {font-family: monospace;font-weight: bold;display: inline-block;line-height: 1.2em;}#sk-container-id-1 div.sk-label-container {text-align: center;}#sk-container-id-1 div.sk-container {/* jupyter's `normalize.less` sets `[hidden] { display: none; }` but bootstrap.min.css set `[hidden] { display: none !important; }` so we also need the `!important` here to be able to override the default hidden behavior on the sphinx rendered scikit-learn.org. See: https://github.com/scikit-learn/scikit-learn/issues/21755 */display: inline-block !important;position: relative;}#sk-container-id-1 div.sk-text-repr-fallback {display: none;}</style><div id=\"sk-container-id-1\" class=\"sk-top-container\"><div class=\"sk-text-repr-fallback\"><pre>RandomForestClassifier(n_estimators=50, n_jobs=-1, verbose=3)</pre><b>In a Jupyter environment, please rerun this cell to show the HTML representation or trust the notebook. <br />On GitHub, the HTML representation is unable to render, please try loading this page with nbviewer.org.</b></div><div class=\"sk-container\" hidden><div class=\"sk-item\"><div class=\"sk-estimator sk-toggleable\"><input class=\"sk-toggleable__control sk-hidden--visually\" id=\"sk-estimator-id-1\" type=\"checkbox\" checked><label for=\"sk-estimator-id-1\" class=\"sk-toggleable__label sk-toggleable__label-arrow\">RandomForestClassifier</label><div class=\"sk-toggleable__content\"><pre>RandomForestClassifier(n_estimators=50, n_jobs=-1, verbose=3)</pre></div></div></div></div></div>"
      ],
      "text/plain": [
       "RandomForestClassifier(n_estimators=50, n_jobs=-1, verbose=3)"
      ]
     },
     "execution_count": 24,
     "metadata": {},
     "output_type": "execute_result"
    }
   ],
   "source": [
    "clf.fit(X_train,y_train)"
   ]
  },
  {
   "cell_type": "code",
   "execution_count": 25,
   "id": "7e8f9d8e",
   "metadata": {
    "execution": {
     "iopub.execute_input": "2023-07-23T09:35:31.949024Z",
     "iopub.status.busy": "2023-07-23T09:35:31.948612Z",
     "iopub.status.idle": "2023-07-23T09:35:34.930110Z",
     "shell.execute_reply": "2023-07-23T09:35:34.928798Z"
    },
    "papermill": {
     "duration": 3.012113,
     "end_time": "2023-07-23T09:35:34.933028",
     "exception": false,
     "start_time": "2023-07-23T09:35:31.920915",
     "status": "completed"
    },
    "tags": []
   },
   "outputs": [
    {
     "name": "stderr",
     "output_type": "stream",
     "text": [
      "[Parallel(n_jobs=4)]: Using backend ThreadingBackend with 4 concurrent workers.\n",
      "[Parallel(n_jobs=4)]: Done  24 tasks      | elapsed:    1.5s\n",
      "[Parallel(n_jobs=4)]: Done  50 out of  50 | elapsed:    2.9s finished\n"
     ]
    }
   ],
   "source": [
    "pred=clf.predict(X_test)"
   ]
  },
  {
   "cell_type": "code",
   "execution_count": 26,
   "id": "f1b95be7",
   "metadata": {
    "execution": {
     "iopub.execute_input": "2023-07-23T09:35:34.988527Z",
     "iopub.status.busy": "2023-07-23T09:35:34.987739Z",
     "iopub.status.idle": "2023-07-23T09:35:35.238925Z",
     "shell.execute_reply": "2023-07-23T09:35:35.237344Z"
    },
    "papermill": {
     "duration": 0.282982,
     "end_time": "2023-07-23T09:35:35.242707",
     "exception": false,
     "start_time": "2023-07-23T09:35:34.959725",
     "status": "completed"
    },
    "tags": []
   },
   "outputs": [
    {
     "data": {
      "text/plain": [
       "0.998862103976035"
      ]
     },
     "execution_count": 26,
     "metadata": {},
     "output_type": "execute_result"
    }
   ],
   "source": [
    "accuracy_score(y_test,pred)"
   ]
  },
  {
   "cell_type": "markdown",
   "id": "9755af63",
   "metadata": {
    "papermill": {
     "duration": 0.028492,
     "end_time": "2023-07-23T09:35:35.298611",
     "exception": false,
     "start_time": "2023-07-23T09:35:35.270119",
     "status": "completed"
    },
    "tags": []
   },
   "source": [
    "It performs well with a 99.98% accuracy on the test set.However,accuracy is not a good metric here as in the test set fraud transactions are much rarer than genuine transactions. Checking the confusion matrix will be better. "
   ]
  },
  {
   "cell_type": "code",
   "execution_count": 27,
   "id": "5d83b62b",
   "metadata": {
    "execution": {
     "iopub.execute_input": "2023-07-23T09:35:35.355422Z",
     "iopub.status.busy": "2023-07-23T09:35:35.355034Z",
     "iopub.status.idle": "2023-07-23T09:35:37.661420Z",
     "shell.execute_reply": "2023-07-23T09:35:37.660012Z"
    },
    "papermill": {
     "duration": 2.337184,
     "end_time": "2023-07-23T09:35:37.664061",
     "exception": false,
     "start_time": "2023-07-23T09:35:35.326877",
     "status": "completed"
    },
    "tags": []
   },
   "outputs": [
    {
     "name": "stdout",
     "output_type": "stream",
     "text": [
      "[[1904498    1853]\n",
      " [    319    2116]]\n"
     ]
    }
   ],
   "source": [
    "cm=confusion_matrix(y_test,pred)\n",
    "print(cm)"
   ]
  },
  {
   "cell_type": "markdown",
   "id": "aacc670f",
   "metadata": {
    "papermill": {
     "duration": 0.02669,
     "end_time": "2023-07-23T09:35:37.718483",
     "exception": false,
     "start_time": "2023-07-23T09:35:37.691793",
     "status": "completed"
    },
    "tags": []
   },
   "source": [
    "As it can be seen from the confusion matrix, the model correctly detects 2109 Fraud transactions and misses out on 326 Fraud transactions in the test set. It also falsely flags 1873 genuine transactions as Fraud but it is just a miniscule percentage of all genuine transactions."
   ]
  },
  {
   "cell_type": "code",
   "execution_count": 28,
   "id": "7a68157c",
   "metadata": {
    "execution": {
     "iopub.execute_input": "2023-07-23T09:35:37.774334Z",
     "iopub.status.busy": "2023-07-23T09:35:37.773949Z",
     "iopub.status.idle": "2023-07-23T09:35:37.781103Z",
     "shell.execute_reply": "2023-07-23T09:35:37.779929Z"
    },
    "papermill": {
     "duration": 0.037944,
     "end_time": "2023-07-23T09:35:37.783604",
     "exception": false,
     "start_time": "2023-07-23T09:35:37.745660",
     "status": "completed"
    },
    "tags": []
   },
   "outputs": [
    {
     "name": "stdout",
     "output_type": "stream",
     "text": [
      "Fraud Detection percentage:  86.8994\n",
      "False Flag percentage:  0.0972\n"
     ]
    }
   ],
   "source": [
    "print(\"Fraud Detection percentage: \",\"{:.4f}\".format(cm[1][1]/(cm[1][0]+cm[1][1])*100,\"%\"))\n",
    "print(\"False Flag percentage: \",\"{:.4f}\".format(cm[0][1]/(cm[0][0]+cm[0][1])*100,\"%\"))"
   ]
  },
  {
   "cell_type": "code",
   "execution_count": 29,
   "id": "466e926b",
   "metadata": {
    "execution": {
     "iopub.execute_input": "2023-07-23T09:35:37.839937Z",
     "iopub.status.busy": "2023-07-23T09:35:37.839518Z",
     "iopub.status.idle": "2023-07-23T09:35:38.296203Z",
     "shell.execute_reply": "2023-07-23T09:35:38.294973Z"
    },
    "papermill": {
     "duration": 0.488438,
     "end_time": "2023-07-23T09:35:38.299041",
     "exception": false,
     "start_time": "2023-07-23T09:35:37.810603",
     "status": "completed"
    },
    "tags": []
   },
   "outputs": [
    {
     "data": {
      "text/plain": [
       "0.9340109128813848"
      ]
     },
     "execution_count": 29,
     "metadata": {},
     "output_type": "execute_result"
    }
   ],
   "source": [
    "roc_auc_score(y_test,pred)"
   ]
  },
  {
   "cell_type": "code",
   "execution_count": 30,
   "id": "a10b9956",
   "metadata": {
    "execution": {
     "iopub.execute_input": "2023-07-23T09:35:38.355503Z",
     "iopub.status.busy": "2023-07-23T09:35:38.355108Z",
     "iopub.status.idle": "2023-07-23T09:35:38.380956Z",
     "shell.execute_reply": "2023-07-23T09:35:38.379884Z"
    },
    "papermill": {
     "duration": 0.05723,
     "end_time": "2023-07-23T09:35:38.383226",
     "exception": false,
     "start_time": "2023-07-23T09:35:38.325996",
     "status": "completed"
    },
    "tags": []
   },
   "outputs": [
    {
     "data": {
      "text/plain": [
       "array([0.20617244, 0.21620636, 0.06006894, 0.07808077, 0.0685918 ,\n",
       "       0.0817144 , 0.00090547, 0.04941563, 0.15008207, 0.03769606,\n",
       "       0.05106607])"
      ]
     },
     "execution_count": 30,
     "metadata": {},
     "output_type": "execute_result"
    }
   ],
   "source": [
    "clf.feature_importances_"
   ]
  },
  {
   "cell_type": "code",
   "execution_count": null,
   "id": "e503f452",
   "metadata": {
    "papermill": {
     "duration": 0.026765,
     "end_time": "2023-07-23T09:35:38.437036",
     "exception": false,
     "start_time": "2023-07-23T09:35:38.410271",
     "status": "completed"
    },
    "tags": []
   },
   "outputs": [],
   "source": []
  }
 ],
 "metadata": {
  "kernelspec": {
   "display_name": "Python 3",
   "language": "python",
   "name": "python3"
  },
  "language_info": {
   "codemirror_mode": {
    "name": "ipython",
    "version": 3
   },
   "file_extension": ".py",
   "mimetype": "text/x-python",
   "name": "python",
   "nbconvert_exporter": "python",
   "pygments_lexer": "ipython3",
   "version": "3.10.12"
  },
  "papermill": {
   "default_parameters": {},
   "duration": 496.727707,
   "end_time": "2023-07-23T09:35:39.991037",
   "environment_variables": {},
   "exception": null,
   "input_path": "__notebook__.ipynb",
   "output_path": "__notebook__.ipynb",
   "parameters": {},
   "start_time": "2023-07-23T09:27:23.263330",
   "version": "2.4.0"
  }
 },
 "nbformat": 4,
 "nbformat_minor": 5
}
