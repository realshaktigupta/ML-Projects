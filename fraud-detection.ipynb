{
 "cells": [
  {
   "cell_type": "markdown",
   "id": "27bec9d4",
   "metadata": {
    "papermill": {
     "duration": 0.018189,
     "end_time": "2023-07-23T11:46:57.392828",
     "exception": false,
     "start_time": "2023-07-23T11:46:57.374639",
     "status": "completed"
    },
    "tags": []
   },
   "source": [
    "# Detecting Fraud transactions"
   ]
  },
  {
   "cell_type": "markdown",
   "id": "1b578e15",
   "metadata": {
    "papermill": {
     "duration": 0.017936,
     "end_time": "2023-07-23T11:46:57.429562",
     "exception": false,
     "start_time": "2023-07-23T11:46:57.411626",
     "status": "completed"
    },
    "tags": []
   },
   "source": [
    "First, I install gdown which helps in downloading the file from google drive."
   ]
  },
  {
   "cell_type": "code",
   "execution_count": 1,
   "id": "7267939e",
   "metadata": {
    "execution": {
     "iopub.execute_input": "2023-07-23T11:46:57.469297Z",
     "iopub.status.busy": "2023-07-23T11:46:57.468823Z",
     "iopub.status.idle": "2023-07-23T11:47:13.984251Z",
     "shell.execute_reply": "2023-07-23T11:47:13.982456Z"
    },
    "papermill": {
     "duration": 16.538609,
     "end_time": "2023-07-23T11:47:13.987488",
     "exception": false,
     "start_time": "2023-07-23T11:46:57.448879",
     "status": "completed"
    },
    "tags": []
   },
   "outputs": [
    {
     "name": "stdout",
     "output_type": "stream",
     "text": [
      "Collecting gdown\r\n",
      "  Downloading gdown-4.7.1-py3-none-any.whl (15 kB)\r\n",
      "Requirement already satisfied: filelock in /opt/conda/lib/python3.10/site-packages (from gdown) (3.12.2)\r\n",
      "Requirement already satisfied: requests[socks] in /opt/conda/lib/python3.10/site-packages (from gdown) (2.31.0)\r\n",
      "Requirement already satisfied: six in /opt/conda/lib/python3.10/site-packages (from gdown) (1.16.0)\r\n",
      "Requirement already satisfied: tqdm in /opt/conda/lib/python3.10/site-packages (from gdown) (4.65.0)\r\n",
      "Requirement already satisfied: beautifulsoup4 in /opt/conda/lib/python3.10/site-packages (from gdown) (4.12.2)\r\n",
      "Requirement already satisfied: soupsieve>1.2 in /opt/conda/lib/python3.10/site-packages (from beautifulsoup4->gdown) (2.3.2.post1)\r\n",
      "Requirement already satisfied: charset-normalizer<4,>=2 in /opt/conda/lib/python3.10/site-packages (from requests[socks]->gdown) (3.1.0)\r\n",
      "Requirement already satisfied: idna<4,>=2.5 in /opt/conda/lib/python3.10/site-packages (from requests[socks]->gdown) (3.4)\r\n",
      "Requirement already satisfied: urllib3<3,>=1.21.1 in /opt/conda/lib/python3.10/site-packages (from requests[socks]->gdown) (1.26.15)\r\n",
      "Requirement already satisfied: certifi>=2017.4.17 in /opt/conda/lib/python3.10/site-packages (from requests[socks]->gdown) (2023.5.7)\r\n",
      "Requirement already satisfied: PySocks!=1.5.7,>=1.5.6 in /opt/conda/lib/python3.10/site-packages (from requests[socks]->gdown) (1.7.1)\r\n",
      "Installing collected packages: gdown\r\n",
      "Successfully installed gdown-4.7.1\r\n",
      "Note: you may need to restart the kernel to use updated packages.\n"
     ]
    }
   ],
   "source": [
    "pip install gdown"
   ]
  },
  {
   "cell_type": "code",
   "execution_count": 2,
   "id": "378e72bc",
   "metadata": {
    "_cell_guid": "b1076dfc-b9ad-4769-8c92-a6c4dae69d19",
    "_uuid": "8f2839f25d086af736a60e9eeb907d3b93b6e0e5",
    "execution": {
     "iopub.execute_input": "2023-07-23T11:47:14.028906Z",
     "iopub.status.busy": "2023-07-23T11:47:14.028422Z",
     "iopub.status.idle": "2023-07-23T11:47:16.763410Z",
     "shell.execute_reply": "2023-07-23T11:47:16.762068Z"
    },
    "papermill": {
     "duration": 2.759383,
     "end_time": "2023-07-23T11:47:16.766366",
     "exception": false,
     "start_time": "2023-07-23T11:47:14.006983",
     "status": "completed"
    },
    "tags": []
   },
   "outputs": [
    {
     "name": "stderr",
     "output_type": "stream",
     "text": [
      "/opt/conda/lib/python3.10/site-packages/scipy/__init__.py:146: UserWarning: A NumPy version >=1.16.5 and <1.23.0 is required for this version of SciPy (detected version 1.23.5\n",
      "  warnings.warn(f\"A NumPy version >={np_minversion} and <{np_maxversion}\"\n"
     ]
    }
   ],
   "source": [
    "import numpy as np\n",
    "import pandas as pd\n",
    "import gdown\n",
    "import matplotlib.pyplot as plt\n",
    "from sklearn.model_selection import train_test_split\n",
    "from sklearn.ensemble import RandomForestClassifier\n",
    "from sklearn.metrics import accuracy_score,confusion_matrix,recall_score,precision_score,roc_auc_score\n",
    "from imblearn.over_sampling import SMOTE\n",
    "import plotly.graph_objects as go\n",
    "import gc"
   ]
  },
  {
   "cell_type": "code",
   "execution_count": 3,
   "id": "05a75cc0",
   "metadata": {
    "execution": {
     "iopub.execute_input": "2023-07-23T11:47:16.808529Z",
     "iopub.status.busy": "2023-07-23T11:47:16.807773Z",
     "iopub.status.idle": "2023-07-23T11:47:21.612105Z",
     "shell.execute_reply": "2023-07-23T11:47:21.610625Z"
    },
    "papermill": {
     "duration": 4.829085,
     "end_time": "2023-07-23T11:47:21.615199",
     "exception": false,
     "start_time": "2023-07-23T11:47:16.786114",
     "status": "completed"
    },
    "tags": []
   },
   "outputs": [
    {
     "name": "stderr",
     "output_type": "stream",
     "text": [
      "Downloading...\n",
      "From: https://drive.google.com/uc?export=download&confirm=6gh6&id=1VNpyNkGxHdskfdTNRSjjyNa5qC9u0JyV\n",
      "To: /kaggle/working/Fraud.csv\n",
      "100%|██████████| 494M/494M [00:04<00:00, 112MB/s]\n"
     ]
    },
    {
     "data": {
      "text/plain": [
       "'Fraud.csv'"
      ]
     },
     "execution_count": 3,
     "metadata": {},
     "output_type": "execute_result"
    }
   ],
   "source": [
    "gdown.download(\"https://drive.google.com/uc?export=download&confirm=6gh6&id=1VNpyNkGxHdskfdTNRSjjyNa5qC9u0JyV\")"
   ]
  },
  {
   "cell_type": "code",
   "execution_count": 4,
   "id": "16a9c0ee",
   "metadata": {
    "execution": {
     "iopub.execute_input": "2023-07-23T11:47:21.660683Z",
     "iopub.status.busy": "2023-07-23T11:47:21.660209Z",
     "iopub.status.idle": "2023-07-23T11:47:44.921150Z",
     "shell.execute_reply": "2023-07-23T11:47:44.919871Z"
    },
    "papermill": {
     "duration": 23.28715,
     "end_time": "2023-07-23T11:47:44.924229",
     "exception": false,
     "start_time": "2023-07-23T11:47:21.637079",
     "status": "completed"
    },
    "tags": []
   },
   "outputs": [],
   "source": [
    "fraud=pd.read_csv(\"/kaggle/working/Fraud.csv\")"
   ]
  },
  {
   "cell_type": "code",
   "execution_count": 5,
   "id": "fd6f5f91",
   "metadata": {
    "execution": {
     "iopub.execute_input": "2023-07-23T11:47:44.972496Z",
     "iopub.status.busy": "2023-07-23T11:47:44.972030Z",
     "iopub.status.idle": "2023-07-23T11:47:45.004259Z",
     "shell.execute_reply": "2023-07-23T11:47:45.003013Z"
    },
    "papermill": {
     "duration": 0.060205,
     "end_time": "2023-07-23T11:47:45.006847",
     "exception": false,
     "start_time": "2023-07-23T11:47:44.946642",
     "status": "completed"
    },
    "tags": []
   },
   "outputs": [
    {
     "data": {
      "text/html": [
       "<div>\n",
       "<style scoped>\n",
       "    .dataframe tbody tr th:only-of-type {\n",
       "        vertical-align: middle;\n",
       "    }\n",
       "\n",
       "    .dataframe tbody tr th {\n",
       "        vertical-align: top;\n",
       "    }\n",
       "\n",
       "    .dataframe thead th {\n",
       "        text-align: right;\n",
       "    }\n",
       "</style>\n",
       "<table border=\"1\" class=\"dataframe\">\n",
       "  <thead>\n",
       "    <tr style=\"text-align: right;\">\n",
       "      <th></th>\n",
       "      <th>step</th>\n",
       "      <th>type</th>\n",
       "      <th>amount</th>\n",
       "      <th>nameOrig</th>\n",
       "      <th>oldbalanceOrg</th>\n",
       "      <th>newbalanceOrig</th>\n",
       "      <th>nameDest</th>\n",
       "      <th>oldbalanceDest</th>\n",
       "      <th>newbalanceDest</th>\n",
       "      <th>isFraud</th>\n",
       "      <th>isFlaggedFraud</th>\n",
       "    </tr>\n",
       "  </thead>\n",
       "  <tbody>\n",
       "    <tr>\n",
       "      <th>0</th>\n",
       "      <td>1</td>\n",
       "      <td>PAYMENT</td>\n",
       "      <td>9839.64</td>\n",
       "      <td>C1231006815</td>\n",
       "      <td>170136.0</td>\n",
       "      <td>160296.36</td>\n",
       "      <td>M1979787155</td>\n",
       "      <td>0.0</td>\n",
       "      <td>0.0</td>\n",
       "      <td>0</td>\n",
       "      <td>0</td>\n",
       "    </tr>\n",
       "    <tr>\n",
       "      <th>1</th>\n",
       "      <td>1</td>\n",
       "      <td>PAYMENT</td>\n",
       "      <td>1864.28</td>\n",
       "      <td>C1666544295</td>\n",
       "      <td>21249.0</td>\n",
       "      <td>19384.72</td>\n",
       "      <td>M2044282225</td>\n",
       "      <td>0.0</td>\n",
       "      <td>0.0</td>\n",
       "      <td>0</td>\n",
       "      <td>0</td>\n",
       "    </tr>\n",
       "    <tr>\n",
       "      <th>2</th>\n",
       "      <td>1</td>\n",
       "      <td>TRANSFER</td>\n",
       "      <td>181.00</td>\n",
       "      <td>C1305486145</td>\n",
       "      <td>181.0</td>\n",
       "      <td>0.00</td>\n",
       "      <td>C553264065</td>\n",
       "      <td>0.0</td>\n",
       "      <td>0.0</td>\n",
       "      <td>1</td>\n",
       "      <td>0</td>\n",
       "    </tr>\n",
       "    <tr>\n",
       "      <th>3</th>\n",
       "      <td>1</td>\n",
       "      <td>CASH_OUT</td>\n",
       "      <td>181.00</td>\n",
       "      <td>C840083671</td>\n",
       "      <td>181.0</td>\n",
       "      <td>0.00</td>\n",
       "      <td>C38997010</td>\n",
       "      <td>21182.0</td>\n",
       "      <td>0.0</td>\n",
       "      <td>1</td>\n",
       "      <td>0</td>\n",
       "    </tr>\n",
       "    <tr>\n",
       "      <th>4</th>\n",
       "      <td>1</td>\n",
       "      <td>PAYMENT</td>\n",
       "      <td>11668.14</td>\n",
       "      <td>C2048537720</td>\n",
       "      <td>41554.0</td>\n",
       "      <td>29885.86</td>\n",
       "      <td>M1230701703</td>\n",
       "      <td>0.0</td>\n",
       "      <td>0.0</td>\n",
       "      <td>0</td>\n",
       "      <td>0</td>\n",
       "    </tr>\n",
       "  </tbody>\n",
       "</table>\n",
       "</div>"
      ],
      "text/plain": [
       "   step      type    amount     nameOrig  oldbalanceOrg  newbalanceOrig  \\\n",
       "0     1   PAYMENT   9839.64  C1231006815       170136.0       160296.36   \n",
       "1     1   PAYMENT   1864.28  C1666544295        21249.0        19384.72   \n",
       "2     1  TRANSFER    181.00  C1305486145          181.0            0.00   \n",
       "3     1  CASH_OUT    181.00   C840083671          181.0            0.00   \n",
       "4     1   PAYMENT  11668.14  C2048537720        41554.0        29885.86   \n",
       "\n",
       "      nameDest  oldbalanceDest  newbalanceDest  isFraud  isFlaggedFraud  \n",
       "0  M1979787155             0.0             0.0        0               0  \n",
       "1  M2044282225             0.0             0.0        0               0  \n",
       "2   C553264065             0.0             0.0        1               0  \n",
       "3    C38997010         21182.0             0.0        1               0  \n",
       "4  M1230701703             0.0             0.0        0               0  "
      ]
     },
     "execution_count": 5,
     "metadata": {},
     "output_type": "execute_result"
    }
   ],
   "source": [
    "fraud.head()"
   ]
  },
  {
   "cell_type": "markdown",
   "id": "5f688072",
   "metadata": {
    "papermill": {
     "duration": 0.022036,
     "end_time": "2023-07-23T11:47:45.050848",
     "exception": false,
     "start_time": "2023-07-23T11:47:45.028812",
     "status": "completed"
    },
    "tags": []
   },
   "source": [
    "Now as mentioned in the data dictionary, this is a time series data and the step column represents the time. I try to explore the data to come to some conclusions about it."
   ]
  },
  {
   "cell_type": "markdown",
   "id": "03b6fcd8",
   "metadata": {
    "papermill": {
     "duration": 0.021528,
     "end_time": "2023-07-23T11:47:45.094102",
     "exception": false,
     "start_time": "2023-07-23T11:47:45.072574",
     "status": "completed"
    },
    "tags": []
   },
   "source": [
    "First, I check if the data contains any NULL values or not. As the following cell shows, the data doesn't contain any NULL values."
   ]
  },
  {
   "cell_type": "code",
   "execution_count": 6,
   "id": "968330f0",
   "metadata": {
    "execution": {
     "iopub.execute_input": "2023-07-23T11:47:45.139866Z",
     "iopub.status.busy": "2023-07-23T11:47:45.139398Z",
     "iopub.status.idle": "2023-07-23T11:47:51.444558Z",
     "shell.execute_reply": "2023-07-23T11:47:51.443420Z"
    },
    "papermill": {
     "duration": 6.331102,
     "end_time": "2023-07-23T11:47:51.447160",
     "exception": false,
     "start_time": "2023-07-23T11:47:45.116058",
     "status": "completed"
    },
    "tags": []
   },
   "outputs": [
    {
     "data": {
      "text/plain": [
       "False"
      ]
     },
     "execution_count": 6,
     "metadata": {},
     "output_type": "execute_result"
    }
   ],
   "source": [
    "fraud.isnull().any().any()"
   ]
  },
  {
   "cell_type": "markdown",
   "id": "93544f81",
   "metadata": {
    "papermill": {
     "duration": 0.021503,
     "end_time": "2023-07-23T11:47:51.490746",
     "exception": false,
     "start_time": "2023-07-23T11:47:51.469243",
     "status": "completed"
    },
    "tags": []
   },
   "source": [
    "Now as mentioned in the data dictionary, the letters C and M in the 'nameOrig' and 'nameDest' column indicate the type of customer from which the transaction is originating and is destined for respectively.\n",
    "As the following Cell shows, all transactions in this data originate from customers only."
   ]
  },
  {
   "cell_type": "code",
   "execution_count": 7,
   "id": "857421c0",
   "metadata": {
    "execution": {
     "iopub.execute_input": "2023-07-23T11:47:51.536400Z",
     "iopub.status.busy": "2023-07-23T11:47:51.535944Z",
     "iopub.status.idle": "2023-07-23T11:47:55.591070Z",
     "shell.execute_reply": "2023-07-23T11:47:55.589830Z"
    },
    "papermill": {
     "duration": 4.081174,
     "end_time": "2023-07-23T11:47:55.593865",
     "exception": false,
     "start_time": "2023-07-23T11:47:51.512691",
     "status": "completed"
    },
    "tags": []
   },
   "outputs": [
    {
     "data": {
      "text/plain": [
       "array(['C'], dtype='<U1')"
      ]
     },
     "execution_count": 7,
     "metadata": {},
     "output_type": "execute_result"
    }
   ],
   "source": [
    "np.unique(np.array([x[0] for x in fraud['nameOrig']]))"
   ]
  },
  {
   "cell_type": "markdown",
   "id": "49cdb749",
   "metadata": {
    "papermill": {
     "duration": 0.022514,
     "end_time": "2023-07-23T11:47:55.639226",
     "exception": false,
     "start_time": "2023-07-23T11:47:55.616712",
     "status": "completed"
    },
    "tags": []
   },
   "source": [
    "However, transactions in this data are destined for both Customers and Merchants."
   ]
  },
  {
   "cell_type": "code",
   "execution_count": 8,
   "id": "8898f688",
   "metadata": {
    "execution": {
     "iopub.execute_input": "2023-07-23T11:47:55.685580Z",
     "iopub.status.busy": "2023-07-23T11:47:55.685170Z",
     "iopub.status.idle": "2023-07-23T11:47:59.800882Z",
     "shell.execute_reply": "2023-07-23T11:47:59.799635Z"
    },
    "papermill": {
     "duration": 4.142996,
     "end_time": "2023-07-23T11:47:59.804118",
     "exception": false,
     "start_time": "2023-07-23T11:47:55.661122",
     "status": "completed"
    },
    "tags": []
   },
   "outputs": [
    {
     "data": {
      "text/plain": [
       "array(['C', 'M'], dtype='<U1')"
      ]
     },
     "execution_count": 8,
     "metadata": {},
     "output_type": "execute_result"
    }
   ],
   "source": [
    "np.unique(np.array([x[0] for x in fraud['nameDest']]))"
   ]
  },
  {
   "cell_type": "code",
   "execution_count": 9,
   "id": "4bfbd652",
   "metadata": {
    "execution": {
     "iopub.execute_input": "2023-07-23T11:47:59.851367Z",
     "iopub.status.busy": "2023-07-23T11:47:59.850933Z",
     "iopub.status.idle": "2023-07-23T11:48:13.092547Z",
     "shell.execute_reply": "2023-07-23T11:48:13.090999Z"
    },
    "papermill": {
     "duration": 13.268799,
     "end_time": "2023-07-23T11:48:13.095407",
     "exception": false,
     "start_time": "2023-07-23T11:47:59.826608",
     "status": "completed"
    },
    "tags": []
   },
   "outputs": [
    {
     "data": {
      "text/plain": [
       "array(['CASH_IN', 'CASH_OUT', 'DEBIT', 'PAYMENT', 'TRANSFER'],\n",
       "      dtype=object)"
      ]
     },
     "execution_count": 9,
     "metadata": {},
     "output_type": "execute_result"
    }
   ],
   "source": [
    "np.unique(fraud['type'])"
   ]
  },
  {
   "cell_type": "markdown",
   "id": "85ea76f6",
   "metadata": {
    "papermill": {
     "duration": 0.022004,
     "end_time": "2023-07-23T11:48:13.139779",
     "exception": false,
     "start_time": "2023-07-23T11:48:13.117775",
     "status": "completed"
    },
    "tags": []
   },
   "source": [
    "Now,as the above cell shows, there are 5 different types of transactions in this dataset. Some types could have a higher correlation fraud compared to other types. It makes sense to do a one-hot encoding of this Column and add that to the dataset and then drop this column, which is done in the preprocessing function in the cell below.\n",
    "\n",
    "Also, since the 'nameOrig' column contains customers of a single type, it make sense to remove the prefix letter from the 'nameOrig' column and just retain the number. The 'nameDest' column contains customers of both types, so I create a new column named 'Desttype' containing the destination customer type. At the same time,I also removing the prefix indicating the customer type in the 'nameDest' column. And at last, I one-hot encode the new column 'Desttype' as it contains categorical values from two different categories and add it to the dataset while ultimately dropping the 'type' and 'Desttype' columns as the data they contain is already available in other columns.  All this is implemented via the preprocessing function defined in the cell below."
   ]
  },
  {
   "cell_type": "code",
   "execution_count": 10,
   "id": "c8058da5",
   "metadata": {
    "execution": {
     "iopub.execute_input": "2023-07-23T11:48:13.187453Z",
     "iopub.status.busy": "2023-07-23T11:48:13.186973Z",
     "iopub.status.idle": "2023-07-23T11:48:13.195755Z",
     "shell.execute_reply": "2023-07-23T11:48:13.194312Z"
    },
    "papermill": {
     "duration": 0.036038,
     "end_time": "2023-07-23T11:48:13.198328",
     "exception": false,
     "start_time": "2023-07-23T11:48:13.162290",
     "status": "completed"
    },
    "tags": []
   },
   "outputs": [],
   "source": [
    "def preprocessing(df):\n",
    "    df['nameOrig']=np.array([x[1:] for x in df['nameOrig']]).astype(np.int64) #removing the prefix letter C indicating customer type from 'nameOrig' column\n",
    "    df['Desttype']=[x[0] for x in df['nameDest']] #extracting the prefix letter indicating customer type from the 'nameDest' column and creating a new column\n",
    "    df['nameDest']=np.array([x[1:] for x in df['nameDest']]).astype(np.int64) #extracting the prefix letter indicating customer type from the 'nameDest' column\n",
    "    dummies=pd.get_dummies(df,columns=['type','Desttype']) #one-hot-encoding \n",
    "    for column in dummies.columns:\n",
    "        df[column]=dummies[column]\n",
    "    df=df.drop(['type','Desttype'],axis=1) \n",
    "    return df"
   ]
  },
  {
   "cell_type": "code",
   "execution_count": 11,
   "id": "79f7454e",
   "metadata": {
    "execution": {
     "iopub.execute_input": "2023-07-23T11:48:13.246293Z",
     "iopub.status.busy": "2023-07-23T11:48:13.245831Z",
     "iopub.status.idle": "2023-07-23T11:48:38.297962Z",
     "shell.execute_reply": "2023-07-23T11:48:38.296610Z"
    },
    "papermill": {
     "duration": 25.080316,
     "end_time": "2023-07-23T11:48:38.300982",
     "exception": false,
     "start_time": "2023-07-23T11:48:13.220666",
     "status": "completed"
    },
    "tags": []
   },
   "outputs": [],
   "source": [
    "fraud=preprocessing(fraud)"
   ]
  },
  {
   "cell_type": "code",
   "execution_count": 12,
   "id": "fc60140f",
   "metadata": {
    "execution": {
     "iopub.execute_input": "2023-07-23T11:48:38.348730Z",
     "iopub.status.busy": "2023-07-23T11:48:38.348229Z",
     "iopub.status.idle": "2023-07-23T11:48:38.373727Z",
     "shell.execute_reply": "2023-07-23T11:48:38.372537Z"
    },
    "papermill": {
     "duration": 0.052974,
     "end_time": "2023-07-23T11:48:38.376748",
     "exception": false,
     "start_time": "2023-07-23T11:48:38.323774",
     "status": "completed"
    },
    "tags": []
   },
   "outputs": [
    {
     "data": {
      "text/html": [
       "<div>\n",
       "<style scoped>\n",
       "    .dataframe tbody tr th:only-of-type {\n",
       "        vertical-align: middle;\n",
       "    }\n",
       "\n",
       "    .dataframe tbody tr th {\n",
       "        vertical-align: top;\n",
       "    }\n",
       "\n",
       "    .dataframe thead th {\n",
       "        text-align: right;\n",
       "    }\n",
       "</style>\n",
       "<table border=\"1\" class=\"dataframe\">\n",
       "  <thead>\n",
       "    <tr style=\"text-align: right;\">\n",
       "      <th></th>\n",
       "      <th>step</th>\n",
       "      <th>amount</th>\n",
       "      <th>nameOrig</th>\n",
       "      <th>oldbalanceOrg</th>\n",
       "      <th>newbalanceOrig</th>\n",
       "      <th>nameDest</th>\n",
       "      <th>oldbalanceDest</th>\n",
       "      <th>newbalanceDest</th>\n",
       "      <th>isFraud</th>\n",
       "      <th>isFlaggedFraud</th>\n",
       "      <th>type_CASH_IN</th>\n",
       "      <th>type_CASH_OUT</th>\n",
       "      <th>type_DEBIT</th>\n",
       "      <th>type_PAYMENT</th>\n",
       "      <th>type_TRANSFER</th>\n",
       "      <th>Desttype_C</th>\n",
       "      <th>Desttype_M</th>\n",
       "    </tr>\n",
       "  </thead>\n",
       "  <tbody>\n",
       "    <tr>\n",
       "      <th>0</th>\n",
       "      <td>1</td>\n",
       "      <td>9839.64</td>\n",
       "      <td>1231006815</td>\n",
       "      <td>170136.0</td>\n",
       "      <td>160296.36</td>\n",
       "      <td>1979787155</td>\n",
       "      <td>0.0</td>\n",
       "      <td>0.0</td>\n",
       "      <td>0</td>\n",
       "      <td>0</td>\n",
       "      <td>0</td>\n",
       "      <td>0</td>\n",
       "      <td>0</td>\n",
       "      <td>1</td>\n",
       "      <td>0</td>\n",
       "      <td>0</td>\n",
       "      <td>1</td>\n",
       "    </tr>\n",
       "    <tr>\n",
       "      <th>1</th>\n",
       "      <td>1</td>\n",
       "      <td>1864.28</td>\n",
       "      <td>1666544295</td>\n",
       "      <td>21249.0</td>\n",
       "      <td>19384.72</td>\n",
       "      <td>2044282225</td>\n",
       "      <td>0.0</td>\n",
       "      <td>0.0</td>\n",
       "      <td>0</td>\n",
       "      <td>0</td>\n",
       "      <td>0</td>\n",
       "      <td>0</td>\n",
       "      <td>0</td>\n",
       "      <td>1</td>\n",
       "      <td>0</td>\n",
       "      <td>0</td>\n",
       "      <td>1</td>\n",
       "    </tr>\n",
       "    <tr>\n",
       "      <th>2</th>\n",
       "      <td>1</td>\n",
       "      <td>181.00</td>\n",
       "      <td>1305486145</td>\n",
       "      <td>181.0</td>\n",
       "      <td>0.00</td>\n",
       "      <td>553264065</td>\n",
       "      <td>0.0</td>\n",
       "      <td>0.0</td>\n",
       "      <td>1</td>\n",
       "      <td>0</td>\n",
       "      <td>0</td>\n",
       "      <td>0</td>\n",
       "      <td>0</td>\n",
       "      <td>0</td>\n",
       "      <td>1</td>\n",
       "      <td>1</td>\n",
       "      <td>0</td>\n",
       "    </tr>\n",
       "    <tr>\n",
       "      <th>3</th>\n",
       "      <td>1</td>\n",
       "      <td>181.00</td>\n",
       "      <td>840083671</td>\n",
       "      <td>181.0</td>\n",
       "      <td>0.00</td>\n",
       "      <td>38997010</td>\n",
       "      <td>21182.0</td>\n",
       "      <td>0.0</td>\n",
       "      <td>1</td>\n",
       "      <td>0</td>\n",
       "      <td>0</td>\n",
       "      <td>1</td>\n",
       "      <td>0</td>\n",
       "      <td>0</td>\n",
       "      <td>0</td>\n",
       "      <td>1</td>\n",
       "      <td>0</td>\n",
       "    </tr>\n",
       "    <tr>\n",
       "      <th>4</th>\n",
       "      <td>1</td>\n",
       "      <td>11668.14</td>\n",
       "      <td>2048537720</td>\n",
       "      <td>41554.0</td>\n",
       "      <td>29885.86</td>\n",
       "      <td>1230701703</td>\n",
       "      <td>0.0</td>\n",
       "      <td>0.0</td>\n",
       "      <td>0</td>\n",
       "      <td>0</td>\n",
       "      <td>0</td>\n",
       "      <td>0</td>\n",
       "      <td>0</td>\n",
       "      <td>1</td>\n",
       "      <td>0</td>\n",
       "      <td>0</td>\n",
       "      <td>1</td>\n",
       "    </tr>\n",
       "  </tbody>\n",
       "</table>\n",
       "</div>"
      ],
      "text/plain": [
       "   step    amount    nameOrig  oldbalanceOrg  newbalanceOrig    nameDest  \\\n",
       "0     1   9839.64  1231006815       170136.0       160296.36  1979787155   \n",
       "1     1   1864.28  1666544295        21249.0        19384.72  2044282225   \n",
       "2     1    181.00  1305486145          181.0            0.00   553264065   \n",
       "3     1    181.00   840083671          181.0            0.00    38997010   \n",
       "4     1  11668.14  2048537720        41554.0        29885.86  1230701703   \n",
       "\n",
       "   oldbalanceDest  newbalanceDest  isFraud  isFlaggedFraud  type_CASH_IN  \\\n",
       "0             0.0             0.0        0               0             0   \n",
       "1             0.0             0.0        0               0             0   \n",
       "2             0.0             0.0        1               0             0   \n",
       "3         21182.0             0.0        1               0             0   \n",
       "4             0.0             0.0        0               0             0   \n",
       "\n",
       "   type_CASH_OUT  type_DEBIT  type_PAYMENT  type_TRANSFER  Desttype_C  \\\n",
       "0              0           0             1              0           0   \n",
       "1              0           0             1              0           0   \n",
       "2              0           0             0              1           1   \n",
       "3              1           0             0              0           1   \n",
       "4              0           0             1              0           0   \n",
       "\n",
       "   Desttype_M  \n",
       "0           1  \n",
       "1           1  \n",
       "2           0  \n",
       "3           0  \n",
       "4           1  "
      ]
     },
     "execution_count": 12,
     "metadata": {},
     "output_type": "execute_result"
    }
   ],
   "source": [
    "fraud.head()"
   ]
  },
  {
   "cell_type": "markdown",
   "id": "da945c3f",
   "metadata": {
    "papermill": {
     "duration": 0.022983,
     "end_time": "2023-07-23T11:48:38.423101",
     "exception": false,
     "start_time": "2023-07-23T11:48:38.400118",
     "status": "completed"
    },
    "tags": []
   },
   "source": [
    "As it can be seen above, we have a much cleaner dataset.\n",
    "\n",
    "Now, I try and analyse whether the system is currently able to flag fraud transactions efficiently or not."
   ]
  },
  {
   "cell_type": "code",
   "execution_count": 13,
   "id": "db6448ea",
   "metadata": {
    "execution": {
     "iopub.execute_input": "2023-07-23T11:48:38.471898Z",
     "iopub.status.busy": "2023-07-23T11:48:38.470624Z",
     "iopub.status.idle": "2023-07-23T11:48:39.147296Z",
     "shell.execute_reply": "2023-07-23T11:48:39.145662Z"
    },
    "papermill": {
     "duration": 0.705811,
     "end_time": "2023-07-23T11:48:39.151845",
     "exception": false,
     "start_time": "2023-07-23T11:48:38.446034",
     "status": "completed"
    },
    "tags": []
   },
   "outputs": [
    {
     "name": "stdout",
     "output_type": "stream",
     "text": [
      "No. of fraud transactions:  8213 \n",
      "No. of fraud transactions which were flagged fraud:  16 \n",
      " No. of fraud transactions which were not flagged fraud:  8197 \n",
      " No. of genuine transactions which were falsely flagged fraud :  0\n"
     ]
    }
   ],
   "source": [
    "fraud_transactions=fraud.loc[fraud[\"isFraud\"]==1]\n",
    "fraud_and_flagged_fraud_transactions=fraud_transactions.loc[fraud_transactions[\"isFlaggedFraud\"]==1]\n",
    "fraud_and_not_flagged_fraud_transactions=fraud_transactions.loc[fraud_transactions[\"isFlaggedFraud\"]==0]\n",
    "false_flags=fraud.loc[fraud[\"isFlaggedFraud\"]==1].loc[fraud[\"isFraud\"]==0]\n",
    "print(\"No. of fraud transactions: \",len(fraud_transactions),\n",
    "      \"\\nNo. of fraud transactions which were flagged fraud: \",len(fraud_and_flagged_fraud_transactions),\n",
    "      \"\\n No. of fraud transactions which were not flagged fraud: \",len(fraud_and_not_flagged_fraud_transactions),\n",
    "      \"\\n No. of genuine transactions which were falsely flagged fraud : \",len(false_flags))"
   ]
  },
  {
   "cell_type": "markdown",
   "id": "3ee07f0c",
   "metadata": {
    "papermill": {
     "duration": 0.025532,
     "end_time": "2023-07-23T11:48:39.201070",
     "exception": false,
     "start_time": "2023-07-23T11:48:39.175538",
     "status": "completed"
    },
    "tags": []
   },
   "source": [
    "So, here lies the problem. The fraud detection algorithms in place are not all accurate enough to detect the fraud transactions. As it can be observed from the above cell that the fraud detection algorithm can only detect 16 out 8213 fraud transactions."
   ]
  },
  {
   "cell_type": "markdown",
   "id": "ae0084fa",
   "metadata": {
    "papermill": {
     "duration": 0.023678,
     "end_time": "2023-07-23T11:48:39.249786",
     "exception": false,
     "start_time": "2023-07-23T11:48:39.226108",
     "status": "completed"
    },
    "tags": []
   },
   "source": [
    "To check correlation among the columns, I plot the correlation matrix."
   ]
  },
  {
   "cell_type": "code",
   "execution_count": 14,
   "id": "9db77334",
   "metadata": {
    "execution": {
     "iopub.execute_input": "2023-07-23T11:48:39.299002Z",
     "iopub.status.busy": "2023-07-23T11:48:39.298151Z",
     "iopub.status.idle": "2023-07-23T11:48:47.425172Z",
     "shell.execute_reply": "2023-07-23T11:48:47.423871Z"
    },
    "papermill": {
     "duration": 8.155664,
     "end_time": "2023-07-23T11:48:47.428570",
     "exception": false,
     "start_time": "2023-07-23T11:48:39.272906",
     "status": "completed"
    },
    "tags": []
   },
   "outputs": [
    {
     "data": {
      "image/png": "[encoded data removed]",
      "text/plain": [
       "<Figure size 500x500 with 2 Axes>"
      ]
     },
     "metadata": {},
     "output_type": "display_data"
    }
   ],
   "source": [
    "f=plt.figure(figsize=(5,5))\n",
    "plt.matshow(fraud.corr(numeric_only=False),fignum=f.number)\n",
    "plt.xticks(range(fraud.select_dtypes(['number','object']).shape[1]),fraud.select_dtypes(['number','object']).columns,fontsize=14,rotation=90)\n",
    "plt.yticks(range(fraud.select_dtypes(['number','object']).shape[1]),fraud.select_dtypes(['number','object']).columns,fontsize=14)\n",
    "cb = plt.colorbar()\n",
    "cb.ax.tick_params(labelsize=14)\n",
    "plt.title('Correlation Matrix',fontsize=16);"
   ]
  },
  {
   "cell_type": "markdown",
   "id": "562d4a7f",
   "metadata": {
    "papermill": {
     "duration": 0.024404,
     "end_time": "2023-07-23T11:48:47.478005",
     "exception": false,
     "start_time": "2023-07-23T11:48:47.453601",
     "status": "completed"
    },
    "tags": []
   },
   "source": [
    "From here it can be seen that newbalanceOrig and oldbalanceOrig columns have very high correlation(Almost 1). So,dropping one of these makes sense. I will be dropping the newbalanceOrig column. There is not much clear and useful info here apart from this,so, I check the correlation coefficients of the columns with the 'isFraud' column only to gather some detailed insight."
   ]
  },
  {
   "cell_type": "code",
   "execution_count": 15,
   "id": "23d57bde",
   "metadata": {
    "execution": {
     "iopub.execute_input": "2023-07-23T11:48:47.529751Z",
     "iopub.status.busy": "2023-07-23T11:48:47.528798Z",
     "iopub.status.idle": "2023-07-23T11:48:53.555245Z",
     "shell.execute_reply": "2023-07-23T11:48:53.553898Z"
    },
    "papermill": {
     "duration": 6.055254,
     "end_time": "2023-07-23T11:48:53.557896",
     "exception": false,
     "start_time": "2023-07-23T11:48:47.502642",
     "status": "completed"
    },
    "tags": []
   },
   "outputs": [
    {
     "data": {
      "text/plain": [
       "isFraud           1.000000\n",
       "amount            0.076688\n",
       "type_TRANSFER     0.053869\n",
       "isFlaggedFraud    0.044109\n",
       "step              0.031578\n",
       "Desttype_C        0.025697\n",
       "type_CASH_OUT     0.011256\n",
       "oldbalanceOrg     0.010154\n",
       "newbalanceDest    0.000535\n",
       "nameOrig          0.000470\n",
       "nameDest         -0.000141\n",
       "type_DEBIT       -0.002911\n",
       "oldbalanceDest   -0.005885\n",
       "newbalanceOrig   -0.008148\n",
       "type_CASH_IN     -0.019089\n",
       "type_PAYMENT     -0.025697\n",
       "Desttype_M       -0.025697\n",
       "Name: isFraud, dtype: float64"
      ]
     },
     "execution_count": 15,
     "metadata": {},
     "output_type": "execute_result"
    }
   ],
   "source": [
    "fraud.corr(numeric_only=False)[\"isFraud\"].sort_values(ascending=False)"
   ]
  },
  {
   "cell_type": "markdown",
   "id": "5fbad15b",
   "metadata": {
    "papermill": {
     "duration": 0.024839,
     "end_time": "2023-07-23T11:48:53.608012",
     "exception": false,
     "start_time": "2023-07-23T11:48:53.583173",
     "status": "completed"
    },
    "tags": []
   },
   "source": [
    "Upon taking a look at the coefficients above,some conclusions can be made:- \n",
    "\n",
    "1.The amount of transaction is a  key factor in behind whether a transaction is fraud or not. \n",
    "\n",
    "2.Also,TRANSFER and CASH_OUT transactions are relatively more likely to be fraud than other kinds of transactions. \n",
    "\n",
    "3.Most fraud transactions have a destination customer of type 'C', and transactions destined for merchants are very less likely to be fraud. \n",
    "\n",
    "4.The higher the initial balance in the origin account before the transaction,more is the chances of it being susceptible to a fraud transaction.This completely makes sense as scammers are more likely to target higher value accounts.\n",
    "\n",
    "5.The time when the transaction occurs is also marginally related to the chances of the transaction being fraud.\n",
    "\n",
    "6.The balance in the destination account is marginally positively related to the possibilty of a transaction being fraud.\n",
    "\n",
    "7.The name of the customer from which the transaction originates is also marginally positively related to the possibilty of a transaction being fraud.\n",
    "\n",
    "Most of these observations make sense except for maybe observation no. 7.\n",
    "\n",
    "Now,both the name columns are not exactly numerical columns but they are rather categorical columns as they represent individual customer names. Now as shown in the cell below, the no. of such names is very high."
   ]
  },
  {
   "cell_type": "code",
   "execution_count": 16,
   "id": "0c51f98c",
   "metadata": {
    "execution": {
     "iopub.execute_input": "2023-07-23T11:48:53.661372Z",
     "iopub.status.busy": "2023-07-23T11:48:53.660909Z",
     "iopub.status.idle": "2023-07-23T11:48:54.423210Z",
     "shell.execute_reply": "2023-07-23T11:48:54.421965Z"
    },
    "papermill": {
     "duration": 0.791657,
     "end_time": "2023-07-23T11:48:54.426238",
     "exception": false,
     "start_time": "2023-07-23T11:48:53.634581",
     "status": "completed"
    },
    "tags": []
   },
   "outputs": [
    {
     "data": {
      "text/plain": [
       "6356312"
      ]
     },
     "execution_count": 16,
     "metadata": {},
     "output_type": "execute_result"
    }
   ],
   "source": [
    "len(np.unique(fraud['nameOrig']+fraud['nameDest']))"
   ]
  },
  {
   "cell_type": "markdown",
   "id": "a4d9e37d",
   "metadata": {
    "papermill": {
     "duration": 0.025122,
     "end_time": "2023-07-23T11:48:54.476861",
     "exception": false,
     "start_time": "2023-07-23T11:48:54.451739",
     "status": "completed"
    },
    "tags": []
   },
   "source": [
    "Encoding these many names in order to feed it to the dataset does not sound rational as the correlation coefficient of 'nameOrig' is just 0.000470 and that of 'nameDest' is an even lower -0.025697.  It makes more sense to drop these columns before feeding the data to the model. This is done in final_split_data() function in the below cell which also performs Min-Max scaling on the data, which is entirely numerical at this point.\n",
    "\n",
    "In the function, The 'isFlaggedFraud' column is also dropped as it doesn't contribute much in determining whether the transaction is fraud or not as the flagging algorithm is very weak.Also, I aim to make the model independent of time in order to have a more robust model so the time indicator column named 'step' is also dropped. \n",
    "\n",
    "Also,the function splits the data into train and test sets and returns it. #Since, this is time series data, special care is taken to ensure that data is split along the time dimension. The train set contains the first 50% length of the data,and the remaining 50% is in the test set.#"
   ]
  },
  {
   "cell_type": "code",
   "execution_count": 17,
   "id": "d6a31a3f",
   "metadata": {
    "execution": {
     "iopub.execute_input": "2023-07-23T11:48:54.529659Z",
     "iopub.status.busy": "2023-07-23T11:48:54.529186Z",
     "iopub.status.idle": "2023-07-23T11:48:54.537496Z",
     "shell.execute_reply": "2023-07-23T11:48:54.536036Z"
    },
    "papermill": {
     "duration": 0.037777,
     "end_time": "2023-07-23T11:48:54.540113",
     "exception": false,
     "start_time": "2023-07-23T11:48:54.502336",
     "status": "completed"
    },
    "tags": []
   },
   "outputs": [],
   "source": [
    "def final_split_data(df):\n",
    "    df=df.drop([\"nameOrig\",\"nameDest\",\"newbalanceOrig\",\"isFlaggedFraud\",\"step\"],axis=1)\n",
    "    df=(df-df.min())/(df.max()-df.min()+1e-16) #min_max_scaling\n",
    "    X,y=df.drop([\"isFraud\"],axis=1),df[\"isFraud\"]\n",
    "    X_train,X_test,y_train,y_test=train_test_split(X,y,train_size=0.7,random_state=42)\n",
    "    return(X_train,X_test,y_train,y_test)"
   ]
  },
  {
   "cell_type": "code",
   "execution_count": 18,
   "id": "ccc2cee2",
   "metadata": {
    "execution": {
     "iopub.execute_input": "2023-07-23T11:48:54.592176Z",
     "iopub.status.busy": "2023-07-23T11:48:54.591698Z",
     "iopub.status.idle": "2023-07-23T11:48:59.437865Z",
     "shell.execute_reply": "2023-07-23T11:48:59.436551Z"
    },
    "papermill": {
     "duration": 4.875734,
     "end_time": "2023-07-23T11:48:59.440972",
     "exception": false,
     "start_time": "2023-07-23T11:48:54.565238",
     "status": "completed"
    },
    "tags": []
   },
   "outputs": [],
   "source": [
    "X_train,X_test,y_train,y_test=final_split_data(fraud)"
   ]
  },
  {
   "cell_type": "code",
   "execution_count": 19,
   "id": "e94b3d69",
   "metadata": {
    "execution": {
     "iopub.execute_input": "2023-07-23T11:48:59.494933Z",
     "iopub.status.busy": "2023-07-23T11:48:59.493985Z",
     "iopub.status.idle": "2023-07-23T11:48:59.517579Z",
     "shell.execute_reply": "2023-07-23T11:48:59.516334Z"
    },
    "papermill": {
     "duration": 0.05329,
     "end_time": "2023-07-23T11:48:59.520278",
     "exception": false,
     "start_time": "2023-07-23T11:48:59.466988",
     "status": "completed"
    },
    "tags": []
   },
   "outputs": [
    {
     "data": {
      "text/html": [
       "<div>\n",
       "<style scoped>\n",
       "    .dataframe tbody tr th:only-of-type {\n",
       "        vertical-align: middle;\n",
       "    }\n",
       "\n",
       "    .dataframe tbody tr th {\n",
       "        vertical-align: top;\n",
       "    }\n",
       "\n",
       "    .dataframe thead th {\n",
       "        text-align: right;\n",
       "    }\n",
       "</style>\n",
       "<table border=\"1\" class=\"dataframe\">\n",
       "  <thead>\n",
       "    <tr style=\"text-align: right;\">\n",
       "      <th></th>\n",
       "      <th>amount</th>\n",
       "      <th>oldbalanceOrg</th>\n",
       "      <th>oldbalanceDest</th>\n",
       "      <th>newbalanceDest</th>\n",
       "      <th>type_CASH_IN</th>\n",
       "      <th>type_CASH_OUT</th>\n",
       "      <th>type_DEBIT</th>\n",
       "      <th>type_PAYMENT</th>\n",
       "      <th>type_TRANSFER</th>\n",
       "      <th>Desttype_C</th>\n",
       "      <th>Desttype_M</th>\n",
       "    </tr>\n",
       "  </thead>\n",
       "  <tbody>\n",
       "    <tr>\n",
       "      <th>2408104</th>\n",
       "      <td>0.000290</td>\n",
       "      <td>0.000462</td>\n",
       "      <td>0.020155</td>\n",
       "      <td>0.020071</td>\n",
       "      <td>1.0</td>\n",
       "      <td>0.0</td>\n",
       "      <td>0.0</td>\n",
       "      <td>0.0</td>\n",
       "      <td>0.0</td>\n",
       "      <td>1.0</td>\n",
       "      <td>0.0</td>\n",
       "    </tr>\n",
       "    <tr>\n",
       "      <th>662430</th>\n",
       "      <td>0.003731</td>\n",
       "      <td>0.000000</td>\n",
       "      <td>0.010482</td>\n",
       "      <td>0.011446</td>\n",
       "      <td>0.0</td>\n",
       "      <td>1.0</td>\n",
       "      <td>0.0</td>\n",
       "      <td>0.0</td>\n",
       "      <td>0.0</td>\n",
       "      <td>1.0</td>\n",
       "      <td>0.0</td>\n",
       "    </tr>\n",
       "    <tr>\n",
       "      <th>496595</th>\n",
       "      <td>0.020148</td>\n",
       "      <td>0.000000</td>\n",
       "      <td>0.009353</td>\n",
       "      <td>0.013795</td>\n",
       "      <td>0.0</td>\n",
       "      <td>0.0</td>\n",
       "      <td>0.0</td>\n",
       "      <td>0.0</td>\n",
       "      <td>1.0</td>\n",
       "      <td>1.0</td>\n",
       "      <td>0.0</td>\n",
       "    </tr>\n",
       "    <tr>\n",
       "      <th>5053741</th>\n",
       "      <td>0.000408</td>\n",
       "      <td>0.001119</td>\n",
       "      <td>0.000000</td>\n",
       "      <td>0.000000</td>\n",
       "      <td>0.0</td>\n",
       "      <td>0.0</td>\n",
       "      <td>0.0</td>\n",
       "      <td>1.0</td>\n",
       "      <td>0.0</td>\n",
       "      <td>0.0</td>\n",
       "      <td>1.0</td>\n",
       "    </tr>\n",
       "    <tr>\n",
       "      <th>755621</th>\n",
       "      <td>0.004068</td>\n",
       "      <td>0.000378</td>\n",
       "      <td>0.000512</td>\n",
       "      <td>0.001568</td>\n",
       "      <td>0.0</td>\n",
       "      <td>1.0</td>\n",
       "      <td>0.0</td>\n",
       "      <td>0.0</td>\n",
       "      <td>0.0</td>\n",
       "      <td>1.0</td>\n",
       "      <td>0.0</td>\n",
       "    </tr>\n",
       "  </tbody>\n",
       "</table>\n",
       "</div>"
      ],
      "text/plain": [
       "           amount  oldbalanceOrg  oldbalanceDest  newbalanceDest  \\\n",
       "2408104  0.000290       0.000462        0.020155        0.020071   \n",
       "662430   0.003731       0.000000        0.010482        0.011446   \n",
       "496595   0.020148       0.000000        0.009353        0.013795   \n",
       "5053741  0.000408       0.001119        0.000000        0.000000   \n",
       "755621   0.004068       0.000378        0.000512        0.001568   \n",
       "\n",
       "         type_CASH_IN  type_CASH_OUT  type_DEBIT  type_PAYMENT  type_TRANSFER  \\\n",
       "2408104           1.0            0.0         0.0           0.0            0.0   \n",
       "662430            0.0            1.0         0.0           0.0            0.0   \n",
       "496595            0.0            0.0         0.0           0.0            1.0   \n",
       "5053741           0.0            0.0         0.0           1.0            0.0   \n",
       "755621            0.0            1.0         0.0           0.0            0.0   \n",
       "\n",
       "         Desttype_C  Desttype_M  \n",
       "2408104         1.0         0.0  \n",
       "662430          1.0         0.0  \n",
       "496595          1.0         0.0  \n",
       "5053741         0.0         1.0  \n",
       "755621          1.0         0.0  "
      ]
     },
     "execution_count": 19,
     "metadata": {},
     "output_type": "execute_result"
    }
   ],
   "source": [
    "X_train.head()"
   ]
  },
  {
   "cell_type": "markdown",
   "id": "42f6a8b6",
   "metadata": {
    "papermill": {
     "duration": 0.025088,
     "end_time": "2023-07-23T11:48:59.571776",
     "exception": false,
     "start_time": "2023-07-23T11:48:59.546688",
     "status": "completed"
    },
    "tags": []
   },
   "source": [
    "Now, it will be a good idea to free up some RAM by deleting the variables which are no longer needed."
   ]
  },
  {
   "cell_type": "code",
   "execution_count": 20,
   "id": "fdcdab42",
   "metadata": {
    "execution": {
     "iopub.execute_input": "2023-07-23T11:48:59.628205Z",
     "iopub.status.busy": "2023-07-23T11:48:59.627251Z",
     "iopub.status.idle": "2023-07-23T11:48:59.801157Z",
     "shell.execute_reply": "2023-07-23T11:48:59.799856Z"
    },
    "papermill": {
     "duration": 0.205206,
     "end_time": "2023-07-23T11:48:59.804024",
     "exception": false,
     "start_time": "2023-07-23T11:48:59.598818",
     "status": "completed"
    },
    "tags": []
   },
   "outputs": [
    {
     "data": {
      "text/plain": [
       "67"
      ]
     },
     "execution_count": 20,
     "metadata": {},
     "output_type": "execute_result"
    }
   ],
   "source": [
    "del fraud,fraud_transactions,fraud_and_flagged_fraud_transactions,fraud_and_not_flagged_fraud_transactions,false_flags\n",
    "gc.collect()"
   ]
  },
  {
   "cell_type": "markdown",
   "id": "ab1348fe",
   "metadata": {
    "execution": {
     "iopub.execute_input": "2023-07-23T07:12:01.486421Z",
     "iopub.status.busy": "2023-07-23T07:12:01.485991Z",
     "iopub.status.idle": "2023-07-23T07:12:01.494225Z",
     "shell.execute_reply": "2023-07-23T07:12:01.492194Z",
     "shell.execute_reply.started": "2023-07-23T07:12:01.486387Z"
    },
    "papermill": {
     "duration": 0.028199,
     "end_time": "2023-07-23T11:48:59.859038",
     "exception": false,
     "start_time": "2023-07-23T11:48:59.830839",
     "status": "completed"
    },
    "tags": []
   },
   "source": [
    "Now,I check the balance of the dataset. As the below cell shows, the train set is highly imbalanced in favour of the Genuine transactions, which is not surprising as Fraud transactions are much less common than Genuine Transactions."
   ]
  },
  {
   "cell_type": "code",
   "execution_count": 21,
   "id": "ef961692",
   "metadata": {
    "execution": {
     "iopub.execute_input": "2023-07-23T11:48:59.917713Z",
     "iopub.status.busy": "2023-07-23T11:48:59.917171Z",
     "iopub.status.idle": "2023-07-23T11:49:00.255270Z",
     "shell.execute_reply": "2023-07-23T11:49:00.253729Z"
    },
    "papermill": {
     "duration": 0.372318,
     "end_time": "2023-07-23T11:49:00.258201",
     "exception": false,
     "start_time": "2023-07-23T11:48:59.885883",
     "status": "completed"
    },
    "tags": []
   },
   "outputs": [
    {
     "data": {
      "text/html": [
       "        <script type=\"text/javascript\">\n",
       "        window.PlotlyConfig = {MathJaxConfig: 'local'};\n",
       "        if (window.MathJax && window.MathJax.Hub && window.MathJax.Hub.Config) {window.MathJax.Hub.Config({SVG: {font: \"STIX-Web\"}});}\n",
       "        if (typeof require !== 'undefined') {\n",
       "        require.undef(\"plotly\");\n",
       "        requirejs.config({\n",
       "            paths: {\n",
       "                'plotly': ['https://cdn.plot.ly/plotly-2.24.1.min']\n",
       "            }\n",
       "        });\n",
       "        require(['plotly'], function(Plotly) {\n",
       "            window._Plotly = Plotly;\n",
       "        });\n",
       "        }\n",
       "        </script>\n",
       "        "
      ]
     },
     "metadata": {},
     "output_type": "display_data"
    },
    {
     "data": {
      "text/html": [
       "<div>                            <div id=\"8931b263-f2d9-46bf-ae91-74c8ae2eb5a1\" class=\"plotly-graph-div\" style=\"height:525px; width:100%;\"></div>            <script type=\"text/javascript\">                require([\"plotly\"], function(Plotly) {                    window.PLOTLYENV=window.PLOTLYENV || {};                                    if (document.getElementById(\"8931b263-f2d9-46bf-ae91-74c8ae2eb5a1\")) {                    Plotly.newPlot(                        \"8931b263-f2d9-46bf-ae91-74c8ae2eb5a1\",                        [{\"labels\":[\"Genuine\",\"Fraud\"],\"values\":[4448056,5778],\"type\":\"pie\"}],                        {\"template\":{\"data\":{\"histogram2dcontour\":[{\"type\":\"histogram2dcontour\",\"colorbar\":{\"outlinewidth\":0,\"ticks\":\"\"},\"colorscale\":[[0.0,\"#0d0887\"],[0.1111111111111111,\"#46039f\"],[0.2222222222222222,\"#7201a8\"],[0.3333333333333333,\"#9c179e\"],[0.4444444444444444,\"#bd3786\"],[0.5555555555555556,\"#d8576b\"],[0.6666666666666666,\"#ed7953\"],[0.7777777777777778,\"#fb9f3a\"],[0.8888888888888888,\"#fdca26\"],[1.0,\"#f0f921\"]]}],\"choropleth\":[{\"type\":\"choropleth\",\"colorbar\":{\"outlinewidth\":0,\"ticks\":\"\"}}],\"histogram2d\":[{\"type\":\"histogram2d\",\"colorbar\":{\"outlinewidth\":0,\"ticks\":\"\"},\"colorscale\":[[0.0,\"#0d0887\"],[0.1111111111111111,\"#46039f\"],[0.2222222222222222,\"#7201a8\"],[0.3333333333333333,\"#9c179e\"],[0.4444444444444444,\"#bd3786\"],[0.5555555555555556,\"#d8576b\"],[0.6666666666666666,\"#ed7953\"],[0.7777777777777778,\"#fb9f3a\"],[0.8888888888888888,\"#fdca26\"],[1.0,\"#f0f921\"]]}],\"heatmap\":[{\"type\":\"heatmap\",\"colorbar\":{\"outlinewidth\":0,\"ticks\":\"\"},\"colorscale\":[[0.0,\"#0d0887\"],[0.1111111111111111,\"#46039f\"],[0.2222222222222222,\"#7201a8\"],[0.3333333333333333,\"#9c179e\"],[0.4444444444444444,\"#bd3786\"],[0.5555555555555556,\"#d8576b\"],[0.6666666666666666,\"#ed7953\"],[0.7777777777777778,\"#fb9f3a\"],[0.8888888888888888,\"#fdca26\"],[1.0,\"#f0f921\"]]}],\"heatmapgl\":[{\"type\":\"heatmapgl\",\"colorbar\":{\"outlinewidth\":0,\"ticks\":\"\"},\"colorscale\":[[0.0,\"#0d0887\"],[0.1111111111111111,\"#46039f\"],[0.2222222222222222,\"#7201a8\"],[0.3333333333333333,\"#9c179e\"],[0.4444444444444444,\"#bd3786\"],[0.5555555555555556,\"#d8576b\"],[0.6666666666666666,\"#ed7953\"],[0.7777777777777778,\"#fb9f3a\"],[0.8888888888888888,\"#fdca26\"],[1.0,\"#f0f921\"]]}],\"contourcarpet\":[{\"type\":\"contourcarpet\",\"colorbar\":{\"outlinewidth\":0,\"ticks\":\"\"}}],\"contour\":[{\"type\":\"contour\",\"colorbar\":{\"outlinewidth\":0,\"ticks\":\"\"},\"colorscale\":[[0.0,\"#0d0887\"],[0.1111111111111111,\"#46039f\"],[0.2222222222222222,\"#7201a8\"],[0.3333333333333333,\"#9c179e\"],[0.4444444444444444,\"#bd3786\"],[0.5555555555555556,\"#d8576b\"],[0.6666666666666666,\"#ed7953\"],[0.7777777777777778,\"#fb9f3a\"],[0.8888888888888888,\"#fdca26\"],[1.0,\"#f0f921\"]]}],\"surface\":[{\"type\":\"surface\",\"colorbar\":{\"outlinewidth\":0,\"ticks\":\"\"},\"colorscale\":[[0.0,\"#0d0887\"],[0.1111111111111111,\"#46039f\"],[0.2222222222222222,\"#7201a8\"],[0.3333333333333333,\"#9c179e\"],[0.4444444444444444,\"#bd3786\"],[0.5555555555555556,\"#d8576b\"],[0.6666666666666666,\"#ed7953\"],[0.7777777777777778,\"#fb9f3a\"],[0.8888888888888888,\"#fdca26\"],[1.0,\"#f0f921\"]]}],\"mesh3d\":[{\"type\":\"mesh3d\",\"colorbar\":{\"outlinewidth\":0,\"ticks\":\"\"}}],\"scatter\":[{\"fillpattern\":{\"fillmode\":\"overlay\",\"size\":10,\"solidity\":0.2},\"type\":\"scatter\"}],\"parcoords\":[{\"type\":\"parcoords\",\"line\":{\"colorbar\":{\"outlinewidth\":0,\"ticks\":\"\"}}}],\"scatterpolargl\":[{\"type\":\"scatterpolargl\",\"marker\":{\"colorbar\":{\"outlinewidth\":0,\"ticks\":\"\"}}}],\"bar\":[{\"error_x\":{\"color\":\"#2a3f5f\"},\"error_y\":{\"color\":\"#2a3f5f\"},\"marker\":{\"line\":{\"color\":\"#E5ECF6\",\"width\":0.5},\"pattern\":{\"fillmode\":\"overlay\",\"size\":10,\"solidity\":0.2}},\"type\":\"bar\"}],\"scattergeo\":[{\"type\":\"scattergeo\",\"marker\":{\"colorbar\":{\"outlinewidth\":0,\"ticks\":\"\"}}}],\"scatterpolar\":[{\"type\":\"scatterpolar\",\"marker\":{\"colorbar\":{\"outlinewidth\":0,\"ticks\":\"\"}}}],\"histogram\":[{\"marker\":{\"pattern\":{\"fillmode\":\"overlay\",\"size\":10,\"solidity\":0.2}},\"type\":\"histogram\"}],\"scattergl\":[{\"type\":\"scattergl\",\"marker\":{\"colorbar\":{\"outlinewidth\":0,\"ticks\":\"\"}}}],\"scatter3d\":[{\"type\":\"scatter3d\",\"line\":{\"colorbar\":{\"outlinewidth\":0,\"ticks\":\"\"}},\"marker\":{\"colorbar\":{\"outlinewidth\":0,\"ticks\":\"\"}}}],\"scattermapbox\":[{\"type\":\"scattermapbox\",\"marker\":{\"colorbar\":{\"outlinewidth\":0,\"ticks\":\"\"}}}],\"scatterternary\":[{\"type\":\"scatterternary\",\"marker\":{\"colorbar\":{\"outlinewidth\":0,\"ticks\":\"\"}}}],\"scattercarpet\":[{\"type\":\"scattercarpet\",\"marker\":{\"colorbar\":{\"outlinewidth\":0,\"ticks\":\"\"}}}],\"carpet\":[{\"aaxis\":{\"endlinecolor\":\"#2a3f5f\",\"gridcolor\":\"white\",\"linecolor\":\"white\",\"minorgridcolor\":\"white\",\"startlinecolor\":\"#2a3f5f\"},\"baxis\":{\"endlinecolor\":\"#2a3f5f\",\"gridcolor\":\"white\",\"linecolor\":\"white\",\"minorgridcolor\":\"white\",\"startlinecolor\":\"#2a3f5f\"},\"type\":\"carpet\"}],\"table\":[{\"cells\":{\"fill\":{\"color\":\"#EBF0F8\"},\"line\":{\"color\":\"white\"}},\"header\":{\"fill\":{\"color\":\"#C8D4E3\"},\"line\":{\"color\":\"white\"}},\"type\":\"table\"}],\"barpolar\":[{\"marker\":{\"line\":{\"color\":\"#E5ECF6\",\"width\":0.5},\"pattern\":{\"fillmode\":\"overlay\",\"size\":10,\"solidity\":0.2}},\"type\":\"barpolar\"}],\"pie\":[{\"automargin\":true,\"type\":\"pie\"}]},\"layout\":{\"autotypenumbers\":\"strict\",\"colorway\":[\"#636efa\",\"#EF553B\",\"#00cc96\",\"#ab63fa\",\"#FFA15A\",\"#19d3f3\",\"#FF6692\",\"#B6E880\",\"#FF97FF\",\"#FECB52\"],\"font\":{\"color\":\"#2a3f5f\"},\"hovermode\":\"closest\",\"hoverlabel\":{\"align\":\"left\"},\"paper_bgcolor\":\"white\",\"plot_bgcolor\":\"#E5ECF6\",\"polar\":{\"bgcolor\":\"#E5ECF6\",\"angularaxis\":{\"gridcolor\":\"white\",\"linecolor\":\"white\",\"ticks\":\"\"},\"radialaxis\":{\"gridcolor\":\"white\",\"linecolor\":\"white\",\"ticks\":\"\"}},\"ternary\":{\"bgcolor\":\"#E5ECF6\",\"aaxis\":{\"gridcolor\":\"white\",\"linecolor\":\"white\",\"ticks\":\"\"},\"baxis\":{\"gridcolor\":\"white\",\"linecolor\":\"white\",\"ticks\":\"\"},\"caxis\":{\"gridcolor\":\"white\",\"linecolor\":\"white\",\"ticks\":\"\"}},\"coloraxis\":{\"colorbar\":{\"outlinewidth\":0,\"ticks\":\"\"}},\"colorscale\":{\"sequential\":[[0.0,\"#0d0887\"],[0.1111111111111111,\"#46039f\"],[0.2222222222222222,\"#7201a8\"],[0.3333333333333333,\"#9c179e\"],[0.4444444444444444,\"#bd3786\"],[0.5555555555555556,\"#d8576b\"],[0.6666666666666666,\"#ed7953\"],[0.7777777777777778,\"#fb9f3a\"],[0.8888888888888888,\"#fdca26\"],[1.0,\"#f0f921\"]],\"sequentialminus\":[[0.0,\"#0d0887\"],[0.1111111111111111,\"#46039f\"],[0.2222222222222222,\"#7201a8\"],[0.3333333333333333,\"#9c179e\"],[0.4444444444444444,\"#bd3786\"],[0.5555555555555556,\"#d8576b\"],[0.6666666666666666,\"#ed7953\"],[0.7777777777777778,\"#fb9f3a\"],[0.8888888888888888,\"#fdca26\"],[1.0,\"#f0f921\"]],\"diverging\":[[0,\"#8e0152\"],[0.1,\"#c51b7d\"],[0.2,\"#de77ae\"],[0.3,\"#f1b6da\"],[0.4,\"#fde0ef\"],[0.5,\"#f7f7f7\"],[0.6,\"#e6f5d0\"],[0.7,\"#b8e186\"],[0.8,\"#7fbc41\"],[0.9,\"#4d9221\"],[1,\"#276419\"]]},\"xaxis\":{\"gridcolor\":\"white\",\"linecolor\":\"white\",\"ticks\":\"\",\"title\":{\"standoff\":15},\"zerolinecolor\":\"white\",\"automargin\":true,\"zerolinewidth\":2},\"yaxis\":{\"gridcolor\":\"white\",\"linecolor\":\"white\",\"ticks\":\"\",\"title\":{\"standoff\":15},\"zerolinecolor\":\"white\",\"automargin\":true,\"zerolinewidth\":2},\"scene\":{\"xaxis\":{\"backgroundcolor\":\"#E5ECF6\",\"gridcolor\":\"white\",\"linecolor\":\"white\",\"showbackground\":true,\"ticks\":\"\",\"zerolinecolor\":\"white\",\"gridwidth\":2},\"yaxis\":{\"backgroundcolor\":\"#E5ECF6\",\"gridcolor\":\"white\",\"linecolor\":\"white\",\"showbackground\":true,\"ticks\":\"\",\"zerolinecolor\":\"white\",\"gridwidth\":2},\"zaxis\":{\"backgroundcolor\":\"#E5ECF6\",\"gridcolor\":\"white\",\"linecolor\":\"white\",\"showbackground\":true,\"ticks\":\"\",\"zerolinecolor\":\"white\",\"gridwidth\":2}},\"shapedefaults\":{\"line\":{\"color\":\"#2a3f5f\"}},\"annotationdefaults\":{\"arrowcolor\":\"#2a3f5f\",\"arrowhead\":0,\"arrowwidth\":1},\"geo\":{\"bgcolor\":\"white\",\"landcolor\":\"#E5ECF6\",\"subunitcolor\":\"white\",\"showland\":true,\"showlakes\":true,\"lakecolor\":\"white\"},\"title\":{\"x\":0.05},\"mapbox\":{\"style\":\"light\"}}}},                        {\"responsive\": true}                    ).then(function(){\n",
       "                            \n",
       "var gd = document.getElementById('8931b263-f2d9-46bf-ae91-74c8ae2eb5a1');\n",
       "var x = new MutationObserver(function (mutations, observer) {{\n",
       "        var display = window.getComputedStyle(gd).display;\n",
       "        if (!display || display === 'none') {{\n",
       "            console.log([gd, 'removed!']);\n",
       "            Plotly.purge(gd);\n",
       "            observer.disconnect();\n",
       "        }}\n",
       "}});\n",
       "\n",
       "// Listen for the removal of the full notebook cells\n",
       "var notebookContainer = gd.closest('#notebook-container');\n",
       "if (notebookContainer) {{\n",
       "    x.observe(notebookContainer, {childList: true});\n",
       "}}\n",
       "\n",
       "// Listen for the clearing of the current output cell\n",
       "var outputEl = gd.closest('.output');\n",
       "if (outputEl) {{\n",
       "    x.observe(outputEl, {childList: true});\n",
       "}}\n",
       "\n",
       "                        })                };                });            </script>        </div>"
      ]
     },
     "metadata": {},
     "output_type": "display_data"
    }
   ],
   "source": [
    "fig=go.Figure(data=[go.Pie(labels=['Genuine','Fraud'], values=y_train.value_counts())])\n",
    "fig.show()"
   ]
  },
  {
   "cell_type": "markdown",
   "id": "ece970de",
   "metadata": {
    "papermill": {
     "duration": 0.026102,
     "end_time": "2023-07-23T11:49:00.312814",
     "exception": false,
     "start_time": "2023-07-23T11:49:00.286712",
     "status": "completed"
    },
    "tags": []
   },
   "source": [
    "To Counter this imbalance, I use Over-Sampling to balance the train set."
   ]
  },
  {
   "cell_type": "code",
   "execution_count": 22,
   "id": "79f7e415",
   "metadata": {
    "execution": {
     "iopub.execute_input": "2023-07-23T11:49:00.368066Z",
     "iopub.status.busy": "2023-07-23T11:49:00.367025Z",
     "iopub.status.idle": "2023-07-23T11:49:05.167272Z",
     "shell.execute_reply": "2023-07-23T11:49:05.166012Z"
    },
    "papermill": {
     "duration": 4.831208,
     "end_time": "2023-07-23T11:49:05.170127",
     "exception": false,
     "start_time": "2023-07-23T11:49:00.338919",
     "status": "completed"
    },
    "tags": []
   },
   "outputs": [
    {
     "data": {
      "text/html": [
       "<div>                            <div id=\"db507a8e-01e9-4fbf-9a84-d9678e28f11c\" class=\"plotly-graph-div\" style=\"height:525px; width:100%;\"></div>            <script type=\"text/javascript\">                require([\"plotly\"], function(Plotly) {                    window.PLOTLYENV=window.PLOTLYENV || {};                                    if (document.getElementById(\"db507a8e-01e9-4fbf-9a84-d9678e28f11c\")) {                    Plotly.newPlot(                        \"db507a8e-01e9-4fbf-9a84-d9678e28f11c\",                        [{\"labels\":[\"Genuine\",\"Fraud\"],\"values\":[4448056,4448056],\"type\":\"pie\"}],                        {\"template\":{\"data\":{\"histogram2dcontour\":[{\"type\":\"histogram2dcontour\",\"colorbar\":{\"outlinewidth\":0,\"ticks\":\"\"},\"colorscale\":[[0.0,\"#0d0887\"],[0.1111111111111111,\"#46039f\"],[0.2222222222222222,\"#7201a8\"],[0.3333333333333333,\"#9c179e\"],[0.4444444444444444,\"#bd3786\"],[0.5555555555555556,\"#d8576b\"],[0.6666666666666666,\"#ed7953\"],[0.7777777777777778,\"#fb9f3a\"],[0.8888888888888888,\"#fdca26\"],[1.0,\"#f0f921\"]]}],\"choropleth\":[{\"type\":\"choropleth\",\"colorbar\":{\"outlinewidth\":0,\"ticks\":\"\"}}],\"histogram2d\":[{\"type\":\"histogram2d\",\"colorbar\":{\"outlinewidth\":0,\"ticks\":\"\"},\"colorscale\":[[0.0,\"#0d0887\"],[0.1111111111111111,\"#46039f\"],[0.2222222222222222,\"#7201a8\"],[0.3333333333333333,\"#9c179e\"],[0.4444444444444444,\"#bd3786\"],[0.5555555555555556,\"#d8576b\"],[0.6666666666666666,\"#ed7953\"],[0.7777777777777778,\"#fb9f3a\"],[0.8888888888888888,\"#fdca26\"],[1.0,\"#f0f921\"]]}],\"heatmap\":[{\"type\":\"heatmap\",\"colorbar\":{\"outlinewidth\":0,\"ticks\":\"\"},\"colorscale\":[[0.0,\"#0d0887\"],[0.1111111111111111,\"#46039f\"],[0.2222222222222222,\"#7201a8\"],[0.3333333333333333,\"#9c179e\"],[0.4444444444444444,\"#bd3786\"],[0.5555555555555556,\"#d8576b\"],[0.6666666666666666,\"#ed7953\"],[0.7777777777777778,\"#fb9f3a\"],[0.8888888888888888,\"#fdca26\"],[1.0,\"#f0f921\"]]}],\"heatmapgl\":[{\"type\":\"heatmapgl\",\"colorbar\":{\"outlinewidth\":0,\"ticks\":\"\"},\"colorscale\":[[0.0,\"#0d0887\"],[0.1111111111111111,\"#46039f\"],[0.2222222222222222,\"#7201a8\"],[0.3333333333333333,\"#9c179e\"],[0.4444444444444444,\"#bd3786\"],[0.5555555555555556,\"#d8576b\"],[0.6666666666666666,\"#ed7953\"],[0.7777777777777778,\"#fb9f3a\"],[0.8888888888888888,\"#fdca26\"],[1.0,\"#f0f921\"]]}],\"contourcarpet\":[{\"type\":\"contourcarpet\",\"colorbar\":{\"outlinewidth\":0,\"ticks\":\"\"}}],\"contour\":[{\"type\":\"contour\",\"colorbar\":{\"outlinewidth\":0,\"ticks\":\"\"},\"colorscale\":[[0.0,\"#0d0887\"],[0.1111111111111111,\"#46039f\"],[0.2222222222222222,\"#7201a8\"],[0.3333333333333333,\"#9c179e\"],[0.4444444444444444,\"#bd3786\"],[0.5555555555555556,\"#d8576b\"],[0.6666666666666666,\"#ed7953\"],[0.7777777777777778,\"#fb9f3a\"],[0.8888888888888888,\"#fdca26\"],[1.0,\"#f0f921\"]]}],\"surface\":[{\"type\":\"surface\",\"colorbar\":{\"outlinewidth\":0,\"ticks\":\"\"},\"colorscale\":[[0.0,\"#0d0887\"],[0.1111111111111111,\"#46039f\"],[0.2222222222222222,\"#7201a8\"],[0.3333333333333333,\"#9c179e\"],[0.4444444444444444,\"#bd3786\"],[0.5555555555555556,\"#d8576b\"],[0.6666666666666666,\"#ed7953\"],[0.7777777777777778,\"#fb9f3a\"],[0.8888888888888888,\"#fdca26\"],[1.0,\"#f0f921\"]]}],\"mesh3d\":[{\"type\":\"mesh3d\",\"colorbar\":{\"outlinewidth\":0,\"ticks\":\"\"}}],\"scatter\":[{\"fillpattern\":{\"fillmode\":\"overlay\",\"size\":10,\"solidity\":0.2},\"type\":\"scatter\"}],\"parcoords\":[{\"type\":\"parcoords\",\"line\":{\"colorbar\":{\"outlinewidth\":0,\"ticks\":\"\"}}}],\"scatterpolargl\":[{\"type\":\"scatterpolargl\",\"marker\":{\"colorbar\":{\"outlinewidth\":0,\"ticks\":\"\"}}}],\"bar\":[{\"error_x\":{\"color\":\"#2a3f5f\"},\"error_y\":{\"color\":\"#2a3f5f\"},\"marker\":{\"line\":{\"color\":\"#E5ECF6\",\"width\":0.5},\"pattern\":{\"fillmode\":\"overlay\",\"size\":10,\"solidity\":0.2}},\"type\":\"bar\"}],\"scattergeo\":[{\"type\":\"scattergeo\",\"marker\":{\"colorbar\":{\"outlinewidth\":0,\"ticks\":\"\"}}}],\"scatterpolar\":[{\"type\":\"scatterpolar\",\"marker\":{\"colorbar\":{\"outlinewidth\":0,\"ticks\":\"\"}}}],\"histogram\":[{\"marker\":{\"pattern\":{\"fillmode\":\"overlay\",\"size\":10,\"solidity\":0.2}},\"type\":\"histogram\"}],\"scattergl\":[{\"type\":\"scattergl\",\"marker\":{\"colorbar\":{\"outlinewidth\":0,\"ticks\":\"\"}}}],\"scatter3d\":[{\"type\":\"scatter3d\",\"line\":{\"colorbar\":{\"outlinewidth\":0,\"ticks\":\"\"}},\"marker\":{\"colorbar\":{\"outlinewidth\":0,\"ticks\":\"\"}}}],\"scattermapbox\":[{\"type\":\"scattermapbox\",\"marker\":{\"colorbar\":{\"outlinewidth\":0,\"ticks\":\"\"}}}],\"scatterternary\":[{\"type\":\"scatterternary\",\"marker\":{\"colorbar\":{\"outlinewidth\":0,\"ticks\":\"\"}}}],\"scattercarpet\":[{\"type\":\"scattercarpet\",\"marker\":{\"colorbar\":{\"outlinewidth\":0,\"ticks\":\"\"}}}],\"carpet\":[{\"aaxis\":{\"endlinecolor\":\"#2a3f5f\",\"gridcolor\":\"white\",\"linecolor\":\"white\",\"minorgridcolor\":\"white\",\"startlinecolor\":\"#2a3f5f\"},\"baxis\":{\"endlinecolor\":\"#2a3f5f\",\"gridcolor\":\"white\",\"linecolor\":\"white\",\"minorgridcolor\":\"white\",\"startlinecolor\":\"#2a3f5f\"},\"type\":\"carpet\"}],\"table\":[{\"cells\":{\"fill\":{\"color\":\"#EBF0F8\"},\"line\":{\"color\":\"white\"}},\"header\":{\"fill\":{\"color\":\"#C8D4E3\"},\"line\":{\"color\":\"white\"}},\"type\":\"table\"}],\"barpolar\":[{\"marker\":{\"line\":{\"color\":\"#E5ECF6\",\"width\":0.5},\"pattern\":{\"fillmode\":\"overlay\",\"size\":10,\"solidity\":0.2}},\"type\":\"barpolar\"}],\"pie\":[{\"automargin\":true,\"type\":\"pie\"}]},\"layout\":{\"autotypenumbers\":\"strict\",\"colorway\":[\"#636efa\",\"#EF553B\",\"#00cc96\",\"#ab63fa\",\"#FFA15A\",\"#19d3f3\",\"#FF6692\",\"#B6E880\",\"#FF97FF\",\"#FECB52\"],\"font\":{\"color\":\"#2a3f5f\"},\"hovermode\":\"closest\",\"hoverlabel\":{\"align\":\"left\"},\"paper_bgcolor\":\"white\",\"plot_bgcolor\":\"#E5ECF6\",\"polar\":{\"bgcolor\":\"#E5ECF6\",\"angularaxis\":{\"gridcolor\":\"white\",\"linecolor\":\"white\",\"ticks\":\"\"},\"radialaxis\":{\"gridcolor\":\"white\",\"linecolor\":\"white\",\"ticks\":\"\"}},\"ternary\":{\"bgcolor\":\"#E5ECF6\",\"aaxis\":{\"gridcolor\":\"white\",\"linecolor\":\"white\",\"ticks\":\"\"},\"baxis\":{\"gridcolor\":\"white\",\"linecolor\":\"white\",\"ticks\":\"\"},\"caxis\":{\"gridcolor\":\"white\",\"linecolor\":\"white\",\"ticks\":\"\"}},\"coloraxis\":{\"colorbar\":{\"outlinewidth\":0,\"ticks\":\"\"}},\"colorscale\":{\"sequential\":[[0.0,\"#0d0887\"],[0.1111111111111111,\"#46039f\"],[0.2222222222222222,\"#7201a8\"],[0.3333333333333333,\"#9c179e\"],[0.4444444444444444,\"#bd3786\"],[0.5555555555555556,\"#d8576b\"],[0.6666666666666666,\"#ed7953\"],[0.7777777777777778,\"#fb9f3a\"],[0.8888888888888888,\"#fdca26\"],[1.0,\"#f0f921\"]],\"sequentialminus\":[[0.0,\"#0d0887\"],[0.1111111111111111,\"#46039f\"],[0.2222222222222222,\"#7201a8\"],[0.3333333333333333,\"#9c179e\"],[0.4444444444444444,\"#bd3786\"],[0.5555555555555556,\"#d8576b\"],[0.6666666666666666,\"#ed7953\"],[0.7777777777777778,\"#fb9f3a\"],[0.8888888888888888,\"#fdca26\"],[1.0,\"#f0f921\"]],\"diverging\":[[0,\"#8e0152\"],[0.1,\"#c51b7d\"],[0.2,\"#de77ae\"],[0.3,\"#f1b6da\"],[0.4,\"#fde0ef\"],[0.5,\"#f7f7f7\"],[0.6,\"#e6f5d0\"],[0.7,\"#b8e186\"],[0.8,\"#7fbc41\"],[0.9,\"#4d9221\"],[1,\"#276419\"]]},\"xaxis\":{\"gridcolor\":\"white\",\"linecolor\":\"white\",\"ticks\":\"\",\"title\":{\"standoff\":15},\"zerolinecolor\":\"white\",\"automargin\":true,\"zerolinewidth\":2},\"yaxis\":{\"gridcolor\":\"white\",\"linecolor\":\"white\",\"ticks\":\"\",\"title\":{\"standoff\":15},\"zerolinecolor\":\"white\",\"automargin\":true,\"zerolinewidth\":2},\"scene\":{\"xaxis\":{\"backgroundcolor\":\"#E5ECF6\",\"gridcolor\":\"white\",\"linecolor\":\"white\",\"showbackground\":true,\"ticks\":\"\",\"zerolinecolor\":\"white\",\"gridwidth\":2},\"yaxis\":{\"backgroundcolor\":\"#E5ECF6\",\"gridcolor\":\"white\",\"linecolor\":\"white\",\"showbackground\":true,\"ticks\":\"\",\"zerolinecolor\":\"white\",\"gridwidth\":2},\"zaxis\":{\"backgroundcolor\":\"#E5ECF6\",\"gridcolor\":\"white\",\"linecolor\":\"white\",\"showbackground\":true,\"ticks\":\"\",\"zerolinecolor\":\"white\",\"gridwidth\":2}},\"shapedefaults\":{\"line\":{\"color\":\"#2a3f5f\"}},\"annotationdefaults\":{\"arrowcolor\":\"#2a3f5f\",\"arrowhead\":0,\"arrowwidth\":1},\"geo\":{\"bgcolor\":\"white\",\"landcolor\":\"#E5ECF6\",\"subunitcolor\":\"white\",\"showland\":true,\"showlakes\":true,\"lakecolor\":\"white\"},\"title\":{\"x\":0.05},\"mapbox\":{\"style\":\"light\"}}}},                        {\"responsive\": true}                    ).then(function(){\n",
       "                            \n",
       "var gd = document.getElementById('db507a8e-01e9-4fbf-9a84-d9678e28f11c');\n",
       "var x = new MutationObserver(function (mutations, observer) {{\n",
       "        var display = window.getComputedStyle(gd).display;\n",
       "        if (!display || display === 'none') {{\n",
       "            console.log([gd, 'removed!']);\n",
       "            Plotly.purge(gd);\n",
       "            observer.disconnect();\n",
       "        }}\n",
       "}});\n",
       "\n",
       "// Listen for the removal of the full notebook cells\n",
       "var notebookContainer = gd.closest('#notebook-container');\n",
       "if (notebookContainer) {{\n",
       "    x.observe(notebookContainer, {childList: true});\n",
       "}}\n",
       "\n",
       "// Listen for the clearing of the current output cell\n",
       "var outputEl = gd.closest('.output');\n",
       "if (outputEl) {{\n",
       "    x.observe(outputEl, {childList: true});\n",
       "}}\n",
       "\n",
       "                        })                };                });            </script>        </div>"
      ]
     },
     "metadata": {},
     "output_type": "display_data"
    }
   ],
   "source": [
    "sm=SMOTE(random_state=42)\n",
    "X_train,y_train=sm.fit_resample(X_train,y_train)\n",
    "fig=go.Figure(data=[go.Pie(labels=['Genuine','Fraud'],values=y_train.value_counts())])\n",
    "fig.show()"
   ]
  },
  {
   "cell_type": "markdown",
   "id": "bc3f19d4",
   "metadata": {
    "papermill": {
     "duration": 0.026454,
     "end_time": "2023-07-23T11:49:05.224587",
     "exception": false,
     "start_time": "2023-07-23T11:49:05.198133",
     "status": "completed"
    },
    "tags": []
   },
   "source": [
    "Now, that the train set is balanced and as this dataset is tabular in addition to the fact task at hand is to detect fraud transactions,my previous experience with these kind of tasks says that tree based classifiers should perform well in this scenario. I try a RandomForestClassifier."
   ]
  },
  {
   "cell_type": "code",
   "execution_count": 23,
   "id": "2f27c493",
   "metadata": {
    "execution": {
     "iopub.execute_input": "2023-07-23T11:49:05.279094Z",
     "iopub.status.busy": "2023-07-23T11:49:05.277779Z",
     "iopub.status.idle": "2023-07-23T11:49:05.283751Z",
     "shell.execute_reply": "2023-07-23T11:49:05.282738Z"
    },
    "papermill": {
     "duration": 0.035506,
     "end_time": "2023-07-23T11:49:05.286012",
     "exception": false,
     "start_time": "2023-07-23T11:49:05.250506",
     "status": "completed"
    },
    "tags": []
   },
   "outputs": [],
   "source": [
    "clf=RandomForestClassifier(50,n_jobs=-1,verbose=1)"
   ]
  },
  {
   "cell_type": "code",
   "execution_count": 24,
   "id": "50cb1e0b",
   "metadata": {
    "execution": {
     "iopub.execute_input": "2023-07-23T11:49:05.340393Z",
     "iopub.status.busy": "2023-07-23T11:49:05.339289Z",
     "iopub.status.idle": "2023-07-23T11:57:20.943999Z",
     "shell.execute_reply": "2023-07-23T11:57:20.942527Z"
    },
    "papermill": {
     "duration": 495.662454,
     "end_time": "2023-07-23T11:57:20.974389",
     "exception": false,
     "start_time": "2023-07-23T11:49:05.311935",
     "status": "completed"
    },
    "scrolled": true,
    "tags": []
   },
   "outputs": [
    {
     "name": "stderr",
     "output_type": "stream",
     "text": [
      "[Parallel(n_jobs=-1)]: Using backend ThreadingBackend with 4 concurrent workers.\n",
      "[Parallel(n_jobs=-1)]: Done  42 tasks      | elapsed:  7.1min\n",
      "[Parallel(n_jobs=-1)]: Done  50 out of  50 | elapsed:  8.2min finished\n"
     ]
    },
    {
     "data": {
      "text/html": [
       "<style>#sk-container-id-1 {color: black;background-color: white;}#sk-container-id-1 pre{padding: 0;}#sk-container-id-1 div.sk-toggleable {background-color: white;}#sk-container-id-1 label.sk-toggleable__label {cursor: pointer;display: block;width: 100%;margin-bottom: 0;padding: 0.3em;box-sizing: border-box;text-align: center;}#sk-container-id-1 label.sk-toggleable__label-arrow:before {content: \"▸\";float: left;margin-right: 0.25em;color: #696969;}#sk-container-id-1 label.sk-toggleable__label-arrow:hover:before {color: black;}#sk-container-id-1 div.sk-estimator:hover label.sk-toggleable__label-arrow:before {color: black;}#sk-container-id-1 div.sk-toggleable__content {max-height: 0;max-width: 0;overflow: hidden;text-align: left;background-color: #f0f8ff;}#sk-container-id-1 div.sk-toggleable__content pre {margin: 0.2em;color: black;border-radius: 0.25em;background-color: #f0f8ff;}#sk-container-id-1 input.sk-toggleable__control:checked~div.sk-toggleable__content {max-height: 200px;max-width: 100%;overflow: auto;}#sk-container-id-1 input.sk-toggleable__control:checked~label.sk-toggleable__label-arrow:before {content: \"▾\";}#sk-container-id-1 div.sk-estimator input.sk-toggleable__control:checked~label.sk-toggleable__label {background-color: #d4ebff;}#sk-container-id-1 div.sk-label input.sk-toggleable__control:checked~label.sk-toggleable__label {background-color: #d4ebff;}#sk-container-id-1 input.sk-hidden--visually {border: 0;clip: rect(1px 1px 1px 1px);clip: rect(1px, 1px, 1px, 1px);height: 1px;margin: -1px;overflow: hidden;padding: 0;position: absolute;width: 1px;}#sk-container-id-1 div.sk-estimator {font-family: monospace;background-color: #f0f8ff;border: 1px dotted black;border-radius: 0.25em;box-sizing: border-box;margin-bottom: 0.5em;}#sk-container-id-1 div.sk-estimator:hover {background-color: #d4ebff;}#sk-container-id-1 div.sk-parallel-item::after {content: \"\";width: 100%;border-bottom: 1px solid gray;flex-grow: 1;}#sk-container-id-1 div.sk-label:hover label.sk-toggleable__label {background-color: #d4ebff;}#sk-container-id-1 div.sk-serial::before {content: \"\";position: absolute;border-left: 1px solid gray;box-sizing: border-box;top: 0;bottom: 0;left: 50%;z-index: 0;}#sk-container-id-1 div.sk-serial {display: flex;flex-direction: column;align-items: center;background-color: white;padding-right: 0.2em;padding-left: 0.2em;position: relative;}#sk-container-id-1 div.sk-item {position: relative;z-index: 1;}#sk-container-id-1 div.sk-parallel {display: flex;align-items: stretch;justify-content: center;background-color: white;position: relative;}#sk-container-id-1 div.sk-item::before, #sk-container-id-1 div.sk-parallel-item::before {content: \"\";position: absolute;border-left: 1px solid gray;box-sizing: border-box;top: 0;bottom: 0;left: 50%;z-index: -1;}#sk-container-id-1 div.sk-parallel-item {display: flex;flex-direction: column;z-index: 1;position: relative;background-color: white;}#sk-container-id-1 div.sk-parallel-item:first-child::after {align-self: flex-end;width: 50%;}#sk-container-id-1 div.sk-parallel-item:last-child::after {align-self: flex-start;width: 50%;}#sk-container-id-1 div.sk-parallel-item:only-child::after {width: 0;}#sk-container-id-1 div.sk-dashed-wrapped {border: 1px dashed gray;margin: 0 0.4em 0.5em 0.4em;box-sizing: border-box;padding-bottom: 0.4em;background-color: white;}#sk-container-id-1 div.sk-label label {font-family: monospace;font-weight: bold;display: inline-block;line-height: 1.2em;}#sk-container-id-1 div.sk-label-container {text-align: center;}#sk-container-id-1 div.sk-container {/* jupyter's `normalize.less` sets `[hidden] { display: none; }` but bootstrap.min.css set `[hidden] { display: none !important; }` so we also need the `!important` here to be able to override the default hidden behavior on the sphinx rendered scikit-learn.org. See: https://github.com/scikit-learn/scikit-learn/issues/21755 */display: inline-block !important;position: relative;}#sk-container-id-1 div.sk-text-repr-fallback {display: none;}</style><div id=\"sk-container-id-1\" class=\"sk-top-container\"><div class=\"sk-text-repr-fallback\"><pre>RandomForestClassifier(n_estimators=50, n_jobs=-1, verbose=1)</pre><b>In a Jupyter environment, please rerun this cell to show the HTML representation or trust the notebook. <br />On GitHub, the HTML representation is unable to render, please try loading this page with nbviewer.org.</b></div><div class=\"sk-container\" hidden><div class=\"sk-item\"><div class=\"sk-estimator sk-toggleable\"><input class=\"sk-toggleable__control sk-hidden--visually\" id=\"sk-estimator-id-1\" type=\"checkbox\" checked><label for=\"sk-estimator-id-1\" class=\"sk-toggleable__label sk-toggleable__label-arrow\">RandomForestClassifier</label><div class=\"sk-toggleable__content\"><pre>RandomForestClassifier(n_estimators=50, n_jobs=-1, verbose=1)</pre></div></div></div></div></div>"
      ],
      "text/plain": [
       "RandomForestClassifier(n_estimators=50, n_jobs=-1, verbose=1)"
      ]
     },
     "execution_count": 24,
     "metadata": {},
     "output_type": "execute_result"
    }
   ],
   "source": [
    "clf.fit(X_train,y_train)"
   ]
  },
  {
   "cell_type": "code",
   "execution_count": 25,
   "id": "686f3677",
   "metadata": {
    "execution": {
     "iopub.execute_input": "2023-07-23T11:57:21.030298Z",
     "iopub.status.busy": "2023-07-23T11:57:21.029509Z",
     "iopub.status.idle": "2023-07-23T11:57:24.853602Z",
     "shell.execute_reply": "2023-07-23T11:57:24.852257Z"
    },
    "papermill": {
     "duration": 3.854968,
     "end_time": "2023-07-23T11:57:24.856429",
     "exception": false,
     "start_time": "2023-07-23T11:57:21.001461",
     "status": "completed"
    },
    "tags": []
   },
   "outputs": [
    {
     "name": "stderr",
     "output_type": "stream",
     "text": [
      "[Parallel(n_jobs=4)]: Using backend ThreadingBackend with 4 concurrent workers.\n",
      "[Parallel(n_jobs=4)]: Done  42 tasks      | elapsed:    3.3s\n",
      "[Parallel(n_jobs=4)]: Done  50 out of  50 | elapsed:    3.7s finished\n"
     ]
    }
   ],
   "source": [
    "pred=clf.predict(X_test)"
   ]
  },
  {
   "cell_type": "code",
   "execution_count": 26,
   "id": "42ed978b",
   "metadata": {
    "execution": {
     "iopub.execute_input": "2023-07-23T11:57:24.912353Z",
     "iopub.status.busy": "2023-07-23T11:57:24.911897Z",
     "iopub.status.idle": "2023-07-23T11:57:25.184261Z",
     "shell.execute_reply": "2023-07-23T11:57:25.182812Z"
    },
    "papermill": {
     "duration": 0.303416,
     "end_time": "2023-07-23T11:57:25.186921",
     "exception": false,
     "start_time": "2023-07-23T11:57:24.883505",
     "status": "completed"
    },
    "tags": []
   },
   "outputs": [
    {
     "data": {
      "text/plain": [
       "0.9987746138121298"
      ]
     },
     "execution_count": 26,
     "metadata": {},
     "output_type": "execute_result"
    }
   ],
   "source": [
    "accuracy_score(y_test,pred)"
   ]
  },
  {
   "cell_type": "markdown",
   "id": "f2578aed",
   "metadata": {
    "papermill": {
     "duration": 0.026556,
     "end_time": "2023-07-23T11:57:25.240482",
     "exception": false,
     "start_time": "2023-07-23T11:57:25.213926",
     "status": "completed"
    },
    "tags": []
   },
   "source": [
    "It performs well with a 99.98% accuracy on the test set.However,accuracy is not a good metric here as in the test set fraud transactions are much rarer than genuine transactions. Checking the confusion matrix will be better. "
   ]
  },
  {
   "cell_type": "code",
   "execution_count": 27,
   "id": "0fd610fb",
   "metadata": {
    "execution": {
     "iopub.execute_input": "2023-07-23T11:57:25.296279Z",
     "iopub.status.busy": "2023-07-23T11:57:25.295843Z",
     "iopub.status.idle": "2023-07-23T11:57:27.607533Z",
     "shell.execute_reply": "2023-07-23T11:57:27.606015Z"
    },
    "papermill": {
     "duration": 2.343009,
     "end_time": "2023-07-23T11:57:27.610304",
     "exception": false,
     "start_time": "2023-07-23T11:57:25.267295",
     "status": "completed"
    },
    "tags": []
   },
   "outputs": [
    {
     "name": "stdout",
     "output_type": "stream",
     "text": [
      "[[1904327    2024]\n",
      " [    315    2120]]\n"
     ]
    }
   ],
   "source": [
    "cm=confusion_matrix(y_test,pred)\n",
    "print(cm)"
   ]
  },
  {
   "cell_type": "markdown",
   "id": "b3a08998",
   "metadata": {
    "papermill": {
     "duration": 0.026514,
     "end_time": "2023-07-23T11:57:27.664146",
     "exception": false,
     "start_time": "2023-07-23T11:57:27.637632",
     "status": "completed"
    },
    "tags": []
   },
   "source": [
    "As it can be seen from the confusion matrix, the model correctly detects 2109 Fraud transactions and misses out on 326 Fraud transactions in the test set. It also falsely flags 1873 genuine transactions as Fraud but it is just a miniscule percentage of all genuine transactions."
   ]
  },
  {
   "cell_type": "code",
   "execution_count": 28,
   "id": "ed6f01c3",
   "metadata": {
    "execution": {
     "iopub.execute_input": "2023-07-23T11:57:27.721025Z",
     "iopub.status.busy": "2023-07-23T11:57:27.720586Z",
     "iopub.status.idle": "2023-07-23T11:57:27.728716Z",
     "shell.execute_reply": "2023-07-23T11:57:27.727274Z"
    },
    "papermill": {
     "duration": 0.040131,
     "end_time": "2023-07-23T11:57:27.731015",
     "exception": false,
     "start_time": "2023-07-23T11:57:27.690884",
     "status": "completed"
    },
    "tags": []
   },
   "outputs": [
    {
     "name": "stdout",
     "output_type": "stream",
     "text": [
      "Fraud Detection percentage:  87.0637\n",
      "False Flag percentage:  0.1062\n"
     ]
    }
   ],
   "source": [
    "print(\"Fraud Detection percentage: \",\"{:.4f}\".format(cm[1][1]/(cm[1][0]+cm[1][1])*100,\"%\"))\n",
    "print(\"False Flag percentage: \",\"{:.4f}\".format(cm[0][1]/(cm[0][0]+cm[0][1])*100,\"%\"))"
   ]
  },
  {
   "cell_type": "code",
   "execution_count": 29,
   "id": "e90a856a",
   "metadata": {
    "execution": {
     "iopub.execute_input": "2023-07-23T11:57:27.787770Z",
     "iopub.status.busy": "2023-07-23T11:57:27.787283Z",
     "iopub.status.idle": "2023-07-23T11:57:28.306639Z",
     "shell.execute_reply": "2023-07-23T11:57:28.305267Z"
    },
    "papermill": {
     "duration": 0.55043,
     "end_time": "2023-07-23T11:57:28.309342",
     "exception": false,
     "start_time": "2023-07-23T11:57:27.758912",
     "status": "completed"
    },
    "tags": []
   },
   "outputs": [
    {
     "data": {
      "text/plain": [
       "0.9347874180348272"
      ]
     },
     "execution_count": 29,
     "metadata": {},
     "output_type": "execute_result"
    }
   ],
   "source": [
    "roc_auc_score(y_test,pred)"
   ]
  },
  {
   "cell_type": "markdown",
   "id": "2855c433",
   "metadata": {
    "papermill": {
     "duration": 0.026901,
     "end_time": "2023-07-23T11:57:28.364339",
     "exception": false,
     "start_time": "2023-07-23T11:57:28.337438",
     "status": "completed"
    },
    "tags": []
   },
   "source": [
    "However, if the inference is done in a probabilistic approach by setting the threshold at 37% probability as done below, the results are slightly better."
   ]
  },
  {
   "cell_type": "code",
   "execution_count": 30,
   "id": "da224ff2",
   "metadata": {
    "execution": {
     "iopub.execute_input": "2023-07-23T11:57:28.420336Z",
     "iopub.status.busy": "2023-07-23T11:57:28.419886Z",
     "iopub.status.idle": "2023-07-23T11:57:28.426763Z",
     "shell.execute_reply": "2023-07-23T11:57:28.425231Z"
    },
    "papermill": {
     "duration": 0.037884,
     "end_time": "2023-07-23T11:57:28.429332",
     "exception": false,
     "start_time": "2023-07-23T11:57:28.391448",
     "status": "completed"
    },
    "tags": []
   },
   "outputs": [],
   "source": [
    "def probabilistic_inference(clf,X_test):\n",
    "    pred_proba=clf.predict_proba(X_test)\n",
    "    pred_proba=[(1 if x[1]>=0.37 else 0) for x in pred_proba]\n",
    "    return(pred_proba)"
   ]
  },
  {
   "cell_type": "code",
   "execution_count": 31,
   "id": "0c3fc062",
   "metadata": {
    "execution": {
     "iopub.execute_input": "2023-07-23T11:57:28.485613Z",
     "iopub.status.busy": "2023-07-23T11:57:28.485168Z",
     "iopub.status.idle": "2023-07-23T11:57:36.227066Z",
     "shell.execute_reply": "2023-07-23T11:57:36.225565Z"
    },
    "papermill": {
     "duration": 7.773451,
     "end_time": "2023-07-23T11:57:36.229917",
     "exception": false,
     "start_time": "2023-07-23T11:57:28.456466",
     "status": "completed"
    },
    "tags": []
   },
   "outputs": [
    {
     "name": "stderr",
     "output_type": "stream",
     "text": [
      "[Parallel(n_jobs=4)]: Using backend ThreadingBackend with 4 concurrent workers.\n",
      "[Parallel(n_jobs=4)]: Done  42 tasks      | elapsed:    2.8s\n",
      "[Parallel(n_jobs=4)]: Done  50 out of  50 | elapsed:    3.2s finished\n"
     ]
    },
    {
     "name": "stdout",
     "output_type": "stream",
     "text": [
      "[[1900914    5437]\n",
      " [    206    2229]]\n"
     ]
    }
   ],
   "source": [
    "cm=confusion_matrix(y_test,probabilistic_inference(clf,X_test))\n",
    "print(cm)"
   ]
  },
  {
   "cell_type": "code",
   "execution_count": 32,
   "id": "05d2cae5",
   "metadata": {
    "execution": {
     "iopub.execute_input": "2023-07-23T11:57:36.288050Z",
     "iopub.status.busy": "2023-07-23T11:57:36.287614Z",
     "iopub.status.idle": "2023-07-23T11:57:36.295051Z",
     "shell.execute_reply": "2023-07-23T11:57:36.293823Z"
    },
    "papermill": {
     "duration": 0.039965,
     "end_time": "2023-07-23T11:57:36.297839",
     "exception": false,
     "start_time": "2023-07-23T11:57:36.257874",
     "status": "completed"
    },
    "tags": []
   },
   "outputs": [
    {
     "name": "stdout",
     "output_type": "stream",
     "text": [
      "Fraud Detection percentage:  91.5400 %\n",
      "False Flag percentage:  0.2852 %\n"
     ]
    }
   ],
   "source": [
    "print(\"Fraud Detection percentage: \",\"{:.4f}\".format(cm[1][1]/(cm[1][0]+cm[1][1])*100),\"%\")\n",
    "print(\"False Flag percentage: \",\"{:.4f}\".format(cm[0][1]/(cm[0][0]+cm[0][1])*100),\"%\")"
   ]
  },
  {
   "cell_type": "markdown",
   "id": "1578bc1c",
   "metadata": {
    "papermill": {
     "duration": 0.028392,
     "end_time": "2023-07-23T11:57:36.354355",
     "exception": false,
     "start_time": "2023-07-23T11:57:36.325963",
     "status": "completed"
    },
    "tags": []
   },
   "source": [
    "Here, the no. of false flags goes up slightly, but the no. of fraud transactions detected is now more than 89%. So, inferencing the model this way is a better option."
   ]
  },
  {
   "cell_type": "code",
   "execution_count": 33,
   "id": "7a7a5619",
   "metadata": {
    "execution": {
     "iopub.execute_input": "2023-07-23T11:57:36.416658Z",
     "iopub.status.busy": "2023-07-23T11:57:36.415996Z",
     "iopub.status.idle": "2023-07-23T11:57:36.442745Z",
     "shell.execute_reply": "2023-07-23T11:57:36.441865Z"
    },
    "papermill": {
     "duration": 0.059204,
     "end_time": "2023-07-23T11:57:36.444908",
     "exception": false,
     "start_time": "2023-07-23T11:57:36.385704",
     "status": "completed"
    },
    "tags": []
   },
   "outputs": [
    {
     "data": {
      "text/plain": [
       "array([0.22720452, 0.22721453, 0.04439751, 0.08467471, 0.07917614,\n",
       "       0.05556635, 0.00107568, 0.0484996 , 0.12679264, 0.0426228 ,\n",
       "       0.06277552])"
      ]
     },
     "execution_count": 33,
     "metadata": {},
     "output_type": "execute_result"
    }
   ],
   "source": [
    "clf.feature_importances_"
   ]
  },
  {
   "cell_type": "markdown",
   "id": "3df84138",
   "metadata": {
    "papermill": {
     "duration": 0.027773,
     "end_time": "2023-07-23T11:57:36.501872",
     "exception": false,
     "start_time": "2023-07-23T11:57:36.474099",
     "status": "completed"
    },
    "tags": []
   },
   "source": [
    "Thus, the first two features,i.e, amount and oldbalanceOrig are the primary factors in predicting fradulent customers. Also, the Transfer and Cashout transaction types are also quite significant. Now,based on this,I do some conclusionary data analysis to come up with a temporary solution while the company upgrades the infrastructure to deploy the new model."
   ]
  },
  {
   "cell_type": "code",
   "execution_count": 34,
   "id": "ff47cf17",
   "metadata": {
    "execution": {
     "iopub.execute_input": "2023-07-23T11:57:36.559268Z",
     "iopub.status.busy": "2023-07-23T11:57:36.558814Z",
     "iopub.status.idle": "2023-07-23T11:57:44.490182Z",
     "shell.execute_reply": "2023-07-23T11:57:44.489035Z"
    },
    "papermill": {
     "duration": 7.96311,
     "end_time": "2023-07-23T11:57:44.492783",
     "exception": false,
     "start_time": "2023-07-23T11:57:36.529673",
     "status": "completed"
    },
    "tags": []
   },
   "outputs": [],
   "source": [
    "fraud1=pd.read_csv(\"/kaggle/working/Fraud.csv\",usecols=[\"amount\",\"isFraud\",\"oldbalanceOrg\",\"type\"])"
   ]
  },
  {
   "cell_type": "code",
   "execution_count": 35,
   "id": "1ff4b9b1",
   "metadata": {
    "execution": {
     "iopub.execute_input": "2023-07-23T11:57:44.550497Z",
     "iopub.status.busy": "2023-07-23T11:57:44.550093Z",
     "iopub.status.idle": "2023-07-23T11:57:44.563651Z",
     "shell.execute_reply": "2023-07-23T11:57:44.562499Z"
    },
    "papermill": {
     "duration": 0.045145,
     "end_time": "2023-07-23T11:57:44.566034",
     "exception": false,
     "start_time": "2023-07-23T11:57:44.520889",
     "status": "completed"
    },
    "tags": []
   },
   "outputs": [
    {
     "data": {
      "text/html": [
       "<div>\n",
       "<style scoped>\n",
       "    .dataframe tbody tr th:only-of-type {\n",
       "        vertical-align: middle;\n",
       "    }\n",
       "\n",
       "    .dataframe tbody tr th {\n",
       "        vertical-align: top;\n",
       "    }\n",
       "\n",
       "    .dataframe thead th {\n",
       "        text-align: right;\n",
       "    }\n",
       "</style>\n",
       "<table border=\"1\" class=\"dataframe\">\n",
       "  <thead>\n",
       "    <tr style=\"text-align: right;\">\n",
       "      <th></th>\n",
       "      <th>type</th>\n",
       "      <th>amount</th>\n",
       "      <th>oldbalanceOrg</th>\n",
       "      <th>isFraud</th>\n",
       "    </tr>\n",
       "  </thead>\n",
       "  <tbody>\n",
       "    <tr>\n",
       "      <th>0</th>\n",
       "      <td>PAYMENT</td>\n",
       "      <td>9839.64</td>\n",
       "      <td>170136.0</td>\n",
       "      <td>0</td>\n",
       "    </tr>\n",
       "    <tr>\n",
       "      <th>1</th>\n",
       "      <td>PAYMENT</td>\n",
       "      <td>1864.28</td>\n",
       "      <td>21249.0</td>\n",
       "      <td>0</td>\n",
       "    </tr>\n",
       "    <tr>\n",
       "      <th>2</th>\n",
       "      <td>TRANSFER</td>\n",
       "      <td>181.00</td>\n",
       "      <td>181.0</td>\n",
       "      <td>1</td>\n",
       "    </tr>\n",
       "    <tr>\n",
       "      <th>3</th>\n",
       "      <td>CASH_OUT</td>\n",
       "      <td>181.00</td>\n",
       "      <td>181.0</td>\n",
       "      <td>1</td>\n",
       "    </tr>\n",
       "    <tr>\n",
       "      <th>4</th>\n",
       "      <td>PAYMENT</td>\n",
       "      <td>11668.14</td>\n",
       "      <td>41554.0</td>\n",
       "      <td>0</td>\n",
       "    </tr>\n",
       "  </tbody>\n",
       "</table>\n",
       "</div>"
      ],
      "text/plain": [
       "       type    amount  oldbalanceOrg  isFraud\n",
       "0   PAYMENT   9839.64       170136.0        0\n",
       "1   PAYMENT   1864.28        21249.0        0\n",
       "2  TRANSFER    181.00          181.0        1\n",
       "3  CASH_OUT    181.00          181.0        1\n",
       "4   PAYMENT  11668.14        41554.0        0"
      ]
     },
     "execution_count": 35,
     "metadata": {},
     "output_type": "execute_result"
    }
   ],
   "source": [
    "fraud1.head()"
   ]
  },
  {
   "cell_type": "code",
   "execution_count": 36,
   "id": "ffce60b2",
   "metadata": {
    "execution": {
     "iopub.execute_input": "2023-07-23T11:57:44.624541Z",
     "iopub.status.busy": "2023-07-23T11:57:44.624137Z",
     "iopub.status.idle": "2023-07-23T11:57:44.629678Z",
     "shell.execute_reply": "2023-07-23T11:57:44.628460Z"
    },
    "papermill": {
     "duration": 0.03821,
     "end_time": "2023-07-23T11:57:44.632352",
     "exception": false,
     "start_time": "2023-07-23T11:57:44.594142",
     "status": "completed"
    },
    "tags": []
   },
   "outputs": [],
   "source": [
    "payment_type=fraud1['type']\n",
    "amounts=fraud1['amount']\n",
    "oldbalanceOrig=fraud1['oldbalanceOrg']\n",
    "is_fraud=fraud1['isFraud']"
   ]
  },
  {
   "cell_type": "code",
   "execution_count": 37,
   "id": "58467345",
   "metadata": {
    "execution": {
     "iopub.execute_input": "2023-07-23T11:57:44.691555Z",
     "iopub.status.busy": "2023-07-23T11:57:44.690621Z",
     "iopub.status.idle": "2023-07-23T11:57:46.384419Z",
     "shell.execute_reply": "2023-07-23T11:57:46.383103Z"
    },
    "papermill": {
     "duration": 1.726339,
     "end_time": "2023-07-23T11:57:46.387088",
     "exception": false,
     "start_time": "2023-07-23T11:57:44.660749",
     "status": "completed"
    },
    "tags": []
   },
   "outputs": [
    {
     "data": {
      "image/png": "[encoded data removed]",
      "text/plain": [
       "<Figure size 640x480 with 1 Axes>"
      ]
     },
     "metadata": {},
     "output_type": "display_data"
    }
   ],
   "source": [
    "fradulent_amounts=[]\n",
    "for i in [index for index,value in enumerate(is_fraud) if value == 1]:\n",
    "    fradulent_amounts+=[amounts[i]]\n",
    "plt.hist(fradulent_amounts)\n",
    "plt.xlabel(\"Value of each fradulent transaction\")\n",
    "plt.ylabel(\"No. of fradulent transactions\")\n",
    "plt.show()"
   ]
  },
  {
   "cell_type": "markdown",
   "id": "9afa5b1f",
   "metadata": {
    "papermill": {
     "duration": 0.028328,
     "end_time": "2023-07-23T11:57:46.444388",
     "exception": false,
     "start_time": "2023-07-23T11:57:46.416060",
     "status": "completed"
    },
    "tags": []
   },
   "source": [
    "The above histogram doesn't say much apart from the fact the most fradulent transactions are in the range 0-1e+7. However, there are a significant no. of very high value fradulent transactions as well,which can't be ignored."
   ]
  },
  {
   "cell_type": "code",
   "execution_count": 38,
   "id": "d84331fa",
   "metadata": {
    "execution": {
     "iopub.execute_input": "2023-07-23T11:57:46.504810Z",
     "iopub.status.busy": "2023-07-23T11:57:46.504382Z",
     "iopub.status.idle": "2023-07-23T11:57:48.236855Z",
     "shell.execute_reply": "2023-07-23T11:57:48.235875Z"
    },
    "papermill": {
     "duration": 1.765775,
     "end_time": "2023-07-23T11:57:48.239200",
     "exception": false,
     "start_time": "2023-07-23T11:57:46.473425",
     "status": "completed"
    },
    "tags": []
   },
   "outputs": [
    {
     "data": {
      "image/png": "[encoded data removed]",
      "text/plain": [
       "<Figure size 640x480 with 1 Axes>"
      ]
     },
     "metadata": {},
     "output_type": "display_data"
    }
   ],
   "source": [
    "fradulent_old_balances=[]\n",
    "for i in [index for index,value in enumerate(is_fraud) if value == 1]:\n",
    "    fradulent_old_balances+=[oldbalanceOrig[i]]\n",
    "plt.hist(fradulent_old_balances)\n",
    "plt.xlabel(\"Initial Balance in account before Fraud transaction\")\n",
    "plt.ylabel(\"No. of Fraud Transacctions\")\n",
    "plt.show()"
   ]
  },
  {
   "cell_type": "markdown",
   "id": "323c212b",
   "metadata": {
    "papermill": {
     "duration": 0.029802,
     "end_time": "2023-07-23T11:57:48.298416",
     "exception": false,
     "start_time": "2023-07-23T11:57:48.268614",
     "status": "completed"
    },
    "tags": []
   },
   "source": [
    "Now the above plot does make one thing very clear is that fraudsters are more likely to target accounts where the initial balance is in the range 0-2e+7. However, a very miniscule number of accounts having higher initial balances have been targeted as well."
   ]
  },
  {
   "cell_type": "code",
   "execution_count": 39,
   "id": "5007bb0c",
   "metadata": {
    "execution": {
     "iopub.execute_input": "2023-07-23T11:57:48.361105Z",
     "iopub.status.busy": "2023-07-23T11:57:48.360259Z",
     "iopub.status.idle": "2023-07-23T11:57:51.044974Z",
     "shell.execute_reply": "2023-07-23T11:57:51.043698Z"
    },
    "papermill": {
     "duration": 2.718628,
     "end_time": "2023-07-23T11:57:51.047832",
     "exception": false,
     "start_time": "2023-07-23T11:57:48.329204",
     "status": "completed"
    },
    "tags": []
   },
   "outputs": [
    {
     "name": "stdout",
     "output_type": "stream",
     "text": [
      "{'TRANSFER': 4097, 'CASH_OUT': 4116}\n"
     ]
    },
    {
     "data": {
      "image/png": "[encoded data removed]",
      "text/plain": [
       "<Figure size 640x480 with 1 Axes>"
      ]
     },
     "metadata": {},
     "output_type": "display_data"
    }
   ],
   "source": [
    "def count_fraud_by_category(payment_type,is_fraud):\n",
    "    fraud_by_category={}\n",
    "    for category,fraud_status in zip(payment_type,is_fraud):\n",
    "        if fraud_status==1:\n",
    "            fraud_by_category[category]=fraud_by_category.get(category,0)+1\n",
    "    return fraud_by_category\n",
    "fraud_by_category=count_fraud_by_category(payment_type,is_fraud)\n",
    "print(fraud_by_category)\n",
    "categories=list(fraud_by_category.keys())\n",
    "fraud_counts=list(fraud_by_category.values())\n",
    "plt.bar(categories, fraud_counts, color='blue')\n",
    "plt.xlabel(\"Payment Type\")\n",
    "plt.ylabel(\"No. of Fraud Transacctions\")\n",
    "plt.title(\"No. of fradulent transactions for each payment type\")\n",
    "plt.text(0.5,-0.3,\"Note:-Other Payment types don't have any fradulent transactions\",\n",
    "        transform=plt.gca().transAxes, fontsize=10, ha='center')\n",
    "plt.xticks(rotation=0)\n",
    "plt.show()"
   ]
  },
  {
   "cell_type": "markdown",
   "id": "b9e0d1ee",
   "metadata": {
    "papermill": {
     "duration": 0.030146,
     "end_time": "2023-07-23T11:57:51.108932",
     "exception": false,
     "start_time": "2023-07-23T11:57:51.078786",
     "status": "completed"
    },
    "tags": []
   },
   "source": [
    "Now, it becomes clear that fradulent transactions are either Transfer or Cash_out.So some preventive measures can be taken.\n",
    "\n",
    "**Preventive Measures**\n",
    "\n",
    "1.Temporarily the best solution will be to add a security feature like an OTP as a verification step for these transaction types in order to have an extra layer of security.This will help in reducing fraud instances where fraudsters gain access to bank accounts and transfer or cash out the funds.\n",
    "\n",
    "2.Also, temporarily putting a daily limit on the amount that can be CASH_OUT until the infrastructure is updated is another option. This way, if a fraud transaction does occur, the losses to the customer can be minimized. However, this does come at the cost of inconvenience to some customers. \n",
    "\n",
    "3.In the longer term, biometric verfication for digital transactions can be introduced as an optional feature for customers, so that customers with access to supported devices can set it up and limit ability of other people to do transactions even if they do get access. \n",
    "\n",
    "4.And,once the model is deployed, the inference must be done in the probabilistic way with a threshold of 37%. Then,while transactions,If the probability of fraud turn out to be above 37%, then the user must be immediately notified and prompted with an alert to review the transaction before continuing and a verification request."
   ]
  },
  {
   "cell_type": "markdown",
   "id": "157752c0",
   "metadata": {
    "papermill": {
     "duration": 0.037388,
     "end_time": "2023-07-23T11:57:51.179149",
     "exception": false,
     "start_time": "2023-07-23T11:57:51.141761",
     "status": "completed"
    },
    "tags": []
   },
   "source": [
    "**Verification of these preventive measures**\n",
    "\n",
    "\n",
    "1.To verify whether the preventive measures work, monitoring for a couple of days is a good option. \n",
    "\n",
    "2.However,for quick conclusions simulated testing of these methods can be carried out to ensure functionality and efficiency of the methods."
   ]
  }
 ],
 "metadata": {
  "kernelspec": {
   "display_name": "Python 3",
   "language": "python",
   "name": "python3"
  },
  "language_info": {
   "codemirror_mode": {
    "name": "ipython",
    "version": 3
   },
   "file_extension": ".py",
   "mimetype": "text/x-python",
   "name": "python",
   "nbconvert_exporter": "python",
   "pygments_lexer": "ipython3",
   "version": "3.10.12"
  },
  "papermill": {
   "default_parameters": {},
   "duration": 670.183724,
   "end_time": "2023-07-23T11:57:52.943454",
   "environment_variables": {},
   "exception": null,
   "input_path": "__notebook__.ipynb",
   "output_path": "__notebook__.ipynb",
   "parameters": {},
   "start_time": "2023-07-23T11:46:42.759730",
   "version": "2.4.0"
  }
 },
 "nbformat": 4,
 "nbformat_minor": 5
}
