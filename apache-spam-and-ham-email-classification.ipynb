{
 "cells": [
  {
   "cell_type": "code",
   "execution_count": 1,
   "id": "2aa1808e",
   "metadata": {
    "_cell_guid": "b1076dfc-b9ad-4769-8c92-a6c4dae69d19",
    "_uuid": "8f2839f25d086af736a60e9eeb907d3b93b6e0e5",
    "execution": {
     "iopub.execute_input": "2023-05-22T14:41:59.730541Z",
     "iopub.status.busy": "2023-05-22T14:41:59.730147Z",
     "iopub.status.idle": "2023-05-22T14:41:59.743050Z",
     "shell.execute_reply": "2023-05-22T14:41:59.741796Z"
    },
    "papermill": {
     "duration": 0.02987,
     "end_time": "2023-05-22T14:41:59.745818",
     "exception": false,
     "start_time": "2023-05-22T14:41:59.715948",
     "status": "completed"
    },
    "tags": []
   },
   "outputs": [],
   "source": [
    "# This Python 3 environment comes with many helpful analytics libraries installed\n",
    "# It is defined by the kaggle/python Docker image: https://github.com/kaggle/docker-python\n",
    "# For example, here's several helpful packages to load\n",
    "\n",
    "import numpy as np # linear algebra\n",
    "import pandas as pd # data processing, CSV file I/O (e.g. pd.read_csv)\n",
    "\n",
    "# Input data files are available in the read-only \"../input/\" directory\n",
    "# For example, running this (by clicking run or pressing Shift+Enter) will list all files under the input directory\n",
    "\n",
    "import os\n",
    "for dirname, _, filenames in os.walk('/kaggle/input'):\n",
    "    for filename in filenames:\n",
    "        print(os.path.join(dirname, filename))\n",
    "\n",
    "# You can write up to 20GB to the current directory (/kaggle/working/) that gets preserved as output when you create a version using \"Save & Run All\" \n",
    "# You can also write temporary files to /kaggle/temp/, but they won't be saved outside of the current session"
   ]
  },
  {
   "cell_type": "code",
   "execution_count": 2,
   "id": "b3211d5a",
   "metadata": {
    "execution": {
     "iopub.execute_input": "2023-05-22T14:41:59.771547Z",
     "iopub.status.busy": "2023-05-22T14:41:59.770874Z",
     "iopub.status.idle": "2023-05-22T14:42:00.831872Z",
     "shell.execute_reply": "2023-05-22T14:42:00.830814Z"
    },
    "papermill": {
     "duration": 1.076691,
     "end_time": "2023-05-22T14:42:00.834452",
     "exception": false,
     "start_time": "2023-05-22T14:41:59.757761",
     "status": "completed"
    },
    "tags": []
   },
   "outputs": [
    {
     "name": "stderr",
     "output_type": "stream",
     "text": [
      "/opt/conda/lib/python3.10/site-packages/scipy/__init__.py:146: UserWarning: A NumPy version >=1.16.5 and <1.23.0 is required for this version of SciPy (detected version 1.23.5\n",
      "  warnings.warn(f\"A NumPy version >={np_minversion} and <{np_maxversion}\"\n"
     ]
    }
   ],
   "source": [
    "# Python ≥3.5 is required\n",
    "import sys\n",
    "assert sys.version_info >= (3, 5)\n",
    "\n",
    "IS_KAGGLE=\"kaggle_secrets\" in sys.modules\n",
    "# Scikit-Learn ≥0.20 is required\n",
    "import sklearn\n",
    "assert sklearn.__version__ >= \"0.20\"\n",
    "\n",
    "# Common imports\n",
    "import os\n",
    "\n",
    "# To plot pretty figures\n",
    "%matplotlib inline\n",
    "import matplotlib as mpl\n",
    "import matplotlib.pyplot as plt\n",
    "mpl.rc('axes', labelsize=14)\n",
    "mpl.rc('xtick', labelsize=12)\n",
    "mpl.rc('ytick', labelsize=12)\n",
    "\n",
    "# Where to save the figures\n",
    "PROJECT_ROOT_DIR = \".\"\n",
    "IMAGES_PATH = os.path.join(PROJECT_ROOT_DIR,\"images\")\n",
    "os.makedirs(IMAGES_PATH, exist_ok=True)\n",
    "\n",
    "def save_fig(fig_id, tight_layout=True, fig_extension=\"png\", resolution=300):\n",
    "    path = os.path.join(IMAGES_PATH, fig_id + \".\" + fig_extension)\n",
    "    print(\"Saving figure\", fig_id)\n",
    "    if tight_layout:\n",
    "        plt.tight_layout()\n",
    "    plt.savefig(path, format=fig_extension, dpi=resolution)"
   ]
  },
  {
   "cell_type": "code",
   "execution_count": 3,
   "id": "8fe6b040",
   "metadata": {
    "execution": {
     "iopub.execute_input": "2023-05-22T14:42:00.861325Z",
     "iopub.status.busy": "2023-05-22T14:42:00.860883Z",
     "iopub.status.idle": "2023-05-22T14:42:00.869862Z",
     "shell.execute_reply": "2023-05-22T14:42:00.868681Z"
    },
    "papermill": {
     "duration": 0.025601,
     "end_time": "2023-05-22T14:42:00.872269",
     "exception": false,
     "start_time": "2023-05-22T14:42:00.846668",
     "status": "completed"
    },
    "tags": []
   },
   "outputs": [],
   "source": [
    "import os\n",
    "import tarfile\n",
    "import urllib.request\n",
    "\n",
    "DOWNLOAD_ROOT = \"http://spamassassin.apache.org/old/publiccorpus/\"\n",
    "HAM_URL = DOWNLOAD_ROOT + \"20030228_easy_ham.tar.bz2\"\n",
    "SPAM_URL = DOWNLOAD_ROOT + \"20030228_spam.tar.bz2\"\n",
    "SPAM_PATH = os.path.join(\"datasets\", \"spam\")\n",
    "\n",
    "def fetch_spam_data(ham_url=HAM_URL, spam_url=SPAM_URL, spam_path=SPAM_PATH):\n",
    "    if not os.path.isdir(spam_path):\n",
    "        os.makedirs(spam_path)\n",
    "    for filename, url in ((\"ham.tar.bz2\", ham_url), (\"spam.tar.bz2\", spam_url)):\n",
    "        path = os.path.join(spam_path, filename)\n",
    "        if not os.path.isfile(path):\n",
    "            urllib.request.urlretrieve(url, path)\n",
    "        tar_bz2_file = tarfile.open(path)\n",
    "        tar_bz2_file.extractall(path=spam_path)\n",
    "        tar_bz2_file.close()"
   ]
  },
  {
   "cell_type": "code",
   "execution_count": 4,
   "id": "f21ea18e",
   "metadata": {
    "execution": {
     "iopub.execute_input": "2023-05-22T14:42:00.898307Z",
     "iopub.status.busy": "2023-05-22T14:42:00.897655Z",
     "iopub.status.idle": "2023-05-22T14:42:11.802696Z",
     "shell.execute_reply": "2023-05-22T14:42:11.801621Z"
    },
    "papermill": {
     "duration": 10.921255,
     "end_time": "2023-05-22T14:42:11.805556",
     "exception": false,
     "start_time": "2023-05-22T14:42:00.884301",
     "status": "completed"
    },
    "tags": []
   },
   "outputs": [],
   "source": [
    "fetch_spam_data()"
   ]
  },
  {
   "cell_type": "code",
   "execution_count": 5,
   "id": "d22b8a3c",
   "metadata": {
    "execution": {
     "iopub.execute_input": "2023-05-22T14:42:11.831678Z",
     "iopub.status.busy": "2023-05-22T14:42:11.831282Z",
     "iopub.status.idle": "2023-05-22T14:42:11.841783Z",
     "shell.execute_reply": "2023-05-22T14:42:11.840731Z"
    },
    "papermill": {
     "duration": 0.026955,
     "end_time": "2023-05-22T14:42:11.844774",
     "exception": false,
     "start_time": "2023-05-22T14:42:11.817819",
     "status": "completed"
    },
    "tags": []
   },
   "outputs": [],
   "source": [
    "HAM_DIR = os.path.join(SPAM_PATH, \"easy_ham\")\n",
    "SPAM_DIR = os.path.join(SPAM_PATH, \"spam\")\n",
    "ham_filenames = [name for name in sorted(os.listdir(HAM_DIR)) if len(name) > 20]\n",
    "spam_filenames = [name for name in sorted(os.listdir(SPAM_DIR)) if len(name) > 20]"
   ]
  },
  {
   "cell_type": "code",
   "execution_count": 6,
   "id": "f38d58cb",
   "metadata": {
    "execution": {
     "iopub.execute_input": "2023-05-22T14:42:11.871700Z",
     "iopub.status.busy": "2023-05-22T14:42:11.871309Z",
     "iopub.status.idle": "2023-05-22T14:42:11.879440Z",
     "shell.execute_reply": "2023-05-22T14:42:11.878416Z"
    },
    "papermill": {
     "duration": 0.025446,
     "end_time": "2023-05-22T14:42:11.882741",
     "exception": false,
     "start_time": "2023-05-22T14:42:11.857295",
     "status": "completed"
    },
    "tags": []
   },
   "outputs": [
    {
     "data": {
      "text/plain": [
       "(2500, 500)"
      ]
     },
     "execution_count": 6,
     "metadata": {},
     "output_type": "execute_result"
    }
   ],
   "source": [
    "len(ham_filenames),len(spam_filenames)"
   ]
  },
  {
   "cell_type": "code",
   "execution_count": 7,
   "id": "ea32017c",
   "metadata": {
    "execution": {
     "iopub.execute_input": "2023-05-22T14:42:11.911318Z",
     "iopub.status.busy": "2023-05-22T14:42:11.910909Z",
     "iopub.status.idle": "2023-05-22T14:42:15.019907Z",
     "shell.execute_reply": "2023-05-22T14:42:15.018682Z"
    },
    "papermill": {
     "duration": 3.125451,
     "end_time": "2023-05-22T14:42:15.022652",
     "exception": false,
     "start_time": "2023-05-22T14:42:11.897201",
     "status": "completed"
    },
    "tags": []
   },
   "outputs": [],
   "source": [
    "import email\n",
    "import email.policy\n",
    "\n",
    "def load_email(is_spam, filename, spam_path=SPAM_PATH):\n",
    "    directory = \"spam\" if is_spam else \"easy_ham\"\n",
    "    with open(os.path.join(spam_path, directory, filename), \"rb\") as f:\n",
    "        return email.parser.BytesParser(policy=email.policy.default).parse(f)\n",
    "\n",
    "ham_emails = [load_email(is_spam=False, filename=name) for name in ham_filenames]\n",
    "spam_emails = [load_email(is_spam=True, filename=name) for name in spam_filenames]"
   ]
  },
  {
   "cell_type": "code",
   "execution_count": 8,
   "id": "13375f10",
   "metadata": {
    "execution": {
     "iopub.execute_input": "2023-05-22T14:42:15.048983Z",
     "iopub.status.busy": "2023-05-22T14:42:15.048580Z",
     "iopub.status.idle": "2023-05-22T14:42:15.056795Z",
     "shell.execute_reply": "2023-05-22T14:42:15.055269Z"
    },
    "papermill": {
     "duration": 0.02368,
     "end_time": "2023-05-22T14:42:15.058979",
     "exception": false,
     "start_time": "2023-05-22T14:42:15.035299",
     "status": "completed"
    },
    "tags": []
   },
   "outputs": [
    {
     "name": "stdout",
     "output_type": "stream",
     "text": [
      "Cellular Phone Accessories All At Below Wholesale Prices!\n",
      "\n",
      "http://202.101.163.34:81/sites/merchant/sales/\n",
      "\n",
      "Hands Free Ear Buds 1.99! \n",
      "Phone Holsters 1.98! \n",
      "Booster Antennas Only $0.99\n",
      "Phone Cases 1.98! \n",
      "Car Chargers 1.98! \n",
      "Face Plates As Low As 0.99! \n",
      "Lithium Ion Batteries As Low As 6.94! \n",
      "\n",
      "http://202.101.163.34:81/sites/merchant/sales/\n",
      "\n",
      "Click Below For Accessories On All NOKIA, MOTOROLA LG, NEXTEL, \n",
      "SAMSUNG, QUALCOMM, ERICSSON, AUDIOVOX PHONES At Below \n",
      "WHOLESALE PRICES!\n",
      "\n",
      "http://202.101.163.34:81/sites/merchant/sales/\n",
      "\n",
      "***If You Need Assistance Please Call Us (732) 751-1457***\n",
      "\n",
      "\n",
      "~~~~~~~~~~~~~~~~~~~~~~~~~~~~~~~~\n",
      "To be removed from future mailings please send your remove \n",
      "request to: removemenow68994@btamail.net.cn \n",
      "Thank You and have a super day :)\n"
     ]
    }
   ],
   "source": [
    "print(spam_emails[10].get_content().strip())"
   ]
  },
  {
   "cell_type": "code",
   "execution_count": 9,
   "id": "6607e605",
   "metadata": {
    "execution": {
     "iopub.execute_input": "2023-05-22T14:42:15.084910Z",
     "iopub.status.busy": "2023-05-22T14:42:15.084252Z",
     "iopub.status.idle": "2023-05-22T14:42:15.090750Z",
     "shell.execute_reply": "2023-05-22T14:42:15.089587Z"
    },
    "papermill": {
     "duration": 0.022231,
     "end_time": "2023-05-22T14:42:15.093379",
     "exception": false,
     "start_time": "2023-05-22T14:42:15.071148",
     "status": "completed"
    },
    "tags": []
   },
   "outputs": [
    {
     "name": "stdout",
     "output_type": "stream",
     "text": [
      "> I just had to jump in here as Carbonara is one of my favourites to make and \n",
      "> ask \n",
      "> what the hell are you supposed to use instead of cream? \n",
      "\n",
      "Isn't it just basically a mixture of beaten egg and bacon (or pancetta, \n",
      "really)? You mix in the raw egg to the cooked pasta and the heat of the pasta \n",
      "cooks the egg. That's my understanding.\n",
      "\n",
      "Martin\n",
      "\n",
      "------------------------ Yahoo! Groups Sponsor ---------------------~-->\n",
      "4 DVDs Free +s&p Join Now\n",
      "http://us.click.yahoo.com/pt6YBB/NXiEAA/mG3HAA/7gSolB/TM\n",
      "---------------------------------------------------------------------~->\n",
      "\n",
      "To unsubscribe from this group, send an email to:\n",
      "forteana-unsubscribe@egroups.com\n",
      "\n",
      " \n",
      "\n",
      "Your use of Yahoo! Groups is subject to http://docs.yahoo.com/info/terms/\n"
     ]
    }
   ],
   "source": [
    "print(ham_emails[5].get_content().strip())"
   ]
  },
  {
   "cell_type": "code",
   "execution_count": 10,
   "id": "8149de1e",
   "metadata": {
    "execution": {
     "iopub.execute_input": "2023-05-22T14:42:15.119664Z",
     "iopub.status.busy": "2023-05-22T14:42:15.119263Z",
     "iopub.status.idle": "2023-05-22T14:42:15.125985Z",
     "shell.execute_reply": "2023-05-22T14:42:15.124915Z"
    },
    "papermill": {
     "duration": 0.022347,
     "end_time": "2023-05-22T14:42:15.128300",
     "exception": false,
     "start_time": "2023-05-22T14:42:15.105953",
     "status": "completed"
    },
    "tags": []
   },
   "outputs": [],
   "source": [
    "def get_email_structure(email):\n",
    "    if isinstance(email, str):\n",
    "        return email\n",
    "    payload = email.get_payload()\n",
    "    if isinstance(payload, list):\n",
    "        return \"multipart({})\".format(\", \".join([\n",
    "            get_email_structure(sub_email)\n",
    "            for sub_email in payload\n",
    "        ]))\n",
    "    else:\n",
    "        return email.get_content_type()"
   ]
  },
  {
   "cell_type": "code",
   "execution_count": 11,
   "id": "18de953c",
   "metadata": {
    "execution": {
     "iopub.execute_input": "2023-05-22T14:42:15.154387Z",
     "iopub.status.busy": "2023-05-22T14:42:15.153984Z",
     "iopub.status.idle": "2023-05-22T14:42:15.159799Z",
     "shell.execute_reply": "2023-05-22T14:42:15.158698Z"
    },
    "papermill": {
     "duration": 0.021296,
     "end_time": "2023-05-22T14:42:15.162028",
     "exception": false,
     "start_time": "2023-05-22T14:42:15.140732",
     "status": "completed"
    },
    "tags": []
   },
   "outputs": [],
   "source": [
    "from collections import Counter\n",
    "\n",
    "def structures_counter(emails):\n",
    "    structures = Counter()\n",
    "    for email in emails:\n",
    "        structure = get_email_structure(email)\n",
    "        structures[structure] += 1\n",
    "    return structures"
   ]
  },
  {
   "cell_type": "code",
   "execution_count": 12,
   "id": "94acf08d",
   "metadata": {
    "execution": {
     "iopub.execute_input": "2023-05-22T14:42:15.187836Z",
     "iopub.status.busy": "2023-05-22T14:42:15.187451Z",
     "iopub.status.idle": "2023-05-22T14:42:15.589047Z",
     "shell.execute_reply": "2023-05-22T14:42:15.588251Z"
    },
    "papermill": {
     "duration": 0.417279,
     "end_time": "2023-05-22T14:42:15.591419",
     "exception": false,
     "start_time": "2023-05-22T14:42:15.174140",
     "status": "completed"
    },
    "tags": []
   },
   "outputs": [
    {
     "data": {
      "text/plain": [
       "[('text/plain', 2408),\n",
       " ('multipart(text/plain, application/pgp-signature)', 66),\n",
       " ('multipart(text/plain, text/html)', 8),\n",
       " ('multipart(text/plain, text/plain)', 4),\n",
       " ('multipart(text/plain)', 3),\n",
       " ('multipart(text/plain, application/octet-stream)', 2),\n",
       " ('multipart(text/plain, text/enriched)', 1),\n",
       " ('multipart(text/plain, application/ms-tnef, text/plain)', 1),\n",
       " ('multipart(multipart(text/plain, text/plain, text/plain), application/pgp-signature)',\n",
       "  1),\n",
       " ('multipart(text/plain, video/mng)', 1),\n",
       " ('multipart(text/plain, multipart(text/plain))', 1),\n",
       " ('multipart(text/plain, application/x-pkcs7-signature)', 1),\n",
       " ('multipart(text/plain, multipart(text/plain, text/plain), text/rfc822-headers)',\n",
       "  1),\n",
       " ('multipart(text/plain, multipart(text/plain, text/plain), multipart(multipart(text/plain, application/x-pkcs7-signature)))',\n",
       "  1),\n",
       " ('multipart(text/plain, application/x-java-applet)', 1)]"
      ]
     },
     "execution_count": 12,
     "metadata": {},
     "output_type": "execute_result"
    }
   ],
   "source": [
    "structures_counter(ham_emails).most_common()"
   ]
  },
  {
   "cell_type": "code",
   "execution_count": 13,
   "id": "bfc573f9",
   "metadata": {
    "execution": {
     "iopub.execute_input": "2023-05-22T14:42:15.618376Z",
     "iopub.status.busy": "2023-05-22T14:42:15.617753Z",
     "iopub.status.idle": "2023-05-22T14:42:15.756209Z",
     "shell.execute_reply": "2023-05-22T14:42:15.754990Z"
    },
    "papermill": {
     "duration": 0.154797,
     "end_time": "2023-05-22T14:42:15.758684",
     "exception": false,
     "start_time": "2023-05-22T14:42:15.603887",
     "status": "completed"
    },
    "tags": []
   },
   "outputs": [
    {
     "data": {
      "text/plain": [
       "[('text/plain', 218),\n",
       " ('text/html', 183),\n",
       " ('multipart(text/plain, text/html)', 45),\n",
       " ('multipart(text/html)', 20),\n",
       " ('multipart(text/plain)', 19),\n",
       " ('multipart(multipart(text/html))', 5),\n",
       " ('multipart(text/plain, image/jpeg)', 3),\n",
       " ('multipart(text/html, application/octet-stream)', 2),\n",
       " ('multipart(text/plain, application/octet-stream)', 1),\n",
       " ('multipart(text/html, text/plain)', 1),\n",
       " ('multipart(multipart(text/html), application/octet-stream, image/jpeg)', 1),\n",
       " ('multipart(multipart(text/plain, text/html), image/gif)', 1),\n",
       " ('multipart/alternative', 1)]"
      ]
     },
     "execution_count": 13,
     "metadata": {},
     "output_type": "execute_result"
    }
   ],
   "source": [
    "structures_counter(spam_emails).most_common()"
   ]
  },
  {
   "cell_type": "markdown",
   "id": "2f33ee23",
   "metadata": {
    "papermill": {
     "duration": 0.012106,
     "end_time": "2023-05-22T14:42:15.783450",
     "exception": false,
     "start_time": "2023-05-22T14:42:15.771344",
     "status": "completed"
    },
    "tags": []
   },
   "source": [
    "It seems that the ham emails are more often plain text, while spam has quite a lot of HTML. Moreover, quite a few ham emails are signed using PGP, while no spam is. In short, it seems that the email structure is useful information to have.\n",
    "\n",
    "Now let's take a look at the email headers:"
   ]
  },
  {
   "cell_type": "code",
   "execution_count": 14,
   "id": "1b0839a9",
   "metadata": {
    "execution": {
     "iopub.execute_input": "2023-05-22T14:42:15.809876Z",
     "iopub.status.busy": "2023-05-22T14:42:15.809505Z",
     "iopub.status.idle": "2023-05-22T14:42:15.819126Z",
     "shell.execute_reply": "2023-05-22T14:42:15.817902Z"
    },
    "papermill": {
     "duration": 0.025706,
     "end_time": "2023-05-22T14:42:15.821575",
     "exception": false,
     "start_time": "2023-05-22T14:42:15.795869",
     "status": "completed"
    },
    "tags": []
   },
   "outputs": [
    {
     "name": "stdout",
     "output_type": "stream",
     "text": [
      "Return-Path : <12a1mailbot1@web.de>\n",
      "Delivered-To : zzzz@localhost.spamassassin.taint.org\n",
      "Received : from localhost (localhost [127.0.0.1])\tby phobos.labs.spamassassin.taint.org (Postfix) with ESMTP id 136B943C32\tfor <zzzz@localhost>; Thu, 22 Aug 2002 08:17:21 -0400 (EDT)\n",
      "Received : from mail.webnote.net [193.120.211.219]\tby localhost with POP3 (fetchmail-5.9.0)\tfor zzzz@localhost (single-drop); Thu, 22 Aug 2002 13:17:21 +0100 (IST)\n",
      "Received : from dd_it7 ([210.97.77.167])\tby webnote.net (8.9.3/8.9.3) with ESMTP id NAA04623\tfor <zzzz@spamassassin.taint.org>; Thu, 22 Aug 2002 13:09:41 +0100\n",
      "From : 12a1mailbot1@web.de\n",
      "Received : from r-smtp.korea.com - 203.122.2.197 by dd_it7  with Microsoft SMTPSVC(5.5.1775.675.6);\t Sat, 24 Aug 2002 09:42:10 +0900\n",
      "To : dcek1a1@netsgo.com\n",
      "Subject : Life Insurance - Why Pay More?\n",
      "Date : Wed, 21 Aug 2002 20:31:57 -1600\n",
      "MIME-Version : 1.0\n",
      "Message-ID : <0103c1042001882DD_IT7@dd_it7>\n",
      "Content-Type : text/html; charset=\"iso-8859-1\"\n",
      "Content-Transfer-Encoding : quoted-printable\n"
     ]
    }
   ],
   "source": [
    "for header, value in spam_emails[0].items():\n",
    "    print(header,\":\",value)"
   ]
  },
  {
   "cell_type": "markdown",
   "id": "1f7c2f0a",
   "metadata": {
    "papermill": {
     "duration": 0.012245,
     "end_time": "2023-05-22T14:42:15.846424",
     "exception": false,
     "start_time": "2023-05-22T14:42:15.834179",
     "status": "completed"
    },
    "tags": []
   },
   "source": [
    "There's probably a lot of useful information in there, such as the sender's email address (12a1mailbot1@web.de looks fishy), but we will just focus on the Subject header:"
   ]
  },
  {
   "cell_type": "code",
   "execution_count": 15,
   "id": "b05da1f0",
   "metadata": {
    "execution": {
     "iopub.execute_input": "2023-05-22T14:42:15.873957Z",
     "iopub.status.busy": "2023-05-22T14:42:15.873022Z",
     "iopub.status.idle": "2023-05-22T14:42:15.880581Z",
     "shell.execute_reply": "2023-05-22T14:42:15.879424Z"
    },
    "papermill": {
     "duration": 0.023902,
     "end_time": "2023-05-22T14:42:15.882847",
     "exception": false,
     "start_time": "2023-05-22T14:42:15.858945",
     "status": "completed"
    },
    "tags": []
   },
   "outputs": [
    {
     "data": {
      "text/plain": [
       "'Life Insurance - Why Pay More?'"
      ]
     },
     "execution_count": 15,
     "metadata": {},
     "output_type": "execute_result"
    }
   ],
   "source": [
    "spam_emails[0][\"Subject\"]"
   ]
  },
  {
   "cell_type": "code",
   "execution_count": 16,
   "id": "44d76153",
   "metadata": {
    "execution": {
     "iopub.execute_input": "2023-05-22T14:42:15.909927Z",
     "iopub.status.busy": "2023-05-22T14:42:15.909020Z",
     "iopub.status.idle": "2023-05-22T14:42:16.133764Z",
     "shell.execute_reply": "2023-05-22T14:42:16.132610Z"
    },
    "papermill": {
     "duration": 0.241132,
     "end_time": "2023-05-22T14:42:16.136502",
     "exception": false,
     "start_time": "2023-05-22T14:42:15.895370",
     "status": "completed"
    },
    "tags": []
   },
   "outputs": [],
   "source": [
    "import numpy as np\n",
    "from sklearn.model_selection import train_test_split\n",
    "\n",
    "X = np.array(ham_emails + spam_emails, dtype=object)\n",
    "y = np.array([0] * len(ham_emails) + [1] * len(spam_emails))\n",
    "\n",
    "X_train, X_test, y_train, y_test = train_test_split(X, y, test_size=0.2, random_state=42)"
   ]
  },
  {
   "cell_type": "code",
   "execution_count": 17,
   "id": "d474d1c3",
   "metadata": {
    "execution": {
     "iopub.execute_input": "2023-05-22T14:42:16.164432Z",
     "iopub.status.busy": "2023-05-22T14:42:16.163339Z",
     "iopub.status.idle": "2023-05-22T14:42:16.170184Z",
     "shell.execute_reply": "2023-05-22T14:42:16.169467Z"
    },
    "papermill": {
     "duration": 0.022909,
     "end_time": "2023-05-22T14:42:16.172322",
     "exception": false,
     "start_time": "2023-05-22T14:42:16.149413",
     "status": "completed"
    },
    "tags": []
   },
   "outputs": [],
   "source": [
    "import re\n",
    "from html import unescape\n",
    "\n",
    "def html_to_plain_text(html):\n",
    "    text = re.sub('<head.*?>.*?</head>', '', html, flags=re.M | re.S | re.I)\n",
    "    text = re.sub('<a\\s.*?>', ' HYPERLINK ', text, flags=re.M | re.S | re.I)\n",
    "    text = re.sub('<.*?>', '', text, flags=re.M | re.S)\n",
    "    text = re.sub(r'(\\s*\\n)+', '\\n', text, flags=re.M | re.S)\n",
    "    return unescape(text)"
   ]
  },
  {
   "cell_type": "code",
   "execution_count": 18,
   "id": "3d127e02",
   "metadata": {
    "execution": {
     "iopub.execute_input": "2023-05-22T14:42:16.200340Z",
     "iopub.status.busy": "2023-05-22T14:42:16.199265Z",
     "iopub.status.idle": "2023-05-22T14:42:16.306965Z",
     "shell.execute_reply": "2023-05-22T14:42:16.305554Z"
    },
    "papermill": {
     "duration": 0.124268,
     "end_time": "2023-05-22T14:42:16.309482",
     "exception": false,
     "start_time": "2023-05-22T14:42:16.185214",
     "status": "completed"
    },
    "tags": []
   },
   "outputs": [
    {
     "name": "stdout",
     "output_type": "stream",
     "text": [
      "<HTML><HEAD><TITLE></TITLE><META http-equiv=\"Content-Type\" content=\"text/html; charset=windows-1252\"><STYLE>A:link {TEX-DECORATION: none}A:active {TEXT-DECORATION: none}A:visited {TEXT-DECORATION: none}A:hover {COLOR: #0033ff; TEXT-DECORATION: underline}</STYLE><META content=\"MSHTML 6.00.2713.1100\" name=\"GENERATOR\"></HEAD>\n",
      "<BODY text=\"#000000\" vLink=\"#0033ff\" link=\"#0033ff\" bgColor=\"#CCCC99\"><TABLE borderColor=\"#660000\" cellSpacing=\"0\" cellPadding=\"0\" border=\"0\" width=\"100%\"><TR><TD bgColor=\"#CCCC99\" valign=\"top\" colspan=\"2\" height=\"27\">\n",
      "<font size=\"6\" face=\"Arial, Helvetica, sans-serif\" color=\"#660000\">\n",
      "<b>OTC</b></font></TD></TR><TR><TD height=\"2\" bgcolor=\"#6a694f\">\n",
      "<font size=\"5\" face=\"Times New Roman, Times, serif\" color=\"#FFFFFF\">\n",
      "<b>&nbsp;Newsletter</b></font></TD><TD height=\"2\" bgcolor=\"#6a694f\"><div align=\"right\"><font color=\"#FFFFFF\">\n",
      "<b>Discover Tomorrow's Winners&nbsp;</b></font></div></TD></TR><TR><TD height=\"25\" colspan=\"2\" bgcolor=\"#CCCC99\"><table width=\"100%\" border=\"0\"  ...\n"
     ]
    }
   ],
   "source": [
    "html_spam_emails = [email for email in X_train[y_train==1]\n",
    "                    if get_email_structure(email) == \"text/html\"]\n",
    "sample_html_spam = html_spam_emails[7]\n",
    "print(sample_html_spam.get_content().strip()[:1000], \"...\")"
   ]
  },
  {
   "cell_type": "code",
   "execution_count": 19,
   "id": "145de0f3",
   "metadata": {
    "execution": {
     "iopub.execute_input": "2023-05-22T14:42:16.339113Z",
     "iopub.status.busy": "2023-05-22T14:42:16.338702Z",
     "iopub.status.idle": "2023-05-22T14:42:16.346281Z",
     "shell.execute_reply": "2023-05-22T14:42:16.345272Z"
    },
    "papermill": {
     "duration": 0.024935,
     "end_time": "2023-05-22T14:42:16.348806",
     "exception": false,
     "start_time": "2023-05-22T14:42:16.323871",
     "status": "completed"
    },
    "tags": []
   },
   "outputs": [
    {
     "name": "stdout",
     "output_type": "stream",
     "text": [
      "\n",
      "OTC\n",
      " Newsletter\n",
      "Discover Tomorrow's Winners \n",
      "For Immediate Release\n",
      "Cal-Bay (Stock Symbol: CBYI)\n",
      "Watch for analyst \"Strong Buy Recommendations\" and several advisory newsletters picking CBYI.  CBYI has filed to be traded on the OTCBB, share prices historically INCREASE when companies get listed on this larger trading exchange. CBYI is trading around 25 cents and should skyrocket to $2.66 - $3.25 a share in the near future.\n",
      "Put CBYI on your watch list, acquire a position TODAY.\n",
      "REASONS TO INVEST IN CBYI\n",
      "A profitable company and is on track to beat ALL earnings estimates!\n",
      "One of the FASTEST growing distributors in environmental & safety equipment instruments.\n",
      "Excellent management team, several EXCLUSIVE contracts.  IMPRESSIVE client list including the U.S. Air Force, Anheuser-Busch, Chevron Refining and Mitsubishi Heavy Industries, GE-Energy & Environmental Research.\n",
      "RAPIDLY GROWING INDUSTRY\n",
      "Industry revenues exceed $900 million, estimates indicate that there could be as much as $25 billi ...\n"
     ]
    }
   ],
   "source": [
    "print(html_to_plain_text(sample_html_spam.get_content())[:1000], \"...\")"
   ]
  },
  {
   "cell_type": "code",
   "execution_count": 20,
   "id": "3a499a61",
   "metadata": {
    "execution": {
     "iopub.execute_input": "2023-05-22T14:42:16.376679Z",
     "iopub.status.busy": "2023-05-22T14:42:16.376068Z",
     "iopub.status.idle": "2023-05-22T14:42:16.383401Z",
     "shell.execute_reply": "2023-05-22T14:42:16.382274Z"
    },
    "papermill": {
     "duration": 0.023459,
     "end_time": "2023-05-22T14:42:16.385590",
     "exception": false,
     "start_time": "2023-05-22T14:42:16.362131",
     "status": "completed"
    },
    "tags": []
   },
   "outputs": [],
   "source": [
    "def email_to_text(email):\n",
    "    html = None\n",
    "    for part in email.walk():\n",
    "        ctype = part.get_content_type()\n",
    "        if not ctype in (\"text/plain\", \"text/html\"):\n",
    "            continue\n",
    "        try:\n",
    "            content = part.get_content()\n",
    "        except: # in case of encoding issues\n",
    "            content = str(part.get_payload())\n",
    "        if ctype == \"text/plain\":\n",
    "            return content\n",
    "        else:\n",
    "            html = content\n",
    "    if html:\n",
    "        return html_to_plain_text(html)"
   ]
  },
  {
   "cell_type": "code",
   "execution_count": 21,
   "id": "579e89e8",
   "metadata": {
    "execution": {
     "iopub.execute_input": "2023-05-22T14:42:16.414718Z",
     "iopub.status.busy": "2023-05-22T14:42:16.413737Z",
     "iopub.status.idle": "2023-05-22T14:42:16.422585Z",
     "shell.execute_reply": "2023-05-22T14:42:16.421011Z"
    },
    "papermill": {
     "duration": 0.025998,
     "end_time": "2023-05-22T14:42:16.425050",
     "exception": false,
     "start_time": "2023-05-22T14:42:16.399052",
     "status": "completed"
    },
    "tags": []
   },
   "outputs": [
    {
     "name": "stdout",
     "output_type": "stream",
     "text": [
      "\n",
      "OTC\n",
      " Newsletter\n",
      "Discover Tomorrow's Winners \n",
      "For Immediate Release\n",
      "Cal-Bay (Stock Symbol: CBYI)\n",
      "Wat ...\n"
     ]
    }
   ],
   "source": [
    "print(email_to_text(sample_html_spam)[:100], \"...\")"
   ]
  },
  {
   "cell_type": "code",
   "execution_count": 22,
   "id": "41b64e25",
   "metadata": {
    "execution": {
     "iopub.execute_input": "2023-05-22T14:42:16.453196Z",
     "iopub.status.busy": "2023-05-22T14:42:16.452821Z",
     "iopub.status.idle": "2023-05-22T14:42:31.052250Z",
     "shell.execute_reply": "2023-05-22T14:42:31.050805Z"
    },
    "papermill": {
     "duration": 14.616595,
     "end_time": "2023-05-22T14:42:31.055025",
     "exception": false,
     "start_time": "2023-05-22T14:42:16.438430",
     "status": "completed"
    },
    "tags": []
   },
   "outputs": [
    {
     "name": "stdout",
     "output_type": "stream",
     "text": [
      "Requirement already satisfied: nltk in /opt/conda/lib/python3.10/site-packages (3.2.4)\r\n",
      "Requirement already satisfied: six in /opt/conda/lib/python3.10/site-packages (from nltk) (1.16.0)\r\n",
      "\u001b[33mWARNING: Running pip as the 'root' user can result in broken permissions and conflicting behaviour with the system package manager. It is recommended to use a virtual environment instead: https://pip.pypa.io/warnings/venv\u001b[0m\u001b[33m\r\n",
      "\u001b[0mNote: you may need to restart the kernel to use updated packages.\n"
     ]
    }
   ],
   "source": [
    "pip install nltk"
   ]
  },
  {
   "cell_type": "code",
   "execution_count": 23,
   "id": "3a1555af",
   "metadata": {
    "execution": {
     "iopub.execute_input": "2023-05-22T14:42:31.083743Z",
     "iopub.status.busy": "2023-05-22T14:42:31.083333Z",
     "iopub.status.idle": "2023-05-22T14:42:31.716871Z",
     "shell.execute_reply": "2023-05-22T14:42:31.715285Z"
    },
    "papermill": {
     "duration": 0.650945,
     "end_time": "2023-05-22T14:42:31.719324",
     "exception": false,
     "start_time": "2023-05-22T14:42:31.068379",
     "status": "completed"
    },
    "tags": []
   },
   "outputs": [
    {
     "name": "stdout",
     "output_type": "stream",
     "text": [
      "Computations => comput\n",
      "Computation => comput\n",
      "Computing => comput\n",
      "Computed => comput\n",
      "Compute => comput\n",
      "Compulsive => compuls\n"
     ]
    }
   ],
   "source": [
    "try:\n",
    "    import nltk\n",
    "\n",
    "    stemmer = nltk.PorterStemmer()\n",
    "    for word in (\"Computations\", \"Computation\", \"Computing\", \"Computed\", \"Compute\", \"Compulsive\"):\n",
    "        print(word, \"=>\", stemmer.stem(word))\n",
    "except ImportError:\n",
    "    print(\"Error: stemming requires the NLTK module.\")\n",
    "    stemmer = None"
   ]
  },
  {
   "cell_type": "code",
   "execution_count": 24,
   "id": "7a44c8ec",
   "metadata": {
    "execution": {
     "iopub.execute_input": "2023-05-22T14:42:31.747711Z",
     "iopub.status.busy": "2023-05-22T14:42:31.747338Z",
     "iopub.status.idle": "2023-05-22T14:42:45.121271Z",
     "shell.execute_reply": "2023-05-22T14:42:45.119799Z"
    },
    "papermill": {
     "duration": 13.391232,
     "end_time": "2023-05-22T14:42:45.124041",
     "exception": false,
     "start_time": "2023-05-22T14:42:31.732809",
     "status": "completed"
    },
    "tags": []
   },
   "outputs": [
    {
     "name": "stdout",
     "output_type": "stream",
     "text": [
      "\u001b[33mWARNING: Running pip as the 'root' user can result in broken permissions and conflicting behaviour with the system package manager. It is recommended to use a virtual environment instead: https://pip.pypa.io/warnings/venv\u001b[0m\u001b[33m\r\n",
      "\u001b[0mNote: you may need to restart the kernel to use updated packages.\n"
     ]
    }
   ],
   "source": [
    "# if running this notebook on Colab or Kaggle, we just pip install urlextract\n",
    "if IS_KAGGLE:\n",
    "    %pip install -q -U urlextract"
   ]
  },
  {
   "cell_type": "code",
   "execution_count": 25,
   "id": "12d66b4a",
   "metadata": {
    "execution": {
     "iopub.execute_input": "2023-05-22T14:42:45.153680Z",
     "iopub.status.busy": "2023-05-22T14:42:45.153246Z",
     "iopub.status.idle": "2023-05-22T14:42:45.491570Z",
     "shell.execute_reply": "2023-05-22T14:42:45.490049Z"
    },
    "papermill": {
     "duration": 0.356431,
     "end_time": "2023-05-22T14:42:45.494266",
     "exception": false,
     "start_time": "2023-05-22T14:42:45.137835",
     "status": "completed"
    },
    "tags": []
   },
   "outputs": [
    {
     "name": "stdout",
     "output_type": "stream",
     "text": [
      "['github.com', 'https://youtu.be/7Pq-S557XQU?t=3m32s']\n"
     ]
    }
   ],
   "source": [
    "try:\n",
    "    import urlextract # may require an Internet connection to download root domain names\n",
    "    \n",
    "    url_extractor = urlextract.URLExtract()\n",
    "    print(url_extractor.find_urls(\"Will it detect github.com and https://youtu.be/7Pq-S557XQU?t=3m32s\"))\n",
    "except ImportError:\n",
    "    print(\"Error: replacing URLs requires the urlextract module.\")\n",
    "    url_extractor = None"
   ]
  },
  {
   "cell_type": "code",
   "execution_count": 26,
   "id": "bc7381bc",
   "metadata": {
    "execution": {
     "iopub.execute_input": "2023-05-22T14:42:45.524453Z",
     "iopub.status.busy": "2023-05-22T14:42:45.524024Z",
     "iopub.status.idle": "2023-05-22T14:42:45.537776Z",
     "shell.execute_reply": "2023-05-22T14:42:45.536628Z"
    },
    "papermill": {
     "duration": 0.031555,
     "end_time": "2023-05-22T14:42:45.540054",
     "exception": false,
     "start_time": "2023-05-22T14:42:45.508499",
     "status": "completed"
    },
    "tags": []
   },
   "outputs": [],
   "source": [
    "from sklearn.base import BaseEstimator, TransformerMixin\n",
    "\n",
    "class EmailToWordCounterTransformer(BaseEstimator, TransformerMixin):\n",
    "    def __init__(self, strip_headers=True, lower_case=True, remove_punctuation=True,\n",
    "                 replace_urls=True, replace_numbers=True, stemming=True):\n",
    "        self.strip_headers = strip_headers\n",
    "        self.lower_case = lower_case\n",
    "        self.remove_punctuation = remove_punctuation\n",
    "        self.replace_urls = replace_urls\n",
    "        self.replace_numbers = replace_numbers\n",
    "        self.stemming = stemming\n",
    "    def fit(self, X, y=None):\n",
    "        return self\n",
    "    def transform(self, X, y=None):\n",
    "        X_transformed = []\n",
    "        for email in X:\n",
    "            text = email_to_text(email) or \"\"\n",
    "            if self.lower_case:\n",
    "                text = text.lower()\n",
    "            if self.replace_urls and url_extractor is not None:\n",
    "                urls = list(set(url_extractor.find_urls(text)))\n",
    "                urls.sort(key=lambda url: len(url), reverse=True)\n",
    "                for url in urls:\n",
    "                    text = text.replace(url, \" URL \")\n",
    "            if self.replace_numbers:\n",
    "                text = re.sub(r'\\d+(?:\\.\\d*)?(?:[eE][+-]?\\d+)?', 'NUMBER', text)\n",
    "            if self.remove_punctuation:\n",
    "                text = re.sub(r'\\W+', ' ', text, flags=re.M)\n",
    "            word_counts = Counter(text.split())\n",
    "            if self.stemming and stemmer is not None:\n",
    "                stemmed_word_counts = Counter()\n",
    "                for word, count in word_counts.items():\n",
    "                    stemmed_word = stemmer.stem(word)\n",
    "                    stemmed_word_counts[stemmed_word] += count\n",
    "                word_counts = stemmed_word_counts\n",
    "            X_transformed.append(word_counts)\n",
    "        return np.array(X_transformed)"
   ]
  },
  {
   "cell_type": "code",
   "execution_count": 27,
   "id": "916cdee7",
   "metadata": {
    "execution": {
     "iopub.execute_input": "2023-05-22T14:42:45.569189Z",
     "iopub.status.busy": "2023-05-22T14:42:45.568790Z",
     "iopub.status.idle": "2023-05-22T14:42:45.604534Z",
     "shell.execute_reply": "2023-05-22T14:42:45.603489Z"
    },
    "papermill": {
     "duration": 0.053003,
     "end_time": "2023-05-22T14:42:45.606798",
     "exception": false,
     "start_time": "2023-05-22T14:42:45.553795",
     "status": "completed"
    },
    "tags": []
   },
   "outputs": [
    {
     "data": {
      "text/plain": [
       "array([Counter({'chuck': 1, 'murcko': 1, 'wrote': 1, 'stuff': 1, 'yawn': 1, 'r': 1}),\n",
       "       Counter({'the': 11, 'of': 9, 'and': 8, 'all': 3, 'christian': 3, 'to': 3, 'by': 3, 'jefferson': 2, 'i': 2, 'have': 2, 'superstit': 2, 'one': 2, 'on': 2, 'been': 2, 'ha': 2, 'half': 2, 'rogueri': 2, 'teach': 2, 'jesu': 2, 'some': 1, 'interest': 1, 'quot': 1, 'url': 1, 'thoma': 1, 'examin': 1, 'known': 1, 'word': 1, 'do': 1, 'not': 1, 'find': 1, 'in': 1, 'our': 1, 'particular': 1, 'redeem': 1, 'featur': 1, 'they': 1, 'are': 1, 'alik': 1, 'found': 1, 'fabl': 1, 'mytholog': 1, 'million': 1, 'innoc': 1, 'men': 1, 'women': 1, 'children': 1, 'sinc': 1, 'introduct': 1, 'burnt': 1, 'tortur': 1, 'fine': 1, 'imprison': 1, 'what': 1, 'effect': 1, 'thi': 1, 'coercion': 1, 'make': 1, 'world': 1, 'fool': 1, 'other': 1, 'hypocrit': 1, 'support': 1, 'error': 1, 'over': 1, 'earth': 1, 'six': 1, 'histor': 1, 'american': 1, 'john': 1, 'e': 1, 'remsburg': 1, 'letter': 1, 'william': 1, 'short': 1, 'again': 1, 'becom': 1, 'most': 1, 'pervert': 1, 'system': 1, 'that': 1, 'ever': 1, 'shone': 1, 'man': 1, 'absurd': 1, 'untruth': 1, 'were': 1, 'perpetr': 1, 'upon': 1, 'a': 1, 'larg': 1, 'band': 1, 'dupe': 1, 'import': 1, 'led': 1, 'paul': 1, 'first': 1, 'great': 1, 'corrupt': 1}),\n",
       "       Counter({'url': 4, 's': 3, 'group': 3, 'to': 3, 'in': 2, 'forteana': 2, 'martin': 2, 'an': 2, 'and': 2, 'we': 2, 'is': 2, 'yahoo': 2, 'unsubscrib': 2, 'y': 1, 'adamson': 1, 'wrote': 1, 'for': 1, 'altern': 1, 'rather': 1, 'more': 1, 'factual': 1, 'base': 1, 'rundown': 1, 'on': 1, 'hamza': 1, 'career': 1, 'includ': 1, 'hi': 1, 'belief': 1, 'that': 1, 'all': 1, 'non': 1, 'muslim': 1, 'yemen': 1, 'should': 1, 'be': 1, 'murder': 1, 'outright': 1, 'know': 1, 'how': 1, 'unbias': 1, 'memri': 1, 'don': 1, 't': 1, 'html': 1, 'rob': 1, 'sponsor': 1, 'number': 1, 'dvd': 1, 'free': 1, 'p': 1, 'join': 1, 'now': 1, 'from': 1, 'thi': 1, 'send': 1, 'email': 1, 'egroup': 1, 'com': 1, 'your': 1, 'use': 1, 'of': 1, 'subject': 1})],\n",
       "      dtype=object)"
      ]
     },
     "execution_count": 27,
     "metadata": {},
     "output_type": "execute_result"
    }
   ],
   "source": [
    "X_few = X_train[:3]\n",
    "X_few_wordcounts = EmailToWordCounterTransformer().fit_transform(X_few)\n",
    "X_few_wordcounts"
   ]
  },
  {
   "cell_type": "markdown",
   "id": "a695c3fd",
   "metadata": {
    "papermill": {
     "duration": 0.013389,
     "end_time": "2023-05-22T14:42:45.634076",
     "exception": false,
     "start_time": "2023-05-22T14:42:45.620687",
     "status": "completed"
    },
    "tags": []
   },
   "source": [
    "Now we have the word counts, and we need to convert them to vectors. For this, we will build another transformer whose fit() method will build the vocabulary (an ordered list of the most common words) and whose transform() method will use the vocabulary to convert word counts to vectors. The output is a sparse matrix."
   ]
  },
  {
   "cell_type": "code",
   "execution_count": 28,
   "id": "ae3e53c2",
   "metadata": {
    "execution": {
     "iopub.execute_input": "2023-05-22T14:42:45.664284Z",
     "iopub.status.busy": "2023-05-22T14:42:45.663853Z",
     "iopub.status.idle": "2023-05-22T14:42:45.673880Z",
     "shell.execute_reply": "2023-05-22T14:42:45.673083Z"
    },
    "papermill": {
     "duration": 0.027431,
     "end_time": "2023-05-22T14:42:45.676128",
     "exception": false,
     "start_time": "2023-05-22T14:42:45.648697",
     "status": "completed"
    },
    "tags": []
   },
   "outputs": [],
   "source": [
    "from scipy.sparse import csr_matrix\n",
    "\n",
    "class WordCounterToVectorTransformer(BaseEstimator, TransformerMixin):\n",
    "    def __init__(self, vocabulary_size=1000):\n",
    "        self.vocabulary_size = vocabulary_size\n",
    "    def fit(self, X, y=None):\n",
    "        total_count = Counter()\n",
    "        for word_count in X:\n",
    "            for word, count in word_count.items():\n",
    "                total_count[word] += min(count, 10)\n",
    "        most_common = total_count.most_common()[:self.vocabulary_size]\n",
    "        self.vocabulary_ = {word: index + 1 for index, (word, count) in enumerate(most_common)}\n",
    "        return self\n",
    "    def transform(self, X, y=None):\n",
    "        rows = []\n",
    "        cols = []\n",
    "        data = []\n",
    "        for row, word_count in enumerate(X):\n",
    "            for word, count in word_count.items():\n",
    "                rows.append(row)\n",
    "                cols.append(self.vocabulary_.get(word, 0))\n",
    "                data.append(count)\n",
    "        return csr_matrix((data, (rows, cols)), shape=(len(X), self.vocabulary_size + 1))"
   ]
  },
  {
   "cell_type": "code",
   "execution_count": 29,
   "id": "783584ee",
   "metadata": {
    "execution": {
     "iopub.execute_input": "2023-05-22T14:42:45.705698Z",
     "iopub.status.busy": "2023-05-22T14:42:45.705040Z",
     "iopub.status.idle": "2023-05-22T14:42:45.720258Z",
     "shell.execute_reply": "2023-05-22T14:42:45.719273Z"
    },
    "papermill": {
     "duration": 0.032547,
     "end_time": "2023-05-22T14:42:45.722573",
     "exception": false,
     "start_time": "2023-05-22T14:42:45.690026",
     "status": "completed"
    },
    "tags": []
   },
   "outputs": [
    {
     "data": {
      "text/plain": [
       "<3x11 sparse matrix of type '<class 'numpy.int64'>'\n",
       "\twith 20 stored elements in Compressed Sparse Row format>"
      ]
     },
     "execution_count": 29,
     "metadata": {},
     "output_type": "execute_result"
    }
   ],
   "source": [
    "vocab_transformer = WordCounterToVectorTransformer(vocabulary_size=10)\n",
    "X_few_vectors = vocab_transformer.fit_transform(X_few_wordcounts)\n",
    "X_few_vectors"
   ]
  },
  {
   "cell_type": "code",
   "execution_count": 30,
   "id": "22ebafb9",
   "metadata": {
    "execution": {
     "iopub.execute_input": "2023-05-22T14:42:45.752036Z",
     "iopub.status.busy": "2023-05-22T14:42:45.751636Z",
     "iopub.status.idle": "2023-05-22T14:42:45.758460Z",
     "shell.execute_reply": "2023-05-22T14:42:45.757614Z"
    },
    "papermill": {
     "duration": 0.023929,
     "end_time": "2023-05-22T14:42:45.760480",
     "exception": false,
     "start_time": "2023-05-22T14:42:45.736551",
     "status": "completed"
    },
    "tags": []
   },
   "outputs": [
    {
     "data": {
      "text/plain": [
       "array([[ 6,  0,  0,  0,  0,  0,  0,  0,  0,  0,  0],\n",
       "       [99, 11,  9,  8,  3,  1,  3,  1,  3,  2,  3],\n",
       "       [67,  0,  1,  2,  3,  4,  1,  2,  0,  1,  0]])"
      ]
     },
     "execution_count": 30,
     "metadata": {},
     "output_type": "execute_result"
    }
   ],
   "source": [
    "X_few_vectors.toarray()"
   ]
  },
  {
   "cell_type": "code",
   "execution_count": 31,
   "id": "2a576e2a",
   "metadata": {
    "execution": {
     "iopub.execute_input": "2023-05-22T14:42:45.790365Z",
     "iopub.status.busy": "2023-05-22T14:42:45.789935Z",
     "iopub.status.idle": "2023-05-22T14:42:45.796441Z",
     "shell.execute_reply": "2023-05-22T14:42:45.795678Z"
    },
    "papermill": {
     "duration": 0.023804,
     "end_time": "2023-05-22T14:42:45.798434",
     "exception": false,
     "start_time": "2023-05-22T14:42:45.774630",
     "status": "completed"
    },
    "tags": []
   },
   "outputs": [
    {
     "data": {
      "text/plain": [
       "{'the': 1,\n",
       " 'of': 2,\n",
       " 'and': 3,\n",
       " 'to': 4,\n",
       " 'url': 5,\n",
       " 'all': 6,\n",
       " 'in': 7,\n",
       " 'christian': 8,\n",
       " 'on': 9,\n",
       " 'by': 10}"
      ]
     },
     "execution_count": 31,
     "metadata": {},
     "output_type": "execute_result"
    }
   ],
   "source": [
    "vocab_transformer.vocabulary_"
   ]
  },
  {
   "cell_type": "code",
   "execution_count": 32,
   "id": "0c9fedb2",
   "metadata": {
    "execution": {
     "iopub.execute_input": "2023-05-22T14:42:45.828566Z",
     "iopub.status.busy": "2023-05-22T14:42:45.828160Z",
     "iopub.status.idle": "2023-05-22T14:43:31.828868Z",
     "shell.execute_reply": "2023-05-22T14:43:31.827730Z"
    },
    "papermill": {
     "duration": 46.018974,
     "end_time": "2023-05-22T14:43:31.831580",
     "exception": false,
     "start_time": "2023-05-22T14:42:45.812606",
     "status": "completed"
    },
    "tags": []
   },
   "outputs": [],
   "source": [
    "from sklearn.pipeline import Pipeline\n",
    "\n",
    "preprocess_pipeline = Pipeline([\n",
    "    (\"email_to_wordcount\", EmailToWordCounterTransformer()),\n",
    "    (\"wordcount_to_vector\", WordCounterToVectorTransformer()),\n",
    "])\n",
    "\n",
    "X_train_transformed = preprocess_pipeline.fit_transform(X_train)"
   ]
  },
  {
   "cell_type": "code",
   "execution_count": 33,
   "id": "7e5f6bab",
   "metadata": {
    "execution": {
     "iopub.execute_input": "2023-05-22T14:43:31.862893Z",
     "iopub.status.busy": "2023-05-22T14:43:31.862380Z",
     "iopub.status.idle": "2023-05-22T14:43:33.142555Z",
     "shell.execute_reply": "2023-05-22T14:43:33.141431Z"
    },
    "papermill": {
     "duration": 1.299363,
     "end_time": "2023-05-22T14:43:33.145961",
     "exception": false,
     "start_time": "2023-05-22T14:43:31.846598",
     "status": "completed"
    },
    "tags": []
   },
   "outputs": [
    {
     "name": "stderr",
     "output_type": "stream",
     "text": [
      "[Parallel(n_jobs=1)]: Using backend SequentialBackend with 1 concurrent workers.\n"
     ]
    },
    {
     "name": "stdout",
     "output_type": "stream",
     "text": [
      "[CV] END ................................ score: (test=0.981) total time=   0.3s\n"
     ]
    },
    {
     "name": "stderr",
     "output_type": "stream",
     "text": [
      "[Parallel(n_jobs=1)]: Done   1 out of   1 | elapsed:    0.3s remaining:    0.0s\n"
     ]
    },
    {
     "name": "stdout",
     "output_type": "stream",
     "text": [
      "[CV] END ................................ score: (test=0.984) total time=   0.4s\n"
     ]
    },
    {
     "name": "stderr",
     "output_type": "stream",
     "text": [
      "[Parallel(n_jobs=1)]: Done   2 out of   2 | elapsed:    0.7s remaining:    0.0s\n"
     ]
    },
    {
     "name": "stdout",
     "output_type": "stream",
     "text": [
      "[CV] END ................................ score: (test=0.990) total time=   0.5s\n"
     ]
    },
    {
     "name": "stderr",
     "output_type": "stream",
     "text": [
      "[Parallel(n_jobs=1)]: Done   3 out of   3 | elapsed:    1.3s finished\n"
     ]
    },
    {
     "data": {
      "text/plain": [
       "0.985"
      ]
     },
     "execution_count": 33,
     "metadata": {},
     "output_type": "execute_result"
    }
   ],
   "source": [
    "from sklearn.linear_model import LogisticRegression\n",
    "from sklearn.model_selection import cross_val_score\n",
    "\n",
    "log_clf = LogisticRegression(solver=\"lbfgs\", max_iter=1000, random_state=42)\n",
    "score = cross_val_score(log_clf, X_train_transformed, y_train, cv=3, verbose=3)\n",
    "score.mean()"
   ]
  },
  {
   "cell_type": "code",
   "execution_count": 34,
   "id": "b518f566",
   "metadata": {
    "execution": {
     "iopub.execute_input": "2023-05-22T14:43:33.178635Z",
     "iopub.status.busy": "2023-05-22T14:43:33.178180Z",
     "iopub.status.idle": "2023-05-22T14:43:47.618180Z",
     "shell.execute_reply": "2023-05-22T14:43:47.617050Z"
    },
    "papermill": {
     "duration": 14.459264,
     "end_time": "2023-05-22T14:43:47.620927",
     "exception": false,
     "start_time": "2023-05-22T14:43:33.161663",
     "status": "completed"
    },
    "tags": []
   },
   "outputs": [
    {
     "name": "stdout",
     "output_type": "stream",
     "text": [
      "Precision: 96.88%\n",
      "Recall: 97.89%\n"
     ]
    }
   ],
   "source": [
    "from sklearn.metrics import precision_score, recall_score\n",
    "\n",
    "X_test_transformed = preprocess_pipeline.transform(X_test)\n",
    "\n",
    "log_clf = LogisticRegression(solver=\"lbfgs\", max_iter=1000, random_state=42)\n",
    "log_clf.fit(X_train_transformed, y_train)\n",
    "\n",
    "y_pred = log_clf.predict(X_test_transformed)\n",
    "\n",
    "print(\"Precision: {:.2f}%\".format(100 * precision_score(y_test, y_pred)))\n",
    "print(\"Recall: {:.2f}%\".format(100 * recall_score(y_test, y_pred)))"
   ]
  },
  {
   "cell_type": "code",
   "execution_count": null,
   "id": "eecbc960",
   "metadata": {
    "papermill": {
     "duration": 0.01475,
     "end_time": "2023-05-22T14:43:47.650951",
     "exception": false,
     "start_time": "2023-05-22T14:43:47.636201",
     "status": "completed"
    },
    "tags": []
   },
   "outputs": [],
   "source": []
  }
 ],
 "metadata": {
  "kernelspec": {
   "display_name": "Python 3",
   "language": "python",
   "name": "python3"
  },
  "language_info": {
   "codemirror_mode": {
    "name": "ipython",
    "version": 3
   },
   "file_extension": ".py",
   "mimetype": "text/x-python",
   "name": "python",
   "nbconvert_exporter": "python",
   "pygments_lexer": "ipython3",
   "version": "3.10.10"
  },
  "papermill": {
   "default_parameters": {},
   "duration": 120.88907,
   "end_time": "2023-05-22T14:43:48.688887",
   "environment_variables": {},
   "exception": null,
   "input_path": "__notebook__.ipynb",
   "output_path": "__notebook__.ipynb",
   "parameters": {},
   "start_time": "2023-05-22T14:41:47.799817",
   "version": "2.4.0"
  }
 },
 "nbformat": 4,
 "nbformat_minor": 5
}
