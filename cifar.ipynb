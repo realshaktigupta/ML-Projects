{
 "cells": [
  {
   "cell_type": "code",
   "execution_count": 1,
   "id": "2b4cd854",
   "metadata": {
    "_cell_guid": "b1076dfc-b9ad-4769-8c92-a6c4dae69d19",
    "_uuid": "8f2839f25d086af736a60e9eeb907d3b93b6e0e5",
    "execution": {
     "iopub.execute_input": "2023-07-11T20:25:05.804276Z",
     "iopub.status.busy": "2023-07-11T20:25:05.803929Z",
     "iopub.status.idle": "2023-07-11T20:25:05.813995Z",
     "shell.execute_reply": "2023-07-11T20:25:05.812613Z"
    },
    "papermill": {
     "duration": 0.020719,
     "end_time": "2023-07-11T20:25:05.817067",
     "exception": false,
     "start_time": "2023-07-11T20:25:05.796348",
     "status": "completed"
    },
    "tags": []
   },
   "outputs": [],
   "source": [
    "# This Python 3 environment comes with many helpful analytics libraries installed\n",
    "# It is defined by the kaggle/python Docker image: https://github.com/kaggle/docker-python\n",
    "# For example, here's several helpful packages to load\n",
    "\n",
    "import numpy as np # linear algebra\n",
    "import pandas as pd # data processing, CSV file I/O (e.g. pd.read_csv)\n",
    "\n",
    "# Input data files are available in the read-only \"../input/\" directory\n",
    "# For example, running this (by clicking run or pressing Shift+Enter) will list all files under the input directory\n",
    "\n",
    "import os\n",
    "# for dirname, _, filenames in os.walk('/kaggle/input'):\n",
    "#     for filename in filenames:\n",
    "#         print(os.path.join(dirname, filename))\n",
    "\n",
    "# You can write up to 20GB to the current directory (/kaggle/working/) that gets preserved as output when you create a version using \"Save & Run All\" \n",
    "# You can also write temporary files to /kaggle/temp/, but they won't be saved outside of the current session"
   ]
  },
  {
   "cell_type": "code",
   "execution_count": 2,
   "id": "07e1d059",
   "metadata": {
    "execution": {
     "iopub.execute_input": "2023-07-11T20:25:05.829531Z",
     "iopub.status.busy": "2023-07-11T20:25:05.829195Z",
     "iopub.status.idle": "2023-07-11T20:25:16.448906Z",
     "shell.execute_reply": "2023-07-11T20:25:16.447071Z"
    },
    "papermill": {
     "duration": 10.628824,
     "end_time": "2023-07-11T20:25:16.451533",
     "exception": false,
     "start_time": "2023-07-11T20:25:05.822709",
     "status": "completed"
    },
    "tags": []
   },
   "outputs": [
    {
     "name": "stderr",
     "output_type": "stream",
     "text": [
      "/opt/conda/lib/python3.10/site-packages/scipy/__init__.py:146: UserWarning: A NumPy version >=1.16.5 and <1.23.0 is required for this version of SciPy (detected version 1.23.5\n",
      "  warnings.warn(f\"A NumPy version >={np_minversion} and <{np_maxversion}\"\n",
      "/opt/conda/lib/python3.10/site-packages/tensorflow_io/python/ops/__init__.py:98: UserWarning: unable to load libtensorflow_io_plugins.so: unable to open file: libtensorflow_io_plugins.so, from paths: ['/opt/conda/lib/python3.10/site-packages/tensorflow_io/python/ops/libtensorflow_io_plugins.so']\n",
      "caused by: ['/opt/conda/lib/python3.10/site-packages/tensorflow_io/python/ops/libtensorflow_io_plugins.so: undefined symbol: _ZN3tsl6StatusC1EN10tensorflow5error4CodeESt17basic_string_viewIcSt11char_traitsIcEENS_14SourceLocationE']\n",
      "  warnings.warn(f\"unable to load libtensorflow_io_plugins.so: {e}\")\n",
      "/opt/conda/lib/python3.10/site-packages/tensorflow_io/python/ops/__init__.py:104: UserWarning: file system plugins are not loaded: unable to open file: libtensorflow_io.so, from paths: ['/opt/conda/lib/python3.10/site-packages/tensorflow_io/python/ops/libtensorflow_io.so']\n",
      "caused by: ['/opt/conda/lib/python3.10/site-packages/tensorflow_io/python/ops/libtensorflow_io.so: undefined symbol: _ZTVN10tensorflow13GcsFileSystemE']\n",
      "  warnings.warn(f\"file system plugins are not loaded: {e}\")\n"
     ]
    }
   ],
   "source": [
    "import glob\n",
    "import tqdm as tqdm\n",
    "import random\n",
    "import tensorflow as tf\n",
    "from tensorflow import keras"
   ]
  },
  {
   "cell_type": "code",
   "execution_count": 3,
   "id": "70670505",
   "metadata": {
    "execution": {
     "iopub.execute_input": "2023-07-11T20:25:16.464764Z",
     "iopub.status.busy": "2023-07-11T20:25:16.464094Z",
     "iopub.status.idle": "2023-07-11T20:25:16.482970Z",
     "shell.execute_reply": "2023-07-11T20:25:16.481218Z"
    },
    "papermill": {
     "duration": 0.028466,
     "end_time": "2023-07-11T20:25:16.485759",
     "exception": false,
     "start_time": "2023-07-11T20:25:16.457293",
     "status": "completed"
    },
    "tags": []
   },
   "outputs": [],
   "source": [
    "column_names=[\"file_path\",\"label\"]\n",
    "train=pd.DataFrame(columns=column_names)\n",
    "test=pd.DataFrame(columns=column_names)"
   ]
  },
  {
   "cell_type": "code",
   "execution_count": 4,
   "id": "d322fad0",
   "metadata": {
    "execution": {
     "iopub.execute_input": "2023-07-11T20:25:16.499414Z",
     "iopub.status.busy": "2023-07-11T20:25:16.499017Z",
     "iopub.status.idle": "2023-07-11T20:25:20.070616Z",
     "shell.execute_reply": "2023-07-11T20:25:20.069350Z"
    },
    "papermill": {
     "duration": 3.581516,
     "end_time": "2023-07-11T20:25:20.073219",
     "exception": false,
     "start_time": "2023-07-11T20:25:16.491703",
     "status": "completed"
    },
    "scrolled": true,
    "tags": []
   },
   "outputs": [
    {
     "name": "stderr",
     "output_type": "stream",
     "text": [
      "100%|██████████| 50000/50000 [00:00<00:00, 1262842.48it/s]\n",
      "100%|██████████| 10000/10000 [00:00<00:00, 1217398.78it/s]\n"
     ]
    }
   ],
   "source": [
    "for df,folder in zip([train,test],['train','test']):\n",
    "    file_paths=glob.glob(\"/kaggle/input/cifar10/cifar10/\"+folder+\"/*/*\")\n",
    "    df['file_path']=file_paths\n",
    "    labels=[]\n",
    "    for file_path in tqdm.tqdm(file_paths):\n",
    "        label=file_path.split('_')[-1].split('.')[0]\n",
    "        labels.append(label)\n",
    "    df['label']=labels"
   ]
  },
  {
   "cell_type": "code",
   "execution_count": 5,
   "id": "51649448",
   "metadata": {
    "execution": {
     "iopub.execute_input": "2023-07-11T20:25:20.087172Z",
     "iopub.status.busy": "2023-07-11T20:25:20.086775Z",
     "iopub.status.idle": "2023-07-11T20:25:20.109502Z",
     "shell.execute_reply": "2023-07-11T20:25:20.108110Z"
    },
    "papermill": {
     "duration": 0.032484,
     "end_time": "2023-07-11T20:25:20.111872",
     "exception": false,
     "start_time": "2023-07-11T20:25:20.079388",
     "status": "completed"
    },
    "tags": []
   },
   "outputs": [
    {
     "data": {
      "text/html": [
       "<div>\n",
       "<style scoped>\n",
       "    .dataframe tbody tr th:only-of-type {\n",
       "        vertical-align: middle;\n",
       "    }\n",
       "\n",
       "    .dataframe tbody tr th {\n",
       "        vertical-align: top;\n",
       "    }\n",
       "\n",
       "    .dataframe thead th {\n",
       "        text-align: right;\n",
       "    }\n",
       "</style>\n",
       "<table border=\"1\" class=\"dataframe\">\n",
       "  <thead>\n",
       "    <tr style=\"text-align: right;\">\n",
       "      <th></th>\n",
       "      <th>file_path</th>\n",
       "      <th>label</th>\n",
       "    </tr>\n",
       "  </thead>\n",
       "  <tbody>\n",
       "    <tr>\n",
       "      <th>0</th>\n",
       "      <td>/kaggle/input/cifar10/cifar10/train/airplane/2...</td>\n",
       "      <td>airplane</td>\n",
       "    </tr>\n",
       "    <tr>\n",
       "      <th>1</th>\n",
       "      <td>/kaggle/input/cifar10/cifar10/train/airplane/2...</td>\n",
       "      <td>airplane</td>\n",
       "    </tr>\n",
       "    <tr>\n",
       "      <th>2</th>\n",
       "      <td>/kaggle/input/cifar10/cifar10/train/airplane/4...</td>\n",
       "      <td>airplane</td>\n",
       "    </tr>\n",
       "    <tr>\n",
       "      <th>3</th>\n",
       "      <td>/kaggle/input/cifar10/cifar10/train/airplane/1...</td>\n",
       "      <td>airplane</td>\n",
       "    </tr>\n",
       "    <tr>\n",
       "      <th>4</th>\n",
       "      <td>/kaggle/input/cifar10/cifar10/train/airplane/4...</td>\n",
       "      <td>airplane</td>\n",
       "    </tr>\n",
       "    <tr>\n",
       "      <th>...</th>\n",
       "      <td>...</td>\n",
       "      <td>...</td>\n",
       "    </tr>\n",
       "    <tr>\n",
       "      <th>49995</th>\n",
       "      <td>/kaggle/input/cifar10/cifar10/train/deer/41608...</td>\n",
       "      <td>deer</td>\n",
       "    </tr>\n",
       "    <tr>\n",
       "      <th>49996</th>\n",
       "      <td>/kaggle/input/cifar10/cifar10/train/deer/6785_...</td>\n",
       "      <td>deer</td>\n",
       "    </tr>\n",
       "    <tr>\n",
       "      <th>49997</th>\n",
       "      <td>/kaggle/input/cifar10/cifar10/train/deer/17777...</td>\n",
       "      <td>deer</td>\n",
       "    </tr>\n",
       "    <tr>\n",
       "      <th>49998</th>\n",
       "      <td>/kaggle/input/cifar10/cifar10/train/deer/9202_...</td>\n",
       "      <td>deer</td>\n",
       "    </tr>\n",
       "    <tr>\n",
       "      <th>49999</th>\n",
       "      <td>/kaggle/input/cifar10/cifar10/train/deer/45749...</td>\n",
       "      <td>deer</td>\n",
       "    </tr>\n",
       "  </tbody>\n",
       "</table>\n",
       "<p>50000 rows × 2 columns</p>\n",
       "</div>"
      ],
      "text/plain": [
       "                                               file_path     label\n",
       "0      /kaggle/input/cifar10/cifar10/train/airplane/2...  airplane\n",
       "1      /kaggle/input/cifar10/cifar10/train/airplane/2...  airplane\n",
       "2      /kaggle/input/cifar10/cifar10/train/airplane/4...  airplane\n",
       "3      /kaggle/input/cifar10/cifar10/train/airplane/1...  airplane\n",
       "4      /kaggle/input/cifar10/cifar10/train/airplane/4...  airplane\n",
       "...                                                  ...       ...\n",
       "49995  /kaggle/input/cifar10/cifar10/train/deer/41608...      deer\n",
       "49996  /kaggle/input/cifar10/cifar10/train/deer/6785_...      deer\n",
       "49997  /kaggle/input/cifar10/cifar10/train/deer/17777...      deer\n",
       "49998  /kaggle/input/cifar10/cifar10/train/deer/9202_...      deer\n",
       "49999  /kaggle/input/cifar10/cifar10/train/deer/45749...      deer\n",
       "\n",
       "[50000 rows x 2 columns]"
      ]
     },
     "execution_count": 5,
     "metadata": {},
     "output_type": "execute_result"
    }
   ],
   "source": [
    "train"
   ]
  },
  {
   "cell_type": "code",
   "execution_count": 6,
   "id": "bfb03b76",
   "metadata": {
    "execution": {
     "iopub.execute_input": "2023-07-11T20:25:20.126162Z",
     "iopub.status.busy": "2023-07-11T20:25:20.125566Z",
     "iopub.status.idle": "2023-07-11T20:25:20.130039Z",
     "shell.execute_reply": "2023-07-11T20:25:20.129377Z"
    },
    "papermill": {
     "duration": 0.013549,
     "end_time": "2023-07-11T20:25:20.131705",
     "exception": false,
     "start_time": "2023-07-11T20:25:20.118156",
     "status": "completed"
    },
    "tags": []
   },
   "outputs": [],
   "source": [
    "def final_data(path,label):\n",
    "    image = tf.io.read_file(path)\n",
    "    image = tf.image.decode_jpeg(image,channels=3)\n",
    "    image = tf.image.resize(image,[90,120])\n",
    "    image = image/255\n",
    "    return image,label"
   ]
  },
  {
   "cell_type": "code",
   "execution_count": 7,
   "id": "2c137ae6",
   "metadata": {
    "execution": {
     "iopub.execute_input": "2023-07-11T20:25:20.145422Z",
     "iopub.status.busy": "2023-07-11T20:25:20.145053Z",
     "iopub.status.idle": "2023-07-11T20:25:20.150016Z",
     "shell.execute_reply": "2023-07-11T20:25:20.149344Z"
    },
    "papermill": {
     "duration": 0.013786,
     "end_time": "2023-07-11T20:25:20.151581",
     "exception": false,
     "start_time": "2023-07-11T20:25:20.137795",
     "status": "completed"
    },
    "tags": []
   },
   "outputs": [],
   "source": [
    "def transform(df,training=False):\n",
    "    labels=pd.get_dummies(df.label)\n",
    "    preliminary_data=list(zip(df['file_path'],labels.values.tolist()))\n",
    "    if(training==True):\n",
    "        random.shuffle(preliminary_data)\n",
    "    paths,labels=zip(*preliminary_data)\n",
    "    data=tf.data.Dataset.from_tensor_slices((list(paths),list(labels)))\n",
    "    data=data.map(final_data)\n",
    "    return data"
   ]
  },
  {
   "cell_type": "code",
   "execution_count": 8,
   "id": "c2dd8576",
   "metadata": {
    "execution": {
     "iopub.execute_input": "2023-07-11T20:25:20.167038Z",
     "iopub.status.busy": "2023-07-11T20:25:20.166354Z",
     "iopub.status.idle": "2023-07-11T20:25:21.911416Z",
     "shell.execute_reply": "2023-07-11T20:25:21.909952Z"
    },
    "papermill": {
     "duration": 1.755128,
     "end_time": "2023-07-11T20:25:21.914199",
     "exception": false,
     "start_time": "2023-07-11T20:25:20.159071",
     "status": "completed"
    },
    "tags": []
   },
   "outputs": [],
   "source": [
    "train_data=transform(train,training=True).prefetch(tf.data.AUTOTUNE)"
   ]
  },
  {
   "cell_type": "code",
   "execution_count": 9,
   "id": "1022ad50",
   "metadata": {
    "execution": {
     "iopub.execute_input": "2023-07-11T20:25:21.928601Z",
     "iopub.status.busy": "2023-07-11T20:25:21.928247Z",
     "iopub.status.idle": "2023-07-11T20:25:22.449421Z",
     "shell.execute_reply": "2023-07-11T20:25:22.447859Z"
    },
    "papermill": {
     "duration": 0.531932,
     "end_time": "2023-07-11T20:25:22.452512",
     "exception": false,
     "start_time": "2023-07-11T20:25:21.920580",
     "status": "completed"
    },
    "tags": []
   },
   "outputs": [],
   "source": [
    "test_data=transform(test)"
   ]
  },
  {
   "cell_type": "code",
   "execution_count": 10,
   "id": "62b3e982",
   "metadata": {
    "execution": {
     "iopub.execute_input": "2023-07-11T20:25:22.466869Z",
     "iopub.status.busy": "2023-07-11T20:25:22.466503Z",
     "iopub.status.idle": "2023-07-11T20:25:22.479947Z",
     "shell.execute_reply": "2023-07-11T20:25:22.478289Z"
    },
    "papermill": {
     "duration": 0.023478,
     "end_time": "2023-07-11T20:25:22.482363",
     "exception": false,
     "start_time": "2023-07-11T20:25:22.458885",
     "status": "completed"
    },
    "tags": []
   },
   "outputs": [],
   "source": [
    "test_data=test_data.take(10000)"
   ]
  },
  {
   "cell_type": "code",
   "execution_count": 11,
   "id": "0965274e",
   "metadata": {
    "execution": {
     "iopub.execute_input": "2023-07-11T20:25:22.496997Z",
     "iopub.status.busy": "2023-07-11T20:25:22.495779Z",
     "iopub.status.idle": "2023-07-11T20:25:22.512742Z",
     "shell.execute_reply": "2023-07-11T20:25:22.511087Z"
    },
    "papermill": {
     "duration": 0.027136,
     "end_time": "2023-07-11T20:25:22.515690",
     "exception": false,
     "start_time": "2023-07-11T20:25:22.488554",
     "status": "completed"
    },
    "tags": []
   },
   "outputs": [],
   "source": [
    "val_size=round(0.1*50000)\n",
    "train_size=round(0.9*50000)\n",
    "train_data=train_data.take(train_size)\n",
    "val_data=train_data.skip(train_size)\n",
    "val_data=train_data.take(val_size)"
   ]
  },
  {
   "cell_type": "code",
   "execution_count": 12,
   "id": "6e9fe65b",
   "metadata": {
    "execution": {
     "iopub.execute_input": "2023-07-11T20:25:22.529830Z",
     "iopub.status.busy": "2023-07-11T20:25:22.529480Z",
     "iopub.status.idle": "2023-07-11T20:25:22.536105Z",
     "shell.execute_reply": "2023-07-11T20:25:22.534725Z"
    },
    "papermill": {
     "duration": 0.016676,
     "end_time": "2023-07-11T20:25:22.538660",
     "exception": false,
     "start_time": "2023-07-11T20:25:22.521984",
     "status": "completed"
    },
    "tags": []
   },
   "outputs": [
    {
     "data": {
      "text/plain": [
       "<_TakeDataset element_spec=(TensorSpec(shape=(90, 120, 3), dtype=tf.float32, name=None), TensorSpec(shape=(10,), dtype=tf.int32, name=None))>"
      ]
     },
     "execution_count": 12,
     "metadata": {},
     "output_type": "execute_result"
    }
   ],
   "source": [
    "train_data"
   ]
  },
  {
   "cell_type": "code",
   "execution_count": 13,
   "id": "08f07c02",
   "metadata": {
    "execution": {
     "iopub.execute_input": "2023-07-11T20:25:22.553498Z",
     "iopub.status.busy": "2023-07-11T20:25:22.553118Z",
     "iopub.status.idle": "2023-07-11T20:25:22.570090Z",
     "shell.execute_reply": "2023-07-11T20:25:22.569086Z"
    },
    "papermill": {
     "duration": 0.027353,
     "end_time": "2023-07-11T20:25:22.572562",
     "exception": false,
     "start_time": "2023-07-11T20:25:22.545209",
     "status": "completed"
    },
    "tags": []
   },
   "outputs": [],
   "source": [
    "mirrored_strategy=tf.distribute.MirroredStrategy(devices=[\"/gpu:0\",\"/gpu:1\"])"
   ]
  },
  {
   "cell_type": "code",
   "execution_count": 14,
   "id": "90bcb573",
   "metadata": {
    "execution": {
     "iopub.execute_input": "2023-07-11T20:25:22.589091Z",
     "iopub.status.busy": "2023-07-11T20:25:22.588668Z",
     "iopub.status.idle": "2023-07-11T20:25:23.182241Z",
     "shell.execute_reply": "2023-07-11T20:25:23.181174Z"
    },
    "papermill": {
     "duration": 0.606323,
     "end_time": "2023-07-11T20:25:23.185415",
     "exception": false,
     "start_time": "2023-07-11T20:25:22.579092",
     "status": "completed"
    },
    "tags": []
   },
   "outputs": [],
   "source": [
    "with mirrored_strategy.scope():\n",
    "    model=tf.keras.Sequential()\n",
    "    model.add(tf.keras.layers.Conv2D(30,(5,5),strides=(1,1),padding='valid',\n",
    "                                     activation='relu',input_shape=(90,120,3)))\n",
    "    #1\n",
    "    model.add(tf.keras.layers.BatchNormalization())\n",
    "    model.add(tf.keras.layers.Conv2D(30,(3,3),strides=(1,1),padding='valid',activation='relu'))\n",
    "    model.add(tf.keras.layers.BatchNormalization())\n",
    "    model.add(tf.keras.layers.MaxPool2D(pool_size=(2,2),strides=None,padding='valid'))\n",
    "    #2\n",
    "    model.add(tf.keras.layers.BatchNormalization())\n",
    "    model.add(tf.keras.layers.Conv2D(20,(3,3),strides=(1,1),padding='valid',activation='relu'))\n",
    "    #3\n",
    "    model.add(tf.keras.layers.BatchNormalization())\n",
    "    model.add(tf.keras.layers.Conv2D(15,(3,3),strides=(1,1),padding='valid',activation='relu'))\n",
    "    #4\n",
    "    model.add(tf.keras.layers.BatchNormalization())\n",
    "    model.add(tf.keras.layers.Conv2D(15,(3,3),strides=(1,1),padding='valid',activation='relu'))\n",
    "    model.add(tf.keras.layers.GroupNormalization(groups=3))\n",
    "    model.add(tf.keras.layers.MaxPool2D(pool_size=(2,2),strides=None,padding='valid'))\n",
    "    #5\n",
    "    model.add(tf.keras.layers.BatchNormalization())\n",
    "    model.add(tf.keras.layers.Conv2D(10,(3,3),strides=(1,1),padding='valid',activation='relu'))\n",
    "    #6\n",
    "    model.add(tf.keras.layers.BatchNormalization())\n",
    "    model.add(tf.keras.layers.Flatten())\n",
    "    model.add(tf.keras.layers.Normalization())\n",
    "    model.add(tf.keras.layers.Dense(256,activation='relu'))\n",
    "    model.add(tf.keras.layers.BatchNormalization())\n",
    "    model.add(tf.keras.layers.Dropout(0.1))\n",
    "    model.add(tf.keras.layers.Dense(128,activation='relu'))\n",
    "    model.add(tf.keras.layers.Dense(10,activation='softmax'))\n",
    "    model.compile(optimizer=\"Adam\",loss='categorical_crossentropy',metrics=['accuracy'])"
   ]
  },
  {
   "cell_type": "code",
   "execution_count": 15,
   "id": "a1e7b952",
   "metadata": {
    "execution": {
     "iopub.execute_input": "2023-07-11T20:25:23.200475Z",
     "iopub.status.busy": "2023-07-11T20:25:23.200103Z",
     "iopub.status.idle": "2023-07-11T20:25:23.275303Z",
     "shell.execute_reply": "2023-07-11T20:25:23.274159Z"
    },
    "papermill": {
     "duration": 0.085665,
     "end_time": "2023-07-11T20:25:23.277547",
     "exception": false,
     "start_time": "2023-07-11T20:25:23.191882",
     "status": "completed"
    },
    "tags": []
   },
   "outputs": [
    {
     "name": "stdout",
     "output_type": "stream",
     "text": [
      "Model: \"sequential\"\n",
      "_________________________________________________________________\n",
      " Layer (type)                Output Shape              Param #   \n",
      "=================================================================\n",
      " conv2d (Conv2D)             (None, 86, 116, 30)       2280      \n",
      "                                                                 \n",
      " batch_normalization (BatchN  (None, 86, 116, 30)      120       \n",
      " ormalization)                                                   \n",
      "                                                                 \n",
      " conv2d_1 (Conv2D)           (None, 84, 114, 30)       8130      \n",
      "                                                                 \n",
      " batch_normalization_1 (Batc  (None, 84, 114, 30)      120       \n",
      " hNormalization)                                                 \n",
      "                                                                 \n",
      " max_pooling2d (MaxPooling2D  (None, 42, 57, 30)       0         \n",
      " )                                                               \n",
      "                                                                 \n",
      " batch_normalization_2 (Batc  (None, 42, 57, 30)       120       \n",
      " hNormalization)                                                 \n",
      "                                                                 \n",
      " conv2d_2 (Conv2D)           (None, 40, 55, 20)        5420      \n",
      "                                                                 \n",
      " batch_normalization_3 (Batc  (None, 40, 55, 20)       80        \n",
      " hNormalization)                                                 \n",
      "                                                                 \n",
      " conv2d_3 (Conv2D)           (None, 38, 53, 15)        2715      \n",
      "                                                                 \n",
      " batch_normalization_4 (Batc  (None, 38, 53, 15)       60        \n",
      " hNormalization)                                                 \n",
      "                                                                 \n",
      " conv2d_4 (Conv2D)           (None, 36, 51, 15)        2040      \n",
      "                                                                 \n",
      " group_normalization (GroupN  (None, 36, 51, 15)       30        \n",
      " ormalization)                                                   \n",
      "                                                                 \n",
      " max_pooling2d_1 (MaxPooling  (None, 18, 25, 15)       0         \n",
      " 2D)                                                             \n",
      "                                                                 \n",
      " batch_normalization_5 (Batc  (None, 18, 25, 15)       60        \n",
      " hNormalization)                                                 \n",
      "                                                                 \n",
      " conv2d_5 (Conv2D)           (None, 16, 23, 10)        1360      \n",
      "                                                                 \n",
      " batch_normalization_6 (Batc  (None, 16, 23, 10)       40        \n",
      " hNormalization)                                                 \n",
      "                                                                 \n",
      " flatten (Flatten)           (None, 3680)              0         \n",
      "                                                                 \n",
      " normalization (Normalizatio  (None, 3680)             7361      \n",
      " n)                                                              \n",
      "                                                                 \n",
      " dense (Dense)               (None, 256)               942336    \n",
      "                                                                 \n",
      " batch_normalization_7 (Batc  (None, 256)              1024      \n",
      " hNormalization)                                                 \n",
      "                                                                 \n",
      " dropout (Dropout)           (None, 256)               0         \n",
      "                                                                 \n",
      " dense_1 (Dense)             (None, 128)               32896     \n",
      "                                                                 \n",
      " dense_2 (Dense)             (None, 10)                1290      \n",
      "                                                                 \n",
      "=================================================================\n",
      "Total params: 1,007,482\n",
      "Trainable params: 999,309\n",
      "Non-trainable params: 8,173\n",
      "_________________________________________________________________\n"
     ]
    }
   ],
   "source": [
    "model.summary()"
   ]
  },
  {
   "cell_type": "code",
   "execution_count": 16,
   "id": "8051deaa",
   "metadata": {
    "execution": {
     "iopub.execute_input": "2023-07-11T20:25:23.299963Z",
     "iopub.status.busy": "2023-07-11T20:25:23.299549Z",
     "iopub.status.idle": "2023-07-11T20:25:23.307499Z",
     "shell.execute_reply": "2023-07-11T20:25:23.306087Z"
    },
    "papermill": {
     "duration": 0.021119,
     "end_time": "2023-07-11T20:25:23.309361",
     "exception": false,
     "start_time": "2023-07-11T20:25:23.288242",
     "status": "completed"
    },
    "tags": []
   },
   "outputs": [],
   "source": [
    "with mirrored_strategy.scope():\n",
    "    checkpoint= tf.keras.callbacks.ModelCheckpoint(filepath='/kaggle/working/cifar_10_classifier_4.h5',\n",
    "                                                   save_weights_only=False,monitor='val_accuracy',\n",
    "                                                   save_best_only=True,save_freq=\"epoch\",)\n",
    "    early_stopping= tf.keras.callbacks.EarlyStopping(monitor='val_loss',patience=10,\n",
    "                                                     restore_best_weights=True)\n",
    "    def lr_scheduler(epoch,lr,epochs=50):\n",
    "        initial=1e-3\n",
    "        if epoch<epochs*0.1:\n",
    "            return initial\n",
    "        elif epoch>epochs*0.1 and epoch<epochs*0.25:\n",
    "            lr*=tf.math.exp(-0.1)\n",
    "            return lr\n",
    "        else:\n",
    "            lr*=tf.math.exp(-0.008)\n",
    "            return lr\n",
    "    lr_scheduling=tf.keras.callbacks.LearningRateScheduler(lr_scheduler)"
   ]
  },
  {
   "cell_type": "code",
   "execution_count": 17,
   "id": "9fa4874f",
   "metadata": {
    "execution": {
     "iopub.execute_input": "2023-07-11T20:25:23.331246Z",
     "iopub.status.busy": "2023-07-11T20:25:23.330853Z",
     "iopub.status.idle": "2023-07-12T02:25:51.718073Z",
     "shell.execute_reply": "2023-07-12T02:25:51.717111Z"
    },
    "papermill": {
     "duration": 21628.844097,
     "end_time": "2023-07-12T02:25:52.163698",
     "exception": false,
     "start_time": "2023-07-11T20:25:23.319601",
     "status": "completed"
    },
    "tags": []
   },
   "outputs": [
    {
     "name": "stdout",
     "output_type": "stream",
     "text": [
      "Epoch 1/50\n",
      "300/300 [==============================] - 843s 3s/step - loss: 1.4675 - accuracy: 0.4756 - val_loss: 3.4803 - val_accuracy: 0.2408 - lr: 0.0010\n",
      "Epoch 2/50\n",
      "300/300 [==============================] - 829s 3s/step - loss: 1.0418 - accuracy: 0.6305 - val_loss: 0.9561 - val_accuracy: 0.6610 - lr: 0.0010\n",
      "Epoch 3/50\n",
      "300/300 [==============================] - 865s 3s/step - loss: 0.8244 - accuracy: 0.7116 - val_loss: 0.8193 - val_accuracy: 0.7130 - lr: 0.0010\n",
      "Epoch 4/50\n",
      "300/300 [==============================] - 825s 3s/step - loss: 0.6427 - accuracy: 0.7760 - val_loss: 0.8241 - val_accuracy: 0.7320 - lr: 0.0010\n",
      "Epoch 5/50\n",
      "300/300 [==============================] - 826s 3s/step - loss: 0.4807 - accuracy: 0.8339 - val_loss: 0.5328 - val_accuracy: 0.8120 - lr: 0.0010\n",
      "Epoch 6/50\n",
      "300/300 [==============================] - 823s 3s/step - loss: 0.3661 - accuracy: 0.8753 - val_loss: 0.5014 - val_accuracy: 0.8240 - lr: 9.9203e-04\n",
      "Epoch 7/50\n",
      "300/300 [==============================] - 826s 3s/step - loss: 0.2581 - accuracy: 0.9126 - val_loss: 0.2471 - val_accuracy: 0.9174 - lr: 8.9763e-04\n",
      "Epoch 8/50\n",
      "300/300 [==============================] - 824s 3s/step - loss: 0.1667 - accuracy: 0.9465 - val_loss: 0.2218 - val_accuracy: 0.9218 - lr: 8.1221e-04\n",
      "Epoch 9/50\n",
      "300/300 [==============================] - 822s 3s/step - loss: 0.1071 - accuracy: 0.9668 - val_loss: 0.1320 - val_accuracy: 0.9516 - lr: 7.3492e-04\n",
      "Epoch 10/50\n",
      "300/300 [==============================] - 822s 3s/step - loss: 0.0619 - accuracy: 0.9827 - val_loss: 0.0971 - val_accuracy: 0.9680 - lr: 6.6498e-04\n",
      "Epoch 11/50\n",
      "300/300 [==============================] - 800s 3s/step - loss: 0.0398 - accuracy: 0.9903 - val_loss: 0.0691 - val_accuracy: 0.9786 - lr: 6.0170e-04\n",
      "Epoch 12/50\n",
      "300/300 [==============================] - 817s 3s/step - loss: 0.0257 - accuracy: 0.9942 - val_loss: 0.0418 - val_accuracy: 0.9882 - lr: 5.4444e-04\n",
      "Epoch 13/50\n",
      "300/300 [==============================] - 861s 3s/step - loss: 0.0196 - accuracy: 0.9960 - val_loss: 0.0295 - val_accuracy: 0.9914 - lr: 4.9263e-04\n",
      "Epoch 14/50\n",
      "300/300 [==============================] - 833s 3s/step - loss: 0.0157 - accuracy: 0.9969 - val_loss: 0.0223 - val_accuracy: 0.9936 - lr: 4.8870e-04\n",
      "Epoch 15/50\n",
      "300/300 [==============================] - 823s 3s/step - loss: 0.0128 - accuracy: 0.9975 - val_loss: 0.0141 - val_accuracy: 0.9980 - lr: 4.8481e-04\n",
      "Epoch 16/50\n",
      "300/300 [==============================] - 827s 3s/step - loss: 0.0153 - accuracy: 0.9964 - val_loss: 0.0388 - val_accuracy: 0.9862 - lr: 4.8095e-04\n",
      "Epoch 17/50\n",
      "300/300 [==============================] - 829s 3s/step - loss: 0.0163 - accuracy: 0.9957 - val_loss: 0.0207 - val_accuracy: 0.9940 - lr: 4.7711e-04\n",
      "Epoch 18/50\n",
      "300/300 [==============================] - 835s 3s/step - loss: 0.0216 - accuracy: 0.9936 - val_loss: 0.0975 - val_accuracy: 0.9652 - lr: 4.7331e-04\n",
      "Epoch 19/50\n",
      "300/300 [==============================] - 878s 3s/step - loss: 0.0267 - accuracy: 0.9922 - val_loss: 0.1333 - val_accuracy: 0.9534 - lr: 4.6954e-04\n",
      "Epoch 20/50\n",
      "300/300 [==============================] - 875s 3s/step - loss: 0.0305 - accuracy: 0.9902 - val_loss: 0.0417 - val_accuracy: 0.9866 - lr: 4.6580e-04\n",
      "Epoch 21/50\n",
      "300/300 [==============================] - 835s 3s/step - loss: 0.0278 - accuracy: 0.9910 - val_loss: 0.0865 - val_accuracy: 0.9706 - lr: 4.6209e-04\n",
      "Epoch 22/50\n",
      "300/300 [==============================] - 834s 3s/step - loss: 0.0268 - accuracy: 0.9914 - val_loss: 0.0506 - val_accuracy: 0.9822 - lr: 4.5841e-04\n",
      "Epoch 23/50\n",
      "300/300 [==============================] - 835s 3s/step - loss: 0.0235 - accuracy: 0.9921 - val_loss: 0.0752 - val_accuracy: 0.9734 - lr: 4.5475e-04\n",
      "Epoch 24/50\n",
      "300/300 [==============================] - 832s 3s/step - loss: 0.0200 - accuracy: 0.9940 - val_loss: 0.0760 - val_accuracy: 0.9752 - lr: 4.5113e-04\n",
      "Epoch 25/50\n",
      "300/300 [==============================] - 832s 3s/step - loss: 0.0175 - accuracy: 0.9946 - val_loss: 0.0698 - val_accuracy: 0.9754 - lr: 4.4754e-04\n"
     ]
    }
   ],
   "source": [
    "with mirrored_strategy.scope():\n",
    "    history = model.fit(train_data.batch(150),epochs=50,validation_data=val_data.batch(150),\n",
    "                        callbacks=[checkpoint,early_stopping,lr_scheduling],shuffle=True)"
   ]
  },
  {
   "cell_type": "code",
   "execution_count": 18,
   "id": "84228921",
   "metadata": {
    "execution": {
     "iopub.execute_input": "2023-07-12T02:25:53.199588Z",
     "iopub.status.busy": "2023-07-12T02:25:53.199196Z",
     "iopub.status.idle": "2023-07-12T02:26:22.350064Z",
     "shell.execute_reply": "2023-07-12T02:26:22.349110Z"
    },
    "papermill": {
     "duration": 29.595305,
     "end_time": "2023-07-12T02:26:22.352396",
     "exception": false,
     "start_time": "2023-07-12T02:25:52.757091",
     "status": "completed"
    },
    "tags": []
   },
   "outputs": [],
   "source": [
    "model=tf.keras.models.load_model(\"/kaggle/working/cifar_10_classifier_4.h5\")"
   ]
  },
  {
   "cell_type": "code",
   "execution_count": 19,
   "id": "3ee79441",
   "metadata": {
    "execution": {
     "iopub.execute_input": "2023-07-12T02:26:23.263599Z",
     "iopub.status.busy": "2023-07-12T02:26:23.262931Z",
     "iopub.status.idle": "2023-07-12T02:29:05.024327Z",
     "shell.execute_reply": "2023-07-12T02:29:05.022684Z"
    },
    "papermill": {
     "duration": 162.60778,
     "end_time": "2023-07-12T02:29:05.420224",
     "exception": false,
     "start_time": "2023-07-12T02:26:22.812444",
     "status": "completed"
    },
    "tags": []
   },
   "outputs": [
    {
     "name": "stdout",
     "output_type": "stream",
     "text": [
      "1/1 [==============================] - 162s 162s/step\n"
     ]
    }
   ],
   "source": [
    "with mirrored_strategy.scope():\n",
    "    predictions=model.predict(test_data.batch(10000))"
   ]
  },
  {
   "cell_type": "code",
   "execution_count": 20,
   "id": "b830c2b6",
   "metadata": {
    "execution": {
     "iopub.execute_input": "2023-07-12T02:29:06.318015Z",
     "iopub.status.busy": "2023-07-12T02:29:06.317574Z",
     "iopub.status.idle": "2023-07-12T02:29:06.322838Z",
     "shell.execute_reply": "2023-07-12T02:29:06.321954Z"
    },
    "papermill": {
     "duration": 0.455876,
     "end_time": "2023-07-12T02:29:06.325037",
     "exception": false,
     "start_time": "2023-07-12T02:29:05.869161",
     "status": "completed"
    },
    "tags": []
   },
   "outputs": [],
   "source": [
    "def outputs(x):\n",
    "    a = np.zeros(x.shape)\n",
    "    a[np.where(x==np.max(x))] = 1\n",
    "    return a"
   ]
  },
  {
   "cell_type": "code",
   "execution_count": 21,
   "id": "adcced7b",
   "metadata": {
    "execution": {
     "iopub.execute_input": "2023-07-12T02:29:07.343481Z",
     "iopub.status.busy": "2023-07-12T02:29:07.343145Z",
     "iopub.status.idle": "2023-07-12T02:29:07.470421Z",
     "shell.execute_reply": "2023-07-12T02:29:07.468816Z"
    },
    "papermill": {
     "duration": 0.575503,
     "end_time": "2023-07-12T02:29:07.473098",
     "exception": false,
     "start_time": "2023-07-12T02:29:06.897595",
     "status": "completed"
    },
    "tags": []
   },
   "outputs": [],
   "source": [
    "for i in range(len(predictions)):\n",
    "     predictions[i]=outputs(predictions[i])"
   ]
  },
  {
   "cell_type": "code",
   "execution_count": 22,
   "id": "e9a48a5a",
   "metadata": {
    "execution": {
     "iopub.execute_input": "2023-07-12T02:29:08.372063Z",
     "iopub.status.busy": "2023-07-12T02:29:08.371651Z",
     "iopub.status.idle": "2023-07-12T02:29:09.309309Z",
     "shell.execute_reply": "2023-07-12T02:29:09.308262Z"
    },
    "papermill": {
     "duration": 1.386914,
     "end_time": "2023-07-12T02:29:09.311769",
     "exception": false,
     "start_time": "2023-07-12T02:29:07.924855",
     "status": "completed"
    },
    "tags": []
   },
   "outputs": [],
   "source": [
    "from sklearn.metrics import accuracy_score"
   ]
  },
  {
   "cell_type": "code",
   "execution_count": 23,
   "id": "a9107620",
   "metadata": {
    "execution": {
     "iopub.execute_input": "2023-07-12T02:29:10.232078Z",
     "iopub.status.busy": "2023-07-12T02:29:10.231619Z",
     "iopub.status.idle": "2023-07-12T02:29:15.000025Z",
     "shell.execute_reply": "2023-07-12T02:29:14.999015Z"
    },
    "papermill": {
     "duration": 5.236305,
     "end_time": "2023-07-12T02:29:15.002703",
     "exception": false,
     "start_time": "2023-07-12T02:29:09.766398",
     "status": "completed"
    },
    "tags": []
   },
   "outputs": [],
   "source": [
    "y_test=np.concatenate([y for x, y in test_data.batch(10000)],axis=0)"
   ]
  },
  {
   "cell_type": "code",
   "execution_count": 24,
   "id": "82c0e022",
   "metadata": {
    "execution": {
     "iopub.execute_input": "2023-07-12T02:29:16.030391Z",
     "iopub.status.busy": "2023-07-12T02:29:16.030078Z",
     "iopub.status.idle": "2023-07-12T02:29:16.049494Z",
     "shell.execute_reply": "2023-07-12T02:29:16.048544Z"
    },
    "papermill": {
     "duration": 0.602523,
     "end_time": "2023-07-12T02:29:16.052059",
     "exception": false,
     "start_time": "2023-07-12T02:29:15.449536",
     "status": "completed"
    },
    "tags": []
   },
   "outputs": [
    {
     "data": {
      "text/plain": [
       "0.649"
      ]
     },
     "execution_count": 24,
     "metadata": {},
     "output_type": "execute_result"
    }
   ],
   "source": [
    "accuracy_score(predictions,y_test)"
   ]
  },
  {
   "cell_type": "code",
   "execution_count": null,
   "id": "ebde806d",
   "metadata": {
    "papermill": {
     "duration": 0.449812,
     "end_time": "2023-07-12T02:29:16.951337",
     "exception": false,
     "start_time": "2023-07-12T02:29:16.501525",
     "status": "completed"
    },
    "tags": []
   },
   "outputs": [],
   "source": []
  }
 ],
 "metadata": {
  "kernelspec": {
   "display_name": "Python 3",
   "language": "python",
   "name": "python3"
  },
  "language_info": {
   "codemirror_mode": {
    "name": "ipython",
    "version": 3
   },
   "file_extension": ".py",
   "mimetype": "text/x-python",
   "name": "python",
   "nbconvert_exporter": "python",
   "pygments_lexer": "ipython3",
   "version": "3.10.12"
  },
  "papermill": {
   "default_parameters": {},
   "duration": 21865.828424,
   "end_time": "2023-07-12T02:29:20.565276",
   "environment_variables": {},
   "exception": null,
   "input_path": "__notebook__.ipynb",
   "output_path": "__notebook__.ipynb",
   "parameters": {},
   "start_time": "2023-07-11T20:24:54.736852",
   "version": "2.4.0"
  }
 },
 "nbformat": 4,
 "nbformat_minor": 5
}
