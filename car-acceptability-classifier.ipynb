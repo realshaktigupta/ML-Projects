{
 "cells": [
  {
   "cell_type": "code",
   "execution_count": 1,
   "id": "e89bd036",
   "metadata": {
    "_cell_guid": "b1076dfc-b9ad-4769-8c92-a6c4dae69d19",
    "_uuid": "8f2839f25d086af736a60e9eeb907d3b93b6e0e5",
    "execution": {
     "iopub.execute_input": "2023-06-05T19:08:06.307449Z",
     "iopub.status.busy": "2023-06-05T19:08:06.306945Z",
     "iopub.status.idle": "2023-06-05T19:08:06.328109Z",
     "shell.execute_reply": "2023-06-05T19:08:06.327086Z"
    },
    "papermill": {
     "duration": 0.031538,
     "end_time": "2023-06-05T19:08:06.330519",
     "exception": false,
     "start_time": "2023-06-05T19:08:06.298981",
     "status": "completed"
    },
    "tags": []
   },
   "outputs": [
    {
     "name": "stdout",
     "output_type": "stream",
     "text": [
      "/kaggle/input/car-acceptability-classification-dataset/car.csv\n",
      "/kaggle/input/car-acceptability-classification-dataset/car.data\n"
     ]
    }
   ],
   "source": [
    "# This Python 3 environment comes with many helpful analytics libraries installed\n",
    "# It is defined by the kaggle/python Docker image: https://github.com/kaggle/docker-python\n",
    "# For example, here's several helpful packages to load\n",
    "\n",
    "import numpy as np # linear algebra\n",
    "import pandas as pd # data processing, CSV file I/O (e.g. pd.read_csv)\n",
    "\n",
    "# Input data files are available in the read-only \"../input/\" directory\n",
    "# For example, running this (by clicking run or pressing Shift+Enter) will list all files under the input directory\n",
    "\n",
    "import os\n",
    "for dirname, _, filenames in os.walk('/kaggle/input'):\n",
    "    for filename in filenames:\n",
    "        print(os.path.join(dirname, filename))\n",
    "\n",
    "# You can write up to 20GB to the current directory (/kaggle/working/) that gets preserved as output when you create a version using \"Save & Run All\" \n",
    "# You can also write temporary files to /kaggle/temp/, but they won't be saved outside of the current session"
   ]
  },
  {
   "cell_type": "code",
   "execution_count": 2,
   "id": "8405ce6f",
   "metadata": {
    "execution": {
     "iopub.execute_input": "2023-06-05T19:08:06.341076Z",
     "iopub.status.busy": "2023-06-05T19:08:06.340640Z",
     "iopub.status.idle": "2023-06-05T19:08:06.368412Z",
     "shell.execute_reply": "2023-06-05T19:08:06.366752Z"
    },
    "papermill": {
     "duration": 0.03609,
     "end_time": "2023-06-05T19:08:06.371219",
     "exception": false,
     "start_time": "2023-06-05T19:08:06.335129",
     "status": "completed"
    },
    "tags": []
   },
   "outputs": [],
   "source": [
    "cars=pd.read_csv(\"/kaggle/input/car-acceptability-classification-dataset/car.csv\")"
   ]
  },
  {
   "cell_type": "code",
   "execution_count": 3,
   "id": "1d2a010a",
   "metadata": {
    "execution": {
     "iopub.execute_input": "2023-06-05T19:08:06.382494Z",
     "iopub.status.busy": "2023-06-05T19:08:06.382134Z",
     "iopub.status.idle": "2023-06-05T19:08:06.430328Z",
     "shell.execute_reply": "2023-06-05T19:08:06.429163Z"
    },
    "papermill": {
     "duration": 0.057476,
     "end_time": "2023-06-05T19:08:06.433670",
     "exception": false,
     "start_time": "2023-06-05T19:08:06.376194",
     "status": "completed"
    },
    "tags": []
   },
   "outputs": [
    {
     "name": "stdout",
     "output_type": "stream",
     "text": [
      "<class 'pandas.core.frame.DataFrame'>\n",
      "RangeIndex: 1728 entries, 0 to 1727\n",
      "Data columns (total 7 columns):\n",
      " #   Column             Non-Null Count  Dtype \n",
      "---  ------             --------------  ----- \n",
      " 0   Buying_Price       1728 non-null   object\n",
      " 1   Maintenance_Price  1728 non-null   object\n",
      " 2   No_of_Doors        1728 non-null   object\n",
      " 3   Person_Capacity    1728 non-null   object\n",
      " 4   Size_of_Luggage    1728 non-null   object\n",
      " 5   Safety             1728 non-null   object\n",
      " 6   Car_Acceptability  1728 non-null   object\n",
      "dtypes: object(7)\n",
      "memory usage: 94.6+ KB\n"
     ]
    }
   ],
   "source": [
    "cars.info()"
   ]
  },
  {
   "cell_type": "code",
   "execution_count": 4,
   "id": "10d9debd",
   "metadata": {
    "execution": {
     "iopub.execute_input": "2023-06-05T19:08:06.447240Z",
     "iopub.status.busy": "2023-06-05T19:08:06.446887Z",
     "iopub.status.idle": "2023-06-05T19:08:06.455926Z",
     "shell.execute_reply": "2023-06-05T19:08:06.454419Z"
    },
    "papermill": {
     "duration": 0.019251,
     "end_time": "2023-06-05T19:08:06.458105",
     "exception": false,
     "start_time": "2023-06-05T19:08:06.438854",
     "status": "completed"
    },
    "tags": []
   },
   "outputs": [],
   "source": [
    "X=cars.drop(\"Car_Acceptability\",axis=1)\n",
    "y=cars.Car_Acceptability"
   ]
  },
  {
   "cell_type": "code",
   "execution_count": 5,
   "id": "435509e9",
   "metadata": {
    "execution": {
     "iopub.execute_input": "2023-06-05T19:08:06.468704Z",
     "iopub.status.busy": "2023-06-05T19:08:06.468331Z",
     "iopub.status.idle": "2023-06-05T19:08:08.286556Z",
     "shell.execute_reply": "2023-06-05T19:08:08.285121Z"
    },
    "papermill": {
     "duration": 1.827515,
     "end_time": "2023-06-05T19:08:08.290279",
     "exception": false,
     "start_time": "2023-06-05T19:08:06.462764",
     "status": "completed"
    },
    "tags": []
   },
   "outputs": [],
   "source": [
    "from sklearn.model_selection import train_test_split\n",
    "X_train,X_test,y_train,y_test=train_test_split(X,y,test_size=50,random_state=42)"
   ]
  },
  {
   "cell_type": "code",
   "execution_count": 6,
   "id": "7f713460",
   "metadata": {
    "execution": {
     "iopub.execute_input": "2023-06-05T19:08:08.304016Z",
     "iopub.status.busy": "2023-06-05T19:08:08.303520Z",
     "iopub.status.idle": "2023-06-05T19:08:08.338329Z",
     "shell.execute_reply": "2023-06-05T19:08:08.336648Z"
    },
    "papermill": {
     "duration": 0.046629,
     "end_time": "2023-06-05T19:08:08.342573",
     "exception": false,
     "start_time": "2023-06-05T19:08:08.295944",
     "status": "completed"
    },
    "tags": []
   },
   "outputs": [
    {
     "data": {
      "text/html": [
       "<div>\n",
       "<style scoped>\n",
       "    .dataframe tbody tr th:only-of-type {\n",
       "        vertical-align: middle;\n",
       "    }\n",
       "\n",
       "    .dataframe tbody tr th {\n",
       "        vertical-align: top;\n",
       "    }\n",
       "\n",
       "    .dataframe thead th {\n",
       "        text-align: right;\n",
       "    }\n",
       "</style>\n",
       "<table border=\"1\" class=\"dataframe\">\n",
       "  <thead>\n",
       "    <tr style=\"text-align: right;\">\n",
       "      <th></th>\n",
       "      <th>Buying_Price</th>\n",
       "      <th>Maintenance_Price</th>\n",
       "      <th>No_of_Doors</th>\n",
       "      <th>Person_Capacity</th>\n",
       "      <th>Size_of_Luggage</th>\n",
       "      <th>Safety</th>\n",
       "    </tr>\n",
       "  </thead>\n",
       "  <tbody>\n",
       "    <tr>\n",
       "      <th>188</th>\n",
       "      <td>vhigh</td>\n",
       "      <td>high</td>\n",
       "      <td>4</td>\n",
       "      <td>more</td>\n",
       "      <td>big</td>\n",
       "      <td>high</td>\n",
       "    </tr>\n",
       "    <tr>\n",
       "      <th>818</th>\n",
       "      <td>high</td>\n",
       "      <td>low</td>\n",
       "      <td>4</td>\n",
       "      <td>2</td>\n",
       "      <td>big</td>\n",
       "      <td>high</td>\n",
       "    </tr>\n",
       "    <tr>\n",
       "      <th>943</th>\n",
       "      <td>med</td>\n",
       "      <td>vhigh</td>\n",
       "      <td>4</td>\n",
       "      <td>more</td>\n",
       "      <td>big</td>\n",
       "      <td>med</td>\n",
       "    </tr>\n",
       "    <tr>\n",
       "      <th>979</th>\n",
       "      <td>med</td>\n",
       "      <td>high</td>\n",
       "      <td>2</td>\n",
       "      <td>2</td>\n",
       "      <td>big</td>\n",
       "      <td>med</td>\n",
       "    </tr>\n",
       "    <tr>\n",
       "      <th>481</th>\n",
       "      <td>high</td>\n",
       "      <td>vhigh</td>\n",
       "      <td>3</td>\n",
       "      <td>more</td>\n",
       "      <td>med</td>\n",
       "      <td>med</td>\n",
       "    </tr>\n",
       "  </tbody>\n",
       "</table>\n",
       "</div>"
      ],
      "text/plain": [
       "    Buying_Price Maintenance_Price No_of_Doors Person_Capacity  \\\n",
       "188        vhigh              high           4            more   \n",
       "818         high               low           4               2   \n",
       "943          med             vhigh           4            more   \n",
       "979          med              high           2               2   \n",
       "481         high             vhigh           3            more   \n",
       "\n",
       "    Size_of_Luggage Safety  \n",
       "188             big   high  \n",
       "818             big   high  \n",
       "943             big    med  \n",
       "979             big    med  \n",
       "481             med    med  "
      ]
     },
     "execution_count": 6,
     "metadata": {},
     "output_type": "execute_result"
    }
   ],
   "source": [
    "X_train.head()"
   ]
  },
  {
   "cell_type": "code",
   "execution_count": 7,
   "id": "6bbb4e08",
   "metadata": {
    "execution": {
     "iopub.execute_input": "2023-06-05T19:08:08.357174Z",
     "iopub.status.busy": "2023-06-05T19:08:08.356779Z",
     "iopub.status.idle": "2023-06-05T19:08:08.368774Z",
     "shell.execute_reply": "2023-06-05T19:08:08.366694Z"
    },
    "papermill": {
     "duration": 0.021255,
     "end_time": "2023-06-05T19:08:08.371670",
     "exception": false,
     "start_time": "2023-06-05T19:08:08.350415",
     "status": "completed"
    },
    "tags": []
   },
   "outputs": [
    {
     "name": "stdout",
     "output_type": "stream",
     "text": [
      "Buying_Price ['high' 'low' 'med' 'vhigh']\n",
      "Maintenance_Price ['high' 'low' 'med' 'vhigh']\n",
      "No_of_Doors ['2' '3' '4' '5more']\n",
      "Person_Capacity ['2' '4' 'more']\n",
      "Size_of_Luggage ['big' 'med' 'small']\n",
      "Safety ['high' 'low' 'med']\n",
      "Car_Acceptability ['acc' 'good' 'unacc' 'vgood']\n"
     ]
    }
   ],
   "source": [
    "for key in cars.keys():\n",
    "    print(key,np.unique(cars[key]))"
   ]
  },
  {
   "cell_type": "code",
   "execution_count": 8,
   "id": "2d654794",
   "metadata": {
    "execution": {
     "iopub.execute_input": "2023-06-05T19:08:08.382699Z",
     "iopub.status.busy": "2023-06-05T19:08:08.382333Z",
     "iopub.status.idle": "2023-06-05T19:08:08.389498Z",
     "shell.execute_reply": "2023-06-05T19:08:08.388063Z"
    },
    "papermill": {
     "duration": 0.015909,
     "end_time": "2023-06-05T19:08:08.392353",
     "exception": false,
     "start_time": "2023-06-05T19:08:08.376444",
     "status": "completed"
    },
    "tags": []
   },
   "outputs": [],
   "source": [
    "def transform_data(X):\n",
    "    if not isinstance(X,pd.DataFrame):\n",
    "        X.to_frame()\n",
    "    X_transformed=pd.DataFrame()\n",
    "    for key in X.keys():\n",
    "        key1_hot=pd.get_dummies(X[key])\n",
    "        for key1 in key1_hot.keys():\n",
    "            X_transformed[key+'_'+key1]=key1_hot[key1]\n",
    "    return X_transformed"
   ]
  },
  {
   "cell_type": "code",
   "execution_count": 9,
   "id": "922247a2",
   "metadata": {
    "execution": {
     "iopub.execute_input": "2023-06-05T19:08:08.403948Z",
     "iopub.status.busy": "2023-06-05T19:08:08.403497Z",
     "iopub.status.idle": "2023-06-05T19:08:08.424019Z",
     "shell.execute_reply": "2023-06-05T19:08:08.422071Z"
    },
    "papermill": {
     "duration": 0.029585,
     "end_time": "2023-06-05T19:08:08.426885",
     "exception": false,
     "start_time": "2023-06-05T19:08:08.397300",
     "status": "completed"
    },
    "tags": []
   },
   "outputs": [],
   "source": [
    "X_train_transformed=transform_data(X_train)"
   ]
  },
  {
   "cell_type": "code",
   "execution_count": 10,
   "id": "a1e39317",
   "metadata": {
    "execution": {
     "iopub.execute_input": "2023-06-05T19:08:08.438193Z",
     "iopub.status.busy": "2023-06-05T19:08:08.437499Z",
     "iopub.status.idle": "2023-06-05T19:08:08.447308Z",
     "shell.execute_reply": "2023-06-05T19:08:08.446437Z"
    },
    "papermill": {
     "duration": 0.018683,
     "end_time": "2023-06-05T19:08:08.450174",
     "exception": false,
     "start_time": "2023-06-05T19:08:08.431491",
     "status": "completed"
    },
    "tags": []
   },
   "outputs": [],
   "source": [
    "y_train_transformed=transform_data(y_train.to_frame())"
   ]
  },
  {
   "cell_type": "code",
   "execution_count": 11,
   "id": "0d365739",
   "metadata": {
    "execution": {
     "iopub.execute_input": "2023-06-05T19:08:08.463048Z",
     "iopub.status.busy": "2023-06-05T19:08:08.461592Z",
     "iopub.status.idle": "2023-06-05T19:08:08.472482Z",
     "shell.execute_reply": "2023-06-05T19:08:08.470551Z"
    },
    "papermill": {
     "duration": 0.021401,
     "end_time": "2023-06-05T19:08:08.476307",
     "exception": false,
     "start_time": "2023-06-05T19:08:08.454906",
     "status": "completed"
    },
    "tags": []
   },
   "outputs": [
    {
     "data": {
      "text/plain": [
       "Index(['Car_Acceptability_acc', 'Car_Acceptability_good',\n",
       "       'Car_Acceptability_unacc', 'Car_Acceptability_vgood'],\n",
       "      dtype='object')"
      ]
     },
     "execution_count": 11,
     "metadata": {},
     "output_type": "execute_result"
    }
   ],
   "source": [
    "y_train_transformed.keys()"
   ]
  },
  {
   "cell_type": "markdown",
   "id": "5fd08006",
   "metadata": {
    "papermill": {
     "duration": 0.004818,
     "end_time": "2023-06-05T19:08:08.486351",
     "exception": false,
     "start_time": "2023-06-05T19:08:08.481533",
     "status": "completed"
    },
    "tags": []
   },
   "source": [
    "For Purpose of EDA, We do binary analysis to try and observe what separates acceptable and Unacceptable cars. However, we will be doing Multiclass Classification only."
   ]
  },
  {
   "cell_type": "code",
   "execution_count": 12,
   "id": "454b2a73",
   "metadata": {
    "execution": {
     "iopub.execute_input": "2023-06-05T19:08:08.498086Z",
     "iopub.status.busy": "2023-06-05T19:08:08.497666Z",
     "iopub.status.idle": "2023-06-05T19:08:08.507804Z",
     "shell.execute_reply": "2023-06-05T19:08:08.506018Z"
    },
    "papermill": {
     "duration": 0.01939,
     "end_time": "2023-06-05T19:08:08.510765",
     "exception": false,
     "start_time": "2023-06-05T19:08:08.491375",
     "status": "completed"
    },
    "tags": []
   },
   "outputs": [],
   "source": [
    "y_train_eda=pd.DataFrame()\n",
    "y_train_eda[\"Acceptability\"]=y_train_transformed[\"Car_Acceptability_unacc\"].replace({0:1, 1:0})"
   ]
  },
  {
   "cell_type": "code",
   "execution_count": 13,
   "id": "d3f0f145",
   "metadata": {
    "execution": {
     "iopub.execute_input": "2023-06-05T19:08:08.522665Z",
     "iopub.status.busy": "2023-06-05T19:08:08.521994Z",
     "iopub.status.idle": "2023-06-05T19:08:08.526653Z",
     "shell.execute_reply": "2023-06-05T19:08:08.526053Z"
    },
    "papermill": {
     "duration": 0.012517,
     "end_time": "2023-06-05T19:08:08.528312",
     "exception": false,
     "start_time": "2023-06-05T19:08:08.515795",
     "status": "completed"
    },
    "tags": []
   },
   "outputs": [],
   "source": [
    "X_train_eda=X_train_transformed\n",
    "X_train_eda[\"Acceptability\"]=y_train_eda[\"Acceptability\"]"
   ]
  },
  {
   "cell_type": "code",
   "execution_count": 14,
   "id": "178a6109",
   "metadata": {
    "execution": {
     "iopub.execute_input": "2023-06-05T19:08:08.539420Z",
     "iopub.status.busy": "2023-06-05T19:08:08.538961Z",
     "iopub.status.idle": "2023-06-05T19:08:08.559638Z",
     "shell.execute_reply": "2023-06-05T19:08:08.557784Z"
    },
    "papermill": {
     "duration": 0.029092,
     "end_time": "2023-06-05T19:08:08.562194",
     "exception": false,
     "start_time": "2023-06-05T19:08:08.533102",
     "status": "completed"
    },
    "tags": []
   },
   "outputs": [
    {
     "name": "stdout",
     "output_type": "stream",
     "text": [
      "Buying_Price_high -0.053602345387876005\n",
      "Buying_Price_low 0.12504604698979455\n",
      "Buying_Price_med 0.09800472702141917\n",
      "Buying_Price_vhigh -0.16883504310087313\n",
      "Maintenance_Price_high -0.03854732135854151\n",
      "Maintenance_Price_low 0.11394592911076502\n",
      "Maintenance_Price_med 0.09711458071620542\n",
      "Maintenance_Price_vhigh -0.17183415600564297\n",
      "No_of_Doors_2 -0.06902304750030226\n",
      "No_of_Doors_3 0.004812092292694023\n",
      "No_of_Doors_4 0.03487423252776662\n",
      "No_of_Doors_5more 0.029540149946260107\n",
      "Person_Capacity_2 -0.4586561750495898\n",
      "Person_Capacity_4 0.24058448543408315\n",
      "Person_Capacity_more 0.21670266382921394\n",
      "Size_of_Luggage_big 0.10526486942943021\n",
      "Size_of_Luggage_med 0.020709810356755204\n",
      "Size_of_Luggage_small -0.1260496825301895\n",
      "Safety_high 0.35055354327095983\n",
      "Safety_low -0.4667059201952102\n",
      "Safety_med 0.1189518878113959\n",
      "Acceptability 0.9999999999999999\n"
     ]
    }
   ],
   "source": [
    "for key in X_train_transformed.keys():\n",
    "    correlation=X_train_eda[key].corr(X_train_eda[\"Acceptability\"])\n",
    "    if not pd.isna(correlation):\n",
    "        print(key,correlation)"
   ]
  },
  {
   "cell_type": "code",
   "execution_count": 15,
   "id": "2b5fb7e0",
   "metadata": {
    "execution": {
     "iopub.execute_input": "2023-06-05T19:08:08.574691Z",
     "iopub.status.busy": "2023-06-05T19:08:08.574043Z",
     "iopub.status.idle": "2023-06-05T19:08:24.540121Z",
     "shell.execute_reply": "2023-06-05T19:08:24.537796Z"
    },
    "papermill": {
     "duration": 15.975547,
     "end_time": "2023-06-05T19:08:24.543078",
     "exception": false,
     "start_time": "2023-06-05T19:08:08.567531",
     "status": "completed"
    },
    "tags": []
   },
   "outputs": [
    {
     "name": "stdout",
     "output_type": "stream",
     "text": [
      "CatBoost model is fitted: True\n",
      "CatBoost model parameters:\n",
      "{}\n"
     ]
    }
   ],
   "source": [
    "from catboost import CatBoostClassifier\n",
    "\n",
    "clf = CatBoostClassifier(\n",
    "    #loss_function='CrossEntropy'\n",
    ")\n",
    "clf.fit(X_train, y_train, \n",
    "        cat_features=range(0,6), \n",
    "        verbose=False\n",
    ")\n",
    "\n",
    "print('CatBoost model is fitted: ' + str(clf.is_fitted()))\n",
    "print('CatBoost model parameters:')\n",
    "print(clf.get_params())"
   ]
  },
  {
   "cell_type": "code",
   "execution_count": 16,
   "id": "531f03ff",
   "metadata": {
    "execution": {
     "iopub.execute_input": "2023-06-05T19:08:24.555900Z",
     "iopub.status.busy": "2023-06-05T19:08:24.555425Z",
     "iopub.status.idle": "2023-06-05T19:08:24.568040Z",
     "shell.execute_reply": "2023-06-05T19:08:24.566112Z"
    },
    "papermill": {
     "duration": 0.021636,
     "end_time": "2023-06-05T19:08:24.570497",
     "exception": false,
     "start_time": "2023-06-05T19:08:24.548861",
     "status": "completed"
    },
    "tags": []
   },
   "outputs": [
    {
     "data": {
      "text/plain": [
       "1.0"
      ]
     },
     "execution_count": 16,
     "metadata": {},
     "output_type": "execute_result"
    }
   ],
   "source": [
    "from sklearn.metrics import accuracy_score\n",
    "accuracy_score(y_test,clf.predict(X_test))"
   ]
  },
  {
   "cell_type": "code",
   "execution_count": null,
   "id": "83b6a398",
   "metadata": {
    "papermill": {
     "duration": 0.005048,
     "end_time": "2023-06-05T19:08:24.581032",
     "exception": false,
     "start_time": "2023-06-05T19:08:24.575984",
     "status": "completed"
    },
    "tags": []
   },
   "outputs": [],
   "source": []
  }
 ],
 "metadata": {
  "kernelspec": {
   "display_name": "Python 3",
   "language": "python",
   "name": "python3"
  },
  "language_info": {
   "codemirror_mode": {
    "name": "ipython",
    "version": 3
   },
   "file_extension": ".py",
   "mimetype": "text/x-python",
   "name": "python",
   "nbconvert_exporter": "python",
   "pygments_lexer": "ipython3",
   "version": "3.10.10"
  },
  "papermill": {
   "default_parameters": {},
   "duration": 31.355599,
   "end_time": "2023-06-05T19:08:25.815161",
   "environment_variables": {},
   "exception": null,
   "input_path": "__notebook__.ipynb",
   "output_path": "__notebook__.ipynb",
   "parameters": {},
   "start_time": "2023-06-05T19:07:54.459562",
   "version": "2.4.0"
  }
 },
 "nbformat": 4,
 "nbformat_minor": 5
}
