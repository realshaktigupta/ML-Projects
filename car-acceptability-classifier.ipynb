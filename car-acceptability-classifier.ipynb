{
 "cells": [
  {
   "cell_type": "code",
   "execution_count": 1,
   "id": "7d628a97",
   "metadata": {
    "_cell_guid": "b1076dfc-b9ad-4769-8c92-a6c4dae69d19",
    "_uuid": "8f2839f25d086af736a60e9eeb907d3b93b6e0e5",
    "execution": {
     "iopub.execute_input": "2023-06-05T19:26:39.156392Z",
     "iopub.status.busy": "2023-06-05T19:26:39.155589Z",
     "iopub.status.idle": "2023-06-05T19:26:39.179716Z",
     "shell.execute_reply": "2023-06-05T19:26:39.178452Z"
    },
    "papermill": {
     "duration": 0.034325,
     "end_time": "2023-06-05T19:26:39.182916",
     "exception": false,
     "start_time": "2023-06-05T19:26:39.148591",
     "status": "completed"
    },
    "tags": []
   },
   "outputs": [
    {
     "name": "stdout",
     "output_type": "stream",
     "text": [
      "/kaggle/input/car-acceptability-classification-dataset/car.csv\n",
      "/kaggle/input/car-acceptability-classification-dataset/car.data\n"
     ]
    }
   ],
   "source": [
    "# This Python 3 environment comes with many helpful analytics libraries installed\n",
    "# It is defined by the kaggle/python Docker image: https://github.com/kaggle/docker-python\n",
    "# For example, here's several helpful packages to load\n",
    "\n",
    "import numpy as np # linear algebra\n",
    "import pandas as pd # data processing, CSV file I/O (e.g. pd.read_csv)\n",
    "\n",
    "# Input data files are available in the read-only \"../input/\" directory\n",
    "# For example, running this (by clicking run or pressing Shift+Enter) will list all files under the input directory\n",
    "\n",
    "import os\n",
    "for dirname, _, filenames in os.walk('/kaggle/input'):\n",
    "    for filename in filenames:\n",
    "        print(os.path.join(dirname, filename))\n",
    "\n",
    "# You can write up to 20GB to the current directory (/kaggle/working/) that gets preserved as output when you create a version using \"Save & Run All\" \n",
    "# You can also write temporary files to /kaggle/temp/, but they won't be saved outside of the current session"
   ]
  },
  {
   "cell_type": "code",
   "execution_count": 2,
   "id": "7e5ce031",
   "metadata": {
    "execution": {
     "iopub.execute_input": "2023-06-05T19:26:39.195470Z",
     "iopub.status.busy": "2023-06-05T19:26:39.194672Z",
     "iopub.status.idle": "2023-06-05T19:26:39.220670Z",
     "shell.execute_reply": "2023-06-05T19:26:39.218867Z"
    },
    "papermill": {
     "duration": 0.034785,
     "end_time": "2023-06-05T19:26:39.223418",
     "exception": false,
     "start_time": "2023-06-05T19:26:39.188633",
     "status": "completed"
    },
    "tags": []
   },
   "outputs": [],
   "source": [
    "cars=pd.read_csv(\"/kaggle/input/car-acceptability-classification-dataset/car.csv\")"
   ]
  },
  {
   "cell_type": "code",
   "execution_count": 3,
   "id": "1e8216e4",
   "metadata": {
    "execution": {
     "iopub.execute_input": "2023-06-05T19:26:39.234422Z",
     "iopub.status.busy": "2023-06-05T19:26:39.233647Z",
     "iopub.status.idle": "2023-06-05T19:26:39.274080Z",
     "shell.execute_reply": "2023-06-05T19:26:39.272119Z"
    },
    "papermill": {
     "duration": 0.049789,
     "end_time": "2023-06-05T19:26:39.277606",
     "exception": false,
     "start_time": "2023-06-05T19:26:39.227817",
     "status": "completed"
    },
    "tags": []
   },
   "outputs": [
    {
     "name": "stdout",
     "output_type": "stream",
     "text": [
      "<class 'pandas.core.frame.DataFrame'>\n",
      "RangeIndex: 1728 entries, 0 to 1727\n",
      "Data columns (total 7 columns):\n",
      " #   Column             Non-Null Count  Dtype \n",
      "---  ------             --------------  ----- \n",
      " 0   Buying_Price       1728 non-null   object\n",
      " 1   Maintenance_Price  1728 non-null   object\n",
      " 2   No_of_Doors        1728 non-null   object\n",
      " 3   Person_Capacity    1728 non-null   object\n",
      " 4   Size_of_Luggage    1728 non-null   object\n",
      " 5   Safety             1728 non-null   object\n",
      " 6   Car_Acceptability  1728 non-null   object\n",
      "dtypes: object(7)\n",
      "memory usage: 94.6+ KB\n"
     ]
    }
   ],
   "source": [
    "cars.info()"
   ]
  },
  {
   "cell_type": "code",
   "execution_count": 4,
   "id": "030a9321",
   "metadata": {
    "execution": {
     "iopub.execute_input": "2023-06-05T19:26:39.291000Z",
     "iopub.status.busy": "2023-06-05T19:26:39.290416Z",
     "iopub.status.idle": "2023-06-05T19:26:39.302183Z",
     "shell.execute_reply": "2023-06-05T19:26:39.301093Z"
    },
    "papermill": {
     "duration": 0.021941,
     "end_time": "2023-06-05T19:26:39.304758",
     "exception": false,
     "start_time": "2023-06-05T19:26:39.282817",
     "status": "completed"
    },
    "tags": []
   },
   "outputs": [],
   "source": [
    "X=cars.drop(\"Car_Acceptability\",axis=1)\n",
    "y=cars.Car_Acceptability"
   ]
  },
  {
   "cell_type": "code",
   "execution_count": 5,
   "id": "d094f483",
   "metadata": {
    "execution": {
     "iopub.execute_input": "2023-06-05T19:26:39.315598Z",
     "iopub.status.busy": "2023-06-05T19:26:39.315128Z",
     "iopub.status.idle": "2023-06-05T19:26:41.073819Z",
     "shell.execute_reply": "2023-06-05T19:26:41.072812Z"
    },
    "papermill": {
     "duration": 1.768014,
     "end_time": "2023-06-05T19:26:41.077342",
     "exception": false,
     "start_time": "2023-06-05T19:26:39.309328",
     "status": "completed"
    },
    "tags": []
   },
   "outputs": [],
   "source": [
    "from sklearn.model_selection import train_test_split\n",
    "X_train,X_test,y_train,y_test=train_test_split(X,y,test_size=100,random_state=42)"
   ]
  },
  {
   "cell_type": "code",
   "execution_count": 6,
   "id": "e947fa09",
   "metadata": {
    "execution": {
     "iopub.execute_input": "2023-06-05T19:26:41.089157Z",
     "iopub.status.busy": "2023-06-05T19:26:41.087912Z",
     "iopub.status.idle": "2023-06-05T19:26:41.122542Z",
     "shell.execute_reply": "2023-06-05T19:26:41.120595Z"
    },
    "papermill": {
     "duration": 0.04398,
     "end_time": "2023-06-05T19:26:41.125813",
     "exception": false,
     "start_time": "2023-06-05T19:26:41.081833",
     "status": "completed"
    },
    "tags": []
   },
   "outputs": [
    {
     "data": {
      "text/html": [
       "<div>\n",
       "<style scoped>\n",
       "    .dataframe tbody tr th:only-of-type {\n",
       "        vertical-align: middle;\n",
       "    }\n",
       "\n",
       "    .dataframe tbody tr th {\n",
       "        vertical-align: top;\n",
       "    }\n",
       "\n",
       "    .dataframe thead th {\n",
       "        text-align: right;\n",
       "    }\n",
       "</style>\n",
       "<table border=\"1\" class=\"dataframe\">\n",
       "  <thead>\n",
       "    <tr style=\"text-align: right;\">\n",
       "      <th></th>\n",
       "      <th>Buying_Price</th>\n",
       "      <th>Maintenance_Price</th>\n",
       "      <th>No_of_Doors</th>\n",
       "      <th>Person_Capacity</th>\n",
       "      <th>Size_of_Luggage</th>\n",
       "      <th>Safety</th>\n",
       "    </tr>\n",
       "  </thead>\n",
       "  <tbody>\n",
       "    <tr>\n",
       "      <th>70</th>\n",
       "      <td>vhigh</td>\n",
       "      <td>vhigh</td>\n",
       "      <td>4</td>\n",
       "      <td>4</td>\n",
       "      <td>big</td>\n",
       "      <td>med</td>\n",
       "    </tr>\n",
       "    <tr>\n",
       "      <th>29</th>\n",
       "      <td>vhigh</td>\n",
       "      <td>vhigh</td>\n",
       "      <td>3</td>\n",
       "      <td>2</td>\n",
       "      <td>small</td>\n",
       "      <td>high</td>\n",
       "    </tr>\n",
       "    <tr>\n",
       "      <th>1540</th>\n",
       "      <td>low</td>\n",
       "      <td>med</td>\n",
       "      <td>3</td>\n",
       "      <td>2</td>\n",
       "      <td>small</td>\n",
       "      <td>med</td>\n",
       "    </tr>\n",
       "    <tr>\n",
       "      <th>69</th>\n",
       "      <td>vhigh</td>\n",
       "      <td>vhigh</td>\n",
       "      <td>4</td>\n",
       "      <td>4</td>\n",
       "      <td>big</td>\n",
       "      <td>low</td>\n",
       "    </tr>\n",
       "    <tr>\n",
       "      <th>1228</th>\n",
       "      <td>med</td>\n",
       "      <td>low</td>\n",
       "      <td>3</td>\n",
       "      <td>4</td>\n",
       "      <td>med</td>\n",
       "      <td>med</td>\n",
       "    </tr>\n",
       "  </tbody>\n",
       "</table>\n",
       "</div>"
      ],
      "text/plain": [
       "     Buying_Price Maintenance_Price No_of_Doors Person_Capacity  \\\n",
       "70          vhigh             vhigh           4               4   \n",
       "29          vhigh             vhigh           3               2   \n",
       "1540          low               med           3               2   \n",
       "69          vhigh             vhigh           4               4   \n",
       "1228          med               low           3               4   \n",
       "\n",
       "     Size_of_Luggage Safety  \n",
       "70               big    med  \n",
       "29             small   high  \n",
       "1540           small    med  \n",
       "69               big    low  \n",
       "1228             med    med  "
      ]
     },
     "execution_count": 6,
     "metadata": {},
     "output_type": "execute_result"
    }
   ],
   "source": [
    "X_train.head()"
   ]
  },
  {
   "cell_type": "code",
   "execution_count": 7,
   "id": "faa33041",
   "metadata": {
    "execution": {
     "iopub.execute_input": "2023-06-05T19:26:41.137324Z",
     "iopub.status.busy": "2023-06-05T19:26:41.136874Z",
     "iopub.status.idle": "2023-06-05T19:26:41.153648Z",
     "shell.execute_reply": "2023-06-05T19:26:41.151621Z"
    },
    "papermill": {
     "duration": 0.025479,
     "end_time": "2023-06-05T19:26:41.156145",
     "exception": false,
     "start_time": "2023-06-05T19:26:41.130666",
     "status": "completed"
    },
    "tags": []
   },
   "outputs": [
    {
     "name": "stdout",
     "output_type": "stream",
     "text": [
      "Buying_Price ['high' 'low' 'med' 'vhigh']\n",
      "Maintenance_Price ['high' 'low' 'med' 'vhigh']\n",
      "No_of_Doors ['2' '3' '4' '5more']\n",
      "Person_Capacity ['2' '4' 'more']\n",
      "Size_of_Luggage ['big' 'med' 'small']\n",
      "Safety ['high' 'low' 'med']\n",
      "Car_Acceptability ['acc' 'good' 'unacc' 'vgood']\n"
     ]
    }
   ],
   "source": [
    "for key in cars.keys():\n",
    "    print(key,np.unique(cars[key]))"
   ]
  },
  {
   "cell_type": "code",
   "execution_count": 8,
   "id": "ebe42694",
   "metadata": {
    "execution": {
     "iopub.execute_input": "2023-06-05T19:26:41.168572Z",
     "iopub.status.busy": "2023-06-05T19:26:41.167158Z",
     "iopub.status.idle": "2023-06-05T19:26:58.203755Z",
     "shell.execute_reply": "2023-06-05T19:26:58.202393Z"
    },
    "papermill": {
     "duration": 17.045704,
     "end_time": "2023-06-05T19:26:58.206726",
     "exception": false,
     "start_time": "2023-06-05T19:26:41.161022",
     "status": "completed"
    },
    "tags": []
   },
   "outputs": [
    {
     "data": {
      "text/plain": [
       "<catboost.core.CatBoostClassifier at 0x7cc840dde950>"
      ]
     },
     "execution_count": 8,
     "metadata": {},
     "output_type": "execute_result"
    }
   ],
   "source": [
    "from catboost import CatBoostClassifier\n",
    "clf = CatBoostClassifier()\n",
    "clf.fit(X_train,y_train,cat_features=range(0,6),verbose=False)"
   ]
  },
  {
   "cell_type": "code",
   "execution_count": 9,
   "id": "5442929f",
   "metadata": {
    "execution": {
     "iopub.execute_input": "2023-06-05T19:26:58.219435Z",
     "iopub.status.busy": "2023-06-05T19:26:58.218901Z",
     "iopub.status.idle": "2023-06-05T19:26:58.233999Z",
     "shell.execute_reply": "2023-06-05T19:26:58.232741Z"
    },
    "papermill": {
     "duration": 0.02453,
     "end_time": "2023-06-05T19:26:58.236494",
     "exception": false,
     "start_time": "2023-06-05T19:26:58.211964",
     "status": "completed"
    },
    "tags": []
   },
   "outputs": [
    {
     "data": {
      "text/plain": [
       "0.99"
      ]
     },
     "execution_count": 9,
     "metadata": {},
     "output_type": "execute_result"
    }
   ],
   "source": [
    "from sklearn.metrics import accuracy_score\n",
    "accuracy_score(y_test,clf.predict(X_test))"
   ]
  },
  {
   "cell_type": "code",
   "execution_count": null,
   "id": "886978a0",
   "metadata": {
    "papermill": {
     "duration": 0.00502,
     "end_time": "2023-06-05T19:26:58.246573",
     "exception": false,
     "start_time": "2023-06-05T19:26:58.241553",
     "status": "completed"
    },
    "tags": []
   },
   "outputs": [],
   "source": []
  }
 ],
 "metadata": {
  "kernelspec": {
   "display_name": "Python 3",
   "language": "python",
   "name": "python3"
  },
  "language_info": {
   "codemirror_mode": {
    "name": "ipython",
    "version": 3
   },
   "file_extension": ".py",
   "mimetype": "text/x-python",
   "name": "python",
   "nbconvert_exporter": "python",
   "pygments_lexer": "ipython3",
   "version": "3.10.10"
  },
  "papermill": {
   "default_parameters": {},
   "duration": 37.068292,
   "end_time": "2023-06-05T19:26:59.479003",
   "environment_variables": {},
   "exception": null,
   "input_path": "__notebook__.ipynb",
   "output_path": "__notebook__.ipynb",
   "parameters": {},
   "start_time": "2023-06-05T19:26:22.410711",
   "version": "2.4.0"
  }
 },
 "nbformat": 4,
 "nbformat_minor": 5
}
