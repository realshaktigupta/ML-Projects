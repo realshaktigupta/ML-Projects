{
 "cells": [
  {
   "cell_type": "markdown",
   "id": "7c967f94",
   "metadata": {
    "papermill": {
     "duration": 0.006086,
     "end_time": "2023-06-05T19:50:53.893123",
     "exception": false,
     "start_time": "2023-06-05T19:50:53.887037",
     "status": "completed"
    },
    "tags": []
   },
   "source": [
    "# Car Acceptability Classifier with 99% Accuracy "
   ]
  },
  {
   "cell_type": "markdown",
   "id": "8e9feb2b",
   "metadata": {
    "papermill": {
     "duration": 0.005221,
     "end_time": "2023-06-05T19:50:53.904257",
     "exception": false,
     "start_time": "2023-06-05T19:50:53.899036",
     "status": "completed"
    },
    "tags": []
   },
   "source": [
    "We are trying to develop a classifier that classifies cars into 4 different categories related to acceptance by consumers. The dataset is entirely categorical so this is a slightly different project than an usual classifier project where the training data has atleast a few numerical features."
   ]
  },
  {
   "cell_type": "markdown",
   "id": "5d9f825d",
   "metadata": {
    "papermill": {
     "duration": 0.005273,
     "end_time": "2023-06-05T19:50:53.915073",
     "exception": false,
     "start_time": "2023-06-05T19:50:53.909800",
     "status": "completed"
    },
    "tags": []
   },
   "source": [
    "* [1. Why we will use CatBoost instead of OneHotEncoding](#one)\n",
    "* [2.Importing,Examining and Preparing the data ](#two)\n",
    "* [3.Training and Testing the model ](#three)"
   ]
  },
  {
   "cell_type": "code",
   "execution_count": 1,
   "id": "5baad7db",
   "metadata": {
    "_cell_guid": "b1076dfc-b9ad-4769-8c92-a6c4dae69d19",
    "_kg_hide-input": true,
    "_kg_hide-output": false,
    "_uuid": "8f2839f25d086af736a60e9eeb907d3b93b6e0e5",
    "execution": {
     "iopub.execute_input": "2023-06-05T19:50:53.927878Z",
     "iopub.status.busy": "2023-06-05T19:50:53.927350Z",
     "iopub.status.idle": "2023-06-05T19:50:53.952906Z",
     "shell.execute_reply": "2023-06-05T19:50:53.951739Z"
    },
    "papermill": {
     "duration": 0.035224,
     "end_time": "2023-06-05T19:50:53.955728",
     "exception": false,
     "start_time": "2023-06-05T19:50:53.920504",
     "status": "completed"
    },
    "tags": []
   },
   "outputs": [
    {
     "name": "stdout",
     "output_type": "stream",
     "text": [
      "/kaggle/input/car-acceptability-classification-dataset/car.csv\n",
      "/kaggle/input/car-acceptability-classification-dataset/car.data\n"
     ]
    }
   ],
   "source": [
    "# This Python 3 environment comes with many helpful analytics libraries installed\n",
    "# It is defined by the kaggle/python Docker image: https://github.com/kaggle/docker-python\n",
    "# For example, here's several helpful packages to load\n",
    "\n",
    "import numpy as np # linear algebra\n",
    "import pandas as pd # data processing, CSV file I/O (e.g. pd.read_csv)\n",
    "\n",
    "# Input data files are available in the read-only \"../input/\" directory\n",
    "# For example, running this (by clicking run or pressing Shift+Enter) will list all files under the input directory\n",
    "\n",
    "import os\n",
    "for dirname, _, filenames in os.walk('/kaggle/input'):\n",
    "    for filename in filenames:\n",
    "        print(os.path.join(dirname, filename))\n",
    "\n",
    "# You can write up to 20GB to the current directory (/kaggle/working/) that gets preserved as output when you create a version using \"Save & Run All\" \n",
    "# You can also write temporary files to /kaggle/temp/, but they won't be saved outside of the current session"
   ]
  },
  {
   "cell_type": "markdown",
   "id": "13a19f62",
   "metadata": {
    "papermill": {
     "duration": 0.005512,
     "end_time": "2023-06-05T19:50:53.966976",
     "exception": false,
     "start_time": "2023-06-05T19:50:53.961464",
     "status": "completed"
    },
    "tags": []
   },
   "source": [
    "## 1. Why we will use CatBoost instead of OneHotEncoding <a class='one'></a>"
   ]
  },
  {
   "cell_type": "markdown",
   "id": "051bf020",
   "metadata": {
    "papermill": {
     "duration": 0.005432,
     "end_time": "2023-06-05T19:50:53.978024",
     "exception": false,
     "start_time": "2023-06-05T19:50:53.972592",
     "status": "completed"
    },
    "tags": []
   },
   "source": [
    "We will be working on a categorical dataset for this classification project. Now, OneHotEncoding might be a simple and good way to handle categorical attributes but it's not too good. The problem with OneHotEncoding is that it if the number of categories becomes too large, a feature explosion happens,increasing the dimensionality of the data at times exponentially.  \n",
    "For example,if a column has say 50 categories, then that means an addition of 49 columns to the dataset for only that column.\n",
    "\n",
    "To get around this problem and handle categorical attributes efficiently, CatBoost was developed. We will be using CatBoost in this project and as we will see, it works really accurately as well and fits the data nicely."
   ]
  },
  {
   "cell_type": "markdown",
   "id": "8df1cb57",
   "metadata": {
    "papermill": {
     "duration": 0.005313,
     "end_time": "2023-06-05T19:50:53.988883",
     "exception": false,
     "start_time": "2023-06-05T19:50:53.983570",
     "status": "completed"
    },
    "tags": []
   },
   "source": [
    "## 2.Importing,Examining and Preparing the data <a class='two'><a/>"
   ]
  },
  {
   "cell_type": "code",
   "execution_count": 2,
   "id": "e377b930",
   "metadata": {
    "_kg_hide-input": false,
    "execution": {
     "iopub.execute_input": "2023-06-05T19:50:54.003370Z",
     "iopub.status.busy": "2023-06-05T19:50:54.003004Z",
     "iopub.status.idle": "2023-06-05T19:50:54.031971Z",
     "shell.execute_reply": "2023-06-05T19:50:54.031001Z"
    },
    "papermill": {
     "duration": 0.038778,
     "end_time": "2023-06-05T19:50:54.034744",
     "exception": false,
     "start_time": "2023-06-05T19:50:53.995966",
     "status": "completed"
    },
    "tags": []
   },
   "outputs": [],
   "source": [
    "cars=pd.read_csv(\"/kaggle/input/car-acceptability-classification-dataset/car.csv\")"
   ]
  },
  {
   "cell_type": "code",
   "execution_count": 3,
   "id": "17669216",
   "metadata": {
    "execution": {
     "iopub.execute_input": "2023-06-05T19:50:54.048615Z",
     "iopub.status.busy": "2023-06-05T19:50:54.047689Z",
     "iopub.status.idle": "2023-06-05T19:50:54.089428Z",
     "shell.execute_reply": "2023-06-05T19:50:54.088429Z"
    },
    "papermill": {
     "duration": 0.051684,
     "end_time": "2023-06-05T19:50:54.092213",
     "exception": false,
     "start_time": "2023-06-05T19:50:54.040529",
     "status": "completed"
    },
    "tags": []
   },
   "outputs": [
    {
     "name": "stdout",
     "output_type": "stream",
     "text": [
      "<class 'pandas.core.frame.DataFrame'>\n",
      "RangeIndex: 1728 entries, 0 to 1727\n",
      "Data columns (total 7 columns):\n",
      " #   Column             Non-Null Count  Dtype \n",
      "---  ------             --------------  ----- \n",
      " 0   Buying_Price       1728 non-null   object\n",
      " 1   Maintenance_Price  1728 non-null   object\n",
      " 2   No_of_Doors        1728 non-null   object\n",
      " 3   Person_Capacity    1728 non-null   object\n",
      " 4   Size_of_Luggage    1728 non-null   object\n",
      " 5   Safety             1728 non-null   object\n",
      " 6   Car_Acceptability  1728 non-null   object\n",
      "dtypes: object(7)\n",
      "memory usage: 94.6+ KB\n"
     ]
    }
   ],
   "source": [
    "cars.info()"
   ]
  },
  {
   "cell_type": "code",
   "execution_count": 4,
   "id": "c69faf30",
   "metadata": {
    "execution": {
     "iopub.execute_input": "2023-06-05T19:50:54.106321Z",
     "iopub.status.busy": "2023-06-05T19:50:54.105944Z",
     "iopub.status.idle": "2023-06-05T19:50:54.121438Z",
     "shell.execute_reply": "2023-06-05T19:50:54.120240Z"
    },
    "papermill": {
     "duration": 0.025776,
     "end_time": "2023-06-05T19:50:54.123950",
     "exception": false,
     "start_time": "2023-06-05T19:50:54.098174",
     "status": "completed"
    },
    "tags": []
   },
   "outputs": [
    {
     "name": "stdout",
     "output_type": "stream",
     "text": [
      "Buying_Price ['high' 'low' 'med' 'vhigh']\n",
      "Maintenance_Price ['high' 'low' 'med' 'vhigh']\n",
      "No_of_Doors ['2' '3' '4' '5more']\n",
      "Person_Capacity ['2' '4' 'more']\n",
      "Size_of_Luggage ['big' 'med' 'small']\n",
      "Safety ['high' 'low' 'med']\n",
      "Car_Acceptability ['acc' 'good' 'unacc' 'vgood']\n"
     ]
    }
   ],
   "source": [
    "for key in cars.keys():\n",
    "    print(key,np.unique(cars[key]))"
   ]
  },
  {
   "cell_type": "code",
   "execution_count": 5,
   "id": "548bbd5c",
   "metadata": {
    "execution": {
     "iopub.execute_input": "2023-06-05T19:50:54.137545Z",
     "iopub.status.busy": "2023-06-05T19:50:54.137115Z",
     "iopub.status.idle": "2023-06-05T19:50:54.145176Z",
     "shell.execute_reply": "2023-06-05T19:50:54.143702Z"
    },
    "papermill": {
     "duration": 0.018126,
     "end_time": "2023-06-05T19:50:54.147870",
     "exception": false,
     "start_time": "2023-06-05T19:50:54.129744",
     "status": "completed"
    },
    "tags": []
   },
   "outputs": [],
   "source": [
    "X=cars.drop(\"Car_Acceptability\",axis=1)\n",
    "y=cars.Car_Acceptability"
   ]
  },
  {
   "cell_type": "code",
   "execution_count": 6,
   "id": "a011772f",
   "metadata": {
    "execution": {
     "iopub.execute_input": "2023-06-05T19:50:54.162180Z",
     "iopub.status.busy": "2023-06-05T19:50:54.161672Z",
     "iopub.status.idle": "2023-06-05T19:50:55.832340Z",
     "shell.execute_reply": "2023-06-05T19:50:55.830944Z"
    },
    "papermill": {
     "duration": 1.681545,
     "end_time": "2023-06-05T19:50:55.835428",
     "exception": false,
     "start_time": "2023-06-05T19:50:54.153883",
     "status": "completed"
    },
    "tags": []
   },
   "outputs": [],
   "source": [
    "from sklearn.model_selection import train_test_split\n",
    "X_train,X_test,y_train,y_test=train_test_split(X,y,test_size=100,random_state=42)"
   ]
  },
  {
   "cell_type": "code",
   "execution_count": 7,
   "id": "7cf6766f",
   "metadata": {
    "execution": {
     "iopub.execute_input": "2023-06-05T19:50:55.849389Z",
     "iopub.status.busy": "2023-06-05T19:50:55.848962Z",
     "iopub.status.idle": "2023-06-05T19:50:55.879378Z",
     "shell.execute_reply": "2023-06-05T19:50:55.878196Z"
    },
    "papermill": {
     "duration": 0.040239,
     "end_time": "2023-06-05T19:50:55.881840",
     "exception": false,
     "start_time": "2023-06-05T19:50:55.841601",
     "status": "completed"
    },
    "tags": []
   },
   "outputs": [
    {
     "data": {
      "text/html": [
       "<div>\n",
       "<style scoped>\n",
       "    .dataframe tbody tr th:only-of-type {\n",
       "        vertical-align: middle;\n",
       "    }\n",
       "\n",
       "    .dataframe tbody tr th {\n",
       "        vertical-align: top;\n",
       "    }\n",
       "\n",
       "    .dataframe thead th {\n",
       "        text-align: right;\n",
       "    }\n",
       "</style>\n",
       "<table border=\"1\" class=\"dataframe\">\n",
       "  <thead>\n",
       "    <tr style=\"text-align: right;\">\n",
       "      <th></th>\n",
       "      <th>Buying_Price</th>\n",
       "      <th>Maintenance_Price</th>\n",
       "      <th>No_of_Doors</th>\n",
       "      <th>Person_Capacity</th>\n",
       "      <th>Size_of_Luggage</th>\n",
       "      <th>Safety</th>\n",
       "    </tr>\n",
       "  </thead>\n",
       "  <tbody>\n",
       "    <tr>\n",
       "      <th>70</th>\n",
       "      <td>vhigh</td>\n",
       "      <td>vhigh</td>\n",
       "      <td>4</td>\n",
       "      <td>4</td>\n",
       "      <td>big</td>\n",
       "      <td>med</td>\n",
       "    </tr>\n",
       "    <tr>\n",
       "      <th>29</th>\n",
       "      <td>vhigh</td>\n",
       "      <td>vhigh</td>\n",
       "      <td>3</td>\n",
       "      <td>2</td>\n",
       "      <td>small</td>\n",
       "      <td>high</td>\n",
       "    </tr>\n",
       "    <tr>\n",
       "      <th>1540</th>\n",
       "      <td>low</td>\n",
       "      <td>med</td>\n",
       "      <td>3</td>\n",
       "      <td>2</td>\n",
       "      <td>small</td>\n",
       "      <td>med</td>\n",
       "    </tr>\n",
       "    <tr>\n",
       "      <th>69</th>\n",
       "      <td>vhigh</td>\n",
       "      <td>vhigh</td>\n",
       "      <td>4</td>\n",
       "      <td>4</td>\n",
       "      <td>big</td>\n",
       "      <td>low</td>\n",
       "    </tr>\n",
       "    <tr>\n",
       "      <th>1228</th>\n",
       "      <td>med</td>\n",
       "      <td>low</td>\n",
       "      <td>3</td>\n",
       "      <td>4</td>\n",
       "      <td>med</td>\n",
       "      <td>med</td>\n",
       "    </tr>\n",
       "  </tbody>\n",
       "</table>\n",
       "</div>"
      ],
      "text/plain": [
       "     Buying_Price Maintenance_Price No_of_Doors Person_Capacity  \\\n",
       "70          vhigh             vhigh           4               4   \n",
       "29          vhigh             vhigh           3               2   \n",
       "1540          low               med           3               2   \n",
       "69          vhigh             vhigh           4               4   \n",
       "1228          med               low           3               4   \n",
       "\n",
       "     Size_of_Luggage Safety  \n",
       "70               big    med  \n",
       "29             small   high  \n",
       "1540           small    med  \n",
       "69               big    low  \n",
       "1228             med    med  "
      ]
     },
     "execution_count": 7,
     "metadata": {},
     "output_type": "execute_result"
    }
   ],
   "source": [
    "X_train.head()"
   ]
  },
  {
   "cell_type": "markdown",
   "id": "85f0d204",
   "metadata": {
    "papermill": {
     "duration": 0.006007,
     "end_time": "2023-06-05T19:50:55.894046",
     "exception": false,
     "start_time": "2023-06-05T19:50:55.888039",
     "status": "completed"
    },
    "tags": []
   },
   "source": [
    "## 3.Training and Testing the model <a class='three'></a>"
   ]
  },
  {
   "cell_type": "code",
   "execution_count": 8,
   "id": "65fbf2f3",
   "metadata": {
    "execution": {
     "iopub.execute_input": "2023-06-05T19:50:55.908121Z",
     "iopub.status.busy": "2023-06-05T19:50:55.907692Z",
     "iopub.status.idle": "2023-06-05T19:51:12.851548Z",
     "shell.execute_reply": "2023-06-05T19:51:12.849610Z"
    },
    "papermill": {
     "duration": 16.954762,
     "end_time": "2023-06-05T19:51:12.854914",
     "exception": false,
     "start_time": "2023-06-05T19:50:55.900152",
     "status": "completed"
    },
    "tags": []
   },
   "outputs": [
    {
     "data": {
      "text/plain": [
       "<catboost.core.CatBoostClassifier at 0x7ad252ddea10>"
      ]
     },
     "execution_count": 8,
     "metadata": {},
     "output_type": "execute_result"
    }
   ],
   "source": [
    "from catboost import CatBoostClassifier\n",
    "clf = CatBoostClassifier()\n",
    "clf.fit(X_train,y_train,cat_features=range(0,6),verbose=False)"
   ]
  },
  {
   "cell_type": "code",
   "execution_count": 9,
   "id": "2f4e4b5e",
   "metadata": {
    "execution": {
     "iopub.execute_input": "2023-06-05T19:51:12.870190Z",
     "iopub.status.busy": "2023-06-05T19:51:12.869318Z",
     "iopub.status.idle": "2023-06-05T19:51:12.886944Z",
     "shell.execute_reply": "2023-06-05T19:51:12.884833Z"
    },
    "papermill": {
     "duration": 0.028952,
     "end_time": "2023-06-05T19:51:12.890435",
     "exception": false,
     "start_time": "2023-06-05T19:51:12.861483",
     "status": "completed"
    },
    "tags": []
   },
   "outputs": [
    {
     "data": {
      "text/plain": [
       "0.99"
      ]
     },
     "execution_count": 9,
     "metadata": {},
     "output_type": "execute_result"
    }
   ],
   "source": [
    "from sklearn.metrics import accuracy_score\n",
    "accuracy_score(y_test,clf.predict(X_test))"
   ]
  },
  {
   "cell_type": "code",
   "execution_count": null,
   "id": "e3466671",
   "metadata": {
    "papermill": {
     "duration": 0.006121,
     "end_time": "2023-06-05T19:51:12.903219",
     "exception": false,
     "start_time": "2023-06-05T19:51:12.897098",
     "status": "completed"
    },
    "tags": []
   },
   "outputs": [],
   "source": []
  }
 ],
 "metadata": {
  "kernelspec": {
   "display_name": "Python 3",
   "language": "python",
   "name": "python3"
  },
  "language_info": {
   "codemirror_mode": {
    "name": "ipython",
    "version": 3
   },
   "file_extension": ".py",
   "mimetype": "text/x-python",
   "name": "python",
   "nbconvert_exporter": "python",
   "pygments_lexer": "ipython3",
   "version": "3.10.10"
  },
  "papermill": {
   "default_parameters": {},
   "duration": 33.779055,
   "end_time": "2023-06-05T19:51:14.033634",
   "environment_variables": {},
   "exception": null,
   "input_path": "__notebook__.ipynb",
   "output_path": "__notebook__.ipynb",
   "parameters": {},
   "start_time": "2023-06-05T19:50:40.254579",
   "version": "2.4.0"
  }
 },
 "nbformat": 4,
 "nbformat_minor": 5
}
