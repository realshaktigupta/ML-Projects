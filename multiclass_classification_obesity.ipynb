{
 "cells": [
  {
   "cell_type": "code",
   "execution_count": 1,
   "id": "a7cd3668",
   "metadata": {
    "_cell_guid": "b1076dfc-b9ad-4769-8c92-a6c4dae69d19",
    "_uuid": "8f2839f25d086af736a60e9eeb907d3b93b6e0e5",
    "execution": {
     "iopub.execute_input": "2024-02-05T14:06:42.711534Z",
     "iopub.status.busy": "2024-02-05T14:06:42.711107Z",
     "iopub.status.idle": "2024-02-05T14:06:46.721832Z",
     "shell.execute_reply": "2024-02-05T14:06:46.720563Z"
    },
    "papermill": {
     "duration": 4.024841,
     "end_time": "2024-02-05T14:06:46.724828",
     "exception": false,
     "start_time": "2024-02-05T14:06:42.699987",
     "status": "completed"
    },
    "tags": []
   },
   "outputs": [],
   "source": [
    "import numpy as np\n",
    "import pandas as pd\n",
    "import tqdm as tqdm\n",
    "from sklearn.preprocessing import StandardScaler\n",
    "from xgboost import XGBClassifier\n",
    "from sklearn.model_selection import train_test_split\n",
    "from sklearn.metrics import confusion_matrix, roc_auc_score, classification_report, accuracy_score\n",
    "import gc\n",
    "from lightgbm import LGBMClassifier"
   ]
  },
  {
   "cell_type": "code",
   "execution_count": 2,
   "id": "b51c6194",
   "metadata": {
    "execution": {
     "iopub.execute_input": "2024-02-05T14:06:46.745099Z",
     "iopub.status.busy": "2024-02-05T14:06:46.744147Z",
     "iopub.status.idle": "2024-02-05T14:06:46.890379Z",
     "shell.execute_reply": "2024-02-05T14:06:46.889206Z"
    },
    "papermill": {
     "duration": 0.159102,
     "end_time": "2024-02-05T14:06:46.892926",
     "exception": false,
     "start_time": "2024-02-05T14:06:46.733824",
     "status": "completed"
    },
    "tags": []
   },
   "outputs": [
    {
     "data": {
      "text/html": [
       "<div>\n",
       "<style scoped>\n",
       "    .dataframe tbody tr th:only-of-type {\n",
       "        vertical-align: middle;\n",
       "    }\n",
       "\n",
       "    .dataframe tbody tr th {\n",
       "        vertical-align: top;\n",
       "    }\n",
       "\n",
       "    .dataframe thead th {\n",
       "        text-align: right;\n",
       "    }\n",
       "</style>\n",
       "<table border=\"1\" class=\"dataframe\">\n",
       "  <thead>\n",
       "    <tr style=\"text-align: right;\">\n",
       "      <th></th>\n",
       "      <th>id</th>\n",
       "      <th>Gender</th>\n",
       "      <th>Age</th>\n",
       "      <th>Height</th>\n",
       "      <th>Weight</th>\n",
       "      <th>family_history_with_overweight</th>\n",
       "      <th>FAVC</th>\n",
       "      <th>FCVC</th>\n",
       "      <th>NCP</th>\n",
       "      <th>CAEC</th>\n",
       "      <th>SMOKE</th>\n",
       "      <th>CH2O</th>\n",
       "      <th>SCC</th>\n",
       "      <th>FAF</th>\n",
       "      <th>TUE</th>\n",
       "      <th>CALC</th>\n",
       "      <th>MTRANS</th>\n",
       "      <th>NObeyesdad</th>\n",
       "    </tr>\n",
       "  </thead>\n",
       "  <tbody>\n",
       "    <tr>\n",
       "      <th>0</th>\n",
       "      <td>0</td>\n",
       "      <td>Male</td>\n",
       "      <td>24.443011</td>\n",
       "      <td>1.699998</td>\n",
       "      <td>81.669950</td>\n",
       "      <td>yes</td>\n",
       "      <td>yes</td>\n",
       "      <td>2.000000</td>\n",
       "      <td>2.983297</td>\n",
       "      <td>Sometimes</td>\n",
       "      <td>no</td>\n",
       "      <td>2.763573</td>\n",
       "      <td>no</td>\n",
       "      <td>0.000000</td>\n",
       "      <td>0.976473</td>\n",
       "      <td>Sometimes</td>\n",
       "      <td>Public_Transportation</td>\n",
       "      <td>Overweight_Level_II</td>\n",
       "    </tr>\n",
       "    <tr>\n",
       "      <th>1</th>\n",
       "      <td>1</td>\n",
       "      <td>Female</td>\n",
       "      <td>18.000000</td>\n",
       "      <td>1.560000</td>\n",
       "      <td>57.000000</td>\n",
       "      <td>yes</td>\n",
       "      <td>yes</td>\n",
       "      <td>2.000000</td>\n",
       "      <td>3.000000</td>\n",
       "      <td>Frequently</td>\n",
       "      <td>no</td>\n",
       "      <td>2.000000</td>\n",
       "      <td>no</td>\n",
       "      <td>1.000000</td>\n",
       "      <td>1.000000</td>\n",
       "      <td>no</td>\n",
       "      <td>Automobile</td>\n",
       "      <td>Normal_Weight</td>\n",
       "    </tr>\n",
       "    <tr>\n",
       "      <th>2</th>\n",
       "      <td>2</td>\n",
       "      <td>Female</td>\n",
       "      <td>18.000000</td>\n",
       "      <td>1.711460</td>\n",
       "      <td>50.165754</td>\n",
       "      <td>yes</td>\n",
       "      <td>yes</td>\n",
       "      <td>1.880534</td>\n",
       "      <td>1.411685</td>\n",
       "      <td>Sometimes</td>\n",
       "      <td>no</td>\n",
       "      <td>1.910378</td>\n",
       "      <td>no</td>\n",
       "      <td>0.866045</td>\n",
       "      <td>1.673584</td>\n",
       "      <td>no</td>\n",
       "      <td>Public_Transportation</td>\n",
       "      <td>Insufficient_Weight</td>\n",
       "    </tr>\n",
       "    <tr>\n",
       "      <th>3</th>\n",
       "      <td>3</td>\n",
       "      <td>Female</td>\n",
       "      <td>20.952737</td>\n",
       "      <td>1.710730</td>\n",
       "      <td>131.274851</td>\n",
       "      <td>yes</td>\n",
       "      <td>yes</td>\n",
       "      <td>3.000000</td>\n",
       "      <td>3.000000</td>\n",
       "      <td>Sometimes</td>\n",
       "      <td>no</td>\n",
       "      <td>1.674061</td>\n",
       "      <td>no</td>\n",
       "      <td>1.467863</td>\n",
       "      <td>0.780199</td>\n",
       "      <td>Sometimes</td>\n",
       "      <td>Public_Transportation</td>\n",
       "      <td>Obesity_Type_III</td>\n",
       "    </tr>\n",
       "    <tr>\n",
       "      <th>4</th>\n",
       "      <td>4</td>\n",
       "      <td>Male</td>\n",
       "      <td>31.641081</td>\n",
       "      <td>1.914186</td>\n",
       "      <td>93.798055</td>\n",
       "      <td>yes</td>\n",
       "      <td>yes</td>\n",
       "      <td>2.679664</td>\n",
       "      <td>1.971472</td>\n",
       "      <td>Sometimes</td>\n",
       "      <td>no</td>\n",
       "      <td>1.979848</td>\n",
       "      <td>no</td>\n",
       "      <td>1.967973</td>\n",
       "      <td>0.931721</td>\n",
       "      <td>Sometimes</td>\n",
       "      <td>Public_Transportation</td>\n",
       "      <td>Overweight_Level_II</td>\n",
       "    </tr>\n",
       "  </tbody>\n",
       "</table>\n",
       "</div>"
      ],
      "text/plain": [
       "   id  Gender        Age    Height      Weight family_history_with_overweight  \\\n",
       "0   0    Male  24.443011  1.699998   81.669950                            yes   \n",
       "1   1  Female  18.000000  1.560000   57.000000                            yes   \n",
       "2   2  Female  18.000000  1.711460   50.165754                            yes   \n",
       "3   3  Female  20.952737  1.710730  131.274851                            yes   \n",
       "4   4    Male  31.641081  1.914186   93.798055                            yes   \n",
       "\n",
       "  FAVC      FCVC       NCP        CAEC SMOKE      CH2O SCC       FAF  \\\n",
       "0  yes  2.000000  2.983297   Sometimes    no  2.763573  no  0.000000   \n",
       "1  yes  2.000000  3.000000  Frequently    no  2.000000  no  1.000000   \n",
       "2  yes  1.880534  1.411685   Sometimes    no  1.910378  no  0.866045   \n",
       "3  yes  3.000000  3.000000   Sometimes    no  1.674061  no  1.467863   \n",
       "4  yes  2.679664  1.971472   Sometimes    no  1.979848  no  1.967973   \n",
       "\n",
       "        TUE       CALC                 MTRANS           NObeyesdad  \n",
       "0  0.976473  Sometimes  Public_Transportation  Overweight_Level_II  \n",
       "1  1.000000         no             Automobile        Normal_Weight  \n",
       "2  1.673584         no  Public_Transportation  Insufficient_Weight  \n",
       "3  0.780199  Sometimes  Public_Transportation     Obesity_Type_III  \n",
       "4  0.931721  Sometimes  Public_Transportation  Overweight_Level_II  "
      ]
     },
     "execution_count": 2,
     "metadata": {},
     "output_type": "execute_result"
    }
   ],
   "source": [
    "train = pd.read_csv(\"/kaggle/input/playground-series-s4e2/train.csv\")\n",
    "train.head(5)"
   ]
  },
  {
   "cell_type": "code",
   "execution_count": 3,
   "id": "508c27f3",
   "metadata": {
    "execution": {
     "iopub.execute_input": "2024-02-05T14:06:46.913824Z",
     "iopub.status.busy": "2024-02-05T14:06:46.912708Z",
     "iopub.status.idle": "2024-02-05T14:06:46.965555Z",
     "shell.execute_reply": "2024-02-05T14:06:46.964332Z"
    },
    "papermill": {
     "duration": 0.066295,
     "end_time": "2024-02-05T14:06:46.968328",
     "exception": false,
     "start_time": "2024-02-05T14:06:46.902033",
     "status": "completed"
    },
    "tags": []
   },
   "outputs": [
    {
     "name": "stdout",
     "output_type": "stream",
     "text": [
      "<class 'pandas.core.frame.DataFrame'>\n",
      "RangeIndex: 20758 entries, 0 to 20757\n",
      "Data columns (total 18 columns):\n",
      " #   Column                          Non-Null Count  Dtype  \n",
      "---  ------                          --------------  -----  \n",
      " 0   id                              20758 non-null  int64  \n",
      " 1   Gender                          20758 non-null  object \n",
      " 2   Age                             20758 non-null  float64\n",
      " 3   Height                          20758 non-null  float64\n",
      " 4   Weight                          20758 non-null  float64\n",
      " 5   family_history_with_overweight  20758 non-null  object \n",
      " 6   FAVC                            20758 non-null  object \n",
      " 7   FCVC                            20758 non-null  float64\n",
      " 8   NCP                             20758 non-null  float64\n",
      " 9   CAEC                            20758 non-null  object \n",
      " 10  SMOKE                           20758 non-null  object \n",
      " 11  CH2O                            20758 non-null  float64\n",
      " 12  SCC                             20758 non-null  object \n",
      " 13  FAF                             20758 non-null  float64\n",
      " 14  TUE                             20758 non-null  float64\n",
      " 15  CALC                            20758 non-null  object \n",
      " 16  MTRANS                          20758 non-null  object \n",
      " 17  NObeyesdad                      20758 non-null  object \n",
      "dtypes: float64(8), int64(1), object(9)\n",
      "memory usage: 2.9+ MB\n"
     ]
    }
   ],
   "source": [
    "train.info()"
   ]
  },
  {
   "cell_type": "code",
   "execution_count": 4,
   "id": "c81ca03f",
   "metadata": {
    "execution": {
     "iopub.execute_input": "2024-02-05T14:06:46.989157Z",
     "iopub.status.busy": "2024-02-05T14:06:46.988530Z",
     "iopub.status.idle": "2024-02-05T14:06:47.029538Z",
     "shell.execute_reply": "2024-02-05T14:06:47.028332Z"
    },
    "papermill": {
     "duration": 0.054463,
     "end_time": "2024-02-05T14:06:47.032206",
     "exception": false,
     "start_time": "2024-02-05T14:06:46.977743",
     "status": "completed"
    },
    "tags": []
   },
   "outputs": [
    {
     "data": {
      "text/html": [
       "<div>\n",
       "<style scoped>\n",
       "    .dataframe tbody tr th:only-of-type {\n",
       "        vertical-align: middle;\n",
       "    }\n",
       "\n",
       "    .dataframe tbody tr th {\n",
       "        vertical-align: top;\n",
       "    }\n",
       "\n",
       "    .dataframe thead th {\n",
       "        text-align: right;\n",
       "    }\n",
       "</style>\n",
       "<table border=\"1\" class=\"dataframe\">\n",
       "  <thead>\n",
       "    <tr style=\"text-align: right;\">\n",
       "      <th></th>\n",
       "      <th>Gender</th>\n",
       "      <th>Age</th>\n",
       "      <th>Height</th>\n",
       "      <th>Weight</th>\n",
       "      <th>family_history_with_overweight</th>\n",
       "      <th>FAVC</th>\n",
       "      <th>FCVC</th>\n",
       "      <th>NCP</th>\n",
       "      <th>CAEC</th>\n",
       "      <th>SMOKE</th>\n",
       "      <th>CH2O</th>\n",
       "      <th>SCC</th>\n",
       "      <th>FAF</th>\n",
       "      <th>TUE</th>\n",
       "      <th>CALC</th>\n",
       "      <th>MTRANS</th>\n",
       "      <th>NObeyesdad</th>\n",
       "    </tr>\n",
       "  </thead>\n",
       "  <tbody>\n",
       "    <tr>\n",
       "      <th>0</th>\n",
       "      <td>Female</td>\n",
       "      <td>21.0</td>\n",
       "      <td>1.62</td>\n",
       "      <td>64.0</td>\n",
       "      <td>yes</td>\n",
       "      <td>no</td>\n",
       "      <td>2.0</td>\n",
       "      <td>3.0</td>\n",
       "      <td>Sometimes</td>\n",
       "      <td>no</td>\n",
       "      <td>2.0</td>\n",
       "      <td>no</td>\n",
       "      <td>0.0</td>\n",
       "      <td>1.0</td>\n",
       "      <td>no</td>\n",
       "      <td>Public_Transportation</td>\n",
       "      <td>Normal_Weight</td>\n",
       "    </tr>\n",
       "    <tr>\n",
       "      <th>1</th>\n",
       "      <td>Female</td>\n",
       "      <td>21.0</td>\n",
       "      <td>1.52</td>\n",
       "      <td>56.0</td>\n",
       "      <td>yes</td>\n",
       "      <td>no</td>\n",
       "      <td>3.0</td>\n",
       "      <td>3.0</td>\n",
       "      <td>Sometimes</td>\n",
       "      <td>yes</td>\n",
       "      <td>3.0</td>\n",
       "      <td>yes</td>\n",
       "      <td>3.0</td>\n",
       "      <td>0.0</td>\n",
       "      <td>Sometimes</td>\n",
       "      <td>Public_Transportation</td>\n",
       "      <td>Normal_Weight</td>\n",
       "    </tr>\n",
       "    <tr>\n",
       "      <th>2</th>\n",
       "      <td>Male</td>\n",
       "      <td>23.0</td>\n",
       "      <td>1.80</td>\n",
       "      <td>77.0</td>\n",
       "      <td>yes</td>\n",
       "      <td>no</td>\n",
       "      <td>2.0</td>\n",
       "      <td>3.0</td>\n",
       "      <td>Sometimes</td>\n",
       "      <td>no</td>\n",
       "      <td>2.0</td>\n",
       "      <td>no</td>\n",
       "      <td>2.0</td>\n",
       "      <td>1.0</td>\n",
       "      <td>Frequently</td>\n",
       "      <td>Public_Transportation</td>\n",
       "      <td>Normal_Weight</td>\n",
       "    </tr>\n",
       "    <tr>\n",
       "      <th>3</th>\n",
       "      <td>Male</td>\n",
       "      <td>27.0</td>\n",
       "      <td>1.80</td>\n",
       "      <td>87.0</td>\n",
       "      <td>no</td>\n",
       "      <td>no</td>\n",
       "      <td>3.0</td>\n",
       "      <td>3.0</td>\n",
       "      <td>Sometimes</td>\n",
       "      <td>no</td>\n",
       "      <td>2.0</td>\n",
       "      <td>no</td>\n",
       "      <td>2.0</td>\n",
       "      <td>0.0</td>\n",
       "      <td>Frequently</td>\n",
       "      <td>Walking</td>\n",
       "      <td>Overweight_Level_I</td>\n",
       "    </tr>\n",
       "    <tr>\n",
       "      <th>4</th>\n",
       "      <td>Male</td>\n",
       "      <td>22.0</td>\n",
       "      <td>1.78</td>\n",
       "      <td>89.8</td>\n",
       "      <td>no</td>\n",
       "      <td>no</td>\n",
       "      <td>2.0</td>\n",
       "      <td>1.0</td>\n",
       "      <td>Sometimes</td>\n",
       "      <td>no</td>\n",
       "      <td>2.0</td>\n",
       "      <td>no</td>\n",
       "      <td>0.0</td>\n",
       "      <td>0.0</td>\n",
       "      <td>Sometimes</td>\n",
       "      <td>Public_Transportation</td>\n",
       "      <td>Overweight_Level_II</td>\n",
       "    </tr>\n",
       "  </tbody>\n",
       "</table>\n",
       "</div>"
      ],
      "text/plain": [
       "   Gender   Age  Height  Weight family_history_with_overweight FAVC  FCVC  \\\n",
       "0  Female  21.0    1.62    64.0                            yes   no   2.0   \n",
       "1  Female  21.0    1.52    56.0                            yes   no   3.0   \n",
       "2    Male  23.0    1.80    77.0                            yes   no   2.0   \n",
       "3    Male  27.0    1.80    87.0                             no   no   3.0   \n",
       "4    Male  22.0    1.78    89.8                             no   no   2.0   \n",
       "\n",
       "   NCP       CAEC SMOKE  CH2O  SCC  FAF  TUE        CALC  \\\n",
       "0  3.0  Sometimes    no   2.0   no  0.0  1.0          no   \n",
       "1  3.0  Sometimes   yes   3.0  yes  3.0  0.0   Sometimes   \n",
       "2  3.0  Sometimes    no   2.0   no  2.0  1.0  Frequently   \n",
       "3  3.0  Sometimes    no   2.0   no  2.0  0.0  Frequently   \n",
       "4  1.0  Sometimes    no   2.0   no  0.0  0.0   Sometimes   \n",
       "\n",
       "                  MTRANS           NObeyesdad  \n",
       "0  Public_Transportation        Normal_Weight  \n",
       "1  Public_Transportation        Normal_Weight  \n",
       "2  Public_Transportation        Normal_Weight  \n",
       "3                Walking   Overweight_Level_I  \n",
       "4  Public_Transportation  Overweight_Level_II  "
      ]
     },
     "execution_count": 4,
     "metadata": {},
     "output_type": "execute_result"
    }
   ],
   "source": [
    "old_data = pd.read_csv(\"/kaggle/input/obesity-or-cvd-risk-classifyregressorcluster/ObesityDataSet.csv\")\n",
    "old_data.head(5)"
   ]
  },
  {
   "cell_type": "code",
   "execution_count": 5,
   "id": "6d8ec9e7",
   "metadata": {
    "execution": {
     "iopub.execute_input": "2024-02-05T14:06:47.054093Z",
     "iopub.status.busy": "2024-02-05T14:06:47.053384Z",
     "iopub.status.idle": "2024-02-05T14:06:47.059595Z",
     "shell.execute_reply": "2024-02-05T14:06:47.058773Z"
    },
    "papermill": {
     "duration": 0.019818,
     "end_time": "2024-02-05T14:06:47.062007",
     "exception": false,
     "start_time": "2024-02-05T14:06:47.042189",
     "status": "completed"
    },
    "tags": []
   },
   "outputs": [],
   "source": [
    "old_data['id'] = range(len(train)+1,len(train) + len(old_data)+1 )"
   ]
  },
  {
   "cell_type": "code",
   "execution_count": 6,
   "id": "ddac8ffe",
   "metadata": {
    "execution": {
     "iopub.execute_input": "2024-02-05T14:06:47.083397Z",
     "iopub.status.busy": "2024-02-05T14:06:47.082741Z",
     "iopub.status.idle": "2024-02-05T14:06:47.096824Z",
     "shell.execute_reply": "2024-02-05T14:06:47.095655Z"
    },
    "papermill": {
     "duration": 0.027789,
     "end_time": "2024-02-05T14:06:47.099349",
     "exception": false,
     "start_time": "2024-02-05T14:06:47.071560",
     "status": "completed"
    },
    "tags": []
   },
   "outputs": [
    {
     "name": "stdout",
     "output_type": "stream",
     "text": [
      "<class 'pandas.core.frame.DataFrame'>\n",
      "RangeIndex: 2111 entries, 0 to 2110\n",
      "Data columns (total 18 columns):\n",
      " #   Column                          Non-Null Count  Dtype  \n",
      "---  ------                          --------------  -----  \n",
      " 0   Gender                          2111 non-null   object \n",
      " 1   Age                             2111 non-null   float64\n",
      " 2   Height                          2111 non-null   float64\n",
      " 3   Weight                          2111 non-null   float64\n",
      " 4   family_history_with_overweight  2111 non-null   object \n",
      " 5   FAVC                            2111 non-null   object \n",
      " 6   FCVC                            2111 non-null   float64\n",
      " 7   NCP                             2111 non-null   float64\n",
      " 8   CAEC                            2111 non-null   object \n",
      " 9   SMOKE                           2111 non-null   object \n",
      " 10  CH2O                            2111 non-null   float64\n",
      " 11  SCC                             2111 non-null   object \n",
      " 12  FAF                             2111 non-null   float64\n",
      " 13  TUE                             2111 non-null   float64\n",
      " 14  CALC                            2111 non-null   object \n",
      " 15  MTRANS                          2111 non-null   object \n",
      " 16  NObeyesdad                      2111 non-null   object \n",
      " 17  id                              2111 non-null   int64  \n",
      "dtypes: float64(8), int64(1), object(9)\n",
      "memory usage: 297.0+ KB\n"
     ]
    }
   ],
   "source": [
    "old_data.info()"
   ]
  },
  {
   "cell_type": "code",
   "execution_count": 7,
   "id": "ec638c47",
   "metadata": {
    "execution": {
     "iopub.execute_input": "2024-02-05T14:06:47.120563Z",
     "iopub.status.busy": "2024-02-05T14:06:47.120120Z",
     "iopub.status.idle": "2024-02-05T14:06:47.183986Z",
     "shell.execute_reply": "2024-02-05T14:06:47.182803Z"
    },
    "papermill": {
     "duration": 0.077604,
     "end_time": "2024-02-05T14:06:47.186574",
     "exception": false,
     "start_time": "2024-02-05T14:06:47.108970",
     "status": "completed"
    },
    "tags": []
   },
   "outputs": [
    {
     "data": {
      "text/html": [
       "<div>\n",
       "<style scoped>\n",
       "    .dataframe tbody tr th:only-of-type {\n",
       "        vertical-align: middle;\n",
       "    }\n",
       "\n",
       "    .dataframe tbody tr th {\n",
       "        vertical-align: top;\n",
       "    }\n",
       "\n",
       "    .dataframe thead th {\n",
       "        text-align: right;\n",
       "    }\n",
       "</style>\n",
       "<table border=\"1\" class=\"dataframe\">\n",
       "  <thead>\n",
       "    <tr style=\"text-align: right;\">\n",
       "      <th></th>\n",
       "      <th>id</th>\n",
       "      <th>Gender</th>\n",
       "      <th>Age</th>\n",
       "      <th>Height</th>\n",
       "      <th>Weight</th>\n",
       "      <th>family_history_with_overweight</th>\n",
       "      <th>FAVC</th>\n",
       "      <th>FCVC</th>\n",
       "      <th>NCP</th>\n",
       "      <th>CAEC</th>\n",
       "      <th>SMOKE</th>\n",
       "      <th>CH2O</th>\n",
       "      <th>SCC</th>\n",
       "      <th>FAF</th>\n",
       "      <th>TUE</th>\n",
       "      <th>CALC</th>\n",
       "      <th>MTRANS</th>\n",
       "      <th>NObeyesdad</th>\n",
       "    </tr>\n",
       "  </thead>\n",
       "  <tbody>\n",
       "    <tr>\n",
       "      <th>0</th>\n",
       "      <td>0</td>\n",
       "      <td>Male</td>\n",
       "      <td>24.443011</td>\n",
       "      <td>1.699998</td>\n",
       "      <td>81.669950</td>\n",
       "      <td>yes</td>\n",
       "      <td>yes</td>\n",
       "      <td>2.000000</td>\n",
       "      <td>2.983297</td>\n",
       "      <td>Sometimes</td>\n",
       "      <td>no</td>\n",
       "      <td>2.763573</td>\n",
       "      <td>no</td>\n",
       "      <td>0.000000</td>\n",
       "      <td>0.976473</td>\n",
       "      <td>Sometimes</td>\n",
       "      <td>Public_Transportation</td>\n",
       "      <td>Overweight_Level_II</td>\n",
       "    </tr>\n",
       "    <tr>\n",
       "      <th>1</th>\n",
       "      <td>1</td>\n",
       "      <td>Female</td>\n",
       "      <td>18.000000</td>\n",
       "      <td>1.560000</td>\n",
       "      <td>57.000000</td>\n",
       "      <td>yes</td>\n",
       "      <td>yes</td>\n",
       "      <td>2.000000</td>\n",
       "      <td>3.000000</td>\n",
       "      <td>Frequently</td>\n",
       "      <td>no</td>\n",
       "      <td>2.000000</td>\n",
       "      <td>no</td>\n",
       "      <td>1.000000</td>\n",
       "      <td>1.000000</td>\n",
       "      <td>no</td>\n",
       "      <td>Automobile</td>\n",
       "      <td>Normal_Weight</td>\n",
       "    </tr>\n",
       "    <tr>\n",
       "      <th>2</th>\n",
       "      <td>2</td>\n",
       "      <td>Female</td>\n",
       "      <td>18.000000</td>\n",
       "      <td>1.711460</td>\n",
       "      <td>50.165754</td>\n",
       "      <td>yes</td>\n",
       "      <td>yes</td>\n",
       "      <td>1.880534</td>\n",
       "      <td>1.411685</td>\n",
       "      <td>Sometimes</td>\n",
       "      <td>no</td>\n",
       "      <td>1.910378</td>\n",
       "      <td>no</td>\n",
       "      <td>0.866045</td>\n",
       "      <td>1.673584</td>\n",
       "      <td>no</td>\n",
       "      <td>Public_Transportation</td>\n",
       "      <td>Insufficient_Weight</td>\n",
       "    </tr>\n",
       "    <tr>\n",
       "      <th>3</th>\n",
       "      <td>3</td>\n",
       "      <td>Female</td>\n",
       "      <td>20.952737</td>\n",
       "      <td>1.710730</td>\n",
       "      <td>131.274851</td>\n",
       "      <td>yes</td>\n",
       "      <td>yes</td>\n",
       "      <td>3.000000</td>\n",
       "      <td>3.000000</td>\n",
       "      <td>Sometimes</td>\n",
       "      <td>no</td>\n",
       "      <td>1.674061</td>\n",
       "      <td>no</td>\n",
       "      <td>1.467863</td>\n",
       "      <td>0.780199</td>\n",
       "      <td>Sometimes</td>\n",
       "      <td>Public_Transportation</td>\n",
       "      <td>Obesity_Type_III</td>\n",
       "    </tr>\n",
       "    <tr>\n",
       "      <th>4</th>\n",
       "      <td>4</td>\n",
       "      <td>Male</td>\n",
       "      <td>31.641081</td>\n",
       "      <td>1.914186</td>\n",
       "      <td>93.798055</td>\n",
       "      <td>yes</td>\n",
       "      <td>yes</td>\n",
       "      <td>2.679664</td>\n",
       "      <td>1.971472</td>\n",
       "      <td>Sometimes</td>\n",
       "      <td>no</td>\n",
       "      <td>1.979848</td>\n",
       "      <td>no</td>\n",
       "      <td>1.967973</td>\n",
       "      <td>0.931721</td>\n",
       "      <td>Sometimes</td>\n",
       "      <td>Public_Transportation</td>\n",
       "      <td>Overweight_Level_II</td>\n",
       "    </tr>\n",
       "  </tbody>\n",
       "</table>\n",
       "</div>"
      ],
      "text/plain": [
       "   id  Gender        Age    Height      Weight family_history_with_overweight  \\\n",
       "0   0    Male  24.443011  1.699998   81.669950                            yes   \n",
       "1   1  Female  18.000000  1.560000   57.000000                            yes   \n",
       "2   2  Female  18.000000  1.711460   50.165754                            yes   \n",
       "3   3  Female  20.952737  1.710730  131.274851                            yes   \n",
       "4   4    Male  31.641081  1.914186   93.798055                            yes   \n",
       "\n",
       "  FAVC      FCVC       NCP        CAEC SMOKE      CH2O SCC       FAF  \\\n",
       "0  yes  2.000000  2.983297   Sometimes    no  2.763573  no  0.000000   \n",
       "1  yes  2.000000  3.000000  Frequently    no  2.000000  no  1.000000   \n",
       "2  yes  1.880534  1.411685   Sometimes    no  1.910378  no  0.866045   \n",
       "3  yes  3.000000  3.000000   Sometimes    no  1.674061  no  1.467863   \n",
       "4  yes  2.679664  1.971472   Sometimes    no  1.979848  no  1.967973   \n",
       "\n",
       "        TUE       CALC                 MTRANS           NObeyesdad  \n",
       "0  0.976473  Sometimes  Public_Transportation  Overweight_Level_II  \n",
       "1  1.000000         no             Automobile        Normal_Weight  \n",
       "2  1.673584         no  Public_Transportation  Insufficient_Weight  \n",
       "3  0.780199  Sometimes  Public_Transportation     Obesity_Type_III  \n",
       "4  0.931721  Sometimes  Public_Transportation  Overweight_Level_II  "
      ]
     },
     "execution_count": 7,
     "metadata": {},
     "output_type": "execute_result"
    }
   ],
   "source": [
    "train = pd.concat([train, old_data]).drop_duplicates()\n",
    "train.head()"
   ]
  },
  {
   "cell_type": "code",
   "execution_count": 8,
   "id": "d29c353d",
   "metadata": {
    "execution": {
     "iopub.execute_input": "2024-02-05T14:06:47.209112Z",
     "iopub.status.busy": "2024-02-05T14:06:47.208373Z",
     "iopub.status.idle": "2024-02-05T14:06:47.218646Z",
     "shell.execute_reply": "2024-02-05T14:06:47.217753Z"
    },
    "papermill": {
     "duration": 0.025139,
     "end_time": "2024-02-05T14:06:47.221771",
     "exception": false,
     "start_time": "2024-02-05T14:06:47.196632",
     "status": "completed"
    },
    "tags": []
   },
   "outputs": [],
   "source": [
    "def data_cleaning(df,train=False):\n",
    "    scaler = StandardScaler()\n",
    "    df['IsYoung'] = df['Age'].apply(lambda x: x < 25)\n",
    "    df['IsAging'] = df['Age'].apply(lambda x: 25 <= x < 40)\n",
    "    df['BMI'] = df['Weight'] / (df['Height'] / 100) ** 2\n",
    "    numerical_attributes = [x for x in df.keys() if df.dtypes[x] == 'int64' or df.dtypes[x] == 'float64' ]\n",
    "    if train:\n",
    "        y = df['NObeyesdad']\n",
    "        df = df.drop('NObeyesdad',axis=1)\n",
    "    categorical_attributes = [x for x in df.keys() if df.dtypes[x] == 'object' ]\n",
    "    df[numerical_attributes] = scaler.fit_transform(df[numerical_attributes])\n",
    "#     for key in ['Gender','family_history_with_overweight','FAVC','IsYoung']:\n",
    "#         _ = df[key][0]\n",
    "#         df[key] = df[key].apply(lambda x: 1 if x == _ else 0)\n",
    "#     for key in ['SMOKE','SCC','IsAging']:\n",
    "#         _ = df[key][0]\n",
    "#         df[key] = df[key].apply(lambda x: 0 if x == _ else 1)\n",
    "#     for key in ['CAEC','CALC','MTRANS']:\n",
    "#         df[key] = df[key].astype('category')\n",
    "    df = pd.get_dummies(df, columns = categorical_attributes)\n",
    "    df = df.drop(['id'], axis=1)\n",
    "    if train:\n",
    "#         labels = {'Insufficient_Weight' : 0, 'Normal_Weight':1, 'Obesity_Type_I':2, 'Obesity_Type_II':3,\n",
    "#      'Obesity_Type_III':4, 'Overweight_Level_I':5, 'Overweight_Level_II':6}\n",
    "#         y = [labels[x] for x in y]\n",
    "        return df, y\n",
    "    return df"
   ]
  },
  {
   "cell_type": "code",
   "execution_count": 9,
   "id": "6b558acf",
   "metadata": {
    "execution": {
     "iopub.execute_input": "2024-02-05T14:06:47.244580Z",
     "iopub.status.busy": "2024-02-05T14:06:47.244149Z",
     "iopub.status.idle": "2024-02-05T14:06:47.334561Z",
     "shell.execute_reply": "2024-02-05T14:06:47.333451Z"
    },
    "papermill": {
     "duration": 0.105817,
     "end_time": "2024-02-05T14:06:47.337636",
     "exception": false,
     "start_time": "2024-02-05T14:06:47.231819",
     "status": "completed"
    },
    "tags": []
   },
   "outputs": [],
   "source": [
    "X, y = data_cleaning(train,train=True)"
   ]
  },
  {
   "cell_type": "code",
   "execution_count": 10,
   "id": "2a16a2f6",
   "metadata": {
    "execution": {
     "iopub.execute_input": "2024-02-05T14:06:47.359970Z",
     "iopub.status.busy": "2024-02-05T14:06:47.359574Z",
     "iopub.status.idle": "2024-02-05T14:06:47.372442Z",
     "shell.execute_reply": "2024-02-05T14:06:47.371302Z"
    },
    "papermill": {
     "duration": 0.027256,
     "end_time": "2024-02-05T14:06:47.375084",
     "exception": false,
     "start_time": "2024-02-05T14:06:47.347828",
     "status": "completed"
    },
    "tags": []
   },
   "outputs": [],
   "source": [
    "X_train, X_test, y_train, y_test = train_test_split( X, y, test_size = 0.3, random_state = 42)"
   ]
  },
  {
   "cell_type": "code",
   "execution_count": 11,
   "id": "ac7b0170",
   "metadata": {
    "execution": {
     "iopub.execute_input": "2024-02-05T14:06:47.397626Z",
     "iopub.status.busy": "2024-02-05T14:06:47.397180Z",
     "iopub.status.idle": "2024-02-05T14:06:47.506028Z",
     "shell.execute_reply": "2024-02-05T14:06:47.505164Z"
    },
    "papermill": {
     "duration": 0.122995,
     "end_time": "2024-02-05T14:06:47.508373",
     "exception": false,
     "start_time": "2024-02-05T14:06:47.385378",
     "status": "completed"
    },
    "tags": []
   },
   "outputs": [
    {
     "data": {
      "text/plain": [
       "30"
      ]
     },
     "execution_count": 11,
     "metadata": {},
     "output_type": "execute_result"
    }
   ],
   "source": [
    "del train, old_data\n",
    "gc.collect()"
   ]
  },
  {
   "cell_type": "code",
   "execution_count": 12,
   "id": "30f7372e",
   "metadata": {
    "execution": {
     "iopub.execute_input": "2024-02-05T14:06:47.531285Z",
     "iopub.status.busy": "2024-02-05T14:06:47.530202Z",
     "iopub.status.idle": "2024-02-05T14:07:08.878737Z",
     "shell.execute_reply": "2024-02-05T14:07:08.877560Z"
    },
    "papermill": {
     "duration": 21.36297,
     "end_time": "2024-02-05T14:07:08.881646",
     "exception": false,
     "start_time": "2024-02-05T14:06:47.518676",
     "status": "completed"
    },
    "tags": []
   },
   "outputs": [],
   "source": [
    "params = {\n",
    "    \"objective\": \"multiclass\",          # Objective function for the model\n",
    "    \"metric\": \"multi_logloss\",          # Evaluation metric\n",
    "    \"verbosity\": -1,                    # Verbosity level (-1 for silent)\n",
    "    \"boosting_type\": \"gbdt\",            # Gradient boosting type\n",
    "    \"random_state\": 42,       # Random state for reproducibility\n",
    "    \"num_class\": 7,                     # Number of classes in the dataset\n",
    "    'learning_rate': 0.03,  # Learning rate for gradient boosting\n",
    "    'n_estimators': 500,                # Number of boosting iterations\n",
    "    'lambda_l1': 0.0097,  # L1 regularization term\n",
    "    'lambda_l2': 0.04,   # L2 regularization term\n",
    "    'max_depth': 10,                    # Maximum depth of the trees\n",
    "    'colsample_bytree': 0.41,  # Fraction of features to consider for each tree\n",
    "    'subsample': 0.95,    # Fraction of samples to consider for each boosting iteration\n",
    "    'min_child_samples': 26             # Minimum number of data needed in a leaf\n",
    "}\n",
    "lgbm_classifier = LGBMClassifier(**params)\n",
    "lgbm_classifier.fit(X_train, y_train)\n",
    "y_pred = lgbm_classifier.predict(X_test)"
   ]
  },
  {
   "cell_type": "code",
   "execution_count": 13,
   "id": "681101ef",
   "metadata": {
    "execution": {
     "iopub.execute_input": "2024-02-05T14:07:08.905516Z",
     "iopub.status.busy": "2024-02-05T14:07:08.904068Z",
     "iopub.status.idle": "2024-02-05T14:07:12.086270Z",
     "shell.execute_reply": "2024-02-05T14:07:12.084799Z"
    },
    "papermill": {
     "duration": 3.196725,
     "end_time": "2024-02-05T14:07:12.088986",
     "exception": false,
     "start_time": "2024-02-05T14:07:08.892261",
     "status": "completed"
    },
    "tags": []
   },
   "outputs": [
    {
     "data": {
      "text/plain": [
       "{'Insufficient_Weight': {'precision': 0.9524375743162902,\n",
       "  'recall': 0.9379391100702577,\n",
       "  'f1-score': 0.9451327433628319,\n",
       "  'support': 854},\n",
       " 'Normal_Weight': {'precision': 0.8748796920115496,\n",
       "  'recall': 0.8973346495557749,\n",
       "  'f1-score': 0.8859649122807017,\n",
       "  'support': 1013},\n",
       " 'Obesity_Type_I': {'precision': 0.9261241970021413,\n",
       "  'recall': 0.8710976837865055,\n",
       "  'f1-score': 0.8977685521536067,\n",
       "  'support': 993},\n",
       " 'Obesity_Type_II': {'precision': 0.9615040286481648,\n",
       "  'recall': 0.9790337283500455,\n",
       "  'f1-score': 0.970189701897019,\n",
       "  'support': 1097},\n",
       " 'Obesity_Type_III': {'precision': 0.9984520123839009,\n",
       "  'recall': 0.9961389961389961,\n",
       "  'f1-score': 0.9972941631233089,\n",
       "  'support': 1295},\n",
       " 'Overweight_Level_I': {'precision': 0.7765293383270911,\n",
       "  'recall': 0.8005148005148005,\n",
       "  'f1-score': 0.788339670468948,\n",
       "  'support': 777},\n",
       " 'Overweight_Level_II': {'precision': 0.8303464755077659,\n",
       "  'recall': 0.8353365384615384,\n",
       "  'f1-score': 0.8328340323547033,\n",
       "  'support': 832},\n",
       " 'accuracy': 0.9118204343390176,\n",
       " 'macro avg': {'precision': 0.9028961883138434,\n",
       "  'recall': 0.9024850724111312,\n",
       "  'f1-score': 0.90250339652016,\n",
       "  'support': 6861},\n",
       " 'weighted avg': {'precision': 0.9125860637026291,\n",
       "  'recall': 0.9118204343390176,\n",
       "  'f1-score': 0.9120189293630582,\n",
       "  'support': 6861}}"
      ]
     },
     "execution_count": 13,
     "metadata": {},
     "output_type": "execute_result"
    }
   ],
   "source": [
    "classification_report(y_test,lgbm_classifier.predict(X_test),output_dict=True)"
   ]
  },
  {
   "cell_type": "code",
   "execution_count": 14,
   "id": "f2a42011",
   "metadata": {
    "execution": {
     "iopub.execute_input": "2024-02-05T14:07:12.112938Z",
     "iopub.status.busy": "2024-02-05T14:07:12.112514Z",
     "iopub.status.idle": "2024-02-05T14:07:14.854420Z",
     "shell.execute_reply": "2024-02-05T14:07:14.853161Z"
    },
    "papermill": {
     "duration": 2.757404,
     "end_time": "2024-02-05T14:07:14.857225",
     "exception": false,
     "start_time": "2024-02-05T14:07:12.099821",
     "status": "completed"
    },
    "tags": []
   },
   "outputs": [
    {
     "data": {
      "text/plain": [
       "array([[ 801,   49,    0,    0,    0,    3,    1],\n",
       "       [  31,  909,    2,    0,    0,   63,    8],\n",
       "       [   1,    2,  865,   33,    1,   32,   59],\n",
       "       [   0,    0,   18, 1074,    1,    0,    4],\n",
       "       [   1,    0,    2,    2, 1290,    0,    0],\n",
       "       [   7,   65,   13,    0,    0,  622,   70],\n",
       "       [   0,   14,   34,    8,    0,   81,  695]])"
      ]
     },
     "execution_count": 14,
     "metadata": {},
     "output_type": "execute_result"
    }
   ],
   "source": [
    "confusion_matrix(y_test,lgbm_classifier.predict(X_test))"
   ]
  },
  {
   "cell_type": "code",
   "execution_count": 15,
   "id": "8c7eab8e",
   "metadata": {
    "execution": {
     "iopub.execute_input": "2024-02-05T14:07:14.880894Z",
     "iopub.status.busy": "2024-02-05T14:07:14.880456Z",
     "iopub.status.idle": "2024-02-05T14:07:14.886093Z",
     "shell.execute_reply": "2024-02-05T14:07:14.884393Z"
    },
    "papermill": {
     "duration": 0.020889,
     "end_time": "2024-02-05T14:07:14.888945",
     "exception": false,
     "start_time": "2024-02-05T14:07:14.868056",
     "status": "completed"
    },
    "tags": []
   },
   "outputs": [],
   "source": [
    "# xgb_clf = XGBClassifier(n_estimators=300, enable_categorical=True,objective = 'multi:softprob',\n",
    "#                         colsample_bytree= 1.0, max_depth= 9, early_stopping_round=3, n_jobs=-1, gamma=0.05, verbose=3)"
   ]
  },
  {
   "cell_type": "code",
   "execution_count": 16,
   "id": "3121fd9f",
   "metadata": {
    "execution": {
     "iopub.execute_input": "2024-02-05T14:07:14.912369Z",
     "iopub.status.busy": "2024-02-05T14:07:14.911981Z",
     "iopub.status.idle": "2024-02-05T14:07:14.916644Z",
     "shell.execute_reply": "2024-02-05T14:07:14.915400Z"
    },
    "papermill": {
     "duration": 0.019499,
     "end_time": "2024-02-05T14:07:14.919284",
     "exception": false,
     "start_time": "2024-02-05T14:07:14.899785",
     "status": "completed"
    },
    "tags": []
   },
   "outputs": [],
   "source": [
    "# xgb_clf.fit(X_train, y_train)"
   ]
  },
  {
   "cell_type": "code",
   "execution_count": 17,
   "id": "6da1947c",
   "metadata": {
    "execution": {
     "iopub.execute_input": "2024-02-05T14:07:14.942703Z",
     "iopub.status.busy": "2024-02-05T14:07:14.942242Z",
     "iopub.status.idle": "2024-02-05T14:07:14.947632Z",
     "shell.execute_reply": "2024-02-05T14:07:14.946144Z"
    },
    "papermill": {
     "duration": 0.020226,
     "end_time": "2024-02-05T14:07:14.950322",
     "exception": false,
     "start_time": "2024-02-05T14:07:14.930096",
     "status": "completed"
    },
    "tags": []
   },
   "outputs": [],
   "source": [
    "# classification_report(y_test,xgb_clf.predict(X_test),output_dict=True)"
   ]
  },
  {
   "cell_type": "code",
   "execution_count": 18,
   "id": "f2230058",
   "metadata": {
    "execution": {
     "iopub.execute_input": "2024-02-05T14:07:14.974325Z",
     "iopub.status.busy": "2024-02-05T14:07:14.973923Z",
     "iopub.status.idle": "2024-02-05T14:07:14.979111Z",
     "shell.execute_reply": "2024-02-05T14:07:14.977698Z"
    },
    "papermill": {
     "duration": 0.020383,
     "end_time": "2024-02-05T14:07:14.981837",
     "exception": false,
     "start_time": "2024-02-05T14:07:14.961454",
     "status": "completed"
    },
    "tags": []
   },
   "outputs": [],
   "source": [
    "# xgb_clf.fit(X, y)"
   ]
  },
  {
   "cell_type": "code",
   "execution_count": 19,
   "id": "f3932c60",
   "metadata": {
    "execution": {
     "iopub.execute_input": "2024-02-05T14:07:15.006255Z",
     "iopub.status.busy": "2024-02-05T14:07:15.005827Z",
     "iopub.status.idle": "2024-02-05T14:07:15.130709Z",
     "shell.execute_reply": "2024-02-05T14:07:15.129306Z"
    },
    "papermill": {
     "duration": 0.140744,
     "end_time": "2024-02-05T14:07:15.133599",
     "exception": false,
     "start_time": "2024-02-05T14:07:14.992855",
     "status": "completed"
    },
    "tags": []
   },
   "outputs": [],
   "source": [
    "test = pd.read_csv(\"/kaggle/input/playground-series-s4e2/test.csv\")\n",
    "test = data_cleaning(test,train=False)"
   ]
  },
  {
   "cell_type": "code",
   "execution_count": 20,
   "id": "82bc734f",
   "metadata": {
    "execution": {
     "iopub.execute_input": "2024-02-05T14:07:15.157720Z",
     "iopub.status.busy": "2024-02-05T14:07:15.157288Z",
     "iopub.status.idle": "2024-02-05T14:07:20.572628Z",
     "shell.execute_reply": "2024-02-05T14:07:20.571387Z"
    },
    "papermill": {
     "duration": 5.430338,
     "end_time": "2024-02-05T14:07:20.575486",
     "exception": false,
     "start_time": "2024-02-05T14:07:15.145148",
     "status": "completed"
    },
    "tags": []
   },
   "outputs": [],
   "source": [
    "y_p = lgbm_classifier.predict(test)"
   ]
  },
  {
   "cell_type": "code",
   "execution_count": 21,
   "id": "07d0fee5",
   "metadata": {
    "execution": {
     "iopub.execute_input": "2024-02-05T14:07:20.600178Z",
     "iopub.status.busy": "2024-02-05T14:07:20.599340Z",
     "iopub.status.idle": "2024-02-05T14:07:20.604694Z",
     "shell.execute_reply": "2024-02-05T14:07:20.603523Z"
    },
    "papermill": {
     "duration": 0.020601,
     "end_time": "2024-02-05T14:07:20.607141",
     "exception": false,
     "start_time": "2024-02-05T14:07:20.586540",
     "status": "completed"
    },
    "tags": []
   },
   "outputs": [],
   "source": [
    "# def delabel(y_p):\n",
    "#     labels = {  0 : 'Insufficient_Weight', 1 : 'Normal_Weight', 2:'Obesity_Type_I', 3:'Obesity_Type_II',\n",
    "#      4:'Obesity_Type_III', 5:'Overweight_Level_I', 6:'Overweight_Level_II'}\n",
    "#     y_p = [labels[p] for p in y_p]\n",
    "#     return y_p\n",
    "# y_p = delabel(y_p)"
   ]
  },
  {
   "cell_type": "code",
   "execution_count": 22,
   "id": "f63974ac",
   "metadata": {
    "execution": {
     "iopub.execute_input": "2024-02-05T14:07:20.630092Z",
     "iopub.status.busy": "2024-02-05T14:07:20.629684Z",
     "iopub.status.idle": "2024-02-05T14:07:20.646388Z",
     "shell.execute_reply": "2024-02-05T14:07:20.645104Z"
    },
    "papermill": {
     "duration": 0.031545,
     "end_time": "2024-02-05T14:07:20.649342",
     "exception": false,
     "start_time": "2024-02-05T14:07:20.617797",
     "status": "completed"
    },
    "tags": []
   },
   "outputs": [
    {
     "data": {
      "text/html": [
       "<div>\n",
       "<style scoped>\n",
       "    .dataframe tbody tr th:only-of-type {\n",
       "        vertical-align: middle;\n",
       "    }\n",
       "\n",
       "    .dataframe tbody tr th {\n",
       "        vertical-align: top;\n",
       "    }\n",
       "\n",
       "    .dataframe thead th {\n",
       "        text-align: right;\n",
       "    }\n",
       "</style>\n",
       "<table border=\"1\" class=\"dataframe\">\n",
       "  <thead>\n",
       "    <tr style=\"text-align: right;\">\n",
       "      <th></th>\n",
       "      <th>Nobeyesdad</th>\n",
       "    </tr>\n",
       "    <tr>\n",
       "      <th>id</th>\n",
       "      <th></th>\n",
       "    </tr>\n",
       "  </thead>\n",
       "  <tbody>\n",
       "    <tr>\n",
       "      <th>20758</th>\n",
       "      <td>Obesity_Type_II</td>\n",
       "    </tr>\n",
       "    <tr>\n",
       "      <th>20759</th>\n",
       "      <td>Overweight_Level_I</td>\n",
       "    </tr>\n",
       "    <tr>\n",
       "      <th>20760</th>\n",
       "      <td>Obesity_Type_III</td>\n",
       "    </tr>\n",
       "    <tr>\n",
       "      <th>20761</th>\n",
       "      <td>Obesity_Type_I</td>\n",
       "    </tr>\n",
       "    <tr>\n",
       "      <th>20762</th>\n",
       "      <td>Obesity_Type_III</td>\n",
       "    </tr>\n",
       "    <tr>\n",
       "      <th>...</th>\n",
       "      <td>...</td>\n",
       "    </tr>\n",
       "    <tr>\n",
       "      <th>34593</th>\n",
       "      <td>Overweight_Level_II</td>\n",
       "    </tr>\n",
       "    <tr>\n",
       "      <th>34594</th>\n",
       "      <td>Overweight_Level_I</td>\n",
       "    </tr>\n",
       "    <tr>\n",
       "      <th>34595</th>\n",
       "      <td>Insufficient_Weight</td>\n",
       "    </tr>\n",
       "    <tr>\n",
       "      <th>34596</th>\n",
       "      <td>Insufficient_Weight</td>\n",
       "    </tr>\n",
       "    <tr>\n",
       "      <th>34597</th>\n",
       "      <td>Obesity_Type_II</td>\n",
       "    </tr>\n",
       "  </tbody>\n",
       "</table>\n",
       "<p>13840 rows × 1 columns</p>\n",
       "</div>"
      ],
      "text/plain": [
       "                Nobeyesdad\n",
       "id                        \n",
       "20758      Obesity_Type_II\n",
       "20759   Overweight_Level_I\n",
       "20760     Obesity_Type_III\n",
       "20761       Obesity_Type_I\n",
       "20762     Obesity_Type_III\n",
       "...                    ...\n",
       "34593  Overweight_Level_II\n",
       "34594   Overweight_Level_I\n",
       "34595  Insufficient_Weight\n",
       "34596  Insufficient_Weight\n",
       "34597      Obesity_Type_II\n",
       "\n",
       "[13840 rows x 1 columns]"
      ]
     },
     "execution_count": 22,
     "metadata": {},
     "output_type": "execute_result"
    }
   ],
   "source": [
    "submission = pd.DataFrame()\n",
    "submission['Nobeyesdad'] = y_p\n",
    "submission['id'] = range(20758,20758+len(y_p))\n",
    "submission = submission.set_index('id')\n",
    "submission"
   ]
  },
  {
   "cell_type": "code",
   "execution_count": 23,
   "id": "0a9fc896",
   "metadata": {
    "execution": {
     "iopub.execute_input": "2024-02-05T14:07:20.673478Z",
     "iopub.status.busy": "2024-02-05T14:07:20.673088Z",
     "iopub.status.idle": "2024-02-05T14:07:20.710884Z",
     "shell.execute_reply": "2024-02-05T14:07:20.709986Z"
    },
    "papermill": {
     "duration": 0.05263,
     "end_time": "2024-02-05T14:07:20.713315",
     "exception": false,
     "start_time": "2024-02-05T14:07:20.660685",
     "status": "completed"
    },
    "tags": []
   },
   "outputs": [],
   "source": [
    "submission.to_csv(\"submission.csv\",index='id')"
   ]
  },
  {
   "cell_type": "code",
   "execution_count": null,
   "id": "2ba35d9b",
   "metadata": {
    "papermill": {
     "duration": 0.010523,
     "end_time": "2024-02-05T14:07:20.735333",
     "exception": false,
     "start_time": "2024-02-05T14:07:20.724810",
     "status": "completed"
    },
    "tags": []
   },
   "outputs": [],
   "source": []
  },
  {
   "cell_type": "code",
   "execution_count": null,
   "id": "6e834cc6",
   "metadata": {
    "papermill": {
     "duration": 0.010503,
     "end_time": "2024-02-05T14:07:20.756831",
     "exception": false,
     "start_time": "2024-02-05T14:07:20.746328",
     "status": "completed"
    },
    "tags": []
   },
   "outputs": [],
   "source": []
  },
  {
   "cell_type": "code",
   "execution_count": null,
   "id": "dd87d583",
   "metadata": {
    "papermill": {
     "duration": 0.010517,
     "end_time": "2024-02-05T14:07:20.778323",
     "exception": false,
     "start_time": "2024-02-05T14:07:20.767806",
     "status": "completed"
    },
    "tags": []
   },
   "outputs": [],
   "source": []
  }
 ],
 "metadata": {
  "kaggle": {
   "accelerator": "none",
   "dataSources": [
    {
     "databundleVersionId": 7609535,
     "sourceId": 68479,
     "sourceType": "competition"
    },
    {
     "datasetId": 4030196,
     "sourceId": 7009925,
     "sourceType": "datasetVersion"
    }
   ],
   "dockerImageVersionId": 30646,
   "isGpuEnabled": false,
   "isInternetEnabled": true,
   "language": "python",
   "sourceType": "notebook"
  },
  "kernelspec": {
   "display_name": "Python 3",
   "language": "python",
   "name": "python3"
  },
  "language_info": {
   "codemirror_mode": {
    "name": "ipython",
    "version": 3
   },
   "file_extension": ".py",
   "mimetype": "text/x-python",
   "name": "python",
   "nbconvert_exporter": "python",
   "pygments_lexer": "ipython3",
   "version": "3.10.13"
  },
  "papermill": {
   "default_parameters": {},
   "duration": 42.145535,
   "end_time": "2024-02-05T14:07:21.612276",
   "environment_variables": {},
   "exception": null,
   "input_path": "__notebook__.ipynb",
   "output_path": "__notebook__.ipynb",
   "parameters": {},
   "start_time": "2024-02-05T14:06:39.466741",
   "version": "2.5.0"
  }
 },
 "nbformat": 4,
 "nbformat_minor": 5
}
