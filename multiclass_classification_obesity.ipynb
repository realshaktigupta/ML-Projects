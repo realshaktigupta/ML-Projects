{
 "cells": [
  {
   "cell_type": "code",
   "execution_count": 1,
   "id": "baecd25e",
   "metadata": {
    "_cell_guid": "b1076dfc-b9ad-4769-8c92-a6c4dae69d19",
    "_uuid": "8f2839f25d086af736a60e9eeb907d3b93b6e0e5",
    "execution": {
     "iopub.execute_input": "2024-02-02T11:46:43.864896Z",
     "iopub.status.busy": "2024-02-02T11:46:43.864498Z",
     "iopub.status.idle": "2024-02-02T11:46:46.815486Z",
     "shell.execute_reply": "2024-02-02T11:46:46.814358Z"
    },
    "papermill": {
     "duration": 2.962342,
     "end_time": "2024-02-02T11:46:46.818421",
     "exception": false,
     "start_time": "2024-02-02T11:46:43.856079",
     "status": "completed"
    },
    "tags": []
   },
   "outputs": [],
   "source": [
    "import numpy as np\n",
    "import pandas as pd\n",
    "import tqdm as tqdm\n",
    "from sklearn.preprocessing import StandardScaler\n",
    "from xgboost import XGBClassifier\n",
    "from sklearn.model_selection import train_test_split\n",
    "from sklearn.metrics import confusion_matrix, roc_auc_score, classification_report\n",
    "import gc"
   ]
  },
  {
   "cell_type": "code",
   "execution_count": 2,
   "id": "178383ab",
   "metadata": {
    "execution": {
     "iopub.execute_input": "2024-02-02T11:46:46.833624Z",
     "iopub.status.busy": "2024-02-02T11:46:46.833103Z",
     "iopub.status.idle": "2024-02-02T11:46:46.981818Z",
     "shell.execute_reply": "2024-02-02T11:46:46.980613Z"
    },
    "papermill": {
     "duration": 0.15879,
     "end_time": "2024-02-02T11:46:46.984218",
     "exception": false,
     "start_time": "2024-02-02T11:46:46.825428",
     "status": "completed"
    },
    "tags": []
   },
   "outputs": [
    {
     "data": {
      "text/html": [
       "<div>\n",
       "<style scoped>\n",
       "    .dataframe tbody tr th:only-of-type {\n",
       "        vertical-align: middle;\n",
       "    }\n",
       "\n",
       "    .dataframe tbody tr th {\n",
       "        vertical-align: top;\n",
       "    }\n",
       "\n",
       "    .dataframe thead th {\n",
       "        text-align: right;\n",
       "    }\n",
       "</style>\n",
       "<table border=\"1\" class=\"dataframe\">\n",
       "  <thead>\n",
       "    <tr style=\"text-align: right;\">\n",
       "      <th></th>\n",
       "      <th>id</th>\n",
       "      <th>Gender</th>\n",
       "      <th>Age</th>\n",
       "      <th>Height</th>\n",
       "      <th>Weight</th>\n",
       "      <th>family_history_with_overweight</th>\n",
       "      <th>FAVC</th>\n",
       "      <th>FCVC</th>\n",
       "      <th>NCP</th>\n",
       "      <th>CAEC</th>\n",
       "      <th>SMOKE</th>\n",
       "      <th>CH2O</th>\n",
       "      <th>SCC</th>\n",
       "      <th>FAF</th>\n",
       "      <th>TUE</th>\n",
       "      <th>CALC</th>\n",
       "      <th>MTRANS</th>\n",
       "      <th>NObeyesdad</th>\n",
       "    </tr>\n",
       "  </thead>\n",
       "  <tbody>\n",
       "    <tr>\n",
       "      <th>0</th>\n",
       "      <td>0</td>\n",
       "      <td>Male</td>\n",
       "      <td>24.443011</td>\n",
       "      <td>1.699998</td>\n",
       "      <td>81.669950</td>\n",
       "      <td>yes</td>\n",
       "      <td>yes</td>\n",
       "      <td>2.000000</td>\n",
       "      <td>2.983297</td>\n",
       "      <td>Sometimes</td>\n",
       "      <td>no</td>\n",
       "      <td>2.763573</td>\n",
       "      <td>no</td>\n",
       "      <td>0.000000</td>\n",
       "      <td>0.976473</td>\n",
       "      <td>Sometimes</td>\n",
       "      <td>Public_Transportation</td>\n",
       "      <td>Overweight_Level_II</td>\n",
       "    </tr>\n",
       "    <tr>\n",
       "      <th>1</th>\n",
       "      <td>1</td>\n",
       "      <td>Female</td>\n",
       "      <td>18.000000</td>\n",
       "      <td>1.560000</td>\n",
       "      <td>57.000000</td>\n",
       "      <td>yes</td>\n",
       "      <td>yes</td>\n",
       "      <td>2.000000</td>\n",
       "      <td>3.000000</td>\n",
       "      <td>Frequently</td>\n",
       "      <td>no</td>\n",
       "      <td>2.000000</td>\n",
       "      <td>no</td>\n",
       "      <td>1.000000</td>\n",
       "      <td>1.000000</td>\n",
       "      <td>no</td>\n",
       "      <td>Automobile</td>\n",
       "      <td>Normal_Weight</td>\n",
       "    </tr>\n",
       "    <tr>\n",
       "      <th>2</th>\n",
       "      <td>2</td>\n",
       "      <td>Female</td>\n",
       "      <td>18.000000</td>\n",
       "      <td>1.711460</td>\n",
       "      <td>50.165754</td>\n",
       "      <td>yes</td>\n",
       "      <td>yes</td>\n",
       "      <td>1.880534</td>\n",
       "      <td>1.411685</td>\n",
       "      <td>Sometimes</td>\n",
       "      <td>no</td>\n",
       "      <td>1.910378</td>\n",
       "      <td>no</td>\n",
       "      <td>0.866045</td>\n",
       "      <td>1.673584</td>\n",
       "      <td>no</td>\n",
       "      <td>Public_Transportation</td>\n",
       "      <td>Insufficient_Weight</td>\n",
       "    </tr>\n",
       "    <tr>\n",
       "      <th>3</th>\n",
       "      <td>3</td>\n",
       "      <td>Female</td>\n",
       "      <td>20.952737</td>\n",
       "      <td>1.710730</td>\n",
       "      <td>131.274851</td>\n",
       "      <td>yes</td>\n",
       "      <td>yes</td>\n",
       "      <td>3.000000</td>\n",
       "      <td>3.000000</td>\n",
       "      <td>Sometimes</td>\n",
       "      <td>no</td>\n",
       "      <td>1.674061</td>\n",
       "      <td>no</td>\n",
       "      <td>1.467863</td>\n",
       "      <td>0.780199</td>\n",
       "      <td>Sometimes</td>\n",
       "      <td>Public_Transportation</td>\n",
       "      <td>Obesity_Type_III</td>\n",
       "    </tr>\n",
       "    <tr>\n",
       "      <th>4</th>\n",
       "      <td>4</td>\n",
       "      <td>Male</td>\n",
       "      <td>31.641081</td>\n",
       "      <td>1.914186</td>\n",
       "      <td>93.798055</td>\n",
       "      <td>yes</td>\n",
       "      <td>yes</td>\n",
       "      <td>2.679664</td>\n",
       "      <td>1.971472</td>\n",
       "      <td>Sometimes</td>\n",
       "      <td>no</td>\n",
       "      <td>1.979848</td>\n",
       "      <td>no</td>\n",
       "      <td>1.967973</td>\n",
       "      <td>0.931721</td>\n",
       "      <td>Sometimes</td>\n",
       "      <td>Public_Transportation</td>\n",
       "      <td>Overweight_Level_II</td>\n",
       "    </tr>\n",
       "  </tbody>\n",
       "</table>\n",
       "</div>"
      ],
      "text/plain": [
       "   id  Gender        Age    Height      Weight family_history_with_overweight  \\\n",
       "0   0    Male  24.443011  1.699998   81.669950                            yes   \n",
       "1   1  Female  18.000000  1.560000   57.000000                            yes   \n",
       "2   2  Female  18.000000  1.711460   50.165754                            yes   \n",
       "3   3  Female  20.952737  1.710730  131.274851                            yes   \n",
       "4   4    Male  31.641081  1.914186   93.798055                            yes   \n",
       "\n",
       "  FAVC      FCVC       NCP        CAEC SMOKE      CH2O SCC       FAF  \\\n",
       "0  yes  2.000000  2.983297   Sometimes    no  2.763573  no  0.000000   \n",
       "1  yes  2.000000  3.000000  Frequently    no  2.000000  no  1.000000   \n",
       "2  yes  1.880534  1.411685   Sometimes    no  1.910378  no  0.866045   \n",
       "3  yes  3.000000  3.000000   Sometimes    no  1.674061  no  1.467863   \n",
       "4  yes  2.679664  1.971472   Sometimes    no  1.979848  no  1.967973   \n",
       "\n",
       "        TUE       CALC                 MTRANS           NObeyesdad  \n",
       "0  0.976473  Sometimes  Public_Transportation  Overweight_Level_II  \n",
       "1  1.000000         no             Automobile        Normal_Weight  \n",
       "2  1.673584         no  Public_Transportation  Insufficient_Weight  \n",
       "3  0.780199  Sometimes  Public_Transportation     Obesity_Type_III  \n",
       "4  0.931721  Sometimes  Public_Transportation  Overweight_Level_II  "
      ]
     },
     "execution_count": 2,
     "metadata": {},
     "output_type": "execute_result"
    }
   ],
   "source": [
    "train = pd.read_csv(\"/kaggle/input/playground-series-s4e2/train.csv\")\n",
    "train.head(5)"
   ]
  },
  {
   "cell_type": "code",
   "execution_count": 3,
   "id": "1d3ae43f",
   "metadata": {
    "execution": {
     "iopub.execute_input": "2024-02-02T11:46:46.998931Z",
     "iopub.status.busy": "2024-02-02T11:46:46.998513Z",
     "iopub.status.idle": "2024-02-02T11:46:47.054774Z",
     "shell.execute_reply": "2024-02-02T11:46:47.053522Z"
    },
    "papermill": {
     "duration": 0.066923,
     "end_time": "2024-02-02T11:46:47.057532",
     "exception": false,
     "start_time": "2024-02-02T11:46:46.990609",
     "status": "completed"
    },
    "tags": []
   },
   "outputs": [
    {
     "name": "stdout",
     "output_type": "stream",
     "text": [
      "<class 'pandas.core.frame.DataFrame'>\n",
      "RangeIndex: 20758 entries, 0 to 20757\n",
      "Data columns (total 18 columns):\n",
      " #   Column                          Non-Null Count  Dtype  \n",
      "---  ------                          --------------  -----  \n",
      " 0   id                              20758 non-null  int64  \n",
      " 1   Gender                          20758 non-null  object \n",
      " 2   Age                             20758 non-null  float64\n",
      " 3   Height                          20758 non-null  float64\n",
      " 4   Weight                          20758 non-null  float64\n",
      " 5   family_history_with_overweight  20758 non-null  object \n",
      " 6   FAVC                            20758 non-null  object \n",
      " 7   FCVC                            20758 non-null  float64\n",
      " 8   NCP                             20758 non-null  float64\n",
      " 9   CAEC                            20758 non-null  object \n",
      " 10  SMOKE                           20758 non-null  object \n",
      " 11  CH2O                            20758 non-null  float64\n",
      " 12  SCC                             20758 non-null  object \n",
      " 13  FAF                             20758 non-null  float64\n",
      " 14  TUE                             20758 non-null  float64\n",
      " 15  CALC                            20758 non-null  object \n",
      " 16  MTRANS                          20758 non-null  object \n",
      " 17  NObeyesdad                      20758 non-null  object \n",
      "dtypes: float64(8), int64(1), object(9)\n",
      "memory usage: 2.9+ MB\n"
     ]
    }
   ],
   "source": [
    "train.info()"
   ]
  },
  {
   "cell_type": "code",
   "execution_count": 4,
   "id": "28c4cc67",
   "metadata": {
    "execution": {
     "iopub.execute_input": "2024-02-02T11:46:47.072651Z",
     "iopub.status.busy": "2024-02-02T11:46:47.072215Z",
     "iopub.status.idle": "2024-02-02T11:46:47.084034Z",
     "shell.execute_reply": "2024-02-02T11:46:47.082758Z"
    },
    "papermill": {
     "duration": 0.022873,
     "end_time": "2024-02-02T11:46:47.086992",
     "exception": false,
     "start_time": "2024-02-02T11:46:47.064119",
     "status": "completed"
    },
    "tags": []
   },
   "outputs": [],
   "source": [
    "def data_cleaning(df,train=False):\n",
    "    numerical_attributes = [x for x in df.keys() if df.dtypes[x] == 'int64' or df.dtypes[x] == 'float64' ]\n",
    "    scaler = StandardScaler()\n",
    "    df[numerical_attributes] = scaler.fit_transform(df[numerical_attributes])\n",
    "    for key in ['Gender','family_history_with_overweight','FAVC']:\n",
    "        _ = df[key][0]\n",
    "        df[key] = df[key].apply(lambda x: 1 if x == _ else 0)\n",
    "    for key in ['SMOKE','SCC']:\n",
    "        _ = df[key][0]\n",
    "        df[key] = df[key].apply(lambda x: 0 if x == _ else 1)\n",
    "    for key in ['CAEC','CALC','MTRANS']:\n",
    "        df[key] = df[key].astype('category')\n",
    "    df = df.drop(['id'], axis=1)\n",
    "    #y = pd.get_dummies(df['NObeyesdad'],prefix='NObeyesdad',prefix_sep='_',dtype = 'int64')\n",
    "    if train:\n",
    "        labels = {'Insufficient_Weight' : 0, 'Normal_Weight':1, 'Obesity_Type_I':2, 'Obesity_Type_II':3,\n",
    "     'Obesity_Type_III':4, 'Overweight_Level_I':5, 'Overweight_Level_II':6}\n",
    "        y = [labels[x] for x in df['NObeyesdad']]\n",
    "        df = df.drop(['NObeyesdad'], axis=1)\n",
    "        return df, y\n",
    "    return df"
   ]
  },
  {
   "cell_type": "code",
   "execution_count": 5,
   "id": "04d3a2fd",
   "metadata": {
    "execution": {
     "iopub.execute_input": "2024-02-02T11:46:47.103328Z",
     "iopub.status.busy": "2024-02-02T11:46:47.102589Z",
     "iopub.status.idle": "2024-02-02T11:46:47.217252Z",
     "shell.execute_reply": "2024-02-02T11:46:47.215950Z"
    },
    "papermill": {
     "duration": 0.126254,
     "end_time": "2024-02-02T11:46:47.220297",
     "exception": false,
     "start_time": "2024-02-02T11:46:47.094043",
     "status": "completed"
    },
    "tags": []
   },
   "outputs": [],
   "source": [
    "X, y = data_cleaning(train,train=True)"
   ]
  },
  {
   "cell_type": "code",
   "execution_count": 6,
   "id": "ef1af82f",
   "metadata": {
    "execution": {
     "iopub.execute_input": "2024-02-02T11:46:47.235840Z",
     "iopub.status.busy": "2024-02-02T11:46:47.235414Z",
     "iopub.status.idle": "2024-02-02T11:46:47.254519Z",
     "shell.execute_reply": "2024-02-02T11:46:47.253440Z"
    },
    "papermill": {
     "duration": 0.02987,
     "end_time": "2024-02-02T11:46:47.257327",
     "exception": false,
     "start_time": "2024-02-02T11:46:47.227457",
     "status": "completed"
    },
    "tags": []
   },
   "outputs": [],
   "source": [
    "X_train, X_test, y_train, y_test = train_test_split( X, y, test_size = 0.125, random_state = 42)"
   ]
  },
  {
   "cell_type": "code",
   "execution_count": 7,
   "id": "4c317cda",
   "metadata": {
    "execution": {
     "iopub.execute_input": "2024-02-02T11:46:47.273681Z",
     "iopub.status.busy": "2024-02-02T11:46:47.273278Z",
     "iopub.status.idle": "2024-02-02T11:46:47.359869Z",
     "shell.execute_reply": "2024-02-02T11:46:47.358711Z"
    },
    "papermill": {
     "duration": 0.09815,
     "end_time": "2024-02-02T11:46:47.362171",
     "exception": false,
     "start_time": "2024-02-02T11:46:47.264021",
     "status": "completed"
    },
    "tags": []
   },
   "outputs": [
    {
     "data": {
      "text/plain": [
       "0"
      ]
     },
     "execution_count": 7,
     "metadata": {},
     "output_type": "execute_result"
    }
   ],
   "source": [
    "del train\n",
    "gc.collect()"
   ]
  },
  {
   "cell_type": "code",
   "execution_count": 8,
   "id": "1440b970",
   "metadata": {
    "execution": {
     "iopub.execute_input": "2024-02-02T11:46:47.377763Z",
     "iopub.status.busy": "2024-02-02T11:46:47.376707Z",
     "iopub.status.idle": "2024-02-02T11:46:47.382414Z",
     "shell.execute_reply": "2024-02-02T11:46:47.381481Z"
    },
    "papermill": {
     "duration": 0.016023,
     "end_time": "2024-02-02T11:46:47.384851",
     "exception": false,
     "start_time": "2024-02-02T11:46:47.368828",
     "status": "completed"
    },
    "tags": []
   },
   "outputs": [],
   "source": [
    "xgb_clf = XGBClassifier(n_estimators=350, enable_categorical=True, objective = 'multi:softmax',\n",
    "                        colsample_bytree= 0.75, max_depth= 7, early_stopping_round=3, n_jobs=-1, gamma=0.1, verbose=3)"
   ]
  },
  {
   "cell_type": "code",
   "execution_count": 9,
   "id": "c0b24344",
   "metadata": {
    "execution": {
     "iopub.execute_input": "2024-02-02T11:46:47.400051Z",
     "iopub.status.busy": "2024-02-02T11:46:47.399616Z",
     "iopub.status.idle": "2024-02-02T11:46:50.752217Z",
     "shell.execute_reply": "2024-02-02T11:46:50.751333Z"
    },
    "papermill": {
     "duration": 3.362863,
     "end_time": "2024-02-02T11:46:50.754424",
     "exception": false,
     "start_time": "2024-02-02T11:46:47.391561",
     "status": "completed"
    },
    "tags": []
   },
   "outputs": [
    {
     "name": "stderr",
     "output_type": "stream",
     "text": [
      "/opt/conda/lib/python3.10/site-packages/xgboost/core.py:160: UserWarning: [11:46:47] WARNING: /workspace/src/learner.cc:742: \n",
      "Parameters: { \"early_stopping_round\", \"verbose\" } are not used.\n",
      "\n",
      "  warnings.warn(smsg, UserWarning)\n"
     ]
    },
    {
     "data": {
      "text/html": [
       "<style>#sk-container-id-1 {color: black;background-color: white;}#sk-container-id-1 pre{padding: 0;}#sk-container-id-1 div.sk-toggleable {background-color: white;}#sk-container-id-1 label.sk-toggleable__label {cursor: pointer;display: block;width: 100%;margin-bottom: 0;padding: 0.3em;box-sizing: border-box;text-align: center;}#sk-container-id-1 label.sk-toggleable__label-arrow:before {content: \"▸\";float: left;margin-right: 0.25em;color: #696969;}#sk-container-id-1 label.sk-toggleable__label-arrow:hover:before {color: black;}#sk-container-id-1 div.sk-estimator:hover label.sk-toggleable__label-arrow:before {color: black;}#sk-container-id-1 div.sk-toggleable__content {max-height: 0;max-width: 0;overflow: hidden;text-align: left;background-color: #f0f8ff;}#sk-container-id-1 div.sk-toggleable__content pre {margin: 0.2em;color: black;border-radius: 0.25em;background-color: #f0f8ff;}#sk-container-id-1 input.sk-toggleable__control:checked~div.sk-toggleable__content {max-height: 200px;max-width: 100%;overflow: auto;}#sk-container-id-1 input.sk-toggleable__control:checked~label.sk-toggleable__label-arrow:before {content: \"▾\";}#sk-container-id-1 div.sk-estimator input.sk-toggleable__control:checked~label.sk-toggleable__label {background-color: #d4ebff;}#sk-container-id-1 div.sk-label input.sk-toggleable__control:checked~label.sk-toggleable__label {background-color: #d4ebff;}#sk-container-id-1 input.sk-hidden--visually {border: 0;clip: rect(1px 1px 1px 1px);clip: rect(1px, 1px, 1px, 1px);height: 1px;margin: -1px;overflow: hidden;padding: 0;position: absolute;width: 1px;}#sk-container-id-1 div.sk-estimator {font-family: monospace;background-color: #f0f8ff;border: 1px dotted black;border-radius: 0.25em;box-sizing: border-box;margin-bottom: 0.5em;}#sk-container-id-1 div.sk-estimator:hover {background-color: #d4ebff;}#sk-container-id-1 div.sk-parallel-item::after {content: \"\";width: 100%;border-bottom: 1px solid gray;flex-grow: 1;}#sk-container-id-1 div.sk-label:hover label.sk-toggleable__label {background-color: #d4ebff;}#sk-container-id-1 div.sk-serial::before {content: \"\";position: absolute;border-left: 1px solid gray;box-sizing: border-box;top: 0;bottom: 0;left: 50%;z-index: 0;}#sk-container-id-1 div.sk-serial {display: flex;flex-direction: column;align-items: center;background-color: white;padding-right: 0.2em;padding-left: 0.2em;position: relative;}#sk-container-id-1 div.sk-item {position: relative;z-index: 1;}#sk-container-id-1 div.sk-parallel {display: flex;align-items: stretch;justify-content: center;background-color: white;position: relative;}#sk-container-id-1 div.sk-item::before, #sk-container-id-1 div.sk-parallel-item::before {content: \"\";position: absolute;border-left: 1px solid gray;box-sizing: border-box;top: 0;bottom: 0;left: 50%;z-index: -1;}#sk-container-id-1 div.sk-parallel-item {display: flex;flex-direction: column;z-index: 1;position: relative;background-color: white;}#sk-container-id-1 div.sk-parallel-item:first-child::after {align-self: flex-end;width: 50%;}#sk-container-id-1 div.sk-parallel-item:last-child::after {align-self: flex-start;width: 50%;}#sk-container-id-1 div.sk-parallel-item:only-child::after {width: 0;}#sk-container-id-1 div.sk-dashed-wrapped {border: 1px dashed gray;margin: 0 0.4em 0.5em 0.4em;box-sizing: border-box;padding-bottom: 0.4em;background-color: white;}#sk-container-id-1 div.sk-label label {font-family: monospace;font-weight: bold;display: inline-block;line-height: 1.2em;}#sk-container-id-1 div.sk-label-container {text-align: center;}#sk-container-id-1 div.sk-container {/* jupyter's `normalize.less` sets `[hidden] { display: none; }` but bootstrap.min.css set `[hidden] { display: none !important; }` so we also need the `!important` here to be able to override the default hidden behavior on the sphinx rendered scikit-learn.org. See: https://github.com/scikit-learn/scikit-learn/issues/21755 */display: inline-block !important;position: relative;}#sk-container-id-1 div.sk-text-repr-fallback {display: none;}</style><div id=\"sk-container-id-1\" class=\"sk-top-container\"><div class=\"sk-text-repr-fallback\"><pre>XGBClassifier(base_score=None, booster=None, callbacks=None,\n",
       "              colsample_bylevel=None, colsample_bynode=None,\n",
       "              colsample_bytree=0.75, device=None, early_stopping_round=3,\n",
       "              early_stopping_rounds=None, enable_categorical=True,\n",
       "              eval_metric=None, feature_types=None, gamma=0.1, grow_policy=None,\n",
       "              importance_type=None, interaction_constraints=None,\n",
       "              learning_rate=None, max_bin=None, max_cat_threshold=None,\n",
       "              max_cat_to_onehot=None, max_delta_step=None, max_depth=7,\n",
       "              max_leaves=None, min_child_weight=None, missing=nan,\n",
       "              monotone_constraints=None, multi_strategy=None, n_estimators=350,\n",
       "              n_jobs=-1, num_parallel_tree=None, ...)</pre><b>In a Jupyter environment, please rerun this cell to show the HTML representation or trust the notebook. <br />On GitHub, the HTML representation is unable to render, please try loading this page with nbviewer.org.</b></div><div class=\"sk-container\" hidden><div class=\"sk-item\"><div class=\"sk-estimator sk-toggleable\"><input class=\"sk-toggleable__control sk-hidden--visually\" id=\"sk-estimator-id-1\" type=\"checkbox\" checked><label for=\"sk-estimator-id-1\" class=\"sk-toggleable__label sk-toggleable__label-arrow\">XGBClassifier</label><div class=\"sk-toggleable__content\"><pre>XGBClassifier(base_score=None, booster=None, callbacks=None,\n",
       "              colsample_bylevel=None, colsample_bynode=None,\n",
       "              colsample_bytree=0.75, device=None, early_stopping_round=3,\n",
       "              early_stopping_rounds=None, enable_categorical=True,\n",
       "              eval_metric=None, feature_types=None, gamma=0.1, grow_policy=None,\n",
       "              importance_type=None, interaction_constraints=None,\n",
       "              learning_rate=None, max_bin=None, max_cat_threshold=None,\n",
       "              max_cat_to_onehot=None, max_delta_step=None, max_depth=7,\n",
       "              max_leaves=None, min_child_weight=None, missing=nan,\n",
       "              monotone_constraints=None, multi_strategy=None, n_estimators=350,\n",
       "              n_jobs=-1, num_parallel_tree=None, ...)</pre></div></div></div></div></div>"
      ],
      "text/plain": [
       "XGBClassifier(base_score=None, booster=None, callbacks=None,\n",
       "              colsample_bylevel=None, colsample_bynode=None,\n",
       "              colsample_bytree=0.75, device=None, early_stopping_round=3,\n",
       "              early_stopping_rounds=None, enable_categorical=True,\n",
       "              eval_metric=None, feature_types=None, gamma=0.1, grow_policy=None,\n",
       "              importance_type=None, interaction_constraints=None,\n",
       "              learning_rate=None, max_bin=None, max_cat_threshold=None,\n",
       "              max_cat_to_onehot=None, max_delta_step=None, max_depth=7,\n",
       "              max_leaves=None, min_child_weight=None, missing=nan,\n",
       "              monotone_constraints=None, multi_strategy=None, n_estimators=350,\n",
       "              n_jobs=-1, num_parallel_tree=None, ...)"
      ]
     },
     "execution_count": 9,
     "metadata": {},
     "output_type": "execute_result"
    }
   ],
   "source": [
    "xgb_clf.fit(X_train, y_train)"
   ]
  },
  {
   "cell_type": "code",
   "execution_count": 10,
   "id": "f59b280c",
   "metadata": {
    "execution": {
     "iopub.execute_input": "2024-02-02T11:46:50.771029Z",
     "iopub.status.busy": "2024-02-02T11:46:50.769852Z",
     "iopub.status.idle": "2024-02-02T11:46:50.832954Z",
     "shell.execute_reply": "2024-02-02T11:46:50.831591Z"
    },
    "papermill": {
     "duration": 0.074045,
     "end_time": "2024-02-02T11:46:50.835506",
     "exception": false,
     "start_time": "2024-02-02T11:46:50.761461",
     "status": "completed"
    },
    "tags": []
   },
   "outputs": [
    {
     "data": {
      "text/plain": [
       "{'0': {'precision': 0.9585987261146497,\n",
       "  'recall': 0.9261538461538461,\n",
       "  'f1-score': 0.9420970266040688,\n",
       "  'support': 325},\n",
       " '1': {'precision': 0.8777506112469438,\n",
       "  'recall': 0.8930348258706468,\n",
       "  'f1-score': 0.8853267570900123,\n",
       "  'support': 402},\n",
       " '2': {'precision': 0.8885542168674698,\n",
       "  'recall': 0.8753709198813057,\n",
       "  'f1-score': 0.8819133034379671,\n",
       "  'support': 337},\n",
       " '3': {'precision': 0.9779411764705882,\n",
       "  'recall': 0.9684466019417476,\n",
       "  'f1-score': 0.973170731707317,\n",
       "  'support': 412},\n",
       " '4': {'precision': 0.9960079840319361,\n",
       "  'recall': 0.998,\n",
       "  'f1-score': 0.997002997002997,\n",
       "  'support': 500},\n",
       " '5': {'precision': 0.7866666666666666,\n",
       "  'recall': 0.7866666666666666,\n",
       "  'f1-score': 0.7866666666666666,\n",
       "  'support': 300},\n",
       " '6': {'precision': 0.8066465256797583,\n",
       "  'recall': 0.8369905956112853,\n",
       "  'f1-score': 0.8215384615384616,\n",
       "  'support': 319},\n",
       " 'accuracy': 0.9078998073217727,\n",
       " 'macro avg': {'precision': 0.8988808438682876,\n",
       "  'recall': 0.8978090651607855,\n",
       "  'f1-score': 0.8982451348639271,\n",
       "  'support': 2595},\n",
       " 'weighted avg': {'precision': 0.9087010023917392,\n",
       "  'recall': 0.9078998073217727,\n",
       "  'f1-score': 0.9082105134685104,\n",
       "  'support': 2595}}"
      ]
     },
     "execution_count": 10,
     "metadata": {},
     "output_type": "execute_result"
    }
   ],
   "source": [
    "classification_report(y_test,xgb_clf.predict(X_test),output_dict=True)"
   ]
  },
  {
   "cell_type": "code",
   "execution_count": 11,
   "id": "d25e63be",
   "metadata": {
    "execution": {
     "iopub.execute_input": "2024-02-02T11:46:50.852192Z",
     "iopub.status.busy": "2024-02-02T11:46:50.851783Z",
     "iopub.status.idle": "2024-02-02T11:46:54.105159Z",
     "shell.execute_reply": "2024-02-02T11:46:54.103847Z"
    },
    "papermill": {
     "duration": 3.264712,
     "end_time": "2024-02-02T11:46:54.107854",
     "exception": false,
     "start_time": "2024-02-02T11:46:50.843142",
     "status": "completed"
    },
    "tags": []
   },
   "outputs": [
    {
     "name": "stderr",
     "output_type": "stream",
     "text": [
      "/opt/conda/lib/python3.10/site-packages/xgboost/core.py:160: UserWarning: [11:46:50] WARNING: /workspace/src/learner.cc:742: \n",
      "Parameters: { \"early_stopping_round\", \"verbose\" } are not used.\n",
      "\n",
      "  warnings.warn(smsg, UserWarning)\n"
     ]
    },
    {
     "data": {
      "text/html": [
       "<style>#sk-container-id-2 {color: black;background-color: white;}#sk-container-id-2 pre{padding: 0;}#sk-container-id-2 div.sk-toggleable {background-color: white;}#sk-container-id-2 label.sk-toggleable__label {cursor: pointer;display: block;width: 100%;margin-bottom: 0;padding: 0.3em;box-sizing: border-box;text-align: center;}#sk-container-id-2 label.sk-toggleable__label-arrow:before {content: \"▸\";float: left;margin-right: 0.25em;color: #696969;}#sk-container-id-2 label.sk-toggleable__label-arrow:hover:before {color: black;}#sk-container-id-2 div.sk-estimator:hover label.sk-toggleable__label-arrow:before {color: black;}#sk-container-id-2 div.sk-toggleable__content {max-height: 0;max-width: 0;overflow: hidden;text-align: left;background-color: #f0f8ff;}#sk-container-id-2 div.sk-toggleable__content pre {margin: 0.2em;color: black;border-radius: 0.25em;background-color: #f0f8ff;}#sk-container-id-2 input.sk-toggleable__control:checked~div.sk-toggleable__content {max-height: 200px;max-width: 100%;overflow: auto;}#sk-container-id-2 input.sk-toggleable__control:checked~label.sk-toggleable__label-arrow:before {content: \"▾\";}#sk-container-id-2 div.sk-estimator input.sk-toggleable__control:checked~label.sk-toggleable__label {background-color: #d4ebff;}#sk-container-id-2 div.sk-label input.sk-toggleable__control:checked~label.sk-toggleable__label {background-color: #d4ebff;}#sk-container-id-2 input.sk-hidden--visually {border: 0;clip: rect(1px 1px 1px 1px);clip: rect(1px, 1px, 1px, 1px);height: 1px;margin: -1px;overflow: hidden;padding: 0;position: absolute;width: 1px;}#sk-container-id-2 div.sk-estimator {font-family: monospace;background-color: #f0f8ff;border: 1px dotted black;border-radius: 0.25em;box-sizing: border-box;margin-bottom: 0.5em;}#sk-container-id-2 div.sk-estimator:hover {background-color: #d4ebff;}#sk-container-id-2 div.sk-parallel-item::after {content: \"\";width: 100%;border-bottom: 1px solid gray;flex-grow: 1;}#sk-container-id-2 div.sk-label:hover label.sk-toggleable__label {background-color: #d4ebff;}#sk-container-id-2 div.sk-serial::before {content: \"\";position: absolute;border-left: 1px solid gray;box-sizing: border-box;top: 0;bottom: 0;left: 50%;z-index: 0;}#sk-container-id-2 div.sk-serial {display: flex;flex-direction: column;align-items: center;background-color: white;padding-right: 0.2em;padding-left: 0.2em;position: relative;}#sk-container-id-2 div.sk-item {position: relative;z-index: 1;}#sk-container-id-2 div.sk-parallel {display: flex;align-items: stretch;justify-content: center;background-color: white;position: relative;}#sk-container-id-2 div.sk-item::before, #sk-container-id-2 div.sk-parallel-item::before {content: \"\";position: absolute;border-left: 1px solid gray;box-sizing: border-box;top: 0;bottom: 0;left: 50%;z-index: -1;}#sk-container-id-2 div.sk-parallel-item {display: flex;flex-direction: column;z-index: 1;position: relative;background-color: white;}#sk-container-id-2 div.sk-parallel-item:first-child::after {align-self: flex-end;width: 50%;}#sk-container-id-2 div.sk-parallel-item:last-child::after {align-self: flex-start;width: 50%;}#sk-container-id-2 div.sk-parallel-item:only-child::after {width: 0;}#sk-container-id-2 div.sk-dashed-wrapped {border: 1px dashed gray;margin: 0 0.4em 0.5em 0.4em;box-sizing: border-box;padding-bottom: 0.4em;background-color: white;}#sk-container-id-2 div.sk-label label {font-family: monospace;font-weight: bold;display: inline-block;line-height: 1.2em;}#sk-container-id-2 div.sk-label-container {text-align: center;}#sk-container-id-2 div.sk-container {/* jupyter's `normalize.less` sets `[hidden] { display: none; }` but bootstrap.min.css set `[hidden] { display: none !important; }` so we also need the `!important` here to be able to override the default hidden behavior on the sphinx rendered scikit-learn.org. See: https://github.com/scikit-learn/scikit-learn/issues/21755 */display: inline-block !important;position: relative;}#sk-container-id-2 div.sk-text-repr-fallback {display: none;}</style><div id=\"sk-container-id-2\" class=\"sk-top-container\"><div class=\"sk-text-repr-fallback\"><pre>XGBClassifier(base_score=None, booster=None, callbacks=None,\n",
       "              colsample_bylevel=None, colsample_bynode=None,\n",
       "              colsample_bytree=0.75, device=None, early_stopping_round=3,\n",
       "              early_stopping_rounds=None, enable_categorical=True,\n",
       "              eval_metric=None, feature_types=None, gamma=0.1, grow_policy=None,\n",
       "              importance_type=None, interaction_constraints=None,\n",
       "              learning_rate=None, max_bin=None, max_cat_threshold=None,\n",
       "              max_cat_to_onehot=None, max_delta_step=None, max_depth=7,\n",
       "              max_leaves=None, min_child_weight=None, missing=nan,\n",
       "              monotone_constraints=None, multi_strategy=None, n_estimators=350,\n",
       "              n_jobs=-1, num_parallel_tree=None, ...)</pre><b>In a Jupyter environment, please rerun this cell to show the HTML representation or trust the notebook. <br />On GitHub, the HTML representation is unable to render, please try loading this page with nbviewer.org.</b></div><div class=\"sk-container\" hidden><div class=\"sk-item\"><div class=\"sk-estimator sk-toggleable\"><input class=\"sk-toggleable__control sk-hidden--visually\" id=\"sk-estimator-id-2\" type=\"checkbox\" checked><label for=\"sk-estimator-id-2\" class=\"sk-toggleable__label sk-toggleable__label-arrow\">XGBClassifier</label><div class=\"sk-toggleable__content\"><pre>XGBClassifier(base_score=None, booster=None, callbacks=None,\n",
       "              colsample_bylevel=None, colsample_bynode=None,\n",
       "              colsample_bytree=0.75, device=None, early_stopping_round=3,\n",
       "              early_stopping_rounds=None, enable_categorical=True,\n",
       "              eval_metric=None, feature_types=None, gamma=0.1, grow_policy=None,\n",
       "              importance_type=None, interaction_constraints=None,\n",
       "              learning_rate=None, max_bin=None, max_cat_threshold=None,\n",
       "              max_cat_to_onehot=None, max_delta_step=None, max_depth=7,\n",
       "              max_leaves=None, min_child_weight=None, missing=nan,\n",
       "              monotone_constraints=None, multi_strategy=None, n_estimators=350,\n",
       "              n_jobs=-1, num_parallel_tree=None, ...)</pre></div></div></div></div></div>"
      ],
      "text/plain": [
       "XGBClassifier(base_score=None, booster=None, callbacks=None,\n",
       "              colsample_bylevel=None, colsample_bynode=None,\n",
       "              colsample_bytree=0.75, device=None, early_stopping_round=3,\n",
       "              early_stopping_rounds=None, enable_categorical=True,\n",
       "              eval_metric=None, feature_types=None, gamma=0.1, grow_policy=None,\n",
       "              importance_type=None, interaction_constraints=None,\n",
       "              learning_rate=None, max_bin=None, max_cat_threshold=None,\n",
       "              max_cat_to_onehot=None, max_delta_step=None, max_depth=7,\n",
       "              max_leaves=None, min_child_weight=None, missing=nan,\n",
       "              monotone_constraints=None, multi_strategy=None, n_estimators=350,\n",
       "              n_jobs=-1, num_parallel_tree=None, ...)"
      ]
     },
     "execution_count": 11,
     "metadata": {},
     "output_type": "execute_result"
    }
   ],
   "source": [
    "xgb_clf.fit(X, y)"
   ]
  },
  {
   "cell_type": "code",
   "execution_count": 12,
   "id": "eba08936",
   "metadata": {
    "execution": {
     "iopub.execute_input": "2024-02-02T11:46:54.125122Z",
     "iopub.status.busy": "2024-02-02T11:46:54.124703Z",
     "iopub.status.idle": "2024-02-02T11:46:54.274706Z",
     "shell.execute_reply": "2024-02-02T11:46:54.273558Z"
    },
    "papermill": {
     "duration": 0.161708,
     "end_time": "2024-02-02T11:46:54.277418",
     "exception": false,
     "start_time": "2024-02-02T11:46:54.115710",
     "status": "completed"
    },
    "tags": []
   },
   "outputs": [],
   "source": [
    "test = pd.read_csv(\"/kaggle/input/playground-series-s4e2/test.csv\")\n",
    "test = data_cleaning(test,train=False)"
   ]
  },
  {
   "cell_type": "code",
   "execution_count": 13,
   "id": "0a047d7a",
   "metadata": {
    "execution": {
     "iopub.execute_input": "2024-02-02T11:46:54.295906Z",
     "iopub.status.busy": "2024-02-02T11:46:54.295359Z",
     "iopub.status.idle": "2024-02-02T11:46:54.440240Z",
     "shell.execute_reply": "2024-02-02T11:46:54.439064Z"
    },
    "papermill": {
     "duration": 0.157559,
     "end_time": "2024-02-02T11:46:54.442959",
     "exception": false,
     "start_time": "2024-02-02T11:46:54.285400",
     "status": "completed"
    },
    "tags": []
   },
   "outputs": [],
   "source": [
    "y_p = xgb_clf.predict(test)"
   ]
  },
  {
   "cell_type": "code",
   "execution_count": 14,
   "id": "d253f49f",
   "metadata": {
    "execution": {
     "iopub.execute_input": "2024-02-02T11:46:54.462116Z",
     "iopub.status.busy": "2024-02-02T11:46:54.461701Z",
     "iopub.status.idle": "2024-02-02T11:46:54.512709Z",
     "shell.execute_reply": "2024-02-02T11:46:54.511090Z"
    },
    "papermill": {
     "duration": 0.063589,
     "end_time": "2024-02-02T11:46:54.515578",
     "exception": false,
     "start_time": "2024-02-02T11:46:54.451989",
     "status": "completed"
    },
    "tags": []
   },
   "outputs": [],
   "source": [
    "def delabel(y_p):\n",
    "    labels = {  0 : 'Insufficient_Weight', 1 : 'Normal_Weight', 2:'Obesity_Type_I', 3:'Obesity_Type_II',\n",
    "     4:'Obesity_Type_III', 5:'Overweight_Level_I', 6:'Overweight_Level_II'}\n",
    "    y_p = [labels[p] for p in y_p]\n",
    "    return y_p\n",
    "y_p = delabel(y_p)"
   ]
  },
  {
   "cell_type": "code",
   "execution_count": 15,
   "id": "ed32de5e",
   "metadata": {
    "execution": {
     "iopub.execute_input": "2024-02-02T11:46:54.534059Z",
     "iopub.status.busy": "2024-02-02T11:46:54.533553Z",
     "iopub.status.idle": "2024-02-02T11:46:54.591727Z",
     "shell.execute_reply": "2024-02-02T11:46:54.590761Z"
    },
    "papermill": {
     "duration": 0.070404,
     "end_time": "2024-02-02T11:46:54.594407",
     "exception": false,
     "start_time": "2024-02-02T11:46:54.524003",
     "status": "completed"
    },
    "tags": []
   },
   "outputs": [],
   "source": [
    "sub = pd.read_csv(\"/kaggle/input/playground-series-s4e2/sample_submission.csv\")\n",
    "sub['NObeyesdad'] = y_p\n",
    "sub.to_csv(\"submission.csv\",index='id')"
   ]
  },
  {
   "cell_type": "code",
   "execution_count": null,
   "id": "21bf5644",
   "metadata": {
    "papermill": {
     "duration": 0.007755,
     "end_time": "2024-02-02T11:46:54.611621",
     "exception": false,
     "start_time": "2024-02-02T11:46:54.603866",
     "status": "completed"
    },
    "tags": []
   },
   "outputs": [],
   "source": []
  }
 ],
 "metadata": {
  "kaggle": {
   "accelerator": "none",
   "dataSources": [
    {
     "databundleVersionId": 7609535,
     "sourceId": 68479,
     "sourceType": "competition"
    }
   ],
   "dockerImageVersionId": 30646,
   "isGpuEnabled": false,
   "isInternetEnabled": true,
   "language": "python",
   "sourceType": "notebook"
  },
  "kernelspec": {
   "display_name": "Python 3",
   "language": "python",
   "name": "python3"
  },
  "language_info": {
   "codemirror_mode": {
    "name": "ipython",
    "version": 3
   },
   "file_extension": ".py",
   "mimetype": "text/x-python",
   "name": "python",
   "nbconvert_exporter": "python",
   "pygments_lexer": "ipython3",
   "version": "3.10.13"
  },
  "papermill": {
   "default_parameters": {},
   "duration": 14.624754,
   "end_time": "2024-02-02T11:46:55.241550",
   "environment_variables": {},
   "exception": null,
   "input_path": "__notebook__.ipynb",
   "output_path": "__notebook__.ipynb",
   "parameters": {},
   "start_time": "2024-02-02T11:46:40.616796",
   "version": "2.5.0"
  }
 },
 "nbformat": 4,
 "nbformat_minor": 5
}
