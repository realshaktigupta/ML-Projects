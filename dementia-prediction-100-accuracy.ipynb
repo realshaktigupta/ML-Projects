{
 "cells": [
  {
   "cell_type": "markdown",
   "id": "7f372c6e",
   "metadata": {
    "papermill": {
     "duration": 0.010537,
     "end_time": "2024-01-31T16:29:22.959593",
     "exception": false,
     "start_time": "2024-01-31T16:29:22.949056",
     "status": "completed"
    },
    "tags": []
   },
   "source": [
    "# Imports"
   ]
  },
  {
   "cell_type": "code",
   "execution_count": 1,
   "id": "b0b79006",
   "metadata": {
    "_cell_guid": "b1076dfc-b9ad-4769-8c92-a6c4dae69d19",
    "_uuid": "8f2839f25d086af736a60e9eeb907d3b93b6e0e5",
    "execution": {
     "iopub.execute_input": "2024-01-31T16:29:22.981173Z",
     "iopub.status.busy": "2024-01-31T16:29:22.980765Z",
     "iopub.status.idle": "2024-01-31T16:29:25.846625Z",
     "shell.execute_reply": "2024-01-31T16:29:25.845348Z"
    },
    "papermill": {
     "duration": 2.880539,
     "end_time": "2024-01-31T16:29:25.849801",
     "exception": false,
     "start_time": "2024-01-31T16:29:22.969262",
     "status": "completed"
    },
    "tags": []
   },
   "outputs": [],
   "source": [
    "import numpy as np\n",
    "import pandas as pd\n",
    "import matplotlib.pyplot as plt\n",
    "from sklearn.preprocessing import StandardScaler\n",
    "from sklearn.impute import SimpleImputer\n",
    "from xgboost import XGBClassifier\n",
    "from sklearn.model_selection import train_test_split\n",
    "from sklearn.metrics import confusion_matrix, roc_auc_score, classification_report"
   ]
  },
  {
   "cell_type": "code",
   "execution_count": 2,
   "id": "a0c65a8f",
   "metadata": {
    "execution": {
     "iopub.execute_input": "2024-01-31T16:29:25.871913Z",
     "iopub.status.busy": "2024-01-31T16:29:25.871121Z",
     "iopub.status.idle": "2024-01-31T16:29:25.941407Z",
     "shell.execute_reply": "2024-01-31T16:29:25.940298Z"
    },
    "papermill": {
     "duration": 0.084583,
     "end_time": "2024-01-31T16:29:25.944389",
     "exception": false,
     "start_time": "2024-01-31T16:29:25.859806",
     "status": "completed"
    },
    "tags": []
   },
   "outputs": [
    {
     "data": {
      "text/html": [
       "<div>\n",
       "<style scoped>\n",
       "    .dataframe tbody tr th:only-of-type {\n",
       "        vertical-align: middle;\n",
       "    }\n",
       "\n",
       "    .dataframe tbody tr th {\n",
       "        vertical-align: top;\n",
       "    }\n",
       "\n",
       "    .dataframe thead th {\n",
       "        text-align: right;\n",
       "    }\n",
       "</style>\n",
       "<table border=\"1\" class=\"dataframe\">\n",
       "  <thead>\n",
       "    <tr style=\"text-align: right;\">\n",
       "      <th></th>\n",
       "      <th>Diabetic</th>\n",
       "      <th>AlcoholLevel</th>\n",
       "      <th>HeartRate</th>\n",
       "      <th>BloodOxygenLevel</th>\n",
       "      <th>BodyTemperature</th>\n",
       "      <th>Weight</th>\n",
       "      <th>MRI_Delay</th>\n",
       "      <th>Prescription</th>\n",
       "      <th>Dosage in mg</th>\n",
       "      <th>Age</th>\n",
       "      <th>...</th>\n",
       "      <th>Smoking_Status</th>\n",
       "      <th>APOE_ε4</th>\n",
       "      <th>Physical_Activity</th>\n",
       "      <th>Depression_Status</th>\n",
       "      <th>Cognitive_Test_Scores</th>\n",
       "      <th>Medication_History</th>\n",
       "      <th>Nutrition_Diet</th>\n",
       "      <th>Sleep_Quality</th>\n",
       "      <th>Chronic_Health_Conditions</th>\n",
       "      <th>Dementia</th>\n",
       "    </tr>\n",
       "  </thead>\n",
       "  <tbody>\n",
       "    <tr>\n",
       "      <th>0</th>\n",
       "      <td>1</td>\n",
       "      <td>0.084974</td>\n",
       "      <td>98</td>\n",
       "      <td>96.230743</td>\n",
       "      <td>36.224852</td>\n",
       "      <td>57.563978</td>\n",
       "      <td>36.421028</td>\n",
       "      <td>NaN</td>\n",
       "      <td>NaN</td>\n",
       "      <td>60</td>\n",
       "      <td>...</td>\n",
       "      <td>Current Smoker</td>\n",
       "      <td>Negative</td>\n",
       "      <td>Sedentary</td>\n",
       "      <td>No</td>\n",
       "      <td>10</td>\n",
       "      <td>No</td>\n",
       "      <td>Low-Carb Diet</td>\n",
       "      <td>Poor</td>\n",
       "      <td>Diabetes</td>\n",
       "      <td>0</td>\n",
       "    </tr>\n",
       "    <tr>\n",
       "      <th>1</th>\n",
       "      <td>0</td>\n",
       "      <td>0.016973</td>\n",
       "      <td>78</td>\n",
       "      <td>93.032122</td>\n",
       "      <td>36.183874</td>\n",
       "      <td>56.832335</td>\n",
       "      <td>31.157633</td>\n",
       "      <td>Galantamine</td>\n",
       "      <td>12.0</td>\n",
       "      <td>61</td>\n",
       "      <td>...</td>\n",
       "      <td>Former Smoker</td>\n",
       "      <td>Positive</td>\n",
       "      <td>Moderate Activity</td>\n",
       "      <td>No</td>\n",
       "      <td>1</td>\n",
       "      <td>Yes</td>\n",
       "      <td>Low-Carb Diet</td>\n",
       "      <td>Poor</td>\n",
       "      <td>Heart Disease</td>\n",
       "      <td>1</td>\n",
       "    </tr>\n",
       "    <tr>\n",
       "      <th>2</th>\n",
       "      <td>0</td>\n",
       "      <td>0.009000</td>\n",
       "      <td>89</td>\n",
       "      <td>93.566504</td>\n",
       "      <td>37.326321</td>\n",
       "      <td>59.759066</td>\n",
       "      <td>37.640435</td>\n",
       "      <td>NaN</td>\n",
       "      <td>NaN</td>\n",
       "      <td>69</td>\n",
       "      <td>...</td>\n",
       "      <td>Former Smoker</td>\n",
       "      <td>Negative</td>\n",
       "      <td>Moderate Activity</td>\n",
       "      <td>No</td>\n",
       "      <td>8</td>\n",
       "      <td>No</td>\n",
       "      <td>Mediterranean Diet</td>\n",
       "      <td>Poor</td>\n",
       "      <td>Heart Disease</td>\n",
       "      <td>0</td>\n",
       "    </tr>\n",
       "    <tr>\n",
       "      <th>3</th>\n",
       "      <td>0</td>\n",
       "      <td>0.086437</td>\n",
       "      <td>60</td>\n",
       "      <td>93.906510</td>\n",
       "      <td>37.030620</td>\n",
       "      <td>58.266471</td>\n",
       "      <td>50.673992</td>\n",
       "      <td>Donepezil</td>\n",
       "      <td>23.0</td>\n",
       "      <td>78</td>\n",
       "      <td>...</td>\n",
       "      <td>Never Smoked</td>\n",
       "      <td>Negative</td>\n",
       "      <td>Mild Activity</td>\n",
       "      <td>Yes</td>\n",
       "      <td>5</td>\n",
       "      <td>Yes</td>\n",
       "      <td>Balanced Diet</td>\n",
       "      <td>Poor</td>\n",
       "      <td>Hypertension</td>\n",
       "      <td>1</td>\n",
       "    </tr>\n",
       "    <tr>\n",
       "      <th>4</th>\n",
       "      <td>1</td>\n",
       "      <td>0.150747</td>\n",
       "      <td>67</td>\n",
       "      <td>97.508994</td>\n",
       "      <td>36.062121</td>\n",
       "      <td>67.705027</td>\n",
       "      <td>27.810601</td>\n",
       "      <td>Memantine</td>\n",
       "      <td>20.0</td>\n",
       "      <td>77</td>\n",
       "      <td>...</td>\n",
       "      <td>Never Smoked</td>\n",
       "      <td>Positive</td>\n",
       "      <td>Mild Activity</td>\n",
       "      <td>No</td>\n",
       "      <td>0</td>\n",
       "      <td>Yes</td>\n",
       "      <td>Low-Carb Diet</td>\n",
       "      <td>Good</td>\n",
       "      <td>Diabetes</td>\n",
       "      <td>1</td>\n",
       "    </tr>\n",
       "  </tbody>\n",
       "</table>\n",
       "<p>5 rows × 24 columns</p>\n",
       "</div>"
      ],
      "text/plain": [
       "   Diabetic  AlcoholLevel  HeartRate  BloodOxygenLevel  BodyTemperature  \\\n",
       "0         1      0.084974         98         96.230743        36.224852   \n",
       "1         0      0.016973         78         93.032122        36.183874   \n",
       "2         0      0.009000         89         93.566504        37.326321   \n",
       "3         0      0.086437         60         93.906510        37.030620   \n",
       "4         1      0.150747         67         97.508994        36.062121   \n",
       "\n",
       "      Weight  MRI_Delay Prescription  Dosage in mg  Age  ...  Smoking_Status  \\\n",
       "0  57.563978  36.421028          NaN           NaN   60  ...  Current Smoker   \n",
       "1  56.832335  31.157633  Galantamine          12.0   61  ...   Former Smoker   \n",
       "2  59.759066  37.640435          NaN           NaN   69  ...   Former Smoker   \n",
       "3  58.266471  50.673992    Donepezil          23.0   78  ...    Never Smoked   \n",
       "4  67.705027  27.810601    Memantine          20.0   77  ...    Never Smoked   \n",
       "\n",
       "    APOE_ε4  Physical_Activity Depression_Status Cognitive_Test_Scores  \\\n",
       "0  Negative          Sedentary                No                    10   \n",
       "1  Positive  Moderate Activity                No                     1   \n",
       "2  Negative  Moderate Activity                No                     8   \n",
       "3  Negative      Mild Activity               Yes                     5   \n",
       "4  Positive      Mild Activity                No                     0   \n",
       "\n",
       "  Medication_History      Nutrition_Diet Sleep_Quality  \\\n",
       "0                 No       Low-Carb Diet          Poor   \n",
       "1                Yes       Low-Carb Diet          Poor   \n",
       "2                 No  Mediterranean Diet          Poor   \n",
       "3                Yes       Balanced Diet          Poor   \n",
       "4                Yes       Low-Carb Diet          Good   \n",
       "\n",
       "   Chronic_Health_Conditions Dementia  \n",
       "0                   Diabetes        0  \n",
       "1              Heart Disease        1  \n",
       "2              Heart Disease        0  \n",
       "3               Hypertension        1  \n",
       "4                   Diabetes        1  \n",
       "\n",
       "[5 rows x 24 columns]"
      ]
     },
     "execution_count": 2,
     "metadata": {},
     "output_type": "execute_result"
    }
   ],
   "source": [
    "data = pd.read_csv(\"/kaggle/input/dementia-patient-health-and-prescriptions-dataset/dementia_patients_health_data.csv\")\n",
    "data.head(5)"
   ]
  },
  {
   "cell_type": "markdown",
   "id": "848df033",
   "metadata": {
    "papermill": {
     "duration": 0.009979,
     "end_time": "2024-01-31T16:29:25.964415",
     "exception": false,
     "start_time": "2024-01-31T16:29:25.954436",
     "status": "completed"
    },
    "tags": []
   },
   "source": [
    "# Some Data Exploration"
   ]
  },
  {
   "cell_type": "code",
   "execution_count": 3,
   "id": "031e9ccd",
   "metadata": {
    "execution": {
     "iopub.execute_input": "2024-01-31T16:29:25.986705Z",
     "iopub.status.busy": "2024-01-31T16:29:25.986299Z",
     "iopub.status.idle": "2024-01-31T16:29:26.012739Z",
     "shell.execute_reply": "2024-01-31T16:29:26.011766Z"
    },
    "papermill": {
     "duration": 0.040743,
     "end_time": "2024-01-31T16:29:26.015318",
     "exception": false,
     "start_time": "2024-01-31T16:29:25.974575",
     "status": "completed"
    },
    "tags": []
   },
   "outputs": [
    {
     "name": "stdout",
     "output_type": "stream",
     "text": [
      "<class 'pandas.core.frame.DataFrame'>\n",
      "RangeIndex: 1000 entries, 0 to 999\n",
      "Data columns (total 24 columns):\n",
      " #   Column                     Non-Null Count  Dtype  \n",
      "---  ------                     --------------  -----  \n",
      " 0   Diabetic                   1000 non-null   int64  \n",
      " 1   AlcoholLevel               1000 non-null   float64\n",
      " 2   HeartRate                  1000 non-null   int64  \n",
      " 3   BloodOxygenLevel           1000 non-null   float64\n",
      " 4   BodyTemperature            1000 non-null   float64\n",
      " 5   Weight                     1000 non-null   float64\n",
      " 6   MRI_Delay                  1000 non-null   float64\n",
      " 7   Prescription               485 non-null    object \n",
      " 8   Dosage in mg               485 non-null    float64\n",
      " 9   Age                        1000 non-null   int64  \n",
      " 10  Education_Level            1000 non-null   object \n",
      " 11  Dominant_Hand              1000 non-null   object \n",
      " 12  Gender                     1000 non-null   object \n",
      " 13  Family_History             1000 non-null   object \n",
      " 14  Smoking_Status             1000 non-null   object \n",
      " 15  APOE_ε4                    1000 non-null   object \n",
      " 16  Physical_Activity          1000 non-null   object \n",
      " 17  Depression_Status          1000 non-null   object \n",
      " 18  Cognitive_Test_Scores      1000 non-null   int64  \n",
      " 19  Medication_History         1000 non-null   object \n",
      " 20  Nutrition_Diet             1000 non-null   object \n",
      " 21  Sleep_Quality              1000 non-null   object \n",
      " 22  Chronic_Health_Conditions  821 non-null    object \n",
      " 23  Dementia                   1000 non-null   int64  \n",
      "dtypes: float64(6), int64(5), object(13)\n",
      "memory usage: 187.6+ KB\n"
     ]
    }
   ],
   "source": [
    "data.info()"
   ]
  },
  {
   "cell_type": "markdown",
   "id": "7a1d2a06",
   "metadata": {
    "papermill": {
     "duration": 0.010073,
     "end_time": "2024-01-31T16:29:26.035814",
     "exception": false,
     "start_time": "2024-01-31T16:29:26.025741",
     "status": "completed"
    },
    "tags": []
   },
   "source": [
    "Let's check for Dementia status of people who are taking prescriptions."
   ]
  },
  {
   "cell_type": "code",
   "execution_count": 4,
   "id": "b9a1913c",
   "metadata": {
    "execution": {
     "iopub.execute_input": "2024-01-31T16:29:26.058098Z",
     "iopub.status.busy": "2024-01-31T16:29:26.057681Z",
     "iopub.status.idle": "2024-01-31T16:29:26.068217Z",
     "shell.execute_reply": "2024-01-31T16:29:26.067376Z"
    },
    "papermill": {
     "duration": 0.024447,
     "end_time": "2024-01-31T16:29:26.070411",
     "exception": false,
     "start_time": "2024-01-31T16:29:26.045964",
     "status": "completed"
    },
    "tags": []
   },
   "outputs": [
    {
     "data": {
      "text/plain": [
       "(array([1]), 485)"
      ]
     },
     "execution_count": 4,
     "metadata": {},
     "output_type": "execute_result"
    }
   ],
   "source": [
    "not_nan_dosage = [ not np.isnan(dosage) for dosage in data['Dosage in mg'] ]\n",
    "np.unique(data['Dementia'][not_nan_dosage]), len(data['Dementia'][not_nan_dosage])"
   ]
  },
  {
   "cell_type": "code",
   "execution_count": 5,
   "id": "1a494e38",
   "metadata": {
    "execution": {
     "iopub.execute_input": "2024-01-31T16:29:26.094696Z",
     "iopub.status.busy": "2024-01-31T16:29:26.094264Z",
     "iopub.status.idle": "2024-01-31T16:29:26.103544Z",
     "shell.execute_reply": "2024-01-31T16:29:26.102380Z"
    },
    "papermill": {
     "duration": 0.025497,
     "end_time": "2024-01-31T16:29:26.106310",
     "exception": false,
     "start_time": "2024-01-31T16:29:26.080813",
     "status": "completed"
    },
    "tags": []
   },
   "outputs": [
    {
     "data": {
      "text/plain": [
       "(array([1]), 485)"
      ]
     },
     "execution_count": 5,
     "metadata": {},
     "output_type": "execute_result"
    }
   ],
   "source": [
    "not_nan_prescription = [ prescription == prescription for prescription in data['Prescription'] ]\n",
    "np.unique(data['Dementia'][not_nan_prescription]) , len(data['Dementia'][not_nan_prescription])"
   ]
  },
  {
   "cell_type": "code",
   "execution_count": 6,
   "id": "6564765a",
   "metadata": {
    "execution": {
     "iopub.execute_input": "2024-01-31T16:29:26.130104Z",
     "iopub.status.busy": "2024-01-31T16:29:26.129206Z",
     "iopub.status.idle": "2024-01-31T16:29:26.138968Z",
     "shell.execute_reply": "2024-01-31T16:29:26.137821Z"
    },
    "papermill": {
     "duration": 0.024616,
     "end_time": "2024-01-31T16:29:26.141606",
     "exception": false,
     "start_time": "2024-01-31T16:29:26.116990",
     "status": "completed"
    },
    "tags": []
   },
   "outputs": [
    {
     "data": {
      "text/plain": [
       "485"
      ]
     },
     "execution_count": 6,
     "metadata": {},
     "output_type": "execute_result"
    }
   ],
   "source": [
    "len( data[ data['Dementia'] == 1])"
   ]
  },
  {
   "cell_type": "markdown",
   "id": "6c087f52",
   "metadata": {
    "papermill": {
     "duration": 0.010234,
     "end_time": "2024-01-31T16:29:26.162516",
     "exception": false,
     "start_time": "2024-01-31T16:29:26.152282",
     "status": "completed"
    },
    "tags": []
   },
   "source": [
    "Thus, Presence of a prescription and dosage is strong indicator of dementia +ve."
   ]
  },
  {
   "cell_type": "markdown",
   "id": "c8346b41",
   "metadata": {
    "papermill": {
     "duration": 0.010794,
     "end_time": "2024-01-31T16:29:26.183894",
     "exception": false,
     "start_time": "2024-01-31T16:29:26.173100",
     "status": "completed"
    },
    "tags": []
   },
   "source": [
    "# Data Cleaning"
   ]
  },
  {
   "cell_type": "code",
   "execution_count": 7,
   "id": "5f95a036",
   "metadata": {
    "execution": {
     "iopub.execute_input": "2024-01-31T16:29:26.207650Z",
     "iopub.status.busy": "2024-01-31T16:29:26.206773Z",
     "iopub.status.idle": "2024-01-31T16:29:26.222567Z",
     "shell.execute_reply": "2024-01-31T16:29:26.221705Z"
    },
    "papermill": {
     "duration": 0.03062,
     "end_time": "2024-01-31T16:29:26.225145",
     "exception": false,
     "start_time": "2024-01-31T16:29:26.194525",
     "status": "completed"
    },
    "tags": []
   },
   "outputs": [],
   "source": [
    "categorical_variables = [ key for key in data.keys() if data.dtypes[key] == 'object' ]\n",
    "numerical_variables = [ key for key in data.keys() if (data.dtypes[key] == 'int64' or data.dtypes[key] == 'float64') and key != 'Dementia' ]\n",
    "\n",
    "def data_cleaning(df):\n",
    "    #removing NaNs\n",
    "    for variable in ['Prescription','Chronic_Health_Conditions']:\n",
    "        df[variable] = df[variable].apply(lambda x: x if x == x else 'NA')\n",
    "    df['Dosage in mg'] = df['Dosage in mg'].fillna(0)\n",
    "    \n",
    "    #categorical variables\n",
    "    for variable in categorical_variables:\n",
    "        df[variable] = df[variable].astype('category')\n",
    "    \n",
    "    # Since, prescription is correlated strongly with Dementia, replacing it with 1 and 0.\n",
    "    df['Prescription'] = [0 if _ == 'NA' else 1 for _ in df['Prescription'] ]\n",
    "    \n",
    "    #encoding some categorical variables\n",
    "    #data['Dominant_hand'] = [0 if _ == 'Left' else 1 for _ in df['Dominant_hand'] ]\n",
    "    \n",
    "    #scaling_numerical_features\n",
    "    scaler = StandardScaler()\n",
    "    df[numerical_variables] = scaler.fit_transform(df[numerical_variables])\n",
    "    return df"
   ]
  },
  {
   "cell_type": "code",
   "execution_count": 8,
   "id": "532a1200",
   "metadata": {
    "execution": {
     "iopub.execute_input": "2024-01-31T16:29:26.248523Z",
     "iopub.status.busy": "2024-01-31T16:29:26.247720Z",
     "iopub.status.idle": "2024-01-31T16:29:26.275743Z",
     "shell.execute_reply": "2024-01-31T16:29:26.274471Z"
    },
    "papermill": {
     "duration": 0.042929,
     "end_time": "2024-01-31T16:29:26.278627",
     "exception": false,
     "start_time": "2024-01-31T16:29:26.235698",
     "status": "completed"
    },
    "tags": []
   },
   "outputs": [],
   "source": [
    "data = data_cleaning(data)\n",
    "categorical_variables = [ key for key in data.keys() if data.dtypes[key] == 'category' ]"
   ]
  },
  {
   "cell_type": "code",
   "execution_count": 9,
   "id": "327224d7",
   "metadata": {
    "execution": {
     "iopub.execute_input": "2024-01-31T16:29:26.301708Z",
     "iopub.status.busy": "2024-01-31T16:29:26.301282Z",
     "iopub.status.idle": "2024-01-31T16:29:26.308005Z",
     "shell.execute_reply": "2024-01-31T16:29:26.306826Z"
    },
    "papermill": {
     "duration": 0.021203,
     "end_time": "2024-01-31T16:29:26.310323",
     "exception": false,
     "start_time": "2024-01-31T16:29:26.289120",
     "status": "completed"
    },
    "tags": []
   },
   "outputs": [
    {
     "data": {
      "text/plain": [
       "['Education_Level',\n",
       " 'Dominant_Hand',\n",
       " 'Gender',\n",
       " 'Family_History',\n",
       " 'Smoking_Status',\n",
       " 'APOE_ε4',\n",
       " 'Physical_Activity',\n",
       " 'Depression_Status',\n",
       " 'Medication_History',\n",
       " 'Nutrition_Diet',\n",
       " 'Sleep_Quality',\n",
       " 'Chronic_Health_Conditions']"
      ]
     },
     "execution_count": 9,
     "metadata": {},
     "output_type": "execute_result"
    }
   ],
   "source": [
    "categorical_variables"
   ]
  },
  {
   "cell_type": "markdown",
   "id": "9fbab90b",
   "metadata": {
    "papermill": {
     "duration": 0.010349,
     "end_time": "2024-01-31T16:29:26.331308",
     "exception": false,
     "start_time": "2024-01-31T16:29:26.320959",
     "status": "completed"
    },
    "tags": []
   },
   "source": [
    "# Little more Data Analysis"
   ]
  },
  {
   "cell_type": "code",
   "execution_count": 10,
   "id": "b2c4c2f6",
   "metadata": {
    "execution": {
     "iopub.execute_input": "2024-01-31T16:29:26.355050Z",
     "iopub.status.busy": "2024-01-31T16:29:26.354208Z",
     "iopub.status.idle": "2024-01-31T16:29:26.445754Z",
     "shell.execute_reply": "2024-01-31T16:29:26.444270Z"
    },
    "papermill": {
     "duration": 0.10621,
     "end_time": "2024-01-31T16:29:26.448251",
     "exception": false,
     "start_time": "2024-01-31T16:29:26.342041",
     "status": "completed"
    },
    "tags": []
   },
   "outputs": [
    {
     "name": "stdout",
     "output_type": "stream",
     "text": [
      "\n",
      " Education_Level\n",
      "Primary School No. of dementia patients:\t 181 out of 389\n",
      "Secondary School No. of dementia patients:\t 155 out of 304\n",
      "No School No. of dementia patients:\t 98 out of 155\n",
      "Diploma/Degree No. of dementia patients:\t 51 out of 152\n",
      "\n",
      " Dominant_Hand\n",
      "Left No. of dementia patients:\t 251 out of 519\n",
      "Right No. of dementia patients:\t 234 out of 481\n",
      "\n",
      " Gender\n",
      "Female No. of dementia patients:\t 244 out of 504\n",
      "Male No. of dementia patients:\t 241 out of 496\n",
      "\n",
      " Family_History\n",
      "No No. of dementia patients:\t 255 out of 480\n",
      "Yes No. of dementia patients:\t 230 out of 520\n",
      "\n",
      " Smoking_Status\n",
      "Current Smoker No. of dementia patients:\t 0 out of 90\n",
      "Former Smoker No. of dementia patients:\t 252 out of 458\n",
      "Never Smoked No. of dementia patients:\t 233 out of 452\n",
      "\n",
      " APOE_ε4\n",
      "Negative No. of dementia patients:\t 50 out of 306\n",
      "Positive No. of dementia patients:\t 435 out of 694\n",
      "\n",
      " Physical_Activity\n",
      "Sedentary No. of dementia patients:\t 158 out of 331\n",
      "Moderate Activity No. of dementia patients:\t 158 out of 318\n",
      "Mild Activity No. of dementia patients:\t 169 out of 351\n",
      "\n",
      " Depression_Status\n",
      "No No. of dementia patients:\t 240 out of 755\n",
      "Yes No. of dementia patients:\t 245 out of 245\n",
      "\n",
      " Medication_History\n",
      "No No. of dementia patients:\t 234 out of 486\n",
      "Yes No. of dementia patients:\t 251 out of 514\n",
      "\n",
      " Nutrition_Diet\n",
      "Low-Carb Diet No. of dementia patients:\t 162 out of 330\n",
      "Mediterranean Diet No. of dementia patients:\t 169 out of 338\n",
      "Balanced Diet No. of dementia patients:\t 154 out of 332\n",
      "\n",
      " Sleep_Quality\n",
      "Poor No. of dementia patients:\t 264 out of 534\n",
      "Good No. of dementia patients:\t 221 out of 466\n",
      "\n",
      " Chronic_Health_Conditions\n",
      "Diabetes No. of dementia patients:\t 260 out of 513\n",
      "Heart Disease No. of dementia patients:\t 65 out of 155\n",
      "Hypertension No. of dementia patients:\t 72 out of 153\n",
      "NA No. of dementia patients:\t 88 out of 179\n"
     ]
    }
   ],
   "source": [
    "for variable in categorical_variables:\n",
    "    categories = data[variable].unique()\n",
    "    print(\"\\n\",variable)\n",
    "    for category in categories:\n",
    "        print(category,'No. of dementia patients:\\t',len( data.loc[ data[variable].eq(category) & data['Dementia'].eq(1) ]),'out of',len( data.loc[ data[variable].eq(category)]))"
   ]
  },
  {
   "cell_type": "markdown",
   "id": "e9243605",
   "metadata": {
    "papermill": {
     "duration": 0.010979,
     "end_time": "2024-01-31T16:29:26.470309",
     "exception": false,
     "start_time": "2024-01-31T16:29:26.459330",
     "status": "completed"
    },
    "tags": []
   },
   "source": [
    "In these categorical variables, we can see that in most categories across variables, roughly 50% people suffer from dementia. Also, for APOE_ε4 Positive people prevalence is very high and reverse for APOE_ε4 negative people. Not a single smoker is dementia patient! (I absolutely do not encourage smoking in any way though). However, we won't be making any changes to the dataset based on these observations and leave it to the decision tree in XGBClassifier to figure it out."
   ]
  },
  {
   "cell_type": "code",
   "execution_count": 11,
   "id": "da0fe329",
   "metadata": {
    "execution": {
     "iopub.execute_input": "2024-01-31T16:29:26.495133Z",
     "iopub.status.busy": "2024-01-31T16:29:26.493969Z",
     "iopub.status.idle": "2024-01-31T16:29:26.520927Z",
     "shell.execute_reply": "2024-01-31T16:29:26.519442Z"
    },
    "papermill": {
     "duration": 0.042712,
     "end_time": "2024-01-31T16:29:26.523876",
     "exception": false,
     "start_time": "2024-01-31T16:29:26.481164",
     "status": "completed"
    },
    "tags": []
   },
   "outputs": [
    {
     "data": {
      "text/html": [
       "<div>\n",
       "<style scoped>\n",
       "    .dataframe tbody tr th:only-of-type {\n",
       "        vertical-align: middle;\n",
       "    }\n",
       "\n",
       "    .dataframe tbody tr th {\n",
       "        vertical-align: top;\n",
       "    }\n",
       "\n",
       "    .dataframe thead th {\n",
       "        text-align: right;\n",
       "    }\n",
       "</style>\n",
       "<table border=\"1\" class=\"dataframe\">\n",
       "  <thead>\n",
       "    <tr style=\"text-align: right;\">\n",
       "      <th></th>\n",
       "      <th>Diabetic</th>\n",
       "      <th>AlcoholLevel</th>\n",
       "      <th>HeartRate</th>\n",
       "      <th>BloodOxygenLevel</th>\n",
       "      <th>BodyTemperature</th>\n",
       "      <th>Weight</th>\n",
       "      <th>MRI_Delay</th>\n",
       "      <th>Prescription</th>\n",
       "      <th>Dosage in mg</th>\n",
       "      <th>Age</th>\n",
       "      <th>Cognitive_Test_Scores</th>\n",
       "      <th>Dementia</th>\n",
       "    </tr>\n",
       "  </thead>\n",
       "  <tbody>\n",
       "    <tr>\n",
       "      <th>Diabetic</th>\n",
       "      <td>1.000000</td>\n",
       "      <td>-0.025616</td>\n",
       "      <td>-0.007188</td>\n",
       "      <td>-0.016575</td>\n",
       "      <td>-0.053851</td>\n",
       "      <td>-0.007501</td>\n",
       "      <td>-0.020378</td>\n",
       "      <td>0.044815</td>\n",
       "      <td>0.049210</td>\n",
       "      <td>0.000923</td>\n",
       "      <td>-0.050019</td>\n",
       "      <td>0.044815</td>\n",
       "    </tr>\n",
       "    <tr>\n",
       "      <th>AlcoholLevel</th>\n",
       "      <td>-0.025616</td>\n",
       "      <td>1.000000</td>\n",
       "      <td>-0.046341</td>\n",
       "      <td>-0.005562</td>\n",
       "      <td>0.030854</td>\n",
       "      <td>0.034553</td>\n",
       "      <td>0.004160</td>\n",
       "      <td>-0.003720</td>\n",
       "      <td>0.008300</td>\n",
       "      <td>-0.003081</td>\n",
       "      <td>-0.018716</td>\n",
       "      <td>-0.003720</td>\n",
       "    </tr>\n",
       "    <tr>\n",
       "      <th>HeartRate</th>\n",
       "      <td>-0.007188</td>\n",
       "      <td>-0.046341</td>\n",
       "      <td>1.000000</td>\n",
       "      <td>0.022283</td>\n",
       "      <td>0.015585</td>\n",
       "      <td>-0.001730</td>\n",
       "      <td>0.000169</td>\n",
       "      <td>0.012276</td>\n",
       "      <td>-0.020054</td>\n",
       "      <td>0.011665</td>\n",
       "      <td>0.005493</td>\n",
       "      <td>0.012276</td>\n",
       "    </tr>\n",
       "    <tr>\n",
       "      <th>BloodOxygenLevel</th>\n",
       "      <td>-0.016575</td>\n",
       "      <td>-0.005562</td>\n",
       "      <td>0.022283</td>\n",
       "      <td>1.000000</td>\n",
       "      <td>-0.007265</td>\n",
       "      <td>-0.041081</td>\n",
       "      <td>-0.005760</td>\n",
       "      <td>-0.071454</td>\n",
       "      <td>-0.062321</td>\n",
       "      <td>0.029565</td>\n",
       "      <td>0.070218</td>\n",
       "      <td>-0.071454</td>\n",
       "    </tr>\n",
       "    <tr>\n",
       "      <th>BodyTemperature</th>\n",
       "      <td>-0.053851</td>\n",
       "      <td>0.030854</td>\n",
       "      <td>0.015585</td>\n",
       "      <td>-0.007265</td>\n",
       "      <td>1.000000</td>\n",
       "      <td>-0.017750</td>\n",
       "      <td>0.015953</td>\n",
       "      <td>0.033928</td>\n",
       "      <td>0.045258</td>\n",
       "      <td>0.001586</td>\n",
       "      <td>-0.009791</td>\n",
       "      <td>0.033928</td>\n",
       "    </tr>\n",
       "    <tr>\n",
       "      <th>Weight</th>\n",
       "      <td>-0.007501</td>\n",
       "      <td>0.034553</td>\n",
       "      <td>-0.001730</td>\n",
       "      <td>-0.041081</td>\n",
       "      <td>-0.017750</td>\n",
       "      <td>1.000000</td>\n",
       "      <td>-0.022890</td>\n",
       "      <td>-0.049563</td>\n",
       "      <td>-0.029248</td>\n",
       "      <td>0.011739</td>\n",
       "      <td>0.035821</td>\n",
       "      <td>-0.049563</td>\n",
       "    </tr>\n",
       "    <tr>\n",
       "      <th>MRI_Delay</th>\n",
       "      <td>-0.020378</td>\n",
       "      <td>0.004160</td>\n",
       "      <td>0.000169</td>\n",
       "      <td>-0.005760</td>\n",
       "      <td>0.015953</td>\n",
       "      <td>-0.022890</td>\n",
       "      <td>1.000000</td>\n",
       "      <td>0.031251</td>\n",
       "      <td>-0.035924</td>\n",
       "      <td>-0.002093</td>\n",
       "      <td>-0.052227</td>\n",
       "      <td>0.031251</td>\n",
       "    </tr>\n",
       "    <tr>\n",
       "      <th>Prescription</th>\n",
       "      <td>0.044815</td>\n",
       "      <td>-0.003720</td>\n",
       "      <td>0.012276</td>\n",
       "      <td>-0.071454</td>\n",
       "      <td>0.033928</td>\n",
       "      <td>-0.049563</td>\n",
       "      <td>0.031251</td>\n",
       "      <td>1.000000</td>\n",
       "      <td>0.713842</td>\n",
       "      <td>-0.062154</td>\n",
       "      <td>-0.843247</td>\n",
       "      <td>1.000000</td>\n",
       "    </tr>\n",
       "    <tr>\n",
       "      <th>Dosage in mg</th>\n",
       "      <td>0.049210</td>\n",
       "      <td>0.008300</td>\n",
       "      <td>-0.020054</td>\n",
       "      <td>-0.062321</td>\n",
       "      <td>0.045258</td>\n",
       "      <td>-0.029248</td>\n",
       "      <td>-0.035924</td>\n",
       "      <td>0.713842</td>\n",
       "      <td>1.000000</td>\n",
       "      <td>-0.050452</td>\n",
       "      <td>-0.619073</td>\n",
       "      <td>0.713842</td>\n",
       "    </tr>\n",
       "    <tr>\n",
       "      <th>Age</th>\n",
       "      <td>0.000923</td>\n",
       "      <td>-0.003081</td>\n",
       "      <td>0.011665</td>\n",
       "      <td>0.029565</td>\n",
       "      <td>0.001586</td>\n",
       "      <td>0.011739</td>\n",
       "      <td>-0.002093</td>\n",
       "      <td>-0.062154</td>\n",
       "      <td>-0.050452</td>\n",
       "      <td>1.000000</td>\n",
       "      <td>0.062640</td>\n",
       "      <td>-0.062154</td>\n",
       "    </tr>\n",
       "    <tr>\n",
       "      <th>Cognitive_Test_Scores</th>\n",
       "      <td>-0.050019</td>\n",
       "      <td>-0.018716</td>\n",
       "      <td>0.005493</td>\n",
       "      <td>0.070218</td>\n",
       "      <td>-0.009791</td>\n",
       "      <td>0.035821</td>\n",
       "      <td>-0.052227</td>\n",
       "      <td>-0.843247</td>\n",
       "      <td>-0.619073</td>\n",
       "      <td>0.062640</td>\n",
       "      <td>1.000000</td>\n",
       "      <td>-0.843247</td>\n",
       "    </tr>\n",
       "    <tr>\n",
       "      <th>Dementia</th>\n",
       "      <td>0.044815</td>\n",
       "      <td>-0.003720</td>\n",
       "      <td>0.012276</td>\n",
       "      <td>-0.071454</td>\n",
       "      <td>0.033928</td>\n",
       "      <td>-0.049563</td>\n",
       "      <td>0.031251</td>\n",
       "      <td>1.000000</td>\n",
       "      <td>0.713842</td>\n",
       "      <td>-0.062154</td>\n",
       "      <td>-0.843247</td>\n",
       "      <td>1.000000</td>\n",
       "    </tr>\n",
       "  </tbody>\n",
       "</table>\n",
       "</div>"
      ],
      "text/plain": [
       "                       Diabetic  AlcoholLevel  HeartRate  BloodOxygenLevel  \\\n",
       "Diabetic               1.000000     -0.025616  -0.007188         -0.016575   \n",
       "AlcoholLevel          -0.025616      1.000000  -0.046341         -0.005562   \n",
       "HeartRate             -0.007188     -0.046341   1.000000          0.022283   \n",
       "BloodOxygenLevel      -0.016575     -0.005562   0.022283          1.000000   \n",
       "BodyTemperature       -0.053851      0.030854   0.015585         -0.007265   \n",
       "Weight                -0.007501      0.034553  -0.001730         -0.041081   \n",
       "MRI_Delay             -0.020378      0.004160   0.000169         -0.005760   \n",
       "Prescription           0.044815     -0.003720   0.012276         -0.071454   \n",
       "Dosage in mg           0.049210      0.008300  -0.020054         -0.062321   \n",
       "Age                    0.000923     -0.003081   0.011665          0.029565   \n",
       "Cognitive_Test_Scores -0.050019     -0.018716   0.005493          0.070218   \n",
       "Dementia               0.044815     -0.003720   0.012276         -0.071454   \n",
       "\n",
       "                       BodyTemperature    Weight  MRI_Delay  Prescription  \\\n",
       "Diabetic                     -0.053851 -0.007501  -0.020378      0.044815   \n",
       "AlcoholLevel                  0.030854  0.034553   0.004160     -0.003720   \n",
       "HeartRate                     0.015585 -0.001730   0.000169      0.012276   \n",
       "BloodOxygenLevel             -0.007265 -0.041081  -0.005760     -0.071454   \n",
       "BodyTemperature               1.000000 -0.017750   0.015953      0.033928   \n",
       "Weight                       -0.017750  1.000000  -0.022890     -0.049563   \n",
       "MRI_Delay                     0.015953 -0.022890   1.000000      0.031251   \n",
       "Prescription                  0.033928 -0.049563   0.031251      1.000000   \n",
       "Dosage in mg                  0.045258 -0.029248  -0.035924      0.713842   \n",
       "Age                           0.001586  0.011739  -0.002093     -0.062154   \n",
       "Cognitive_Test_Scores        -0.009791  0.035821  -0.052227     -0.843247   \n",
       "Dementia                      0.033928 -0.049563   0.031251      1.000000   \n",
       "\n",
       "                       Dosage in mg       Age  Cognitive_Test_Scores  Dementia  \n",
       "Diabetic                   0.049210  0.000923              -0.050019  0.044815  \n",
       "AlcoholLevel               0.008300 -0.003081              -0.018716 -0.003720  \n",
       "HeartRate                 -0.020054  0.011665               0.005493  0.012276  \n",
       "BloodOxygenLevel          -0.062321  0.029565               0.070218 -0.071454  \n",
       "BodyTemperature            0.045258  0.001586              -0.009791  0.033928  \n",
       "Weight                    -0.029248  0.011739               0.035821 -0.049563  \n",
       "MRI_Delay                 -0.035924 -0.002093              -0.052227  0.031251  \n",
       "Prescription               0.713842 -0.062154              -0.843247  1.000000  \n",
       "Dosage in mg               1.000000 -0.050452              -0.619073  0.713842  \n",
       "Age                       -0.050452  1.000000               0.062640 -0.062154  \n",
       "Cognitive_Test_Scores     -0.619073  0.062640               1.000000 -0.843247  \n",
       "Dementia                   0.713842 -0.062154              -0.843247  1.000000  "
      ]
     },
     "execution_count": 11,
     "metadata": {},
     "output_type": "execute_result"
    }
   ],
   "source": [
    "data.corr(numeric_only=True)"
   ]
  },
  {
   "cell_type": "markdown",
   "id": "3db20d9b",
   "metadata": {
    "papermill": {
     "duration": 0.011159,
     "end_time": "2024-01-31T16:29:26.546609",
     "exception": false,
     "start_time": "2024-01-31T16:29:26.535450",
     "status": "completed"
    },
    "tags": []
   },
   "source": [
    "Low correlation of AlcoholLevel, HeartRate, BodyTemperature with Dementia. So these can be safely dropped."
   ]
  },
  {
   "cell_type": "markdown",
   "id": "a9313b1b",
   "metadata": {
    "papermill": {
     "duration": 0.011165,
     "end_time": "2024-01-31T16:29:26.569041",
     "exception": false,
     "start_time": "2024-01-31T16:29:26.557876",
     "status": "completed"
    },
    "tags": []
   },
   "source": [
    "# Model 1"
   ]
  },
  {
   "cell_type": "code",
   "execution_count": 12,
   "id": "24f36d30",
   "metadata": {
    "execution": {
     "iopub.execute_input": "2024-01-31T16:29:26.593435Z",
     "iopub.status.busy": "2024-01-31T16:29:26.593030Z",
     "iopub.status.idle": "2024-01-31T16:29:26.606993Z",
     "shell.execute_reply": "2024-01-31T16:29:26.605810Z"
    },
    "papermill": {
     "duration": 0.02918,
     "end_time": "2024-01-31T16:29:26.609520",
     "exception": false,
     "start_time": "2024-01-31T16:29:26.580340",
     "status": "completed"
    },
    "tags": []
   },
   "outputs": [],
   "source": [
    "def data_preprocessing1(df):\n",
    "    df = df.drop( ['AlcoholLevel', 'HeartRate', 'BodyTemperature' ],axis = 1 ) # dropping because of very low correlation\n",
    "    return df['Dementia'], df.drop('Dementia',axis=1)\n",
    "y, X = data_preprocessing1(data)\n",
    "X_train, X_test, y_train, y_test = train_test_split( X, y, test_size = 0.125, random_state = 42)"
   ]
  },
  {
   "cell_type": "code",
   "execution_count": 13,
   "id": "3f2df46a",
   "metadata": {
    "execution": {
     "iopub.execute_input": "2024-01-31T16:29:26.634869Z",
     "iopub.status.busy": "2024-01-31T16:29:26.633976Z",
     "iopub.status.idle": "2024-01-31T16:29:26.640432Z",
     "shell.execute_reply": "2024-01-31T16:29:26.638880Z"
    },
    "papermill": {
     "duration": 0.021603,
     "end_time": "2024-01-31T16:29:26.642768",
     "exception": false,
     "start_time": "2024-01-31T16:29:26.621165",
     "status": "completed"
    },
    "tags": []
   },
   "outputs": [],
   "source": [
    "xgb_clf = XGBClassifier(n_estimators=350, enable_categorical=True, \n",
    "                        colsample_bytree= 0.75, max_depth= 7, early_stopping_round=3, n_jobs=-1, gamma=0.1, verbose=3)"
   ]
  },
  {
   "cell_type": "code",
   "execution_count": 14,
   "id": "feef0330",
   "metadata": {
    "execution": {
     "iopub.execute_input": "2024-01-31T16:29:26.667973Z",
     "iopub.status.busy": "2024-01-31T16:29:26.666998Z",
     "iopub.status.idle": "2024-01-31T16:29:26.867522Z",
     "shell.execute_reply": "2024-01-31T16:29:26.866469Z"
    },
    "papermill": {
     "duration": 0.216597,
     "end_time": "2024-01-31T16:29:26.870706",
     "exception": false,
     "start_time": "2024-01-31T16:29:26.654109",
     "status": "completed"
    },
    "tags": []
   },
   "outputs": [
    {
     "name": "stderr",
     "output_type": "stream",
     "text": [
      "/opt/conda/lib/python3.10/site-packages/xgboost/core.py:160: UserWarning: [16:29:26] WARNING: /workspace/src/learner.cc:742: \n",
      "Parameters: { \"early_stopping_round\", \"verbose\" } are not used.\n",
      "\n",
      "  warnings.warn(smsg, UserWarning)\n"
     ]
    },
    {
     "data": {
      "text/html": [
       "<style>#sk-container-id-1 {color: black;background-color: white;}#sk-container-id-1 pre{padding: 0;}#sk-container-id-1 div.sk-toggleable {background-color: white;}#sk-container-id-1 label.sk-toggleable__label {cursor: pointer;display: block;width: 100%;margin-bottom: 0;padding: 0.3em;box-sizing: border-box;text-align: center;}#sk-container-id-1 label.sk-toggleable__label-arrow:before {content: \"▸\";float: left;margin-right: 0.25em;color: #696969;}#sk-container-id-1 label.sk-toggleable__label-arrow:hover:before {color: black;}#sk-container-id-1 div.sk-estimator:hover label.sk-toggleable__label-arrow:before {color: black;}#sk-container-id-1 div.sk-toggleable__content {max-height: 0;max-width: 0;overflow: hidden;text-align: left;background-color: #f0f8ff;}#sk-container-id-1 div.sk-toggleable__content pre {margin: 0.2em;color: black;border-radius: 0.25em;background-color: #f0f8ff;}#sk-container-id-1 input.sk-toggleable__control:checked~div.sk-toggleable__content {max-height: 200px;max-width: 100%;overflow: auto;}#sk-container-id-1 input.sk-toggleable__control:checked~label.sk-toggleable__label-arrow:before {content: \"▾\";}#sk-container-id-1 div.sk-estimator input.sk-toggleable__control:checked~label.sk-toggleable__label {background-color: #d4ebff;}#sk-container-id-1 div.sk-label input.sk-toggleable__control:checked~label.sk-toggleable__label {background-color: #d4ebff;}#sk-container-id-1 input.sk-hidden--visually {border: 0;clip: rect(1px 1px 1px 1px);clip: rect(1px, 1px, 1px, 1px);height: 1px;margin: -1px;overflow: hidden;padding: 0;position: absolute;width: 1px;}#sk-container-id-1 div.sk-estimator {font-family: monospace;background-color: #f0f8ff;border: 1px dotted black;border-radius: 0.25em;box-sizing: border-box;margin-bottom: 0.5em;}#sk-container-id-1 div.sk-estimator:hover {background-color: #d4ebff;}#sk-container-id-1 div.sk-parallel-item::after {content: \"\";width: 100%;border-bottom: 1px solid gray;flex-grow: 1;}#sk-container-id-1 div.sk-label:hover label.sk-toggleable__label {background-color: #d4ebff;}#sk-container-id-1 div.sk-serial::before {content: \"\";position: absolute;border-left: 1px solid gray;box-sizing: border-box;top: 0;bottom: 0;left: 50%;z-index: 0;}#sk-container-id-1 div.sk-serial {display: flex;flex-direction: column;align-items: center;background-color: white;padding-right: 0.2em;padding-left: 0.2em;position: relative;}#sk-container-id-1 div.sk-item {position: relative;z-index: 1;}#sk-container-id-1 div.sk-parallel {display: flex;align-items: stretch;justify-content: center;background-color: white;position: relative;}#sk-container-id-1 div.sk-item::before, #sk-container-id-1 div.sk-parallel-item::before {content: \"\";position: absolute;border-left: 1px solid gray;box-sizing: border-box;top: 0;bottom: 0;left: 50%;z-index: -1;}#sk-container-id-1 div.sk-parallel-item {display: flex;flex-direction: column;z-index: 1;position: relative;background-color: white;}#sk-container-id-1 div.sk-parallel-item:first-child::after {align-self: flex-end;width: 50%;}#sk-container-id-1 div.sk-parallel-item:last-child::after {align-self: flex-start;width: 50%;}#sk-container-id-1 div.sk-parallel-item:only-child::after {width: 0;}#sk-container-id-1 div.sk-dashed-wrapped {border: 1px dashed gray;margin: 0 0.4em 0.5em 0.4em;box-sizing: border-box;padding-bottom: 0.4em;background-color: white;}#sk-container-id-1 div.sk-label label {font-family: monospace;font-weight: bold;display: inline-block;line-height: 1.2em;}#sk-container-id-1 div.sk-label-container {text-align: center;}#sk-container-id-1 div.sk-container {/* jupyter's `normalize.less` sets `[hidden] { display: none; }` but bootstrap.min.css set `[hidden] { display: none !important; }` so we also need the `!important` here to be able to override the default hidden behavior on the sphinx rendered scikit-learn.org. See: https://github.com/scikit-learn/scikit-learn/issues/21755 */display: inline-block !important;position: relative;}#sk-container-id-1 div.sk-text-repr-fallback {display: none;}</style><div id=\"sk-container-id-1\" class=\"sk-top-container\"><div class=\"sk-text-repr-fallback\"><pre>XGBClassifier(base_score=None, booster=None, callbacks=None,\n",
       "              colsample_bylevel=None, colsample_bynode=None,\n",
       "              colsample_bytree=0.75, device=None, early_stopping_round=3,\n",
       "              early_stopping_rounds=None, enable_categorical=True,\n",
       "              eval_metric=None, feature_types=None, gamma=0.1, grow_policy=None,\n",
       "              importance_type=None, interaction_constraints=None,\n",
       "              learning_rate=None, max_bin=None, max_cat_threshold=None,\n",
       "              max_cat_to_onehot=None, max_delta_step=None, max_depth=7,\n",
       "              max_leaves=None, min_child_weight=None, missing=nan,\n",
       "              monotone_constraints=None, multi_strategy=None, n_estimators=350,\n",
       "              n_jobs=-1, num_parallel_tree=None, ...)</pre><b>In a Jupyter environment, please rerun this cell to show the HTML representation or trust the notebook. <br />On GitHub, the HTML representation is unable to render, please try loading this page with nbviewer.org.</b></div><div class=\"sk-container\" hidden><div class=\"sk-item\"><div class=\"sk-estimator sk-toggleable\"><input class=\"sk-toggleable__control sk-hidden--visually\" id=\"sk-estimator-id-1\" type=\"checkbox\" checked><label for=\"sk-estimator-id-1\" class=\"sk-toggleable__label sk-toggleable__label-arrow\">XGBClassifier</label><div class=\"sk-toggleable__content\"><pre>XGBClassifier(base_score=None, booster=None, callbacks=None,\n",
       "              colsample_bylevel=None, colsample_bynode=None,\n",
       "              colsample_bytree=0.75, device=None, early_stopping_round=3,\n",
       "              early_stopping_rounds=None, enable_categorical=True,\n",
       "              eval_metric=None, feature_types=None, gamma=0.1, grow_policy=None,\n",
       "              importance_type=None, interaction_constraints=None,\n",
       "              learning_rate=None, max_bin=None, max_cat_threshold=None,\n",
       "              max_cat_to_onehot=None, max_delta_step=None, max_depth=7,\n",
       "              max_leaves=None, min_child_weight=None, missing=nan,\n",
       "              monotone_constraints=None, multi_strategy=None, n_estimators=350,\n",
       "              n_jobs=-1, num_parallel_tree=None, ...)</pre></div></div></div></div></div>"
      ],
      "text/plain": [
       "XGBClassifier(base_score=None, booster=None, callbacks=None,\n",
       "              colsample_bylevel=None, colsample_bynode=None,\n",
       "              colsample_bytree=0.75, device=None, early_stopping_round=3,\n",
       "              early_stopping_rounds=None, enable_categorical=True,\n",
       "              eval_metric=None, feature_types=None, gamma=0.1, grow_policy=None,\n",
       "              importance_type=None, interaction_constraints=None,\n",
       "              learning_rate=None, max_bin=None, max_cat_threshold=None,\n",
       "              max_cat_to_onehot=None, max_delta_step=None, max_depth=7,\n",
       "              max_leaves=None, min_child_weight=None, missing=nan,\n",
       "              monotone_constraints=None, multi_strategy=None, n_estimators=350,\n",
       "              n_jobs=-1, num_parallel_tree=None, ...)"
      ]
     },
     "execution_count": 14,
     "metadata": {},
     "output_type": "execute_result"
    }
   ],
   "source": [
    "xgb_clf.fit(X_train, y_train)"
   ]
  },
  {
   "cell_type": "code",
   "execution_count": 15,
   "id": "19774bcf",
   "metadata": {
    "execution": {
     "iopub.execute_input": "2024-01-31T16:29:26.898044Z",
     "iopub.status.busy": "2024-01-31T16:29:26.896807Z",
     "iopub.status.idle": "2024-01-31T16:29:26.935702Z",
     "shell.execute_reply": "2024-01-31T16:29:26.934574Z"
    },
    "papermill": {
     "duration": 0.056213,
     "end_time": "2024-01-31T16:29:26.938770",
     "exception": false,
     "start_time": "2024-01-31T16:29:26.882557",
     "status": "completed"
    },
    "tags": []
   },
   "outputs": [
    {
     "data": {
      "text/plain": [
       "{'0': {'precision': 1.0, 'recall': 1.0, 'f1-score': 1.0, 'support': 61},\n",
       " '1': {'precision': 1.0, 'recall': 1.0, 'f1-score': 1.0, 'support': 64},\n",
       " 'accuracy': 1.0,\n",
       " 'macro avg': {'precision': 1.0,\n",
       "  'recall': 1.0,\n",
       "  'f1-score': 1.0,\n",
       "  'support': 125},\n",
       " 'weighted avg': {'precision': 1.0,\n",
       "  'recall': 1.0,\n",
       "  'f1-score': 1.0,\n",
       "  'support': 125}}"
      ]
     },
     "execution_count": 15,
     "metadata": {},
     "output_type": "execute_result"
    }
   ],
   "source": [
    "classification_report(y_test,xgb_clf.predict(X_test),output_dict=True)"
   ]
  },
  {
   "cell_type": "markdown",
   "id": "bf3b14e3",
   "metadata": {
    "papermill": {
     "duration": 0.01175,
     "end_time": "2024-01-31T16:29:26.963065",
     "exception": false,
     "start_time": "2024-01-31T16:29:26.951315",
     "status": "completed"
    },
    "tags": []
   },
   "source": [
    "# Caution"
   ]
  },
  {
   "cell_type": "markdown",
   "id": "583c1622",
   "metadata": {
    "papermill": {
     "duration": 0.012106,
     "end_time": "2024-01-31T16:29:26.987203",
     "exception": false,
     "start_time": "2024-01-31T16:29:26.975097",
     "status": "completed"
    },
    "tags": []
   },
   "source": [
    "**Note:-  This 100% accuracy is probably due to strong correlation of Prescription and Dosage attributes with Positive patients. This is probably because they are already diagnosed for Dementia and taking medicines for that, so this makes the task slightly meaningless as well. To try and see whether prediction is possible without Prescription and Dosage attributes, we drop these two attributes and train the model again.**"
   ]
  },
  {
   "cell_type": "markdown",
   "id": "bbb87b04",
   "metadata": {
    "papermill": {
     "duration": 0.011877,
     "end_time": "2024-01-31T16:29:27.011089",
     "exception": false,
     "start_time": "2024-01-31T16:29:26.999212",
     "status": "completed"
    },
    "tags": []
   },
   "source": [
    "# Model 2"
   ]
  },
  {
   "cell_type": "code",
   "execution_count": 16,
   "id": "7df767c0",
   "metadata": {
    "execution": {
     "iopub.execute_input": "2024-01-31T16:29:27.037172Z",
     "iopub.status.busy": "2024-01-31T16:29:27.036459Z",
     "iopub.status.idle": "2024-01-31T16:29:27.048801Z",
     "shell.execute_reply": "2024-01-31T16:29:27.047733Z"
    },
    "papermill": {
     "duration": 0.028158,
     "end_time": "2024-01-31T16:29:27.051360",
     "exception": false,
     "start_time": "2024-01-31T16:29:27.023202",
     "status": "completed"
    },
    "tags": []
   },
   "outputs": [],
   "source": [
    "def data_preprocessing2(df):\n",
    "    df = df.drop( ['AlcoholLevel', 'HeartRate', 'BodyTemperature', 'Dosage in mg', 'Prescription'],axis = 1 )\n",
    "    return df['Dementia'], df.drop('Dementia',axis=1)\n",
    "y, X = data_preprocessing2(data)\n",
    "X_train, X_test, y_train, y_test = train_test_split( X, y, test_size = 0.125, random_state = 42)"
   ]
  },
  {
   "cell_type": "code",
   "execution_count": 17,
   "id": "e5aa7640",
   "metadata": {
    "execution": {
     "iopub.execute_input": "2024-01-31T16:29:27.078311Z",
     "iopub.status.busy": "2024-01-31T16:29:27.077434Z",
     "iopub.status.idle": "2024-01-31T16:29:27.084182Z",
     "shell.execute_reply": "2024-01-31T16:29:27.083162Z"
    },
    "papermill": {
     "duration": 0.023381,
     "end_time": "2024-01-31T16:29:27.086721",
     "exception": false,
     "start_time": "2024-01-31T16:29:27.063340",
     "status": "completed"
    },
    "tags": []
   },
   "outputs": [],
   "source": [
    "xgb_clf2 = XGBClassifier(n_estimators=350, enable_categorical=True, \n",
    "                        colsample_bytree= 0.75, max_depth= 7, early_stopping_round=3, n_jobs=-1, gamma=0.1, verbose=3)"
   ]
  },
  {
   "cell_type": "code",
   "execution_count": 18,
   "id": "6f627a72",
   "metadata": {
    "execution": {
     "iopub.execute_input": "2024-01-31T16:29:27.114128Z",
     "iopub.status.busy": "2024-01-31T16:29:27.113318Z",
     "iopub.status.idle": "2024-01-31T16:29:27.259182Z",
     "shell.execute_reply": "2024-01-31T16:29:27.258275Z"
    },
    "papermill": {
     "duration": 0.162475,
     "end_time": "2024-01-31T16:29:27.261634",
     "exception": false,
     "start_time": "2024-01-31T16:29:27.099159",
     "status": "completed"
    },
    "tags": []
   },
   "outputs": [
    {
     "name": "stderr",
     "output_type": "stream",
     "text": [
      "/opt/conda/lib/python3.10/site-packages/xgboost/core.py:160: UserWarning: [16:29:27] WARNING: /workspace/src/learner.cc:742: \n",
      "Parameters: { \"early_stopping_round\", \"verbose\" } are not used.\n",
      "\n",
      "  warnings.warn(smsg, UserWarning)\n"
     ]
    },
    {
     "data": {
      "text/html": [
       "<style>#sk-container-id-2 {color: black;background-color: white;}#sk-container-id-2 pre{padding: 0;}#sk-container-id-2 div.sk-toggleable {background-color: white;}#sk-container-id-2 label.sk-toggleable__label {cursor: pointer;display: block;width: 100%;margin-bottom: 0;padding: 0.3em;box-sizing: border-box;text-align: center;}#sk-container-id-2 label.sk-toggleable__label-arrow:before {content: \"▸\";float: left;margin-right: 0.25em;color: #696969;}#sk-container-id-2 label.sk-toggleable__label-arrow:hover:before {color: black;}#sk-container-id-2 div.sk-estimator:hover label.sk-toggleable__label-arrow:before {color: black;}#sk-container-id-2 div.sk-toggleable__content {max-height: 0;max-width: 0;overflow: hidden;text-align: left;background-color: #f0f8ff;}#sk-container-id-2 div.sk-toggleable__content pre {margin: 0.2em;color: black;border-radius: 0.25em;background-color: #f0f8ff;}#sk-container-id-2 input.sk-toggleable__control:checked~div.sk-toggleable__content {max-height: 200px;max-width: 100%;overflow: auto;}#sk-container-id-2 input.sk-toggleable__control:checked~label.sk-toggleable__label-arrow:before {content: \"▾\";}#sk-container-id-2 div.sk-estimator input.sk-toggleable__control:checked~label.sk-toggleable__label {background-color: #d4ebff;}#sk-container-id-2 div.sk-label input.sk-toggleable__control:checked~label.sk-toggleable__label {background-color: #d4ebff;}#sk-container-id-2 input.sk-hidden--visually {border: 0;clip: rect(1px 1px 1px 1px);clip: rect(1px, 1px, 1px, 1px);height: 1px;margin: -1px;overflow: hidden;padding: 0;position: absolute;width: 1px;}#sk-container-id-2 div.sk-estimator {font-family: monospace;background-color: #f0f8ff;border: 1px dotted black;border-radius: 0.25em;box-sizing: border-box;margin-bottom: 0.5em;}#sk-container-id-2 div.sk-estimator:hover {background-color: #d4ebff;}#sk-container-id-2 div.sk-parallel-item::after {content: \"\";width: 100%;border-bottom: 1px solid gray;flex-grow: 1;}#sk-container-id-2 div.sk-label:hover label.sk-toggleable__label {background-color: #d4ebff;}#sk-container-id-2 div.sk-serial::before {content: \"\";position: absolute;border-left: 1px solid gray;box-sizing: border-box;top: 0;bottom: 0;left: 50%;z-index: 0;}#sk-container-id-2 div.sk-serial {display: flex;flex-direction: column;align-items: center;background-color: white;padding-right: 0.2em;padding-left: 0.2em;position: relative;}#sk-container-id-2 div.sk-item {position: relative;z-index: 1;}#sk-container-id-2 div.sk-parallel {display: flex;align-items: stretch;justify-content: center;background-color: white;position: relative;}#sk-container-id-2 div.sk-item::before, #sk-container-id-2 div.sk-parallel-item::before {content: \"\";position: absolute;border-left: 1px solid gray;box-sizing: border-box;top: 0;bottom: 0;left: 50%;z-index: -1;}#sk-container-id-2 div.sk-parallel-item {display: flex;flex-direction: column;z-index: 1;position: relative;background-color: white;}#sk-container-id-2 div.sk-parallel-item:first-child::after {align-self: flex-end;width: 50%;}#sk-container-id-2 div.sk-parallel-item:last-child::after {align-self: flex-start;width: 50%;}#sk-container-id-2 div.sk-parallel-item:only-child::after {width: 0;}#sk-container-id-2 div.sk-dashed-wrapped {border: 1px dashed gray;margin: 0 0.4em 0.5em 0.4em;box-sizing: border-box;padding-bottom: 0.4em;background-color: white;}#sk-container-id-2 div.sk-label label {font-family: monospace;font-weight: bold;display: inline-block;line-height: 1.2em;}#sk-container-id-2 div.sk-label-container {text-align: center;}#sk-container-id-2 div.sk-container {/* jupyter's `normalize.less` sets `[hidden] { display: none; }` but bootstrap.min.css set `[hidden] { display: none !important; }` so we also need the `!important` here to be able to override the default hidden behavior on the sphinx rendered scikit-learn.org. See: https://github.com/scikit-learn/scikit-learn/issues/21755 */display: inline-block !important;position: relative;}#sk-container-id-2 div.sk-text-repr-fallback {display: none;}</style><div id=\"sk-container-id-2\" class=\"sk-top-container\"><div class=\"sk-text-repr-fallback\"><pre>XGBClassifier(base_score=None, booster=None, callbacks=None,\n",
       "              colsample_bylevel=None, colsample_bynode=None,\n",
       "              colsample_bytree=0.75, device=None, early_stopping_round=3,\n",
       "              early_stopping_rounds=None, enable_categorical=True,\n",
       "              eval_metric=None, feature_types=None, gamma=0.1, grow_policy=None,\n",
       "              importance_type=None, interaction_constraints=None,\n",
       "              learning_rate=None, max_bin=None, max_cat_threshold=None,\n",
       "              max_cat_to_onehot=None, max_delta_step=None, max_depth=7,\n",
       "              max_leaves=None, min_child_weight=None, missing=nan,\n",
       "              monotone_constraints=None, multi_strategy=None, n_estimators=350,\n",
       "              n_jobs=-1, num_parallel_tree=None, ...)</pre><b>In a Jupyter environment, please rerun this cell to show the HTML representation or trust the notebook. <br />On GitHub, the HTML representation is unable to render, please try loading this page with nbviewer.org.</b></div><div class=\"sk-container\" hidden><div class=\"sk-item\"><div class=\"sk-estimator sk-toggleable\"><input class=\"sk-toggleable__control sk-hidden--visually\" id=\"sk-estimator-id-2\" type=\"checkbox\" checked><label for=\"sk-estimator-id-2\" class=\"sk-toggleable__label sk-toggleable__label-arrow\">XGBClassifier</label><div class=\"sk-toggleable__content\"><pre>XGBClassifier(base_score=None, booster=None, callbacks=None,\n",
       "              colsample_bylevel=None, colsample_bynode=None,\n",
       "              colsample_bytree=0.75, device=None, early_stopping_round=3,\n",
       "              early_stopping_rounds=None, enable_categorical=True,\n",
       "              eval_metric=None, feature_types=None, gamma=0.1, grow_policy=None,\n",
       "              importance_type=None, interaction_constraints=None,\n",
       "              learning_rate=None, max_bin=None, max_cat_threshold=None,\n",
       "              max_cat_to_onehot=None, max_delta_step=None, max_depth=7,\n",
       "              max_leaves=None, min_child_weight=None, missing=nan,\n",
       "              monotone_constraints=None, multi_strategy=None, n_estimators=350,\n",
       "              n_jobs=-1, num_parallel_tree=None, ...)</pre></div></div></div></div></div>"
      ],
      "text/plain": [
       "XGBClassifier(base_score=None, booster=None, callbacks=None,\n",
       "              colsample_bylevel=None, colsample_bynode=None,\n",
       "              colsample_bytree=0.75, device=None, early_stopping_round=3,\n",
       "              early_stopping_rounds=None, enable_categorical=True,\n",
       "              eval_metric=None, feature_types=None, gamma=0.1, grow_policy=None,\n",
       "              importance_type=None, interaction_constraints=None,\n",
       "              learning_rate=None, max_bin=None, max_cat_threshold=None,\n",
       "              max_cat_to_onehot=None, max_delta_step=None, max_depth=7,\n",
       "              max_leaves=None, min_child_weight=None, missing=nan,\n",
       "              monotone_constraints=None, multi_strategy=None, n_estimators=350,\n",
       "              n_jobs=-1, num_parallel_tree=None, ...)"
      ]
     },
     "execution_count": 18,
     "metadata": {},
     "output_type": "execute_result"
    }
   ],
   "source": [
    "xgb_clf2.fit(X_train, y_train)"
   ]
  },
  {
   "cell_type": "code",
   "execution_count": 19,
   "id": "3deca874",
   "metadata": {
    "execution": {
     "iopub.execute_input": "2024-01-31T16:29:27.288961Z",
     "iopub.status.busy": "2024-01-31T16:29:27.288161Z",
     "iopub.status.idle": "2024-01-31T16:29:27.317713Z",
     "shell.execute_reply": "2024-01-31T16:29:27.316691Z"
    },
    "papermill": {
     "duration": 0.045955,
     "end_time": "2024-01-31T16:29:27.320271",
     "exception": false,
     "start_time": "2024-01-31T16:29:27.274316",
     "status": "completed"
    },
    "tags": []
   },
   "outputs": [
    {
     "data": {
      "text/plain": [
       "{'0': {'precision': 1.0, 'recall': 1.0, 'f1-score': 1.0, 'support': 61},\n",
       " '1': {'precision': 1.0, 'recall': 1.0, 'f1-score': 1.0, 'support': 64},\n",
       " 'accuracy': 1.0,\n",
       " 'macro avg': {'precision': 1.0,\n",
       "  'recall': 1.0,\n",
       "  'f1-score': 1.0,\n",
       "  'support': 125},\n",
       " 'weighted avg': {'precision': 1.0,\n",
       "  'recall': 1.0,\n",
       "  'f1-score': 1.0,\n",
       "  'support': 125}}"
      ]
     },
     "execution_count": 19,
     "metadata": {},
     "output_type": "execute_result"
    }
   ],
   "source": [
    "classification_report(y_test,xgb_clf2.predict(X_test),output_dict=True)"
   ]
  },
  {
   "cell_type": "markdown",
   "id": "238e20f7",
   "metadata": {
    "papermill": {
     "duration": 0.012349,
     "end_time": "2024-01-31T16:29:27.346027",
     "exception": false,
     "start_time": "2024-01-31T16:29:27.333678",
     "status": "completed"
    },
    "tags": []
   },
   "source": [
    "**It stil predicts as accurately when trained without those attributes.**"
   ]
  }
 ],
 "metadata": {
  "kaggle": {
   "accelerator": "none",
   "dataSources": [
    {
     "datasetId": 4378098,
     "sourceId": 7516247,
     "sourceType": "datasetVersion"
    }
   ],
   "dockerImageVersionId": 30646,
   "isGpuEnabled": false,
   "isInternetEnabled": true,
   "language": "python",
   "sourceType": "notebook"
  },
  "kernelspec": {
   "display_name": "Python 3",
   "language": "python",
   "name": "python3"
  },
  "language_info": {
   "codemirror_mode": {
    "name": "ipython",
    "version": 3
   },
   "file_extension": ".py",
   "mimetype": "text/x-python",
   "name": "python",
   "nbconvert_exporter": "python",
   "pygments_lexer": "ipython3",
   "version": "3.10.13"
  },
  "papermill": {
   "default_parameters": {},
   "duration": 8.194844,
   "end_time": "2024-01-31T16:29:27.980962",
   "environment_variables": {},
   "exception": null,
   "input_path": "__notebook__.ipynb",
   "output_path": "__notebook__.ipynb",
   "parameters": {},
   "start_time": "2024-01-31T16:29:19.786118",
   "version": "2.5.0"
  }
 },
 "nbformat": 4,
 "nbformat_minor": 5
}
