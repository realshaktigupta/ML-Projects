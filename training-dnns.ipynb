{
 "cells": [
  {
   "cell_type": "markdown",
   "id": "196df7ce",
   "metadata": {
    "papermill": {
     "duration": 0.050195,
     "end_time": "2023-06-18T08:18:00.529319",
     "exception": false,
     "start_time": "2023-06-18T08:18:00.479124",
     "status": "completed"
    },
    "tags": []
   },
   "source": [
    "**Chapter 11 – Training Deep Neural Networks**"
   ]
  },
  {
   "cell_type": "markdown",
   "id": "4cfc83f5",
   "metadata": {
    "papermill": {
     "duration": 0.047478,
     "end_time": "2023-06-18T08:18:00.624814",
     "exception": false,
     "start_time": "2023-06-18T08:18:00.577336",
     "status": "completed"
    },
    "tags": []
   },
   "source": [
    "_This notebook contains all the sample code and solutions to the exercises in chapter 11._"
   ]
  },
  {
   "cell_type": "markdown",
   "id": "df49113b",
   "metadata": {
    "papermill": {
     "duration": 0.046449,
     "end_time": "2023-06-18T08:18:00.718850",
     "exception": false,
     "start_time": "2023-06-18T08:18:00.672401",
     "status": "completed"
    },
    "tags": []
   },
   "source": [
    "<table align=\"left\">\n",
    "  <td>\n",
    "    <a href=\"https://colab.research.google.com/github/ageron/handson-ml2/blob/master/11_training_deep_neural_networks.ipynb\" target=\"_parent\"><img src=\"https://colab.research.google.com/assets/colab-badge.svg\" alt=\"Open In Colab\"/></a>\n",
    "  </td>\n",
    "  <td>\n",
    "    <a target=\"_blank\" href=\"https://kaggle.com/kernels/welcome?src=https://github.com/ageron/handson-ml2/blob/master/11_training_deep_neural_networks.ipynb\"><img src=\"https://kaggle.com/static/images/open-in-kaggle.svg\" /></a>\n",
    "  </td>\n",
    "</table>"
   ]
  },
  {
   "cell_type": "markdown",
   "id": "93a32564",
   "metadata": {
    "papermill": {
     "duration": 0.047455,
     "end_time": "2023-06-18T08:18:00.815239",
     "exception": false,
     "start_time": "2023-06-18T08:18:00.767784",
     "status": "completed"
    },
    "tags": []
   },
   "source": [
    "# Setup"
   ]
  },
  {
   "cell_type": "markdown",
   "id": "0000a7ce",
   "metadata": {
    "papermill": {
     "duration": 0.047089,
     "end_time": "2023-06-18T08:18:00.909220",
     "exception": false,
     "start_time": "2023-06-18T08:18:00.862131",
     "status": "completed"
    },
    "tags": []
   },
   "source": [
    "First, let's import a few common modules, ensure MatplotLib plots figures inline and prepare a function to save the figures. We also check that Python 3.5 or later is installed (although Python 2.x may work, it is deprecated so we strongly recommend you use Python 3 instead), as well as Scikit-Learn ≥0.20 and TensorFlow ≥2.0."
   ]
  },
  {
   "cell_type": "code",
   "execution_count": 1,
   "id": "228b92cf",
   "metadata": {
    "execution": {
     "iopub.execute_input": "2023-06-18T08:18:01.005949Z",
     "iopub.status.busy": "2023-06-18T08:18:01.005462Z",
     "iopub.status.idle": "2023-06-18T08:18:09.746280Z",
     "shell.execute_reply": "2023-06-18T08:18:09.745346Z"
    },
    "papermill": {
     "duration": 8.792482,
     "end_time": "2023-06-18T08:18:09.748726",
     "exception": false,
     "start_time": "2023-06-18T08:18:00.956244",
     "status": "completed"
    },
    "tags": []
   },
   "outputs": [
    {
     "name": "stderr",
     "output_type": "stream",
     "text": [
      "/opt/conda/lib/python3.10/site-packages/tensorflow_io/python/ops/__init__.py:98: UserWarning: unable to load libtensorflow_io_plugins.so: unable to open file: libtensorflow_io_plugins.so, from paths: ['/opt/conda/lib/python3.10/site-packages/tensorflow_io/python/ops/libtensorflow_io_plugins.so']\n",
      "caused by: ['/opt/conda/lib/python3.10/site-packages/tensorflow_io/python/ops/libtensorflow_io_plugins.so: undefined symbol: _ZN3tsl6StatusC1EN10tensorflow5error4CodeESt17basic_string_viewIcSt11char_traitsIcEENS_14SourceLocationE']\n",
      "  warnings.warn(f\"unable to load libtensorflow_io_plugins.so: {e}\")\n",
      "/opt/conda/lib/python3.10/site-packages/tensorflow_io/python/ops/__init__.py:104: UserWarning: file system plugins are not loaded: unable to open file: libtensorflow_io.so, from paths: ['/opt/conda/lib/python3.10/site-packages/tensorflow_io/python/ops/libtensorflow_io.so']\n",
      "caused by: ['/opt/conda/lib/python3.10/site-packages/tensorflow_io/python/ops/libtensorflow_io.so: undefined symbol: _ZTVN10tensorflow13GcsFileSystemE']\n",
      "  warnings.warn(f\"file system plugins are not loaded: {e}\")\n"
     ]
    }
   ],
   "source": [
    "# Python ≥3.5 is required\n",
    "import sys\n",
    "assert sys.version_info >= (3, 5)\n",
    "\n",
    "# Scikit-Learn ≥0.20 is required\n",
    "import sklearn\n",
    "assert sklearn.__version__ >= \"0.20\"\n",
    "\n",
    "try:\n",
    "    # %tensorflow_version only exists in Colab.\n",
    "    %tensorflow_version 2.x\n",
    "except Exception:\n",
    "    pass\n",
    "\n",
    "# TensorFlow ≥2.0 is required\n",
    "import tensorflow as tf\n",
    "from tensorflow import keras\n",
    "assert tf.__version__ >= \"2.0\"\n",
    "\n",
    "%load_ext tensorboard\n",
    "\n",
    "# Common imports\n",
    "import numpy as np\n",
    "import os\n",
    "\n",
    "# to make this notebook's output stable across runs\n",
    "np.random.seed(42)\n",
    "\n",
    "# To plot pretty figures\n",
    "%matplotlib inline\n",
    "import matplotlib as mpl\n",
    "import matplotlib.pyplot as plt\n",
    "mpl.rc('axes', labelsize=14)\n",
    "mpl.rc('xtick', labelsize=12)\n",
    "mpl.rc('ytick', labelsize=12)\n",
    "\n",
    "# Where to save the figures\n",
    "PROJECT_ROOT_DIR = \".\"\n",
    "CHAPTER_ID = \"deep\"\n",
    "IMAGES_PATH = os.path.join(PROJECT_ROOT_DIR, \"images\", CHAPTER_ID)\n",
    "os.makedirs(IMAGES_PATH, exist_ok=True)\n",
    "\n",
    "def save_fig(fig_id, tight_layout=True, fig_extension=\"png\", resolution=300):\n",
    "    path = os.path.join(IMAGES_PATH, fig_id + \".\" + fig_extension)\n",
    "    print(\"Saving figure\", fig_id)\n",
    "    if tight_layout:\n",
    "        plt.tight_layout()\n",
    "    plt.savefig(path, format=fig_extension, dpi=resolution)"
   ]
  },
  {
   "cell_type": "markdown",
   "id": "306d2328",
   "metadata": {
    "papermill": {
     "duration": 0.047515,
     "end_time": "2023-06-18T08:18:09.845556",
     "exception": false,
     "start_time": "2023-06-18T08:18:09.798041",
     "status": "completed"
    },
    "tags": []
   },
   "source": [
    "# Vanishing/Exploding Gradients Problem"
   ]
  },
  {
   "cell_type": "code",
   "execution_count": 2,
   "id": "f4b9b322",
   "metadata": {
    "execution": {
     "iopub.execute_input": "2023-06-18T08:18:09.942334Z",
     "iopub.status.busy": "2023-06-18T08:18:09.940955Z",
     "iopub.status.idle": "2023-06-18T08:18:09.945889Z",
     "shell.execute_reply": "2023-06-18T08:18:09.945253Z"
    },
    "papermill": {
     "duration": 0.055305,
     "end_time": "2023-06-18T08:18:09.947757",
     "exception": false,
     "start_time": "2023-06-18T08:18:09.892452",
     "status": "completed"
    },
    "tags": []
   },
   "outputs": [],
   "source": [
    "def logit(z):\n",
    "    return 1 / (1 + np.exp(-z))"
   ]
  },
  {
   "cell_type": "code",
   "execution_count": 3,
   "id": "75af5147",
   "metadata": {
    "execution": {
     "iopub.execute_input": "2023-06-18T08:18:10.044397Z",
     "iopub.status.busy": "2023-06-18T08:18:10.043294Z",
     "iopub.status.idle": "2023-06-18T08:18:10.996503Z",
     "shell.execute_reply": "2023-06-18T08:18:10.995567Z"
    },
    "papermill": {
     "duration": 1.00421,
     "end_time": "2023-06-18T08:18:10.999046",
     "exception": false,
     "start_time": "2023-06-18T08:18:09.994836",
     "status": "completed"
    },
    "tags": []
   },
   "outputs": [
    {
     "name": "stdout",
     "output_type": "stream",
     "text": [
      "Saving figure sigmoid_saturation_plot\n"
     ]
    },
    {
     "data": {
      "image/png": "[encoded data removed]",
      "text/plain": [
       "<Figure size 640x480 with 1 Axes>"
      ]
     },
     "metadata": {},
     "output_type": "display_data"
    }
   ],
   "source": [
    "z = np.linspace(-5, 5, 200)\n",
    "\n",
    "plt.plot([-5, 5], [0, 0], 'k-')\n",
    "plt.plot([-5, 5], [1, 1], 'k--')\n",
    "plt.plot([0, 0], [-0.2, 1.2], 'k-')\n",
    "plt.plot([-5, 5], [-3/4, 7/4], 'g--')\n",
    "plt.plot(z, logit(z), \"b-\", linewidth=2)\n",
    "props = dict(facecolor='black', shrink=0.1)\n",
    "plt.annotate('Saturating', xytext=(3.5, 0.7), xy=(5, 1), arrowprops=props, fontsize=14, ha=\"center\")\n",
    "plt.annotate('Saturating', xytext=(-3.5, 0.3), xy=(-5, 0), arrowprops=props, fontsize=14, ha=\"center\")\n",
    "plt.annotate('Linear', xytext=(2, 0.2), xy=(0, 0.5), arrowprops=props, fontsize=14, ha=\"center\")\n",
    "plt.grid(True)\n",
    "plt.title(\"Sigmoid activation function\", fontsize=14)\n",
    "plt.axis([-5, 5, -0.2, 1.2])\n",
    "\n",
    "save_fig(\"sigmoid_saturation_plot\")\n",
    "plt.show()"
   ]
  },
  {
   "cell_type": "markdown",
   "id": "ea2ae500",
   "metadata": {
    "papermill": {
     "duration": 0.047561,
     "end_time": "2023-06-18T08:18:11.095113",
     "exception": false,
     "start_time": "2023-06-18T08:18:11.047552",
     "status": "completed"
    },
    "tags": []
   },
   "source": [
    "## Xavier and He Initialization"
   ]
  },
  {
   "cell_type": "code",
   "execution_count": 4,
   "id": "d87bb63d",
   "metadata": {
    "execution": {
     "iopub.execute_input": "2023-06-18T08:18:11.194207Z",
     "iopub.status.busy": "2023-06-18T08:18:11.193269Z",
     "iopub.status.idle": "2023-06-18T08:18:11.201081Z",
     "shell.execute_reply": "2023-06-18T08:18:11.200190Z"
    },
    "papermill": {
     "duration": 0.059383,
     "end_time": "2023-06-18T08:18:11.203073",
     "exception": false,
     "start_time": "2023-06-18T08:18:11.143690",
     "status": "completed"
    },
    "tags": []
   },
   "outputs": [
    {
     "data": {
      "text/plain": [
       "['Constant',\n",
       " 'GlorotNormal',\n",
       " 'GlorotUniform',\n",
       " 'HeNormal',\n",
       " 'HeUniform',\n",
       " 'Identity',\n",
       " 'Initializer',\n",
       " 'LecunNormal',\n",
       " 'LecunUniform',\n",
       " 'Ones',\n",
       " 'Orthogonal',\n",
       " 'RandomNormal',\n",
       " 'RandomUniform',\n",
       " 'TruncatedNormal',\n",
       " 'VarianceScaling',\n",
       " 'Zeros',\n",
       " 'constant',\n",
       " 'deserialize',\n",
       " 'get',\n",
       " 'glorot_normal',\n",
       " 'glorot_uniform',\n",
       " 'he_normal',\n",
       " 'he_uniform',\n",
       " 'identity',\n",
       " 'lecun_normal',\n",
       " 'lecun_uniform',\n",
       " 'ones',\n",
       " 'orthogonal',\n",
       " 'random_normal',\n",
       " 'random_uniform',\n",
       " 'serialize',\n",
       " 'truncated_normal',\n",
       " 'variance_scaling',\n",
       " 'zeros']"
      ]
     },
     "execution_count": 4,
     "metadata": {},
     "output_type": "execute_result"
    }
   ],
   "source": [
    "[name for name in dir(keras.initializers) if not name.startswith(\"_\")]"
   ]
  },
  {
   "cell_type": "code",
   "execution_count": 5,
   "id": "de014c4c",
   "metadata": {
    "execution": {
     "iopub.execute_input": "2023-06-18T08:18:11.302951Z",
     "iopub.status.busy": "2023-06-18T08:18:11.301164Z",
     "iopub.status.idle": "2023-06-18T08:18:11.330634Z",
     "shell.execute_reply": "2023-06-18T08:18:11.329727Z"
    },
    "papermill": {
     "duration": 0.080779,
     "end_time": "2023-06-18T08:18:11.332586",
     "exception": false,
     "start_time": "2023-06-18T08:18:11.251807",
     "status": "completed"
    },
    "tags": []
   },
   "outputs": [
    {
     "data": {
      "text/plain": [
       "<keras.layers.core.dense.Dense at 0x7d758c2256c0>"
      ]
     },
     "execution_count": 5,
     "metadata": {},
     "output_type": "execute_result"
    }
   ],
   "source": [
    "keras.layers.Dense(10, activation=\"relu\", kernel_initializer=\"he_normal\")"
   ]
  },
  {
   "cell_type": "code",
   "execution_count": 6,
   "id": "1e974f56",
   "metadata": {
    "execution": {
     "iopub.execute_input": "2023-06-18T08:18:11.431011Z",
     "iopub.status.busy": "2023-06-18T08:18:11.430173Z",
     "iopub.status.idle": "2023-06-18T08:18:11.439533Z",
     "shell.execute_reply": "2023-06-18T08:18:11.438574Z"
    },
    "papermill": {
     "duration": 0.060389,
     "end_time": "2023-06-18T08:18:11.441458",
     "exception": false,
     "start_time": "2023-06-18T08:18:11.381069",
     "status": "completed"
    },
    "tags": []
   },
   "outputs": [
    {
     "data": {
      "text/plain": [
       "<keras.layers.core.dense.Dense at 0x7d758c206380>"
      ]
     },
     "execution_count": 6,
     "metadata": {},
     "output_type": "execute_result"
    }
   ],
   "source": [
    "init = keras.initializers.VarianceScaling(scale=2., mode='fan_avg',\n",
    "                                          distribution='uniform')\n",
    "keras.layers.Dense(10, activation=\"relu\", kernel_initializer=init)"
   ]
  },
  {
   "cell_type": "markdown",
   "id": "06197c1a",
   "metadata": {
    "papermill": {
     "duration": 0.04823,
     "end_time": "2023-06-18T08:18:11.538333",
     "exception": false,
     "start_time": "2023-06-18T08:18:11.490103",
     "status": "completed"
    },
    "tags": []
   },
   "source": [
    "## Nonsaturating Activation Functions"
   ]
  },
  {
   "cell_type": "markdown",
   "id": "8774b62a",
   "metadata": {
    "papermill": {
     "duration": 0.047943,
     "end_time": "2023-06-18T08:18:11.635452",
     "exception": false,
     "start_time": "2023-06-18T08:18:11.587509",
     "status": "completed"
    },
    "tags": []
   },
   "source": [
    "### Leaky ReLU"
   ]
  },
  {
   "cell_type": "code",
   "execution_count": 7,
   "id": "de07347b",
   "metadata": {
    "execution": {
     "iopub.execute_input": "2023-06-18T08:18:11.734004Z",
     "iopub.status.busy": "2023-06-18T08:18:11.733084Z",
     "iopub.status.idle": "2023-06-18T08:18:11.738234Z",
     "shell.execute_reply": "2023-06-18T08:18:11.737381Z"
    },
    "papermill": {
     "duration": 0.056495,
     "end_time": "2023-06-18T08:18:11.740195",
     "exception": false,
     "start_time": "2023-06-18T08:18:11.683700",
     "status": "completed"
    },
    "tags": []
   },
   "outputs": [],
   "source": [
    "def leaky_relu(z, alpha=0.01):\n",
    "    return np.maximum(alpha*z, z)"
   ]
  },
  {
   "cell_type": "code",
   "execution_count": 8,
   "id": "83467b61",
   "metadata": {
    "execution": {
     "iopub.execute_input": "2023-06-18T08:18:11.896313Z",
     "iopub.status.busy": "2023-06-18T08:18:11.895908Z",
     "iopub.status.idle": "2023-06-18T08:18:12.868195Z",
     "shell.execute_reply": "2023-06-18T08:18:12.867369Z"
    },
    "papermill": {
     "duration": 1.050878,
     "end_time": "2023-06-18T08:18:12.873808",
     "exception": false,
     "start_time": "2023-06-18T08:18:11.822930",
     "status": "completed"
    },
    "tags": []
   },
   "outputs": [
    {
     "name": "stdout",
     "output_type": "stream",
     "text": [
      "Saving figure leaky_relu_plot\n"
     ]
    },
    {
     "data": {
      "image/png": "[encoded data removed]",
      "text/plain": [
       "<Figure size 640x480 with 1 Axes>"
      ]
     },
     "metadata": {},
     "output_type": "display_data"
    }
   ],
   "source": [
    "plt.plot(z, leaky_relu(z, 0.05), \"b-\", linewidth=2)\n",
    "plt.plot([-5, 5], [0, 0], 'k-')\n",
    "plt.plot([0, 0], [-0.5, 4.2], 'k-')\n",
    "plt.grid(True)\n",
    "props = dict(facecolor='black', shrink=0.1)\n",
    "plt.annotate('Leak', xytext=(-3.5, 0.5), xy=(-5, -0.2), arrowprops=props, fontsize=14, ha=\"center\")\n",
    "plt.title(\"Leaky ReLU activation function\", fontsize=14)\n",
    "plt.axis([-5, 5, -0.5, 4.2])\n",
    "\n",
    "save_fig(\"leaky_relu_plot\")\n",
    "plt.show()"
   ]
  },
  {
   "cell_type": "code",
   "execution_count": 9,
   "id": "1590bd52",
   "metadata": {
    "execution": {
     "iopub.execute_input": "2023-06-18T08:18:13.019192Z",
     "iopub.status.busy": "2023-06-18T08:18:13.018755Z",
     "iopub.status.idle": "2023-06-18T08:18:13.027260Z",
     "shell.execute_reply": "2023-06-18T08:18:13.026357Z"
    },
    "papermill": {
     "duration": 0.08799,
     "end_time": "2023-06-18T08:18:13.032553",
     "exception": false,
     "start_time": "2023-06-18T08:18:12.944563",
     "status": "completed"
    },
    "tags": []
   },
   "outputs": [
    {
     "data": {
      "text/plain": [
       "['deserialize',\n",
       " 'elu',\n",
       " 'exponential',\n",
       " 'gelu',\n",
       " 'get',\n",
       " 'hard_sigmoid',\n",
       " 'linear',\n",
       " 'relu',\n",
       " 'selu',\n",
       " 'serialize',\n",
       " 'sigmoid',\n",
       " 'softmax',\n",
       " 'softplus',\n",
       " 'softsign',\n",
       " 'swish',\n",
       " 'tanh']"
      ]
     },
     "execution_count": 9,
     "metadata": {},
     "output_type": "execute_result"
    }
   ],
   "source": [
    "[m for m in dir(keras.activations) if not m.startswith(\"_\")]"
   ]
  },
  {
   "cell_type": "code",
   "execution_count": 10,
   "id": "21a5f90a",
   "metadata": {
    "execution": {
     "iopub.execute_input": "2023-06-18T08:18:13.176394Z",
     "iopub.status.busy": "2023-06-18T08:18:13.176028Z",
     "iopub.status.idle": "2023-06-18T08:18:13.182635Z",
     "shell.execute_reply": "2023-06-18T08:18:13.181831Z"
    },
    "papermill": {
     "duration": 0.082185,
     "end_time": "2023-06-18T08:18:13.187944",
     "exception": false,
     "start_time": "2023-06-18T08:18:13.105759",
     "status": "completed"
    },
    "tags": []
   },
   "outputs": [
    {
     "data": {
      "text/plain": [
       "['LeakyReLU', 'PReLU', 'ReLU', 'ThresholdedReLU']"
      ]
     },
     "execution_count": 10,
     "metadata": {},
     "output_type": "execute_result"
    }
   ],
   "source": [
    "[m for m in dir(keras.layers) if \"relu\" in m.lower()]"
   ]
  },
  {
   "cell_type": "markdown",
   "id": "e9eb9fbb",
   "metadata": {
    "papermill": {
     "duration": 0.056692,
     "end_time": "2023-06-18T08:18:13.313407",
     "exception": false,
     "start_time": "2023-06-18T08:18:13.256715",
     "status": "completed"
    },
    "tags": []
   },
   "source": [
    "Let's train a neural network on Fashion MNIST using the Leaky ReLU:"
   ]
  },
  {
   "cell_type": "code",
   "execution_count": 11,
   "id": "57a6ba5e",
   "metadata": {
    "execution": {
     "iopub.execute_input": "2023-06-18T08:18:13.417950Z",
     "iopub.status.busy": "2023-06-18T08:18:13.417553Z",
     "iopub.status.idle": "2023-06-18T08:18:14.391596Z",
     "shell.execute_reply": "2023-06-18T08:18:14.390569Z"
    },
    "papermill": {
     "duration": 1.030749,
     "end_time": "2023-06-18T08:18:14.394162",
     "exception": false,
     "start_time": "2023-06-18T08:18:13.363413",
     "status": "completed"
    },
    "tags": []
   },
   "outputs": [
    {
     "name": "stdout",
     "output_type": "stream",
     "text": [
      "Downloading data from https://storage.googleapis.com/tensorflow/tf-keras-datasets/train-labels-idx1-ubyte.gz\n",
      "29515/29515 [==============================] - 0s 0us/step\n",
      "Downloading data from https://storage.googleapis.com/tensorflow/tf-keras-datasets/train-images-idx3-ubyte.gz\n",
      "26421880/26421880 [==============================] - 0s 0us/step\n",
      "Downloading data from https://storage.googleapis.com/tensorflow/tf-keras-datasets/t10k-labels-idx1-ubyte.gz\n",
      "5148/5148 [==============================] - 0s 0us/step\n",
      "Downloading data from https://storage.googleapis.com/tensorflow/tf-keras-datasets/t10k-images-idx3-ubyte.gz\n",
      "4422102/4422102 [==============================] - 0s 0us/step\n"
     ]
    }
   ],
   "source": [
    "(X_train_full, y_train_full), (X_test, y_test) = keras.datasets.fashion_mnist.load_data()\n",
    "X_train_full = X_train_full / 255.0\n",
    "X_test = X_test / 255.0\n",
    "X_valid, X_train = X_train_full[:5000], X_train_full[5000:]\n",
    "y_valid, y_train = y_train_full[:5000], y_train_full[5000:]"
   ]
  },
  {
   "cell_type": "code",
   "execution_count": 12,
   "id": "8bfc8427",
   "metadata": {
    "execution": {
     "iopub.execute_input": "2023-06-18T08:18:14.497393Z",
     "iopub.status.busy": "2023-06-18T08:18:14.497054Z",
     "iopub.status.idle": "2023-06-18T08:18:17.492394Z",
     "shell.execute_reply": "2023-06-18T08:18:17.491425Z"
    },
    "papermill": {
     "duration": 3.04893,
     "end_time": "2023-06-18T08:18:17.495000",
     "exception": false,
     "start_time": "2023-06-18T08:18:14.446070",
     "status": "completed"
    },
    "tags": []
   },
   "outputs": [],
   "source": [
    "tf.random.set_seed(42)\n",
    "np.random.seed(42)\n",
    "\n",
    "model = keras.models.Sequential([\n",
    "    keras.layers.Flatten(input_shape=[28, 28]),\n",
    "    keras.layers.Dense(300, kernel_initializer=\"he_normal\"),\n",
    "    keras.layers.LeakyReLU(),\n",
    "    keras.layers.Dense(100, kernel_initializer=\"he_normal\"),\n",
    "    keras.layers.LeakyReLU(),\n",
    "    keras.layers.Dense(10, activation=\"softmax\")\n",
    "])"
   ]
  },
  {
   "cell_type": "code",
   "execution_count": 13,
   "id": "9ed90995",
   "metadata": {
    "execution": {
     "iopub.execute_input": "2023-06-18T08:18:17.599413Z",
     "iopub.status.busy": "2023-06-18T08:18:17.597645Z",
     "iopub.status.idle": "2023-06-18T08:18:17.615608Z",
     "shell.execute_reply": "2023-06-18T08:18:17.614686Z"
    },
    "papermill": {
     "duration": 0.072045,
     "end_time": "2023-06-18T08:18:17.617850",
     "exception": false,
     "start_time": "2023-06-18T08:18:17.545805",
     "status": "completed"
    },
    "tags": []
   },
   "outputs": [],
   "source": [
    "model.compile(loss=\"sparse_categorical_crossentropy\",\n",
    "              optimizer=keras.optimizers.SGD(learning_rate=1e-3),\n",
    "              metrics=[\"accuracy\"])"
   ]
  },
  {
   "cell_type": "code",
   "execution_count": 14,
   "id": "ef411dbc",
   "metadata": {
    "execution": {
     "iopub.execute_input": "2023-06-18T08:18:17.721997Z",
     "iopub.status.busy": "2023-06-18T08:18:17.720261Z",
     "iopub.status.idle": "2023-06-18T08:19:40.620217Z",
     "shell.execute_reply": "2023-06-18T08:19:40.619234Z"
    },
    "papermill": {
     "duration": 82.95421,
     "end_time": "2023-06-18T08:19:40.622790",
     "exception": false,
     "start_time": "2023-06-18T08:18:17.668580",
     "status": "completed"
    },
    "scrolled": true,
    "tags": []
   },
   "outputs": [
    {
     "name": "stdout",
     "output_type": "stream",
     "text": [
      "Epoch 1/10\n",
      "1719/1719 [==============================] - 9s 3ms/step - loss: 1.2577 - accuracy: 0.6247 - val_loss: 0.8569 - val_accuracy: 0.7246\n",
      "Epoch 2/10\n",
      "1719/1719 [==============================] - 5s 3ms/step - loss: 0.7760 - accuracy: 0.7445 - val_loss: 0.6950 - val_accuracy: 0.7738\n",
      "Epoch 3/10\n",
      "1719/1719 [==============================] - 5s 3ms/step - loss: 0.6678 - accuracy: 0.7798 - val_loss: 0.6306 - val_accuracy: 0.7952\n",
      "Epoch 4/10\n",
      "1719/1719 [==============================] - 5s 3ms/step - loss: 0.6112 - accuracy: 0.7978 - val_loss: 0.5809 - val_accuracy: 0.8112\n",
      "Epoch 5/10\n",
      "1719/1719 [==============================] - 6s 3ms/step - loss: 0.5748 - accuracy: 0.8083 - val_loss: 0.5512 - val_accuracy: 0.8202\n",
      "Epoch 6/10\n",
      "1719/1719 [==============================] - 5s 3ms/step - loss: 0.5486 - accuracy: 0.8154 - val_loss: 0.5290 - val_accuracy: 0.8232\n",
      "Epoch 7/10\n",
      "1719/1719 [==============================] - 5s 3ms/step - loss: 0.5284 - accuracy: 0.8218 - val_loss: 0.5110 - val_accuracy: 0.8310\n",
      "Epoch 8/10\n",
      "1719/1719 [==============================] - 5s 3ms/step - loss: 0.5130 - accuracy: 0.8261 - val_loss: 0.5040 - val_accuracy: 0.8272\n",
      "Epoch 9/10\n",
      "1719/1719 [==============================] - 5s 3ms/step - loss: 0.5004 - accuracy: 0.8282 - val_loss: 0.4865 - val_accuracy: 0.8348\n",
      "Epoch 10/10\n",
      "1719/1719 [==============================] - 5s 3ms/step - loss: 0.4894 - accuracy: 0.8322 - val_loss: 0.4785 - val_accuracy: 0.8380\n"
     ]
    }
   ],
   "source": [
    "history = model.fit(X_train, y_train, epochs=10,\n",
    "                    validation_data=(X_valid, y_valid))"
   ]
  },
  {
   "cell_type": "markdown",
   "id": "09ed500f",
   "metadata": {
    "papermill": {
     "duration": 0.120163,
     "end_time": "2023-06-18T08:19:40.865932",
     "exception": false,
     "start_time": "2023-06-18T08:19:40.745769",
     "status": "completed"
    },
    "tags": []
   },
   "source": [
    "Now let's try PReLU:"
   ]
  },
  {
   "cell_type": "code",
   "execution_count": 15,
   "id": "e7bd7867",
   "metadata": {
    "execution": {
     "iopub.execute_input": "2023-06-18T08:19:41.110429Z",
     "iopub.status.busy": "2023-06-18T08:19:41.110062Z",
     "iopub.status.idle": "2023-06-18T08:19:41.193326Z",
     "shell.execute_reply": "2023-06-18T08:19:41.192354Z"
    },
    "papermill": {
     "duration": 0.208943,
     "end_time": "2023-06-18T08:19:41.195577",
     "exception": false,
     "start_time": "2023-06-18T08:19:40.986634",
     "status": "completed"
    },
    "tags": []
   },
   "outputs": [],
   "source": [
    "tf.random.set_seed(42)\n",
    "np.random.seed(42)\n",
    "\n",
    "model = keras.models.Sequential([\n",
    "    keras.layers.Flatten(input_shape=[28, 28]),\n",
    "    keras.layers.Dense(300, kernel_initializer=\"he_normal\"),\n",
    "    keras.layers.PReLU(),\n",
    "    keras.layers.Dense(100, kernel_initializer=\"he_normal\"),\n",
    "    keras.layers.PReLU(),\n",
    "    keras.layers.Dense(10, activation=\"softmax\")\n",
    "])"
   ]
  },
  {
   "cell_type": "code",
   "execution_count": 16,
   "id": "25cebf43",
   "metadata": {
    "execution": {
     "iopub.execute_input": "2023-06-18T08:19:41.444161Z",
     "iopub.status.busy": "2023-06-18T08:19:41.443809Z",
     "iopub.status.idle": "2023-06-18T08:19:41.457353Z",
     "shell.execute_reply": "2023-06-18T08:19:41.456499Z"
    },
    "papermill": {
     "duration": 0.137763,
     "end_time": "2023-06-18T08:19:41.459444",
     "exception": false,
     "start_time": "2023-06-18T08:19:41.321681",
     "status": "completed"
    },
    "tags": []
   },
   "outputs": [],
   "source": [
    "model.compile(loss=\"sparse_categorical_crossentropy\",\n",
    "              optimizer=keras.optimizers.SGD(learning_rate=1e-3),\n",
    "              metrics=[\"accuracy\"])"
   ]
  },
  {
   "cell_type": "code",
   "execution_count": 17,
   "id": "dda41acb",
   "metadata": {
    "execution": {
     "iopub.execute_input": "2023-06-18T08:19:41.704253Z",
     "iopub.status.busy": "2023-06-18T08:19:41.703898Z",
     "iopub.status.idle": "2023-06-18T08:20:41.878966Z",
     "shell.execute_reply": "2023-06-18T08:20:41.877917Z"
    },
    "papermill": {
     "duration": 60.300458,
     "end_time": "2023-06-18T08:20:41.881399",
     "exception": false,
     "start_time": "2023-06-18T08:19:41.580941",
     "status": "completed"
    },
    "tags": []
   },
   "outputs": [
    {
     "name": "stdout",
     "output_type": "stream",
     "text": [
      "Epoch 1/10\n",
      "1719/1719 [==============================] - 7s 4ms/step - loss: 1.2788 - accuracy: 0.6027 - val_loss: 0.8755 - val_accuracy: 0.7174\n",
      "Epoch 2/10\n",
      "1719/1719 [==============================] - 6s 3ms/step - loss: 0.7880 - accuracy: 0.7448 - val_loss: 0.7038 - val_accuracy: 0.7738\n",
      "Epoch 3/10\n",
      "1719/1719 [==============================] - 6s 3ms/step - loss: 0.6757 - accuracy: 0.7802 - val_loss: 0.6399 - val_accuracy: 0.7930\n",
      "Epoch 4/10\n",
      "1719/1719 [==============================] - 6s 3ms/step - loss: 0.6181 - accuracy: 0.7972 - val_loss: 0.5860 - val_accuracy: 0.8060\n",
      "Epoch 5/10\n",
      "1719/1719 [==============================] - 6s 3ms/step - loss: 0.5817 - accuracy: 0.8072 - val_loss: 0.5560 - val_accuracy: 0.8194\n",
      "Epoch 6/10\n",
      "1719/1719 [==============================] - 6s 4ms/step - loss: 0.5553 - accuracy: 0.8136 - val_loss: 0.5341 - val_accuracy: 0.8254\n",
      "Epoch 7/10\n",
      "1719/1719 [==============================] - 6s 3ms/step - loss: 0.5349 - accuracy: 0.8194 - val_loss: 0.5154 - val_accuracy: 0.8310\n",
      "Epoch 8/10\n",
      "1719/1719 [==============================] - 6s 3ms/step - loss: 0.5190 - accuracy: 0.8240 - val_loss: 0.5078 - val_accuracy: 0.8304\n",
      "Epoch 9/10\n",
      "1719/1719 [==============================] - 6s 3ms/step - loss: 0.5059 - accuracy: 0.8268 - val_loss: 0.4900 - val_accuracy: 0.8412\n",
      "Epoch 10/10\n",
      "1719/1719 [==============================] - 6s 3ms/step - loss: 0.4944 - accuracy: 0.8307 - val_loss: 0.4816 - val_accuracy: 0.8400\n"
     ]
    }
   ],
   "source": [
    "history = model.fit(X_train, y_train, epochs=10,\n",
    "                    validation_data=(X_valid, y_valid))"
   ]
  },
  {
   "cell_type": "markdown",
   "id": "c9566b03",
   "metadata": {
    "papermill": {
     "duration": 0.202092,
     "end_time": "2023-06-18T08:20:42.297857",
     "exception": false,
     "start_time": "2023-06-18T08:20:42.095765",
     "status": "completed"
    },
    "tags": []
   },
   "source": [
    "### ELU"
   ]
  },
  {
   "cell_type": "code",
   "execution_count": 18,
   "id": "0de2b9df",
   "metadata": {
    "execution": {
     "iopub.execute_input": "2023-06-18T08:20:42.713433Z",
     "iopub.status.busy": "2023-06-18T08:20:42.713028Z",
     "iopub.status.idle": "2023-06-18T08:20:42.718599Z",
     "shell.execute_reply": "2023-06-18T08:20:42.717597Z"
    },
    "papermill": {
     "duration": 0.221699,
     "end_time": "2023-06-18T08:20:42.720929",
     "exception": false,
     "start_time": "2023-06-18T08:20:42.499230",
     "status": "completed"
    },
    "tags": []
   },
   "outputs": [],
   "source": [
    "def elu(z, alpha=1):\n",
    "    return np.where(z < 0, alpha * (np.exp(z) - 1), z)"
   ]
  },
  {
   "cell_type": "code",
   "execution_count": 19,
   "id": "44bc4394",
   "metadata": {
    "execution": {
     "iopub.execute_input": "2023-06-18T08:20:43.144737Z",
     "iopub.status.busy": "2023-06-18T08:20:43.144368Z",
     "iopub.status.idle": "2023-06-18T08:20:43.958629Z",
     "shell.execute_reply": "2023-06-18T08:20:43.957573Z"
    },
    "papermill": {
     "duration": 1.022843,
     "end_time": "2023-06-18T08:20:43.960720",
     "exception": false,
     "start_time": "2023-06-18T08:20:42.937877",
     "status": "completed"
    },
    "tags": []
   },
   "outputs": [
    {
     "name": "stdout",
     "output_type": "stream",
     "text": [
      "Saving figure elu_plot\n"
     ]
    },
    {
     "data": {
      "image/png": "[encoded data removed]",
      "text/plain": [
       "<Figure size 640x480 with 1 Axes>"
      ]
     },
     "metadata": {},
     "output_type": "display_data"
    }
   ],
   "source": [
    "plt.plot(z, elu(z), \"b-\", linewidth=2)\n",
    "plt.plot([-5, 5], [0, 0], 'k-')\n",
    "plt.plot([-5, 5], [-1, -1], 'k--')\n",
    "plt.plot([0, 0], [-2.2, 3.2], 'k-')\n",
    "plt.grid(True)\n",
    "plt.title(r\"ELU activation function ($\\alpha=1$)\", fontsize=14)\n",
    "plt.axis([-5, 5, -2.2, 3.2])\n",
    "\n",
    "save_fig(\"elu_plot\")\n",
    "plt.show()"
   ]
  },
  {
   "cell_type": "markdown",
   "id": "2fa96cf2",
   "metadata": {
    "papermill": {
     "duration": 0.204797,
     "end_time": "2023-06-18T08:20:44.366534",
     "exception": false,
     "start_time": "2023-06-18T08:20:44.161737",
     "status": "completed"
    },
    "tags": []
   },
   "source": [
    "Implementing ELU in TensorFlow is trivial, just specify the activation function when building each layer:"
   ]
  },
  {
   "cell_type": "code",
   "execution_count": 20,
   "id": "57abb2b5",
   "metadata": {
    "execution": {
     "iopub.execute_input": "2023-06-18T08:20:44.773902Z",
     "iopub.status.busy": "2023-06-18T08:20:44.773540Z",
     "iopub.status.idle": "2023-06-18T08:20:44.781044Z",
     "shell.execute_reply": "2023-06-18T08:20:44.780197Z"
    },
    "papermill": {
     "duration": 0.213908,
     "end_time": "2023-06-18T08:20:44.782968",
     "exception": false,
     "start_time": "2023-06-18T08:20:44.569060",
     "status": "completed"
    },
    "tags": []
   },
   "outputs": [
    {
     "data": {
      "text/plain": [
       "<keras.layers.core.dense.Dense at 0x7d75881ec430>"
      ]
     },
     "execution_count": 20,
     "metadata": {},
     "output_type": "execute_result"
    }
   ],
   "source": [
    "keras.layers.Dense(10, activation=\"elu\")"
   ]
  },
  {
   "cell_type": "markdown",
   "id": "9816b8b3",
   "metadata": {
    "papermill": {
     "duration": 0.201038,
     "end_time": "2023-06-18T08:20:45.188990",
     "exception": false,
     "start_time": "2023-06-18T08:20:44.987952",
     "status": "completed"
    },
    "tags": []
   },
   "source": [
    "### SELU"
   ]
  },
  {
   "cell_type": "markdown",
   "id": "5f3d3873",
   "metadata": {
    "papermill": {
     "duration": 0.209922,
     "end_time": "2023-06-18T08:20:45.604548",
     "exception": false,
     "start_time": "2023-06-18T08:20:45.394626",
     "status": "completed"
    },
    "tags": []
   },
   "source": [
    "This activation function was proposed in this [great paper](https://arxiv.org/pdf/1706.02515.pdf) by Günter Klambauer, Thomas Unterthiner and Andreas Mayr, published in June 2017. During training, a neural network composed exclusively of a stack of dense layers using the SELU activation function and LeCun initialization will self-normalize: the output of each layer will tend to preserve the same mean and variance during training, which solves the vanishing/exploding gradients problem. As a result, this activation function outperforms the other activation functions very significantly for such neural nets, so you should really try it out. Unfortunately, the self-normalizing property of the SELU activation function is easily broken: you cannot use ℓ<sub>1</sub> or ℓ<sub>2</sub> regularization, regular dropout, max-norm, skip connections or other non-sequential topologies (so recurrent neural networks won't self-normalize). However, in practice it works quite well with sequential CNNs. If you break self-normalization, SELU will not necessarily outperform other activation functions."
   ]
  },
  {
   "cell_type": "code",
   "execution_count": 21,
   "id": "37d71670",
   "metadata": {
    "execution": {
     "iopub.execute_input": "2023-06-18T08:20:46.090989Z",
     "iopub.status.busy": "2023-06-18T08:20:46.090625Z",
     "iopub.status.idle": "2023-06-18T08:20:46.100496Z",
     "shell.execute_reply": "2023-06-18T08:20:46.099543Z"
    },
    "papermill": {
     "duration": 0.220397,
     "end_time": "2023-06-18T08:20:46.102816",
     "exception": false,
     "start_time": "2023-06-18T08:20:45.882419",
     "status": "completed"
    },
    "tags": []
   },
   "outputs": [],
   "source": [
    "from scipy.special import erfc\n",
    "\n",
    "# alpha and scale to self normalize with mean 0 and standard deviation 1\n",
    "# (see equation 14 in the paper):\n",
    "alpha_0_1 = -np.sqrt(2 / np.pi) / (erfc(1/np.sqrt(2)) * np.exp(1/2) - 1)\n",
    "scale_0_1 = (1 - erfc(1 / np.sqrt(2)) * np.sqrt(np.e)) * np.sqrt(2 * np.pi) * (2 * erfc(np.sqrt(2))*np.e**2 + np.pi*erfc(1/np.sqrt(2))**2*np.e - 2*(2+np.pi)*erfc(1/np.sqrt(2))*np.sqrt(np.e)+np.pi+2)**(-1/2)"
   ]
  },
  {
   "cell_type": "code",
   "execution_count": 22,
   "id": "b23c0d0e",
   "metadata": {
    "execution": {
     "iopub.execute_input": "2023-06-18T08:20:46.512691Z",
     "iopub.status.busy": "2023-06-18T08:20:46.512328Z",
     "iopub.status.idle": "2023-06-18T08:20:46.516958Z",
     "shell.execute_reply": "2023-06-18T08:20:46.516059Z"
    },
    "papermill": {
     "duration": 0.20956,
     "end_time": "2023-06-18T08:20:46.518970",
     "exception": false,
     "start_time": "2023-06-18T08:20:46.309410",
     "status": "completed"
    },
    "tags": []
   },
   "outputs": [],
   "source": [
    "def selu(z, scale=scale_0_1, alpha=alpha_0_1):\n",
    "    return scale * elu(z, alpha)"
   ]
  },
  {
   "cell_type": "code",
   "execution_count": 23,
   "id": "197d076f",
   "metadata": {
    "execution": {
     "iopub.execute_input": "2023-06-18T08:20:47.000559Z",
     "iopub.status.busy": "2023-06-18T08:20:46.999404Z",
     "iopub.status.idle": "2023-06-18T08:20:47.683149Z",
     "shell.execute_reply": "2023-06-18T08:20:47.682221Z"
    },
    "papermill": {
     "duration": 0.930847,
     "end_time": "2023-06-18T08:20:47.685296",
     "exception": false,
     "start_time": "2023-06-18T08:20:46.754449",
     "status": "completed"
    },
    "tags": []
   },
   "outputs": [
    {
     "name": "stdout",
     "output_type": "stream",
     "text": [
      "Saving figure selu_plot\n"
     ]
    },
    {
     "data": {
      "image/png": "[encoded data removed]",
      "text/plain": [
       "<Figure size 640x480 with 1 Axes>"
      ]
     },
     "metadata": {},
     "output_type": "display_data"
    }
   ],
   "source": [
    "plt.plot(z, selu(z), \"b-\", linewidth=2)\n",
    "plt.plot([-5, 5], [0, 0], 'k-')\n",
    "plt.plot([-5, 5], [-1.758, -1.758], 'k--')\n",
    "plt.plot([0, 0], [-2.2, 3.2], 'k-')\n",
    "plt.grid(True)\n",
    "plt.title(\"SELU activation function\", fontsize=14)\n",
    "plt.axis([-5, 5, -2.2, 3.2])\n",
    "\n",
    "save_fig(\"selu_plot\")\n",
    "plt.show()"
   ]
  },
  {
   "cell_type": "markdown",
   "id": "23493c17",
   "metadata": {
    "papermill": {
     "duration": 0.203534,
     "end_time": "2023-06-18T08:20:48.092113",
     "exception": false,
     "start_time": "2023-06-18T08:20:47.888579",
     "status": "completed"
    },
    "tags": []
   },
   "source": [
    "By default, the SELU hyperparameters (`scale` and `alpha`) are tuned in such a way that the mean output of each neuron remains close to 0, and the standard deviation remains close to 1 (assuming the inputs are standardized with mean 0 and standard deviation 1 too). Using this activation function, even a 1,000 layer deep neural network preserves roughly mean 0 and standard deviation 1 across all layers, avoiding the exploding/vanishing gradients problem:"
   ]
  },
  {
   "cell_type": "code",
   "execution_count": 24,
   "id": "c8009e6c",
   "metadata": {
    "execution": {
     "iopub.execute_input": "2023-06-18T08:20:48.500726Z",
     "iopub.status.busy": "2023-06-18T08:20:48.499007Z",
     "iopub.status.idle": "2023-06-18T08:20:51.646953Z",
     "shell.execute_reply": "2023-06-18T08:20:51.645702Z"
    },
    "papermill": {
     "duration": 3.355163,
     "end_time": "2023-06-18T08:20:51.650197",
     "exception": false,
     "start_time": "2023-06-18T08:20:48.295034",
     "status": "completed"
    },
    "tags": []
   },
   "outputs": [
    {
     "name": "stdout",
     "output_type": "stream",
     "text": [
      "Layer 0: mean -0.00, std deviation 1.00\n",
      "Layer 100: mean 0.02, std deviation 0.96\n",
      "Layer 200: mean 0.01, std deviation 0.90\n",
      "Layer 300: mean -0.02, std deviation 0.92\n",
      "Layer 400: mean 0.05, std deviation 0.89\n",
      "Layer 500: mean 0.01, std deviation 0.93\n",
      "Layer 600: mean 0.02, std deviation 0.92\n",
      "Layer 700: mean -0.02, std deviation 0.90\n",
      "Layer 800: mean 0.05, std deviation 0.83\n",
      "Layer 900: mean 0.02, std deviation 1.00\n"
     ]
    }
   ],
   "source": [
    "np.random.seed(42)\n",
    "Z = np.random.normal(size=(500, 100)) # standardized inputs\n",
    "for layer in range(1000):\n",
    "    W = np.random.normal(size=(100, 100), scale=np.sqrt(1 / 100)) # LeCun initialization\n",
    "    Z = selu(np.dot(Z, W))\n",
    "    means = np.mean(Z, axis=0).mean()\n",
    "    stds = np.std(Z, axis=0).mean()\n",
    "    if layer % 100 == 0:\n",
    "        print(\"Layer {}: mean {:.2f}, std deviation {:.2f}\".format(layer, means, stds))"
   ]
  },
  {
   "cell_type": "markdown",
   "id": "ec32a4a7",
   "metadata": {
    "papermill": {
     "duration": 0.202771,
     "end_time": "2023-06-18T08:20:52.123450",
     "exception": false,
     "start_time": "2023-06-18T08:20:51.920679",
     "status": "completed"
    },
    "tags": []
   },
   "source": [
    "Using SELU is easy:"
   ]
  },
  {
   "cell_type": "code",
   "execution_count": 25,
   "id": "313cfa6a",
   "metadata": {
    "execution": {
     "iopub.execute_input": "2023-06-18T08:20:52.538827Z",
     "iopub.status.busy": "2023-06-18T08:20:52.538368Z",
     "iopub.status.idle": "2023-06-18T08:20:52.547562Z",
     "shell.execute_reply": "2023-06-18T08:20:52.546683Z"
    },
    "papermill": {
     "duration": 0.217317,
     "end_time": "2023-06-18T08:20:52.549537",
     "exception": false,
     "start_time": "2023-06-18T08:20:52.332220",
     "status": "completed"
    },
    "tags": []
   },
   "outputs": [
    {
     "data": {
      "text/plain": [
       "<keras.layers.core.dense.Dense at 0x7d7581656aa0>"
      ]
     },
     "execution_count": 25,
     "metadata": {},
     "output_type": "execute_result"
    }
   ],
   "source": [
    "keras.layers.Dense(10, activation=\"selu\",\n",
    "                   kernel_initializer=\"lecun_normal\")"
   ]
  },
  {
   "cell_type": "markdown",
   "id": "d5446594",
   "metadata": {
    "papermill": {
     "duration": 0.249388,
     "end_time": "2023-06-18T08:20:53.004707",
     "exception": false,
     "start_time": "2023-06-18T08:20:52.755319",
     "status": "completed"
    },
    "tags": []
   },
   "source": [
    "Let's create a neural net for Fashion MNIST with 100 hidden layers, using the SELU activation function:"
   ]
  },
  {
   "cell_type": "code",
   "execution_count": 26,
   "id": "6eb603a2",
   "metadata": {
    "execution": {
     "iopub.execute_input": "2023-06-18T08:20:53.415767Z",
     "iopub.status.busy": "2023-06-18T08:20:53.414033Z",
     "iopub.status.idle": "2023-06-18T08:20:53.424340Z",
     "shell.execute_reply": "2023-06-18T08:20:53.423470Z"
    },
    "papermill": {
     "duration": 0.218053,
     "end_time": "2023-06-18T08:20:53.426415",
     "exception": false,
     "start_time": "2023-06-18T08:20:53.208362",
     "status": "completed"
    },
    "tags": []
   },
   "outputs": [],
   "source": [
    "np.random.seed(42)\n",
    "tf.random.set_seed(42)"
   ]
  },
  {
   "cell_type": "code",
   "execution_count": 27,
   "id": "aa1b44ae",
   "metadata": {
    "execution": {
     "iopub.execute_input": "2023-06-18T08:20:53.837075Z",
     "iopub.status.busy": "2023-06-18T08:20:53.836718Z",
     "iopub.status.idle": "2023-06-18T08:20:54.999178Z",
     "shell.execute_reply": "2023-06-18T08:20:54.998155Z"
    },
    "papermill": {
     "duration": 1.36921,
     "end_time": "2023-06-18T08:20:55.001575",
     "exception": false,
     "start_time": "2023-06-18T08:20:53.632365",
     "status": "completed"
    },
    "tags": []
   },
   "outputs": [],
   "source": [
    "model = keras.models.Sequential()\n",
    "model.add(keras.layers.Flatten(input_shape=[28, 28]))\n",
    "model.add(keras.layers.Dense(300, activation=\"selu\",\n",
    "                             kernel_initializer=\"lecun_normal\"))\n",
    "for layer in range(99):\n",
    "    model.add(keras.layers.Dense(100, activation=\"selu\",\n",
    "                                 kernel_initializer=\"lecun_normal\"))\n",
    "model.add(keras.layers.Dense(10, activation=\"softmax\"))"
   ]
  },
  {
   "cell_type": "code",
   "execution_count": 28,
   "id": "f7cacda7",
   "metadata": {
    "execution": {
     "iopub.execute_input": "2023-06-18T08:20:55.410884Z",
     "iopub.status.busy": "2023-06-18T08:20:55.410511Z",
     "iopub.status.idle": "2023-06-18T08:20:55.426028Z",
     "shell.execute_reply": "2023-06-18T08:20:55.425081Z"
    },
    "papermill": {
     "duration": 0.223398,
     "end_time": "2023-06-18T08:20:55.428341",
     "exception": false,
     "start_time": "2023-06-18T08:20:55.204943",
     "status": "completed"
    },
    "tags": []
   },
   "outputs": [],
   "source": [
    "model.compile(loss=\"sparse_categorical_crossentropy\",\n",
    "              optimizer=keras.optimizers.SGD(learning_rate=1e-3),\n",
    "              metrics=[\"accuracy\"])"
   ]
  },
  {
   "cell_type": "markdown",
   "id": "d6dfd3e6",
   "metadata": {
    "papermill": {
     "duration": 0.20407,
     "end_time": "2023-06-18T08:20:55.856660",
     "exception": false,
     "start_time": "2023-06-18T08:20:55.652590",
     "status": "completed"
    },
    "tags": []
   },
   "source": [
    "Now let's train it. Do not forget to scale the inputs to mean 0 and standard deviation 1:"
   ]
  },
  {
   "cell_type": "code",
   "execution_count": 29,
   "id": "fe7976a2",
   "metadata": {
    "execution": {
     "iopub.execute_input": "2023-06-18T08:20:56.265732Z",
     "iopub.status.busy": "2023-06-18T08:20:56.265365Z",
     "iopub.status.idle": "2023-06-18T08:20:56.812557Z",
     "shell.execute_reply": "2023-06-18T08:20:56.811486Z"
    },
    "papermill": {
     "duration": 0.755397,
     "end_time": "2023-06-18T08:20:56.815192",
     "exception": false,
     "start_time": "2023-06-18T08:20:56.059795",
     "status": "completed"
    },
    "tags": []
   },
   "outputs": [],
   "source": [
    "pixel_means = X_train.mean(axis=0, keepdims=True)\n",
    "pixel_stds = X_train.std(axis=0, keepdims=True)\n",
    "X_train_scaled = (X_train - pixel_means) / pixel_stds\n",
    "X_valid_scaled = (X_valid - pixel_means) / pixel_stds\n",
    "X_test_scaled = (X_test - pixel_means) / pixel_stds"
   ]
  },
  {
   "cell_type": "code",
   "execution_count": 30,
   "id": "7a567fd2",
   "metadata": {
    "execution": {
     "iopub.execute_input": "2023-06-18T08:20:57.337664Z",
     "iopub.status.busy": "2023-06-18T08:20:57.337293Z",
     "iopub.status.idle": "2023-06-18T08:24:27.569560Z",
     "shell.execute_reply": "2023-06-18T08:24:27.568428Z"
    },
    "papermill": {
     "duration": 210.48801,
     "end_time": "2023-06-18T08:24:27.572225",
     "exception": false,
     "start_time": "2023-06-18T08:20:57.084215",
     "status": "completed"
    },
    "tags": []
   },
   "outputs": [
    {
     "name": "stdout",
     "output_type": "stream",
     "text": [
      "Epoch 1/5\n",
      "1719/1719 [==============================] - 48s 20ms/step - loss: 1.1304 - accuracy: 0.5695 - val_loss: 1.0744 - val_accuracy: 0.6204\n",
      "Epoch 2/5\n",
      "1719/1719 [==============================] - 34s 20ms/step - loss: 1.0441 - accuracy: 0.6054 - val_loss: 1.0868 - val_accuracy: 0.5840\n",
      "Epoch 3/5\n",
      "1719/1719 [==============================] - 34s 20ms/step - loss: 0.7938 - accuracy: 0.7048 - val_loss: 0.6642 - val_accuracy: 0.7578\n",
      "Epoch 4/5\n",
      "1719/1719 [==============================] - 34s 20ms/step - loss: 0.7916 - accuracy: 0.7005 - val_loss: 0.6958 - val_accuracy: 0.7496\n",
      "Epoch 5/5\n",
      "1719/1719 [==============================] - 34s 20ms/step - loss: 0.6143 - accuracy: 0.7708 - val_loss: 0.5579 - val_accuracy: 0.8032\n"
     ]
    }
   ],
   "source": [
    "history = model.fit(X_train_scaled, y_train, epochs=5,\n",
    "                    validation_data=(X_valid_scaled, y_valid))"
   ]
  },
  {
   "cell_type": "markdown",
   "id": "c0084a1f",
   "metadata": {
    "papermill": {
     "duration": 0.428166,
     "end_time": "2023-06-18T08:24:28.433538",
     "exception": false,
     "start_time": "2023-06-18T08:24:28.005372",
     "status": "completed"
    },
    "tags": []
   },
   "source": [
    "Now look at what happens if we try to use the ReLU activation function instead:"
   ]
  },
  {
   "cell_type": "code",
   "execution_count": 31,
   "id": "614e27a6",
   "metadata": {
    "execution": {
     "iopub.execute_input": "2023-06-18T08:24:29.291276Z",
     "iopub.status.busy": "2023-06-18T08:24:29.290915Z",
     "iopub.status.idle": "2023-06-18T08:24:29.317537Z",
     "shell.execute_reply": "2023-06-18T08:24:29.316437Z"
    },
    "papermill": {
     "duration": 0.459749,
     "end_time": "2023-06-18T08:24:29.320312",
     "exception": false,
     "start_time": "2023-06-18T08:24:28.860563",
     "status": "completed"
    },
    "tags": []
   },
   "outputs": [],
   "source": [
    "np.random.seed(42)\n",
    "tf.random.set_seed(42)"
   ]
  },
  {
   "cell_type": "code",
   "execution_count": 32,
   "id": "9a9f5dd7",
   "metadata": {
    "execution": {
     "iopub.execute_input": "2023-06-18T08:24:30.293465Z",
     "iopub.status.busy": "2023-06-18T08:24:30.293006Z",
     "iopub.status.idle": "2023-06-18T08:24:31.790538Z",
     "shell.execute_reply": "2023-06-18T08:24:31.789574Z"
    },
    "papermill": {
     "duration": 2.043278,
     "end_time": "2023-06-18T08:24:31.793204",
     "exception": false,
     "start_time": "2023-06-18T08:24:29.749926",
     "status": "completed"
    },
    "tags": []
   },
   "outputs": [],
   "source": [
    "model = keras.models.Sequential()\n",
    "model.add(keras.layers.Flatten(input_shape=[28, 28]))\n",
    "model.add(keras.layers.Dense(300, activation=\"relu\", kernel_initializer=\"he_normal\"))\n",
    "for layer in range(99):\n",
    "    model.add(keras.layers.Dense(100, activation=\"relu\", kernel_initializer=\"he_normal\"))\n",
    "model.add(keras.layers.Dense(10, activation=\"softmax\"))"
   ]
  },
  {
   "cell_type": "code",
   "execution_count": 33,
   "id": "902bd036",
   "metadata": {
    "execution": {
     "iopub.execute_input": "2023-06-18T08:24:32.652832Z",
     "iopub.status.busy": "2023-06-18T08:24:32.652451Z",
     "iopub.status.idle": "2023-06-18T08:24:32.667601Z",
     "shell.execute_reply": "2023-06-18T08:24:32.666742Z"
    },
    "papermill": {
     "duration": 0.447067,
     "end_time": "2023-06-18T08:24:32.669630",
     "exception": false,
     "start_time": "2023-06-18T08:24:32.222563",
     "status": "completed"
    },
    "tags": []
   },
   "outputs": [],
   "source": [
    "model.compile(loss=\"sparse_categorical_crossentropy\",\n",
    "              optimizer=keras.optimizers.SGD(learning_rate=1e-3),\n",
    "              metrics=[\"accuracy\"])"
   ]
  },
  {
   "cell_type": "code",
   "execution_count": 34,
   "id": "de7a81a4",
   "metadata": {
    "execution": {
     "iopub.execute_input": "2023-06-18T08:24:33.531718Z",
     "iopub.status.busy": "2023-06-18T08:24:33.531347Z",
     "iopub.status.idle": "2023-06-18T08:28:03.551001Z",
     "shell.execute_reply": "2023-06-18T08:28:03.549939Z"
    },
    "papermill": {
     "duration": 210.451897,
     "end_time": "2023-06-18T08:28:03.553456",
     "exception": false,
     "start_time": "2023-06-18T08:24:33.101559",
     "status": "completed"
    },
    "tags": []
   },
   "outputs": [
    {
     "name": "stdout",
     "output_type": "stream",
     "text": [
      "Epoch 1/5\n",
      "1719/1719 [==============================] - 47s 20ms/step - loss: 1.9309 - accuracy: 0.2302 - val_loss: 1.5602 - val_accuracy: 0.3684\n",
      "Epoch 2/5\n",
      "1719/1719 [==============================] - 34s 20ms/step - loss: 1.2926 - accuracy: 0.4407 - val_loss: 0.9885 - val_accuracy: 0.5810\n",
      "Epoch 3/5\n",
      "1719/1719 [==============================] - 34s 20ms/step - loss: 1.0116 - accuracy: 0.5789 - val_loss: 1.2839 - val_accuracy: 0.4640\n",
      "Epoch 4/5\n",
      "1719/1719 [==============================] - 34s 20ms/step - loss: 0.9210 - accuracy: 0.6207 - val_loss: 0.7652 - val_accuracy: 0.6954\n",
      "Epoch 5/5\n",
      "1719/1719 [==============================] - 34s 20ms/step - loss: 0.7850 - accuracy: 0.6754 - val_loss: 0.7948 - val_accuracy: 0.6600\n"
     ]
    }
   ],
   "source": [
    "history = model.fit(X_train_scaled, y_train, epochs=5,\n",
    "                    validation_data=(X_valid_scaled, y_valid))"
   ]
  },
  {
   "cell_type": "markdown",
   "id": "c051b160",
   "metadata": {
    "papermill": {
     "duration": 0.701535,
     "end_time": "2023-06-18T08:28:04.911264",
     "exception": false,
     "start_time": "2023-06-18T08:28:04.209729",
     "status": "completed"
    },
    "tags": []
   },
   "source": [
    "Not great at all, we suffered from the vanishing/exploding gradients problem."
   ]
  },
  {
   "cell_type": "markdown",
   "id": "9ffe7047",
   "metadata": {
    "papermill": {
     "duration": 0.651536,
     "end_time": "2023-06-18T08:28:06.211309",
     "exception": false,
     "start_time": "2023-06-18T08:28:05.559773",
     "status": "completed"
    },
    "tags": []
   },
   "source": [
    "# Batch Normalization"
   ]
  },
  {
   "cell_type": "code",
   "execution_count": 35,
   "id": "a4132e45",
   "metadata": {
    "execution": {
     "iopub.execute_input": "2023-06-18T08:28:07.613689Z",
     "iopub.status.busy": "2023-06-18T08:28:07.613318Z",
     "iopub.status.idle": "2023-06-18T08:28:07.708885Z",
     "shell.execute_reply": "2023-06-18T08:28:07.707960Z"
    },
    "papermill": {
     "duration": 0.749603,
     "end_time": "2023-06-18T08:28:07.711037",
     "exception": false,
     "start_time": "2023-06-18T08:28:06.961434",
     "status": "completed"
    },
    "tags": []
   },
   "outputs": [],
   "source": [
    "model = keras.models.Sequential([\n",
    "    keras.layers.Flatten(input_shape=[28, 28]),\n",
    "    keras.layers.BatchNormalization(),\n",
    "    keras.layers.Dense(300, activation=\"relu\"),\n",
    "    keras.layers.BatchNormalization(),\n",
    "    keras.layers.Dense(100, activation=\"relu\"),\n",
    "    keras.layers.BatchNormalization(),\n",
    "    keras.layers.Dense(10, activation=\"softmax\")\n",
    "])"
   ]
  },
  {
   "cell_type": "code",
   "execution_count": 36,
   "id": "9f4de2f1",
   "metadata": {
    "execution": {
     "iopub.execute_input": "2023-06-18T08:28:09.017437Z",
     "iopub.status.busy": "2023-06-18T08:28:09.017068Z",
     "iopub.status.idle": "2023-06-18T08:28:09.044308Z",
     "shell.execute_reply": "2023-06-18T08:28:09.043293Z"
    },
    "papermill": {
     "duration": 0.696403,
     "end_time": "2023-06-18T08:28:09.057868",
     "exception": false,
     "start_time": "2023-06-18T08:28:08.361465",
     "status": "completed"
    },
    "tags": []
   },
   "outputs": [
    {
     "name": "stdout",
     "output_type": "stream",
     "text": [
      "Model: \"sequential_4\"\n",
      "_________________________________________________________________\n",
      " Layer (type)                Output Shape              Param #   \n",
      "=================================================================\n",
      " flatten_4 (Flatten)         (None, 784)               0         \n",
      "                                                                 \n",
      " batch_normalization (BatchN  (None, 784)              3136      \n",
      " ormalization)                                                   \n",
      "                                                                 \n",
      " dense_212 (Dense)           (None, 300)               235500    \n",
      "                                                                 \n",
      " batch_normalization_1 (Batc  (None, 300)              1200      \n",
      " hNormalization)                                                 \n",
      "                                                                 \n",
      " dense_213 (Dense)           (None, 100)               30100     \n",
      "                                                                 \n",
      " batch_normalization_2 (Batc  (None, 100)              400       \n",
      " hNormalization)                                                 \n",
      "                                                                 \n",
      " dense_214 (Dense)           (None, 10)                1010      \n",
      "                                                                 \n",
      "=================================================================\n",
      "Total params: 271,346\n",
      "Trainable params: 268,978\n",
      "Non-trainable params: 2,368\n",
      "_________________________________________________________________\n"
     ]
    }
   ],
   "source": [
    "model.summary()"
   ]
  },
  {
   "cell_type": "code",
   "execution_count": 37,
   "id": "f5801d0e",
   "metadata": {
    "execution": {
     "iopub.execute_input": "2023-06-18T08:28:10.526429Z",
     "iopub.status.busy": "2023-06-18T08:28:10.525861Z",
     "iopub.status.idle": "2023-06-18T08:28:10.536095Z",
     "shell.execute_reply": "2023-06-18T08:28:10.535273Z"
    },
    "papermill": {
     "duration": 0.772703,
     "end_time": "2023-06-18T08:28:10.539702",
     "exception": false,
     "start_time": "2023-06-18T08:28:09.766999",
     "status": "completed"
    },
    "tags": []
   },
   "outputs": [
    {
     "data": {
      "text/plain": [
       "[('batch_normalization/gamma:0', True),\n",
       " ('batch_normalization/beta:0', True),\n",
       " ('batch_normalization/moving_mean:0', False),\n",
       " ('batch_normalization/moving_variance:0', False)]"
      ]
     },
     "execution_count": 37,
     "metadata": {},
     "output_type": "execute_result"
    }
   ],
   "source": [
    "bn1 = model.layers[1]\n",
    "[(var.name, var.trainable) for var in bn1.variables]"
   ]
  },
  {
   "cell_type": "code",
   "execution_count": 38,
   "id": "7521bb1b",
   "metadata": {
    "execution": {
     "iopub.execute_input": "2023-06-18T08:28:12.263295Z",
     "iopub.status.busy": "2023-06-18T08:28:12.262910Z",
     "iopub.status.idle": "2023-06-18T08:28:12.267094Z",
     "shell.execute_reply": "2023-06-18T08:28:12.266187Z"
    },
    "papermill": {
     "duration": 0.785611,
     "end_time": "2023-06-18T08:28:12.269297",
     "exception": false,
     "start_time": "2023-06-18T08:28:11.483686",
     "status": "completed"
    },
    "tags": []
   },
   "outputs": [],
   "source": [
    "#bn1.updates #deprecated"
   ]
  },
  {
   "cell_type": "code",
   "execution_count": 39,
   "id": "3ac8948e",
   "metadata": {
    "execution": {
     "iopub.execute_input": "2023-06-18T08:28:13.585475Z",
     "iopub.status.busy": "2023-06-18T08:28:13.584372Z",
     "iopub.status.idle": "2023-06-18T08:28:13.596083Z",
     "shell.execute_reply": "2023-06-18T08:28:13.595232Z"
    },
    "papermill": {
     "duration": 0.674801,
     "end_time": "2023-06-18T08:28:13.598182",
     "exception": false,
     "start_time": "2023-06-18T08:28:12.923381",
     "status": "completed"
    },
    "tags": []
   },
   "outputs": [],
   "source": [
    "model.compile(loss=\"sparse_categorical_crossentropy\",\n",
    "              optimizer=keras.optimizers.SGD(learning_rate=1e-3),\n",
    "              metrics=[\"accuracy\"])"
   ]
  },
  {
   "cell_type": "code",
   "execution_count": 40,
   "id": "6e80bccd",
   "metadata": {
    "execution": {
     "iopub.execute_input": "2023-06-18T08:28:14.967418Z",
     "iopub.status.busy": "2023-06-18T08:28:14.966414Z",
     "iopub.status.idle": "2023-06-18T08:29:40.050153Z",
     "shell.execute_reply": "2023-06-18T08:29:40.049186Z"
    },
    "papermill": {
     "duration": 85.74487,
     "end_time": "2023-06-18T08:29:40.052356",
     "exception": false,
     "start_time": "2023-06-18T08:28:14.307486",
     "status": "completed"
    },
    "tags": []
   },
   "outputs": [
    {
     "name": "stdout",
     "output_type": "stream",
     "text": [
      "Epoch 1/10\n",
      "1719/1719 [==============================] - 10s 5ms/step - loss: 0.8524 - accuracy: 0.7097 - val_loss: 0.5494 - val_accuracy: 0.8188\n",
      "Epoch 2/10\n",
      "1719/1719 [==============================] - 8s 5ms/step - loss: 0.5789 - accuracy: 0.7969 - val_loss: 0.4707 - val_accuracy: 0.8412\n",
      "Epoch 3/10\n",
      "1719/1719 [==============================] - 8s 5ms/step - loss: 0.5235 - accuracy: 0.8192 - val_loss: 0.4365 - val_accuracy: 0.8506\n",
      "Epoch 4/10\n",
      "1719/1719 [==============================] - 9s 5ms/step - loss: 0.4833 - accuracy: 0.8309 - val_loss: 0.4141 - val_accuracy: 0.8598\n",
      "Epoch 5/10\n",
      "1719/1719 [==============================] - 8s 5ms/step - loss: 0.4600 - accuracy: 0.8382 - val_loss: 0.3988 - val_accuracy: 0.8608\n",
      "Epoch 6/10\n",
      "1719/1719 [==============================] - 8s 5ms/step - loss: 0.4437 - accuracy: 0.8434 - val_loss: 0.3880 - val_accuracy: 0.8648\n",
      "Epoch 7/10\n",
      "1719/1719 [==============================] - 9s 5ms/step - loss: 0.4290 - accuracy: 0.8487 - val_loss: 0.3779 - val_accuracy: 0.8658\n",
      "Epoch 8/10\n",
      "1719/1719 [==============================] - 9s 5ms/step - loss: 0.4167 - accuracy: 0.8536 - val_loss: 0.3725 - val_accuracy: 0.8686\n",
      "Epoch 9/10\n",
      "1719/1719 [==============================] - 8s 5ms/step - loss: 0.4067 - accuracy: 0.8564 - val_loss: 0.3655 - val_accuracy: 0.8692\n",
      "Epoch 10/10\n",
      "1719/1719 [==============================] - 8s 5ms/step - loss: 0.3946 - accuracy: 0.8600 - val_loss: 0.3594 - val_accuracy: 0.8726\n"
     ]
    }
   ],
   "source": [
    "history = model.fit(X_train, y_train, epochs=10,\n",
    "                    validation_data=(X_valid, y_valid))"
   ]
  },
  {
   "cell_type": "markdown",
   "id": "deac10c6",
   "metadata": {
    "papermill": {
     "duration": 0.821863,
     "end_time": "2023-06-18T08:29:41.670162",
     "exception": false,
     "start_time": "2023-06-18T08:29:40.848299",
     "status": "completed"
    },
    "tags": []
   },
   "source": [
    "Sometimes applying BN before the activation function works better (there's a debate on this topic). Moreover, the layer before a `BatchNormalization` layer does not need to have bias terms, since the `BatchNormalization` layer has some as well, it would be a waste of parameters, so you can set `use_bias=False` when creating those layers:"
   ]
  },
  {
   "cell_type": "code",
   "execution_count": 41,
   "id": "d4d63af9",
   "metadata": {
    "execution": {
     "iopub.execute_input": "2023-06-18T08:29:43.200110Z",
     "iopub.status.busy": "2023-06-18T08:29:43.199154Z",
     "iopub.status.idle": "2023-06-18T08:29:43.285831Z",
     "shell.execute_reply": "2023-06-18T08:29:43.284925Z"
    },
    "papermill": {
     "duration": 0.854989,
     "end_time": "2023-06-18T08:29:43.287991",
     "exception": false,
     "start_time": "2023-06-18T08:29:42.433002",
     "status": "completed"
    },
    "tags": []
   },
   "outputs": [],
   "source": [
    "model = keras.models.Sequential([\n",
    "    keras.layers.Flatten(input_shape=[28, 28]),\n",
    "    keras.layers.BatchNormalization(),\n",
    "    keras.layers.Dense(300, use_bias=False),\n",
    "    keras.layers.BatchNormalization(),\n",
    "    keras.layers.Activation(\"relu\"),\n",
    "    keras.layers.Dense(100, use_bias=False),\n",
    "    keras.layers.BatchNormalization(),\n",
    "    keras.layers.Activation(\"relu\"),\n",
    "    keras.layers.Dense(10, activation=\"softmax\")\n",
    "])"
   ]
  },
  {
   "cell_type": "code",
   "execution_count": 42,
   "id": "d307038f",
   "metadata": {
    "execution": {
     "iopub.execute_input": "2023-06-18T08:29:44.865790Z",
     "iopub.status.busy": "2023-06-18T08:29:44.865411Z",
     "iopub.status.idle": "2023-06-18T08:29:44.877709Z",
     "shell.execute_reply": "2023-06-18T08:29:44.876868Z"
    },
    "papermill": {
     "duration": 0.77818,
     "end_time": "2023-06-18T08:29:44.879642",
     "exception": false,
     "start_time": "2023-06-18T08:29:44.101462",
     "status": "completed"
    },
    "tags": []
   },
   "outputs": [],
   "source": [
    "model.compile(loss=\"sparse_categorical_crossentropy\",\n",
    "              optimizer=keras.optimizers.SGD(learning_rate=1e-3),\n",
    "              metrics=[\"accuracy\"])"
   ]
  },
  {
   "cell_type": "code",
   "execution_count": 43,
   "id": "6dfb52d8",
   "metadata": {
    "execution": {
     "iopub.execute_input": "2023-06-18T08:29:46.981624Z",
     "iopub.status.busy": "2023-06-18T08:29:46.981222Z",
     "iopub.status.idle": "2023-06-18T08:31:10.176698Z",
     "shell.execute_reply": "2023-06-18T08:31:10.175714Z"
    },
    "papermill": {
     "duration": 84.191503,
     "end_time": "2023-06-18T08:31:10.179161",
     "exception": false,
     "start_time": "2023-06-18T08:29:45.987658",
     "status": "completed"
    },
    "tags": []
   },
   "outputs": [
    {
     "name": "stdout",
     "output_type": "stream",
     "text": [
      "Epoch 1/10\n",
      "1719/1719 [==============================] - 9s 5ms/step - loss: 1.0600 - accuracy: 0.6639 - val_loss: 0.6746 - val_accuracy: 0.7868\n",
      "Epoch 2/10\n",
      "1719/1719 [==============================] - 8s 5ms/step - loss: 0.6804 - accuracy: 0.7804 - val_loss: 0.5555 - val_accuracy: 0.8192\n",
      "Epoch 3/10\n",
      "1719/1719 [==============================] - 8s 5ms/step - loss: 0.5979 - accuracy: 0.8015 - val_loss: 0.4998 - val_accuracy: 0.8356\n",
      "Epoch 4/10\n",
      "1719/1719 [==============================] - 9s 5ms/step - loss: 0.5469 - accuracy: 0.8173 - val_loss: 0.4669 - val_accuracy: 0.8476\n",
      "Epoch 5/10\n",
      "1719/1719 [==============================] - 8s 5ms/step - loss: 0.5136 - accuracy: 0.8261 - val_loss: 0.4436 - val_accuracy: 0.8560\n",
      "Epoch 6/10\n",
      "1719/1719 [==============================] - 8s 4ms/step - loss: 0.4910 - accuracy: 0.8319 - val_loss: 0.4262 - val_accuracy: 0.8604\n",
      "Epoch 7/10\n",
      "1719/1719 [==============================] - 8s 5ms/step - loss: 0.4743 - accuracy: 0.8381 - val_loss: 0.4135 - val_accuracy: 0.8638\n",
      "Epoch 8/10\n",
      "1719/1719 [==============================] - 9s 5ms/step - loss: 0.4593 - accuracy: 0.8425 - val_loss: 0.4031 - val_accuracy: 0.8664\n",
      "Epoch 9/10\n",
      "1719/1719 [==============================] - 8s 5ms/step - loss: 0.4468 - accuracy: 0.8462 - val_loss: 0.3941 - val_accuracy: 0.8692\n",
      "Epoch 10/10\n",
      "1719/1719 [==============================] - 8s 5ms/step - loss: 0.4356 - accuracy: 0.8492 - val_loss: 0.3866 - val_accuracy: 0.8706\n"
     ]
    }
   ],
   "source": [
    "history = model.fit(X_train, y_train, epochs=10,\n",
    "                    validation_data=(X_valid, y_valid))"
   ]
  },
  {
   "cell_type": "markdown",
   "id": "4f1c9db5",
   "metadata": {
    "papermill": {
     "duration": 0.934549,
     "end_time": "2023-06-18T08:31:11.996044",
     "exception": false,
     "start_time": "2023-06-18T08:31:11.061495",
     "status": "completed"
    },
    "tags": []
   },
   "source": [
    "## Gradient Clipping"
   ]
  },
  {
   "cell_type": "markdown",
   "id": "3b8b49c8",
   "metadata": {
    "papermill": {
     "duration": 0.929918,
     "end_time": "2023-06-18T08:31:13.801667",
     "exception": false,
     "start_time": "2023-06-18T08:31:12.871749",
     "status": "completed"
    },
    "tags": []
   },
   "source": [
    "All Keras optimizers accept `clipnorm` or `clipvalue` arguments:"
   ]
  },
  {
   "cell_type": "code",
   "execution_count": 44,
   "id": "f788ce86",
   "metadata": {
    "execution": {
     "iopub.execute_input": "2023-06-18T08:31:15.620332Z",
     "iopub.status.busy": "2023-06-18T08:31:15.619967Z",
     "iopub.status.idle": "2023-06-18T08:31:15.627113Z",
     "shell.execute_reply": "2023-06-18T08:31:15.626103Z"
    },
    "papermill": {
     "duration": 0.941358,
     "end_time": "2023-06-18T08:31:15.629263",
     "exception": false,
     "start_time": "2023-06-18T08:31:14.687905",
     "status": "completed"
    },
    "tags": []
   },
   "outputs": [],
   "source": [
    "optimizer = keras.optimizers.SGD(clipvalue=1.0)"
   ]
  },
  {
   "cell_type": "code",
   "execution_count": 45,
   "id": "4355160d",
   "metadata": {
    "execution": {
     "iopub.execute_input": "2023-06-18T08:31:17.498753Z",
     "iopub.status.busy": "2023-06-18T08:31:17.498174Z",
     "iopub.status.idle": "2023-06-18T08:31:17.504998Z",
     "shell.execute_reply": "2023-06-18T08:31:17.504059Z"
    },
    "papermill": {
     "duration": 0.989812,
     "end_time": "2023-06-18T08:31:17.507125",
     "exception": false,
     "start_time": "2023-06-18T08:31:16.517313",
     "status": "completed"
    },
    "tags": []
   },
   "outputs": [],
   "source": [
    "optimizer = keras.optimizers.SGD(clipnorm=1.0)"
   ]
  },
  {
   "cell_type": "markdown",
   "id": "c183f4cf",
   "metadata": {
    "papermill": {
     "duration": 0.872956,
     "end_time": "2023-06-18T08:31:19.251775",
     "exception": false,
     "start_time": "2023-06-18T08:31:18.378819",
     "status": "completed"
    },
    "tags": []
   },
   "source": [
    "## Reusing Pretrained Layers"
   ]
  },
  {
   "cell_type": "markdown",
   "id": "cbc827e6",
   "metadata": {
    "papermill": {
     "duration": 1.091344,
     "end_time": "2023-06-18T08:31:21.510122",
     "exception": false,
     "start_time": "2023-06-18T08:31:20.418778",
     "status": "completed"
    },
    "tags": []
   },
   "source": [
    "### Reusing a Keras model"
   ]
  },
  {
   "cell_type": "markdown",
   "id": "f9c78e3e",
   "metadata": {
    "papermill": {
     "duration": 0.87498,
     "end_time": "2023-06-18T08:31:23.317767",
     "exception": false,
     "start_time": "2023-06-18T08:31:22.442787",
     "status": "completed"
    },
    "tags": []
   },
   "source": [
    "Let's split the fashion MNIST training set in two:\n",
    "* `X_train_A`: all images of all items except for sandals and shirts (classes 5 and 6).\n",
    "* `X_train_B`: a much smaller training set of just the first 200 images of sandals or shirts.\n",
    "\n",
    "The validation set and the test set are also split this way, but without restricting the number of images.\n",
    "\n",
    "We will train a model on set A (classification task with 8 classes), and try to reuse it to tackle set B (binary classification). We hope to transfer a little bit of knowledge from task A to task B, since classes in set A (sneakers, ankle boots, coats, t-shirts, etc.) are somewhat similar to classes in set B (sandals and shirts). However, since we are using `Dense` layers, only patterns that occur at the same location can be reused (in contrast, convolutional layers will transfer much better, since learned patterns can be detected anywhere on the image, as we will see in the CNN chapter)."
   ]
  },
  {
   "cell_type": "code",
   "execution_count": 46,
   "id": "8c418a8d",
   "metadata": {
    "execution": {
     "iopub.execute_input": "2023-06-18T08:31:25.130029Z",
     "iopub.status.busy": "2023-06-18T08:31:25.129672Z",
     "iopub.status.idle": "2023-06-18T08:31:25.271186Z",
     "shell.execute_reply": "2023-06-18T08:31:25.270226Z"
    },
    "papermill": {
     "duration": 1.022299,
     "end_time": "2023-06-18T08:31:25.273651",
     "exception": false,
     "start_time": "2023-06-18T08:31:24.251352",
     "status": "completed"
    },
    "tags": []
   },
   "outputs": [],
   "source": [
    "def split_dataset(X, y):\n",
    "    y_5_or_6 = (y == 5) | (y == 6) # sandals or shirts\n",
    "    y_A = y[~y_5_or_6]\n",
    "    y_A[y_A > 6] -= 2 # class indices 7, 8, 9 should be moved to 5, 6, 7\n",
    "    y_B = (y[y_5_or_6] == 6).astype(np.float32) # binary classification task: is it a shirt (class 6)?\n",
    "    return ((X[~y_5_or_6], y_A),\n",
    "            (X[y_5_or_6], y_B))\n",
    "\n",
    "(X_train_A, y_train_A), (X_train_B, y_train_B) = split_dataset(X_train, y_train)\n",
    "(X_valid_A, y_valid_A), (X_valid_B, y_valid_B) = split_dataset(X_valid, y_valid)\n",
    "(X_test_A, y_test_A), (X_test_B, y_test_B) = split_dataset(X_test, y_test)\n",
    "X_train_B = X_train_B[:200]\n",
    "y_train_B = y_train_B[:200]"
   ]
  },
  {
   "cell_type": "code",
   "execution_count": 47,
   "id": "f2e6999b",
   "metadata": {
    "execution": {
     "iopub.execute_input": "2023-06-18T08:31:27.166973Z",
     "iopub.status.busy": "2023-06-18T08:31:27.166496Z",
     "iopub.status.idle": "2023-06-18T08:31:27.172851Z",
     "shell.execute_reply": "2023-06-18T08:31:27.171984Z"
    },
    "papermill": {
     "duration": 1.016511,
     "end_time": "2023-06-18T08:31:27.174738",
     "exception": false,
     "start_time": "2023-06-18T08:31:26.158227",
     "status": "completed"
    },
    "tags": []
   },
   "outputs": [
    {
     "data": {
      "text/plain": [
       "(43986, 28, 28)"
      ]
     },
     "execution_count": 47,
     "metadata": {},
     "output_type": "execute_result"
    }
   ],
   "source": [
    "X_train_A.shape"
   ]
  },
  {
   "cell_type": "code",
   "execution_count": 48,
   "id": "6e6534bf",
   "metadata": {
    "execution": {
     "iopub.execute_input": "2023-06-18T08:31:28.977901Z",
     "iopub.status.busy": "2023-06-18T08:31:28.977532Z",
     "iopub.status.idle": "2023-06-18T08:31:28.983377Z",
     "shell.execute_reply": "2023-06-18T08:31:28.982504Z"
    },
    "papermill": {
     "duration": 0.936453,
     "end_time": "2023-06-18T08:31:28.985505",
     "exception": false,
     "start_time": "2023-06-18T08:31:28.049052",
     "status": "completed"
    },
    "tags": []
   },
   "outputs": [
    {
     "data": {
      "text/plain": [
       "(200, 28, 28)"
      ]
     },
     "execution_count": 48,
     "metadata": {},
     "output_type": "execute_result"
    }
   ],
   "source": [
    "X_train_B.shape"
   ]
  },
  {
   "cell_type": "code",
   "execution_count": 49,
   "id": "d82aa404",
   "metadata": {
    "execution": {
     "iopub.execute_input": "2023-06-18T08:31:30.816713Z",
     "iopub.status.busy": "2023-06-18T08:31:30.816342Z",
     "iopub.status.idle": "2023-06-18T08:31:30.822508Z",
     "shell.execute_reply": "2023-06-18T08:31:30.821679Z"
    },
    "papermill": {
     "duration": 0.961526,
     "end_time": "2023-06-18T08:31:30.824462",
     "exception": false,
     "start_time": "2023-06-18T08:31:29.862936",
     "status": "completed"
    },
    "tags": []
   },
   "outputs": [
    {
     "data": {
      "text/plain": [
       "array([4, 0, 5, 7, 7, 7, 4, 4, 3, 4, 0, 1, 6, 3, 4, 3, 2, 6, 5, 3, 4, 5,\n",
       "       1, 3, 4, 2, 0, 6, 7, 1], dtype=uint8)"
      ]
     },
     "execution_count": 49,
     "metadata": {},
     "output_type": "execute_result"
    }
   ],
   "source": [
    "y_train_A[:30]"
   ]
  },
  {
   "cell_type": "code",
   "execution_count": 50,
   "id": "74f03185",
   "metadata": {
    "execution": {
     "iopub.execute_input": "2023-06-18T08:31:32.650609Z",
     "iopub.status.busy": "2023-06-18T08:31:32.650209Z",
     "iopub.status.idle": "2023-06-18T08:31:32.658142Z",
     "shell.execute_reply": "2023-06-18T08:31:32.657062Z"
    },
    "papermill": {
     "duration": 0.887061,
     "end_time": "2023-06-18T08:31:32.660456",
     "exception": false,
     "start_time": "2023-06-18T08:31:31.773395",
     "status": "completed"
    },
    "tags": []
   },
   "outputs": [
    {
     "data": {
      "text/plain": [
       "array([1., 1., 0., 0., 0., 0., 1., 1., 1., 0., 0., 1., 1., 0., 0., 0., 0.,\n",
       "       0., 0., 1., 1., 0., 0., 1., 1., 0., 1., 1., 1., 1.], dtype=float32)"
      ]
     },
     "execution_count": 50,
     "metadata": {},
     "output_type": "execute_result"
    }
   ],
   "source": [
    "y_train_B[:30]"
   ]
  },
  {
   "cell_type": "code",
   "execution_count": 51,
   "id": "a7072052",
   "metadata": {
    "execution": {
     "iopub.execute_input": "2023-06-18T08:31:34.480226Z",
     "iopub.status.busy": "2023-06-18T08:31:34.479868Z",
     "iopub.status.idle": "2023-06-18T08:31:34.517975Z",
     "shell.execute_reply": "2023-06-18T08:31:34.516943Z"
    },
    "papermill": {
     "duration": 0.977041,
     "end_time": "2023-06-18T08:31:34.520374",
     "exception": false,
     "start_time": "2023-06-18T08:31:33.543333",
     "status": "completed"
    },
    "tags": []
   },
   "outputs": [],
   "source": [
    "tf.random.set_seed(42)\n",
    "np.random.seed(42)"
   ]
  },
  {
   "cell_type": "code",
   "execution_count": 52,
   "id": "4819d563",
   "metadata": {
    "execution": {
     "iopub.execute_input": "2023-06-18T08:31:36.331195Z",
     "iopub.status.busy": "2023-06-18T08:31:36.330205Z",
     "iopub.status.idle": "2023-06-18T08:31:36.432140Z",
     "shell.execute_reply": "2023-06-18T08:31:36.431173Z"
    },
    "papermill": {
     "duration": 1.040818,
     "end_time": "2023-06-18T08:31:36.434357",
     "exception": false,
     "start_time": "2023-06-18T08:31:35.393539",
     "status": "completed"
    },
    "tags": []
   },
   "outputs": [],
   "source": [
    "model_A = keras.models.Sequential()\n",
    "model_A.add(keras.layers.Flatten(input_shape=[28, 28]))\n",
    "for n_hidden in (300, 100, 50, 50, 50):\n",
    "    model_A.add(keras.layers.Dense(n_hidden, activation=\"selu\"))\n",
    "model_A.add(keras.layers.Dense(8, activation=\"softmax\"))"
   ]
  },
  {
   "cell_type": "code",
   "execution_count": 53,
   "id": "9027bb4c",
   "metadata": {
    "execution": {
     "iopub.execute_input": "2023-06-18T08:31:38.336936Z",
     "iopub.status.busy": "2023-06-18T08:31:38.336288Z",
     "iopub.status.idle": "2023-06-18T08:31:38.350475Z",
     "shell.execute_reply": "2023-06-18T08:31:38.349648Z"
    },
    "papermill": {
     "duration": 0.987145,
     "end_time": "2023-06-18T08:31:38.352476",
     "exception": false,
     "start_time": "2023-06-18T08:31:37.365331",
     "status": "completed"
    },
    "tags": []
   },
   "outputs": [],
   "source": [
    "model_A.compile(loss=\"sparse_categorical_crossentropy\",\n",
    "                optimizer=keras.optimizers.SGD(learning_rate=1e-3),\n",
    "                metrics=[\"accuracy\"])"
   ]
  },
  {
   "cell_type": "code",
   "execution_count": 54,
   "id": "e735b2cd",
   "metadata": {
    "execution": {
     "iopub.execute_input": "2023-06-18T08:31:40.178540Z",
     "iopub.status.busy": "2023-06-18T08:31:40.178154Z",
     "iopub.status.idle": "2023-06-18T08:34:03.029971Z",
     "shell.execute_reply": "2023-06-18T08:34:03.028912Z"
    },
    "papermill": {
     "duration": 143.731965,
     "end_time": "2023-06-18T08:34:03.032478",
     "exception": false,
     "start_time": "2023-06-18T08:31:39.300513",
     "status": "completed"
    },
    "tags": []
   },
   "outputs": [
    {
     "name": "stdout",
     "output_type": "stream",
     "text": [
      "Epoch 1/20\n",
      "1375/1375 [==============================] - 6s 4ms/step - loss: 0.5814 - accuracy: 0.8126 - val_loss: 0.3885 - val_accuracy: 0.8607\n",
      "Epoch 2/20\n",
      "1375/1375 [==============================] - 5s 4ms/step - loss: 0.3557 - accuracy: 0.8784 - val_loss: 0.3259 - val_accuracy: 0.8861\n",
      "Epoch 3/20\n",
      "1375/1375 [==============================] - 5s 4ms/step - loss: 0.3179 - accuracy: 0.8902 - val_loss: 0.2994 - val_accuracy: 0.8991\n",
      "Epoch 4/20\n",
      "1375/1375 [==============================] - 5s 4ms/step - loss: 0.2984 - accuracy: 0.8965 - val_loss: 0.2867 - val_accuracy: 0.9026\n",
      "Epoch 5/20\n",
      "1375/1375 [==============================] - 5s 3ms/step - loss: 0.2852 - accuracy: 0.9020 - val_loss: 0.2754 - val_accuracy: 0.9088\n",
      "Epoch 6/20\n",
      "1375/1375 [==============================] - 5s 4ms/step - loss: 0.2756 - accuracy: 0.9062 - val_loss: 0.2712 - val_accuracy: 0.9071\n",
      "Epoch 7/20\n",
      "1375/1375 [==============================] - 5s 3ms/step - loss: 0.2672 - accuracy: 0.9094 - val_loss: 0.2687 - val_accuracy: 0.9081\n",
      "Epoch 8/20\n",
      "1375/1375 [==============================] - 5s 4ms/step - loss: 0.2607 - accuracy: 0.9120 - val_loss: 0.2615 - val_accuracy: 0.9116\n",
      "Epoch 9/20\n",
      "1375/1375 [==============================] - 5s 4ms/step - loss: 0.2554 - accuracy: 0.9138 - val_loss: 0.2560 - val_accuracy: 0.9116\n",
      "Epoch 10/20\n",
      "1375/1375 [==============================] - 5s 4ms/step - loss: 0.2504 - accuracy: 0.9142 - val_loss: 0.2531 - val_accuracy: 0.9163\n",
      "Epoch 11/20\n",
      "1375/1375 [==============================] - 5s 4ms/step - loss: 0.2461 - accuracy: 0.9166 - val_loss: 0.2515 - val_accuracy: 0.9138\n",
      "Epoch 12/20\n",
      "1375/1375 [==============================] - 5s 4ms/step - loss: 0.2421 - accuracy: 0.9177 - val_loss: 0.2500 - val_accuracy: 0.9141\n",
      "Epoch 13/20\n",
      "1375/1375 [==============================] - 5s 4ms/step - loss: 0.2390 - accuracy: 0.9185 - val_loss: 0.2437 - val_accuracy: 0.9178\n",
      "Epoch 14/20\n",
      "1375/1375 [==============================] - 5s 3ms/step - loss: 0.2354 - accuracy: 0.9201 - val_loss: 0.2407 - val_accuracy: 0.9190\n",
      "Epoch 15/20\n",
      "1375/1375 [==============================] - 5s 4ms/step - loss: 0.2326 - accuracy: 0.9213 - val_loss: 0.2468 - val_accuracy: 0.9128\n",
      "Epoch 16/20\n",
      "1375/1375 [==============================] - 5s 4ms/step - loss: 0.2296 - accuracy: 0.9225 - val_loss: 0.2392 - val_accuracy: 0.9193\n",
      "Epoch 17/20\n",
      "1375/1375 [==============================] - 5s 4ms/step - loss: 0.2272 - accuracy: 0.9230 - val_loss: 0.2420 - val_accuracy: 0.9158\n",
      "Epoch 18/20\n",
      "1375/1375 [==============================] - 5s 4ms/step - loss: 0.2243 - accuracy: 0.9240 - val_loss: 0.2476 - val_accuracy: 0.9103\n",
      "Epoch 19/20\n",
      "1375/1375 [==============================] - 5s 4ms/step - loss: 0.2221 - accuracy: 0.9243 - val_loss: 0.2344 - val_accuracy: 0.9183\n",
      "Epoch 20/20\n",
      "1375/1375 [==============================] - 5s 4ms/step - loss: 0.2199 - accuracy: 0.9253 - val_loss: 0.2342 - val_accuracy: 0.9178\n"
     ]
    }
   ],
   "source": [
    "history = model_A.fit(X_train_A, y_train_A, epochs=20,\n",
    "                    validation_data=(X_valid_A, y_valid_A))"
   ]
  },
  {
   "cell_type": "code",
   "execution_count": 55,
   "id": "abc94260",
   "metadata": {
    "execution": {
     "iopub.execute_input": "2023-06-18T08:34:05.135274Z",
     "iopub.status.busy": "2023-06-18T08:34:05.134910Z",
     "iopub.status.idle": "2023-06-18T08:34:05.181246Z",
     "shell.execute_reply": "2023-06-18T08:34:05.180350Z"
    },
    "papermill": {
     "duration": 1.125913,
     "end_time": "2023-06-18T08:34:05.183383",
     "exception": false,
     "start_time": "2023-06-18T08:34:04.057470",
     "status": "completed"
    },
    "tags": []
   },
   "outputs": [],
   "source": [
    "model_A.save(\"my_model_A.h5\")"
   ]
  },
  {
   "cell_type": "code",
   "execution_count": 56,
   "id": "b560486d",
   "metadata": {
    "execution": {
     "iopub.execute_input": "2023-06-18T08:34:07.328418Z",
     "iopub.status.busy": "2023-06-18T08:34:07.328046Z",
     "iopub.status.idle": "2023-06-18T08:34:07.404618Z",
     "shell.execute_reply": "2023-06-18T08:34:07.403708Z"
    },
    "papermill": {
     "duration": 1.203443,
     "end_time": "2023-06-18T08:34:07.406765",
     "exception": false,
     "start_time": "2023-06-18T08:34:06.203322",
     "status": "completed"
    },
    "tags": []
   },
   "outputs": [],
   "source": [
    "model_B = keras.models.Sequential()\n",
    "model_B.add(keras.layers.Flatten(input_shape=[28, 28]))\n",
    "for n_hidden in (300, 100, 50, 50, 50):\n",
    "    model_B.add(keras.layers.Dense(n_hidden, activation=\"selu\"))\n",
    "model_B.add(keras.layers.Dense(1, activation=\"sigmoid\"))"
   ]
  },
  {
   "cell_type": "code",
   "execution_count": 57,
   "id": "499a4997",
   "metadata": {
    "execution": {
     "iopub.execute_input": "2023-06-18T08:34:09.511709Z",
     "iopub.status.busy": "2023-06-18T08:34:09.511282Z",
     "iopub.status.idle": "2023-06-18T08:34:09.523648Z",
     "shell.execute_reply": "2023-06-18T08:34:09.522796Z"
    },
    "papermill": {
     "duration": 1.107195,
     "end_time": "2023-06-18T08:34:09.525690",
     "exception": false,
     "start_time": "2023-06-18T08:34:08.418495",
     "status": "completed"
    },
    "tags": []
   },
   "outputs": [],
   "source": [
    "model_B.compile(loss=\"binary_crossentropy\",\n",
    "                optimizer=keras.optimizers.SGD(learning_rate=1e-3),\n",
    "                metrics=[\"accuracy\"])"
   ]
  },
  {
   "cell_type": "code",
   "execution_count": 58,
   "id": "841b5dbb",
   "metadata": {
    "execution": {
     "iopub.execute_input": "2023-06-18T08:34:11.555709Z",
     "iopub.status.busy": "2023-06-18T08:34:11.555333Z",
     "iopub.status.idle": "2023-06-18T08:34:15.467493Z",
     "shell.execute_reply": "2023-06-18T08:34:15.466569Z"
    },
    "papermill": {
     "duration": 4.92735,
     "end_time": "2023-06-18T08:34:15.469705",
     "exception": false,
     "start_time": "2023-06-18T08:34:10.542355",
     "status": "completed"
    },
    "tags": []
   },
   "outputs": [
    {
     "name": "stdout",
     "output_type": "stream",
     "text": [
      "Epoch 1/20\n",
      "7/7 [==============================] - 1s 58ms/step - loss: 0.5269 - accuracy: 0.7750 - val_loss: 0.4642 - val_accuracy: 0.7850\n",
      "Epoch 2/20\n",
      "7/7 [==============================] - 0s 31ms/step - loss: 0.4129 - accuracy: 0.8300 - val_loss: 0.3766 - val_accuracy: 0.8469\n",
      "Epoch 3/20\n",
      "7/7 [==============================] - 0s 19ms/step - loss: 0.3320 - accuracy: 0.8900 - val_loss: 0.3154 - val_accuracy: 0.8996\n",
      "Epoch 4/20\n",
      "7/7 [==============================] - 0s 19ms/step - loss: 0.2768 - accuracy: 0.9350 - val_loss: 0.2713 - val_accuracy: 0.9412\n",
      "Epoch 5/20\n",
      "7/7 [==============================] - 0s 18ms/step - loss: 0.2362 - accuracy: 0.9500 - val_loss: 0.2379 - val_accuracy: 0.9594\n",
      "Epoch 6/20\n",
      "7/7 [==============================] - 0s 17ms/step - loss: 0.2052 - accuracy: 0.9600 - val_loss: 0.2103 - val_accuracy: 0.9696\n",
      "Epoch 7/20\n",
      "7/7 [==============================] - 0s 17ms/step - loss: 0.1801 - accuracy: 0.9800 - val_loss: 0.1912 - val_accuracy: 0.9716\n",
      "Epoch 8/20\n",
      "7/7 [==============================] - 0s 17ms/step - loss: 0.1626 - accuracy: 0.9850 - val_loss: 0.1748 - val_accuracy: 0.9767\n",
      "Epoch 9/20\n",
      "7/7 [==============================] - 0s 17ms/step - loss: 0.1473 - accuracy: 0.9800 - val_loss: 0.1612 - val_accuracy: 0.9817\n",
      "Epoch 10/20\n",
      "7/7 [==============================] - 0s 17ms/step - loss: 0.1348 - accuracy: 0.9800 - val_loss: 0.1500 - val_accuracy: 0.9817\n",
      "Epoch 11/20\n",
      "7/7 [==============================] - 0s 17ms/step - loss: 0.1242 - accuracy: 0.9800 - val_loss: 0.1400 - val_accuracy: 0.9828\n",
      "Epoch 12/20\n",
      "7/7 [==============================] - 0s 18ms/step - loss: 0.1149 - accuracy: 0.9800 - val_loss: 0.1316 - val_accuracy: 0.9828\n",
      "Epoch 13/20\n",
      "7/7 [==============================] - 0s 18ms/step - loss: 0.1067 - accuracy: 0.9800 - val_loss: 0.1245 - val_accuracy: 0.9848\n",
      "Epoch 14/20\n",
      "7/7 [==============================] - 0s 31ms/step - loss: 0.1000 - accuracy: 0.9850 - val_loss: 0.1181 - val_accuracy: 0.9858\n",
      "Epoch 15/20\n",
      "7/7 [==============================] - 0s 17ms/step - loss: 0.0940 - accuracy: 0.9850 - val_loss: 0.1125 - val_accuracy: 0.9858\n",
      "Epoch 16/20\n",
      "7/7 [==============================] - 0s 17ms/step - loss: 0.0886 - accuracy: 0.9850 - val_loss: 0.1078 - val_accuracy: 0.9858\n",
      "Epoch 17/20\n",
      "7/7 [==============================] - 0s 17ms/step - loss: 0.0840 - accuracy: 0.9900 - val_loss: 0.1034 - val_accuracy: 0.9868\n",
      "Epoch 18/20\n",
      "7/7 [==============================] - 0s 18ms/step - loss: 0.0798 - accuracy: 0.9950 - val_loss: 0.0996 - val_accuracy: 0.9868\n",
      "Epoch 19/20\n",
      "7/7 [==============================] - 0s 17ms/step - loss: 0.0761 - accuracy: 0.9950 - val_loss: 0.0961 - val_accuracy: 0.9868\n",
      "Epoch 20/20\n",
      "7/7 [==============================] - 0s 31ms/step - loss: 0.0726 - accuracy: 0.9950 - val_loss: 0.0927 - val_accuracy: 0.9868\n"
     ]
    }
   ],
   "source": [
    "history = model_B.fit(X_train_B, y_train_B, epochs=20,\n",
    "                      validation_data=(X_valid_B, y_valid_B))"
   ]
  },
  {
   "cell_type": "code",
   "execution_count": 59,
   "id": "da3fb131",
   "metadata": {
    "execution": {
     "iopub.execute_input": "2023-06-18T08:34:17.659327Z",
     "iopub.status.busy": "2023-06-18T08:34:17.658959Z",
     "iopub.status.idle": "2023-06-18T08:34:17.687470Z",
     "shell.execute_reply": "2023-06-18T08:34:17.686704Z"
    },
    "papermill": {
     "duration": 1.161453,
     "end_time": "2023-06-18T08:34:17.698488",
     "exception": false,
     "start_time": "2023-06-18T08:34:16.537035",
     "status": "completed"
    },
    "tags": []
   },
   "outputs": [
    {
     "name": "stdout",
     "output_type": "stream",
     "text": [
      "Model: \"sequential_7\"\n",
      "_________________________________________________________________\n",
      " Layer (type)                Output Shape              Param #   \n",
      "=================================================================\n",
      " flatten_7 (Flatten)         (None, 784)               0         \n",
      "                                                                 \n",
      " dense_224 (Dense)           (None, 300)               235500    \n",
      "                                                                 \n",
      " dense_225 (Dense)           (None, 100)               30100     \n",
      "                                                                 \n",
      " dense_226 (Dense)           (None, 50)                5050      \n",
      "                                                                 \n",
      " dense_227 (Dense)           (None, 50)                2550      \n",
      "                                                                 \n",
      " dense_228 (Dense)           (None, 50)                2550      \n",
      "                                                                 \n",
      " dense_229 (Dense)           (None, 1)                 51        \n",
      "                                                                 \n",
      "=================================================================\n",
      "Total params: 275,801\n",
      "Trainable params: 275,801\n",
      "Non-trainable params: 0\n",
      "_________________________________________________________________\n"
     ]
    }
   ],
   "source": [
    "model_B.summary()"
   ]
  },
  {
   "cell_type": "code",
   "execution_count": 60,
   "id": "da18addd",
   "metadata": {
    "execution": {
     "iopub.execute_input": "2023-06-18T08:34:19.735998Z",
     "iopub.status.busy": "2023-06-18T08:34:19.735643Z",
     "iopub.status.idle": "2023-06-18T08:34:19.904916Z",
     "shell.execute_reply": "2023-06-18T08:34:19.903975Z"
    },
    "papermill": {
     "duration": 1.183796,
     "end_time": "2023-06-18T08:34:19.907350",
     "exception": false,
     "start_time": "2023-06-18T08:34:18.723554",
     "status": "completed"
    },
    "tags": []
   },
   "outputs": [],
   "source": [
    "model_A = keras.models.load_model(\"my_model_A.h5\")\n",
    "model_B_on_A = keras.models.Sequential(model_A.layers[:-1])\n",
    "model_B_on_A.add(keras.layers.Dense(1, activation=\"sigmoid\"))"
   ]
  },
  {
   "cell_type": "markdown",
   "id": "34824c6f",
   "metadata": {
    "papermill": {
     "duration": 1.076769,
     "end_time": "2023-06-18T08:34:22.053668",
     "exception": false,
     "start_time": "2023-06-18T08:34:20.976899",
     "status": "completed"
    },
    "tags": []
   },
   "source": [
    "Note that `model_B_on_A` and `model_A` actually share layers now, so when we train one, it will update both models. If we want to avoid that, we need to build `model_B_on_A` on top of a *clone* of `model_A`:"
   ]
  },
  {
   "cell_type": "code",
   "execution_count": 61,
   "id": "58d0273f",
   "metadata": {
    "execution": {
     "iopub.execute_input": "2023-06-18T08:34:24.152511Z",
     "iopub.status.busy": "2023-06-18T08:34:24.152149Z",
     "iopub.status.idle": "2023-06-18T08:34:24.273630Z",
     "shell.execute_reply": "2023-06-18T08:34:24.272665Z"
    },
    "papermill": {
     "duration": 1.207495,
     "end_time": "2023-06-18T08:34:24.275845",
     "exception": false,
     "start_time": "2023-06-18T08:34:23.068350",
     "status": "completed"
    },
    "tags": []
   },
   "outputs": [],
   "source": [
    "model_A_clone = keras.models.clone_model(model_A)\n",
    "model_A_clone.set_weights(model_A.get_weights())\n",
    "model_B_on_A = keras.models.Sequential(model_A_clone.layers[:-1])\n",
    "model_B_on_A.add(keras.layers.Dense(1, activation=\"sigmoid\"))"
   ]
  },
  {
   "cell_type": "code",
   "execution_count": 62,
   "id": "aaa21f79",
   "metadata": {
    "execution": {
     "iopub.execute_input": "2023-06-18T08:34:26.347963Z",
     "iopub.status.busy": "2023-06-18T08:34:26.347604Z",
     "iopub.status.idle": "2023-06-18T08:34:26.360371Z",
     "shell.execute_reply": "2023-06-18T08:34:26.359480Z"
    },
    "papermill": {
     "duration": 1.045328,
     "end_time": "2023-06-18T08:34:26.362716",
     "exception": false,
     "start_time": "2023-06-18T08:34:25.317388",
     "status": "completed"
    },
    "tags": []
   },
   "outputs": [],
   "source": [
    "for layer in model_B_on_A.layers[:-1]:\n",
    "    layer.trainable = False\n",
    "\n",
    "model_B_on_A.compile(loss=\"binary_crossentropy\",\n",
    "                     optimizer=keras.optimizers.SGD(learning_rate=1e-3),\n",
    "                     metrics=[\"accuracy\"])"
   ]
  },
  {
   "cell_type": "code",
   "execution_count": 63,
   "id": "1015341a",
   "metadata": {
    "execution": {
     "iopub.execute_input": "2023-06-18T08:34:29.023320Z",
     "iopub.status.busy": "2023-06-18T08:34:29.022964Z",
     "iopub.status.idle": "2023-06-18T08:34:34.346679Z",
     "shell.execute_reply": "2023-06-18T08:34:34.345757Z"
    },
    "papermill": {
     "duration": 6.832841,
     "end_time": "2023-06-18T08:34:34.348796",
     "exception": false,
     "start_time": "2023-06-18T08:34:27.515955",
     "status": "completed"
    },
    "tags": []
   },
   "outputs": [
    {
     "name": "stdout",
     "output_type": "stream",
     "text": [
      "Epoch 1/4\n",
      "7/7 [==============================] - 1s 42ms/step - loss: 0.5753 - accuracy: 0.7000 - val_loss: 0.6047 - val_accuracy: 0.6460\n",
      "Epoch 2/4\n",
      "7/7 [==============================] - 0s 16ms/step - loss: 0.5275 - accuracy: 0.7500 - val_loss: 0.5652 - val_accuracy: 0.6775\n",
      "Epoch 3/4\n",
      "7/7 [==============================] - 0s 16ms/step - loss: 0.4898 - accuracy: 0.7600 - val_loss: 0.5298 - val_accuracy: 0.7150\n",
      "Epoch 4/4\n",
      "7/7 [==============================] - 0s 16ms/step - loss: 0.4562 - accuracy: 0.7900 - val_loss: 0.4970 - val_accuracy: 0.7434\n",
      "Epoch 1/16\n",
      "7/7 [==============================] - 1s 42ms/step - loss: 0.3556 - accuracy: 0.8900 - val_loss: 0.3060 - val_accuracy: 0.9331\n",
      "Epoch 2/16\n",
      "7/7 [==============================] - 0s 31ms/step - loss: 0.2302 - accuracy: 0.9700 - val_loss: 0.2371 - val_accuracy: 0.9533\n",
      "Epoch 3/16\n",
      "7/7 [==============================] - 0s 18ms/step - loss: 0.1761 - accuracy: 0.9800 - val_loss: 0.1949 - val_accuracy: 0.9655\n",
      "Epoch 4/16\n",
      "7/7 [==============================] - 0s 17ms/step - loss: 0.1420 - accuracy: 1.0000 - val_loss: 0.1660 - val_accuracy: 0.9696\n",
      "Epoch 5/16\n",
      "7/7 [==============================] - 0s 18ms/step - loss: 0.1188 - accuracy: 1.0000 - val_loss: 0.1452 - val_accuracy: 0.9746\n",
      "Epoch 6/16\n",
      "7/7 [==============================] - 0s 17ms/step - loss: 0.1015 - accuracy: 1.0000 - val_loss: 0.1295 - val_accuracy: 0.9787\n",
      "Epoch 7/16\n",
      "7/7 [==============================] - 0s 17ms/step - loss: 0.0886 - accuracy: 1.0000 - val_loss: 0.1174 - val_accuracy: 0.9838\n",
      "Epoch 8/16\n",
      "7/7 [==============================] - 0s 32ms/step - loss: 0.0789 - accuracy: 1.0000 - val_loss: 0.1076 - val_accuracy: 0.9858\n",
      "Epoch 9/16\n",
      "7/7 [==============================] - 0s 32ms/step - loss: 0.0709 - accuracy: 1.0000 - val_loss: 0.0999 - val_accuracy: 0.9909\n",
      "Epoch 10/16\n",
      "7/7 [==============================] - 0s 32ms/step - loss: 0.0647 - accuracy: 1.0000 - val_loss: 0.0932 - val_accuracy: 0.9909\n",
      "Epoch 11/16\n",
      "7/7 [==============================] - 0s 31ms/step - loss: 0.0593 - accuracy: 1.0000 - val_loss: 0.0874 - val_accuracy: 0.9929\n",
      "Epoch 12/16\n",
      "7/7 [==============================] - 0s 17ms/step - loss: 0.0546 - accuracy: 1.0000 - val_loss: 0.0824 - val_accuracy: 0.9929\n",
      "Epoch 13/16\n",
      "7/7 [==============================] - 0s 17ms/step - loss: 0.0506 - accuracy: 1.0000 - val_loss: 0.0782 - val_accuracy: 0.9939\n",
      "Epoch 14/16\n",
      "7/7 [==============================] - 0s 31ms/step - loss: 0.0472 - accuracy: 1.0000 - val_loss: 0.0745 - val_accuracy: 0.9939\n",
      "Epoch 15/16\n",
      "7/7 [==============================] - 0s 17ms/step - loss: 0.0444 - accuracy: 1.0000 - val_loss: 0.0713 - val_accuracy: 0.9939\n",
      "Epoch 16/16\n",
      "7/7 [==============================] - 0s 31ms/step - loss: 0.0419 - accuracy: 1.0000 - val_loss: 0.0685 - val_accuracy: 0.9939\n"
     ]
    }
   ],
   "source": [
    "history = model_B_on_A.fit(X_train_B, y_train_B, epochs=4,\n",
    "                           validation_data=(X_valid_B, y_valid_B))\n",
    "\n",
    "for layer in model_B_on_A.layers[:-1]:\n",
    "    layer.trainable = True\n",
    "\n",
    "model_B_on_A.compile(loss=\"binary_crossentropy\",\n",
    "                     optimizer=keras.optimizers.SGD(learning_rate=1e-3),\n",
    "                     metrics=[\"accuracy\"])\n",
    "history = model_B_on_A.fit(X_train_B, y_train_B, epochs=16,\n",
    "                           validation_data=(X_valid_B, y_valid_B))"
   ]
  },
  {
   "cell_type": "markdown",
   "id": "fd1f1371",
   "metadata": {
    "papermill": {
     "duration": 1.099035,
     "end_time": "2023-06-18T08:34:36.490237",
     "exception": false,
     "start_time": "2023-06-18T08:34:35.391202",
     "status": "completed"
    },
    "tags": []
   },
   "source": [
    "So, what's the final verdict?"
   ]
  },
  {
   "cell_type": "code",
   "execution_count": 64,
   "id": "5d56eea3",
   "metadata": {
    "execution": {
     "iopub.execute_input": "2023-06-18T08:34:38.633688Z",
     "iopub.status.busy": "2023-06-18T08:34:38.633267Z",
     "iopub.status.idle": "2023-06-18T08:34:39.003434Z",
     "shell.execute_reply": "2023-06-18T08:34:39.002405Z"
    },
    "papermill": {
     "duration": 1.452963,
     "end_time": "2023-06-18T08:34:39.005673",
     "exception": false,
     "start_time": "2023-06-18T08:34:37.552710",
     "status": "completed"
    },
    "tags": []
   },
   "outputs": [
    {
     "name": "stdout",
     "output_type": "stream",
     "text": [
      "63/63 [==============================] - 0s 2ms/step - loss: 0.0921 - accuracy: 0.9870\n"
     ]
    },
    {
     "data": {
      "text/plain": [
       "[0.09206430613994598, 0.9869999885559082]"
      ]
     },
     "execution_count": 64,
     "metadata": {},
     "output_type": "execute_result"
    }
   ],
   "source": [
    "model_B.evaluate(X_test_B, y_test_B)"
   ]
  },
  {
   "cell_type": "code",
   "execution_count": 65,
   "id": "7be3411a",
   "metadata": {
    "execution": {
     "iopub.execute_input": "2023-06-18T08:34:41.130496Z",
     "iopub.status.busy": "2023-06-18T08:34:41.130111Z",
     "iopub.status.idle": "2023-06-18T08:34:41.344908Z",
     "shell.execute_reply": "2023-06-18T08:34:41.343949Z"
    },
    "papermill": {
     "duration": 1.324458,
     "end_time": "2023-06-18T08:34:41.347046",
     "exception": false,
     "start_time": "2023-06-18T08:34:40.022588",
     "status": "completed"
    },
    "tags": []
   },
   "outputs": [
    {
     "name": "stdout",
     "output_type": "stream",
     "text": [
      "63/63 [==============================] - 0s 2ms/step - loss: 0.0694 - accuracy: 0.9905\n"
     ]
    },
    {
     "data": {
      "text/plain": [
       "[0.06943999975919724, 0.9904999732971191]"
      ]
     },
     "execution_count": 65,
     "metadata": {},
     "output_type": "execute_result"
    }
   ],
   "source": [
    "model_B_on_A.evaluate(X_test_B, y_test_B)"
   ]
  },
  {
   "cell_type": "markdown",
   "id": "8c9c31b1",
   "metadata": {
    "papermill": {
     "duration": 1.115674,
     "end_time": "2023-06-18T08:34:43.504769",
     "exception": false,
     "start_time": "2023-06-18T08:34:42.389095",
     "status": "completed"
    },
    "tags": []
   },
   "source": [
    "Great! We got quite a bit of transfer: the error rate dropped by a factor of 4.9!"
   ]
  },
  {
   "cell_type": "code",
   "execution_count": 66,
   "id": "8272b481",
   "metadata": {
    "execution": {
     "iopub.execute_input": "2023-06-18T08:34:45.600289Z",
     "iopub.status.busy": "2023-06-18T08:34:45.599924Z",
     "iopub.status.idle": "2023-06-18T08:34:45.606301Z",
     "shell.execute_reply": "2023-06-18T08:34:45.605303Z"
    },
    "papermill": {
     "duration": 1.087243,
     "end_time": "2023-06-18T08:34:45.610065",
     "exception": false,
     "start_time": "2023-06-18T08:34:44.522822",
     "status": "completed"
    },
    "tags": []
   },
   "outputs": [
    {
     "data": {
      "text/plain": [
       "4.916666666666718"
      ]
     },
     "execution_count": 66,
     "metadata": {},
     "output_type": "execute_result"
    }
   ],
   "source": [
    "(100 - 97.05) / (100 - 99.40)"
   ]
  },
  {
   "cell_type": "markdown",
   "id": "934d5058",
   "metadata": {
    "papermill": {
     "duration": 1.13979,
     "end_time": "2023-06-18T08:34:47.772499",
     "exception": false,
     "start_time": "2023-06-18T08:34:46.632709",
     "status": "completed"
    },
    "tags": []
   },
   "source": [
    "# Faster Optimizers"
   ]
  },
  {
   "cell_type": "markdown",
   "id": "ec87365a",
   "metadata": {
    "papermill": {
     "duration": 1.092418,
     "end_time": "2023-06-18T08:34:49.881473",
     "exception": false,
     "start_time": "2023-06-18T08:34:48.789055",
     "status": "completed"
    },
    "tags": []
   },
   "source": [
    "## Momentum optimization"
   ]
  },
  {
   "cell_type": "code",
   "execution_count": 67,
   "id": "6df4f7f4",
   "metadata": {
    "execution": {
     "iopub.execute_input": "2023-06-18T08:34:51.982075Z",
     "iopub.status.busy": "2023-06-18T08:34:51.981383Z",
     "iopub.status.idle": "2023-06-18T08:34:51.989257Z",
     "shell.execute_reply": "2023-06-18T08:34:51.988396Z"
    },
    "papermill": {
     "duration": 1.093417,
     "end_time": "2023-06-18T08:34:51.991259",
     "exception": false,
     "start_time": "2023-06-18T08:34:50.897842",
     "status": "completed"
    },
    "tags": []
   },
   "outputs": [],
   "source": [
    "optimizer = keras.optimizers.SGD(learning_rate=0.001, momentum=0.9)"
   ]
  },
  {
   "cell_type": "markdown",
   "id": "c2646745",
   "metadata": {
    "papermill": {
     "duration": 1.086783,
     "end_time": "2023-06-18T08:34:54.094538",
     "exception": false,
     "start_time": "2023-06-18T08:34:53.007755",
     "status": "completed"
    },
    "tags": []
   },
   "source": [
    "## Nesterov Accelerated Gradient"
   ]
  },
  {
   "cell_type": "code",
   "execution_count": 68,
   "id": "4ffed107",
   "metadata": {
    "execution": {
     "iopub.execute_input": "2023-06-18T08:34:56.211456Z",
     "iopub.status.busy": "2023-06-18T08:34:56.211099Z",
     "iopub.status.idle": "2023-06-18T08:34:56.217797Z",
     "shell.execute_reply": "2023-06-18T08:34:56.216949Z"
    },
    "papermill": {
     "duration": 1.098715,
     "end_time": "2023-06-18T08:34:56.219872",
     "exception": false,
     "start_time": "2023-06-18T08:34:55.121157",
     "status": "completed"
    },
    "tags": []
   },
   "outputs": [],
   "source": [
    "optimizer = keras.optimizers.SGD(learning_rate=0.001, momentum=0.9, nesterov=True)"
   ]
  },
  {
   "cell_type": "markdown",
   "id": "89699740",
   "metadata": {
    "papermill": {
     "duration": 1.089406,
     "end_time": "2023-06-18T08:34:58.386043",
     "exception": false,
     "start_time": "2023-06-18T08:34:57.296637",
     "status": "completed"
    },
    "tags": []
   },
   "source": [
    "## AdaGrad"
   ]
  },
  {
   "cell_type": "code",
   "execution_count": 69,
   "id": "d12638cb",
   "metadata": {
    "execution": {
     "iopub.execute_input": "2023-06-18T08:35:00.971358Z",
     "iopub.status.busy": "2023-06-18T08:35:00.971008Z",
     "iopub.status.idle": "2023-06-18T08:35:00.977824Z",
     "shell.execute_reply": "2023-06-18T08:35:00.976905Z"
    },
    "papermill": {
     "duration": 1.371494,
     "end_time": "2023-06-18T08:35:00.979756",
     "exception": false,
     "start_time": "2023-06-18T08:34:59.608262",
     "status": "completed"
    },
    "tags": []
   },
   "outputs": [],
   "source": [
    "optimizer = keras.optimizers.Adagrad(learning_rate=0.001)"
   ]
  },
  {
   "cell_type": "markdown",
   "id": "95baaeae",
   "metadata": {
    "papermill": {
     "duration": 1.100883,
     "end_time": "2023-06-18T08:35:03.109853",
     "exception": false,
     "start_time": "2023-06-18T08:35:02.008970",
     "status": "completed"
    },
    "tags": []
   },
   "source": [
    "## RMSProp"
   ]
  },
  {
   "cell_type": "code",
   "execution_count": 70,
   "id": "93dfe3cb",
   "metadata": {
    "execution": {
     "iopub.execute_input": "2023-06-18T08:35:05.239572Z",
     "iopub.status.busy": "2023-06-18T08:35:05.239188Z",
     "iopub.status.idle": "2023-06-18T08:35:05.245741Z",
     "shell.execute_reply": "2023-06-18T08:35:05.244826Z"
    },
    "papermill": {
     "duration": 1.087198,
     "end_time": "2023-06-18T08:35:05.247801",
     "exception": false,
     "start_time": "2023-06-18T08:35:04.160603",
     "status": "completed"
    },
    "tags": []
   },
   "outputs": [],
   "source": [
    "optimizer = keras.optimizers.RMSprop(learning_rate=0.001, rho=0.9)"
   ]
  },
  {
   "cell_type": "markdown",
   "id": "32574dc0",
   "metadata": {
    "papermill": {
     "duration": 1.122844,
     "end_time": "2023-06-18T08:35:07.393663",
     "exception": false,
     "start_time": "2023-06-18T08:35:06.270819",
     "status": "completed"
    },
    "tags": []
   },
   "source": [
    "## Adam Optimization"
   ]
  },
  {
   "cell_type": "code",
   "execution_count": 71,
   "id": "071ad847",
   "metadata": {
    "execution": {
     "iopub.execute_input": "2023-06-18T08:35:09.499334Z",
     "iopub.status.busy": "2023-06-18T08:35:09.498971Z",
     "iopub.status.idle": "2023-06-18T08:35:09.505941Z",
     "shell.execute_reply": "2023-06-18T08:35:09.505052Z"
    },
    "papermill": {
     "duration": 1.087148,
     "end_time": "2023-06-18T08:35:09.507933",
     "exception": false,
     "start_time": "2023-06-18T08:35:08.420785",
     "status": "completed"
    },
    "tags": []
   },
   "outputs": [],
   "source": [
    "optimizer = keras.optimizers.Adam(learning_rate=0.001, beta_1=0.9, beta_2=0.999)"
   ]
  },
  {
   "cell_type": "markdown",
   "id": "5a5916dd",
   "metadata": {
    "papermill": {
     "duration": 1.076481,
     "end_time": "2023-06-18T08:35:11.604676",
     "exception": false,
     "start_time": "2023-06-18T08:35:10.528195",
     "status": "completed"
    },
    "tags": []
   },
   "source": [
    "## Adamax Optimization"
   ]
  },
  {
   "cell_type": "code",
   "execution_count": 72,
   "id": "dc3bf269",
   "metadata": {
    "execution": {
     "iopub.execute_input": "2023-06-18T08:35:13.704257Z",
     "iopub.status.busy": "2023-06-18T08:35:13.703690Z",
     "iopub.status.idle": "2023-06-18T08:35:13.711657Z",
     "shell.execute_reply": "2023-06-18T08:35:13.710697Z"
    },
    "papermill": {
     "duration": 1.091781,
     "end_time": "2023-06-18T08:35:13.713738",
     "exception": false,
     "start_time": "2023-06-18T08:35:12.621957",
     "status": "completed"
    },
    "tags": []
   },
   "outputs": [],
   "source": [
    "optimizer = keras.optimizers.Adamax(learning_rate=0.001, beta_1=0.9, beta_2=0.999)"
   ]
  },
  {
   "cell_type": "markdown",
   "id": "2bc072b4",
   "metadata": {
    "papermill": {
     "duration": 1.077064,
     "end_time": "2023-06-18T08:35:15.809419",
     "exception": false,
     "start_time": "2023-06-18T08:35:14.732355",
     "status": "completed"
    },
    "tags": []
   },
   "source": [
    "## Nadam Optimization"
   ]
  },
  {
   "cell_type": "code",
   "execution_count": 73,
   "id": "fe096c75",
   "metadata": {
    "execution": {
     "iopub.execute_input": "2023-06-18T08:35:17.948541Z",
     "iopub.status.busy": "2023-06-18T08:35:17.948159Z",
     "iopub.status.idle": "2023-06-18T08:35:17.954821Z",
     "shell.execute_reply": "2023-06-18T08:35:17.953953Z"
    },
    "papermill": {
     "duration": 1.122194,
     "end_time": "2023-06-18T08:35:17.956821",
     "exception": false,
     "start_time": "2023-06-18T08:35:16.834627",
     "status": "completed"
    },
    "tags": []
   },
   "outputs": [],
   "source": [
    "optimizer = keras.optimizers.Nadam(learning_rate=0.001, beta_1=0.9, beta_2=0.999)"
   ]
  },
  {
   "cell_type": "markdown",
   "id": "a8fb4d7a",
   "metadata": {
    "papermill": {
     "duration": 1.076602,
     "end_time": "2023-06-18T08:35:20.058822",
     "exception": false,
     "start_time": "2023-06-18T08:35:18.982220",
     "status": "completed"
    },
    "tags": []
   },
   "source": [
    "## Learning Rate Scheduling"
   ]
  },
  {
   "cell_type": "markdown",
   "id": "cd9e3bf2",
   "metadata": {
    "papermill": {
     "duration": 1.072685,
     "end_time": "2023-06-18T08:35:22.152984",
     "exception": false,
     "start_time": "2023-06-18T08:35:21.080299",
     "status": "completed"
    },
    "tags": []
   },
   "source": [
    "### Power Scheduling"
   ]
  },
  {
   "cell_type": "markdown",
   "id": "46a9a96c",
   "metadata": {
    "papermill": {
     "duration": 1.083562,
     "end_time": "2023-06-18T08:35:24.248899",
     "exception": false,
     "start_time": "2023-06-18T08:35:23.165337",
     "status": "completed"
    },
    "tags": []
   },
   "source": [
    "```lr = lr0 / (1 + steps / s)**c```\n",
    "* Keras uses `c=1` and `s = 1 / decay`"
   ]
  },
  {
   "cell_type": "code",
   "execution_count": 74,
   "id": "15410f2e",
   "metadata": {
    "execution": {
     "iopub.execute_input": "2023-06-18T08:35:26.353325Z",
     "iopub.status.busy": "2023-06-18T08:35:26.352978Z",
     "iopub.status.idle": "2023-06-18T08:35:26.359501Z",
     "shell.execute_reply": "2023-06-18T08:35:26.358599Z"
    },
    "papermill": {
     "duration": 1.093242,
     "end_time": "2023-06-18T08:35:26.361467",
     "exception": false,
     "start_time": "2023-06-18T08:35:25.268225",
     "status": "completed"
    },
    "tags": []
   },
   "outputs": [],
   "source": [
    "optimizer = keras.optimizers.SGD(learning_rate=0.01, weight_decay=1e-4)"
   ]
  },
  {
   "cell_type": "code",
   "execution_count": 75,
   "id": "572c1f3c",
   "metadata": {
    "execution": {
     "iopub.execute_input": "2023-06-18T08:35:28.519626Z",
     "iopub.status.busy": "2023-06-18T08:35:28.519241Z",
     "iopub.status.idle": "2023-06-18T08:35:28.570064Z",
     "shell.execute_reply": "2023-06-18T08:35:28.569158Z"
    },
    "papermill": {
     "duration": 1.130537,
     "end_time": "2023-06-18T08:35:28.572304",
     "exception": false,
     "start_time": "2023-06-18T08:35:27.441767",
     "status": "completed"
    },
    "tags": []
   },
   "outputs": [],
   "source": [
    "model = keras.models.Sequential([\n",
    "    keras.layers.Flatten(input_shape=[28, 28]),\n",
    "    keras.layers.Dense(300, activation=\"selu\", kernel_initializer=\"lecun_normal\"),\n",
    "    keras.layers.Dense(100, activation=\"selu\", kernel_initializer=\"lecun_normal\"),\n",
    "    keras.layers.Dense(10, activation=\"softmax\")\n",
    "])\n",
    "model.compile(loss=\"sparse_categorical_crossentropy\", optimizer=optimizer, metrics=[\"accuracy\"])"
   ]
  },
  {
   "cell_type": "code",
   "execution_count": 76,
   "id": "e280fd36",
   "metadata": {
    "execution": {
     "iopub.execute_input": "2023-06-18T08:35:30.673996Z",
     "iopub.status.busy": "2023-06-18T08:35:30.673437Z",
     "iopub.status.idle": "2023-06-18T08:37:53.750404Z",
     "shell.execute_reply": "2023-06-18T08:37:53.749383Z"
    },
    "papermill": {
     "duration": 144.159809,
     "end_time": "2023-06-18T08:37:53.752796",
     "exception": false,
     "start_time": "2023-06-18T08:35:29.592987",
     "status": "completed"
    },
    "tags": []
   },
   "outputs": [
    {
     "name": "stdout",
     "output_type": "stream",
     "text": [
      "Epoch 1/25\n",
      "1719/1719 [==============================] - 6s 3ms/step - loss: 0.4893 - accuracy: 0.8275 - val_loss: 0.4046 - val_accuracy: 0.8560\n",
      "Epoch 2/25\n",
      "1719/1719 [==============================] - 5s 3ms/step - loss: 0.3829 - accuracy: 0.8646 - val_loss: 0.3733 - val_accuracy: 0.8682\n",
      "Epoch 3/25\n",
      "1719/1719 [==============================] - 5s 3ms/step - loss: 0.3476 - accuracy: 0.8761 - val_loss: 0.3808 - val_accuracy: 0.8654\n",
      "Epoch 4/25\n",
      "1719/1719 [==============================] - 5s 3ms/step - loss: 0.3241 - accuracy: 0.8834 - val_loss: 0.3453 - val_accuracy: 0.8784\n",
      "Epoch 5/25\n",
      "1719/1719 [==============================] - 5s 3ms/step - loss: 0.3055 - accuracy: 0.8902 - val_loss: 0.3391 - val_accuracy: 0.8772\n",
      "Epoch 6/25\n",
      "1719/1719 [==============================] - 6s 4ms/step - loss: 0.2881 - accuracy: 0.8967 - val_loss: 0.3377 - val_accuracy: 0.8828\n",
      "Epoch 7/25\n",
      "1719/1719 [==============================] - 5s 3ms/step - loss: 0.2751 - accuracy: 0.9012 - val_loss: 0.3399 - val_accuracy: 0.8796\n",
      "Epoch 8/25\n",
      "1719/1719 [==============================] - 5s 3ms/step - loss: 0.2628 - accuracy: 0.9053 - val_loss: 0.3509 - val_accuracy: 0.8736\n",
      "Epoch 9/25\n",
      "1719/1719 [==============================] - 5s 3ms/step - loss: 0.2516 - accuracy: 0.9083 - val_loss: 0.3228 - val_accuracy: 0.8840\n",
      "Epoch 10/25\n",
      "1719/1719 [==============================] - 5s 3ms/step - loss: 0.2422 - accuracy: 0.9125 - val_loss: 0.3210 - val_accuracy: 0.8842\n",
      "Epoch 11/25\n",
      "1719/1719 [==============================] - 5s 3ms/step - loss: 0.2337 - accuracy: 0.9151 - val_loss: 0.3212 - val_accuracy: 0.8872\n",
      "Epoch 12/25\n",
      "1719/1719 [==============================] - 7s 4ms/step - loss: 0.2241 - accuracy: 0.9203 - val_loss: 0.3403 - val_accuracy: 0.8796\n",
      "Epoch 13/25\n",
      "1719/1719 [==============================] - 5s 3ms/step - loss: 0.2159 - accuracy: 0.9227 - val_loss: 0.3311 - val_accuracy: 0.8890\n",
      "Epoch 14/25\n",
      "1719/1719 [==============================] - 5s 3ms/step - loss: 0.2103 - accuracy: 0.9245 - val_loss: 0.3503 - val_accuracy: 0.8806\n",
      "Epoch 15/25\n",
      "1719/1719 [==============================] - 5s 3ms/step - loss: 0.2016 - accuracy: 0.9276 - val_loss: 0.3359 - val_accuracy: 0.8838\n",
      "Epoch 16/25\n",
      "1719/1719 [==============================] - 5s 3ms/step - loss: 0.1967 - accuracy: 0.9294 - val_loss: 0.3276 - val_accuracy: 0.8888\n",
      "Epoch 17/25\n",
      "1719/1719 [==============================] - 5s 3ms/step - loss: 0.1893 - accuracy: 0.9320 - val_loss: 0.3420 - val_accuracy: 0.8890\n",
      "Epoch 18/25\n",
      "1719/1719 [==============================] - 6s 4ms/step - loss: 0.1830 - accuracy: 0.9346 - val_loss: 0.3333 - val_accuracy: 0.8934\n",
      "Epoch 19/25\n",
      "1719/1719 [==============================] - 5s 3ms/step - loss: 0.1775 - accuracy: 0.9368 - val_loss: 0.3382 - val_accuracy: 0.8846\n",
      "Epoch 20/25\n",
      "1719/1719 [==============================] - 5s 3ms/step - loss: 0.1716 - accuracy: 0.9395 - val_loss: 0.3423 - val_accuracy: 0.8860\n",
      "Epoch 21/25\n",
      "1719/1719 [==============================] - 6s 3ms/step - loss: 0.1663 - accuracy: 0.9409 - val_loss: 0.3427 - val_accuracy: 0.8886\n",
      "Epoch 22/25\n",
      "1719/1719 [==============================] - 5s 3ms/step - loss: 0.1607 - accuracy: 0.9429 - val_loss: 0.3356 - val_accuracy: 0.8920\n",
      "Epoch 23/25\n",
      "1719/1719 [==============================] - 6s 3ms/step - loss: 0.1561 - accuracy: 0.9449 - val_loss: 0.3461 - val_accuracy: 0.8894\n",
      "Epoch 24/25\n",
      "1719/1719 [==============================] - 6s 3ms/step - loss: 0.1509 - accuracy: 0.9463 - val_loss: 0.3571 - val_accuracy: 0.8888\n",
      "Epoch 25/25\n",
      "1719/1719 [==============================] - 5s 3ms/step - loss: 0.1459 - accuracy: 0.9477 - val_loss: 0.3487 - val_accuracy: 0.8906\n"
     ]
    }
   ],
   "source": [
    "n_epochs = 25\n",
    "history = model.fit(X_train_scaled, y_train, epochs=n_epochs,\n",
    "                    validation_data=(X_valid_scaled, y_valid))"
   ]
  },
  {
   "cell_type": "code",
   "execution_count": 77,
   "id": "d05d259c",
   "metadata": {
    "execution": {
     "iopub.execute_input": "2023-06-18T08:37:56.241151Z",
     "iopub.status.busy": "2023-06-18T08:37:56.240426Z",
     "iopub.status.idle": "2023-06-18T08:37:56.492736Z",
     "shell.execute_reply": "2023-06-18T08:37:56.491472Z"
    },
    "papermill": {
     "duration": 1.519407,
     "end_time": "2023-06-18T08:37:56.494883",
     "exception": false,
     "start_time": "2023-06-18T08:37:54.975476",
     "status": "completed"
    },
    "tags": []
   },
   "outputs": [
    {
     "data": {
      "image/png": "[encoded data removed]",
      "text/plain": [
       "<Figure size 640x480 with 1 Axes>"
      ]
     },
     "metadata": {},
     "output_type": "display_data"
    }
   ],
   "source": [
    "import math\n",
    "\n",
    "learning_rate = 0.01\n",
    "decay = 1e-4\n",
    "batch_size = 32\n",
    "n_steps_per_epoch = math.ceil(len(X_train) / batch_size)\n",
    "epochs = np.arange(n_epochs)\n",
    "lrs = learning_rate / (1 + decay * epochs * n_steps_per_epoch)\n",
    "\n",
    "plt.plot(epochs, lrs,  \"o-\")\n",
    "plt.axis([0, n_epochs - 1, 0, 0.01])\n",
    "plt.xlabel(\"Epoch\")\n",
    "plt.ylabel(\"Learning Rate\")\n",
    "plt.title(\"Power Scheduling\", fontsize=14)\n",
    "plt.grid(True)\n",
    "plt.show()"
   ]
  },
  {
   "cell_type": "markdown",
   "id": "21f23ea8",
   "metadata": {
    "papermill": {
     "duration": 1.206236,
     "end_time": "2023-06-18T08:37:59.021477",
     "exception": false,
     "start_time": "2023-06-18T08:37:57.815241",
     "status": "completed"
    },
    "tags": []
   },
   "source": [
    "### Exponential Scheduling"
   ]
  },
  {
   "cell_type": "markdown",
   "id": "518985a8",
   "metadata": {
    "papermill": {
     "duration": 1.271058,
     "end_time": "2023-06-18T08:38:01.567035",
     "exception": false,
     "start_time": "2023-06-18T08:38:00.295977",
     "status": "completed"
    },
    "tags": []
   },
   "source": [
    "```lr = lr0 * 0.1**(epoch / s)```"
   ]
  },
  {
   "cell_type": "code",
   "execution_count": 78,
   "id": "588a0687",
   "metadata": {
    "execution": {
     "iopub.execute_input": "2023-06-18T08:38:04.053631Z",
     "iopub.status.busy": "2023-06-18T08:38:04.053201Z",
     "iopub.status.idle": "2023-06-18T08:38:04.058003Z",
     "shell.execute_reply": "2023-06-18T08:38:04.057054Z"
    },
    "papermill": {
     "duration": 1.279027,
     "end_time": "2023-06-18T08:38:04.060049",
     "exception": false,
     "start_time": "2023-06-18T08:38:02.781022",
     "status": "completed"
    },
    "tags": []
   },
   "outputs": [],
   "source": [
    "def exponential_decay_fn(epoch):\n",
    "    return 0.01 * 0.1**(epoch / 20)"
   ]
  },
  {
   "cell_type": "code",
   "execution_count": 79,
   "id": "307c09e1",
   "metadata": {
    "execution": {
     "iopub.execute_input": "2023-06-18T08:38:06.580790Z",
     "iopub.status.busy": "2023-06-18T08:38:06.580371Z",
     "iopub.status.idle": "2023-06-18T08:38:06.586389Z",
     "shell.execute_reply": "2023-06-18T08:38:06.585295Z"
    },
    "papermill": {
     "duration": 1.319831,
     "end_time": "2023-06-18T08:38:06.588691",
     "exception": false,
     "start_time": "2023-06-18T08:38:05.268860",
     "status": "completed"
    },
    "tags": []
   },
   "outputs": [],
   "source": [
    "def exponential_decay(lr0, s):\n",
    "    def exponential_decay_fn(epoch):\n",
    "        return lr0 * 0.1**(epoch / s)\n",
    "    return exponential_decay_fn\n",
    "\n",
    "exponential_decay_fn = exponential_decay(lr0=0.01, s=20)"
   ]
  },
  {
   "cell_type": "code",
   "execution_count": 80,
   "id": "a8a1040c",
   "metadata": {
    "execution": {
     "iopub.execute_input": "2023-06-18T08:38:09.453083Z",
     "iopub.status.busy": "2023-06-18T08:38:09.452550Z",
     "iopub.status.idle": "2023-06-18T08:38:09.516340Z",
     "shell.execute_reply": "2023-06-18T08:38:09.515117Z"
    },
    "papermill": {
     "duration": 1.645908,
     "end_time": "2023-06-18T08:38:09.519074",
     "exception": false,
     "start_time": "2023-06-18T08:38:07.873166",
     "status": "completed"
    },
    "tags": []
   },
   "outputs": [],
   "source": [
    "model = keras.models.Sequential([\n",
    "    keras.layers.Flatten(input_shape=[28, 28]),\n",
    "    keras.layers.Dense(300, activation=\"selu\", kernel_initializer=\"lecun_normal\"),\n",
    "    keras.layers.Dense(100, activation=\"selu\", kernel_initializer=\"lecun_normal\"),\n",
    "    keras.layers.Dense(10, activation=\"softmax\")\n",
    "])\n",
    "model.compile(loss=\"sparse_categorical_crossentropy\", optimizer=\"nadam\", metrics=[\"accuracy\"])\n",
    "n_epochs = 25"
   ]
  },
  {
   "cell_type": "code",
   "execution_count": 81,
   "id": "452b9670",
   "metadata": {
    "execution": {
     "iopub.execute_input": "2023-06-18T08:38:12.130588Z",
     "iopub.status.busy": "2023-06-18T08:38:12.130210Z",
     "iopub.status.idle": "2023-06-18T08:41:35.190035Z",
     "shell.execute_reply": "2023-06-18T08:41:35.188998Z"
    },
    "papermill": {
     "duration": 204.28116,
     "end_time": "2023-06-18T08:41:35.192877",
     "exception": false,
     "start_time": "2023-06-18T08:38:10.911717",
     "status": "completed"
    },
    "tags": []
   },
   "outputs": [
    {
     "name": "stdout",
     "output_type": "stream",
     "text": [
      "Epoch 1/25\n",
      "1719/1719 [==============================] - 8s 4ms/step - loss: 0.7276 - accuracy: 0.7853 - val_loss: 0.6688 - val_accuracy: 0.7998 - lr: 0.0100\n",
      "Epoch 2/25\n",
      "1719/1719 [==============================] - 6s 3ms/step - loss: 0.6229 - accuracy: 0.8109 - val_loss: 0.6011 - val_accuracy: 0.8138 - lr: 0.0089\n",
      "Epoch 3/25\n",
      "1719/1719 [==============================] - 6s 3ms/step - loss: 0.6167 - accuracy: 0.8118 - val_loss: 0.7312 - val_accuracy: 0.7776 - lr: 0.0079\n",
      "Epoch 4/25\n",
      "1719/1719 [==============================] - 6s 3ms/step - loss: 0.5768 - accuracy: 0.8263 - val_loss: 0.5454 - val_accuracy: 0.8344 - lr: 0.0071\n",
      "Epoch 5/25\n",
      "1719/1719 [==============================] - 7s 4ms/step - loss: 0.5065 - accuracy: 0.8428 - val_loss: 0.4961 - val_accuracy: 0.8572 - lr: 0.0063\n",
      "Epoch 6/25\n",
      "1719/1719 [==============================] - 6s 3ms/step - loss: 0.4629 - accuracy: 0.8565 - val_loss: 0.5265 - val_accuracy: 0.8618 - lr: 0.0056\n",
      "Epoch 7/25\n",
      "1719/1719 [==============================] - 6s 3ms/step - loss: 0.4340 - accuracy: 0.8647 - val_loss: 0.4713 - val_accuracy: 0.8568 - lr: 0.0050\n",
      "Epoch 8/25\n",
      "1719/1719 [==============================] - 6s 3ms/step - loss: 0.3902 - accuracy: 0.8749 - val_loss: 0.5524 - val_accuracy: 0.8402 - lr: 0.0045\n",
      "Epoch 9/25\n",
      "1719/1719 [==============================] - 6s 4ms/step - loss: 0.3635 - accuracy: 0.8823 - val_loss: 0.4818 - val_accuracy: 0.8600 - lr: 0.0040\n",
      "Epoch 10/25\n",
      "1719/1719 [==============================] - 6s 4ms/step - loss: 0.3302 - accuracy: 0.8896 - val_loss: 0.4834 - val_accuracy: 0.8792 - lr: 0.0035\n",
      "Epoch 11/25\n",
      "1719/1719 [==============================] - 6s 4ms/step - loss: 0.3154 - accuracy: 0.8966 - val_loss: 0.4990 - val_accuracy: 0.8696 - lr: 0.0032\n",
      "Epoch 12/25\n",
      "1719/1719 [==============================] - 6s 4ms/step - loss: 0.2919 - accuracy: 0.9004 - val_loss: 0.4313 - val_accuracy: 0.8742 - lr: 0.0028\n",
      "Epoch 13/25\n",
      "1719/1719 [==============================] - 6s 3ms/step - loss: 0.2727 - accuracy: 0.9093 - val_loss: 0.4720 - val_accuracy: 0.8840 - lr: 0.0025\n",
      "Epoch 14/25\n",
      "1719/1719 [==============================] - 6s 3ms/step - loss: 0.2525 - accuracy: 0.9153 - val_loss: 0.4815 - val_accuracy: 0.8734 - lr: 0.0022\n",
      "Epoch 15/25\n",
      "1719/1719 [==============================] - 6s 4ms/step - loss: 0.2360 - accuracy: 0.9205 - val_loss: 0.4656 - val_accuracy: 0.8866 - lr: 0.0020\n",
      "Epoch 16/25\n",
      "1719/1719 [==============================] - 6s 4ms/step - loss: 0.2178 - accuracy: 0.9263 - val_loss: 0.4805 - val_accuracy: 0.8874 - lr: 0.0018\n",
      "Epoch 17/25\n",
      "1719/1719 [==============================] - 6s 3ms/step - loss: 0.2037 - accuracy: 0.9318 - val_loss: 0.5023 - val_accuracy: 0.8866 - lr: 0.0016\n",
      "Epoch 18/25\n",
      "1719/1719 [==============================] - 6s 3ms/step - loss: 0.1898 - accuracy: 0.9366 - val_loss: 0.4745 - val_accuracy: 0.8876 - lr: 0.0014\n",
      "Epoch 19/25\n",
      "1719/1719 [==============================] - 6s 3ms/step - loss: 0.1755 - accuracy: 0.9418 - val_loss: 0.4879 - val_accuracy: 0.8898 - lr: 0.0013\n",
      "Epoch 20/25\n",
      "1719/1719 [==============================] - 6s 4ms/step - loss: 0.1649 - accuracy: 0.9453 - val_loss: 0.4833 - val_accuracy: 0.8882 - lr: 0.0011\n",
      "Epoch 21/25\n",
      "1719/1719 [==============================] - 6s 4ms/step - loss: 0.1551 - accuracy: 0.9490 - val_loss: 0.5149 - val_accuracy: 0.8876 - lr: 0.0010\n",
      "Epoch 22/25\n",
      "1719/1719 [==============================] - 6s 4ms/step - loss: 0.1440 - accuracy: 0.9531 - val_loss: 0.5555 - val_accuracy: 0.8926 - lr: 8.9125e-04\n",
      "Epoch 23/25\n",
      "1719/1719 [==============================] - 6s 3ms/step - loss: 0.1351 - accuracy: 0.9580 - val_loss: 0.5502 - val_accuracy: 0.8904 - lr: 7.9433e-04\n",
      "Epoch 24/25\n",
      "1719/1719 [==============================] - 6s 4ms/step - loss: 0.1266 - accuracy: 0.9600 - val_loss: 0.5898 - val_accuracy: 0.8932 - lr: 7.0795e-04\n",
      "Epoch 25/25\n",
      "1719/1719 [==============================] - 7s 4ms/step - loss: 0.1196 - accuracy: 0.9617 - val_loss: 0.5797 - val_accuracy: 0.8928 - lr: 6.3096e-04\n"
     ]
    }
   ],
   "source": [
    "lr_scheduler = keras.callbacks.LearningRateScheduler(exponential_decay_fn)\n",
    "history = model.fit(X_train_scaled, y_train, epochs=n_epochs,\n",
    "                    validation_data=(X_valid_scaled, y_valid),\n",
    "                    callbacks=[lr_scheduler])"
   ]
  },
  {
   "cell_type": "code",
   "execution_count": 82,
   "id": "596563b9",
   "metadata": {
    "execution": {
     "iopub.execute_input": "2023-06-18T08:41:38.350893Z",
     "iopub.status.busy": "2023-06-18T08:41:38.350503Z",
     "iopub.status.idle": "2023-06-18T08:41:38.624489Z",
     "shell.execute_reply": "2023-06-18T08:41:38.623527Z"
    },
    "papermill": {
     "duration": 1.889095,
     "end_time": "2023-06-18T08:41:38.626567",
     "exception": false,
     "start_time": "2023-06-18T08:41:36.737472",
     "status": "completed"
    },
    "tags": []
   },
   "outputs": [
    {
     "data": {
      "image/png": "[encoded data removed]",
      "text/plain": [
       "<Figure size 640x480 with 1 Axes>"
      ]
     },
     "metadata": {},
     "output_type": "display_data"
    }
   ],
   "source": [
    "plt.plot(history.epoch, history.history[\"lr\"], \"o-\")\n",
    "plt.axis([0, n_epochs - 1, 0, 0.011])\n",
    "plt.xlabel(\"Epoch\")\n",
    "plt.ylabel(\"Learning Rate\")\n",
    "plt.title(\"Exponential Scheduling\", fontsize=14)\n",
    "plt.grid(True)\n",
    "plt.show()"
   ]
  },
  {
   "cell_type": "markdown",
   "id": "b95ce45d",
   "metadata": {
    "papermill": {
     "duration": 1.552105,
     "end_time": "2023-06-18T08:41:41.737446",
     "exception": false,
     "start_time": "2023-06-18T08:41:40.185341",
     "status": "completed"
    },
    "tags": []
   },
   "source": [
    "The schedule function can take the current learning rate as a second argument:"
   ]
  },
  {
   "cell_type": "code",
   "execution_count": 83,
   "id": "d5a8f290",
   "metadata": {
    "execution": {
     "iopub.execute_input": "2023-06-18T08:41:44.742090Z",
     "iopub.status.busy": "2023-06-18T08:41:44.741738Z",
     "iopub.status.idle": "2023-06-18T08:41:44.746802Z",
     "shell.execute_reply": "2023-06-18T08:41:44.745817Z"
    },
    "papermill": {
     "duration": 1.524834,
     "end_time": "2023-06-18T08:41:44.748876",
     "exception": false,
     "start_time": "2023-06-18T08:41:43.224042",
     "status": "completed"
    },
    "tags": []
   },
   "outputs": [],
   "source": [
    "def exponential_decay_fn(epoch, lr):\n",
    "    return lr * 0.1**(1 / 20)"
   ]
  },
  {
   "cell_type": "markdown",
   "id": "c708509b",
   "metadata": {
    "papermill": {
     "duration": 1.535096,
     "end_time": "2023-06-18T08:41:47.814818",
     "exception": false,
     "start_time": "2023-06-18T08:41:46.279722",
     "status": "completed"
    },
    "tags": []
   },
   "source": [
    "If you want to update the learning rate at each iteration rather than at each epoch, you must write your own callback class:"
   ]
  },
  {
   "cell_type": "code",
   "execution_count": 84,
   "id": "46b315ba",
   "metadata": {
    "execution": {
     "iopub.execute_input": "2023-06-18T08:41:51.304821Z",
     "iopub.status.busy": "2023-06-18T08:41:51.304428Z",
     "iopub.status.idle": "2023-06-18T08:45:14.437820Z",
     "shell.execute_reply": "2023-06-18T08:45:14.436446Z"
    },
    "papermill": {
     "duration": 204.786311,
     "end_time": "2023-06-18T08:45:14.440314",
     "exception": false,
     "start_time": "2023-06-18T08:41:49.654003",
     "status": "completed"
    },
    "tags": []
   },
   "outputs": [
    {
     "name": "stdout",
     "output_type": "stream",
     "text": [
      "Epoch 1/25\n",
      "1719/1719 [==============================] - 9s 5ms/step - loss: 0.7051 - accuracy: 0.7900 - val_loss: 0.5911 - val_accuracy: 0.8256 - lr: 0.0089\n",
      "Epoch 2/25\n",
      "1719/1719 [==============================] - 7s 4ms/step - loss: 0.6133 - accuracy: 0.8125 - val_loss: 0.5684 - val_accuracy: 0.8352 - lr: 0.0079\n",
      "Epoch 3/25\n",
      "1719/1719 [==============================] - 8s 5ms/step - loss: 0.5480 - accuracy: 0.8328 - val_loss: 0.6158 - val_accuracy: 0.8204 - lr: 0.0071\n",
      "Epoch 4/25\n",
      "1719/1719 [==============================] - 8s 5ms/step - loss: 0.5087 - accuracy: 0.8422 - val_loss: 0.4750 - val_accuracy: 0.8622 - lr: 0.0063\n",
      "Epoch 5/25\n",
      "1719/1719 [==============================] - 8s 5ms/step - loss: 0.4703 - accuracy: 0.8554 - val_loss: 0.7243 - val_accuracy: 0.8452 - lr: 0.0056\n",
      "Epoch 6/25\n",
      "1719/1719 [==============================] - 8s 4ms/step - loss: 0.4472 - accuracy: 0.8622 - val_loss: 0.4636 - val_accuracy: 0.8530 - lr: 0.0050\n",
      "Epoch 7/25\n",
      "1719/1719 [==============================] - 7s 4ms/step - loss: 0.4040 - accuracy: 0.8718 - val_loss: 0.4563 - val_accuracy: 0.8678 - lr: 0.0045\n",
      "Epoch 8/25\n",
      "1719/1719 [==============================] - 8s 5ms/step - loss: 0.3661 - accuracy: 0.8809 - val_loss: 0.4482 - val_accuracy: 0.8620 - lr: 0.0040\n",
      "Epoch 9/25\n",
      "1719/1719 [==============================] - 7s 4ms/step - loss: 0.3389 - accuracy: 0.8894 - val_loss: 0.4560 - val_accuracy: 0.8784 - lr: 0.0035\n",
      "Epoch 10/25\n",
      "1719/1719 [==============================] - 8s 4ms/step - loss: 0.3125 - accuracy: 0.8948 - val_loss: 0.4412 - val_accuracy: 0.8808 - lr: 0.0032\n",
      "Epoch 11/25\n",
      "1719/1719 [==============================] - 8s 4ms/step - loss: 0.2966 - accuracy: 0.9017 - val_loss: 0.4486 - val_accuracy: 0.8688 - lr: 0.0028\n",
      "Epoch 12/25\n",
      "1719/1719 [==============================] - 7s 4ms/step - loss: 0.2697 - accuracy: 0.9093 - val_loss: 0.4661 - val_accuracy: 0.8706 - lr: 0.0025\n",
      "Epoch 13/25\n",
      "1719/1719 [==============================] - 8s 5ms/step - loss: 0.2534 - accuracy: 0.9145 - val_loss: 0.4580 - val_accuracy: 0.8838 - lr: 0.0022\n",
      "Epoch 14/25\n",
      "1719/1719 [==============================] - 7s 4ms/step - loss: 0.2299 - accuracy: 0.9214 - val_loss: 0.5209 - val_accuracy: 0.8736 - lr: 0.0020\n",
      "Epoch 15/25\n",
      "1719/1719 [==============================] - 8s 4ms/step - loss: 0.2193 - accuracy: 0.9260 - val_loss: 0.4553 - val_accuracy: 0.8834 - lr: 0.0018\n",
      "Epoch 16/25\n",
      "1719/1719 [==============================] - 8s 5ms/step - loss: 0.1991 - accuracy: 0.9313 - val_loss: 0.4678 - val_accuracy: 0.8838 - lr: 0.0016\n",
      "Epoch 17/25\n",
      "1719/1719 [==============================] - 8s 5ms/step - loss: 0.1882 - accuracy: 0.9362 - val_loss: 0.4990 - val_accuracy: 0.8838 - lr: 0.0014\n",
      "Epoch 18/25\n",
      "1719/1719 [==============================] - 7s 4ms/step - loss: 0.1775 - accuracy: 0.9399 - val_loss: 0.4891 - val_accuracy: 0.8846 - lr: 0.0013\n",
      "Epoch 19/25\n",
      "1719/1719 [==============================] - 8s 4ms/step - loss: 0.1610 - accuracy: 0.9453 - val_loss: 0.5356 - val_accuracy: 0.8874 - lr: 0.0011\n",
      "Epoch 20/25\n",
      "1719/1719 [==============================] - 7s 4ms/step - loss: 0.1495 - accuracy: 0.9497 - val_loss: 0.5173 - val_accuracy: 0.8888 - lr: 9.9967e-04\n",
      "Epoch 21/25\n",
      "1719/1719 [==============================] - 8s 5ms/step - loss: 0.1409 - accuracy: 0.9529 - val_loss: 0.5632 - val_accuracy: 0.8858 - lr: 8.9094e-04\n",
      "Epoch 22/25\n",
      "1719/1719 [==============================] - 7s 4ms/step - loss: 0.1321 - accuracy: 0.9565 - val_loss: 0.5926 - val_accuracy: 0.8890 - lr: 7.9404e-04\n",
      "Epoch 23/25\n",
      "1719/1719 [==============================] - 7s 4ms/step - loss: 0.1231 - accuracy: 0.9591 - val_loss: 0.6238 - val_accuracy: 0.8844 - lr: 7.0767e-04\n",
      "Epoch 24/25\n",
      "1719/1719 [==============================] - 7s 4ms/step - loss: 0.1158 - accuracy: 0.9616 - val_loss: 0.6575 - val_accuracy: 0.8838 - lr: 6.3071e-04\n",
      "Epoch 25/25\n",
      "1719/1719 [==============================] - 8s 4ms/step - loss: 0.1086 - accuracy: 0.9642 - val_loss: 0.6690 - val_accuracy: 0.8830 - lr: 5.6211e-04\n"
     ]
    }
   ],
   "source": [
    "K = keras.backend\n",
    "\n",
    "class ExponentialDecay(keras.callbacks.Callback):\n",
    "    def __init__(self, s=40000):\n",
    "        super().__init__()\n",
    "        self.s = s\n",
    "\n",
    "    def on_batch_begin(self, batch, logs=None):\n",
    "        # Note: the `batch` argument is reset at each epoch\n",
    "        lr = K.get_value(self.model.optimizer.learning_rate)\n",
    "        K.set_value(self.model.optimizer.learning_rate, lr * 0.1**(1 / self.s))\n",
    "\n",
    "    def on_epoch_end(self, epoch, logs=None):\n",
    "        logs = logs or {}\n",
    "        logs['lr'] = K.get_value(self.model.optimizer.learning_rate)\n",
    "\n",
    "model = keras.models.Sequential([\n",
    "    keras.layers.Flatten(input_shape=[28, 28]),\n",
    "    keras.layers.Dense(300, activation=\"selu\", kernel_initializer=\"lecun_normal\"),\n",
    "    keras.layers.Dense(100, activation=\"selu\", kernel_initializer=\"lecun_normal\"),\n",
    "    keras.layers.Dense(10, activation=\"softmax\")\n",
    "])\n",
    "lr0 = 0.01\n",
    "optimizer = keras.optimizers.Nadam(learning_rate=lr0)\n",
    "model.compile(loss=\"sparse_categorical_crossentropy\", optimizer=optimizer, metrics=[\"accuracy\"])\n",
    "n_epochs = 25\n",
    "\n",
    "s = 20 * len(X_train) // 32 # number of steps in 20 epochs (batch size = 32)\n",
    "exp_decay = ExponentialDecay(s)\n",
    "history = model.fit(X_train_scaled, y_train, epochs=n_epochs,\n",
    "                    validation_data=(X_valid_scaled, y_valid),\n",
    "                    callbacks=[exp_decay])"
   ]
  },
  {
   "cell_type": "code",
   "execution_count": 85,
   "id": "868dc711",
   "metadata": {
    "execution": {
     "iopub.execute_input": "2023-06-18T08:45:18.079063Z",
     "iopub.status.busy": "2023-06-18T08:45:18.078703Z",
     "iopub.status.idle": "2023-06-18T08:45:18.085761Z",
     "shell.execute_reply": "2023-06-18T08:45:18.084814Z"
    },
    "papermill": {
     "duration": 1.834246,
     "end_time": "2023-06-18T08:45:18.087908",
     "exception": false,
     "start_time": "2023-06-18T08:45:16.253662",
     "status": "completed"
    },
    "tags": []
   },
   "outputs": [],
   "source": [
    "n_steps = n_epochs * len(X_train) // 32\n",
    "steps = np.arange(n_steps)\n",
    "lrs = lr0 * 0.1**(steps / s)"
   ]
  },
  {
   "cell_type": "code",
   "execution_count": 86,
   "id": "e80c5cb3",
   "metadata": {
    "execution": {
     "iopub.execute_input": "2023-06-18T08:45:21.614655Z",
     "iopub.status.busy": "2023-06-18T08:45:21.614275Z",
     "iopub.status.idle": "2023-06-18T08:45:21.891342Z",
     "shell.execute_reply": "2023-06-18T08:45:21.890423Z"
    },
    "papermill": {
     "duration": 2.046698,
     "end_time": "2023-06-18T08:45:21.893506",
     "exception": false,
     "start_time": "2023-06-18T08:45:19.846808",
     "status": "completed"
    },
    "scrolled": true,
    "tags": []
   },
   "outputs": [
    {
     "data": {
      "image/png": "[encoded data removed]",
      "text/plain": [
       "<Figure size 640x480 with 1 Axes>"
      ]
     },
     "metadata": {},
     "output_type": "display_data"
    }
   ],
   "source": [
    "plt.plot(steps, lrs, \"-\", linewidth=2)\n",
    "plt.axis([0, n_steps - 1, 0, lr0 * 1.1])\n",
    "plt.xlabel(\"Batch\")\n",
    "plt.ylabel(\"Learning Rate\")\n",
    "plt.title(\"Exponential Scheduling (per batch)\", fontsize=14)\n",
    "plt.grid(True)\n",
    "plt.show()"
   ]
  },
  {
   "cell_type": "markdown",
   "id": "234fb2b0",
   "metadata": {
    "papermill": {
     "duration": 1.756812,
     "end_time": "2023-06-18T08:45:25.349376",
     "exception": false,
     "start_time": "2023-06-18T08:45:23.592564",
     "status": "completed"
    },
    "tags": []
   },
   "source": [
    "### Piecewise Constant Scheduling"
   ]
  },
  {
   "cell_type": "code",
   "execution_count": 87,
   "id": "0d80f641",
   "metadata": {
    "execution": {
     "iopub.execute_input": "2023-06-18T08:45:28.965199Z",
     "iopub.status.busy": "2023-06-18T08:45:28.964839Z",
     "iopub.status.idle": "2023-06-18T08:45:28.969833Z",
     "shell.execute_reply": "2023-06-18T08:45:28.968879Z"
    },
    "papermill": {
     "duration": 1.789792,
     "end_time": "2023-06-18T08:45:28.971872",
     "exception": false,
     "start_time": "2023-06-18T08:45:27.182080",
     "status": "completed"
    },
    "tags": []
   },
   "outputs": [],
   "source": [
    "def piecewise_constant_fn(epoch):\n",
    "    if epoch < 5:\n",
    "        return 0.01\n",
    "    elif epoch < 15:\n",
    "        return 0.005\n",
    "    else:\n",
    "        return 0.001"
   ]
  },
  {
   "cell_type": "code",
   "execution_count": 88,
   "id": "dfff9376",
   "metadata": {
    "execution": {
     "iopub.execute_input": "2023-06-18T08:45:32.914318Z",
     "iopub.status.busy": "2023-06-18T08:45:32.913969Z",
     "iopub.status.idle": "2023-06-18T08:45:32.920418Z",
     "shell.execute_reply": "2023-06-18T08:45:32.918960Z"
    },
    "papermill": {
     "duration": 1.779227,
     "end_time": "2023-06-18T08:45:32.922911",
     "exception": false,
     "start_time": "2023-06-18T08:45:31.143684",
     "status": "completed"
    },
    "tags": []
   },
   "outputs": [],
   "source": [
    "def piecewise_constant(boundaries, values):\n",
    "    boundaries = np.array([0] + boundaries)\n",
    "    values = np.array(values)\n",
    "    def piecewise_constant_fn(epoch):\n",
    "        return values[np.argmax(boundaries > epoch) - 1]\n",
    "    return piecewise_constant_fn\n",
    "\n",
    "piecewise_constant_fn = piecewise_constant([5, 15], [0.01, 0.005, 0.001])"
   ]
  },
  {
   "cell_type": "code",
   "execution_count": 89,
   "id": "30371e5a",
   "metadata": {
    "execution": {
     "iopub.execute_input": "2023-06-18T08:45:36.378657Z",
     "iopub.status.busy": "2023-06-18T08:45:36.378284Z",
     "iopub.status.idle": "2023-06-18T08:48:59.529624Z",
     "shell.execute_reply": "2023-06-18T08:48:59.528440Z"
    },
    "papermill": {
     "duration": 204.845012,
     "end_time": "2023-06-18T08:48:59.533417",
     "exception": false,
     "start_time": "2023-06-18T08:45:34.688405",
     "status": "completed"
    },
    "tags": []
   },
   "outputs": [
    {
     "name": "stdout",
     "output_type": "stream",
     "text": [
      "Epoch 1/25\n",
      "1719/1719 [==============================] - 7s 3ms/step - loss: 0.7610 - accuracy: 0.7764 - val_loss: 0.7532 - val_accuracy: 0.7870 - lr: 0.0100\n",
      "Epoch 2/25\n",
      "1719/1719 [==============================] - 6s 3ms/step - loss: 0.6852 - accuracy: 0.7976 - val_loss: 0.6255 - val_accuracy: 0.7884 - lr: 0.0100\n",
      "Epoch 3/25\n",
      "1719/1719 [==============================] - 6s 3ms/step - loss: 0.7970 - accuracy: 0.7706 - val_loss: 2.0503 - val_accuracy: 0.5844 - lr: 0.0100\n",
      "Epoch 4/25\n",
      "1719/1719 [==============================] - 6s 4ms/step - loss: 0.9176 - accuracy: 0.7303 - val_loss: 0.8691 - val_accuracy: 0.6762 - lr: 0.0100\n",
      "Epoch 5/25\n",
      "1719/1719 [==============================] - 6s 4ms/step - loss: 0.9089 - accuracy: 0.7280 - val_loss: 0.8833 - val_accuracy: 0.7222 - lr: 0.0100\n",
      "Epoch 6/25\n",
      "1719/1719 [==============================] - 6s 4ms/step - loss: 0.6157 - accuracy: 0.8154 - val_loss: 0.6551 - val_accuracy: 0.8280 - lr: 0.0050\n",
      "Epoch 7/25\n",
      "1719/1719 [==============================] - 6s 4ms/step - loss: 0.5362 - accuracy: 0.8376 - val_loss: 0.6390 - val_accuracy: 0.8544 - lr: 0.0050\n",
      "Epoch 8/25\n",
      "1719/1719 [==============================] - 6s 3ms/step - loss: 0.5001 - accuracy: 0.8480 - val_loss: 0.6942 - val_accuracy: 0.8124 - lr: 0.0050\n",
      "Epoch 9/25\n",
      "1719/1719 [==============================] - 6s 4ms/step - loss: 0.5165 - accuracy: 0.8462 - val_loss: 0.7172 - val_accuracy: 0.8536 - lr: 0.0050\n",
      "Epoch 10/25\n",
      "1719/1719 [==============================] - 6s 3ms/step - loss: 0.4972 - accuracy: 0.8539 - val_loss: 0.6971 - val_accuracy: 0.8528 - lr: 0.0050\n",
      "Epoch 11/25\n",
      "1719/1719 [==============================] - 6s 4ms/step - loss: 0.4739 - accuracy: 0.8591 - val_loss: 0.5497 - val_accuracy: 0.8566 - lr: 0.0050\n",
      "Epoch 12/25\n",
      "1719/1719 [==============================] - 6s 3ms/step - loss: 0.4662 - accuracy: 0.8596 - val_loss: 0.8104 - val_accuracy: 0.8314 - lr: 0.0050\n",
      "Epoch 13/25\n",
      "1719/1719 [==============================] - 6s 3ms/step - loss: 0.4600 - accuracy: 0.8645 - val_loss: 0.5770 - val_accuracy: 0.8498 - lr: 0.0050\n",
      "Epoch 14/25\n",
      "1719/1719 [==============================] - 6s 3ms/step - loss: 0.4498 - accuracy: 0.8646 - val_loss: 0.5996 - val_accuracy: 0.8638 - lr: 0.0050\n",
      "Epoch 15/25\n",
      "1719/1719 [==============================] - 6s 4ms/step - loss: 0.4369 - accuracy: 0.8691 - val_loss: 0.7842 - val_accuracy: 0.8382 - lr: 0.0050\n",
      "Epoch 16/25\n",
      "1719/1719 [==============================] - 6s 4ms/step - loss: 0.3187 - accuracy: 0.8989 - val_loss: 0.5406 - val_accuracy: 0.8696 - lr: 0.0010\n",
      "Epoch 17/25\n",
      "1719/1719 [==============================] - 6s 4ms/step - loss: 0.2880 - accuracy: 0.9059 - val_loss: 0.5336 - val_accuracy: 0.8738 - lr: 0.0010\n",
      "Epoch 18/25\n",
      "1719/1719 [==============================] - 6s 3ms/step - loss: 0.2807 - accuracy: 0.9082 - val_loss: 0.5264 - val_accuracy: 0.8798 - lr: 0.0010\n",
      "Epoch 19/25\n",
      "1719/1719 [==============================] - 6s 3ms/step - loss: 0.2702 - accuracy: 0.9110 - val_loss: 0.5506 - val_accuracy: 0.8774 - lr: 0.0010\n",
      "Epoch 20/25\n",
      "1719/1719 [==============================] - 6s 4ms/step - loss: 0.2603 - accuracy: 0.9150 - val_loss: 0.5771 - val_accuracy: 0.8786 - lr: 0.0010\n",
      "Epoch 21/25\n",
      "1719/1719 [==============================] - 6s 3ms/step - loss: 0.2531 - accuracy: 0.9180 - val_loss: 0.5875 - val_accuracy: 0.8770 - lr: 0.0010\n",
      "Epoch 22/25\n",
      "1719/1719 [==============================] - 7s 4ms/step - loss: 0.2463 - accuracy: 0.9203 - val_loss: 0.5871 - val_accuracy: 0.8792 - lr: 0.0010\n",
      "Epoch 23/25\n",
      "1719/1719 [==============================] - 6s 3ms/step - loss: 0.2427 - accuracy: 0.9212 - val_loss: 0.6178 - val_accuracy: 0.8734 - lr: 0.0010\n",
      "Epoch 24/25\n",
      "1719/1719 [==============================] - 6s 3ms/step - loss: 0.2333 - accuracy: 0.9235 - val_loss: 0.6595 - val_accuracy: 0.8794 - lr: 0.0010\n",
      "Epoch 25/25\n",
      "1719/1719 [==============================] - 6s 4ms/step - loss: 0.2274 - accuracy: 0.9253 - val_loss: 0.6447 - val_accuracy: 0.8770 - lr: 0.0010\n"
     ]
    }
   ],
   "source": [
    "lr_scheduler = keras.callbacks.LearningRateScheduler(piecewise_constant_fn)\n",
    "\n",
    "model = keras.models.Sequential([\n",
    "    keras.layers.Flatten(input_shape=[28, 28]),\n",
    "    keras.layers.Dense(300, activation=\"selu\", kernel_initializer=\"lecun_normal\"),\n",
    "    keras.layers.Dense(100, activation=\"selu\", kernel_initializer=\"lecun_normal\"),\n",
    "    keras.layers.Dense(10, activation=\"softmax\")\n",
    "])\n",
    "model.compile(loss=\"sparse_categorical_crossentropy\", optimizer=\"nadam\", metrics=[\"accuracy\"])\n",
    "n_epochs = 25\n",
    "history = model.fit(X_train_scaled, y_train, epochs=n_epochs,\n",
    "                    validation_data=(X_valid_scaled, y_valid),\n",
    "                    callbacks=[lr_scheduler])"
   ]
  },
  {
   "cell_type": "code",
   "execution_count": 90,
   "id": "53a176c3",
   "metadata": {
    "execution": {
     "iopub.execute_input": "2023-06-18T08:49:03.502564Z",
     "iopub.status.busy": "2023-06-18T08:49:03.502182Z",
     "iopub.status.idle": "2023-06-18T08:49:03.761471Z",
     "shell.execute_reply": "2023-06-18T08:49:03.760591Z"
    },
    "papermill": {
     "duration": 2.241015,
     "end_time": "2023-06-18T08:49:03.763596",
     "exception": false,
     "start_time": "2023-06-18T08:49:01.522581",
     "status": "completed"
    },
    "tags": []
   },
   "outputs": [
    {
     "data": {
      "image/png": "[encoded data removed]",
      "text/plain": [
       "<Figure size 640x480 with 1 Axes>"
      ]
     },
     "metadata": {},
     "output_type": "display_data"
    }
   ],
   "source": [
    "plt.plot(history.epoch, [piecewise_constant_fn(epoch) for epoch in history.epoch], \"o-\")\n",
    "plt.axis([0, n_epochs - 1, 0, 0.011])\n",
    "plt.xlabel(\"Epoch\")\n",
    "plt.ylabel(\"Learning Rate\")\n",
    "plt.title(\"Piecewise Constant Scheduling\", fontsize=14)\n",
    "plt.grid(True)\n",
    "plt.show()"
   ]
  },
  {
   "cell_type": "markdown",
   "id": "33bfc103",
   "metadata": {
    "papermill": {
     "duration": 2.045765,
     "end_time": "2023-06-18T08:49:07.806931",
     "exception": false,
     "start_time": "2023-06-18T08:49:05.761166",
     "status": "completed"
    },
    "tags": []
   },
   "source": [
    "### Performance Scheduling"
   ]
  },
  {
   "cell_type": "code",
   "execution_count": 91,
   "id": "83cbd7d3",
   "metadata": {
    "execution": {
     "iopub.execute_input": "2023-06-18T08:49:12.237115Z",
     "iopub.status.busy": "2023-06-18T08:49:12.236382Z",
     "iopub.status.idle": "2023-06-18T08:49:12.278060Z",
     "shell.execute_reply": "2023-06-18T08:49:12.277354Z"
    },
    "papermill": {
     "duration": 2.052925,
     "end_time": "2023-06-18T08:49:12.280275",
     "exception": false,
     "start_time": "2023-06-18T08:49:10.227350",
     "status": "completed"
    },
    "tags": []
   },
   "outputs": [],
   "source": [
    "tf.random.set_seed(42)\n",
    "np.random.seed(42)"
   ]
  },
  {
   "cell_type": "code",
   "execution_count": 92,
   "id": "cc844bed",
   "metadata": {
    "execution": {
     "iopub.execute_input": "2023-06-18T08:49:16.260945Z",
     "iopub.status.busy": "2023-06-18T08:49:16.260229Z",
     "iopub.status.idle": "2023-06-18T08:51:39.139303Z",
     "shell.execute_reply": "2023-06-18T08:51:39.138249Z"
    },
    "papermill": {
     "duration": 144.939799,
     "end_time": "2023-06-18T08:51:39.141770",
     "exception": false,
     "start_time": "2023-06-18T08:49:14.201971",
     "status": "completed"
    },
    "tags": []
   },
   "outputs": [
    {
     "name": "stdout",
     "output_type": "stream",
     "text": [
      "Epoch 1/25\n",
      "1719/1719 [==============================] - 6s 3ms/step - loss: 0.5926 - accuracy: 0.8061 - val_loss: 0.4757 - val_accuracy: 0.8466 - lr: 0.0200\n",
      "Epoch 2/25\n",
      "1719/1719 [==============================] - 5s 3ms/step - loss: 0.4875 - accuracy: 0.8418 - val_loss: 0.5051 - val_accuracy: 0.8492 - lr: 0.0200\n",
      "Epoch 3/25\n",
      "1719/1719 [==============================] - 5s 3ms/step - loss: 0.5097 - accuracy: 0.8420 - val_loss: 0.5790 - val_accuracy: 0.8394 - lr: 0.0200\n",
      "Epoch 4/25\n",
      "1719/1719 [==============================] - 5s 3ms/step - loss: 0.5096 - accuracy: 0.8464 - val_loss: 0.4806 - val_accuracy: 0.8532 - lr: 0.0200\n",
      "Epoch 5/25\n",
      "1719/1719 [==============================] - 6s 3ms/step - loss: 0.4907 - accuracy: 0.8552 - val_loss: 0.5287 - val_accuracy: 0.8510 - lr: 0.0200\n",
      "Epoch 6/25\n",
      "1719/1719 [==============================] - 6s 4ms/step - loss: 0.5003 - accuracy: 0.8549 - val_loss: 0.6254 - val_accuracy: 0.8504 - lr: 0.0200\n",
      "Epoch 7/25\n",
      "1719/1719 [==============================] - 5s 3ms/step - loss: 0.3006 - accuracy: 0.8950 - val_loss: 0.4012 - val_accuracy: 0.8762 - lr: 0.0100\n",
      "Epoch 8/25\n",
      "1719/1719 [==============================] - 5s 3ms/step - loss: 0.2561 - accuracy: 0.9060 - val_loss: 0.3878 - val_accuracy: 0.8756 - lr: 0.0100\n",
      "Epoch 9/25\n",
      "1719/1719 [==============================] - 5s 3ms/step - loss: 0.2311 - accuracy: 0.9155 - val_loss: 0.3813 - val_accuracy: 0.8880 - lr: 0.0100\n",
      "Epoch 10/25\n",
      "1719/1719 [==============================] - 5s 3ms/step - loss: 0.2209 - accuracy: 0.9179 - val_loss: 0.4033 - val_accuracy: 0.8884 - lr: 0.0100\n",
      "Epoch 11/25\n",
      "1719/1719 [==============================] - 5s 3ms/step - loss: 0.2053 - accuracy: 0.9233 - val_loss: 0.4403 - val_accuracy: 0.8788 - lr: 0.0100\n",
      "Epoch 12/25\n",
      "1719/1719 [==============================] - 6s 3ms/step - loss: 0.1977 - accuracy: 0.9263 - val_loss: 0.4592 - val_accuracy: 0.8818 - lr: 0.0100\n",
      "Epoch 13/25\n",
      "1719/1719 [==============================] - 6s 3ms/step - loss: 0.1874 - accuracy: 0.9294 - val_loss: 0.4276 - val_accuracy: 0.8888 - lr: 0.0100\n",
      "Epoch 14/25\n",
      "1719/1719 [==============================] - 5s 3ms/step - loss: 0.1798 - accuracy: 0.9335 - val_loss: 0.4406 - val_accuracy: 0.8832 - lr: 0.0100\n",
      "Epoch 15/25\n",
      "1719/1719 [==============================] - 5s 3ms/step - loss: 0.1183 - accuracy: 0.9537 - val_loss: 0.4171 - val_accuracy: 0.8932 - lr: 0.0050\n",
      "Epoch 16/25\n",
      "1719/1719 [==============================] - 5s 3ms/step - loss: 0.1015 - accuracy: 0.9606 - val_loss: 0.4525 - val_accuracy: 0.8934 - lr: 0.0050\n",
      "Epoch 17/25\n",
      "1719/1719 [==============================] - 6s 3ms/step - loss: 0.0944 - accuracy: 0.9634 - val_loss: 0.4740 - val_accuracy: 0.8908 - lr: 0.0050\n",
      "Epoch 18/25\n",
      "1719/1719 [==============================] - 5s 3ms/step - loss: 0.0865 - accuracy: 0.9667 - val_loss: 0.4759 - val_accuracy: 0.8912 - lr: 0.0050\n",
      "Epoch 19/25\n",
      "1719/1719 [==============================] - 6s 4ms/step - loss: 0.0799 - accuracy: 0.9692 - val_loss: 0.4938 - val_accuracy: 0.8950 - lr: 0.0050\n",
      "Epoch 20/25\n",
      "1719/1719 [==============================] - 5s 3ms/step - loss: 0.0596 - accuracy: 0.9789 - val_loss: 0.4908 - val_accuracy: 0.8974 - lr: 0.0025\n",
      "Epoch 21/25\n",
      "1719/1719 [==============================] - 5s 3ms/step - loss: 0.0530 - accuracy: 0.9815 - val_loss: 0.5000 - val_accuracy: 0.8954 - lr: 0.0025\n",
      "Epoch 22/25\n",
      "1719/1719 [==============================] - 5s 3ms/step - loss: 0.0497 - accuracy: 0.9824 - val_loss: 0.5177 - val_accuracy: 0.8970 - lr: 0.0025\n",
      "Epoch 23/25\n",
      "1719/1719 [==============================] - 6s 3ms/step - loss: 0.0463 - accuracy: 0.9837 - val_loss: 0.5322 - val_accuracy: 0.8958 - lr: 0.0025\n",
      "Epoch 24/25\n",
      "1719/1719 [==============================] - 5s 3ms/step - loss: 0.0433 - accuracy: 0.9849 - val_loss: 0.5429 - val_accuracy: 0.8974 - lr: 0.0025\n",
      "Epoch 25/25\n",
      "1719/1719 [==============================] - 6s 4ms/step - loss: 0.0358 - accuracy: 0.9888 - val_loss: 0.5573 - val_accuracy: 0.8964 - lr: 0.0012\n"
     ]
    }
   ],
   "source": [
    "lr_scheduler = keras.callbacks.ReduceLROnPlateau(factor=0.5, patience=5)\n",
    "\n",
    "model = keras.models.Sequential([\n",
    "    keras.layers.Flatten(input_shape=[28, 28]),\n",
    "    keras.layers.Dense(300, activation=\"selu\", kernel_initializer=\"lecun_normal\"),\n",
    "    keras.layers.Dense(100, activation=\"selu\", kernel_initializer=\"lecun_normal\"),\n",
    "    keras.layers.Dense(10, activation=\"softmax\")\n",
    "])\n",
    "optimizer = keras.optimizers.SGD(learning_rate=0.02, momentum=0.9)\n",
    "model.compile(loss=\"sparse_categorical_crossentropy\", optimizer=optimizer, metrics=[\"accuracy\"])\n",
    "n_epochs = 25\n",
    "history = model.fit(X_train_scaled, y_train, epochs=n_epochs,\n",
    "                    validation_data=(X_valid_scaled, y_valid),\n",
    "                    callbacks=[lr_scheduler])"
   ]
  },
  {
   "cell_type": "code",
   "execution_count": 93,
   "id": "30809770",
   "metadata": {
    "execution": {
     "iopub.execute_input": "2023-06-18T08:51:43.511084Z",
     "iopub.status.busy": "2023-06-18T08:51:43.510719Z",
     "iopub.status.idle": "2023-06-18T08:51:43.882278Z",
     "shell.execute_reply": "2023-06-18T08:51:43.881404Z"
    },
    "papermill": {
     "duration": 2.474038,
     "end_time": "2023-06-18T08:51:43.884329",
     "exception": false,
     "start_time": "2023-06-18T08:51:41.410291",
     "status": "completed"
    },
    "tags": []
   },
   "outputs": [
    {
     "data": {
      "image/png": "[encoded data removed]",
      "text/plain": [
       "<Figure size 640x480 with 2 Axes>"
      ]
     },
     "metadata": {},
     "output_type": "display_data"
    }
   ],
   "source": [
    "plt.plot(history.epoch, history.history[\"lr\"], \"bo-\")\n",
    "plt.xlabel(\"Epoch\")\n",
    "plt.ylabel(\"Learning Rate\", color='b')\n",
    "plt.tick_params('y', colors='b')\n",
    "plt.gca().set_xlim(0, n_epochs - 1)\n",
    "plt.grid(True)\n",
    "\n",
    "ax2 = plt.gca().twinx()\n",
    "ax2.plot(history.epoch, history.history[\"val_loss\"], \"r^-\")\n",
    "ax2.set_ylabel('Validation Loss', color='r')\n",
    "ax2.tick_params('y', colors='r')\n",
    "\n",
    "plt.title(\"Reduce LR on Plateau\", fontsize=14)\n",
    "plt.show()"
   ]
  },
  {
   "cell_type": "markdown",
   "id": "fea5c25e",
   "metadata": {
    "papermill": {
     "duration": 2.746184,
     "end_time": "2023-06-18T08:51:48.805645",
     "exception": false,
     "start_time": "2023-06-18T08:51:46.059461",
     "status": "completed"
    },
    "tags": []
   },
   "source": [
    "### tf.keras schedulers"
   ]
  },
  {
   "cell_type": "code",
   "execution_count": 94,
   "id": "f5df4939",
   "metadata": {
    "execution": {
     "iopub.execute_input": "2023-06-18T08:51:53.074131Z",
     "iopub.status.busy": "2023-06-18T08:51:53.073771Z",
     "iopub.status.idle": "2023-06-18T08:54:09.134808Z",
     "shell.execute_reply": "2023-06-18T08:54:09.132147Z"
    },
    "papermill": {
     "duration": 138.236977,
     "end_time": "2023-06-18T08:54:09.137180",
     "exception": false,
     "start_time": "2023-06-18T08:51:50.900203",
     "status": "completed"
    },
    "tags": []
   },
   "outputs": [
    {
     "name": "stdout",
     "output_type": "stream",
     "text": [
      "Epoch 1/25\n",
      "1719/1719 [==============================] - 6s 3ms/step - loss: 0.4840 - accuracy: 0.8281 - val_loss: 0.3971 - val_accuracy: 0.8628\n",
      "Epoch 2/25\n",
      "1719/1719 [==============================] - 5s 3ms/step - loss: 0.3756 - accuracy: 0.8671 - val_loss: 0.3652 - val_accuracy: 0.8716\n",
      "Epoch 3/25\n",
      "1719/1719 [==============================] - 5s 3ms/step - loss: 0.3428 - accuracy: 0.8781 - val_loss: 0.3712 - val_accuracy: 0.8700\n",
      "Epoch 4/25\n",
      "1719/1719 [==============================] - 5s 3ms/step - loss: 0.3217 - accuracy: 0.8861 - val_loss: 0.3435 - val_accuracy: 0.8798\n",
      "Epoch 5/25\n",
      "1719/1719 [==============================] - 6s 3ms/step - loss: 0.3061 - accuracy: 0.8917 - val_loss: 0.3379 - val_accuracy: 0.8800\n",
      "Epoch 6/25\n",
      "1719/1719 [==============================] - 6s 4ms/step - loss: 0.2922 - accuracy: 0.8962 - val_loss: 0.3361 - val_accuracy: 0.8816\n",
      "Epoch 7/25\n",
      "1719/1719 [==============================] - 5s 3ms/step - loss: 0.2820 - accuracy: 0.9008 - val_loss: 0.3318 - val_accuracy: 0.8804\n",
      "Epoch 8/25\n",
      "1719/1719 [==============================] - 5s 3ms/step - loss: 0.2731 - accuracy: 0.9037 - val_loss: 0.3335 - val_accuracy: 0.8796\n",
      "Epoch 9/25\n",
      "1719/1719 [==============================] - 5s 3ms/step - loss: 0.2650 - accuracy: 0.9051 - val_loss: 0.3241 - val_accuracy: 0.8836\n",
      "Epoch 10/25\n",
      "1719/1719 [==============================] - 5s 3ms/step - loss: 0.2581 - accuracy: 0.9083 - val_loss: 0.3229 - val_accuracy: 0.8820\n",
      "Epoch 11/25\n",
      "1719/1719 [==============================] - 6s 3ms/step - loss: 0.2528 - accuracy: 0.9106 - val_loss: 0.3228 - val_accuracy: 0.8842\n",
      "Epoch 12/25\n",
      "1719/1719 [==============================] - 6s 3ms/step - loss: 0.2473 - accuracy: 0.9136 - val_loss: 0.3275 - val_accuracy: 0.8804\n",
      "Epoch 13/25\n",
      "1719/1719 [==============================] - 6s 3ms/step - loss: 0.2427 - accuracy: 0.9148 - val_loss: 0.3195 - val_accuracy: 0.8862\n",
      "Epoch 14/25\n",
      "1719/1719 [==============================] - 5s 3ms/step - loss: 0.2393 - accuracy: 0.9160 - val_loss: 0.3207 - val_accuracy: 0.8846\n",
      "Epoch 15/25\n",
      "1719/1719 [==============================] - 5s 3ms/step - loss: 0.2355 - accuracy: 0.9178 - val_loss: 0.3181 - val_accuracy: 0.8846\n",
      "Epoch 16/25\n",
      "1719/1719 [==============================] - 5s 3ms/step - loss: 0.2323 - accuracy: 0.9185 - val_loss: 0.3167 - val_accuracy: 0.8886\n",
      "Epoch 17/25\n",
      "1719/1719 [==============================] - 5s 3ms/step - loss: 0.2297 - accuracy: 0.9193 - val_loss: 0.3174 - val_accuracy: 0.8878\n",
      "Epoch 18/25\n",
      "1719/1719 [==============================] - 5s 3ms/step - loss: 0.2270 - accuracy: 0.9207 - val_loss: 0.3163 - val_accuracy: 0.8880\n",
      "Epoch 19/25\n",
      "1719/1719 [==============================] - 6s 4ms/step - loss: 0.2250 - accuracy: 0.9217 - val_loss: 0.3169 - val_accuracy: 0.8880\n",
      "Epoch 20/25\n",
      "1719/1719 [==============================] - 5s 3ms/step - loss: 0.2230 - accuracy: 0.9234 - val_loss: 0.3147 - val_accuracy: 0.8874\n",
      "Epoch 21/25\n",
      "1719/1719 [==============================] - 5s 3ms/step - loss: 0.2210 - accuracy: 0.9232 - val_loss: 0.3162 - val_accuracy: 0.8888\n",
      "Epoch 22/25\n",
      "1719/1719 [==============================] - 5s 3ms/step - loss: 0.2197 - accuracy: 0.9240 - val_loss: 0.3147 - val_accuracy: 0.8906\n",
      "Epoch 23/25\n",
      "1719/1719 [==============================] - 6s 3ms/step - loss: 0.2183 - accuracy: 0.9239 - val_loss: 0.3152 - val_accuracy: 0.8886\n",
      "Epoch 24/25\n",
      "1719/1719 [==============================] - 5s 3ms/step - loss: 0.2170 - accuracy: 0.9254 - val_loss: 0.3147 - val_accuracy: 0.8896\n",
      "Epoch 25/25\n",
      "1719/1719 [==============================] - 6s 4ms/step - loss: 0.2161 - accuracy: 0.9253 - val_loss: 0.3146 - val_accuracy: 0.8908\n"
     ]
    }
   ],
   "source": [
    "model = keras.models.Sequential([\n",
    "    keras.layers.Flatten(input_shape=[28, 28]),\n",
    "    keras.layers.Dense(300, activation=\"selu\", kernel_initializer=\"lecun_normal\"),\n",
    "    keras.layers.Dense(100, activation=\"selu\", kernel_initializer=\"lecun_normal\"),\n",
    "    keras.layers.Dense(10, activation=\"softmax\")\n",
    "])\n",
    "s = 20 * len(X_train) // 32 # number of steps in 20 epochs (batch size = 32)\n",
    "learning_rate = keras.optimizers.schedules.ExponentialDecay(0.01, s, 0.1)\n",
    "optimizer = keras.optimizers.SGD(learning_rate)\n",
    "model.compile(loss=\"sparse_categorical_crossentropy\", optimizer=optimizer, metrics=[\"accuracy\"])\n",
    "n_epochs = 25\n",
    "history = model.fit(X_train_scaled, y_train, epochs=n_epochs,\n",
    "                    validation_data=(X_valid_scaled, y_valid))"
   ]
  },
  {
   "cell_type": "markdown",
   "id": "ec998bc4",
   "metadata": {
    "papermill": {
     "duration": 2.363283,
     "end_time": "2023-06-18T08:54:13.982993",
     "exception": false,
     "start_time": "2023-06-18T08:54:11.619710",
     "status": "completed"
    },
    "tags": []
   },
   "source": [
    "For piecewise constant scheduling, try this:"
   ]
  },
  {
   "cell_type": "code",
   "execution_count": 95,
   "id": "8de2c8d4",
   "metadata": {
    "execution": {
     "iopub.execute_input": "2023-06-18T08:54:18.697241Z",
     "iopub.status.busy": "2023-06-18T08:54:18.696877Z",
     "iopub.status.idle": "2023-06-18T08:54:18.702023Z",
     "shell.execute_reply": "2023-06-18T08:54:18.701011Z"
    },
    "papermill": {
     "duration": 2.336199,
     "end_time": "2023-06-18T08:54:18.704474",
     "exception": false,
     "start_time": "2023-06-18T08:54:16.368275",
     "status": "completed"
    },
    "tags": []
   },
   "outputs": [],
   "source": [
    "learning_rate = keras.optimizers.schedules.PiecewiseConstantDecay(\n",
    "    boundaries=[5. * n_steps_per_epoch, 15. * n_steps_per_epoch],\n",
    "    values=[0.01, 0.005, 0.001])"
   ]
  },
  {
   "cell_type": "markdown",
   "id": "5323f553",
   "metadata": {
    "papermill": {
     "duration": 2.278939,
     "end_time": "2023-06-18T08:54:23.431053",
     "exception": false,
     "start_time": "2023-06-18T08:54:21.152114",
     "status": "completed"
    },
    "tags": []
   },
   "source": [
    "### 1Cycle scheduling"
   ]
  },
  {
   "cell_type": "code",
   "execution_count": 96,
   "id": "cb0b76fd",
   "metadata": {
    "execution": {
     "iopub.execute_input": "2023-06-18T08:54:28.747888Z",
     "iopub.status.busy": "2023-06-18T08:54:28.747497Z",
     "iopub.status.idle": "2023-06-18T08:54:28.758962Z",
     "shell.execute_reply": "2023-06-18T08:54:28.758057Z"
    },
    "papermill": {
     "duration": 2.459663,
     "end_time": "2023-06-18T08:54:28.760990",
     "exception": false,
     "start_time": "2023-06-18T08:54:26.301327",
     "status": "completed"
    },
    "tags": []
   },
   "outputs": [],
   "source": [
    "K = keras.backend\n",
    "\n",
    "class ExponentialLearningRate(keras.callbacks.Callback):\n",
    "    def __init__(self, factor):\n",
    "        self.factor = factor\n",
    "        self.rates = []\n",
    "        self.losses = []\n",
    "    def on_batch_end(self, batch, logs):\n",
    "        self.rates.append(K.get_value(self.model.optimizer.learning_rate))\n",
    "        self.losses.append(logs[\"loss\"])\n",
    "        K.set_value(self.model.optimizer.learning_rate, self.model.optimizer.learning_rate * self.factor)\n",
    "\n",
    "def find_learning_rate(model, X, y, epochs=1, batch_size=32, min_rate=10**-5, max_rate=10):\n",
    "    init_weights = model.get_weights()\n",
    "    iterations = math.ceil(len(X) / batch_size) * epochs\n",
    "    factor = np.exp(np.log(max_rate / min_rate) / iterations)\n",
    "    init_lr = K.get_value(model.optimizer.learning_rate)\n",
    "    K.set_value(model.optimizer.learning_rate, min_rate)\n",
    "    exp_lr = ExponentialLearningRate(factor)\n",
    "    history = model.fit(X, y, epochs=epochs, batch_size=batch_size,\n",
    "                        callbacks=[exp_lr])\n",
    "    K.set_value(model.optimizer.learning_rate, init_lr)\n",
    "    model.set_weights(init_weights)\n",
    "    return exp_lr.rates, exp_lr.losses\n",
    "\n",
    "def plot_lr_vs_loss(rates, losses):\n",
    "    plt.plot(rates, losses)\n",
    "    plt.gca().set_xscale('log')\n",
    "    plt.hlines(min(losses), min(rates), max(rates))\n",
    "    plt.axis([min(rates), max(rates), min(losses), (losses[0] + min(losses)) / 2])\n",
    "    plt.xlabel(\"Learning rate\")\n",
    "    plt.ylabel(\"Loss\")"
   ]
  },
  {
   "cell_type": "markdown",
   "id": "404bd176",
   "metadata": {
    "papermill": {
     "duration": 2.271097,
     "end_time": "2023-06-18T08:54:33.414245",
     "exception": false,
     "start_time": "2023-06-18T08:54:31.143148",
     "status": "completed"
    },
    "tags": []
   },
   "source": [
    "**Warning**: In the `on_batch_end()` method, `logs[\"loss\"]` used to contain the batch loss, but in TensorFlow 2.2.0 it was replaced with the mean loss (since the start of the epoch). This explains why the graph below is much smoother than in the book (if you are using TF 2.2 or above). It also means that there is a lag between the moment the batch loss starts exploding and the moment the explosion becomes clear in the graph. So you should choose a slightly smaller learning rate than you would have chosen with the \"noisy\" graph. Alternatively, you can tweak the `ExponentialLearningRate` callback above so it computes the batch loss (based on the current mean loss and the previous mean loss):\n",
    "\n",
    "```python\n",
    "class ExponentialLearningRate(keras.callbacks.Callback):\n",
    "    def __init__(self, factor):\n",
    "        self.factor = factor\n",
    "        self.rates = []\n",
    "        self.losses = []\n",
    "    def on_epoch_begin(self, epoch, logs=None):\n",
    "        self.prev_loss = 0\n",
    "    def on_batch_end(self, batch, logs=None):\n",
    "        batch_loss = logs[\"loss\"] * (batch + 1) - self.prev_loss * batch\n",
    "        self.prev_loss = logs[\"loss\"]\n",
    "        self.rates.append(K.get_value(self.model.optimizer.learning_rate))\n",
    "        self.losses.append(batch_loss)\n",
    "        K.set_value(self.model.optimizer.learning_rate, self.model.optimizer.learning_rate * self.factor)\n",
    "```"
   ]
  },
  {
   "cell_type": "code",
   "execution_count": 97,
   "id": "299fb1dc",
   "metadata": {
    "execution": {
     "iopub.execute_input": "2023-06-18T08:54:38.179587Z",
     "iopub.status.busy": "2023-06-18T08:54:38.179199Z",
     "iopub.status.idle": "2023-06-18T08:54:38.262962Z",
     "shell.execute_reply": "2023-06-18T08:54:38.262014Z"
    },
    "papermill": {
     "duration": 2.41978,
     "end_time": "2023-06-18T08:54:38.265374",
     "exception": false,
     "start_time": "2023-06-18T08:54:35.845594",
     "status": "completed"
    },
    "tags": []
   },
   "outputs": [],
   "source": [
    "tf.random.set_seed(42)\n",
    "np.random.seed(42)\n",
    "\n",
    "model = keras.models.Sequential([\n",
    "    keras.layers.Flatten(input_shape=[28, 28]),\n",
    "    keras.layers.Dense(300, activation=\"selu\", kernel_initializer=\"lecun_normal\"),\n",
    "    keras.layers.Dense(100, activation=\"selu\", kernel_initializer=\"lecun_normal\"),\n",
    "    keras.layers.Dense(10, activation=\"softmax\")\n",
    "])\n",
    "model.compile(loss=\"sparse_categorical_crossentropy\",\n",
    "              optimizer=keras.optimizers.SGD(learning_rate=1e-3),\n",
    "              metrics=[\"accuracy\"])"
   ]
  },
  {
   "cell_type": "code",
   "execution_count": 98,
   "id": "47a13dfb",
   "metadata": {
    "execution": {
     "iopub.execute_input": "2023-06-18T08:54:43.073153Z",
     "iopub.status.busy": "2023-06-18T08:54:43.072792Z",
     "iopub.status.idle": "2023-06-18T08:54:47.184410Z",
     "shell.execute_reply": "2023-06-18T08:54:47.183524Z"
    },
    "papermill": {
     "duration": 6.485113,
     "end_time": "2023-06-18T08:54:47.186583",
     "exception": false,
     "start_time": "2023-06-18T08:54:40.701470",
     "status": "completed"
    },
    "tags": []
   },
   "outputs": [
    {
     "name": "stdout",
     "output_type": "stream",
     "text": [
      "430/430 [==============================] - 2s 4ms/step - loss: nan - accuracy: 0.3618\n"
     ]
    },
    {
     "data": {
      "image/png": "[encoded data removed]",
      "text/plain": [
       "<Figure size 640x480 with 1 Axes>"
      ]
     },
     "metadata": {},
     "output_type": "display_data"
    }
   ],
   "source": [
    "batch_size = 128\n",
    "rates, losses = find_learning_rate(model, X_train_scaled, y_train, epochs=1, batch_size=batch_size)\n",
    "plot_lr_vs_loss(rates, losses)"
   ]
  },
  {
   "cell_type": "code",
   "execution_count": 99,
   "id": "0a9f3c0f",
   "metadata": {
    "execution": {
     "iopub.execute_input": "2023-06-18T08:54:51.845381Z",
     "iopub.status.busy": "2023-06-18T08:54:51.845018Z",
     "iopub.status.idle": "2023-06-18T08:54:51.857265Z",
     "shell.execute_reply": "2023-06-18T08:54:51.856290Z"
    },
    "papermill": {
     "duration": 2.30385,
     "end_time": "2023-06-18T08:54:51.859288",
     "exception": false,
     "start_time": "2023-06-18T08:54:49.555438",
     "status": "completed"
    },
    "tags": []
   },
   "outputs": [],
   "source": [
    "class OneCycleScheduler(keras.callbacks.Callback):\n",
    "    def __init__(self, iterations, max_rate, start_rate=None,\n",
    "                 last_iterations=None, last_rate=None):\n",
    "        self.iterations = iterations\n",
    "        self.max_rate = max_rate\n",
    "        self.start_rate = start_rate or max_rate / 10\n",
    "        self.last_iterations = last_iterations or iterations // 10 + 1\n",
    "        self.half_iteration = (iterations - self.last_iterations) // 2\n",
    "        self.last_rate = last_rate or self.start_rate / 1000\n",
    "        self.iteration = 0\n",
    "    def _interpolate(self, iter1, iter2, rate1, rate2):\n",
    "        return ((rate2 - rate1) * (self.iteration - iter1)\n",
    "                / (iter2 - iter1) + rate1)\n",
    "    def on_batch_begin(self, batch, logs):\n",
    "        if self.iteration < self.half_iteration:\n",
    "            rate = self._interpolate(0, self.half_iteration, self.start_rate, self.max_rate)\n",
    "        elif self.iteration < 2 * self.half_iteration:\n",
    "            rate = self._interpolate(self.half_iteration, 2 * self.half_iteration,\n",
    "                                     self.max_rate, self.start_rate)\n",
    "        else:\n",
    "            rate = self._interpolate(2 * self.half_iteration, self.iterations,\n",
    "                                     self.start_rate, self.last_rate)\n",
    "        self.iteration += 1\n",
    "        K.set_value(self.model.optimizer.learning_rate, rate)"
   ]
  },
  {
   "cell_type": "code",
   "execution_count": 100,
   "id": "09aaf727",
   "metadata": {
    "execution": {
     "iopub.execute_input": "2023-06-18T08:54:57.118042Z",
     "iopub.status.busy": "2023-06-18T08:54:57.117686Z",
     "iopub.status.idle": "2023-06-18T08:55:39.732957Z",
     "shell.execute_reply": "2023-06-18T08:55:39.731899Z"
    },
    "papermill": {
     "duration": 45.4352,
     "end_time": "2023-06-18T08:55:39.735344",
     "exception": false,
     "start_time": "2023-06-18T08:54:54.300144",
     "status": "completed"
    },
    "tags": []
   },
   "outputs": [
    {
     "name": "stdout",
     "output_type": "stream",
     "text": [
      "Epoch 1/25\n",
      "430/430 [==============================] - 2s 4ms/step - loss: nan - accuracy: 0.1005 - val_loss: nan - val_accuracy: 0.0914\n",
      "Epoch 2/25\n",
      "430/430 [==============================] - 2s 4ms/step - loss: nan - accuracy: 0.1008 - val_loss: nan - val_accuracy: 0.0914\n",
      "Epoch 3/25\n",
      "430/430 [==============================] - 2s 4ms/step - loss: nan - accuracy: 0.1008 - val_loss: nan - val_accuracy: 0.0914\n",
      "Epoch 4/25\n",
      "430/430 [==============================] - 2s 4ms/step - loss: nan - accuracy: 0.1008 - val_loss: nan - val_accuracy: 0.0914\n",
      "Epoch 5/25\n",
      "430/430 [==============================] - 2s 4ms/step - loss: nan - accuracy: 0.1008 - val_loss: nan - val_accuracy: 0.0914\n",
      "Epoch 6/25\n",
      "430/430 [==============================] - 2s 4ms/step - loss: nan - accuracy: 0.1008 - val_loss: nan - val_accuracy: 0.0914\n",
      "Epoch 7/25\n",
      "430/430 [==============================] - 2s 4ms/step - loss: nan - accuracy: 0.1008 - val_loss: nan - val_accuracy: 0.0914\n",
      "Epoch 8/25\n",
      "430/430 [==============================] - 2s 4ms/step - loss: nan - accuracy: 0.1008 - val_loss: nan - val_accuracy: 0.0914\n",
      "Epoch 9/25\n",
      "430/430 [==============================] - 2s 4ms/step - loss: nan - accuracy: 0.1008 - val_loss: nan - val_accuracy: 0.0914\n",
      "Epoch 10/25\n",
      "430/430 [==============================] - 2s 4ms/step - loss: nan - accuracy: 0.1008 - val_loss: nan - val_accuracy: 0.0914\n",
      "Epoch 11/25\n",
      "430/430 [==============================] - 2s 4ms/step - loss: nan - accuracy: 0.1008 - val_loss: nan - val_accuracy: 0.0914\n",
      "Epoch 12/25\n",
      "430/430 [==============================] - 2s 4ms/step - loss: nan - accuracy: 0.1008 - val_loss: nan - val_accuracy: 0.0914\n",
      "Epoch 13/25\n",
      "430/430 [==============================] - 2s 4ms/step - loss: nan - accuracy: 0.1008 - val_loss: nan - val_accuracy: 0.0914\n",
      "Epoch 14/25\n",
      "430/430 [==============================] - 2s 4ms/step - loss: nan - accuracy: 0.1008 - val_loss: nan - val_accuracy: 0.0914\n",
      "Epoch 15/25\n",
      "430/430 [==============================] - 2s 4ms/step - loss: nan - accuracy: 0.1008 - val_loss: nan - val_accuracy: 0.0914\n",
      "Epoch 16/25\n",
      "430/430 [==============================] - 2s 4ms/step - loss: nan - accuracy: 0.1008 - val_loss: nan - val_accuracy: 0.0914\n",
      "Epoch 17/25\n",
      "430/430 [==============================] - 2s 4ms/step - loss: nan - accuracy: 0.1008 - val_loss: nan - val_accuracy: 0.0914\n",
      "Epoch 18/25\n",
      "430/430 [==============================] - 2s 4ms/step - loss: nan - accuracy: 0.1008 - val_loss: nan - val_accuracy: 0.0914\n",
      "Epoch 19/25\n",
      "430/430 [==============================] - 3s 6ms/step - loss: nan - accuracy: 0.1008 - val_loss: nan - val_accuracy: 0.0914\n",
      "Epoch 20/25\n",
      "430/430 [==============================] - 2s 5ms/step - loss: nan - accuracy: 0.1008 - val_loss: nan - val_accuracy: 0.0914\n",
      "Epoch 21/25\n",
      "430/430 [==============================] - 2s 5ms/step - loss: nan - accuracy: 0.1008 - val_loss: nan - val_accuracy: 0.0914\n",
      "Epoch 22/25\n",
      "430/430 [==============================] - 2s 4ms/step - loss: nan - accuracy: 0.1008 - val_loss: nan - val_accuracy: 0.0914\n",
      "Epoch 23/25\n",
      "430/430 [==============================] - 2s 4ms/step - loss: nan - accuracy: 0.1008 - val_loss: nan - val_accuracy: 0.0914\n",
      "Epoch 24/25\n",
      "430/430 [==============================] - 2s 4ms/step - loss: nan - accuracy: 0.1008 - val_loss: nan - val_accuracy: 0.0914\n",
      "Epoch 25/25\n",
      "430/430 [==============================] - 2s 4ms/step - loss: nan - accuracy: 0.1008 - val_loss: nan - val_accuracy: 0.0914\n"
     ]
    }
   ],
   "source": [
    "n_epochs = 25\n",
    "onecycle = OneCycleScheduler(math.ceil(len(X_train) / batch_size) * n_epochs, max_rate=0.05)\n",
    "history = model.fit(X_train_scaled, y_train, epochs=n_epochs, batch_size=batch_size,\n",
    "                    validation_data=(X_valid_scaled, y_valid),\n",
    "                    callbacks=[onecycle])"
   ]
  },
  {
   "cell_type": "markdown",
   "id": "4a818b9c",
   "metadata": {
    "papermill": {
     "duration": 2.363045,
     "end_time": "2023-06-18T08:55:44.569261",
     "exception": false,
     "start_time": "2023-06-18T08:55:42.206216",
     "status": "completed"
    },
    "tags": []
   },
   "source": [
    "# Avoiding Overfitting Through Regularization"
   ]
  },
  {
   "cell_type": "markdown",
   "id": "4d3a9c4d",
   "metadata": {
    "papermill": {
     "duration": 2.450455,
     "end_time": "2023-06-18T08:55:49.622464",
     "exception": false,
     "start_time": "2023-06-18T08:55:47.172009",
     "status": "completed"
    },
    "tags": []
   },
   "source": [
    "## $\\ell_1$ and $\\ell_2$ regularization"
   ]
  },
  {
   "cell_type": "code",
   "execution_count": 101,
   "id": "f1c6302d",
   "metadata": {
    "execution": {
     "iopub.execute_input": "2023-06-18T08:55:54.395915Z",
     "iopub.status.busy": "2023-06-18T08:55:54.395508Z",
     "iopub.status.idle": "2023-06-18T08:55:54.403004Z",
     "shell.execute_reply": "2023-06-18T08:55:54.402076Z"
    },
    "papermill": {
     "duration": 2.349829,
     "end_time": "2023-06-18T08:55:54.404999",
     "exception": false,
     "start_time": "2023-06-18T08:55:52.055170",
     "status": "completed"
    },
    "tags": []
   },
   "outputs": [],
   "source": [
    "layer = keras.layers.Dense(100, activation=\"elu\",\n",
    "                           kernel_initializer=\"he_normal\",\n",
    "                           kernel_regularizer=keras.regularizers.l2(0.01))\n",
    "# or l1(0.1) for ℓ1 regularization with a factor of 0.1\n",
    "# or l1_l2(0.1, 0.01) for both ℓ1 and ℓ2 regularization, with factors 0.1 and 0.01 respectively"
   ]
  },
  {
   "cell_type": "code",
   "execution_count": 102,
   "id": "865a108b",
   "metadata": {
    "execution": {
     "iopub.execute_input": "2023-06-18T08:55:59.852271Z",
     "iopub.status.busy": "2023-06-18T08:55:59.851862Z",
     "iopub.status.idle": "2023-06-18T08:56:14.402869Z",
     "shell.execute_reply": "2023-06-18T08:56:14.401889Z"
    },
    "papermill": {
     "duration": 17.429042,
     "end_time": "2023-06-18T08:56:14.405096",
     "exception": false,
     "start_time": "2023-06-18T08:55:56.976054",
     "status": "completed"
    },
    "tags": []
   },
   "outputs": [
    {
     "name": "stdout",
     "output_type": "stream",
     "text": [
      "Epoch 1/2\n",
      "1719/1719 [==============================] - 8s 4ms/step - loss: 1.6038 - accuracy: 0.8119 - val_loss: 0.7086 - val_accuracy: 0.8390\n",
      "Epoch 2/2\n",
      "1719/1719 [==============================] - 6s 4ms/step - loss: 0.7201 - accuracy: 0.8271 - val_loss: 0.6892 - val_accuracy: 0.8344\n"
     ]
    }
   ],
   "source": [
    "model = keras.models.Sequential([\n",
    "    keras.layers.Flatten(input_shape=[28, 28]),\n",
    "    keras.layers.Dense(300, activation=\"elu\",\n",
    "                       kernel_initializer=\"he_normal\",\n",
    "                       kernel_regularizer=keras.regularizers.l2(0.01)),\n",
    "    keras.layers.Dense(100, activation=\"elu\",\n",
    "                       kernel_initializer=\"he_normal\",\n",
    "                       kernel_regularizer=keras.regularizers.l2(0.01)),\n",
    "    keras.layers.Dense(10, activation=\"softmax\",\n",
    "                       kernel_regularizer=keras.regularizers.l2(0.01))\n",
    "])\n",
    "model.compile(loss=\"sparse_categorical_crossentropy\", optimizer=\"nadam\", metrics=[\"accuracy\"])\n",
    "n_epochs = 2\n",
    "history = model.fit(X_train_scaled, y_train, epochs=n_epochs,\n",
    "                    validation_data=(X_valid_scaled, y_valid))"
   ]
  },
  {
   "cell_type": "code",
   "execution_count": 103,
   "id": "3acf1b18",
   "metadata": {
    "execution": {
     "iopub.execute_input": "2023-06-18T08:56:19.307912Z",
     "iopub.status.busy": "2023-06-18T08:56:19.307550Z",
     "iopub.status.idle": "2023-06-18T08:56:41.051735Z",
     "shell.execute_reply": "2023-06-18T08:56:41.050684Z"
    },
    "papermill": {
     "duration": 24.113885,
     "end_time": "2023-06-18T08:56:41.054340",
     "exception": false,
     "start_time": "2023-06-18T08:56:16.940455",
     "status": "completed"
    },
    "tags": []
   },
   "outputs": [
    {
     "name": "stdout",
     "output_type": "stream",
     "text": [
      "Epoch 1/2\n",
      "1719/1719 [==============================] - 8s 4ms/step - loss: 1.5981 - accuracy: 0.8136 - val_loss: 0.7052 - val_accuracy: 0.8370\n",
      "Epoch 2/2\n",
      "1719/1719 [==============================] - 7s 4ms/step - loss: 0.7241 - accuracy: 0.8265 - val_loss: 0.6952 - val_accuracy: 0.8340\n"
     ]
    }
   ],
   "source": [
    "from functools import partial\n",
    "\n",
    "RegularizedDense = partial(keras.layers.Dense,\n",
    "                           activation=\"elu\",\n",
    "                           kernel_initializer=\"he_normal\",\n",
    "                           kernel_regularizer=keras.regularizers.l2(0.01))\n",
    "\n",
    "model = keras.models.Sequential([\n",
    "    keras.layers.Flatten(input_shape=[28, 28]),\n",
    "    RegularizedDense(300),\n",
    "    RegularizedDense(100),\n",
    "    RegularizedDense(10, activation=\"softmax\")\n",
    "])\n",
    "model.compile(loss=\"sparse_categorical_crossentropy\", optimizer=\"nadam\", metrics=[\"accuracy\"])\n",
    "n_epochs = 2\n",
    "history = model.fit(X_train_scaled, y_train, epochs=n_epochs,\n",
    "                    validation_data=(X_valid_scaled, y_valid))"
   ]
  },
  {
   "cell_type": "markdown",
   "id": "876f7516",
   "metadata": {
    "papermill": {
     "duration": 2.48412,
     "end_time": "2023-06-18T08:56:46.118311",
     "exception": false,
     "start_time": "2023-06-18T08:56:43.634191",
     "status": "completed"
    },
    "tags": []
   },
   "source": [
    "## Dropout"
   ]
  },
  {
   "cell_type": "code",
   "execution_count": 104,
   "id": "efd8ec9c",
   "metadata": {
    "execution": {
     "iopub.execute_input": "2023-06-18T08:56:51.140168Z",
     "iopub.status.busy": "2023-06-18T08:56:51.139816Z",
     "iopub.status.idle": "2023-06-18T08:57:13.738719Z",
     "shell.execute_reply": "2023-06-18T08:57:13.737683Z"
    },
    "papermill": {
     "duration": 25.154078,
     "end_time": "2023-06-18T08:57:13.741201",
     "exception": false,
     "start_time": "2023-06-18T08:56:48.587123",
     "status": "completed"
    },
    "tags": []
   },
   "outputs": [
    {
     "name": "stdout",
     "output_type": "stream",
     "text": [
      "Epoch 1/2\n",
      "1719/1719 [==============================] - 8s 4ms/step - loss: 0.5715 - accuracy: 0.8042 - val_loss: 0.3604 - val_accuracy: 0.8658\n",
      "Epoch 2/2\n",
      "1719/1719 [==============================] - 7s 4ms/step - loss: 0.4241 - accuracy: 0.8440 - val_loss: 0.3427 - val_accuracy: 0.8692\n"
     ]
    }
   ],
   "source": [
    "model = keras.models.Sequential([\n",
    "    keras.layers.Flatten(input_shape=[28, 28]),\n",
    "    keras.layers.Dropout(rate=0.2),\n",
    "    keras.layers.Dense(300, activation=\"elu\", kernel_initializer=\"he_normal\"),\n",
    "    keras.layers.Dropout(rate=0.2),\n",
    "    keras.layers.Dense(100, activation=\"elu\", kernel_initializer=\"he_normal\"),\n",
    "    keras.layers.Dropout(rate=0.2),\n",
    "    keras.layers.Dense(10, activation=\"softmax\")\n",
    "])\n",
    "model.compile(loss=\"sparse_categorical_crossentropy\", optimizer=\"nadam\", metrics=[\"accuracy\"])\n",
    "n_epochs = 2\n",
    "history = model.fit(X_train_scaled, y_train, epochs=n_epochs,\n",
    "                    validation_data=(X_valid_scaled, y_valid))"
   ]
  },
  {
   "cell_type": "markdown",
   "id": "0b3dea61",
   "metadata": {
    "papermill": {
     "duration": 2.532609,
     "end_time": "2023-06-18T08:57:18.797108",
     "exception": false,
     "start_time": "2023-06-18T08:57:16.264499",
     "status": "completed"
    },
    "tags": []
   },
   "source": [
    "## Alpha Dropout"
   ]
  },
  {
   "cell_type": "code",
   "execution_count": 105,
   "id": "ce451c64",
   "metadata": {
    "execution": {
     "iopub.execute_input": "2023-06-18T08:57:23.699586Z",
     "iopub.status.busy": "2023-06-18T08:57:23.699195Z",
     "iopub.status.idle": "2023-06-18T08:57:23.720683Z",
     "shell.execute_reply": "2023-06-18T08:57:23.719778Z"
    },
    "papermill": {
     "duration": 2.41958,
     "end_time": "2023-06-18T08:57:23.723312",
     "exception": false,
     "start_time": "2023-06-18T08:57:21.303732",
     "status": "completed"
    },
    "tags": []
   },
   "outputs": [],
   "source": [
    "tf.random.set_seed(42)\n",
    "np.random.seed(42)"
   ]
  },
  {
   "cell_type": "code",
   "execution_count": 106,
   "id": "4394bcc7",
   "metadata": {
    "execution": {
     "iopub.execute_input": "2023-06-18T08:57:28.754400Z",
     "iopub.status.busy": "2023-06-18T08:57:28.754040Z",
     "iopub.status.idle": "2023-06-18T08:59:29.326414Z",
     "shell.execute_reply": "2023-06-18T08:59:29.325434Z"
    },
    "papermill": {
     "duration": 123.017271,
     "end_time": "2023-06-18T08:59:29.328623",
     "exception": false,
     "start_time": "2023-06-18T08:57:26.311352",
     "status": "completed"
    },
    "tags": []
   },
   "outputs": [
    {
     "name": "stdout",
     "output_type": "stream",
     "text": [
      "Epoch 1/20\n",
      "1719/1719 [==============================] - 7s 4ms/step - loss: 0.6654 - accuracy: 0.7586 - val_loss: 0.5571 - val_accuracy: 0.8486\n",
      "Epoch 2/20\n",
      "1719/1719 [==============================] - 6s 3ms/step - loss: 0.5587 - accuracy: 0.7948 - val_loss: 0.5534 - val_accuracy: 0.8504\n",
      "Epoch 3/20\n",
      "1719/1719 [==============================] - 6s 3ms/step - loss: 0.5281 - accuracy: 0.8047 - val_loss: 0.5179 - val_accuracy: 0.8502\n",
      "Epoch 4/20\n",
      "1719/1719 [==============================] - 6s 3ms/step - loss: 0.5083 - accuracy: 0.8118 - val_loss: 0.4454 - val_accuracy: 0.8684\n",
      "Epoch 5/20\n",
      "1719/1719 [==============================] - 6s 3ms/step - loss: 0.4927 - accuracy: 0.8171 - val_loss: 0.4662 - val_accuracy: 0.8552\n",
      "Epoch 6/20\n",
      "1719/1719 [==============================] - 7s 4ms/step - loss: 0.4833 - accuracy: 0.8208 - val_loss: 0.4760 - val_accuracy: 0.8592\n",
      "Epoch 7/20\n",
      "1719/1719 [==============================] - 6s 3ms/step - loss: 0.4724 - accuracy: 0.8239 - val_loss: 0.4652 - val_accuracy: 0.8610\n",
      "Epoch 8/20\n",
      "1719/1719 [==============================] - 6s 3ms/step - loss: 0.4679 - accuracy: 0.8263 - val_loss: 0.4580 - val_accuracy: 0.8602\n",
      "Epoch 9/20\n",
      "1719/1719 [==============================] - 6s 3ms/step - loss: 0.4572 - accuracy: 0.8313 - val_loss: 0.4367 - val_accuracy: 0.8668\n",
      "Epoch 10/20\n",
      "1719/1719 [==============================] - 6s 3ms/step - loss: 0.4521 - accuracy: 0.8314 - val_loss: 0.4609 - val_accuracy: 0.8646\n",
      "Epoch 11/20\n",
      "1719/1719 [==============================] - 6s 4ms/step - loss: 0.4507 - accuracy: 0.8333 - val_loss: 0.4115 - val_accuracy: 0.8692\n",
      "Epoch 12/20\n",
      "1719/1719 [==============================] - 7s 4ms/step - loss: 0.4465 - accuracy: 0.8341 - val_loss: 0.5440 - val_accuracy: 0.8510\n",
      "Epoch 13/20\n",
      "1719/1719 [==============================] - 6s 3ms/step - loss: 0.4396 - accuracy: 0.8374 - val_loss: 0.4400 - val_accuracy: 0.8786\n",
      "Epoch 14/20\n",
      "1719/1719 [==============================] - 5s 3ms/step - loss: 0.4381 - accuracy: 0.8369 - val_loss: 0.4532 - val_accuracy: 0.8616\n",
      "Epoch 15/20\n",
      "1719/1719 [==============================] - 6s 3ms/step - loss: 0.4329 - accuracy: 0.8396 - val_loss: 0.4484 - val_accuracy: 0.8686\n",
      "Epoch 16/20\n",
      "1719/1719 [==============================] - 6s 3ms/step - loss: 0.4288 - accuracy: 0.8412 - val_loss: 0.4252 - val_accuracy: 0.8680\n",
      "Epoch 17/20\n",
      "1719/1719 [==============================] - 7s 4ms/step - loss: 0.4273 - accuracy: 0.8409 - val_loss: 0.5118 - val_accuracy: 0.8580\n",
      "Epoch 18/20\n",
      "1719/1719 [==============================] - 6s 3ms/step - loss: 0.4227 - accuracy: 0.8431 - val_loss: 0.5066 - val_accuracy: 0.8680\n",
      "Epoch 19/20\n",
      "1719/1719 [==============================] - 6s 3ms/step - loss: 0.4220 - accuracy: 0.8417 - val_loss: 0.4547 - val_accuracy: 0.8740\n",
      "Epoch 20/20\n",
      "1719/1719 [==============================] - 6s 3ms/step - loss: 0.4193 - accuracy: 0.8447 - val_loss: 0.4063 - val_accuracy: 0.8764\n"
     ]
    }
   ],
   "source": [
    "model = keras.models.Sequential([\n",
    "    keras.layers.Flatten(input_shape=[28, 28]),\n",
    "    keras.layers.AlphaDropout(rate=0.2),\n",
    "    keras.layers.Dense(300, activation=\"selu\", kernel_initializer=\"lecun_normal\"),\n",
    "    keras.layers.AlphaDropout(rate=0.2),\n",
    "    keras.layers.Dense(100, activation=\"selu\", kernel_initializer=\"lecun_normal\"),\n",
    "    keras.layers.AlphaDropout(rate=0.2),\n",
    "    keras.layers.Dense(10, activation=\"softmax\")\n",
    "])\n",
    "optimizer = keras.optimizers.SGD(learning_rate=0.01, momentum=0.9, nesterov=True)\n",
    "model.compile(loss=\"sparse_categorical_crossentropy\", optimizer=optimizer, metrics=[\"accuracy\"])\n",
    "n_epochs = 20\n",
    "history = model.fit(X_train_scaled, y_train, epochs=n_epochs,\n",
    "                    validation_data=(X_valid_scaled, y_valid))"
   ]
  },
  {
   "cell_type": "code",
   "execution_count": 107,
   "id": "f0c4c1c5",
   "metadata": {
    "execution": {
     "iopub.execute_input": "2023-06-18T08:59:34.712000Z",
     "iopub.status.busy": "2023-06-18T08:59:34.711635Z",
     "iopub.status.idle": "2023-06-18T08:59:36.096863Z",
     "shell.execute_reply": "2023-06-18T08:59:36.095933Z"
    },
    "papermill": {
     "duration": 4.075796,
     "end_time": "2023-06-18T08:59:36.098944",
     "exception": false,
     "start_time": "2023-06-18T08:59:32.023148",
     "status": "completed"
    },
    "tags": []
   },
   "outputs": [
    {
     "name": "stdout",
     "output_type": "stream",
     "text": [
      "313/313 [==============================] - 1s 2ms/step - loss: 0.4472 - accuracy: 0.8639\n"
     ]
    },
    {
     "data": {
      "text/plain": [
       "[0.44718265533447266, 0.8639000058174133]"
      ]
     },
     "execution_count": 107,
     "metadata": {},
     "output_type": "execute_result"
    }
   ],
   "source": [
    "model.evaluate(X_test_scaled, y_test)"
   ]
  },
  {
   "cell_type": "code",
   "execution_count": 108,
   "id": "08a5e6af",
   "metadata": {
    "execution": {
     "iopub.execute_input": "2023-06-18T08:59:41.872330Z",
     "iopub.status.busy": "2023-06-18T08:59:41.871953Z",
     "iopub.status.idle": "2023-06-18T08:59:46.244303Z",
     "shell.execute_reply": "2023-06-18T08:59:46.243419Z"
    },
    "papermill": {
     "duration": 7.430286,
     "end_time": "2023-06-18T08:59:46.246221",
     "exception": false,
     "start_time": "2023-06-18T08:59:38.815935",
     "status": "completed"
    },
    "tags": []
   },
   "outputs": [
    {
     "name": "stdout",
     "output_type": "stream",
     "text": [
      "1719/1719 [==============================] - 4s 2ms/step - loss: 0.3279 - accuracy: 0.8868\n"
     ]
    },
    {
     "data": {
      "text/plain": [
       "[0.3279283046722412, 0.8868181705474854]"
      ]
     },
     "execution_count": 108,
     "metadata": {},
     "output_type": "execute_result"
    }
   ],
   "source": [
    "model.evaluate(X_train_scaled, y_train)"
   ]
  },
  {
   "cell_type": "code",
   "execution_count": 109,
   "id": "c474fa52",
   "metadata": {
    "execution": {
     "iopub.execute_input": "2023-06-18T08:59:51.727125Z",
     "iopub.status.busy": "2023-06-18T08:59:51.726771Z",
     "iopub.status.idle": "2023-06-18T09:00:02.391215Z",
     "shell.execute_reply": "2023-06-18T09:00:02.389981Z"
    },
    "papermill": {
     "duration": 13.320237,
     "end_time": "2023-06-18T09:00:02.394156",
     "exception": false,
     "start_time": "2023-06-18T08:59:49.073919",
     "status": "completed"
    },
    "tags": []
   },
   "outputs": [
    {
     "name": "stdout",
     "output_type": "stream",
     "text": [
      "1719/1719 [==============================] - 5s 3ms/step - loss: 0.4199 - accuracy: 0.8435\n"
     ]
    }
   ],
   "source": [
    "history = model.fit(X_train_scaled, y_train)"
   ]
  },
  {
   "cell_type": "markdown",
   "id": "0ac557bb",
   "metadata": {
    "papermill": {
     "duration": 2.716797,
     "end_time": "2023-06-18T09:00:07.886473",
     "exception": false,
     "start_time": "2023-06-18T09:00:05.169676",
     "status": "completed"
    },
    "tags": []
   },
   "source": [
    "## MC Dropout"
   ]
  },
  {
   "cell_type": "code",
   "execution_count": 110,
   "id": "df9692f9",
   "metadata": {
    "execution": {
     "iopub.execute_input": "2023-06-18T09:00:13.627072Z",
     "iopub.status.busy": "2023-06-18T09:00:13.626696Z",
     "iopub.status.idle": "2023-06-18T09:00:13.642861Z",
     "shell.execute_reply": "2023-06-18T09:00:13.641959Z"
    },
    "papermill": {
     "duration": 3.049465,
     "end_time": "2023-06-18T09:00:13.645196",
     "exception": false,
     "start_time": "2023-06-18T09:00:10.595731",
     "status": "completed"
    },
    "tags": []
   },
   "outputs": [],
   "source": [
    "tf.random.set_seed(42)\n",
    "np.random.seed(42)"
   ]
  },
  {
   "cell_type": "code",
   "execution_count": 111,
   "id": "ab94ec7d",
   "metadata": {
    "execution": {
     "iopub.execute_input": "2023-06-18T09:00:19.146619Z",
     "iopub.status.busy": "2023-06-18T09:00:19.146238Z",
     "iopub.status.idle": "2023-06-18T09:00:26.773819Z",
     "shell.execute_reply": "2023-06-18T09:00:26.772752Z"
    },
    "papermill": {
     "duration": 10.365068,
     "end_time": "2023-06-18T09:00:26.776468",
     "exception": false,
     "start_time": "2023-06-18T09:00:16.411400",
     "status": "completed"
    },
    "tags": []
   },
   "outputs": [],
   "source": [
    "y_probas = np.stack([model(X_test_scaled, training=True)\n",
    "                     for sample in range(100)])\n",
    "y_proba = y_probas.mean(axis=0)\n",
    "y_std = y_probas.std(axis=0)"
   ]
  },
  {
   "cell_type": "code",
   "execution_count": 112,
   "id": "98658c7c",
   "metadata": {
    "execution": {
     "iopub.execute_input": "2023-06-18T09:00:32.450781Z",
     "iopub.status.busy": "2023-06-18T09:00:32.450396Z",
     "iopub.status.idle": "2023-06-18T09:00:32.614122Z",
     "shell.execute_reply": "2023-06-18T09:00:32.613266Z"
    },
    "papermill": {
     "duration": 2.979971,
     "end_time": "2023-06-18T09:00:32.616452",
     "exception": false,
     "start_time": "2023-06-18T09:00:29.636481",
     "status": "completed"
    },
    "tags": []
   },
   "outputs": [
    {
     "name": "stdout",
     "output_type": "stream",
     "text": [
      "1/1 [==============================] - 0s 94ms/step\n"
     ]
    },
    {
     "data": {
      "text/plain": [
       "array([[0.  , 0.  , 0.  , 0.  , 0.  , 0.  , 0.  , 0.01, 0.  , 0.99]],\n",
       "      dtype=float32)"
      ]
     },
     "execution_count": 112,
     "metadata": {},
     "output_type": "execute_result"
    }
   ],
   "source": [
    "np.round(model.predict(X_test_scaled[:1]), 2)"
   ]
  },
  {
   "cell_type": "code",
   "execution_count": 113,
   "id": "31220051",
   "metadata": {
    "execution": {
     "iopub.execute_input": "2023-06-18T09:00:38.113050Z",
     "iopub.status.busy": "2023-06-18T09:00:38.112689Z",
     "iopub.status.idle": "2023-06-18T09:00:38.154484Z",
     "shell.execute_reply": "2023-06-18T09:00:38.153449Z"
    },
    "papermill": {
     "duration": 2.832329,
     "end_time": "2023-06-18T09:00:38.157126",
     "exception": false,
     "start_time": "2023-06-18T09:00:35.324797",
     "status": "completed"
    },
    "tags": []
   },
   "outputs": [
    {
     "data": {
      "text/plain": [
       "array([[[0.  , 0.  , 0.  , 0.  , 0.  , 0.55, 0.  , 0.08, 0.  , 0.37]],\n",
       "\n",
       "       [[0.  , 0.  , 0.  , 0.  , 0.  , 0.  , 0.  , 0.09, 0.  , 0.91]],\n",
       "\n",
       "       [[0.  , 0.  , 0.  , 0.  , 0.  , 0.04, 0.  , 0.07, 0.  , 0.89]],\n",
       "\n",
       "       [[0.  , 0.  , 0.  , 0.  , 0.  , 0.  , 0.  , 0.08, 0.  , 0.92]],\n",
       "\n",
       "       [[0.  , 0.  , 0.  , 0.  , 0.  , 0.25, 0.  , 0.1 , 0.  , 0.65]],\n",
       "\n",
       "       [[0.  , 0.  , 0.  , 0.  , 0.  , 0.27, 0.  , 0.27, 0.  , 0.46]],\n",
       "\n",
       "       [[0.  , 0.  , 0.  , 0.  , 0.  , 0.13, 0.  , 0.05, 0.  , 0.82]],\n",
       "\n",
       "       [[0.  , 0.  , 0.  , 0.  , 0.  , 0.73, 0.  , 0.14, 0.  , 0.13]],\n",
       "\n",
       "       [[0.  , 0.  , 0.  , 0.  , 0.  , 0.01, 0.  , 0.47, 0.  , 0.52]],\n",
       "\n",
       "       [[0.  , 0.  , 0.  , 0.  , 0.  , 0.  , 0.  , 0.03, 0.  , 0.97]],\n",
       "\n",
       "       [[0.  , 0.  , 0.  , 0.  , 0.  , 0.  , 0.  , 0.04, 0.  , 0.95]],\n",
       "\n",
       "       [[0.  , 0.  , 0.  , 0.  , 0.  , 0.01, 0.  , 0.13, 0.  , 0.86]],\n",
       "\n",
       "       [[0.  , 0.  , 0.  , 0.  , 0.  , 0.02, 0.  , 0.02, 0.  , 0.96]],\n",
       "\n",
       "       [[0.  , 0.  , 0.  , 0.  , 0.  , 0.  , 0.  , 0.02, 0.  , 0.97]],\n",
       "\n",
       "       [[0.  , 0.  , 0.  , 0.  , 0.  , 0.34, 0.  , 0.08, 0.  , 0.58]],\n",
       "\n",
       "       [[0.  , 0.  , 0.  , 0.  , 0.  , 0.01, 0.  , 0.07, 0.  , 0.92]],\n",
       "\n",
       "       [[0.  , 0.  , 0.  , 0.  , 0.  , 0.  , 0.  , 0.01, 0.  , 0.99]],\n",
       "\n",
       "       [[0.  , 0.  , 0.  , 0.  , 0.  , 0.  , 0.  , 0.04, 0.  , 0.95]],\n",
       "\n",
       "       [[0.  , 0.  , 0.  , 0.  , 0.  , 0.34, 0.  , 0.2 , 0.  , 0.46]],\n",
       "\n",
       "       [[0.  , 0.  , 0.  , 0.  , 0.  , 0.06, 0.  , 0.31, 0.  , 0.63]],\n",
       "\n",
       "       [[0.  , 0.  , 0.  , 0.  , 0.  , 0.43, 0.  , 0.27, 0.  , 0.3 ]],\n",
       "\n",
       "       [[0.  , 0.  , 0.  , 0.  , 0.  , 0.63, 0.  , 0.22, 0.  , 0.15]],\n",
       "\n",
       "       [[0.  , 0.  , 0.  , 0.  , 0.  , 0.02, 0.  , 0.01, 0.  , 0.97]],\n",
       "\n",
       "       [[0.  , 0.  , 0.  , 0.  , 0.  , 0.34, 0.  , 0.37, 0.  , 0.29]],\n",
       "\n",
       "       [[0.  , 0.  , 0.  , 0.  , 0.  , 0.02, 0.  , 0.4 , 0.  , 0.58]],\n",
       "\n",
       "       [[0.  , 0.  , 0.  , 0.  , 0.  , 0.04, 0.  , 0.19, 0.  , 0.76]],\n",
       "\n",
       "       [[0.  , 0.  , 0.  , 0.  , 0.  , 0.02, 0.  , 0.06, 0.  , 0.92]],\n",
       "\n",
       "       [[0.  , 0.  , 0.  , 0.  , 0.  , 0.03, 0.  , 0.17, 0.  , 0.8 ]],\n",
       "\n",
       "       [[0.  , 0.  , 0.  , 0.  , 0.  , 0.01, 0.  , 0.08, 0.  , 0.91]],\n",
       "\n",
       "       [[0.  , 0.  , 0.  , 0.  , 0.  , 0.01, 0.  , 0.93, 0.  , 0.06]],\n",
       "\n",
       "       [[0.  , 0.  , 0.  , 0.  , 0.  , 0.01, 0.  , 0.43, 0.  , 0.57]],\n",
       "\n",
       "       [[0.  , 0.  , 0.  , 0.  , 0.  , 0.14, 0.  , 0.07, 0.  , 0.79]],\n",
       "\n",
       "       [[0.  , 0.  , 0.  , 0.  , 0.  , 0.01, 0.  , 0.28, 0.  , 0.71]],\n",
       "\n",
       "       [[0.  , 0.  , 0.  , 0.  , 0.  , 0.02, 0.  , 0.13, 0.  , 0.84]],\n",
       "\n",
       "       [[0.  , 0.  , 0.  , 0.  , 0.  , 0.12, 0.  , 0.01, 0.  , 0.87]],\n",
       "\n",
       "       [[0.  , 0.  , 0.  , 0.  , 0.  , 0.  , 0.  , 0.07, 0.  , 0.92]],\n",
       "\n",
       "       [[0.  , 0.  , 0.  , 0.  , 0.  , 0.  , 0.  , 0.05, 0.  , 0.94]],\n",
       "\n",
       "       [[0.  , 0.  , 0.  , 0.  , 0.  , 0.17, 0.  , 0.1 , 0.  , 0.73]],\n",
       "\n",
       "       [[0.  , 0.  , 0.  , 0.  , 0.  , 0.  , 0.  , 0.06, 0.  , 0.94]],\n",
       "\n",
       "       [[0.  , 0.  , 0.  , 0.  , 0.  , 0.01, 0.  , 0.05, 0.  , 0.94]],\n",
       "\n",
       "       [[0.  , 0.  , 0.  , 0.  , 0.  , 0.04, 0.  , 0.05, 0.  , 0.91]],\n",
       "\n",
       "       [[0.  , 0.  , 0.  , 0.  , 0.  , 0.78, 0.  , 0.12, 0.  , 0.09]],\n",
       "\n",
       "       [[0.  , 0.  , 0.  , 0.  , 0.  , 0.  , 0.  , 0.01, 0.  , 0.99]],\n",
       "\n",
       "       [[0.  , 0.  , 0.  , 0.  , 0.  , 0.01, 0.  , 0.05, 0.  , 0.95]],\n",
       "\n",
       "       [[0.  , 0.  , 0.  , 0.  , 0.  , 0.02, 0.  , 0.32, 0.  , 0.67]],\n",
       "\n",
       "       [[0.  , 0.  , 0.  , 0.  , 0.  , 0.01, 0.  , 0.07, 0.  , 0.91]],\n",
       "\n",
       "       [[0.  , 0.  , 0.  , 0.  , 0.  , 0.08, 0.  , 0.12, 0.  , 0.8 ]],\n",
       "\n",
       "       [[0.  , 0.  , 0.  , 0.  , 0.  , 0.79, 0.  , 0.08, 0.  , 0.13]],\n",
       "\n",
       "       [[0.  , 0.  , 0.  , 0.  , 0.  , 0.09, 0.  , 0.83, 0.  , 0.09]],\n",
       "\n",
       "       [[0.  , 0.  , 0.  , 0.  , 0.  , 0.  , 0.  , 0.05, 0.  , 0.95]],\n",
       "\n",
       "       [[0.  , 0.  , 0.  , 0.  , 0.  , 0.22, 0.  , 0.05, 0.  , 0.73]],\n",
       "\n",
       "       [[0.  , 0.  , 0.  , 0.  , 0.  , 0.09, 0.  , 0.15, 0.  , 0.75]],\n",
       "\n",
       "       [[0.  , 0.  , 0.  , 0.  , 0.  , 0.01, 0.  , 0.33, 0.  , 0.66]],\n",
       "\n",
       "       [[0.  , 0.  , 0.  , 0.  , 0.  , 0.  , 0.  , 0.  , 0.  , 1.  ]],\n",
       "\n",
       "       [[0.  , 0.  , 0.  , 0.  , 0.  , 0.09, 0.  , 0.33, 0.  , 0.58]],\n",
       "\n",
       "       [[0.  , 0.  , 0.  , 0.  , 0.  , 0.  , 0.  , 0.01, 0.  , 0.99]],\n",
       "\n",
       "       [[0.  , 0.  , 0.  , 0.  , 0.  , 0.  , 0.  , 0.02, 0.  , 0.98]],\n",
       "\n",
       "       [[0.  , 0.  , 0.  , 0.  , 0.  , 0.  , 0.  , 0.02, 0.  , 0.98]],\n",
       "\n",
       "       [[0.  , 0.  , 0.  , 0.  , 0.  , 0.16, 0.  , 0.39, 0.  , 0.45]],\n",
       "\n",
       "       [[0.  , 0.  , 0.  , 0.  , 0.  , 0.03, 0.  , 0.08, 0.  , 0.89]],\n",
       "\n",
       "       [[0.  , 0.  , 0.  , 0.  , 0.  , 0.01, 0.  , 0.24, 0.  , 0.76]],\n",
       "\n",
       "       [[0.  , 0.  , 0.  , 0.  , 0.  , 0.39, 0.  , 0.29, 0.  , 0.33]],\n",
       "\n",
       "       [[0.  , 0.  , 0.  , 0.  , 0.  , 0.24, 0.  , 0.45, 0.03, 0.28]],\n",
       "\n",
       "       [[0.  , 0.  , 0.  , 0.  , 0.  , 0.01, 0.  , 0.13, 0.  , 0.86]],\n",
       "\n",
       "       [[0.  , 0.  , 0.  , 0.  , 0.  , 0.02, 0.  , 0.02, 0.  , 0.95]],\n",
       "\n",
       "       [[0.  , 0.  , 0.  , 0.  , 0.  , 0.04, 0.  , 0.2 , 0.  , 0.76]],\n",
       "\n",
       "       [[0.  , 0.  , 0.  , 0.  , 0.  , 0.  , 0.  , 0.05, 0.  , 0.95]],\n",
       "\n",
       "       [[0.  , 0.  , 0.  , 0.  , 0.  , 0.01, 0.  , 0.62, 0.  , 0.37]],\n",
       "\n",
       "       [[0.  , 0.  , 0.  , 0.  , 0.  , 0.19, 0.  , 0.27, 0.  , 0.53]],\n",
       "\n",
       "       [[0.  , 0.  , 0.  , 0.  , 0.  , 0.19, 0.  , 0.19, 0.  , 0.62]],\n",
       "\n",
       "       [[0.  , 0.  , 0.  , 0.  , 0.  , 0.1 , 0.  , 0.4 , 0.02, 0.48]],\n",
       "\n",
       "       [[0.  , 0.  , 0.  , 0.  , 0.  , 0.  , 0.  , 0.  , 0.  , 1.  ]],\n",
       "\n",
       "       [[0.  , 0.  , 0.  , 0.  , 0.  , 0.02, 0.  , 0.07, 0.  , 0.91]],\n",
       "\n",
       "       [[0.  , 0.  , 0.  , 0.  , 0.  , 0.11, 0.  , 0.23, 0.  , 0.66]],\n",
       "\n",
       "       [[0.  , 0.  , 0.  , 0.  , 0.  , 0.  , 0.  , 0.07, 0.  , 0.93]],\n",
       "\n",
       "       [[0.  , 0.  , 0.  , 0.  , 0.  , 0.68, 0.  , 0.15, 0.  , 0.17]],\n",
       "\n",
       "       [[0.  , 0.  , 0.  , 0.  , 0.  , 0.5 , 0.  , 0.44, 0.  , 0.06]],\n",
       "\n",
       "       [[0.  , 0.  , 0.  , 0.  , 0.  , 0.34, 0.  , 0.15, 0.  , 0.51]],\n",
       "\n",
       "       [[0.  , 0.  , 0.  , 0.  , 0.  , 0.63, 0.  , 0.26, 0.  , 0.11]],\n",
       "\n",
       "       [[0.  , 0.  , 0.  , 0.  , 0.  , 0.01, 0.  , 0.68, 0.  , 0.31]],\n",
       "\n",
       "       [[0.  , 0.  , 0.  , 0.  , 0.  , 0.27, 0.  , 0.7 , 0.  , 0.04]],\n",
       "\n",
       "       [[0.  , 0.  , 0.  , 0.  , 0.  , 0.01, 0.  , 0.29, 0.  , 0.7 ]],\n",
       "\n",
       "       [[0.  , 0.  , 0.  , 0.  , 0.  , 0.01, 0.  , 0.03, 0.  , 0.96]],\n",
       "\n",
       "       [[0.  , 0.  , 0.  , 0.  , 0.  , 0.01, 0.  , 0.13, 0.  , 0.87]],\n",
       "\n",
       "       [[0.  , 0.  , 0.  , 0.  , 0.  , 0.01, 0.  , 0.19, 0.  , 0.79]],\n",
       "\n",
       "       [[0.  , 0.  , 0.  , 0.  , 0.  , 0.39, 0.  , 0.11, 0.08, 0.42]],\n",
       "\n",
       "       [[0.  , 0.  , 0.  , 0.  , 0.  , 0.01, 0.  , 0.58, 0.  , 0.4 ]],\n",
       "\n",
       "       [[0.  , 0.  , 0.  , 0.  , 0.  , 0.3 , 0.  , 0.24, 0.  , 0.46]],\n",
       "\n",
       "       [[0.  , 0.  , 0.  , 0.  , 0.  , 0.03, 0.  , 0.43, 0.  , 0.54]],\n",
       "\n",
       "       [[0.  , 0.  , 0.  , 0.  , 0.  , 0.42, 0.  , 0.2 , 0.  , 0.38]],\n",
       "\n",
       "       [[0.  , 0.  , 0.  , 0.  , 0.  , 0.08, 0.  , 0.03, 0.  , 0.89]],\n",
       "\n",
       "       [[0.  , 0.  , 0.  , 0.  , 0.  , 0.05, 0.  , 0.03, 0.  , 0.92]],\n",
       "\n",
       "       [[0.  , 0.  , 0.  , 0.  , 0.  , 0.12, 0.  , 0.06, 0.  , 0.83]],\n",
       "\n",
       "       [[0.  , 0.  , 0.  , 0.  , 0.  , 0.01, 0.  , 0.01, 0.  , 0.98]],\n",
       "\n",
       "       [[0.  , 0.  , 0.  , 0.  , 0.  , 0.46, 0.  , 0.05, 0.  , 0.49]],\n",
       "\n",
       "       [[0.  , 0.  , 0.  , 0.  , 0.  , 0.03, 0.  , 0.28, 0.  , 0.69]],\n",
       "\n",
       "       [[0.  , 0.  , 0.  , 0.  , 0.  , 0.22, 0.  , 0.44, 0.  , 0.34]],\n",
       "\n",
       "       [[0.  , 0.  , 0.  , 0.  , 0.  , 0.11, 0.  , 0.11, 0.  , 0.78]],\n",
       "\n",
       "       [[0.  , 0.  , 0.  , 0.  , 0.  , 0.06, 0.  , 0.43, 0.  , 0.51]],\n",
       "\n",
       "       [[0.  , 0.  , 0.  , 0.  , 0.  , 0.01, 0.  , 0.87, 0.  , 0.12]]],\n",
       "      dtype=float32)"
      ]
     },
     "execution_count": 113,
     "metadata": {},
     "output_type": "execute_result"
    }
   ],
   "source": [
    "np.round(y_probas[:, :1], 2)"
   ]
  },
  {
   "cell_type": "code",
   "execution_count": 114,
   "id": "66b6547b",
   "metadata": {
    "execution": {
     "iopub.execute_input": "2023-06-18T09:00:44.010827Z",
     "iopub.status.busy": "2023-06-18T09:00:44.010364Z",
     "iopub.status.idle": "2023-06-18T09:00:44.020391Z",
     "shell.execute_reply": "2023-06-18T09:00:44.019602Z"
    },
    "papermill": {
     "duration": 3.159082,
     "end_time": "2023-06-18T09:00:44.022900",
     "exception": false,
     "start_time": "2023-06-18T09:00:40.863818",
     "status": "completed"
    },
    "tags": []
   },
   "outputs": [
    {
     "data": {
      "text/plain": [
       "array([[0.  , 0.  , 0.  , 0.  , 0.  , 0.13, 0.  , 0.19, 0.  , 0.67]],\n",
       "      dtype=float32)"
      ]
     },
     "execution_count": 114,
     "metadata": {},
     "output_type": "execute_result"
    }
   ],
   "source": [
    "np.round(y_proba[:1], 2)"
   ]
  },
  {
   "cell_type": "code",
   "execution_count": 115,
   "id": "b010072b",
   "metadata": {
    "execution": {
     "iopub.execute_input": "2023-06-18T09:00:49.548784Z",
     "iopub.status.busy": "2023-06-18T09:00:49.548386Z",
     "iopub.status.idle": "2023-06-18T09:00:49.579809Z",
     "shell.execute_reply": "2023-06-18T09:00:49.578752Z"
    },
    "papermill": {
     "duration": 2.760313,
     "end_time": "2023-06-18T09:00:49.582686",
     "exception": false,
     "start_time": "2023-06-18T09:00:46.822373",
     "status": "completed"
    },
    "tags": []
   },
   "outputs": [
    {
     "data": {
      "text/plain": [
       "array([[0.  , 0.  , 0.  , 0.  , 0.  , 0.2 , 0.  , 0.2 , 0.01, 0.29]],\n",
       "      dtype=float32)"
      ]
     },
     "execution_count": 115,
     "metadata": {},
     "output_type": "execute_result"
    }
   ],
   "source": [
    "y_std = y_probas.std(axis=0)\n",
    "np.round(y_std[:1], 2)"
   ]
  },
  {
   "cell_type": "code",
   "execution_count": 116,
   "id": "8e6365d3",
   "metadata": {
    "execution": {
     "iopub.execute_input": "2023-06-18T09:00:55.042116Z",
     "iopub.status.busy": "2023-06-18T09:00:55.041757Z",
     "iopub.status.idle": "2023-06-18T09:00:55.046810Z",
     "shell.execute_reply": "2023-06-18T09:00:55.045685Z"
    },
    "papermill": {
     "duration": 2.746014,
     "end_time": "2023-06-18T09:00:55.049362",
     "exception": false,
     "start_time": "2023-06-18T09:00:52.303348",
     "status": "completed"
    },
    "tags": []
   },
   "outputs": [],
   "source": [
    "y_pred = np.argmax(y_proba, axis=1)"
   ]
  },
  {
   "cell_type": "code",
   "execution_count": 117,
   "id": "14707f19",
   "metadata": {
    "execution": {
     "iopub.execute_input": "2023-06-18T09:01:00.751662Z",
     "iopub.status.busy": "2023-06-18T09:01:00.751283Z",
     "iopub.status.idle": "2023-06-18T09:01:00.758034Z",
     "shell.execute_reply": "2023-06-18T09:01:00.757042Z"
    },
    "papermill": {
     "duration": 2.674279,
     "end_time": "2023-06-18T09:01:00.761119",
     "exception": false,
     "start_time": "2023-06-18T09:00:58.086840",
     "status": "completed"
    },
    "tags": []
   },
   "outputs": [
    {
     "data": {
      "text/plain": [
       "0.8689"
      ]
     },
     "execution_count": 117,
     "metadata": {},
     "output_type": "execute_result"
    }
   ],
   "source": [
    "accuracy = np.sum(y_pred == y_test) / len(y_test)\n",
    "accuracy"
   ]
  },
  {
   "cell_type": "code",
   "execution_count": 118,
   "id": "9d61b032",
   "metadata": {
    "execution": {
     "iopub.execute_input": "2023-06-18T09:01:06.131914Z",
     "iopub.status.busy": "2023-06-18T09:01:06.131425Z",
     "iopub.status.idle": "2023-06-18T09:01:06.138470Z",
     "shell.execute_reply": "2023-06-18T09:01:06.137511Z"
    },
    "papermill": {
     "duration": 2.688687,
     "end_time": "2023-06-18T09:01:06.140878",
     "exception": false,
     "start_time": "2023-06-18T09:01:03.452191",
     "status": "completed"
    },
    "tags": []
   },
   "outputs": [],
   "source": [
    "class MCDropout(keras.layers.Dropout):\n",
    "    def call(self, inputs):\n",
    "        return super().call(inputs, training=True)\n",
    "\n",
    "class MCAlphaDropout(keras.layers.AlphaDropout):\n",
    "    def call(self, inputs):\n",
    "        return super().call(inputs, training=True)"
   ]
  },
  {
   "cell_type": "code",
   "execution_count": 119,
   "id": "9e5d9ab3",
   "metadata": {
    "execution": {
     "iopub.execute_input": "2023-06-18T09:01:11.806713Z",
     "iopub.status.busy": "2023-06-18T09:01:11.806347Z",
     "iopub.status.idle": "2023-06-18T09:01:11.838642Z",
     "shell.execute_reply": "2023-06-18T09:01:11.837677Z"
    },
    "papermill": {
     "duration": 2.802684,
     "end_time": "2023-06-18T09:01:11.840987",
     "exception": false,
     "start_time": "2023-06-18T09:01:09.038303",
     "status": "completed"
    },
    "tags": []
   },
   "outputs": [],
   "source": [
    "tf.random.set_seed(42)\n",
    "np.random.seed(42)"
   ]
  },
  {
   "cell_type": "code",
   "execution_count": 120,
   "id": "33aa48f4",
   "metadata": {
    "execution": {
     "iopub.execute_input": "2023-06-18T09:01:17.816750Z",
     "iopub.status.busy": "2023-06-18T09:01:17.816381Z",
     "iopub.status.idle": "2023-06-18T09:01:17.924523Z",
     "shell.execute_reply": "2023-06-18T09:01:17.923573Z"
    },
    "papermill": {
     "duration": 3.186671,
     "end_time": "2023-06-18T09:01:17.926974",
     "exception": false,
     "start_time": "2023-06-18T09:01:14.740303",
     "status": "completed"
    },
    "tags": []
   },
   "outputs": [],
   "source": [
    "mc_model = keras.models.Sequential([\n",
    "    MCAlphaDropout(layer.rate) if isinstance(layer, keras.layers.AlphaDropout) else layer\n",
    "    for layer in model.layers\n",
    "])"
   ]
  },
  {
   "cell_type": "code",
   "execution_count": 121,
   "id": "3675abf7",
   "metadata": {
    "execution": {
     "iopub.execute_input": "2023-06-18T09:01:23.323936Z",
     "iopub.status.busy": "2023-06-18T09:01:23.323567Z",
     "iopub.status.idle": "2023-06-18T09:01:23.353207Z",
     "shell.execute_reply": "2023-06-18T09:01:23.352390Z"
    },
    "papermill": {
     "duration": 2.735033,
     "end_time": "2023-06-18T09:01:23.363749",
     "exception": false,
     "start_time": "2023-06-18T09:01:20.628716",
     "status": "completed"
    },
    "tags": []
   },
   "outputs": [
    {
     "name": "stdout",
     "output_type": "stream",
     "text": [
      "Model: \"sequential_21\"\n",
      "_________________________________________________________________\n",
      " Layer (type)                Output Shape              Param #   \n",
      "=================================================================\n",
      " flatten_18 (Flatten)        (None, 784)               0         \n",
      "                                                                 \n",
      " mc_alpha_dropout (MCAlphaDr  (None, 784)              0         \n",
      " opout)                                                          \n",
      "                                                                 \n",
      " dense_263 (Dense)           (None, 300)               235500    \n",
      "                                                                 \n",
      " mc_alpha_dropout_1 (MCAlpha  (None, 300)              0         \n",
      " Dropout)                                                        \n",
      "                                                                 \n",
      " dense_264 (Dense)           (None, 100)               30100     \n",
      "                                                                 \n",
      " mc_alpha_dropout_2 (MCAlpha  (None, 100)              0         \n",
      " Dropout)                                                        \n",
      "                                                                 \n",
      " dense_265 (Dense)           (None, 10)                1010      \n",
      "                                                                 \n",
      "=================================================================\n",
      "Total params: 266,610\n",
      "Trainable params: 266,610\n",
      "Non-trainable params: 0\n",
      "_________________________________________________________________\n"
     ]
    }
   ],
   "source": [
    "mc_model.summary()"
   ]
  },
  {
   "cell_type": "code",
   "execution_count": 122,
   "id": "7caebac7",
   "metadata": {
    "execution": {
     "iopub.execute_input": "2023-06-18T09:01:28.871896Z",
     "iopub.status.busy": "2023-06-18T09:01:28.871435Z",
     "iopub.status.idle": "2023-06-18T09:01:28.887956Z",
     "shell.execute_reply": "2023-06-18T09:01:28.887047Z"
    },
    "papermill": {
     "duration": 2.784477,
     "end_time": "2023-06-18T09:01:28.889939",
     "exception": false,
     "start_time": "2023-06-18T09:01:26.105462",
     "status": "completed"
    },
    "tags": []
   },
   "outputs": [],
   "source": [
    "optimizer = keras.optimizers.SGD(learning_rate=0.01, momentum=0.9, nesterov=True)\n",
    "mc_model.compile(loss=\"sparse_categorical_crossentropy\", optimizer=optimizer, metrics=[\"accuracy\"])"
   ]
  },
  {
   "cell_type": "code",
   "execution_count": 123,
   "id": "4a5169b9",
   "metadata": {
    "execution": {
     "iopub.execute_input": "2023-06-18T09:01:34.313825Z",
     "iopub.status.busy": "2023-06-18T09:01:34.313438Z",
     "iopub.status.idle": "2023-06-18T09:01:34.338439Z",
     "shell.execute_reply": "2023-06-18T09:01:34.337561Z"
    },
    "papermill": {
     "duration": 2.723391,
     "end_time": "2023-06-18T09:01:34.340648",
     "exception": false,
     "start_time": "2023-06-18T09:01:31.617257",
     "status": "completed"
    },
    "tags": []
   },
   "outputs": [],
   "source": [
    "mc_model.set_weights(model.get_weights())"
   ]
  },
  {
   "cell_type": "markdown",
   "id": "45f6d314",
   "metadata": {
    "papermill": {
     "duration": 2.75174,
     "end_time": "2023-06-18T09:01:39.853900",
     "exception": false,
     "start_time": "2023-06-18T09:01:37.102160",
     "status": "completed"
    },
    "tags": []
   },
   "source": [
    "Now we can use the model with MC Dropout:"
   ]
  },
  {
   "cell_type": "code",
   "execution_count": 124,
   "id": "aca737fe",
   "metadata": {
    "execution": {
     "iopub.execute_input": "2023-06-18T09:01:45.298109Z",
     "iopub.status.busy": "2023-06-18T09:01:45.297743Z",
     "iopub.status.idle": "2023-06-18T09:01:51.800195Z",
     "shell.execute_reply": "2023-06-18T09:01:51.799309Z"
    },
    "papermill": {
     "duration": 9.223178,
     "end_time": "2023-06-18T09:01:51.802229",
     "exception": false,
     "start_time": "2023-06-18T09:01:42.579051",
     "status": "completed"
    },
    "tags": []
   },
   "outputs": [
    {
     "name": "stdout",
     "output_type": "stream",
     "text": [
      "1/1 [==============================] - 0s 112ms/step\n",
      "1/1 [==============================] - 0s 19ms/step\n",
      "1/1 [==============================] - 0s 20ms/step\n",
      "1/1 [==============================] - 0s 19ms/step\n",
      "1/1 [==============================] - 0s 18ms/step\n",
      "1/1 [==============================] - 0s 18ms/step\n",
      "1/1 [==============================] - 0s 18ms/step\n",
      "1/1 [==============================] - 0s 18ms/step\n",
      "1/1 [==============================] - 0s 53ms/step\n",
      "1/1 [==============================] - 0s 34ms/step\n",
      "1/1 [==============================] - 0s 29ms/step\n",
      "1/1 [==============================] - 0s 37ms/step\n",
      "1/1 [==============================] - 0s 28ms/step\n",
      "1/1 [==============================] - 0s 28ms/step\n",
      "1/1 [==============================] - 0s 34ms/step\n",
      "1/1 [==============================] - 0s 28ms/step\n",
      "1/1 [==============================] - 0s 58ms/step\n",
      "1/1 [==============================] - 0s 26ms/step\n",
      "1/1 [==============================] - 0s 33ms/step\n",
      "1/1 [==============================] - 0s 41ms/step\n",
      "1/1 [==============================] - 0s 29ms/step\n",
      "1/1 [==============================] - 0s 26ms/step\n",
      "1/1 [==============================] - 0s 26ms/step\n",
      "1/1 [==============================] - 0s 19ms/step\n",
      "1/1 [==============================] - 0s 19ms/step\n",
      "1/1 [==============================] - 0s 19ms/step\n",
      "1/1 [==============================] - 0s 18ms/step\n",
      "1/1 [==============================] - 0s 20ms/step\n",
      "1/1 [==============================] - 0s 22ms/step\n",
      "1/1 [==============================] - 0s 20ms/step\n",
      "1/1 [==============================] - 0s 20ms/step\n",
      "1/1 [==============================] - 0s 18ms/step\n",
      "1/1 [==============================] - 0s 19ms/step\n",
      "1/1 [==============================] - 0s 18ms/step\n",
      "1/1 [==============================] - 0s 19ms/step\n",
      "1/1 [==============================] - 0s 18ms/step\n",
      "1/1 [==============================] - 0s 20ms/step\n",
      "1/1 [==============================] - 0s 20ms/step\n",
      "1/1 [==============================] - 0s 19ms/step\n",
      "1/1 [==============================] - 0s 18ms/step\n",
      "1/1 [==============================] - 0s 19ms/step\n",
      "1/1 [==============================] - 0s 18ms/step\n",
      "1/1 [==============================] - 0s 19ms/step\n",
      "1/1 [==============================] - 0s 18ms/step\n",
      "1/1 [==============================] - 0s 19ms/step\n",
      "1/1 [==============================] - 0s 21ms/step\n",
      "1/1 [==============================] - 0s 21ms/step\n",
      "1/1 [==============================] - 0s 21ms/step\n",
      "1/1 [==============================] - 0s 21ms/step\n",
      "1/1 [==============================] - 0s 20ms/step\n",
      "1/1 [==============================] - 0s 21ms/step\n",
      "1/1 [==============================] - 0s 22ms/step\n",
      "1/1 [==============================] - 0s 18ms/step\n",
      "1/1 [==============================] - 0s 17ms/step\n",
      "1/1 [==============================] - 0s 17ms/step\n",
      "1/1 [==============================] - 0s 18ms/step\n",
      "1/1 [==============================] - 0s 22ms/step\n",
      "1/1 [==============================] - 0s 18ms/step\n",
      "1/1 [==============================] - 0s 20ms/step\n",
      "1/1 [==============================] - 0s 19ms/step\n",
      "1/1 [==============================] - 0s 18ms/step\n",
      "1/1 [==============================] - 0s 20ms/step\n",
      "1/1 [==============================] - 0s 22ms/step\n",
      "1/1 [==============================] - 0s 22ms/step\n",
      "1/1 [==============================] - 0s 20ms/step\n",
      "1/1 [==============================] - 0s 20ms/step\n",
      "1/1 [==============================] - 0s 22ms/step\n",
      "1/1 [==============================] - 0s 21ms/step\n",
      "1/1 [==============================] - 0s 22ms/step\n",
      "1/1 [==============================] - 0s 23ms/step\n",
      "1/1 [==============================] - 0s 22ms/step\n",
      "1/1 [==============================] - 0s 21ms/step\n",
      "1/1 [==============================] - 0s 21ms/step\n",
      "1/1 [==============================] - 0s 22ms/step\n",
      "1/1 [==============================] - 0s 21ms/step\n",
      "1/1 [==============================] - 0s 20ms/step\n",
      "1/1 [==============================] - 0s 20ms/step\n",
      "1/1 [==============================] - 0s 23ms/step\n",
      "1/1 [==============================] - 0s 23ms/step\n",
      "1/1 [==============================] - 0s 22ms/step\n",
      "1/1 [==============================] - 0s 22ms/step\n",
      "1/1 [==============================] - 0s 21ms/step\n",
      "1/1 [==============================] - 0s 20ms/step\n",
      "1/1 [==============================] - 0s 18ms/step\n",
      "1/1 [==============================] - 0s 19ms/step\n",
      "1/1 [==============================] - 0s 19ms/step\n",
      "1/1 [==============================] - 0s 19ms/step\n",
      "1/1 [==============================] - 0s 18ms/step\n",
      "1/1 [==============================] - 0s 18ms/step\n",
      "1/1 [==============================] - 0s 22ms/step\n",
      "1/1 [==============================] - 0s 20ms/step\n",
      "1/1 [==============================] - 0s 19ms/step\n",
      "1/1 [==============================] - 0s 20ms/step\n",
      "1/1 [==============================] - 0s 18ms/step\n",
      "1/1 [==============================] - 0s 18ms/step\n",
      "1/1 [==============================] - 0s 18ms/step\n",
      "1/1 [==============================] - 0s 18ms/step\n",
      "1/1 [==============================] - 0s 18ms/step\n",
      "1/1 [==============================] - 0s 18ms/step\n",
      "1/1 [==============================] - 0s 18ms/step\n"
     ]
    },
    {
     "data": {
      "text/plain": [
       "array([[0.  , 0.  , 0.  , 0.  , 0.  , 0.13, 0.  , 0.19, 0.  , 0.68]],\n",
       "      dtype=float32)"
      ]
     },
     "execution_count": 124,
     "metadata": {},
     "output_type": "execute_result"
    }
   ],
   "source": [
    "np.round(np.mean([mc_model.predict(X_test_scaled[:1]) for sample in range(100)], axis=0), 2)"
   ]
  },
  {
   "cell_type": "markdown",
   "id": "7ba4c49b",
   "metadata": {
    "papermill": {
     "duration": 2.803313,
     "end_time": "2023-06-18T09:01:57.382249",
     "exception": false,
     "start_time": "2023-06-18T09:01:54.578936",
     "status": "completed"
    },
    "tags": []
   },
   "source": [
    "## Max norm"
   ]
  },
  {
   "cell_type": "code",
   "execution_count": 125,
   "id": "23306d5b",
   "metadata": {
    "execution": {
     "iopub.execute_input": "2023-06-18T09:02:02.870157Z",
     "iopub.status.busy": "2023-06-18T09:02:02.869780Z",
     "iopub.status.idle": "2023-06-18T09:02:02.877322Z",
     "shell.execute_reply": "2023-06-18T09:02:02.876359Z"
    },
    "papermill": {
     "duration": 2.713553,
     "end_time": "2023-06-18T09:02:02.879447",
     "exception": false,
     "start_time": "2023-06-18T09:02:00.165894",
     "status": "completed"
    },
    "tags": []
   },
   "outputs": [],
   "source": [
    "layer = keras.layers.Dense(100, activation=\"selu\", kernel_initializer=\"lecun_normal\",\n",
    "                           kernel_constraint=keras.constraints.max_norm(1.))"
   ]
  },
  {
   "cell_type": "code",
   "execution_count": 126,
   "id": "79a2409a",
   "metadata": {
    "execution": {
     "iopub.execute_input": "2023-06-18T09:02:08.361583Z",
     "iopub.status.busy": "2023-06-18T09:02:08.361217Z",
     "iopub.status.idle": "2023-06-18T09:02:30.121496Z",
     "shell.execute_reply": "2023-06-18T09:02:30.120486Z"
    },
    "papermill": {
     "duration": 24.539323,
     "end_time": "2023-06-18T09:02:30.124023",
     "exception": false,
     "start_time": "2023-06-18T09:02:05.584700",
     "status": "completed"
    },
    "tags": []
   },
   "outputs": [
    {
     "name": "stdout",
     "output_type": "stream",
     "text": [
      "Epoch 1/2\n",
      "1719/1719 [==============================] - 8s 4ms/step - loss: 0.4773 - accuracy: 0.8341 - val_loss: 0.3633 - val_accuracy: 0.8706\n",
      "Epoch 2/2\n",
      "1719/1719 [==============================] - 7s 4ms/step - loss: 0.3586 - accuracy: 0.8698 - val_loss: 0.3911 - val_accuracy: 0.8610\n"
     ]
    }
   ],
   "source": [
    "MaxNormDense = partial(keras.layers.Dense,\n",
    "                       activation=\"selu\", kernel_initializer=\"lecun_normal\",\n",
    "                       kernel_constraint=keras.constraints.max_norm(1.))\n",
    "\n",
    "model = keras.models.Sequential([\n",
    "    keras.layers.Flatten(input_shape=[28, 28]),\n",
    "    MaxNormDense(300),\n",
    "    MaxNormDense(100),\n",
    "    keras.layers.Dense(10, activation=\"softmax\")\n",
    "])\n",
    "model.compile(loss=\"sparse_categorical_crossentropy\", optimizer=\"nadam\", metrics=[\"accuracy\"])\n",
    "n_epochs = 2\n",
    "history = model.fit(X_train_scaled, y_train, epochs=n_epochs,\n",
    "                    validation_data=(X_valid_scaled, y_valid))"
   ]
  },
  {
   "cell_type": "markdown",
   "id": "5f7c61b6",
   "metadata": {
    "papermill": {
     "duration": 2.696887,
     "end_time": "2023-06-18T09:02:35.541724",
     "exception": false,
     "start_time": "2023-06-18T09:02:32.844837",
     "status": "completed"
    },
    "tags": []
   },
   "source": [
    "# Exercises"
   ]
  },
  {
   "cell_type": "markdown",
   "id": "3859af7e",
   "metadata": {
    "papermill": {
     "duration": 2.69765,
     "end_time": "2023-06-18T09:02:41.027453",
     "exception": false,
     "start_time": "2023-06-18T09:02:38.329803",
     "status": "completed"
    },
    "tags": []
   },
   "source": [
    "## 1. to 7."
   ]
  },
  {
   "cell_type": "markdown",
   "id": "705ac4ee",
   "metadata": {
    "papermill": {
     "duration": 2.692005,
     "end_time": "2023-06-18T09:02:46.409636",
     "exception": false,
     "start_time": "2023-06-18T09:02:43.717631",
     "status": "completed"
    },
    "tags": []
   },
   "source": [
    "See appendix A."
   ]
  },
  {
   "cell_type": "markdown",
   "id": "9063a331",
   "metadata": {
    "papermill": {
     "duration": 3.003204,
     "end_time": "2023-06-18T09:02:52.313825",
     "exception": false,
     "start_time": "2023-06-18T09:02:49.310621",
     "status": "completed"
    },
    "tags": []
   },
   "source": [
    "## 8. Deep Learning on CIFAR10"
   ]
  },
  {
   "cell_type": "markdown",
   "id": "a4b3fa49",
   "metadata": {
    "papermill": {
     "duration": 2.755158,
     "end_time": "2023-06-18T09:02:57.765699",
     "exception": false,
     "start_time": "2023-06-18T09:02:55.010541",
     "status": "completed"
    },
    "tags": []
   },
   "source": [
    "### a.\n",
    "*Exercise: Build a DNN with 20 hidden layers of 100 neurons each (that's too many, but it's the point of this exercise). Use He initialization and the ELU activation function.*"
   ]
  },
  {
   "cell_type": "code",
   "execution_count": 127,
   "id": "89b95474",
   "metadata": {
    "execution": {
     "iopub.execute_input": "2023-06-18T09:03:03.158899Z",
     "iopub.status.busy": "2023-06-18T09:03:03.158528Z",
     "iopub.status.idle": "2023-06-18T09:03:03.417720Z",
     "shell.execute_reply": "2023-06-18T09:03:03.416771Z"
    },
    "papermill": {
     "duration": 2.955017,
     "end_time": "2023-06-18T09:03:03.420156",
     "exception": false,
     "start_time": "2023-06-18T09:03:00.465139",
     "status": "completed"
    },
    "tags": []
   },
   "outputs": [],
   "source": [
    "keras.backend.clear_session()\n",
    "tf.random.set_seed(42)\n",
    "np.random.seed(42)\n",
    "\n",
    "model = keras.models.Sequential()\n",
    "model.add(keras.layers.Flatten(input_shape=[32, 32, 3]))\n",
    "for _ in range(20):\n",
    "    model.add(keras.layers.Dense(100,\n",
    "                                 activation=\"elu\",\n",
    "                                 kernel_initializer=\"he_normal\"))"
   ]
  },
  {
   "cell_type": "markdown",
   "id": "cc8afb4e",
   "metadata": {
    "papermill": {
     "duration": 2.784523,
     "end_time": "2023-06-18T09:03:08.935544",
     "exception": false,
     "start_time": "2023-06-18T09:03:06.151021",
     "status": "completed"
    },
    "tags": []
   },
   "source": [
    "### b.\n",
    "*Exercise: Using Nadam optimization and early stopping, train the network on the CIFAR10 dataset. You can load it with `keras.datasets.cifar10.load_data()`. The dataset is composed of 60,000 32 × 32–pixel color images (50,000 for training, 10,000 for testing) with 10 classes, so you'll need a softmax output layer with 10 neurons. Remember to search for the right learning rate each time you change the model's architecture or hyperparameters.*"
   ]
  },
  {
   "cell_type": "markdown",
   "id": "6a02fb95",
   "metadata": {
    "papermill": {
     "duration": 2.713098,
     "end_time": "2023-06-18T09:03:14.383041",
     "exception": false,
     "start_time": "2023-06-18T09:03:11.669943",
     "status": "completed"
    },
    "tags": []
   },
   "source": [
    "Let's add the output layer to the model:"
   ]
  },
  {
   "cell_type": "code",
   "execution_count": 128,
   "id": "04791604",
   "metadata": {
    "execution": {
     "iopub.execute_input": "2023-06-18T09:03:19.872330Z",
     "iopub.status.busy": "2023-06-18T09:03:19.871963Z",
     "iopub.status.idle": "2023-06-18T09:03:19.897634Z",
     "shell.execute_reply": "2023-06-18T09:03:19.896739Z"
    },
    "papermill": {
     "duration": 2.732446,
     "end_time": "2023-06-18T09:03:19.899806",
     "exception": false,
     "start_time": "2023-06-18T09:03:17.167360",
     "status": "completed"
    },
    "tags": []
   },
   "outputs": [],
   "source": [
    "model.add(keras.layers.Dense(10, activation=\"softmax\"))"
   ]
  },
  {
   "cell_type": "markdown",
   "id": "41c4d4a2",
   "metadata": {
    "papermill": {
     "duration": 2.688262,
     "end_time": "2023-06-18T09:03:25.693852",
     "exception": false,
     "start_time": "2023-06-18T09:03:23.005590",
     "status": "completed"
    },
    "tags": []
   },
   "source": [
    "Let's use a Nadam optimizer with a learning rate of 5e-5. I tried learning rates 1e-5, 3e-5, 1e-4, 3e-4, 1e-3, 3e-3 and 1e-2, and I compared their learning curves for 10 epochs each (using the TensorBoard callback, below). The learning rates 3e-5 and 1e-4 were pretty good, so I tried 5e-5, which turned out to be slightly better."
   ]
  },
  {
   "cell_type": "code",
   "execution_count": 129,
   "id": "a5a1546d",
   "metadata": {
    "execution": {
     "iopub.execute_input": "2023-06-18T09:03:31.134330Z",
     "iopub.status.busy": "2023-06-18T09:03:31.133978Z",
     "iopub.status.idle": "2023-06-18T09:03:31.148668Z",
     "shell.execute_reply": "2023-06-18T09:03:31.147783Z"
    },
    "papermill": {
     "duration": 2.732837,
     "end_time": "2023-06-18T09:03:31.150828",
     "exception": false,
     "start_time": "2023-06-18T09:03:28.417991",
     "status": "completed"
    },
    "tags": []
   },
   "outputs": [],
   "source": [
    "optimizer = keras.optimizers.Nadam(learning_rate=5e-5)\n",
    "model.compile(loss=\"sparse_categorical_crossentropy\",\n",
    "              optimizer=optimizer,\n",
    "              metrics=[\"accuracy\"])"
   ]
  },
  {
   "cell_type": "markdown",
   "id": "15afea9f",
   "metadata": {
    "papermill": {
     "duration": 2.698287,
     "end_time": "2023-06-18T09:03:36.535335",
     "exception": false,
     "start_time": "2023-06-18T09:03:33.837048",
     "status": "completed"
    },
    "tags": []
   },
   "source": [
    "Let's load the CIFAR10 dataset. We also want to use early stopping, so we need a validation set. Let's use the first 5,000 images of the original training set as the validation set:"
   ]
  },
  {
   "cell_type": "code",
   "execution_count": 130,
   "id": "b16a4a67",
   "metadata": {
    "execution": {
     "iopub.execute_input": "2023-06-18T09:03:42.030498Z",
     "iopub.status.busy": "2023-06-18T09:03:42.030149Z",
     "iopub.status.idle": "2023-06-18T09:03:50.114484Z",
     "shell.execute_reply": "2023-06-18T09:03:50.113507Z"
    },
    "papermill": {
     "duration": 10.783797,
     "end_time": "2023-06-18T09:03:50.116930",
     "exception": false,
     "start_time": "2023-06-18T09:03:39.333133",
     "status": "completed"
    },
    "tags": []
   },
   "outputs": [
    {
     "name": "stdout",
     "output_type": "stream",
     "text": [
      "Downloading data from https://www.cs.toronto.edu/~kriz/cifar-10-python.tar.gz\n",
      "170498071/170498071 [==============================] - 6s 0us/step\n"
     ]
    }
   ],
   "source": [
    "(X_train_full, y_train_full), (X_test, y_test) = keras.datasets.cifar10.load_data()\n",
    "\n",
    "X_train = X_train_full[5000:]\n",
    "y_train = y_train_full[5000:]\n",
    "X_valid = X_train_full[:5000]\n",
    "y_valid = y_train_full[:5000]"
   ]
  },
  {
   "cell_type": "markdown",
   "id": "d4fc8606",
   "metadata": {
    "papermill": {
     "duration": 2.773675,
     "end_time": "2023-06-18T09:03:56.150050",
     "exception": false,
     "start_time": "2023-06-18T09:03:53.376375",
     "status": "completed"
    },
    "tags": []
   },
   "source": [
    "Now we can create the callbacks we need and train the model:"
   ]
  },
  {
   "cell_type": "code",
   "execution_count": 131,
   "id": "c89bbf5e",
   "metadata": {
    "execution": {
     "iopub.execute_input": "2023-06-18T09:04:01.626618Z",
     "iopub.status.busy": "2023-06-18T09:04:01.626241Z",
     "iopub.status.idle": "2023-06-18T09:04:01.632441Z",
     "shell.execute_reply": "2023-06-18T09:04:01.631420Z"
    },
    "papermill": {
     "duration": 2.704783,
     "end_time": "2023-06-18T09:04:01.634849",
     "exception": false,
     "start_time": "2023-06-18T09:03:58.930066",
     "status": "completed"
    },
    "tags": []
   },
   "outputs": [],
   "source": [
    "early_stopping_cb = keras.callbacks.EarlyStopping(patience=20)\n",
    "model_checkpoint_cb = keras.callbacks.ModelCheckpoint(\"my_cifar10_model.h5\", save_best_only=True)\n",
    "run_index = 1 # increment every time you train the model\n",
    "run_logdir = os.path.join(os.curdir, \"my_cifar10_logs\", \"run_{:03d}\".format(run_index))\n",
    "tensorboard_cb = keras.callbacks.TensorBoard(run_logdir)\n",
    "callbacks = [early_stopping_cb, model_checkpoint_cb, tensorboard_cb]"
   ]
  },
  {
   "cell_type": "code",
   "execution_count": 132,
   "id": "3f4a3dda",
   "metadata": {
    "execution": {
     "iopub.execute_input": "2023-06-18T09:04:07.125196Z",
     "iopub.status.busy": "2023-06-18T09:04:07.124812Z",
     "iopub.status.idle": "2023-06-18T09:04:13.146504Z",
     "shell.execute_reply": "2023-06-18T09:04:13.145493Z"
    },
    "papermill": {
     "duration": 8.778988,
     "end_time": "2023-06-18T09:04:13.148934",
     "exception": false,
     "start_time": "2023-06-18T09:04:04.369946",
     "status": "completed"
    },
    "tags": []
   },
   "outputs": [
    {
     "data": {
      "text/html": [
       "\n",
       "      <iframe id=\"tensorboard-frame-af783675e99a6003\" width=\"100%\" height=\"800\" frameborder=\"0\">\n",
       "      </iframe>\n",
       "      <script>\n",
       "        (function() {\n",
       "          const frame = document.getElementById(\"tensorboard-frame-af783675e99a6003\");\n",
       "          const url = new URL(\"/\", window.location);\n",
       "          const port = 6006;\n",
       "          if (port) {\n",
       "            url.port = port;\n",
       "          }\n",
       "          frame.src = url;\n",
       "        })();\n",
       "      </script>\n",
       "    "
      ],
      "text/plain": [
       "<IPython.core.display.HTML object>"
      ]
     },
     "metadata": {},
     "output_type": "display_data"
    }
   ],
   "source": [
    "%tensorboard --logdir=./my_cifar10_logs --port=6006"
   ]
  },
  {
   "cell_type": "code",
   "execution_count": 133,
   "id": "94050677",
   "metadata": {
    "execution": {
     "iopub.execute_input": "2023-06-18T09:04:18.678300Z",
     "iopub.status.busy": "2023-06-18T09:04:18.677948Z",
     "iopub.status.idle": "2023-06-18T09:15:55.518444Z",
     "shell.execute_reply": "2023-06-18T09:15:55.517411Z"
    },
    "papermill": {
     "duration": 699.655438,
     "end_time": "2023-06-18T09:15:55.520929",
     "exception": false,
     "start_time": "2023-06-18T09:04:15.865491",
     "status": "completed"
    },
    "scrolled": true,
    "tags": []
   },
   "outputs": [
    {
     "name": "stdout",
     "output_type": "stream",
     "text": [
      "Epoch 1/100\n",
      "1407/1407 [==============================] - 26s 10ms/step - loss: 5.2822 - accuracy: 0.1688 - val_loss: 2.1029 - val_accuracy: 0.2354\n",
      "Epoch 2/100\n",
      "1407/1407 [==============================] - 15s 11ms/step - loss: 2.0241 - accuracy: 0.2550 - val_loss: 1.9669 - val_accuracy: 0.2650\n",
      "Epoch 3/100\n",
      "1407/1407 [==============================] - 14s 10ms/step - loss: 1.9168 - accuracy: 0.3006 - val_loss: 1.8683 - val_accuracy: 0.3090\n",
      "Epoch 4/100\n",
      "1407/1407 [==============================] - 15s 11ms/step - loss: 1.8546 - accuracy: 0.3215 - val_loss: 1.8435 - val_accuracy: 0.3284\n",
      "Epoch 5/100\n",
      "1407/1407 [==============================] - 14s 10ms/step - loss: 1.7956 - accuracy: 0.3449 - val_loss: 1.7678 - val_accuracy: 0.3522\n",
      "Epoch 6/100\n",
      "1407/1407 [==============================] - 14s 10ms/step - loss: 1.7538 - accuracy: 0.3655 - val_loss: 1.7541 - val_accuracy: 0.3570\n",
      "Epoch 7/100\n",
      "1407/1407 [==============================] - 15s 11ms/step - loss: 1.7132 - accuracy: 0.3803 - val_loss: 1.7152 - val_accuracy: 0.3752\n",
      "Epoch 8/100\n",
      "1407/1407 [==============================] - 14s 10ms/step - loss: 1.6794 - accuracy: 0.3912 - val_loss: 1.6601 - val_accuracy: 0.3974\n",
      "Epoch 9/100\n",
      "1407/1407 [==============================] - 15s 10ms/step - loss: 1.6475 - accuracy: 0.4049 - val_loss: 1.6322 - val_accuracy: 0.4076\n",
      "Epoch 10/100\n",
      "1407/1407 [==============================] - 14s 10ms/step - loss: 1.6178 - accuracy: 0.4174 - val_loss: 1.6749 - val_accuracy: 0.3864\n",
      "Epoch 11/100\n",
      "1407/1407 [==============================] - 14s 10ms/step - loss: 1.5949 - accuracy: 0.4248 - val_loss: 1.6359 - val_accuracy: 0.4086\n",
      "Epoch 12/100\n",
      "1407/1407 [==============================] - 14s 10ms/step - loss: 1.5711 - accuracy: 0.4347 - val_loss: 1.6368 - val_accuracy: 0.4048\n",
      "Epoch 13/100\n",
      "1407/1407 [==============================] - 14s 10ms/step - loss: 1.5543 - accuracy: 0.4393 - val_loss: 1.6235 - val_accuracy: 0.4090\n",
      "Epoch 14/100\n",
      "1407/1407 [==============================] - 15s 11ms/step - loss: 1.5381 - accuracy: 0.4454 - val_loss: 1.5800 - val_accuracy: 0.4294\n",
      "Epoch 15/100\n",
      "1407/1407 [==============================] - 14s 10ms/step - loss: 1.5205 - accuracy: 0.4498 - val_loss: 1.5960 - val_accuracy: 0.4228\n",
      "Epoch 16/100\n",
      "1407/1407 [==============================] - 14s 10ms/step - loss: 1.5045 - accuracy: 0.4585 - val_loss: 1.5712 - val_accuracy: 0.4306\n",
      "Epoch 17/100\n",
      "1407/1407 [==============================] - 14s 10ms/step - loss: 1.4925 - accuracy: 0.4624 - val_loss: 1.5678 - val_accuracy: 0.4414\n",
      "Epoch 18/100\n",
      "1407/1407 [==============================] - 14s 10ms/step - loss: 1.4759 - accuracy: 0.4692 - val_loss: 1.6342 - val_accuracy: 0.4144\n",
      "Epoch 19/100\n",
      "1407/1407 [==============================] - 14s 10ms/step - loss: 1.4641 - accuracy: 0.4741 - val_loss: 1.5539 - val_accuracy: 0.4506\n",
      "Epoch 20/100\n",
      "1407/1407 [==============================] - 14s 10ms/step - loss: 1.4476 - accuracy: 0.4789 - val_loss: 1.5684 - val_accuracy: 0.4404\n",
      "Epoch 21/100\n",
      "1407/1407 [==============================] - 15s 10ms/step - loss: 1.4395 - accuracy: 0.4820 - val_loss: 1.5370 - val_accuracy: 0.4462\n",
      "Epoch 22/100\n",
      "1407/1407 [==============================] - 14s 10ms/step - loss: 1.4257 - accuracy: 0.4906 - val_loss: 1.5175 - val_accuracy: 0.4546\n",
      "Epoch 23/100\n",
      "1407/1407 [==============================] - 14s 10ms/step - loss: 1.4117 - accuracy: 0.4944 - val_loss: 1.5336 - val_accuracy: 0.4518\n",
      "Epoch 24/100\n",
      "1407/1407 [==============================] - 15s 10ms/step - loss: 1.4052 - accuracy: 0.4934 - val_loss: 1.5579 - val_accuracy: 0.4378\n",
      "Epoch 25/100\n",
      "1407/1407 [==============================] - 14s 10ms/step - loss: 1.3900 - accuracy: 0.4988 - val_loss: 1.5341 - val_accuracy: 0.4548\n",
      "Epoch 26/100\n",
      "1407/1407 [==============================] - 15s 11ms/step - loss: 1.3803 - accuracy: 0.5033 - val_loss: 1.5473 - val_accuracy: 0.4464\n",
      "Epoch 27/100\n",
      "1407/1407 [==============================] - 14s 10ms/step - loss: 1.3695 - accuracy: 0.5082 - val_loss: 1.5132 - val_accuracy: 0.4650\n",
      "Epoch 28/100\n",
      "1407/1407 [==============================] - 14s 10ms/step - loss: 1.3615 - accuracy: 0.5100 - val_loss: 1.5735 - val_accuracy: 0.4384\n",
      "Epoch 29/100\n",
      "1407/1407 [==============================] - 15s 11ms/step - loss: 1.3522 - accuracy: 0.5110 - val_loss: 1.5136 - val_accuracy: 0.4602\n",
      "Epoch 30/100\n",
      "1407/1407 [==============================] - 14s 10ms/step - loss: 1.3413 - accuracy: 0.5176 - val_loss: 1.5834 - val_accuracy: 0.4472\n",
      "Epoch 31/100\n",
      "1407/1407 [==============================] - 15s 11ms/step - loss: 1.3317 - accuracy: 0.5180 - val_loss: 1.5692 - val_accuracy: 0.4564\n",
      "Epoch 32/100\n",
      "1407/1407 [==============================] - 14s 10ms/step - loss: 1.3262 - accuracy: 0.5226 - val_loss: 1.5250 - val_accuracy: 0.4666\n",
      "Epoch 33/100\n",
      "1407/1407 [==============================] - 14s 10ms/step - loss: 1.3158 - accuracy: 0.5264 - val_loss: 1.5429 - val_accuracy: 0.4612\n",
      "Epoch 34/100\n",
      "1407/1407 [==============================] - 14s 10ms/step - loss: 1.3068 - accuracy: 0.5300 - val_loss: 1.5386 - val_accuracy: 0.4640\n",
      "Epoch 35/100\n",
      "1407/1407 [==============================] - 14s 10ms/step - loss: 1.2992 - accuracy: 0.5322 - val_loss: 1.5337 - val_accuracy: 0.4598\n",
      "Epoch 36/100\n",
      "1407/1407 [==============================] - 16s 11ms/step - loss: 1.2937 - accuracy: 0.5352 - val_loss: 1.5426 - val_accuracy: 0.4616\n",
      "Epoch 37/100\n",
      "1407/1407 [==============================] - 15s 11ms/step - loss: 1.2822 - accuracy: 0.5373 - val_loss: 1.5548 - val_accuracy: 0.4544\n",
      "Epoch 38/100\n",
      "1407/1407 [==============================] - 16s 11ms/step - loss: 1.2765 - accuracy: 0.5393 - val_loss: 1.5349 - val_accuracy: 0.4604\n",
      "Epoch 39/100\n",
      "1407/1407 [==============================] - 16s 11ms/step - loss: 1.2657 - accuracy: 0.5452 - val_loss: 1.5300 - val_accuracy: 0.4656\n",
      "Epoch 40/100\n",
      "1407/1407 [==============================] - 15s 10ms/step - loss: 1.2576 - accuracy: 0.5466 - val_loss: 1.5603 - val_accuracy: 0.4530\n",
      "Epoch 41/100\n",
      "1407/1407 [==============================] - 15s 11ms/step - loss: 1.2530 - accuracy: 0.5491 - val_loss: 1.5509 - val_accuracy: 0.4648\n",
      "Epoch 42/100\n",
      "1407/1407 [==============================] - 14s 10ms/step - loss: 1.2471 - accuracy: 0.5500 - val_loss: 1.5360 - val_accuracy: 0.4698\n",
      "Epoch 43/100\n",
      "1407/1407 [==============================] - 16s 11ms/step - loss: 1.2350 - accuracy: 0.5565 - val_loss: 1.5751 - val_accuracy: 0.4578\n",
      "Epoch 44/100\n",
      "1407/1407 [==============================] - 14s 10ms/step - loss: 1.2310 - accuracy: 0.5560 - val_loss: 1.5564 - val_accuracy: 0.4602\n",
      "Epoch 45/100\n",
      "1407/1407 [==============================] - 14s 10ms/step - loss: 1.2233 - accuracy: 0.5575 - val_loss: 1.5299 - val_accuracy: 0.4734\n",
      "Epoch 46/100\n",
      "1407/1407 [==============================] - 15s 11ms/step - loss: 1.2126 - accuracy: 0.5642 - val_loss: 1.5344 - val_accuracy: 0.4644\n",
      "Epoch 47/100\n",
      "1407/1407 [==============================] - 14s 10ms/step - loss: 1.2087 - accuracy: 0.5653 - val_loss: 1.5712 - val_accuracy: 0.4618\n"
     ]
    },
    {
     "data": {
      "text/plain": [
       "<keras.callbacks.History at 0x7d74f1e318d0>"
      ]
     },
     "execution_count": 133,
     "metadata": {},
     "output_type": "execute_result"
    }
   ],
   "source": [
    "model.fit(X_train, y_train, epochs=100,\n",
    "          validation_data=(X_valid, y_valid),\n",
    "          callbacks=callbacks)"
   ]
  },
  {
   "cell_type": "code",
   "execution_count": 134,
   "id": "0628a559",
   "metadata": {
    "execution": {
     "iopub.execute_input": "2023-06-18T09:16:03.408422Z",
     "iopub.status.busy": "2023-06-18T09:16:03.408032Z",
     "iopub.status.idle": "2023-06-18T09:16:46.707156Z",
     "shell.execute_reply": "2023-06-18T09:16:46.704726Z"
    },
    "papermill": {
     "duration": 50.354785,
     "end_time": "2023-06-18T09:16:49.992963",
     "exception": false,
     "start_time": "2023-06-18T09:15:59.638178",
     "status": "completed"
    },
    "tags": []
   },
   "outputs": [
    {
     "name": "stdout",
     "output_type": "stream",
     "text": [
      "157/157 [==============================] - 1s 4ms/step - loss: 1.5132 - accuracy: 0.4650\n"
     ]
    },
    {
     "data": {
      "text/plain": [
       "[1.5132033824920654, 0.4650000035762787]"
      ]
     },
     "execution_count": 134,
     "metadata": {},
     "output_type": "execute_result"
    }
   ],
   "source": [
    "model = keras.models.load_model(\"my_cifar10_model.h5\")\n",
    "model.evaluate(X_valid, y_valid)"
   ]
  },
  {
   "cell_type": "markdown",
   "id": "1aa61b67",
   "metadata": {
    "papermill": {
     "duration": 3.723674,
     "end_time": "2023-06-18T09:16:57.389670",
     "exception": false,
     "start_time": "2023-06-18T09:16:53.665996",
     "status": "completed"
    },
    "tags": []
   },
   "source": [
    "The model with the lowest validation loss gets about 47.6% accuracy on the validation set. It took 27 epochs to reach the lowest validation loss, with roughly 8 seconds per epoch on my laptop (without a GPU). Let's see if we can improve performance using Batch Normalization."
   ]
  },
  {
   "cell_type": "markdown",
   "id": "355ae287",
   "metadata": {
    "papermill": {
     "duration": 3.661419,
     "end_time": "2023-06-18T09:17:05.264627",
     "exception": false,
     "start_time": "2023-06-18T09:17:01.603208",
     "status": "completed"
    },
    "tags": []
   },
   "source": [
    "### c.\n",
    "*Exercise: Now try adding Batch Normalization and compare the learning curves: Is it converging faster than before? Does it produce a better model? How does it affect training speed?*"
   ]
  },
  {
   "cell_type": "markdown",
   "id": "b4f1acbf",
   "metadata": {
    "papermill": {
     "duration": 3.765302,
     "end_time": "2023-06-18T09:17:12.752738",
     "exception": false,
     "start_time": "2023-06-18T09:17:08.987436",
     "status": "completed"
    },
    "tags": []
   },
   "source": [
    "The code below is very similar to the code above, with a few changes:\n",
    "\n",
    "* I added a BN layer after every Dense layer (before the activation function), except for the output layer. I also added a BN layer before the first hidden layer.\n",
    "* I changed the learning rate to 5e-4. I experimented with 1e-5, 3e-5, 5e-5, 1e-4, 3e-4, 5e-4, 1e-3 and 3e-3, and I chose the one with the best validation performance after 20 epochs.\n",
    "* I renamed the run directories to run_bn_* and the model file name to my_cifar10_bn_model.h5."
   ]
  },
  {
   "cell_type": "code",
   "execution_count": 135,
   "id": "bca3ce0a",
   "metadata": {
    "execution": {
     "iopub.execute_input": "2023-06-18T09:17:20.153938Z",
     "iopub.status.busy": "2023-06-18T09:17:20.153563Z",
     "iopub.status.idle": "2023-06-18T09:46:58.410803Z",
     "shell.execute_reply": "2023-06-18T09:46:58.409801Z"
    },
    "papermill": {
     "duration": 1787.707186,
     "end_time": "2023-06-18T09:47:04.137792",
     "exception": false,
     "start_time": "2023-06-18T09:17:16.430606",
     "status": "completed"
    },
    "tags": []
   },
   "outputs": [
    {
     "name": "stdout",
     "output_type": "stream",
     "text": [
      "Epoch 1/100\n",
      "1407/1407 [==============================] - 68s 31ms/step - loss: 1.8472 - accuracy: 0.3383 - val_loss: 1.6571 - val_accuracy: 0.4032\n",
      "Epoch 2/100\n",
      "1407/1407 [==============================] - 43s 31ms/step - loss: 1.6737 - accuracy: 0.4039 - val_loss: 1.5697 - val_accuracy: 0.4330\n",
      "Epoch 3/100\n",
      "1407/1407 [==============================] - 43s 31ms/step - loss: 1.6036 - accuracy: 0.4305 - val_loss: 1.5110 - val_accuracy: 0.4582\n",
      "Epoch 4/100\n",
      "1407/1407 [==============================] - 42s 30ms/step - loss: 1.5511 - accuracy: 0.4482 - val_loss: 1.5206 - val_accuracy: 0.4526\n",
      "Epoch 5/100\n",
      "1407/1407 [==============================] - 42s 30ms/step - loss: 1.5079 - accuracy: 0.4660 - val_loss: 1.4436 - val_accuracy: 0.4870\n",
      "Epoch 6/100\n",
      "1407/1407 [==============================] - 42s 30ms/step - loss: 1.4720 - accuracy: 0.4785 - val_loss: 1.4148 - val_accuracy: 0.5018\n",
      "Epoch 7/100\n",
      "1407/1407 [==============================] - 41s 29ms/step - loss: 1.4386 - accuracy: 0.4873 - val_loss: 1.4293 - val_accuracy: 0.4952\n",
      "Epoch 8/100\n",
      "1407/1407 [==============================] - 41s 29ms/step - loss: 1.4104 - accuracy: 0.4999 - val_loss: 1.3933 - val_accuracy: 0.5056\n",
      "Epoch 9/100\n",
      "1407/1407 [==============================] - 42s 30ms/step - loss: 1.3874 - accuracy: 0.5111 - val_loss: 1.3676 - val_accuracy: 0.5096\n",
      "Epoch 10/100\n",
      "1407/1407 [==============================] - 40s 28ms/step - loss: 1.3651 - accuracy: 0.5160 - val_loss: 1.3802 - val_accuracy: 0.5002\n",
      "Epoch 11/100\n",
      "1407/1407 [==============================] - 42s 30ms/step - loss: 1.3429 - accuracy: 0.5244 - val_loss: 1.3409 - val_accuracy: 0.5244\n",
      "Epoch 12/100\n",
      "1407/1407 [==============================] - 39s 28ms/step - loss: 1.3208 - accuracy: 0.5331 - val_loss: 1.3847 - val_accuracy: 0.5060\n",
      "Epoch 13/100\n",
      "1407/1407 [==============================] - 41s 29ms/step - loss: 1.2987 - accuracy: 0.5402 - val_loss: 1.3502 - val_accuracy: 0.5176\n",
      "Epoch 14/100\n",
      "1407/1407 [==============================] - 39s 28ms/step - loss: 1.2845 - accuracy: 0.5453 - val_loss: 1.3485 - val_accuracy: 0.5230\n",
      "Epoch 15/100\n",
      "1407/1407 [==============================] - 39s 28ms/step - loss: 1.2626 - accuracy: 0.5544 - val_loss: 1.3442 - val_accuracy: 0.5260\n",
      "Epoch 16/100\n",
      "1407/1407 [==============================] - 40s 29ms/step - loss: 1.2536 - accuracy: 0.5562 - val_loss: 1.3451 - val_accuracy: 0.5282\n",
      "Epoch 17/100\n",
      "1407/1407 [==============================] - 39s 28ms/step - loss: 1.2343 - accuracy: 0.5638 - val_loss: 1.3174 - val_accuracy: 0.5320\n",
      "Epoch 18/100\n",
      "1407/1407 [==============================] - 39s 28ms/step - loss: 1.2188 - accuracy: 0.5689 - val_loss: 1.3422 - val_accuracy: 0.5224\n",
      "Epoch 19/100\n",
      "1407/1407 [==============================] - 40s 29ms/step - loss: 1.2078 - accuracy: 0.5733 - val_loss: 1.3372 - val_accuracy: 0.5278\n",
      "Epoch 20/100\n",
      "1407/1407 [==============================] - 38s 27ms/step - loss: 1.1947 - accuracy: 0.5808 - val_loss: 1.3616 - val_accuracy: 0.5188\n",
      "Epoch 21/100\n",
      "1407/1407 [==============================] - 40s 29ms/step - loss: 1.1762 - accuracy: 0.5861 - val_loss: 1.3382 - val_accuracy: 0.5308\n",
      "Epoch 22/100\n",
      "1407/1407 [==============================] - 38s 27ms/step - loss: 1.1615 - accuracy: 0.5885 - val_loss: 1.3316 - val_accuracy: 0.5284\n",
      "Epoch 23/100\n",
      "1407/1407 [==============================] - 41s 29ms/step - loss: 1.1538 - accuracy: 0.5948 - val_loss: 1.3012 - val_accuracy: 0.5446\n",
      "Epoch 24/100\n",
      "1407/1407 [==============================] - 38s 27ms/step - loss: 1.1380 - accuracy: 0.5981 - val_loss: 1.3210 - val_accuracy: 0.5392\n",
      "Epoch 25/100\n",
      "1407/1407 [==============================] - 39s 28ms/step - loss: 1.1252 - accuracy: 0.6042 - val_loss: 1.3072 - val_accuracy: 0.5422\n",
      "Epoch 26/100\n",
      "1407/1407 [==============================] - 40s 28ms/step - loss: 1.1158 - accuracy: 0.6058 - val_loss: 1.3507 - val_accuracy: 0.5206\n",
      "Epoch 27/100\n",
      "1407/1407 [==============================] - 38s 27ms/step - loss: 1.1041 - accuracy: 0.6100 - val_loss: 1.3420 - val_accuracy: 0.5378\n",
      "Epoch 28/100\n",
      "1407/1407 [==============================] - 41s 29ms/step - loss: 1.0956 - accuracy: 0.6137 - val_loss: 1.3250 - val_accuracy: 0.5380\n",
      "Epoch 29/100\n",
      "1407/1407 [==============================] - 39s 28ms/step - loss: 1.0822 - accuracy: 0.6194 - val_loss: 1.3261 - val_accuracy: 0.5350\n",
      "Epoch 30/100\n",
      "1407/1407 [==============================] - 40s 29ms/step - loss: 1.0734 - accuracy: 0.6206 - val_loss: 1.3124 - val_accuracy: 0.5490\n",
      "Epoch 31/100\n",
      "1407/1407 [==============================] - 39s 27ms/step - loss: 1.0639 - accuracy: 0.6243 - val_loss: 1.3305 - val_accuracy: 0.5406\n",
      "Epoch 32/100\n",
      "1407/1407 [==============================] - 40s 29ms/step - loss: 1.0513 - accuracy: 0.6287 - val_loss: 1.3239 - val_accuracy: 0.5512\n",
      "Epoch 33/100\n",
      "1407/1407 [==============================] - 41s 29ms/step - loss: 1.0425 - accuracy: 0.6343 - val_loss: 1.3295 - val_accuracy: 0.5442\n",
      "Epoch 34/100\n",
      "1407/1407 [==============================] - 38s 27ms/step - loss: 1.0269 - accuracy: 0.6373 - val_loss: 1.3421 - val_accuracy: 0.5482\n",
      "Epoch 35/100\n",
      "1407/1407 [==============================] - 41s 29ms/step - loss: 1.0239 - accuracy: 0.6412 - val_loss: 1.3514 - val_accuracy: 0.5376\n",
      "Epoch 36/100\n",
      "1407/1407 [==============================] - 39s 28ms/step - loss: 1.0127 - accuracy: 0.6443 - val_loss: 1.3343 - val_accuracy: 0.5426\n",
      "Epoch 37/100\n",
      "1407/1407 [==============================] - 40s 28ms/step - loss: 0.9952 - accuracy: 0.6524 - val_loss: 1.3412 - val_accuracy: 0.5434\n",
      "Epoch 38/100\n",
      "1407/1407 [==============================] - 38s 27ms/step - loss: 0.9942 - accuracy: 0.6508 - val_loss: 1.3348 - val_accuracy: 0.5496\n",
      "Epoch 39/100\n",
      "1407/1407 [==============================] - 40s 29ms/step - loss: 0.9791 - accuracy: 0.6531 - val_loss: 1.3376 - val_accuracy: 0.5480\n",
      "Epoch 40/100\n",
      "1407/1407 [==============================] - 41s 29ms/step - loss: 0.9738 - accuracy: 0.6583 - val_loss: 1.3747 - val_accuracy: 0.5412\n",
      "Epoch 41/100\n",
      "1407/1407 [==============================] - 37s 26ms/step - loss: 0.9643 - accuracy: 0.6606 - val_loss: 1.3704 - val_accuracy: 0.5526\n",
      "Epoch 42/100\n",
      "1407/1407 [==============================] - 40s 28ms/step - loss: 0.9527 - accuracy: 0.6634 - val_loss: 1.3530 - val_accuracy: 0.5412\n",
      "Epoch 43/100\n",
      "1407/1407 [==============================] - 38s 27ms/step - loss: 0.9545 - accuracy: 0.6637 - val_loss: 1.3468 - val_accuracy: 0.5478\n",
      "157/157 [==============================] - 2s 6ms/step - loss: 1.3012 - accuracy: 0.5446\n"
     ]
    },
    {
     "data": {
      "text/plain": [
       "[1.3011584281921387, 0.5446000099182129]"
      ]
     },
     "execution_count": 135,
     "metadata": {},
     "output_type": "execute_result"
    }
   ],
   "source": [
    "keras.backend.clear_session()\n",
    "tf.random.set_seed(42)\n",
    "np.random.seed(42)\n",
    "\n",
    "model = keras.models.Sequential()\n",
    "model.add(keras.layers.Flatten(input_shape=[32, 32, 3]))\n",
    "model.add(keras.layers.BatchNormalization())\n",
    "for _ in range(20):\n",
    "    model.add(keras.layers.Dense(100, kernel_initializer=\"he_normal\"))\n",
    "    model.add(keras.layers.BatchNormalization())\n",
    "    model.add(keras.layers.Activation(\"elu\"))\n",
    "model.add(keras.layers.Dense(10, activation=\"softmax\"))\n",
    "\n",
    "optimizer = keras.optimizers.Nadam(learning_rate=5e-4)\n",
    "model.compile(loss=\"sparse_categorical_crossentropy\",\n",
    "              optimizer=optimizer,\n",
    "              metrics=[\"accuracy\"])\n",
    "\n",
    "early_stopping_cb = keras.callbacks.EarlyStopping(patience=20)\n",
    "model_checkpoint_cb = keras.callbacks.ModelCheckpoint(\"my_cifar10_bn_model.h5\", save_best_only=True)\n",
    "run_index = 1 # increment every time you train the model\n",
    "run_logdir = os.path.join(os.curdir, \"my_cifar10_logs\", \"run_bn_{:03d}\".format(run_index))\n",
    "tensorboard_cb = keras.callbacks.TensorBoard(run_logdir)\n",
    "callbacks = [early_stopping_cb, model_checkpoint_cb, tensorboard_cb]\n",
    "\n",
    "model.fit(X_train, y_train, epochs=100,\n",
    "          validation_data=(X_valid, y_valid),\n",
    "          callbacks=callbacks)\n",
    "\n",
    "model = keras.models.load_model(\"my_cifar10_bn_model.h5\")\n",
    "model.evaluate(X_valid, y_valid)"
   ]
  },
  {
   "cell_type": "markdown",
   "id": "73a7f1c5",
   "metadata": {
    "papermill": {
     "duration": 6.01015,
     "end_time": "2023-06-18T09:47:16.136870",
     "exception": false,
     "start_time": "2023-06-18T09:47:10.126720",
     "status": "completed"
    },
    "tags": []
   },
   "source": [
    "* *Is the model converging faster than before?* Much faster! The previous model took 27 epochs to reach the lowest validation loss, while the new model achieved that same loss in just 5 epochs and continued to make progress until the 16th epoch. The BN layers stabilized training and allowed us to use a much larger learning rate, so convergence was faster.\n",
    "* *Does BN produce a better model?* Yes! The final model is also much better, with 54.0% accuracy instead of 47.6%. It's still not a very good model, but at least it's much better than before (a Convolutional Neural Network would do much better, but that's a different topic, see chapter 14).\n",
    "* *How does BN affect training speed?* Although the model converged much faster, each epoch took about 12s instead of 8s, because of the extra computations required by the BN layers. But overall the training time (wall time) was shortened significantly!"
   ]
  },
  {
   "cell_type": "markdown",
   "id": "12714d44",
   "metadata": {
    "papermill": {
     "duration": 6.435632,
     "end_time": "2023-06-18T09:47:28.658550",
     "exception": false,
     "start_time": "2023-06-18T09:47:22.222918",
     "status": "completed"
    },
    "tags": []
   },
   "source": [
    "### d.\n",
    "*Exercise: Try replacing Batch Normalization with SELU, and make the necessary adjustements to ensure the network self-normalizes (i.e., standardize the input features, use LeCun normal initialization, make sure the DNN contains only a sequence of dense layers, etc.).*"
   ]
  },
  {
   "cell_type": "code",
   "execution_count": 136,
   "id": "1735499a",
   "metadata": {
    "execution": {
     "iopub.execute_input": "2023-06-18T09:47:40.862995Z",
     "iopub.status.busy": "2023-06-18T09:47:40.862544Z",
     "iopub.status.idle": "2023-06-18T09:55:11.841216Z",
     "shell.execute_reply": "2023-06-18T09:55:11.840293Z"
    },
    "papermill": {
     "duration": 457.098295,
     "end_time": "2023-06-18T09:55:11.843352",
     "exception": false,
     "start_time": "2023-06-18T09:47:34.745057",
     "status": "completed"
    },
    "scrolled": true,
    "tags": []
   },
   "outputs": [
    {
     "name": "stdout",
     "output_type": "stream",
     "text": [
      "Epoch 1/100\n",
      "1407/1407 [==============================] - 24s 11ms/step - loss: 1.9102 - accuracy: 0.3171 - val_loss: 1.8622 - val_accuracy: 0.3404\n",
      "Epoch 2/100\n",
      "1407/1407 [==============================] - 14s 10ms/step - loss: 1.7048 - accuracy: 0.3956 - val_loss: 1.6703 - val_accuracy: 0.4062\n",
      "Epoch 3/100\n",
      "1407/1407 [==============================] - 15s 10ms/step - loss: 1.6146 - accuracy: 0.4325 - val_loss: 1.6126 - val_accuracy: 0.4392\n",
      "Epoch 4/100\n",
      "1407/1407 [==============================] - 15s 11ms/step - loss: 1.5561 - accuracy: 0.4526 - val_loss: 1.6348 - val_accuracy: 0.4330\n",
      "Epoch 5/100\n",
      "1407/1407 [==============================] - 15s 10ms/step - loss: 1.5000 - accuracy: 0.4746 - val_loss: 1.5394 - val_accuracy: 0.4522\n",
      "Epoch 6/100\n",
      "1407/1407 [==============================] - 14s 10ms/step - loss: 1.4478 - accuracy: 0.4919 - val_loss: 1.5353 - val_accuracy: 0.4648\n",
      "Epoch 7/100\n",
      "1407/1407 [==============================] - 15s 10ms/step - loss: 1.4059 - accuracy: 0.5128 - val_loss: 1.5387 - val_accuracy: 0.4664\n",
      "Epoch 8/100\n",
      "1407/1407 [==============================] - 14s 10ms/step - loss: 1.3632 - accuracy: 0.5237 - val_loss: 1.4560 - val_accuracy: 0.5066\n",
      "Epoch 9/100\n",
      "1407/1407 [==============================] - 16s 11ms/step - loss: 1.3319 - accuracy: 0.5371 - val_loss: 1.4770 - val_accuracy: 0.4808\n",
      "Epoch 10/100\n",
      "1407/1407 [==============================] - 15s 10ms/step - loss: 1.3009 - accuracy: 0.5472 - val_loss: 1.5193 - val_accuracy: 0.4968\n",
      "Epoch 11/100\n",
      "1407/1407 [==============================] - 14s 10ms/step - loss: 1.2689 - accuracy: 0.5606 - val_loss: 1.5360 - val_accuracy: 0.4724\n",
      "Epoch 12/100\n",
      "1407/1407 [==============================] - 15s 10ms/step - loss: 1.2390 - accuracy: 0.5710 - val_loss: 1.4722 - val_accuracy: 0.5050\n",
      "Epoch 13/100\n",
      "1407/1407 [==============================] - 15s 11ms/step - loss: 1.2155 - accuracy: 0.5767 - val_loss: 1.4741 - val_accuracy: 0.4922\n",
      "Epoch 14/100\n",
      "1407/1407 [==============================] - 16s 11ms/step - loss: 1.1889 - accuracy: 0.5887 - val_loss: 1.4967 - val_accuracy: 0.5054\n",
      "Epoch 15/100\n",
      "1407/1407 [==============================] - 14s 10ms/step - loss: 1.1665 - accuracy: 0.5967 - val_loss: 1.4918 - val_accuracy: 0.5010\n",
      "Epoch 16/100\n",
      "1407/1407 [==============================] - 15s 10ms/step - loss: 1.1419 - accuracy: 0.6059 - val_loss: 1.5519 - val_accuracy: 0.4968\n",
      "Epoch 17/100\n",
      "1407/1407 [==============================] - 14s 10ms/step - loss: 1.2280 - accuracy: 0.5801 - val_loss: 1.5284 - val_accuracy: 0.4934\n",
      "Epoch 18/100\n",
      "1407/1407 [==============================] - 15s 11ms/step - loss: 1.1470 - accuracy: 0.5988 - val_loss: 1.5002 - val_accuracy: 0.4984\n",
      "Epoch 19/100\n",
      "1407/1407 [==============================] - 14s 10ms/step - loss: 1.0940 - accuracy: 0.6216 - val_loss: 1.5133 - val_accuracy: 0.5060\n",
      "Epoch 20/100\n",
      "1407/1407 [==============================] - 15s 10ms/step - loss: 1.1726 - accuracy: 0.5949 - val_loss: 1.4946 - val_accuracy: 0.5022\n",
      "Epoch 21/100\n",
      "1407/1407 [==============================] - 14s 10ms/step - loss: 1.0688 - accuracy: 0.6283 - val_loss: 1.5170 - val_accuracy: 0.5088\n",
      "Epoch 22/100\n",
      "1407/1407 [==============================] - 15s 10ms/step - loss: 1.0224 - accuracy: 0.6447 - val_loss: 1.5480 - val_accuracy: 0.5064\n",
      "Epoch 23/100\n",
      "1407/1407 [==============================] - 15s 11ms/step - loss: 1.0059 - accuracy: 0.6512 - val_loss: 1.5619 - val_accuracy: 0.4902\n",
      "Epoch 24/100\n",
      "1407/1407 [==============================] - 15s 10ms/step - loss: 1.0041 - accuracy: 0.6533 - val_loss: 1.5919 - val_accuracy: 0.5058\n",
      "Epoch 25/100\n",
      "1407/1407 [==============================] - 14s 10ms/step - loss: 1.0026 - accuracy: 0.6555 - val_loss: 1.5187 - val_accuracy: 0.5110\n",
      "Epoch 26/100\n",
      "1407/1407 [==============================] - 14s 10ms/step - loss: 0.9967 - accuracy: 0.6600 - val_loss: 1.5697 - val_accuracy: 0.4998\n",
      "Epoch 27/100\n",
      "1407/1407 [==============================] - 15s 10ms/step - loss: 0.9888 - accuracy: 0.6599 - val_loss: 1.6050 - val_accuracy: 0.5018\n",
      "Epoch 28/100\n",
      "1407/1407 [==============================] - 15s 11ms/step - loss: 0.9812 - accuracy: 0.6641 - val_loss: 1.5708 - val_accuracy: 0.5010\n",
      "157/157 [==============================] - 1s 3ms/step - loss: 1.4560 - accuracy: 0.5066\n"
     ]
    },
    {
     "data": {
      "text/plain": [
       "[1.4560221433639526, 0.506600022315979]"
      ]
     },
     "execution_count": 136,
     "metadata": {},
     "output_type": "execute_result"
    }
   ],
   "source": [
    "keras.backend.clear_session()\n",
    "tf.random.set_seed(42)\n",
    "np.random.seed(42)\n",
    "\n",
    "model = keras.models.Sequential()\n",
    "model.add(keras.layers.Flatten(input_shape=[32, 32, 3]))\n",
    "for _ in range(20):\n",
    "    model.add(keras.layers.Dense(100,\n",
    "                                 kernel_initializer=\"lecun_normal\",\n",
    "                                 activation=\"selu\"))\n",
    "model.add(keras.layers.Dense(10, activation=\"softmax\"))\n",
    "\n",
    "optimizer = keras.optimizers.Nadam(learning_rate=7e-4)\n",
    "model.compile(loss=\"sparse_categorical_crossentropy\",\n",
    "              optimizer=optimizer,\n",
    "              metrics=[\"accuracy\"])\n",
    "\n",
    "early_stopping_cb = keras.callbacks.EarlyStopping(patience=20)\n",
    "model_checkpoint_cb = keras.callbacks.ModelCheckpoint(\"my_cifar10_selu_model.h5\", save_best_only=True)\n",
    "run_index = 1 # increment every time you train the model\n",
    "run_logdir = os.path.join(os.curdir, \"my_cifar10_logs\", \"run_selu_{:03d}\".format(run_index))\n",
    "tensorboard_cb = keras.callbacks.TensorBoard(run_logdir)\n",
    "callbacks = [early_stopping_cb, model_checkpoint_cb, tensorboard_cb]\n",
    "\n",
    "X_means = X_train.mean(axis=0)\n",
    "X_stds = X_train.std(axis=0)\n",
    "X_train_scaled = (X_train - X_means) / X_stds\n",
    "X_valid_scaled = (X_valid - X_means) / X_stds\n",
    "X_test_scaled = (X_test - X_means) / X_stds\n",
    "\n",
    "model.fit(X_train_scaled, y_train, epochs=100,\n",
    "          validation_data=(X_valid_scaled, y_valid),\n",
    "          callbacks=callbacks)\n",
    "\n",
    "model = keras.models.load_model(\"my_cifar10_selu_model.h5\")\n",
    "model.evaluate(X_valid_scaled, y_valid)"
   ]
  },
  {
   "cell_type": "code",
   "execution_count": 137,
   "id": "c59968b5",
   "metadata": {
    "execution": {
     "iopub.execute_input": "2023-06-18T09:55:25.454882Z",
     "iopub.status.busy": "2023-06-18T09:55:25.454487Z",
     "iopub.status.idle": "2023-06-18T09:55:26.926102Z",
     "shell.execute_reply": "2023-06-18T09:55:26.924871Z"
    },
    "papermill": {
     "duration": 8.457784,
     "end_time": "2023-06-18T09:55:26.928993",
     "exception": false,
     "start_time": "2023-06-18T09:55:18.471209",
     "status": "completed"
    },
    "tags": []
   },
   "outputs": [
    {
     "name": "stdout",
     "output_type": "stream",
     "text": [
      "157/157 [==============================] - 1s 3ms/step - loss: 1.4560 - accuracy: 0.5066\n"
     ]
    },
    {
     "data": {
      "text/plain": [
       "[1.4560221433639526, 0.506600022315979]"
      ]
     },
     "execution_count": 137,
     "metadata": {},
     "output_type": "execute_result"
    }
   ],
   "source": [
    "model = keras.models.load_model(\"my_cifar10_selu_model.h5\")\n",
    "model.evaluate(X_valid_scaled, y_valid)"
   ]
  },
  {
   "cell_type": "markdown",
   "id": "3a0c7c31",
   "metadata": {
    "papermill": {
     "duration": 6.697767,
     "end_time": "2023-06-18T09:55:40.186009",
     "exception": false,
     "start_time": "2023-06-18T09:55:33.488242",
     "status": "completed"
    },
    "tags": []
   },
   "source": [
    "We get 47.9% accuracy, which is not much better than the original model (47.6%), and not as good as the model using batch normalization (54.0%). However, convergence was almost as fast as with the BN model, plus each epoch took only 7 seconds. So it's by far the fastest model to train so far."
   ]
  },
  {
   "cell_type": "markdown",
   "id": "364a6b64",
   "metadata": {
    "papermill": {
     "duration": 7.004143,
     "end_time": "2023-06-18T09:55:53.841466",
     "exception": false,
     "start_time": "2023-06-18T09:55:46.837323",
     "status": "completed"
    },
    "tags": []
   },
   "source": [
    "### e.\n",
    "*Exercise: Try regularizing the model with alpha dropout. Then, without retraining your model, see if you can achieve better accuracy using MC Dropout.*"
   ]
  },
  {
   "cell_type": "code",
   "execution_count": 138,
   "id": "15f77365",
   "metadata": {
    "execution": {
     "iopub.execute_input": "2023-06-18T09:56:07.089407Z",
     "iopub.status.busy": "2023-06-18T09:56:07.089023Z",
     "iopub.status.idle": "2023-06-18T10:03:19.983672Z",
     "shell.execute_reply": "2023-06-18T10:03:19.982577Z"
    },
    "papermill": {
     "duration": 439.493163,
     "end_time": "2023-06-18T10:03:19.986189",
     "exception": false,
     "start_time": "2023-06-18T09:56:00.493026",
     "status": "completed"
    },
    "tags": []
   },
   "outputs": [
    {
     "name": "stdout",
     "output_type": "stream",
     "text": [
      "Epoch 1/100\n",
      "1407/1407 [==============================] - 25s 11ms/step - loss: 1.9011 - accuracy: 0.3196 - val_loss: 1.7423 - val_accuracy: 0.3890\n",
      "Epoch 2/100\n",
      "1407/1407 [==============================] - 15s 10ms/step - loss: 1.6719 - accuracy: 0.4062 - val_loss: 1.6377 - val_accuracy: 0.4194\n",
      "Epoch 3/100\n",
      "1407/1407 [==============================] - 15s 11ms/step - loss: 1.5811 - accuracy: 0.4401 - val_loss: 1.5717 - val_accuracy: 0.4540\n",
      "Epoch 4/100\n",
      "1407/1407 [==============================] - 16s 11ms/step - loss: 1.5137 - accuracy: 0.4680 - val_loss: 1.5355 - val_accuracy: 0.4544\n",
      "Epoch 5/100\n",
      "1407/1407 [==============================] - 15s 10ms/step - loss: 1.4583 - accuracy: 0.4911 - val_loss: 1.5352 - val_accuracy: 0.4714\n",
      "Epoch 6/100\n",
      "1407/1407 [==============================] - 14s 10ms/step - loss: 1.4073 - accuracy: 0.5084 - val_loss: 1.5205 - val_accuracy: 0.4754\n",
      "Epoch 7/100\n",
      "1407/1407 [==============================] - 15s 10ms/step - loss: 1.3594 - accuracy: 0.5260 - val_loss: 1.5804 - val_accuracy: 0.4770\n",
      "Epoch 8/100\n",
      "1407/1407 [==============================] - 15s 11ms/step - loss: 1.3228 - accuracy: 0.5396 - val_loss: 1.4825 - val_accuracy: 0.4962\n",
      "Epoch 9/100\n",
      "1407/1407 [==============================] - 16s 11ms/step - loss: 1.2851 - accuracy: 0.5538 - val_loss: 1.5322 - val_accuracy: 0.4786\n",
      "Epoch 10/100\n",
      "1407/1407 [==============================] - 15s 10ms/step - loss: 1.2484 - accuracy: 0.5670 - val_loss: 1.5181 - val_accuracy: 0.4900\n",
      "Epoch 11/100\n",
      "1407/1407 [==============================] - 15s 10ms/step - loss: 1.2154 - accuracy: 0.5769 - val_loss: 1.5695 - val_accuracy: 0.4944\n",
      "Epoch 12/100\n",
      "1407/1407 [==============================] - 14s 10ms/step - loss: 1.1896 - accuracy: 0.5899 - val_loss: 1.5174 - val_accuracy: 0.4954\n",
      "Epoch 13/100\n",
      "1407/1407 [==============================] - 15s 11ms/step - loss: 1.1580 - accuracy: 0.5992 - val_loss: 1.5196 - val_accuracy: 0.5092\n",
      "Epoch 14/100\n",
      "1407/1407 [==============================] - 15s 11ms/step - loss: 1.1276 - accuracy: 0.6111 - val_loss: 1.5360 - val_accuracy: 0.5086\n",
      "Epoch 15/100\n",
      "1407/1407 [==============================] - 15s 11ms/step - loss: 1.1000 - accuracy: 0.6202 - val_loss: 1.6326 - val_accuracy: 0.4990\n",
      "Epoch 16/100\n",
      "1407/1407 [==============================] - 14s 10ms/step - loss: 1.0806 - accuracy: 0.6320 - val_loss: 1.5718 - val_accuracy: 0.5216\n",
      "Epoch 17/100\n",
      "1407/1407 [==============================] - 14s 10ms/step - loss: 1.0524 - accuracy: 0.6385 - val_loss: 1.5957 - val_accuracy: 0.5188\n",
      "Epoch 18/100\n",
      "1407/1407 [==============================] - 15s 11ms/step - loss: 1.0262 - accuracy: 0.6489 - val_loss: 1.6667 - val_accuracy: 0.5132\n",
      "Epoch 19/100\n",
      "1407/1407 [==============================] - 15s 10ms/step - loss: 1.0073 - accuracy: 0.6566 - val_loss: 1.7539 - val_accuracy: 0.5064\n",
      "Epoch 20/100\n",
      "1407/1407 [==============================] - 15s 10ms/step - loss: 0.9853 - accuracy: 0.6650 - val_loss: 1.7155 - val_accuracy: 0.4994\n",
      "Epoch 21/100\n",
      "1407/1407 [==============================] - 15s 10ms/step - loss: 0.9717 - accuracy: 0.6703 - val_loss: 1.6596 - val_accuracy: 0.5140\n",
      "Epoch 22/100\n",
      "1407/1407 [==============================] - 15s 11ms/step - loss: 0.9435 - accuracy: 0.6797 - val_loss: 1.7518 - val_accuracy: 0.5146\n",
      "Epoch 23/100\n",
      "1407/1407 [==============================] - 16s 11ms/step - loss: 0.9134 - accuracy: 0.6901 - val_loss: 1.7211 - val_accuracy: 0.5010\n",
      "Epoch 24/100\n",
      "1407/1407 [==============================] - 15s 11ms/step - loss: 0.9059 - accuracy: 0.6941 - val_loss: 1.7943 - val_accuracy: 0.5054\n",
      "Epoch 25/100\n",
      "1407/1407 [==============================] - 14s 10ms/step - loss: 0.8897 - accuracy: 0.6988 - val_loss: 1.8308 - val_accuracy: 0.5162\n",
      "Epoch 26/100\n",
      "1407/1407 [==============================] - 14s 10ms/step - loss: 0.8692 - accuracy: 0.7073 - val_loss: 1.7944 - val_accuracy: 0.5004\n",
      "Epoch 27/100\n",
      "1407/1407 [==============================] - 14s 10ms/step - loss: 0.8504 - accuracy: 0.7167 - val_loss: 1.8475 - val_accuracy: 0.5080\n",
      "Epoch 28/100\n",
      "1407/1407 [==============================] - 16s 11ms/step - loss: 1.7462 - accuracy: 0.7006 - val_loss: 1.7785 - val_accuracy: 0.4632\n",
      "157/157 [==============================] - 1s 3ms/step - loss: 1.4825 - accuracy: 0.4962\n"
     ]
    },
    {
     "data": {
      "text/plain": [
       "[1.482522964477539, 0.49619999527931213]"
      ]
     },
     "execution_count": 138,
     "metadata": {},
     "output_type": "execute_result"
    }
   ],
   "source": [
    "keras.backend.clear_session()\n",
    "tf.random.set_seed(42)\n",
    "np.random.seed(42)\n",
    "\n",
    "model = keras.models.Sequential()\n",
    "model.add(keras.layers.Flatten(input_shape=[32, 32, 3]))\n",
    "for _ in range(20):\n",
    "    model.add(keras.layers.Dense(100,\n",
    "                                 kernel_initializer=\"lecun_normal\",\n",
    "                                 activation=\"selu\"))\n",
    "\n",
    "model.add(keras.layers.AlphaDropout(rate=0.1))\n",
    "model.add(keras.layers.Dense(10, activation=\"softmax\"))\n",
    "\n",
    "optimizer = keras.optimizers.Nadam(learning_rate=5e-4)\n",
    "model.compile(loss=\"sparse_categorical_crossentropy\",\n",
    "              optimizer=optimizer,\n",
    "              metrics=[\"accuracy\"])\n",
    "\n",
    "early_stopping_cb = keras.callbacks.EarlyStopping(patience=20)\n",
    "model_checkpoint_cb = keras.callbacks.ModelCheckpoint(\"my_cifar10_alpha_dropout_model.h5\", save_best_only=True)\n",
    "run_index = 1 # increment every time you train the model\n",
    "run_logdir = os.path.join(os.curdir, \"my_cifar10_logs\", \"run_alpha_dropout_{:03d}\".format(run_index))\n",
    "tensorboard_cb = keras.callbacks.TensorBoard(run_logdir)\n",
    "callbacks = [early_stopping_cb, model_checkpoint_cb, tensorboard_cb]\n",
    "\n",
    "X_means = X_train.mean(axis=0)\n",
    "X_stds = X_train.std(axis=0)\n",
    "X_train_scaled = (X_train - X_means) / X_stds\n",
    "X_valid_scaled = (X_valid - X_means) / X_stds\n",
    "X_test_scaled = (X_test - X_means) / X_stds\n",
    "\n",
    "model.fit(X_train_scaled, y_train, epochs=100,\n",
    "          validation_data=(X_valid_scaled, y_valid),\n",
    "          callbacks=callbacks)\n",
    "\n",
    "model = keras.models.load_model(\"my_cifar10_alpha_dropout_model.h5\")\n",
    "model.evaluate(X_valid_scaled, y_valid)"
   ]
  },
  {
   "cell_type": "markdown",
   "id": "42ab6673",
   "metadata": {
    "papermill": {
     "duration": 7.123525,
     "end_time": "2023-06-18T10:03:34.216833",
     "exception": false,
     "start_time": "2023-06-18T10:03:27.093308",
     "status": "completed"
    },
    "tags": []
   },
   "source": [
    "The model reaches 48.9% accuracy on the validation set. That's very slightly better than without dropout (47.6%). With an extensive hyperparameter search, it might be possible to do better (I tried dropout rates of 5%, 10%, 20% and 40%, and learning rates 1e-4, 3e-4, 5e-4, and 1e-3), but probably not much better in this case."
   ]
  },
  {
   "cell_type": "markdown",
   "id": "09c6ddaa",
   "metadata": {
    "papermill": {
     "duration": 7.619078,
     "end_time": "2023-06-18T10:03:49.251294",
     "exception": false,
     "start_time": "2023-06-18T10:03:41.632216",
     "status": "completed"
    },
    "tags": []
   },
   "source": [
    "Let's use MC Dropout now. We will need the `MCAlphaDropout` class we used earlier, so let's just copy it here for convenience:"
   ]
  },
  {
   "cell_type": "code",
   "execution_count": 139,
   "id": "896d0c3c",
   "metadata": {
    "execution": {
     "iopub.execute_input": "2023-06-18T10:04:03.736357Z",
     "iopub.status.busy": "2023-06-18T10:04:03.735985Z",
     "iopub.status.idle": "2023-06-18T10:04:03.741147Z",
     "shell.execute_reply": "2023-06-18T10:04:03.740200Z"
    },
    "papermill": {
     "duration": 7.248356,
     "end_time": "2023-06-18T10:04:03.743059",
     "exception": false,
     "start_time": "2023-06-18T10:03:56.494703",
     "status": "completed"
    },
    "tags": []
   },
   "outputs": [],
   "source": [
    "class MCAlphaDropout(keras.layers.AlphaDropout):\n",
    "    def call(self, inputs):\n",
    "        return super().call(inputs, training=True)"
   ]
  },
  {
   "cell_type": "markdown",
   "id": "ce2e9b26",
   "metadata": {
    "papermill": {
     "duration": 7.704027,
     "end_time": "2023-06-18T10:04:18.677253",
     "exception": false,
     "start_time": "2023-06-18T10:04:10.973226",
     "status": "completed"
    },
    "tags": []
   },
   "source": [
    "Now let's create a new model, identical to the one we just trained (with the same weights), but with `MCAlphaDropout` dropout layers instead of `AlphaDropout` layers:"
   ]
  },
  {
   "cell_type": "code",
   "execution_count": 140,
   "id": "b1c07181",
   "metadata": {
    "execution": {
     "iopub.execute_input": "2023-06-18T10:04:33.062543Z",
     "iopub.status.busy": "2023-06-18T10:04:33.062162Z",
     "iopub.status.idle": "2023-06-18T10:04:33.251236Z",
     "shell.execute_reply": "2023-06-18T10:04:33.250293Z"
    },
    "papermill": {
     "duration": 7.521892,
     "end_time": "2023-06-18T10:04:33.253716",
     "exception": false,
     "start_time": "2023-06-18T10:04:25.731824",
     "status": "completed"
    },
    "tags": []
   },
   "outputs": [],
   "source": [
    "mc_model = keras.models.Sequential([\n",
    "    MCAlphaDropout(layer.rate) if isinstance(layer, keras.layers.AlphaDropout) else layer\n",
    "    for layer in model.layers\n",
    "])"
   ]
  },
  {
   "cell_type": "markdown",
   "id": "074be08f",
   "metadata": {
    "papermill": {
     "duration": 7.622413,
     "end_time": "2023-06-18T10:04:47.982589",
     "exception": false,
     "start_time": "2023-06-18T10:04:40.360176",
     "status": "completed"
    },
    "tags": []
   },
   "source": [
    "Then let's add a couple utility functions. The first will run the model many times (10 by default) and it will return the mean predicted class probabilities. The second will use these mean probabilities to predict the most likely class for each instance:"
   ]
  },
  {
   "cell_type": "code",
   "execution_count": 141,
   "id": "28cda62f",
   "metadata": {
    "execution": {
     "iopub.execute_input": "2023-06-18T10:05:02.493935Z",
     "iopub.status.busy": "2023-06-18T10:05:02.493569Z",
     "iopub.status.idle": "2023-06-18T10:05:02.499470Z",
     "shell.execute_reply": "2023-06-18T10:05:02.498507Z"
    },
    "papermill": {
     "duration": 7.243569,
     "end_time": "2023-06-18T10:05:02.501473",
     "exception": false,
     "start_time": "2023-06-18T10:04:55.257904",
     "status": "completed"
    },
    "tags": []
   },
   "outputs": [],
   "source": [
    "def mc_dropout_predict_probas(mc_model, X, n_samples=10):\n",
    "    Y_probas = [mc_model.predict(X) for sample in range(n_samples)]\n",
    "    return np.mean(Y_probas, axis=0)\n",
    "\n",
    "def mc_dropout_predict_classes(mc_model, X, n_samples=10):\n",
    "    Y_probas = mc_dropout_predict_probas(mc_model, X, n_samples)\n",
    "    return np.argmax(Y_probas, axis=1)"
   ]
  },
  {
   "cell_type": "markdown",
   "id": "3fe1ab60",
   "metadata": {
    "papermill": {
     "duration": 7.198492,
     "end_time": "2023-06-18T10:05:16.963802",
     "exception": false,
     "start_time": "2023-06-18T10:05:09.765310",
     "status": "completed"
    },
    "tags": []
   },
   "source": [
    "Now let's make predictions for all the instances in the validation set, and compute the accuracy:"
   ]
  },
  {
   "cell_type": "code",
   "execution_count": 142,
   "id": "0944284a",
   "metadata": {
    "execution": {
     "iopub.execute_input": "2023-06-18T10:05:31.783535Z",
     "iopub.status.busy": "2023-06-18T10:05:31.783169Z",
     "iopub.status.idle": "2023-06-18T10:05:38.828614Z",
     "shell.execute_reply": "2023-06-18T10:05:38.827557Z"
    },
    "papermill": {
     "duration": 14.270539,
     "end_time": "2023-06-18T10:05:38.830761",
     "exception": false,
     "start_time": "2023-06-18T10:05:24.560222",
     "status": "completed"
    },
    "tags": []
   },
   "outputs": [
    {
     "name": "stdout",
     "output_type": "stream",
     "text": [
      "157/157 [==============================] - 1s 2ms/step\n",
      "157/157 [==============================] - 0s 2ms/step\n",
      "157/157 [==============================] - 0s 2ms/step\n",
      "157/157 [==============================] - 0s 2ms/step\n",
      "157/157 [==============================] - 0s 2ms/step\n",
      "157/157 [==============================] - 0s 2ms/step\n",
      "157/157 [==============================] - 0s 2ms/step\n",
      "157/157 [==============================] - 0s 2ms/step\n",
      "157/157 [==============================] - 0s 2ms/step\n",
      "157/157 [==============================] - 0s 2ms/step\n"
     ]
    },
    {
     "data": {
      "text/plain": [
       "0.4948"
      ]
     },
     "execution_count": 142,
     "metadata": {},
     "output_type": "execute_result"
    }
   ],
   "source": [
    "keras.backend.clear_session()\n",
    "tf.random.set_seed(42)\n",
    "np.random.seed(42)\n",
    "\n",
    "y_pred = mc_dropout_predict_classes(mc_model, X_valid_scaled)\n",
    "accuracy = np.mean(y_pred == y_valid[:, 0])\n",
    "accuracy"
   ]
  },
  {
   "cell_type": "markdown",
   "id": "c045d0a3",
   "metadata": {
    "papermill": {
     "duration": 7.694367,
     "end_time": "2023-06-18T10:05:53.722248",
     "exception": false,
     "start_time": "2023-06-18T10:05:46.027881",
     "status": "completed"
    },
    "tags": []
   },
   "source": [
    "We get no accuracy improvement in this case (we're still at 48.9% accuracy).\n",
    "\n",
    "So the best model we got in this exercise is the Batch Normalization model."
   ]
  },
  {
   "cell_type": "markdown",
   "id": "8b4a5645",
   "metadata": {
    "papermill": {
     "duration": 7.216398,
     "end_time": "2023-06-18T10:06:08.193059",
     "exception": false,
     "start_time": "2023-06-18T10:06:00.976661",
     "status": "completed"
    },
    "tags": []
   },
   "source": [
    "### f.\n",
    "*Exercise: Retrain your model using 1cycle scheduling and see if it improves training speed and model accuracy.*"
   ]
  },
  {
   "cell_type": "code",
   "execution_count": 143,
   "id": "47e8c367",
   "metadata": {
    "execution": {
     "iopub.execute_input": "2023-06-18T10:06:22.940844Z",
     "iopub.status.busy": "2023-06-18T10:06:22.940444Z",
     "iopub.status.idle": "2023-06-18T10:06:23.235445Z",
     "shell.execute_reply": "2023-06-18T10:06:23.234441Z"
    },
    "papermill": {
     "duration": 8.045245,
     "end_time": "2023-06-18T10:06:23.238161",
     "exception": false,
     "start_time": "2023-06-18T10:06:15.192916",
     "status": "completed"
    },
    "tags": []
   },
   "outputs": [],
   "source": [
    "keras.backend.clear_session()\n",
    "tf.random.set_seed(42)\n",
    "np.random.seed(42)\n",
    "\n",
    "model = keras.models.Sequential()\n",
    "model.add(keras.layers.Flatten(input_shape=[32, 32, 3]))\n",
    "for _ in range(20):\n",
    "    model.add(keras.layers.Dense(100,\n",
    "                                 kernel_initializer=\"lecun_normal\",\n",
    "                                 activation=\"selu\"))\n",
    "\n",
    "model.add(keras.layers.AlphaDropout(rate=0.1))\n",
    "model.add(keras.layers.Dense(10, activation=\"softmax\"))\n",
    "\n",
    "optimizer = keras.optimizers.SGD(learning_rate=1e-3)\n",
    "model.compile(loss=\"sparse_categorical_crossentropy\",\n",
    "              optimizer=optimizer,\n",
    "              metrics=[\"accuracy\"])"
   ]
  },
  {
   "cell_type": "code",
   "execution_count": 144,
   "id": "f593a07b",
   "metadata": {
    "execution": {
     "iopub.execute_input": "2023-06-18T10:06:37.791575Z",
     "iopub.status.busy": "2023-06-18T10:06:37.791201Z",
     "iopub.status.idle": "2023-06-18T10:06:45.303752Z",
     "shell.execute_reply": "2023-06-18T10:06:45.302836Z"
    },
    "papermill": {
     "duration": 14.763013,
     "end_time": "2023-06-18T10:06:45.305762",
     "exception": false,
     "start_time": "2023-06-18T10:06:30.542749",
     "status": "completed"
    },
    "tags": []
   },
   "outputs": [
    {
     "name": "stdout",
     "output_type": "stream",
     "text": [
      "352/352 [==============================] - 5s 7ms/step - loss: nan - accuracy: 0.1460\n"
     ]
    },
    {
     "data": {
      "text/plain": [
       "(9.999999747378752e-06,\n",
       " 9.615227699279785,\n",
       " 2.584181547164917,\n",
       " 3.9046067850930353)"
      ]
     },
     "execution_count": 144,
     "metadata": {},
     "output_type": "execute_result"
    },
    {
     "data": {
      "image/png": "[encoded data removed]",
      "text/plain": [
       "<Figure size 640x480 with 1 Axes>"
      ]
     },
     "metadata": {},
     "output_type": "display_data"
    }
   ],
   "source": [
    "batch_size = 128\n",
    "rates, losses = find_learning_rate(model, X_train_scaled, y_train, epochs=1, batch_size=batch_size)\n",
    "plot_lr_vs_loss(rates, losses)\n",
    "plt.axis([min(rates), max(rates), min(losses), (losses[0] + min(losses)) / 1.4])"
   ]
  },
  {
   "cell_type": "code",
   "execution_count": 145,
   "id": "db31292d",
   "metadata": {
    "execution": {
     "iopub.execute_input": "2023-06-18T10:07:00.235157Z",
     "iopub.status.busy": "2023-06-18T10:07:00.234804Z",
     "iopub.status.idle": "2023-06-18T10:07:00.495489Z",
     "shell.execute_reply": "2023-06-18T10:07:00.494554Z"
    },
    "papermill": {
     "duration": 7.973716,
     "end_time": "2023-06-18T10:07:00.498017",
     "exception": false,
     "start_time": "2023-06-18T10:06:52.524301",
     "status": "completed"
    },
    "tags": []
   },
   "outputs": [],
   "source": [
    "keras.backend.clear_session()\n",
    "tf.random.set_seed(42)\n",
    "np.random.seed(42)\n",
    "\n",
    "model = keras.models.Sequential()\n",
    "model.add(keras.layers.Flatten(input_shape=[32, 32, 3]))\n",
    "for _ in range(20):\n",
    "    model.add(keras.layers.Dense(100,\n",
    "                                 kernel_initializer=\"lecun_normal\",\n",
    "                                 activation=\"selu\"))\n",
    "\n",
    "model.add(keras.layers.AlphaDropout(rate=0.1))\n",
    "model.add(keras.layers.Dense(10, activation=\"softmax\"))\n",
    "\n",
    "optimizer = keras.optimizers.SGD(learning_rate=1e-2)\n",
    "model.compile(loss=\"sparse_categorical_crossentropy\",\n",
    "              optimizer=optimizer,\n",
    "              metrics=[\"accuracy\"])"
   ]
  },
  {
   "cell_type": "code",
   "execution_count": 146,
   "id": "3b0e442b",
   "metadata": {
    "execution": {
     "iopub.execute_input": "2023-06-18T10:07:14.881103Z",
     "iopub.status.busy": "2023-06-18T10:07:14.880735Z",
     "iopub.status.idle": "2023-06-18T10:07:59.294064Z",
     "shell.execute_reply": "2023-06-18T10:07:59.293039Z"
    },
    "papermill": {
     "duration": 51.566016,
     "end_time": "2023-06-18T10:07:59.296416",
     "exception": false,
     "start_time": "2023-06-18T10:07:07.730400",
     "status": "completed"
    },
    "tags": []
   },
   "outputs": [
    {
     "name": "stdout",
     "output_type": "stream",
     "text": [
      "Epoch 1/15\n",
      "352/352 [==============================] - 6s 8ms/step - loss: 2.0759 - accuracy: 0.2824 - val_loss: 1.7777 - val_accuracy: 0.3736\n",
      "Epoch 2/15\n",
      "352/352 [==============================] - 3s 8ms/step - loss: 1.7673 - accuracy: 0.3774 - val_loss: 1.6970 - val_accuracy: 0.3988\n",
      "Epoch 3/15\n",
      "352/352 [==============================] - 3s 8ms/step - loss: 1.6266 - accuracy: 0.4259 - val_loss: 1.6181 - val_accuracy: 0.4318\n",
      "Epoch 4/15\n",
      "352/352 [==============================] - 3s 7ms/step - loss: 1.5551 - accuracy: 0.4519 - val_loss: 1.6151 - val_accuracy: 0.4330\n",
      "Epoch 5/15\n",
      "352/352 [==============================] - 2s 7ms/step - loss: 1.5028 - accuracy: 0.4699 - val_loss: 1.6100 - val_accuracy: 0.4396\n",
      "Epoch 6/15\n",
      "352/352 [==============================] - 3s 7ms/step - loss: 1.4675 - accuracy: 0.4830 - val_loss: 1.5851 - val_accuracy: 0.4472\n",
      "Epoch 7/15\n",
      "352/352 [==============================] - 3s 8ms/step - loss: 1.4288 - accuracy: 0.4951 - val_loss: 1.6713 - val_accuracy: 0.4408\n",
      "Epoch 8/15\n",
      "352/352 [==============================] - 3s 7ms/step - loss: 1.3599 - accuracy: 0.5178 - val_loss: 1.5083 - val_accuracy: 0.4726\n",
      "Epoch 9/15\n",
      "352/352 [==============================] - 3s 7ms/step - loss: 1.2826 - accuracy: 0.5442 - val_loss: 1.5208 - val_accuracy: 0.4858\n",
      "Epoch 10/15\n",
      "352/352 [==============================] - 2s 7ms/step - loss: 1.2113 - accuracy: 0.5694 - val_loss: 1.5417 - val_accuracy: 0.5024\n",
      "Epoch 11/15\n",
      "352/352 [==============================] - 3s 7ms/step - loss: 1.1443 - accuracy: 0.5918 - val_loss: 1.5501 - val_accuracy: 0.4972\n",
      "Epoch 12/15\n",
      "352/352 [==============================] - 3s 7ms/step - loss: 1.0725 - accuracy: 0.6187 - val_loss: 1.5369 - val_accuracy: 0.5056\n",
      "Epoch 13/15\n",
      "352/352 [==============================] - 3s 7ms/step - loss: 1.0022 - accuracy: 0.6414 - val_loss: 1.5779 - val_accuracy: 0.5126\n",
      "Epoch 14/15\n",
      "352/352 [==============================] - 3s 8ms/step - loss: 0.9355 - accuracy: 0.6654 - val_loss: 1.5956 - val_accuracy: 0.5226\n",
      "Epoch 15/15\n",
      "352/352 [==============================] - 3s 9ms/step - loss: 0.8963 - accuracy: 0.6779 - val_loss: 1.6230 - val_accuracy: 0.5180\n"
     ]
    }
   ],
   "source": [
    "n_epochs = 15\n",
    "onecycle = OneCycleScheduler(math.ceil(len(X_train_scaled) / batch_size) * n_epochs, max_rate=0.05)\n",
    "history = model.fit(X_train_scaled, y_train, epochs=n_epochs, batch_size=batch_size,\n",
    "                    validation_data=(X_valid_scaled, y_valid),\n",
    "                    callbacks=[onecycle])"
   ]
  },
  {
   "cell_type": "markdown",
   "id": "52781009",
   "metadata": {
    "papermill": {
     "duration": 7.113467,
     "end_time": "2023-06-18T10:08:13.715294",
     "exception": false,
     "start_time": "2023-06-18T10:08:06.601827",
     "status": "completed"
    },
    "tags": []
   },
   "source": [
    "One cycle allowed us to train the model in just 15 epochs, each taking only 2 seconds (thanks to the larger batch size). This is several times faster than the fastest model we trained so far. Moreover, we improved the model's performance (from 47.6% to 52.0%). The batch normalized model reaches a slightly better performance (54%), but it's much slower to train."
   ]
  },
  {
   "cell_type": "code",
   "execution_count": null,
   "id": "efced021",
   "metadata": {
    "papermill": {
     "duration": 7.545759,
     "end_time": "2023-06-18T10:08:28.497645",
     "exception": false,
     "start_time": "2023-06-18T10:08:20.951886",
     "status": "completed"
    },
    "tags": []
   },
   "outputs": [],
   "source": []
  }
 ],
 "metadata": {
  "kernelspec": {
   "display_name": "Python 3",
   "language": "python",
   "name": "python3"
  },
  "language_info": {
   "codemirror_mode": {
    "name": "ipython",
    "version": 3
   },
   "file_extension": ".py",
   "mimetype": "text/x-python",
   "name": "python",
   "nbconvert_exporter": "python",
   "pygments_lexer": "ipython3",
   "version": "3.10.10"
  },
  "papermill": {
   "default_parameters": {},
   "duration": 6649.160318,
   "end_time": "2023-06-18T10:08:38.935711",
   "environment_variables": {},
   "exception": null,
   "input_path": "__notebook__.ipynb",
   "output_path": "__notebook__.ipynb",
   "parameters": {},
   "start_time": "2023-06-18T08:17:49.775393",
   "version": "2.4.0"
  }
 },
 "nbformat": 4,
 "nbformat_minor": 5
}
