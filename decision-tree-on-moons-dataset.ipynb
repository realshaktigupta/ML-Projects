{
 "cells": [
  {
   "cell_type": "code",
   "execution_count": 1,
   "id": "270d8d40",
   "metadata": {
    "_cell_guid": "b1076dfc-b9ad-4769-8c92-a6c4dae69d19",
    "_uuid": "8f2839f25d086af736a60e9eeb907d3b93b6e0e5",
    "execution": {
     "iopub.execute_input": "2023-05-29T14:26:55.001573Z",
     "iopub.status.busy": "2023-05-29T14:26:55.001032Z",
     "iopub.status.idle": "2023-05-29T14:26:55.019508Z",
     "shell.execute_reply": "2023-05-29T14:26:55.018465Z"
    },
    "papermill": {
     "duration": 0.030705,
     "end_time": "2023-05-29T14:26:55.022374",
     "exception": false,
     "start_time": "2023-05-29T14:26:54.991669",
     "status": "completed"
    },
    "tags": []
   },
   "outputs": [],
   "source": [
    "# This Python 3 environment comes with many helpful analytics libraries installed\n",
    "# It is defined by the kaggle/python Docker image: https://github.com/kaggle/docker-python\n",
    "# For example, here's several helpful packages to load\n",
    "\n",
    "import numpy as np # linear algebra\n",
    "import pandas as pd # data processing, CSV file I/O (e.g. pd.read_csv)\n",
    "\n",
    "# Input data files are available in the read-only \"../input/\" directory\n",
    "# For example, running this (by clicking run or pressing Shift+Enter) will list all files under the input directory\n",
    "\n",
    "import os\n",
    "for dirname, _, filenames in os.walk('/kaggle/input'):\n",
    "    for filename in filenames:\n",
    "        print(os.path.join(dirname, filename))\n",
    "\n",
    "# You can write up to 20GB to the current directory (/kaggle/working/) that gets preserved as output when you create a version using \"Save & Run All\" \n",
    "# You can also write temporary files to /kaggle/temp/, but they won't be saved outside of the current session"
   ]
  },
  {
   "cell_type": "markdown",
   "id": "a5198559",
   "metadata": {
    "papermill": {
     "duration": 0.005734,
     "end_time": "2023-05-29T14:26:55.034339",
     "exception": false,
     "start_time": "2023-05-29T14:26:55.028605",
     "status": "completed"
    },
    "tags": []
   },
   "source": [
    "**Generating The Dataset**\n",
    "\n",
    "First,we generate the dataset with a sample size of 10000 and some noise(0.4 to be precise)."
   ]
  },
  {
   "cell_type": "code",
   "execution_count": 2,
   "id": "2e7f8c92",
   "metadata": {
    "execution": {
     "iopub.execute_input": "2023-05-29T14:26:55.048541Z",
     "iopub.status.busy": "2023-05-29T14:26:55.048171Z",
     "iopub.status.idle": "2023-05-29T14:26:56.648240Z",
     "shell.execute_reply": "2023-05-29T14:26:56.647067Z"
    },
    "papermill": {
     "duration": 1.610747,
     "end_time": "2023-05-29T14:26:56.651100",
     "exception": false,
     "start_time": "2023-05-29T14:26:55.040353",
     "status": "completed"
    },
    "tags": []
   },
   "outputs": [],
   "source": [
    "from sklearn.datasets import make_moons\n",
    "moons_data=make_moons(n_samples=10000,noise=0.4)"
   ]
  },
  {
   "cell_type": "code",
   "execution_count": 3,
   "id": "c9a1e425",
   "metadata": {
    "execution": {
     "iopub.execute_input": "2023-05-29T14:26:56.665969Z",
     "iopub.status.busy": "2023-05-29T14:26:56.665539Z",
     "iopub.status.idle": "2023-05-29T14:26:56.675975Z",
     "shell.execute_reply": "2023-05-29T14:26:56.674792Z"
    },
    "papermill": {
     "duration": 0.020793,
     "end_time": "2023-05-29T14:26:56.678415",
     "exception": false,
     "start_time": "2023-05-29T14:26:56.657622",
     "status": "completed"
    },
    "tags": []
   },
   "outputs": [
    {
     "data": {
      "text/plain": [
       "array([ 0.98438792, -0.32889384])"
      ]
     },
     "execution_count": 3,
     "metadata": {},
     "output_type": "execute_result"
    }
   ],
   "source": [
    "moons_data[0][0]"
   ]
  },
  {
   "cell_type": "markdown",
   "id": "d2fcdfaa",
   "metadata": {
    "papermill": {
     "duration": 0.005894,
     "end_time": "2023-05-29T14:26:56.690696",
     "exception": false,
     "start_time": "2023-05-29T14:26:56.684802",
     "status": "completed"
    },
    "tags": []
   },
   "source": [
    "The dataset is a tuple of 2D-lists.The first element in each list is the feature value and the 2nd one is the target value. Let's create feature set X and target set y and then split it into test and train sets."
   ]
  },
  {
   "cell_type": "code",
   "execution_count": 4,
   "id": "e8e5801a",
   "metadata": {
    "execution": {
     "iopub.execute_input": "2023-05-29T14:26:56.705564Z",
     "iopub.status.busy": "2023-05-29T14:26:56.705108Z",
     "iopub.status.idle": "2023-05-29T14:26:56.711400Z",
     "shell.execute_reply": "2023-05-29T14:26:56.710118Z"
    },
    "papermill": {
     "duration": 0.017302,
     "end_time": "2023-05-29T14:26:56.714494",
     "exception": false,
     "start_time": "2023-05-29T14:26:56.697192",
     "status": "completed"
    },
    "tags": []
   },
   "outputs": [],
   "source": [
    "X=moons_data[0]\n",
    "y=moons_data[1]"
   ]
  },
  {
   "cell_type": "code",
   "execution_count": 5,
   "id": "d1ff5cf8",
   "metadata": {
    "execution": {
     "iopub.execute_input": "2023-05-29T14:26:56.731543Z",
     "iopub.status.busy": "2023-05-29T14:26:56.730652Z",
     "iopub.status.idle": "2023-05-29T14:26:56.844609Z",
     "shell.execute_reply": "2023-05-29T14:26:56.843315Z"
    },
    "papermill": {
     "duration": 0.125021,
     "end_time": "2023-05-29T14:26:56.847825",
     "exception": false,
     "start_time": "2023-05-29T14:26:56.722804",
     "status": "completed"
    },
    "tags": []
   },
   "outputs": [],
   "source": [
    "from sklearn.model_selection import train_test_split\n",
    "X_train,X_test,y_train,y_test=train_test_split(X,y,random_state=42,test_size=0.2)"
   ]
  },
  {
   "cell_type": "markdown",
   "id": "31ddf5e4",
   "metadata": {
    "papermill": {
     "duration": 0.006594,
     "end_time": "2023-05-29T14:26:56.861075",
     "exception": false,
     "start_time": "2023-05-29T14:26:56.854481",
     "status": "completed"
    },
    "tags": []
   },
   "source": [
    "Now we use GridsearchCV to determine the best hyperparameters for our decision tree model."
   ]
  },
  {
   "cell_type": "code",
   "execution_count": 6,
   "id": "ae5607de",
   "metadata": {
    "execution": {
     "iopub.execute_input": "2023-05-29T14:26:56.876060Z",
     "iopub.status.busy": "2023-05-29T14:26:56.875620Z",
     "iopub.status.idle": "2023-05-29T14:26:57.179504Z",
     "shell.execute_reply": "2023-05-29T14:26:57.177989Z"
    },
    "papermill": {
     "duration": 0.314847,
     "end_time": "2023-05-29T14:26:57.182351",
     "exception": false,
     "start_time": "2023-05-29T14:26:56.867504",
     "status": "completed"
    },
    "tags": []
   },
   "outputs": [],
   "source": [
    "from sklearn.model_selection import GridSearchCV\n",
    "from sklearn.tree import DecisionTreeClassifier\n",
    "decision_tree_clf= DecisionTreeClassifier()\n",
    "param_grid={'criterion':[\"gini\",\"entropy\",\"log_loss\"],'splitter':[\"best\",\"random\"],\n",
    "            'max_depth':[None,2,3,5,7,10,13,14],'min_samples_split':[2,3,4],\n",
    "            'max_leaf_nodes':[5, 7, 10, 13, 15]}\n",
    "grid_search = GridSearchCV(decision_tree_clf, param_grid,verbose=1, n_jobs=-1, cv=3)"
   ]
  },
  {
   "cell_type": "code",
   "execution_count": 7,
   "id": "410a60ed",
   "metadata": {
    "execution": {
     "iopub.execute_input": "2023-05-29T14:26:57.197177Z",
     "iopub.status.busy": "2023-05-29T14:26:57.196715Z",
     "iopub.status.idle": "2023-05-29T14:27:04.996775Z",
     "shell.execute_reply": "2023-05-29T14:27:04.995163Z"
    },
    "papermill": {
     "duration": 7.81083,
     "end_time": "2023-05-29T14:27:04.999734",
     "exception": false,
     "start_time": "2023-05-29T14:26:57.188904",
     "status": "completed"
    },
    "tags": []
   },
   "outputs": [
    {
     "name": "stdout",
     "output_type": "stream",
     "text": [
      "Fitting 3 folds for each of 720 candidates, totalling 2160 fits\n"
     ]
    },
    {
     "data": {
      "text/html": [
       "<style>#sk-container-id-1 {color: black;background-color: white;}#sk-container-id-1 pre{padding: 0;}#sk-container-id-1 div.sk-toggleable {background-color: white;}#sk-container-id-1 label.sk-toggleable__label {cursor: pointer;display: block;width: 100%;margin-bottom: 0;padding: 0.3em;box-sizing: border-box;text-align: center;}#sk-container-id-1 label.sk-toggleable__label-arrow:before {content: \"▸\";float: left;margin-right: 0.25em;color: #696969;}#sk-container-id-1 label.sk-toggleable__label-arrow:hover:before {color: black;}#sk-container-id-1 div.sk-estimator:hover label.sk-toggleable__label-arrow:before {color: black;}#sk-container-id-1 div.sk-toggleable__content {max-height: 0;max-width: 0;overflow: hidden;text-align: left;background-color: #f0f8ff;}#sk-container-id-1 div.sk-toggleable__content pre {margin: 0.2em;color: black;border-radius: 0.25em;background-color: #f0f8ff;}#sk-container-id-1 input.sk-toggleable__control:checked~div.sk-toggleable__content {max-height: 200px;max-width: 100%;overflow: auto;}#sk-container-id-1 input.sk-toggleable__control:checked~label.sk-toggleable__label-arrow:before {content: \"▾\";}#sk-container-id-1 div.sk-estimator input.sk-toggleable__control:checked~label.sk-toggleable__label {background-color: #d4ebff;}#sk-container-id-1 div.sk-label input.sk-toggleable__control:checked~label.sk-toggleable__label {background-color: #d4ebff;}#sk-container-id-1 input.sk-hidden--visually {border: 0;clip: rect(1px 1px 1px 1px);clip: rect(1px, 1px, 1px, 1px);height: 1px;margin: -1px;overflow: hidden;padding: 0;position: absolute;width: 1px;}#sk-container-id-1 div.sk-estimator {font-family: monospace;background-color: #f0f8ff;border: 1px dotted black;border-radius: 0.25em;box-sizing: border-box;margin-bottom: 0.5em;}#sk-container-id-1 div.sk-estimator:hover {background-color: #d4ebff;}#sk-container-id-1 div.sk-parallel-item::after {content: \"\";width: 100%;border-bottom: 1px solid gray;flex-grow: 1;}#sk-container-id-1 div.sk-label:hover label.sk-toggleable__label {background-color: #d4ebff;}#sk-container-id-1 div.sk-serial::before {content: \"\";position: absolute;border-left: 1px solid gray;box-sizing: border-box;top: 0;bottom: 0;left: 50%;z-index: 0;}#sk-container-id-1 div.sk-serial {display: flex;flex-direction: column;align-items: center;background-color: white;padding-right: 0.2em;padding-left: 0.2em;position: relative;}#sk-container-id-1 div.sk-item {position: relative;z-index: 1;}#sk-container-id-1 div.sk-parallel {display: flex;align-items: stretch;justify-content: center;background-color: white;position: relative;}#sk-container-id-1 div.sk-item::before, #sk-container-id-1 div.sk-parallel-item::before {content: \"\";position: absolute;border-left: 1px solid gray;box-sizing: border-box;top: 0;bottom: 0;left: 50%;z-index: -1;}#sk-container-id-1 div.sk-parallel-item {display: flex;flex-direction: column;z-index: 1;position: relative;background-color: white;}#sk-container-id-1 div.sk-parallel-item:first-child::after {align-self: flex-end;width: 50%;}#sk-container-id-1 div.sk-parallel-item:last-child::after {align-self: flex-start;width: 50%;}#sk-container-id-1 div.sk-parallel-item:only-child::after {width: 0;}#sk-container-id-1 div.sk-dashed-wrapped {border: 1px dashed gray;margin: 0 0.4em 0.5em 0.4em;box-sizing: border-box;padding-bottom: 0.4em;background-color: white;}#sk-container-id-1 div.sk-label label {font-family: monospace;font-weight: bold;display: inline-block;line-height: 1.2em;}#sk-container-id-1 div.sk-label-container {text-align: center;}#sk-container-id-1 div.sk-container {/* jupyter's `normalize.less` sets `[hidden] { display: none; }` but bootstrap.min.css set `[hidden] { display: none !important; }` so we also need the `!important` here to be able to override the default hidden behavior on the sphinx rendered scikit-learn.org. See: https://github.com/scikit-learn/scikit-learn/issues/21755 */display: inline-block !important;position: relative;}#sk-container-id-1 div.sk-text-repr-fallback {display: none;}</style><div id=\"sk-container-id-1\" class=\"sk-top-container\"><div class=\"sk-text-repr-fallback\"><pre>GridSearchCV(cv=3, estimator=DecisionTreeClassifier(), n_jobs=-1,\n",
       "             param_grid={&#x27;criterion&#x27;: [&#x27;gini&#x27;, &#x27;entropy&#x27;, &#x27;log_loss&#x27;],\n",
       "                         &#x27;max_depth&#x27;: [None, 2, 3, 5, 7, 10, 13, 14],\n",
       "                         &#x27;max_leaf_nodes&#x27;: [5, 7, 10, 13, 15],\n",
       "                         &#x27;min_samples_split&#x27;: [2, 3, 4],\n",
       "                         &#x27;splitter&#x27;: [&#x27;best&#x27;, &#x27;random&#x27;]},\n",
       "             verbose=1)</pre><b>In a Jupyter environment, please rerun this cell to show the HTML representation or trust the notebook. <br />On GitHub, the HTML representation is unable to render, please try loading this page with nbviewer.org.</b></div><div class=\"sk-container\" hidden><div class=\"sk-item sk-dashed-wrapped\"><div class=\"sk-label-container\"><div class=\"sk-label sk-toggleable\"><input class=\"sk-toggleable__control sk-hidden--visually\" id=\"sk-estimator-id-1\" type=\"checkbox\" ><label for=\"sk-estimator-id-1\" class=\"sk-toggleable__label sk-toggleable__label-arrow\">GridSearchCV</label><div class=\"sk-toggleable__content\"><pre>GridSearchCV(cv=3, estimator=DecisionTreeClassifier(), n_jobs=-1,\n",
       "             param_grid={&#x27;criterion&#x27;: [&#x27;gini&#x27;, &#x27;entropy&#x27;, &#x27;log_loss&#x27;],\n",
       "                         &#x27;max_depth&#x27;: [None, 2, 3, 5, 7, 10, 13, 14],\n",
       "                         &#x27;max_leaf_nodes&#x27;: [5, 7, 10, 13, 15],\n",
       "                         &#x27;min_samples_split&#x27;: [2, 3, 4],\n",
       "                         &#x27;splitter&#x27;: [&#x27;best&#x27;, &#x27;random&#x27;]},\n",
       "             verbose=1)</pre></div></div></div><div class=\"sk-parallel\"><div class=\"sk-parallel-item\"><div class=\"sk-item\"><div class=\"sk-label-container\"><div class=\"sk-label sk-toggleable\"><input class=\"sk-toggleable__control sk-hidden--visually\" id=\"sk-estimator-id-2\" type=\"checkbox\" ><label for=\"sk-estimator-id-2\" class=\"sk-toggleable__label sk-toggleable__label-arrow\">estimator: DecisionTreeClassifier</label><div class=\"sk-toggleable__content\"><pre>DecisionTreeClassifier()</pre></div></div></div><div class=\"sk-serial\"><div class=\"sk-item\"><div class=\"sk-estimator sk-toggleable\"><input class=\"sk-toggleable__control sk-hidden--visually\" id=\"sk-estimator-id-3\" type=\"checkbox\" ><label for=\"sk-estimator-id-3\" class=\"sk-toggleable__label sk-toggleable__label-arrow\">DecisionTreeClassifier</label><div class=\"sk-toggleable__content\"><pre>DecisionTreeClassifier()</pre></div></div></div></div></div></div></div></div></div></div>"
      ],
      "text/plain": [
       "GridSearchCV(cv=3, estimator=DecisionTreeClassifier(), n_jobs=-1,\n",
       "             param_grid={'criterion': ['gini', 'entropy', 'log_loss'],\n",
       "                         'max_depth': [None, 2, 3, 5, 7, 10, 13, 14],\n",
       "                         'max_leaf_nodes': [5, 7, 10, 13, 15],\n",
       "                         'min_samples_split': [2, 3, 4],\n",
       "                         'splitter': ['best', 'random']},\n",
       "             verbose=1)"
      ]
     },
     "execution_count": 7,
     "metadata": {},
     "output_type": "execute_result"
    }
   ],
   "source": [
    "grid_search.fit(X_train,y_train)"
   ]
  },
  {
   "cell_type": "code",
   "execution_count": 8,
   "id": "2b3847cb",
   "metadata": {
    "execution": {
     "iopub.execute_input": "2023-05-29T14:27:05.017653Z",
     "iopub.status.busy": "2023-05-29T14:27:05.017021Z",
     "iopub.status.idle": "2023-05-29T14:27:05.027260Z",
     "shell.execute_reply": "2023-05-29T14:27:05.025537Z"
    },
    "papermill": {
     "duration": 0.023148,
     "end_time": "2023-05-29T14:27:05.030384",
     "exception": false,
     "start_time": "2023-05-29T14:27:05.007236",
     "status": "completed"
    },
    "tags": []
   },
   "outputs": [
    {
     "data": {
      "text/plain": [
       "0.8543746829095725"
      ]
     },
     "execution_count": 8,
     "metadata": {},
     "output_type": "execute_result"
    }
   ],
   "source": [
    "grid_search.best_score_"
   ]
  },
  {
   "cell_type": "code",
   "execution_count": 9,
   "id": "61f29c43",
   "metadata": {
    "execution": {
     "iopub.execute_input": "2023-05-29T14:27:05.046672Z",
     "iopub.status.busy": "2023-05-29T14:27:05.046277Z",
     "iopub.status.idle": "2023-05-29T14:27:05.053189Z",
     "shell.execute_reply": "2023-05-29T14:27:05.052202Z"
    },
    "papermill": {
     "duration": 0.017548,
     "end_time": "2023-05-29T14:27:05.055584",
     "exception": false,
     "start_time": "2023-05-29T14:27:05.038036",
     "status": "completed"
    },
    "tags": []
   },
   "outputs": [
    {
     "data": {
      "text/plain": [
       "{'criterion': 'gini',\n",
       " 'max_depth': 5,\n",
       " 'max_leaf_nodes': 15,\n",
       " 'min_samples_split': 2,\n",
       " 'splitter': 'best'}"
      ]
     },
     "execution_count": 9,
     "metadata": {},
     "output_type": "execute_result"
    }
   ],
   "source": [
    "grid_search.best_params_"
   ]
  },
  {
   "cell_type": "markdown",
   "id": "00297810",
   "metadata": {
    "papermill": {
     "duration": 0.00715,
     "end_time": "2023-05-29T14:27:05.069792",
     "exception": false,
     "start_time": "2023-05-29T14:27:05.062642",
     "status": "completed"
    },
    "tags": []
   },
   "source": [
    "Now,we train on the entire training set using these best hyperparameters."
   ]
  },
  {
   "cell_type": "code",
   "execution_count": 10,
   "id": "4ed042ed",
   "metadata": {
    "execution": {
     "iopub.execute_input": "2023-05-29T14:27:05.086248Z",
     "iopub.status.busy": "2023-05-29T14:27:05.085454Z",
     "iopub.status.idle": "2023-05-29T14:27:05.108251Z",
     "shell.execute_reply": "2023-05-29T14:27:05.107019Z"
    },
    "papermill": {
     "duration": 0.034259,
     "end_time": "2023-05-29T14:27:05.111007",
     "exception": false,
     "start_time": "2023-05-29T14:27:05.076748",
     "status": "completed"
    },
    "tags": []
   },
   "outputs": [
    {
     "data": {
      "text/html": [
       "<style>#sk-container-id-2 {color: black;background-color: white;}#sk-container-id-2 pre{padding: 0;}#sk-container-id-2 div.sk-toggleable {background-color: white;}#sk-container-id-2 label.sk-toggleable__label {cursor: pointer;display: block;width: 100%;margin-bottom: 0;padding: 0.3em;box-sizing: border-box;text-align: center;}#sk-container-id-2 label.sk-toggleable__label-arrow:before {content: \"▸\";float: left;margin-right: 0.25em;color: #696969;}#sk-container-id-2 label.sk-toggleable__label-arrow:hover:before {color: black;}#sk-container-id-2 div.sk-estimator:hover label.sk-toggleable__label-arrow:before {color: black;}#sk-container-id-2 div.sk-toggleable__content {max-height: 0;max-width: 0;overflow: hidden;text-align: left;background-color: #f0f8ff;}#sk-container-id-2 div.sk-toggleable__content pre {margin: 0.2em;color: black;border-radius: 0.25em;background-color: #f0f8ff;}#sk-container-id-2 input.sk-toggleable__control:checked~div.sk-toggleable__content {max-height: 200px;max-width: 100%;overflow: auto;}#sk-container-id-2 input.sk-toggleable__control:checked~label.sk-toggleable__label-arrow:before {content: \"▾\";}#sk-container-id-2 div.sk-estimator input.sk-toggleable__control:checked~label.sk-toggleable__label {background-color: #d4ebff;}#sk-container-id-2 div.sk-label input.sk-toggleable__control:checked~label.sk-toggleable__label {background-color: #d4ebff;}#sk-container-id-2 input.sk-hidden--visually {border: 0;clip: rect(1px 1px 1px 1px);clip: rect(1px, 1px, 1px, 1px);height: 1px;margin: -1px;overflow: hidden;padding: 0;position: absolute;width: 1px;}#sk-container-id-2 div.sk-estimator {font-family: monospace;background-color: #f0f8ff;border: 1px dotted black;border-radius: 0.25em;box-sizing: border-box;margin-bottom: 0.5em;}#sk-container-id-2 div.sk-estimator:hover {background-color: #d4ebff;}#sk-container-id-2 div.sk-parallel-item::after {content: \"\";width: 100%;border-bottom: 1px solid gray;flex-grow: 1;}#sk-container-id-2 div.sk-label:hover label.sk-toggleable__label {background-color: #d4ebff;}#sk-container-id-2 div.sk-serial::before {content: \"\";position: absolute;border-left: 1px solid gray;box-sizing: border-box;top: 0;bottom: 0;left: 50%;z-index: 0;}#sk-container-id-2 div.sk-serial {display: flex;flex-direction: column;align-items: center;background-color: white;padding-right: 0.2em;padding-left: 0.2em;position: relative;}#sk-container-id-2 div.sk-item {position: relative;z-index: 1;}#sk-container-id-2 div.sk-parallel {display: flex;align-items: stretch;justify-content: center;background-color: white;position: relative;}#sk-container-id-2 div.sk-item::before, #sk-container-id-2 div.sk-parallel-item::before {content: \"\";position: absolute;border-left: 1px solid gray;box-sizing: border-box;top: 0;bottom: 0;left: 50%;z-index: -1;}#sk-container-id-2 div.sk-parallel-item {display: flex;flex-direction: column;z-index: 1;position: relative;background-color: white;}#sk-container-id-2 div.sk-parallel-item:first-child::after {align-self: flex-end;width: 50%;}#sk-container-id-2 div.sk-parallel-item:last-child::after {align-self: flex-start;width: 50%;}#sk-container-id-2 div.sk-parallel-item:only-child::after {width: 0;}#sk-container-id-2 div.sk-dashed-wrapped {border: 1px dashed gray;margin: 0 0.4em 0.5em 0.4em;box-sizing: border-box;padding-bottom: 0.4em;background-color: white;}#sk-container-id-2 div.sk-label label {font-family: monospace;font-weight: bold;display: inline-block;line-height: 1.2em;}#sk-container-id-2 div.sk-label-container {text-align: center;}#sk-container-id-2 div.sk-container {/* jupyter's `normalize.less` sets `[hidden] { display: none; }` but bootstrap.min.css set `[hidden] { display: none !important; }` so we also need the `!important` here to be able to override the default hidden behavior on the sphinx rendered scikit-learn.org. See: https://github.com/scikit-learn/scikit-learn/issues/21755 */display: inline-block !important;position: relative;}#sk-container-id-2 div.sk-text-repr-fallback {display: none;}</style><div id=\"sk-container-id-2\" class=\"sk-top-container\"><div class=\"sk-text-repr-fallback\"><pre>DecisionTreeClassifier(max_leaf_nodes=15)</pre><b>In a Jupyter environment, please rerun this cell to show the HTML representation or trust the notebook. <br />On GitHub, the HTML representation is unable to render, please try loading this page with nbviewer.org.</b></div><div class=\"sk-container\" hidden><div class=\"sk-item\"><div class=\"sk-estimator sk-toggleable\"><input class=\"sk-toggleable__control sk-hidden--visually\" id=\"sk-estimator-id-4\" type=\"checkbox\" checked><label for=\"sk-estimator-id-4\" class=\"sk-toggleable__label sk-toggleable__label-arrow\">DecisionTreeClassifier</label><div class=\"sk-toggleable__content\"><pre>DecisionTreeClassifier(max_leaf_nodes=15)</pre></div></div></div></div></div>"
      ],
      "text/plain": [
       "DecisionTreeClassifier(max_leaf_nodes=15)"
      ]
     },
     "execution_count": 10,
     "metadata": {},
     "output_type": "execute_result"
    }
   ],
   "source": [
    "best_decision_tree_clf=DecisionTreeClassifier(criterion='gini',max_depth=None,max_leaf_nodes=15,\n",
    "min_samples_split=2,splitter='best')\n",
    "best_decision_tree_clf.fit(X_train,y_train)"
   ]
  },
  {
   "cell_type": "code",
   "execution_count": 11,
   "id": "dc16fc7b",
   "metadata": {
    "execution": {
     "iopub.execute_input": "2023-05-29T14:27:05.127891Z",
     "iopub.status.busy": "2023-05-29T14:27:05.127427Z",
     "iopub.status.idle": "2023-05-29T14:27:05.134236Z",
     "shell.execute_reply": "2023-05-29T14:27:05.132760Z"
    },
    "papermill": {
     "duration": 0.018348,
     "end_time": "2023-05-29T14:27:05.137099",
     "exception": false,
     "start_time": "2023-05-29T14:27:05.118751",
     "status": "completed"
    },
    "tags": []
   },
   "outputs": [],
   "source": [
    "y_pred=best_decision_tree_clf.predict(X_test)"
   ]
  },
  {
   "cell_type": "code",
   "execution_count": 12,
   "id": "ecb556fc",
   "metadata": {
    "execution": {
     "iopub.execute_input": "2023-05-29T14:27:05.154967Z",
     "iopub.status.busy": "2023-05-29T14:27:05.154536Z",
     "iopub.status.idle": "2023-05-29T14:27:05.163053Z",
     "shell.execute_reply": "2023-05-29T14:27:05.161825Z"
    },
    "papermill": {
     "duration": 0.02107,
     "end_time": "2023-05-29T14:27:05.165940",
     "exception": false,
     "start_time": "2023-05-29T14:27:05.144870",
     "status": "completed"
    },
    "tags": []
   },
   "outputs": [
    {
     "data": {
      "text/plain": [
       "0.8605"
      ]
     },
     "execution_count": 12,
     "metadata": {},
     "output_type": "execute_result"
    }
   ],
   "source": [
    "from sklearn.metrics import mean_squared_error\n",
    "accuracy=1-mean_squared_error(y_pred,y_test)\n",
    "accuracy"
   ]
  },
  {
   "cell_type": "markdown",
   "id": "99876147",
   "metadata": {
    "papermill": {
     "duration": 0.006916,
     "end_time": "2023-05-29T14:27:05.180291",
     "exception": false,
     "start_time": "2023-05-29T14:27:05.173375",
     "status": "completed"
    },
    "tags": []
   },
   "source": [
    "So,our model has an accuracy of 85.45%. This figure can vary upto +-2% depending on the random dataset generated."
   ]
  },
  {
   "cell_type": "code",
   "execution_count": null,
   "id": "92e8b8a1",
   "metadata": {
    "papermill": {
     "duration": 0.007034,
     "end_time": "2023-05-29T14:27:05.194534",
     "exception": false,
     "start_time": "2023-05-29T14:27:05.187500",
     "status": "completed"
    },
    "tags": []
   },
   "outputs": [],
   "source": []
  }
 ],
 "metadata": {
  "kernelspec": {
   "display_name": "Python 3",
   "language": "python",
   "name": "python3"
  },
  "language_info": {
   "codemirror_mode": {
    "name": "ipython",
    "version": 3
   },
   "file_extension": ".py",
   "mimetype": "text/x-python",
   "name": "python",
   "nbconvert_exporter": "python",
   "pygments_lexer": "ipython3",
   "version": "3.10.10"
  },
  "papermill": {
   "default_parameters": {},
   "duration": 26.792059,
   "end_time": "2023-05-29T14:27:07.825852",
   "environment_variables": {},
   "exception": null,
   "input_path": "__notebook__.ipynb",
   "output_path": "__notebook__.ipynb",
   "parameters": {},
   "start_time": "2023-05-29T14:26:41.033793",
   "version": "2.4.0"
  }
 },
 "nbformat": 4,
 "nbformat_minor": 5
}
