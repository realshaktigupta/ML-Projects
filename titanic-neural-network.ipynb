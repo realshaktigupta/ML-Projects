{
 "cells": [
  {
   "cell_type": "code",
   "execution_count": 1,
   "id": "6d407263",
   "metadata": {
    "_cell_guid": "b1076dfc-b9ad-4769-8c92-a6c4dae69d19",
    "_uuid": "8f2839f25d086af736a60e9eeb907d3b93b6e0e5",
    "execution": {
     "iopub.execute_input": "2023-06-12T16:19:18.119900Z",
     "iopub.status.busy": "2023-06-12T16:19:18.119152Z",
     "iopub.status.idle": "2023-06-12T16:19:18.134227Z",
     "shell.execute_reply": "2023-06-12T16:19:18.132781Z"
    },
    "papermill": {
     "duration": 0.028051,
     "end_time": "2023-06-12T16:19:18.136300",
     "exception": false,
     "start_time": "2023-06-12T16:19:18.108249",
     "status": "completed"
    },
    "tags": []
   },
   "outputs": [
    {
     "name": "stdout",
     "output_type": "stream",
     "text": [
      "/kaggle/input/titanic/train.csv\n",
      "/kaggle/input/titanic/test.csv\n",
      "/kaggle/input/titanic/gender_submission.csv\n"
     ]
    }
   ],
   "source": [
    "# This Python 3 environment comes with many helpful analytics libraries installed\n",
    "# It is defined by the kaggle/python Docker image: https://github.com/kaggle/docker-python\n",
    "# For example, here's several helpful packages to load\n",
    "\n",
    "import numpy as np # linear algebra\n",
    "import pandas as pd # data processing, CSV file I/O (e.g. pd.read_csv)\n",
    "\n",
    "# Input data files are available in the read-only \"../input/\" directory\n",
    "# For example, running this (by clicking run or pressing Shift+Enter) will list all files under the input directory\n",
    "\n",
    "import os\n",
    "for dirname, _, filenames in os.walk('/kaggle/input'):\n",
    "    for filename in filenames:\n",
    "        print(os.path.join(dirname, filename))\n",
    "\n",
    "# You can write up to 20GB to the current directory (/kaggle/working/) that gets preserved as output when you create a version using \"Save & Run All\" \n",
    "# You can also write temporary files to /kaggle/temp/, but they won't be saved outside of the current session"
   ]
  },
  {
   "cell_type": "code",
   "execution_count": 2,
   "id": "e864fe21",
   "metadata": {
    "execution": {
     "iopub.execute_input": "2023-06-12T16:19:18.154661Z",
     "iopub.status.busy": "2023-06-12T16:19:18.154362Z",
     "iopub.status.idle": "2023-06-12T16:19:18.181248Z",
     "shell.execute_reply": "2023-06-12T16:19:18.180403Z"
    },
    "papermill": {
     "duration": 0.038323,
     "end_time": "2023-06-12T16:19:18.183314",
     "exception": false,
     "start_time": "2023-06-12T16:19:18.144991",
     "status": "completed"
    },
    "tags": []
   },
   "outputs": [],
   "source": [
    "train=pd.read_csv(\"/kaggle/input/titanic/train.csv\")\n",
    "test=pd.read_csv(\"/kaggle/input/titanic/test.csv\")"
   ]
  },
  {
   "cell_type": "code",
   "execution_count": 3,
   "id": "8021b924",
   "metadata": {
    "execution": {
     "iopub.execute_input": "2023-06-12T16:19:18.202407Z",
     "iopub.status.busy": "2023-06-12T16:19:18.201580Z",
     "iopub.status.idle": "2023-06-12T16:19:18.221327Z",
     "shell.execute_reply": "2023-06-12T16:19:18.220341Z"
    },
    "papermill": {
     "duration": 0.031914,
     "end_time": "2023-06-12T16:19:18.223963",
     "exception": false,
     "start_time": "2023-06-12T16:19:18.192049",
     "status": "completed"
    },
    "tags": []
   },
   "outputs": [
    {
     "data": {
      "text/html": [
       "<div>\n",
       "<style scoped>\n",
       "    .dataframe tbody tr th:only-of-type {\n",
       "        vertical-align: middle;\n",
       "    }\n",
       "\n",
       "    .dataframe tbody tr th {\n",
       "        vertical-align: top;\n",
       "    }\n",
       "\n",
       "    .dataframe thead th {\n",
       "        text-align: right;\n",
       "    }\n",
       "</style>\n",
       "<table border=\"1\" class=\"dataframe\">\n",
       "  <thead>\n",
       "    <tr style=\"text-align: right;\">\n",
       "      <th></th>\n",
       "      <th>PassengerId</th>\n",
       "      <th>Survived</th>\n",
       "      <th>Pclass</th>\n",
       "      <th>Name</th>\n",
       "      <th>Sex</th>\n",
       "      <th>Age</th>\n",
       "      <th>SibSp</th>\n",
       "      <th>Parch</th>\n",
       "      <th>Ticket</th>\n",
       "      <th>Fare</th>\n",
       "      <th>Cabin</th>\n",
       "      <th>Embarked</th>\n",
       "    </tr>\n",
       "  </thead>\n",
       "  <tbody>\n",
       "    <tr>\n",
       "      <th>0</th>\n",
       "      <td>1</td>\n",
       "      <td>0</td>\n",
       "      <td>3</td>\n",
       "      <td>Braund, Mr. Owen Harris</td>\n",
       "      <td>male</td>\n",
       "      <td>22.0</td>\n",
       "      <td>1</td>\n",
       "      <td>0</td>\n",
       "      <td>A/5 21171</td>\n",
       "      <td>7.2500</td>\n",
       "      <td>NaN</td>\n",
       "      <td>S</td>\n",
       "    </tr>\n",
       "    <tr>\n",
       "      <th>1</th>\n",
       "      <td>2</td>\n",
       "      <td>1</td>\n",
       "      <td>1</td>\n",
       "      <td>Cumings, Mrs. John Bradley (Florence Briggs Th...</td>\n",
       "      <td>female</td>\n",
       "      <td>38.0</td>\n",
       "      <td>1</td>\n",
       "      <td>0</td>\n",
       "      <td>PC 17599</td>\n",
       "      <td>71.2833</td>\n",
       "      <td>C85</td>\n",
       "      <td>C</td>\n",
       "    </tr>\n",
       "    <tr>\n",
       "      <th>2</th>\n",
       "      <td>3</td>\n",
       "      <td>1</td>\n",
       "      <td>3</td>\n",
       "      <td>Heikkinen, Miss. Laina</td>\n",
       "      <td>female</td>\n",
       "      <td>26.0</td>\n",
       "      <td>0</td>\n",
       "      <td>0</td>\n",
       "      <td>STON/O2. 3101282</td>\n",
       "      <td>7.9250</td>\n",
       "      <td>NaN</td>\n",
       "      <td>S</td>\n",
       "    </tr>\n",
       "    <tr>\n",
       "      <th>3</th>\n",
       "      <td>4</td>\n",
       "      <td>1</td>\n",
       "      <td>1</td>\n",
       "      <td>Futrelle, Mrs. Jacques Heath (Lily May Peel)</td>\n",
       "      <td>female</td>\n",
       "      <td>35.0</td>\n",
       "      <td>1</td>\n",
       "      <td>0</td>\n",
       "      <td>113803</td>\n",
       "      <td>53.1000</td>\n",
       "      <td>C123</td>\n",
       "      <td>S</td>\n",
       "    </tr>\n",
       "    <tr>\n",
       "      <th>4</th>\n",
       "      <td>5</td>\n",
       "      <td>0</td>\n",
       "      <td>3</td>\n",
       "      <td>Allen, Mr. William Henry</td>\n",
       "      <td>male</td>\n",
       "      <td>35.0</td>\n",
       "      <td>0</td>\n",
       "      <td>0</td>\n",
       "      <td>373450</td>\n",
       "      <td>8.0500</td>\n",
       "      <td>NaN</td>\n",
       "      <td>S</td>\n",
       "    </tr>\n",
       "  </tbody>\n",
       "</table>\n",
       "</div>"
      ],
      "text/plain": [
       "   PassengerId  Survived  Pclass  \\\n",
       "0            1         0       3   \n",
       "1            2         1       1   \n",
       "2            3         1       3   \n",
       "3            4         1       1   \n",
       "4            5         0       3   \n",
       "\n",
       "                                                Name     Sex   Age  SibSp  \\\n",
       "0                            Braund, Mr. Owen Harris    male  22.0      1   \n",
       "1  Cumings, Mrs. John Bradley (Florence Briggs Th...  female  38.0      1   \n",
       "2                             Heikkinen, Miss. Laina  female  26.0      0   \n",
       "3       Futrelle, Mrs. Jacques Heath (Lily May Peel)  female  35.0      1   \n",
       "4                           Allen, Mr. William Henry    male  35.0      0   \n",
       "\n",
       "   Parch            Ticket     Fare Cabin Embarked  \n",
       "0      0         A/5 21171   7.2500   NaN        S  \n",
       "1      0          PC 17599  71.2833   C85        C  \n",
       "2      0  STON/O2. 3101282   7.9250   NaN        S  \n",
       "3      0            113803  53.1000  C123        S  \n",
       "4      0            373450   8.0500   NaN        S  "
      ]
     },
     "execution_count": 3,
     "metadata": {},
     "output_type": "execute_result"
    }
   ],
   "source": [
    "train.head(5)"
   ]
  },
  {
   "cell_type": "code",
   "execution_count": 4,
   "id": "4479d6e0",
   "metadata": {
    "execution": {
     "iopub.execute_input": "2023-06-12T16:19:18.243914Z",
     "iopub.status.busy": "2023-06-12T16:19:18.242463Z",
     "iopub.status.idle": "2023-06-12T16:19:18.264447Z",
     "shell.execute_reply": "2023-06-12T16:19:18.263562Z"
    },
    "papermill": {
     "duration": 0.033667,
     "end_time": "2023-06-12T16:19:18.266426",
     "exception": false,
     "start_time": "2023-06-12T16:19:18.232759",
     "status": "completed"
    },
    "tags": []
   },
   "outputs": [
    {
     "name": "stdout",
     "output_type": "stream",
     "text": [
      "<class 'pandas.core.frame.DataFrame'>\n",
      "RangeIndex: 891 entries, 0 to 890\n",
      "Data columns (total 12 columns):\n",
      " #   Column       Non-Null Count  Dtype  \n",
      "---  ------       --------------  -----  \n",
      " 0   PassengerId  891 non-null    int64  \n",
      " 1   Survived     891 non-null    int64  \n",
      " 2   Pclass       891 non-null    int64  \n",
      " 3   Name         891 non-null    object \n",
      " 4   Sex          891 non-null    object \n",
      " 5   Age          714 non-null    float64\n",
      " 6   SibSp        891 non-null    int64  \n",
      " 7   Parch        891 non-null    int64  \n",
      " 8   Ticket       891 non-null    object \n",
      " 9   Fare         891 non-null    float64\n",
      " 10  Cabin        204 non-null    object \n",
      " 11  Embarked     889 non-null    object \n",
      "dtypes: float64(2), int64(5), object(5)\n",
      "memory usage: 83.7+ KB\n"
     ]
    }
   ],
   "source": [
    "train.info()"
   ]
  },
  {
   "cell_type": "code",
   "execution_count": 5,
   "id": "422bba52",
   "metadata": {
    "execution": {
     "iopub.execute_input": "2023-06-12T16:19:18.285718Z",
     "iopub.status.busy": "2023-06-12T16:19:18.284948Z",
     "iopub.status.idle": "2023-06-12T16:19:18.313551Z",
     "shell.execute_reply": "2023-06-12T16:19:18.312543Z"
    },
    "papermill": {
     "duration": 0.040554,
     "end_time": "2023-06-12T16:19:18.315798",
     "exception": false,
     "start_time": "2023-06-12T16:19:18.275244",
     "status": "completed"
    },
    "tags": []
   },
   "outputs": [
    {
     "data": {
      "text/html": [
       "<div>\n",
       "<style scoped>\n",
       "    .dataframe tbody tr th:only-of-type {\n",
       "        vertical-align: middle;\n",
       "    }\n",
       "\n",
       "    .dataframe tbody tr th {\n",
       "        vertical-align: top;\n",
       "    }\n",
       "\n",
       "    .dataframe thead th {\n",
       "        text-align: right;\n",
       "    }\n",
       "</style>\n",
       "<table border=\"1\" class=\"dataframe\">\n",
       "  <thead>\n",
       "    <tr style=\"text-align: right;\">\n",
       "      <th></th>\n",
       "      <th>PassengerId</th>\n",
       "      <th>Survived</th>\n",
       "      <th>Pclass</th>\n",
       "      <th>Age</th>\n",
       "      <th>SibSp</th>\n",
       "      <th>Parch</th>\n",
       "      <th>Fare</th>\n",
       "    </tr>\n",
       "  </thead>\n",
       "  <tbody>\n",
       "    <tr>\n",
       "      <th>count</th>\n",
       "      <td>891.000000</td>\n",
       "      <td>891.000000</td>\n",
       "      <td>891.000000</td>\n",
       "      <td>714.000000</td>\n",
       "      <td>891.000000</td>\n",
       "      <td>891.000000</td>\n",
       "      <td>891.000000</td>\n",
       "    </tr>\n",
       "    <tr>\n",
       "      <th>mean</th>\n",
       "      <td>446.000000</td>\n",
       "      <td>0.383838</td>\n",
       "      <td>2.308642</td>\n",
       "      <td>29.699118</td>\n",
       "      <td>0.523008</td>\n",
       "      <td>0.381594</td>\n",
       "      <td>32.204208</td>\n",
       "    </tr>\n",
       "    <tr>\n",
       "      <th>std</th>\n",
       "      <td>257.353842</td>\n",
       "      <td>0.486592</td>\n",
       "      <td>0.836071</td>\n",
       "      <td>14.526497</td>\n",
       "      <td>1.102743</td>\n",
       "      <td>0.806057</td>\n",
       "      <td>49.693429</td>\n",
       "    </tr>\n",
       "    <tr>\n",
       "      <th>min</th>\n",
       "      <td>1.000000</td>\n",
       "      <td>0.000000</td>\n",
       "      <td>1.000000</td>\n",
       "      <td>0.420000</td>\n",
       "      <td>0.000000</td>\n",
       "      <td>0.000000</td>\n",
       "      <td>0.000000</td>\n",
       "    </tr>\n",
       "    <tr>\n",
       "      <th>25%</th>\n",
       "      <td>223.500000</td>\n",
       "      <td>0.000000</td>\n",
       "      <td>2.000000</td>\n",
       "      <td>20.125000</td>\n",
       "      <td>0.000000</td>\n",
       "      <td>0.000000</td>\n",
       "      <td>7.910400</td>\n",
       "    </tr>\n",
       "    <tr>\n",
       "      <th>50%</th>\n",
       "      <td>446.000000</td>\n",
       "      <td>0.000000</td>\n",
       "      <td>3.000000</td>\n",
       "      <td>28.000000</td>\n",
       "      <td>0.000000</td>\n",
       "      <td>0.000000</td>\n",
       "      <td>14.454200</td>\n",
       "    </tr>\n",
       "    <tr>\n",
       "      <th>75%</th>\n",
       "      <td>668.500000</td>\n",
       "      <td>1.000000</td>\n",
       "      <td>3.000000</td>\n",
       "      <td>38.000000</td>\n",
       "      <td>1.000000</td>\n",
       "      <td>0.000000</td>\n",
       "      <td>31.000000</td>\n",
       "    </tr>\n",
       "    <tr>\n",
       "      <th>max</th>\n",
       "      <td>891.000000</td>\n",
       "      <td>1.000000</td>\n",
       "      <td>3.000000</td>\n",
       "      <td>80.000000</td>\n",
       "      <td>8.000000</td>\n",
       "      <td>6.000000</td>\n",
       "      <td>512.329200</td>\n",
       "    </tr>\n",
       "  </tbody>\n",
       "</table>\n",
       "</div>"
      ],
      "text/plain": [
       "       PassengerId    Survived      Pclass         Age       SibSp  \\\n",
       "count   891.000000  891.000000  891.000000  714.000000  891.000000   \n",
       "mean    446.000000    0.383838    2.308642   29.699118    0.523008   \n",
       "std     257.353842    0.486592    0.836071   14.526497    1.102743   \n",
       "min       1.000000    0.000000    1.000000    0.420000    0.000000   \n",
       "25%     223.500000    0.000000    2.000000   20.125000    0.000000   \n",
       "50%     446.000000    0.000000    3.000000   28.000000    0.000000   \n",
       "75%     668.500000    1.000000    3.000000   38.000000    1.000000   \n",
       "max     891.000000    1.000000    3.000000   80.000000    8.000000   \n",
       "\n",
       "            Parch        Fare  \n",
       "count  891.000000  891.000000  \n",
       "mean     0.381594   32.204208  \n",
       "std      0.806057   49.693429  \n",
       "min      0.000000    0.000000  \n",
       "25%      0.000000    7.910400  \n",
       "50%      0.000000   14.454200  \n",
       "75%      0.000000   31.000000  \n",
       "max      6.000000  512.329200  "
      ]
     },
     "execution_count": 5,
     "metadata": {},
     "output_type": "execute_result"
    }
   ],
   "source": [
    "train.describe()"
   ]
  },
  {
   "cell_type": "code",
   "execution_count": 6,
   "id": "c7ea6e41",
   "metadata": {
    "execution": {
     "iopub.execute_input": "2023-06-12T16:19:18.335829Z",
     "iopub.status.busy": "2023-06-12T16:19:18.335082Z",
     "iopub.status.idle": "2023-06-12T16:19:18.340266Z",
     "shell.execute_reply": "2023-06-12T16:19:18.339400Z"
    },
    "papermill": {
     "duration": 0.017127,
     "end_time": "2023-06-12T16:19:18.342199",
     "exception": false,
     "start_time": "2023-06-12T16:19:18.325072",
     "status": "completed"
    },
    "tags": []
   },
   "outputs": [],
   "source": [
    "def X_y(dataset):\n",
    "    if 'Survived' in dataset.keys():\n",
    "        X=dataset.drop('Survived',axis=1)\n",
    "        y=dataset['Survived']\n",
    "    else:\n",
    "        X=dataset\n",
    "        y=None\n",
    "    return X,y"
   ]
  },
  {
   "cell_type": "code",
   "execution_count": 7,
   "id": "d189e2cb",
   "metadata": {
    "execution": {
     "iopub.execute_input": "2023-06-12T16:19:18.361973Z",
     "iopub.status.busy": "2023-06-12T16:19:18.361199Z",
     "iopub.status.idle": "2023-06-12T16:19:18.366531Z",
     "shell.execute_reply": "2023-06-12T16:19:18.365728Z"
    },
    "papermill": {
     "duration": 0.017242,
     "end_time": "2023-06-12T16:19:18.368491",
     "exception": false,
     "start_time": "2023-06-12T16:19:18.351249",
     "status": "completed"
    },
    "tags": []
   },
   "outputs": [],
   "source": [
    "X_train,y_train=X_y(train)\n",
    "X_test,y_test=X_y(test)"
   ]
  },
  {
   "cell_type": "code",
   "execution_count": 8,
   "id": "48d5d0ce",
   "metadata": {
    "execution": {
     "iopub.execute_input": "2023-06-12T16:19:18.390669Z",
     "iopub.status.busy": "2023-06-12T16:19:18.389894Z",
     "iopub.status.idle": "2023-06-12T16:19:19.717479Z",
     "shell.execute_reply": "2023-06-12T16:19:19.716540Z"
    },
    "papermill": {
     "duration": 1.340263,
     "end_time": "2023-06-12T16:19:19.720114",
     "exception": false,
     "start_time": "2023-06-12T16:19:18.379851",
     "status": "completed"
    },
    "tags": []
   },
   "outputs": [],
   "source": [
    "from sklearn.pipeline import Pipeline\n",
    "from sklearn.impute import SimpleImputer\n",
    "from sklearn.preprocessing import StandardScaler\n",
    "from sklearn.preprocessing import OneHotEncoder\n",
    "from sklearn.compose import ColumnTransformer\n",
    "from sklearn.preprocessing import OneHotEncoder"
   ]
  },
  {
   "cell_type": "code",
   "execution_count": 9,
   "id": "cf0fed89",
   "metadata": {
    "execution": {
     "iopub.execute_input": "2023-06-12T16:19:19.741180Z",
     "iopub.status.busy": "2023-06-12T16:19:19.740269Z",
     "iopub.status.idle": "2023-06-12T16:19:19.747408Z",
     "shell.execute_reply": "2023-06-12T16:19:19.746572Z"
    },
    "papermill": {
     "duration": 0.019819,
     "end_time": "2023-06-12T16:19:19.749406",
     "exception": false,
     "start_time": "2023-06-12T16:19:19.729587",
     "status": "completed"
    },
    "tags": []
   },
   "outputs": [],
   "source": [
    "def transform_X(X):\n",
    "    num_attribs = [\"Age\", \"SibSp\", \"Parch\", \"Fare\"]\n",
    "    cat_attribs = [\"Pclass\", \"Sex\", \"Embarked\"]\n",
    "    num_pipeline = Pipeline([\n",
    "        (\"imputer\", SimpleImputer(strategy=\"median\")),\n",
    "        (\"scaler\", StandardScaler())\n",
    "    ])\n",
    "    cat_pipeline = Pipeline([\n",
    "        (\"imputer\", SimpleImputer(strategy=\"most_frequent\")),\n",
    "        (\"cat_encoder\", OneHotEncoder(sparse_output=False)),\n",
    "    ])\n",
    "    preprocess_pipeline = ColumnTransformer([\n",
    "        (\"num\", num_pipeline, num_attribs),\n",
    "        (\"cat\", cat_pipeline, cat_attribs),\n",
    "    ])\n",
    "    X_tr= preprocess_pipeline.fit_transform(X[num_attribs + cat_attribs])\n",
    "    scaler=StandardScaler()\n",
    "    X_tr = scaler.fit_transform(X_tr)\n",
    "    return X_tr"
   ]
  },
  {
   "cell_type": "code",
   "execution_count": 10,
   "id": "aec4c033",
   "metadata": {
    "execution": {
     "iopub.execute_input": "2023-06-12T16:19:19.768781Z",
     "iopub.status.busy": "2023-06-12T16:19:19.768342Z",
     "iopub.status.idle": "2023-06-12T16:19:19.792004Z",
     "shell.execute_reply": "2023-06-12T16:19:19.791189Z"
    },
    "papermill": {
     "duration": 0.035398,
     "end_time": "2023-06-12T16:19:19.793898",
     "exception": false,
     "start_time": "2023-06-12T16:19:19.758500",
     "status": "completed"
    },
    "tags": []
   },
   "outputs": [],
   "source": [
    "X_train=transform_X(X_train)"
   ]
  },
  {
   "cell_type": "code",
   "execution_count": 11,
   "id": "3614d24b",
   "metadata": {
    "execution": {
     "iopub.execute_input": "2023-06-12T16:19:19.813672Z",
     "iopub.status.busy": "2023-06-12T16:19:19.812966Z",
     "iopub.status.idle": "2023-06-12T16:19:19.816900Z",
     "shell.execute_reply": "2023-06-12T16:19:19.816044Z"
    },
    "papermill": {
     "duration": 0.015865,
     "end_time": "2023-06-12T16:19:19.818846",
     "exception": false,
     "start_time": "2023-06-12T16:19:19.802981",
     "status": "completed"
    },
    "tags": []
   },
   "outputs": [],
   "source": [
    "from sklearn.model_selection import train_test_split"
   ]
  },
  {
   "cell_type": "code",
   "execution_count": 12,
   "id": "9e94e6ba",
   "metadata": {
    "execution": {
     "iopub.execute_input": "2023-06-12T16:19:19.839401Z",
     "iopub.status.busy": "2023-06-12T16:19:19.838037Z",
     "iopub.status.idle": "2023-06-12T16:19:19.844064Z",
     "shell.execute_reply": "2023-06-12T16:19:19.843194Z"
    },
    "papermill": {
     "duration": 0.018121,
     "end_time": "2023-06-12T16:19:19.846021",
     "exception": false,
     "start_time": "2023-06-12T16:19:19.827900",
     "status": "completed"
    },
    "tags": []
   },
   "outputs": [],
   "source": [
    "X_train, X_valid, y_train, y_valid = train_test_split(\n",
    " X_train, y_train,test_size=0.025,random_state=42)"
   ]
  },
  {
   "cell_type": "code",
   "execution_count": 13,
   "id": "caaff003",
   "metadata": {
    "execution": {
     "iopub.execute_input": "2023-06-12T16:19:19.866007Z",
     "iopub.status.busy": "2023-06-12T16:19:19.865212Z",
     "iopub.status.idle": "2023-06-12T16:19:27.409220Z",
     "shell.execute_reply": "2023-06-12T16:19:27.408168Z"
    },
    "papermill": {
     "duration": 7.556937,
     "end_time": "2023-06-12T16:19:27.412167",
     "exception": false,
     "start_time": "2023-06-12T16:19:19.855230",
     "status": "completed"
    },
    "tags": []
   },
   "outputs": [
    {
     "name": "stderr",
     "output_type": "stream",
     "text": [
      "/opt/conda/lib/python3.10/site-packages/tensorflow_io/python/ops/__init__.py:98: UserWarning: unable to load libtensorflow_io_plugins.so: unable to open file: libtensorflow_io_plugins.so, from paths: ['/opt/conda/lib/python3.10/site-packages/tensorflow_io/python/ops/libtensorflow_io_plugins.so']\n",
      "caused by: ['/opt/conda/lib/python3.10/site-packages/tensorflow_io/python/ops/libtensorflow_io_plugins.so: undefined symbol: _ZN3tsl6StatusC1EN10tensorflow5error4CodeESt17basic_string_viewIcSt11char_traitsIcEENS_14SourceLocationE']\n",
      "  warnings.warn(f\"unable to load libtensorflow_io_plugins.so: {e}\")\n",
      "/opt/conda/lib/python3.10/site-packages/tensorflow_io/python/ops/__init__.py:104: UserWarning: file system plugins are not loaded: unable to open file: libtensorflow_io.so, from paths: ['/opt/conda/lib/python3.10/site-packages/tensorflow_io/python/ops/libtensorflow_io.so']\n",
      "caused by: ['/opt/conda/lib/python3.10/site-packages/tensorflow_io/python/ops/libtensorflow_io.so: undefined symbol: _ZTVN10tensorflow13GcsFileSystemE']\n",
      "  warnings.warn(f\"file system plugins are not loaded: {e}\")\n"
     ]
    }
   ],
   "source": [
    "import tensorflow as tf"
   ]
  },
  {
   "cell_type": "code",
   "execution_count": 14,
   "id": "8cacc49d",
   "metadata": {
    "execution": {
     "iopub.execute_input": "2023-06-12T16:19:27.433735Z",
     "iopub.status.busy": "2023-06-12T16:19:27.433085Z",
     "iopub.status.idle": "2023-06-12T16:19:27.437550Z",
     "shell.execute_reply": "2023-06-12T16:19:27.436602Z"
    },
    "papermill": {
     "duration": 0.017814,
     "end_time": "2023-06-12T16:19:27.439549",
     "exception": false,
     "start_time": "2023-06-12T16:19:27.421735",
     "status": "completed"
    },
    "tags": []
   },
   "outputs": [],
   "source": [
    "from tensorflow import keras"
   ]
  },
  {
   "cell_type": "code",
   "execution_count": 15,
   "id": "dd018787",
   "metadata": {
    "execution": {
     "iopub.execute_input": "2023-06-12T16:19:27.459794Z",
     "iopub.status.busy": "2023-06-12T16:19:27.459499Z",
     "iopub.status.idle": "2023-06-12T16:19:27.463674Z",
     "shell.execute_reply": "2023-06-12T16:19:27.462735Z"
    },
    "papermill": {
     "duration": 0.016787,
     "end_time": "2023-06-12T16:19:27.465580",
     "exception": false,
     "start_time": "2023-06-12T16:19:27.448793",
     "status": "completed"
    },
    "tags": []
   },
   "outputs": [],
   "source": [
    "# model = keras.models.Sequential()\n",
    "# model.add(keras.layers.Flatten(input_shape=X_train[0].shape))\n",
    "# model.add(keras.layers.Dense(1000, activation=\"relu\"))\n",
    "# model.add(keras.layers.Dense(1000, activation=\"relu\"))\n",
    "# model.add(keras.layers.Dense(500, activation=\"relu\"))\n",
    "# model.add(keras.layers.Dense(250, activation=\"relu\"))\n",
    "# model.add(keras.layers.Dense(10, activation=\"relu\"))\n",
    "# model.add(keras.layers.Dense(1, activation=\"sigmoid\"))"
   ]
  },
  {
   "cell_type": "code",
   "execution_count": 16,
   "id": "55b7e4b8",
   "metadata": {
    "execution": {
     "iopub.execute_input": "2023-06-12T16:19:27.489050Z",
     "iopub.status.busy": "2023-06-12T16:19:27.488461Z",
     "iopub.status.idle": "2023-06-12T16:19:27.493709Z",
     "shell.execute_reply": "2023-06-12T16:19:27.492752Z"
    },
    "papermill": {
     "duration": 0.023711,
     "end_time": "2023-06-12T16:19:27.498386",
     "exception": false,
     "start_time": "2023-06-12T16:19:27.474675",
     "status": "completed"
    },
    "tags": []
   },
   "outputs": [],
   "source": [
    "# model.summary()"
   ]
  },
  {
   "cell_type": "code",
   "execution_count": 17,
   "id": "61fc2b2e",
   "metadata": {
    "execution": {
     "iopub.execute_input": "2023-06-12T16:19:27.527221Z",
     "iopub.status.busy": "2023-06-12T16:19:27.526852Z",
     "iopub.status.idle": "2023-06-12T16:19:27.534914Z",
     "shell.execute_reply": "2023-06-12T16:19:27.530046Z"
    },
    "papermill": {
     "duration": 0.027415,
     "end_time": "2023-06-12T16:19:27.538414",
     "exception": false,
     "start_time": "2023-06-12T16:19:27.510999",
     "status": "completed"
    },
    "tags": []
   },
   "outputs": [],
   "source": [
    "# model.compile(loss=\"binary_crossentropy\",\n",
    "#  optimizer=\"sgd\", metrics=[\"accuracy\"])"
   ]
  },
  {
   "cell_type": "code",
   "execution_count": 18,
   "id": "e449b557",
   "metadata": {
    "execution": {
     "iopub.execute_input": "2023-06-12T16:19:27.578792Z",
     "iopub.status.busy": "2023-06-12T16:19:27.576007Z",
     "iopub.status.idle": "2023-06-12T16:19:27.583531Z",
     "shell.execute_reply": "2023-06-12T16:19:27.582630Z"
    },
    "papermill": {
     "duration": 0.030082,
     "end_time": "2023-06-12T16:19:27.588091",
     "exception": false,
     "start_time": "2023-06-12T16:19:27.558009",
     "status": "completed"
    },
    "tags": []
   },
   "outputs": [],
   "source": [
    "# early_stopping_cb = keras.callbacks.EarlyStopping(patience=100,\n",
    "#  restore_best_weights=True)\n",
    "# checkpoint_cb = keras.callbacks.ModelCheckpoint(\"my_keras_model.h5\",\n",
    "#  save_best_only=True)"
   ]
  },
  {
   "cell_type": "code",
   "execution_count": 19,
   "id": "c99a5812",
   "metadata": {
    "execution": {
     "iopub.execute_input": "2023-06-12T16:19:27.619371Z",
     "iopub.status.busy": "2023-06-12T16:19:27.619051Z",
     "iopub.status.idle": "2023-06-12T16:19:27.623534Z",
     "shell.execute_reply": "2023-06-12T16:19:27.622580Z"
    },
    "papermill": {
     "duration": 0.022417,
     "end_time": "2023-06-12T16:19:27.627228",
     "exception": false,
     "start_time": "2023-06-12T16:19:27.604811",
     "status": "completed"
    },
    "scrolled": true,
    "tags": []
   },
   "outputs": [],
   "source": [
    "#history = model.fit(X_train, y_train, epochs=5000,validation_data=(X_valid, y_valid),use_multiprocessing=True,callbacks=[checkpoint_cb, early_stopping_cb])"
   ]
  },
  {
   "cell_type": "code",
   "execution_count": 20,
   "id": "a9e0eec0",
   "metadata": {
    "execution": {
     "iopub.execute_input": "2023-06-12T16:19:27.660553Z",
     "iopub.status.busy": "2023-06-12T16:19:27.660222Z",
     "iopub.status.idle": "2023-06-12T16:19:27.666924Z",
     "shell.execute_reply": "2023-06-12T16:19:27.665936Z"
    },
    "papermill": {
     "duration": 0.025679,
     "end_time": "2023-06-12T16:19:27.670451",
     "exception": false,
     "start_time": "2023-06-12T16:19:27.644772",
     "status": "completed"
    },
    "tags": []
   },
   "outputs": [],
   "source": [
    "#model = keras.models.load_model(\"my_keras_model.h5\")"
   ]
  },
  {
   "cell_type": "code",
   "execution_count": 21,
   "id": "57cdfe31",
   "metadata": {
    "execution": {
     "iopub.execute_input": "2023-06-12T16:19:27.692880Z",
     "iopub.status.busy": "2023-06-12T16:19:27.692579Z",
     "iopub.status.idle": "2023-06-12T16:19:27.697343Z",
     "shell.execute_reply": "2023-06-12T16:19:27.696426Z"
    },
    "papermill": {
     "duration": 0.016975,
     "end_time": "2023-06-12T16:19:27.699289",
     "exception": false,
     "start_time": "2023-06-12T16:19:27.682314",
     "status": "completed"
    },
    "tags": []
   },
   "outputs": [],
   "source": [
    "def prediction(X,model):\n",
    "    y=model.predict(X)\n",
    "    y=np.where(y >0.5, 1,0).reshape(-1)\n",
    "    return y"
   ]
  },
  {
   "cell_type": "code",
   "execution_count": 22,
   "id": "d8af48df",
   "metadata": {
    "execution": {
     "iopub.execute_input": "2023-06-12T16:19:27.718766Z",
     "iopub.status.busy": "2023-06-12T16:19:27.718254Z",
     "iopub.status.idle": "2023-06-12T16:19:27.722377Z",
     "shell.execute_reply": "2023-06-12T16:19:27.721572Z"
    },
    "papermill": {
     "duration": 0.01607,
     "end_time": "2023-06-12T16:19:27.724367",
     "exception": false,
     "start_time": "2023-06-12T16:19:27.708297",
     "status": "completed"
    },
    "tags": []
   },
   "outputs": [],
   "source": [
    "#y_test_pred=prediction(transform_X(X_test),model)"
   ]
  },
  {
   "cell_type": "code",
   "execution_count": 23,
   "id": "a3bbc1cd",
   "metadata": {
    "execution": {
     "iopub.execute_input": "2023-06-12T16:19:27.743913Z",
     "iopub.status.busy": "2023-06-12T16:19:27.743656Z",
     "iopub.status.idle": "2023-06-12T16:19:27.748537Z",
     "shell.execute_reply": "2023-06-12T16:19:27.747586Z"
    },
    "papermill": {
     "duration": 0.016868,
     "end_time": "2023-06-12T16:19:27.750559",
     "exception": false,
     "start_time": "2023-06-12T16:19:27.733691",
     "status": "completed"
    },
    "tags": []
   },
   "outputs": [],
   "source": [
    "def save_output(y_pred,passenger_id=test['PassengerId']):\n",
    "    output_data=pd.DataFrame({'PassengerId': passenger_id,'Survived':y_pred})\n",
    "    submission=output_data.to_csv(\"submission.csv\",index=False)"
   ]
  },
  {
   "cell_type": "code",
   "execution_count": 24,
   "id": "c8390436",
   "metadata": {
    "execution": {
     "iopub.execute_input": "2023-06-12T16:19:27.769937Z",
     "iopub.status.busy": "2023-06-12T16:19:27.769655Z",
     "iopub.status.idle": "2023-06-12T16:19:27.773794Z",
     "shell.execute_reply": "2023-06-12T16:19:27.772713Z"
    },
    "papermill": {
     "duration": 0.016101,
     "end_time": "2023-06-12T16:19:27.775718",
     "exception": false,
     "start_time": "2023-06-12T16:19:27.759617",
     "status": "completed"
    },
    "tags": []
   },
   "outputs": [],
   "source": [
    "#save_output(y_test_pred)"
   ]
  },
  {
   "cell_type": "code",
   "execution_count": 25,
   "id": "986857ae",
   "metadata": {
    "execution": {
     "iopub.execute_input": "2023-06-12T16:19:27.795085Z",
     "iopub.status.busy": "2023-06-12T16:19:27.794834Z",
     "iopub.status.idle": "2023-06-12T16:19:30.997309Z",
     "shell.execute_reply": "2023-06-12T16:19:30.996342Z"
    },
    "papermill": {
     "duration": 3.214981,
     "end_time": "2023-06-12T16:19:30.999766",
     "exception": false,
     "start_time": "2023-06-12T16:19:27.784785",
     "status": "completed"
    },
    "tags": []
   },
   "outputs": [],
   "source": [
    "model3= keras.models.Sequential()\n",
    "model3.add(keras.layers.Flatten(input_shape=X_train[0].shape))\n",
    "model3.add(keras.layers.BatchNormalization())\n",
    "model3.add(keras.layers.Dense(1000,activation=\"selu\",kernel_initializer=\"lecun_normal\"))\n",
    "model3.add(keras.layers.BatchNormalization())\n",
    "model3.add(keras.layers.Dense(1000,activation=\"selu\",kernel_initializer=\"lecun_normal\"))\n",
    "model3.add(keras.layers.BatchNormalization())\n",
    "model3.add(keras.layers.Dense(1000,activation=\"selu\",kernel_initializer=\"lecun_normal\"))\n",
    "model3.add(keras.layers.BatchNormalization())\n",
    "model3.add(keras.layers.Dense(1000,activation=\"selu\",kernel_initializer=\"lecun_normal\"))\n",
    "model3.add(keras.layers.BatchNormalization())\n",
    "model3.add(keras.layers.Dense(1, activation=\"sigmoid\"))"
   ]
  },
  {
   "cell_type": "code",
   "execution_count": 26,
   "id": "50601ad5",
   "metadata": {
    "execution": {
     "iopub.execute_input": "2023-06-12T16:19:31.020635Z",
     "iopub.status.busy": "2023-06-12T16:19:31.019696Z",
     "iopub.status.idle": "2023-06-12T16:19:31.035825Z",
     "shell.execute_reply": "2023-06-12T16:19:31.034899Z"
    },
    "papermill": {
     "duration": 0.029093,
     "end_time": "2023-06-12T16:19:31.038344",
     "exception": false,
     "start_time": "2023-06-12T16:19:31.009251",
     "status": "completed"
    },
    "tags": []
   },
   "outputs": [],
   "source": [
    "model3.compile(loss=\"binary_crossentropy\",optimizer=\"sgd\", metrics=[\"accuracy\"])"
   ]
  },
  {
   "cell_type": "code",
   "execution_count": 27,
   "id": "18cc424a",
   "metadata": {
    "execution": {
     "iopub.execute_input": "2023-06-12T16:19:31.057881Z",
     "iopub.status.busy": "2023-06-12T16:19:31.057598Z",
     "iopub.status.idle": "2023-06-12T16:19:31.062260Z",
     "shell.execute_reply": "2023-06-12T16:19:31.061295Z"
    },
    "papermill": {
     "duration": 0.016758,
     "end_time": "2023-06-12T16:19:31.064291",
     "exception": false,
     "start_time": "2023-06-12T16:19:31.047533",
     "status": "completed"
    },
    "tags": []
   },
   "outputs": [],
   "source": [
    "early_stopping_cb3 = keras.callbacks.EarlyStopping(patience=100,restore_best_weights=True)\n",
    "checkpoint_cb3 = keras.callbacks.ModelCheckpoint(\"my_keras_model3.h5\",save_best_only=True)"
   ]
  },
  {
   "cell_type": "code",
   "execution_count": 28,
   "id": "75007484",
   "metadata": {
    "execution": {
     "iopub.execute_input": "2023-06-12T16:19:31.083404Z",
     "iopub.status.busy": "2023-06-12T16:19:31.083147Z",
     "iopub.status.idle": "2023-06-12T16:20:09.197196Z",
     "shell.execute_reply": "2023-06-12T16:20:09.196262Z"
    },
    "papermill": {
     "duration": 38.12604,
     "end_time": "2023-06-12T16:20:09.199357",
     "exception": false,
     "start_time": "2023-06-12T16:19:31.073317",
     "status": "completed"
    },
    "scrolled": true,
    "tags": []
   },
   "outputs": [
    {
     "name": "stdout",
     "output_type": "stream",
     "text": [
      "Epoch 1/5000\n",
      "28/28 [==============================] - 6s 22ms/step - loss: 0.6764 - accuracy: 0.7293 - val_loss: 1.7042 - val_accuracy: 0.5217\n",
      "Epoch 2/5000\n",
      "28/28 [==============================] - 0s 11ms/step - loss: 0.5632 - accuracy: 0.7707 - val_loss: 0.5012 - val_accuracy: 0.8261\n",
      "Epoch 3/5000\n",
      "28/28 [==============================] - 0s 8ms/step - loss: 0.5239 - accuracy: 0.7800 - val_loss: 0.9367 - val_accuracy: 0.6522\n",
      "Epoch 4/5000\n",
      "28/28 [==============================] - 0s 7ms/step - loss: 0.5183 - accuracy: 0.7834 - val_loss: 1.1929 - val_accuracy: 0.6522\n",
      "Epoch 5/5000\n",
      "28/28 [==============================] - 0s 11ms/step - loss: 0.4931 - accuracy: 0.7823 - val_loss: 0.4597 - val_accuracy: 0.8696\n",
      "Epoch 6/5000\n",
      "28/28 [==============================] - 0s 11ms/step - loss: 0.4787 - accuracy: 0.8076 - val_loss: 0.3809 - val_accuracy: 0.8696\n",
      "Epoch 7/5000\n",
      "28/28 [==============================] - 0s 14ms/step - loss: 0.4612 - accuracy: 0.8157 - val_loss: 0.3492 - val_accuracy: 0.8261\n",
      "Epoch 8/5000\n",
      "28/28 [==============================] - 0s 12ms/step - loss: 0.4488 - accuracy: 0.8157 - val_loss: 0.2999 - val_accuracy: 0.8261\n",
      "Epoch 9/5000\n",
      "28/28 [==============================] - 0s 7ms/step - loss: 0.4376 - accuracy: 0.8283 - val_loss: 0.3178 - val_accuracy: 0.8261\n",
      "Epoch 10/5000\n",
      "28/28 [==============================] - 0s 8ms/step - loss: 0.4624 - accuracy: 0.8191 - val_loss: 0.9517 - val_accuracy: 0.6087\n",
      "Epoch 11/5000\n",
      "28/28 [==============================] - 0s 8ms/step - loss: 0.4502 - accuracy: 0.8214 - val_loss: 0.4264 - val_accuracy: 0.7826\n",
      "Epoch 12/5000\n",
      "28/28 [==============================] - 0s 8ms/step - loss: 0.4430 - accuracy: 0.8053 - val_loss: 1.5649 - val_accuracy: 0.4348\n",
      "Epoch 13/5000\n",
      "28/28 [==============================] - 0s 7ms/step - loss: 0.4503 - accuracy: 0.8030 - val_loss: 0.3920 - val_accuracy: 0.8696\n",
      "Epoch 14/5000\n",
      "28/28 [==============================] - 0s 7ms/step - loss: 0.4450 - accuracy: 0.8226 - val_loss: 0.7812 - val_accuracy: 0.6957\n",
      "Epoch 15/5000\n",
      "28/28 [==============================] - 0s 7ms/step - loss: 0.4598 - accuracy: 0.8065 - val_loss: 1.2074 - val_accuracy: 0.5217\n",
      "Epoch 16/5000\n",
      "28/28 [==============================] - 0s 7ms/step - loss: 0.4656 - accuracy: 0.7972 - val_loss: 0.4881 - val_accuracy: 0.7391\n",
      "Epoch 17/5000\n",
      "28/28 [==============================] - 0s 8ms/step - loss: 0.4384 - accuracy: 0.8030 - val_loss: 0.4030 - val_accuracy: 0.8696\n",
      "Epoch 18/5000\n",
      "28/28 [==============================] - 0s 8ms/step - loss: 0.4427 - accuracy: 0.8260 - val_loss: 0.4285 - val_accuracy: 0.8261\n",
      "Epoch 19/5000\n",
      "28/28 [==============================] - 0s 8ms/step - loss: 0.4464 - accuracy: 0.8088 - val_loss: 0.6329 - val_accuracy: 0.7391\n",
      "Epoch 20/5000\n",
      "28/28 [==============================] - 0s 8ms/step - loss: 0.4376 - accuracy: 0.8145 - val_loss: 0.9579 - val_accuracy: 0.4783\n",
      "Epoch 21/5000\n",
      "28/28 [==============================] - 0s 8ms/step - loss: 0.4334 - accuracy: 0.8203 - val_loss: 0.7701 - val_accuracy: 0.7826\n",
      "Epoch 22/5000\n",
      "28/28 [==============================] - 0s 7ms/step - loss: 0.4406 - accuracy: 0.8157 - val_loss: 0.4561 - val_accuracy: 0.8261\n",
      "Epoch 23/5000\n",
      "28/28 [==============================] - 0s 8ms/step - loss: 0.4288 - accuracy: 0.8111 - val_loss: 0.3315 - val_accuracy: 0.8696\n",
      "Epoch 24/5000\n",
      "28/28 [==============================] - 0s 7ms/step - loss: 0.4121 - accuracy: 0.8214 - val_loss: 0.6095 - val_accuracy: 0.6957\n",
      "Epoch 25/5000\n",
      "28/28 [==============================] - 0s 7ms/step - loss: 0.4181 - accuracy: 0.8237 - val_loss: 0.3748 - val_accuracy: 0.8696\n",
      "Epoch 26/5000\n",
      "28/28 [==============================] - 0s 9ms/step - loss: 0.4196 - accuracy: 0.8203 - val_loss: 0.7588 - val_accuracy: 0.7391\n",
      "Epoch 27/5000\n",
      "28/28 [==============================] - 0s 7ms/step - loss: 0.4652 - accuracy: 0.8007 - val_loss: 0.7857 - val_accuracy: 0.6522\n",
      "Epoch 28/5000\n",
      "28/28 [==============================] - 0s 7ms/step - loss: 0.4374 - accuracy: 0.8088 - val_loss: 0.5959 - val_accuracy: 0.6522\n",
      "Epoch 29/5000\n",
      "28/28 [==============================] - 0s 8ms/step - loss: 0.4215 - accuracy: 0.8180 - val_loss: 1.0800 - val_accuracy: 0.4348\n",
      "Epoch 30/5000\n",
      "28/28 [==============================] - 0s 11ms/step - loss: 0.4266 - accuracy: 0.8018 - val_loss: 0.2826 - val_accuracy: 0.9130\n",
      "Epoch 31/5000\n",
      "28/28 [==============================] - 0s 7ms/step - loss: 0.4326 - accuracy: 0.8237 - val_loss: 0.5503 - val_accuracy: 0.7391\n",
      "Epoch 32/5000\n",
      "28/28 [==============================] - 0s 7ms/step - loss: 0.4248 - accuracy: 0.8249 - val_loss: 0.4596 - val_accuracy: 0.7391\n",
      "Epoch 33/5000\n",
      "28/28 [==============================] - 0s 8ms/step - loss: 0.4207 - accuracy: 0.8203 - val_loss: 0.5529 - val_accuracy: 0.7826\n",
      "Epoch 34/5000\n",
      "28/28 [==============================] - 0s 7ms/step - loss: 0.4048 - accuracy: 0.8237 - val_loss: 0.7688 - val_accuracy: 0.6522\n",
      "Epoch 35/5000\n",
      "28/28 [==============================] - 0s 12ms/step - loss: 0.4204 - accuracy: 0.8226 - val_loss: 0.2773 - val_accuracy: 0.8261\n",
      "Epoch 36/5000\n",
      "28/28 [==============================] - 0s 7ms/step - loss: 0.4074 - accuracy: 0.8168 - val_loss: 0.3800 - val_accuracy: 0.8261\n",
      "Epoch 37/5000\n",
      "28/28 [==============================] - 0s 8ms/step - loss: 0.4042 - accuracy: 0.8260 - val_loss: 0.4923 - val_accuracy: 0.7391\n",
      "Epoch 38/5000\n",
      "28/28 [==============================] - 0s 7ms/step - loss: 0.4194 - accuracy: 0.8226 - val_loss: 0.4620 - val_accuracy: 0.8261\n",
      "Epoch 39/5000\n",
      "28/28 [==============================] - 0s 8ms/step - loss: 0.4132 - accuracy: 0.8249 - val_loss: 0.2951 - val_accuracy: 0.9130\n",
      "Epoch 40/5000\n",
      "28/28 [==============================] - 0s 8ms/step - loss: 0.3947 - accuracy: 0.8237 - val_loss: 0.4854 - val_accuracy: 0.8696\n",
      "Epoch 41/5000\n",
      "28/28 [==============================] - 0s 7ms/step - loss: 0.4175 - accuracy: 0.8295 - val_loss: 0.4699 - val_accuracy: 0.6957\n",
      "Epoch 42/5000\n",
      "28/28 [==============================] - 0s 7ms/step - loss: 0.3932 - accuracy: 0.8399 - val_loss: 0.3518 - val_accuracy: 0.8261\n",
      "Epoch 43/5000\n",
      "28/28 [==============================] - 0s 11ms/step - loss: 0.3996 - accuracy: 0.8387 - val_loss: 0.2706 - val_accuracy: 0.8696\n",
      "Epoch 44/5000\n",
      "28/28 [==============================] - 0s 11ms/step - loss: 0.3955 - accuracy: 0.8318 - val_loss: 0.2449 - val_accuracy: 0.8696\n",
      "Epoch 45/5000\n",
      "28/28 [==============================] - 0s 7ms/step - loss: 0.4096 - accuracy: 0.8318 - val_loss: 0.4189 - val_accuracy: 0.6957\n",
      "Epoch 46/5000\n",
      "28/28 [==============================] - 0s 7ms/step - loss: 0.3862 - accuracy: 0.8295 - val_loss: 0.3225 - val_accuracy: 0.7826\n",
      "Epoch 47/5000\n",
      "28/28 [==============================] - 0s 7ms/step - loss: 0.3977 - accuracy: 0.8260 - val_loss: 0.3005 - val_accuracy: 0.8696\n",
      "Epoch 48/5000\n",
      "28/28 [==============================] - 0s 7ms/step - loss: 0.4076 - accuracy: 0.8191 - val_loss: 0.3537 - val_accuracy: 0.8261\n",
      "Epoch 49/5000\n",
      "28/28 [==============================] - 0s 7ms/step - loss: 0.4034 - accuracy: 0.8249 - val_loss: 0.3334 - val_accuracy: 0.8696\n",
      "Epoch 50/5000\n",
      "28/28 [==============================] - 0s 8ms/step - loss: 0.4175 - accuracy: 0.8145 - val_loss: 0.4084 - val_accuracy: 0.7826\n",
      "Epoch 51/5000\n",
      "28/28 [==============================] - 0s 7ms/step - loss: 0.4131 - accuracy: 0.8180 - val_loss: 0.2990 - val_accuracy: 0.8261\n",
      "Epoch 52/5000\n",
      "28/28 [==============================] - 0s 8ms/step - loss: 0.4111 - accuracy: 0.8214 - val_loss: 0.6732 - val_accuracy: 0.7826\n",
      "Epoch 53/5000\n",
      "28/28 [==============================] - 0s 8ms/step - loss: 0.4121 - accuracy: 0.8145 - val_loss: 0.3594 - val_accuracy: 0.7826\n",
      "Epoch 54/5000\n",
      "28/28 [==============================] - 0s 8ms/step - loss: 0.4085 - accuracy: 0.8214 - val_loss: 0.3562 - val_accuracy: 0.7826\n",
      "Epoch 55/5000\n",
      "28/28 [==============================] - 0s 11ms/step - loss: 0.4133 - accuracy: 0.8134 - val_loss: 0.5401 - val_accuracy: 0.8261\n",
      "Epoch 56/5000\n",
      "28/28 [==============================] - 0s 7ms/step - loss: 0.4048 - accuracy: 0.8306 - val_loss: 0.8254 - val_accuracy: 0.4348\n",
      "Epoch 57/5000\n",
      "28/28 [==============================] - 0s 7ms/step - loss: 0.4182 - accuracy: 0.8168 - val_loss: 0.4169 - val_accuracy: 0.8261\n",
      "Epoch 58/5000\n",
      "28/28 [==============================] - 0s 7ms/step - loss: 0.3927 - accuracy: 0.8341 - val_loss: 0.3595 - val_accuracy: 0.8261\n",
      "Epoch 59/5000\n",
      "28/28 [==============================] - 0s 8ms/step - loss: 0.4040 - accuracy: 0.8214 - val_loss: 0.2999 - val_accuracy: 0.8261\n",
      "Epoch 60/5000\n",
      "28/28 [==============================] - 0s 8ms/step - loss: 0.4014 - accuracy: 0.8433 - val_loss: 0.4843 - val_accuracy: 0.8696\n",
      "Epoch 61/5000\n",
      "28/28 [==============================] - 0s 7ms/step - loss: 0.3977 - accuracy: 0.8306 - val_loss: 0.5387 - val_accuracy: 0.7826\n",
      "Epoch 62/5000\n",
      "28/28 [==============================] - 0s 8ms/step - loss: 0.3998 - accuracy: 0.8260 - val_loss: 0.4166 - val_accuracy: 0.8261\n",
      "Epoch 63/5000\n",
      "28/28 [==============================] - 0s 8ms/step - loss: 0.3980 - accuracy: 0.8376 - val_loss: 0.2721 - val_accuracy: 0.8696\n",
      "Epoch 64/5000\n",
      "28/28 [==============================] - 0s 8ms/step - loss: 0.4021 - accuracy: 0.8214 - val_loss: 0.4159 - val_accuracy: 0.7826\n",
      "Epoch 65/5000\n",
      "28/28 [==============================] - 0s 8ms/step - loss: 0.3901 - accuracy: 0.8399 - val_loss: 0.2502 - val_accuracy: 0.8261\n",
      "Epoch 66/5000\n",
      "28/28 [==============================] - 0s 7ms/step - loss: 0.4282 - accuracy: 0.8168 - val_loss: 0.3382 - val_accuracy: 0.7826\n",
      "Epoch 67/5000\n",
      "28/28 [==============================] - 0s 7ms/step - loss: 0.3934 - accuracy: 0.8329 - val_loss: 0.6999 - val_accuracy: 0.6087\n",
      "Epoch 68/5000\n",
      "28/28 [==============================] - 0s 8ms/step - loss: 0.4058 - accuracy: 0.8249 - val_loss: 0.7649 - val_accuracy: 0.6522\n",
      "Epoch 69/5000\n",
      "28/28 [==============================] - 0s 7ms/step - loss: 0.3977 - accuracy: 0.8341 - val_loss: 0.5315 - val_accuracy: 0.7391\n",
      "Epoch 70/5000\n",
      "28/28 [==============================] - 0s 8ms/step - loss: 0.3914 - accuracy: 0.8410 - val_loss: 0.4076 - val_accuracy: 0.7826\n",
      "Epoch 71/5000\n",
      "28/28 [==============================] - 0s 7ms/step - loss: 0.3986 - accuracy: 0.8295 - val_loss: 0.3176 - val_accuracy: 0.7826\n",
      "Epoch 72/5000\n",
      "28/28 [==============================] - 0s 7ms/step - loss: 0.3930 - accuracy: 0.8272 - val_loss: 0.2746 - val_accuracy: 0.8696\n",
      "Epoch 73/5000\n",
      "28/28 [==============================] - 0s 7ms/step - loss: 0.4003 - accuracy: 0.8295 - val_loss: 0.3127 - val_accuracy: 0.8261\n",
      "Epoch 74/5000\n",
      "28/28 [==============================] - 0s 7ms/step - loss: 0.4081 - accuracy: 0.8226 - val_loss: 0.3847 - val_accuracy: 0.8261\n",
      "Epoch 75/5000\n",
      "28/28 [==============================] - 0s 7ms/step - loss: 0.3941 - accuracy: 0.8249 - val_loss: 0.3949 - val_accuracy: 0.8261\n",
      "Epoch 76/5000\n",
      "28/28 [==============================] - 0s 7ms/step - loss: 0.3787 - accuracy: 0.8237 - val_loss: 0.3018 - val_accuracy: 0.8261\n",
      "Epoch 77/5000\n",
      "28/28 [==============================] - 0s 8ms/step - loss: 0.3894 - accuracy: 0.8468 - val_loss: 0.2813 - val_accuracy: 0.8696\n",
      "Epoch 78/5000\n",
      "28/28 [==============================] - 0s 7ms/step - loss: 0.3948 - accuracy: 0.8399 - val_loss: 0.3453 - val_accuracy: 0.8261\n",
      "Epoch 79/5000\n",
      "28/28 [==============================] - 0s 7ms/step - loss: 0.3864 - accuracy: 0.8422 - val_loss: 0.2821 - val_accuracy: 0.8261\n",
      "Epoch 80/5000\n",
      "28/28 [==============================] - 0s 7ms/step - loss: 0.3898 - accuracy: 0.8318 - val_loss: 0.4546 - val_accuracy: 0.7391\n",
      "Epoch 81/5000\n",
      "28/28 [==============================] - 0s 7ms/step - loss: 0.3933 - accuracy: 0.8376 - val_loss: 0.3302 - val_accuracy: 0.8696\n",
      "Epoch 82/5000\n",
      "28/28 [==============================] - 0s 7ms/step - loss: 0.4165 - accuracy: 0.8180 - val_loss: 0.2972 - val_accuracy: 0.8261\n",
      "Epoch 83/5000\n",
      "28/28 [==============================] - 0s 7ms/step - loss: 0.3923 - accuracy: 0.8329 - val_loss: 0.3206 - val_accuracy: 0.8696\n",
      "Epoch 84/5000\n",
      "28/28 [==============================] - 0s 7ms/step - loss: 0.4064 - accuracy: 0.8260 - val_loss: 0.4049 - val_accuracy: 0.8696\n",
      "Epoch 85/5000\n",
      "28/28 [==============================] - 0s 7ms/step - loss: 0.3992 - accuracy: 0.8376 - val_loss: 0.3630 - val_accuracy: 0.8261\n",
      "Epoch 86/5000\n",
      "28/28 [==============================] - 0s 7ms/step - loss: 0.3850 - accuracy: 0.8399 - val_loss: 0.5174 - val_accuracy: 0.7826\n",
      "Epoch 87/5000\n",
      "28/28 [==============================] - 0s 7ms/step - loss: 0.3984 - accuracy: 0.8422 - val_loss: 0.3583 - val_accuracy: 0.8696\n",
      "Epoch 88/5000\n",
      "28/28 [==============================] - 0s 7ms/step - loss: 0.3929 - accuracy: 0.8399 - val_loss: 0.2686 - val_accuracy: 0.9130\n",
      "Epoch 89/5000\n",
      "28/28 [==============================] - 0s 7ms/step - loss: 0.3766 - accuracy: 0.8387 - val_loss: 0.4011 - val_accuracy: 0.8696\n",
      "Epoch 90/5000\n",
      "28/28 [==============================] - 0s 7ms/step - loss: 0.4016 - accuracy: 0.8272 - val_loss: 0.4367 - val_accuracy: 0.6957\n",
      "Epoch 91/5000\n",
      "28/28 [==============================] - 0s 7ms/step - loss: 0.4028 - accuracy: 0.8306 - val_loss: 0.4347 - val_accuracy: 0.8696\n",
      "Epoch 92/5000\n",
      "28/28 [==============================] - 0s 7ms/step - loss: 0.3888 - accuracy: 0.8364 - val_loss: 0.2957 - val_accuracy: 0.8261\n",
      "Epoch 93/5000\n",
      "28/28 [==============================] - 0s 7ms/step - loss: 0.3874 - accuracy: 0.8376 - val_loss: 0.7817 - val_accuracy: 0.6522\n",
      "Epoch 94/5000\n",
      "28/28 [==============================] - 0s 8ms/step - loss: 0.3767 - accuracy: 0.8479 - val_loss: 0.9675 - val_accuracy: 0.5217\n",
      "Epoch 95/5000\n",
      "28/28 [==============================] - 0s 7ms/step - loss: 0.3974 - accuracy: 0.8272 - val_loss: 0.8798 - val_accuracy: 0.6087\n",
      "Epoch 96/5000\n",
      "28/28 [==============================] - 0s 7ms/step - loss: 0.4050 - accuracy: 0.8295 - val_loss: 0.4379 - val_accuracy: 0.7391\n",
      "Epoch 97/5000\n",
      "28/28 [==============================] - 0s 7ms/step - loss: 0.3972 - accuracy: 0.8433 - val_loss: 0.8878 - val_accuracy: 0.6957\n",
      "Epoch 98/5000\n",
      "28/28 [==============================] - 0s 7ms/step - loss: 0.3984 - accuracy: 0.8249 - val_loss: 0.5263 - val_accuracy: 0.7391\n",
      "Epoch 99/5000\n",
      "28/28 [==============================] - 0s 7ms/step - loss: 0.3882 - accuracy: 0.8306 - val_loss: 0.3615 - val_accuracy: 0.8261\n",
      "Epoch 100/5000\n",
      "28/28 [==============================] - 0s 7ms/step - loss: 0.3922 - accuracy: 0.8341 - val_loss: 0.6697 - val_accuracy: 0.7391\n",
      "Epoch 101/5000\n",
      "28/28 [==============================] - 0s 7ms/step - loss: 0.4001 - accuracy: 0.8329 - val_loss: 0.3253 - val_accuracy: 0.8261\n",
      "Epoch 102/5000\n",
      "28/28 [==============================] - 0s 7ms/step - loss: 0.3970 - accuracy: 0.8260 - val_loss: 0.3178 - val_accuracy: 0.8696\n",
      "Epoch 103/5000\n",
      "28/28 [==============================] - 0s 7ms/step - loss: 0.3887 - accuracy: 0.8364 - val_loss: 0.5354 - val_accuracy: 0.8261\n",
      "Epoch 104/5000\n",
      "28/28 [==============================] - 0s 8ms/step - loss: 0.3988 - accuracy: 0.8353 - val_loss: 0.2786 - val_accuracy: 0.8696\n",
      "Epoch 105/5000\n",
      "28/28 [==============================] - 0s 7ms/step - loss: 0.3905 - accuracy: 0.8387 - val_loss: 0.3644 - val_accuracy: 0.7826\n",
      "Epoch 106/5000\n",
      "28/28 [==============================] - 0s 9ms/step - loss: 0.3929 - accuracy: 0.8318 - val_loss: 0.2848 - val_accuracy: 0.8696\n",
      "Epoch 107/5000\n",
      "28/28 [==============================] - 0s 9ms/step - loss: 0.3746 - accuracy: 0.8422 - val_loss: 0.3756 - val_accuracy: 0.8261\n",
      "Epoch 108/5000\n",
      "28/28 [==============================] - 0s 14ms/step - loss: 0.3922 - accuracy: 0.8249 - val_loss: 0.4558 - val_accuracy: 0.7826\n",
      "Epoch 109/5000\n",
      "28/28 [==============================] - 0s 13ms/step - loss: 0.4071 - accuracy: 0.8272 - val_loss: 0.3475 - val_accuracy: 0.8261\n",
      "Epoch 110/5000\n",
      "28/28 [==============================] - 0s 11ms/step - loss: 0.3806 - accuracy: 0.8376 - val_loss: 0.4432 - val_accuracy: 0.7391\n",
      "Epoch 111/5000\n",
      "28/28 [==============================] - 0s 11ms/step - loss: 0.3768 - accuracy: 0.8364 - val_loss: 0.4180 - val_accuracy: 0.8261\n",
      "Epoch 112/5000\n",
      "28/28 [==============================] - 0s 7ms/step - loss: 0.3940 - accuracy: 0.8318 - val_loss: 0.3132 - val_accuracy: 0.8696\n",
      "Epoch 113/5000\n",
      "28/28 [==============================] - 0s 7ms/step - loss: 0.3938 - accuracy: 0.8353 - val_loss: 0.4336 - val_accuracy: 0.8696\n",
      "Epoch 114/5000\n",
      "28/28 [==============================] - 0s 7ms/step - loss: 0.4060 - accuracy: 0.8249 - val_loss: 0.2750 - val_accuracy: 0.8696\n",
      "Epoch 115/5000\n",
      "28/28 [==============================] - 0s 7ms/step - loss: 0.3903 - accuracy: 0.8306 - val_loss: 0.7239 - val_accuracy: 0.6957\n",
      "Epoch 116/5000\n",
      "28/28 [==============================] - 0s 7ms/step - loss: 0.3996 - accuracy: 0.8329 - val_loss: 0.3676 - val_accuracy: 0.8696\n",
      "Epoch 117/5000\n",
      "28/28 [==============================] - 0s 7ms/step - loss: 0.3859 - accuracy: 0.8341 - val_loss: 0.2813 - val_accuracy: 0.8696\n",
      "Epoch 118/5000\n",
      "28/28 [==============================] - 0s 8ms/step - loss: 0.4107 - accuracy: 0.8353 - val_loss: 0.5158 - val_accuracy: 0.7391\n",
      "Epoch 119/5000\n",
      "28/28 [==============================] - 0s 8ms/step - loss: 0.3864 - accuracy: 0.8295 - val_loss: 0.3703 - val_accuracy: 0.8261\n",
      "Epoch 120/5000\n",
      "28/28 [==============================] - 0s 8ms/step - loss: 0.3921 - accuracy: 0.8295 - val_loss: 0.3504 - val_accuracy: 0.8696\n",
      "Epoch 121/5000\n",
      "28/28 [==============================] - 0s 7ms/step - loss: 0.3773 - accuracy: 0.8399 - val_loss: 0.4516 - val_accuracy: 0.7391\n",
      "Epoch 122/5000\n",
      "28/28 [==============================] - 0s 9ms/step - loss: 0.3919 - accuracy: 0.8399 - val_loss: 0.3180 - val_accuracy: 0.8261\n",
      "Epoch 123/5000\n",
      "28/28 [==============================] - 0s 7ms/step - loss: 0.3870 - accuracy: 0.8306 - val_loss: 0.3732 - val_accuracy: 0.8696\n",
      "Epoch 124/5000\n",
      "28/28 [==============================] - 0s 7ms/step - loss: 0.4069 - accuracy: 0.8329 - val_loss: 0.6156 - val_accuracy: 0.6957\n",
      "Epoch 125/5000\n",
      "28/28 [==============================] - 0s 7ms/step - loss: 0.3982 - accuracy: 0.8260 - val_loss: 0.2992 - val_accuracy: 0.8696\n",
      "Epoch 126/5000\n",
      "28/28 [==============================] - 0s 7ms/step - loss: 0.3860 - accuracy: 0.8318 - val_loss: 0.3845 - val_accuracy: 0.8261\n",
      "Epoch 127/5000\n",
      "28/28 [==============================] - 0s 7ms/step - loss: 0.3904 - accuracy: 0.8260 - val_loss: 0.2656 - val_accuracy: 0.8696\n",
      "Epoch 128/5000\n",
      "28/28 [==============================] - 0s 8ms/step - loss: 0.3833 - accuracy: 0.8306 - val_loss: 0.7885 - val_accuracy: 0.6087\n",
      "Epoch 129/5000\n",
      "28/28 [==============================] - 0s 7ms/step - loss: 0.4020 - accuracy: 0.8180 - val_loss: 0.2965 - val_accuracy: 0.8261\n",
      "Epoch 130/5000\n",
      "28/28 [==============================] - 0s 7ms/step - loss: 0.3883 - accuracy: 0.8387 - val_loss: 0.2634 - val_accuracy: 0.8261\n",
      "Epoch 131/5000\n",
      "28/28 [==============================] - 0s 8ms/step - loss: 0.3833 - accuracy: 0.8422 - val_loss: 0.3198 - val_accuracy: 0.9130\n",
      "Epoch 132/5000\n",
      "28/28 [==============================] - 0s 7ms/step - loss: 0.3806 - accuracy: 0.8353 - val_loss: 0.2628 - val_accuracy: 0.8696\n",
      "Epoch 133/5000\n",
      "28/28 [==============================] - 0s 7ms/step - loss: 0.4004 - accuracy: 0.8283 - val_loss: 0.4809 - val_accuracy: 0.6522\n",
      "Epoch 134/5000\n",
      "28/28 [==============================] - 0s 7ms/step - loss: 0.3768 - accuracy: 0.8376 - val_loss: 0.3397 - val_accuracy: 0.8261\n",
      "Epoch 135/5000\n",
      "28/28 [==============================] - 0s 7ms/step - loss: 0.3921 - accuracy: 0.8237 - val_loss: 0.3634 - val_accuracy: 0.7826\n",
      "Epoch 136/5000\n",
      "28/28 [==============================] - 0s 7ms/step - loss: 0.3773 - accuracy: 0.8410 - val_loss: 0.2955 - val_accuracy: 0.8261\n",
      "Epoch 137/5000\n",
      "28/28 [==============================] - 0s 8ms/step - loss: 0.3948 - accuracy: 0.8456 - val_loss: 0.3250 - val_accuracy: 0.8696\n",
      "Epoch 138/5000\n",
      "28/28 [==============================] - 0s 7ms/step - loss: 0.3736 - accuracy: 0.8387 - val_loss: 0.3330 - val_accuracy: 0.8261\n",
      "Epoch 139/5000\n",
      "28/28 [==============================] - 0s 7ms/step - loss: 0.3802 - accuracy: 0.8376 - val_loss: 0.2696 - val_accuracy: 0.8261\n",
      "Epoch 140/5000\n",
      "28/28 [==============================] - 0s 7ms/step - loss: 0.3801 - accuracy: 0.8479 - val_loss: 0.6649 - val_accuracy: 0.7391\n",
      "Epoch 141/5000\n",
      "28/28 [==============================] - 0s 8ms/step - loss: 0.3769 - accuracy: 0.8283 - val_loss: 0.3026 - val_accuracy: 0.8696\n",
      "Epoch 142/5000\n",
      "28/28 [==============================] - 0s 7ms/step - loss: 0.3688 - accuracy: 0.8353 - val_loss: 0.3498 - val_accuracy: 0.8696\n",
      "Epoch 143/5000\n",
      "28/28 [==============================] - 0s 7ms/step - loss: 0.3903 - accuracy: 0.8376 - val_loss: 0.3314 - val_accuracy: 0.8696\n",
      "Epoch 144/5000\n",
      "28/28 [==============================] - 0s 8ms/step - loss: 0.3880 - accuracy: 0.8376 - val_loss: 0.3533 - val_accuracy: 0.7826\n"
     ]
    }
   ],
   "source": [
    "history = model3.fit(X_train, y_train, epochs=5000,validation_data=(X_valid, y_valid),\n",
    "                        use_multiprocessing=True,callbacks=[checkpoint_cb3, early_stopping_cb3])"
   ]
  },
  {
   "cell_type": "code",
   "execution_count": 29,
   "id": "e7cd4ed3",
   "metadata": {
    "execution": {
     "iopub.execute_input": "2023-06-12T16:20:09.347506Z",
     "iopub.status.busy": "2023-06-12T16:20:09.347172Z",
     "iopub.status.idle": "2023-06-12T16:20:13.965458Z",
     "shell.execute_reply": "2023-06-12T16:20:13.964452Z"
    },
    "papermill": {
     "duration": 4.693227,
     "end_time": "2023-06-12T16:20:13.967892",
     "exception": false,
     "start_time": "2023-06-12T16:20:09.274665",
     "status": "completed"
    },
    "tags": []
   },
   "outputs": [],
   "source": [
    "model3 = keras.models.load_model(\"my_keras_model3.h5\")"
   ]
  },
  {
   "cell_type": "code",
   "execution_count": 30,
   "id": "05f27d29",
   "metadata": {
    "execution": {
     "iopub.execute_input": "2023-06-12T16:20:14.113669Z",
     "iopub.status.busy": "2023-06-12T16:20:14.113298Z",
     "iopub.status.idle": "2023-06-12T16:20:14.391029Z",
     "shell.execute_reply": "2023-06-12T16:20:14.389980Z"
    },
    "papermill": {
     "duration": 0.352804,
     "end_time": "2023-06-12T16:20:14.393348",
     "exception": false,
     "start_time": "2023-06-12T16:20:14.040544",
     "status": "completed"
    },
    "tags": []
   },
   "outputs": [
    {
     "name": "stdout",
     "output_type": "stream",
     "text": [
      "14/14 [==============================] - 0s 2ms/step\n"
     ]
    }
   ],
   "source": [
    "y_test_pred_3=prediction(transform_X(X_test),model=model3)"
   ]
  },
  {
   "cell_type": "code",
   "execution_count": 31,
   "id": "7a5f1ba9",
   "metadata": {
    "execution": {
     "iopub.execute_input": "2023-06-12T16:20:14.556400Z",
     "iopub.status.busy": "2023-06-12T16:20:14.556046Z",
     "iopub.status.idle": "2023-06-12T16:20:14.565308Z",
     "shell.execute_reply": "2023-06-12T16:20:14.564433Z"
    },
    "papermill": {
     "duration": 0.098047,
     "end_time": "2023-06-12T16:20:14.567453",
     "exception": false,
     "start_time": "2023-06-12T16:20:14.469406",
     "status": "completed"
    },
    "tags": []
   },
   "outputs": [],
   "source": [
    "save_output(y_test_pred_3)"
   ]
  },
  {
   "cell_type": "code",
   "execution_count": null,
   "id": "49f29efc",
   "metadata": {
    "papermill": {
     "duration": 0.07138,
     "end_time": "2023-06-12T16:20:14.711465",
     "exception": false,
     "start_time": "2023-06-12T16:20:14.640085",
     "status": "completed"
    },
    "tags": []
   },
   "outputs": [],
   "source": []
  },
  {
   "cell_type": "code",
   "execution_count": null,
   "id": "ea215f8b",
   "metadata": {
    "papermill": {
     "duration": 0.073327,
     "end_time": "2023-06-12T16:20:14.857130",
     "exception": false,
     "start_time": "2023-06-12T16:20:14.783803",
     "status": "completed"
    },
    "tags": []
   },
   "outputs": [],
   "source": []
  },
  {
   "cell_type": "code",
   "execution_count": null,
   "id": "8302a722",
   "metadata": {
    "papermill": {
     "duration": 0.071713,
     "end_time": "2023-06-12T16:20:15.001298",
     "exception": false,
     "start_time": "2023-06-12T16:20:14.929585",
     "status": "completed"
    },
    "tags": []
   },
   "outputs": [],
   "source": []
  }
 ],
 "metadata": {
  "kernelspec": {
   "display_name": "Python 3",
   "language": "python",
   "name": "python3"
  },
  "language_info": {
   "codemirror_mode": {
    "name": "ipython",
    "version": 3
   },
   "file_extension": ".py",
   "mimetype": "text/x-python",
   "name": "python",
   "nbconvert_exporter": "python",
   "pygments_lexer": "ipython3",
   "version": "3.10.10"
  },
  "papermill": {
   "default_parameters": {},
   "duration": 70.812295,
   "end_time": "2023-06-12T16:20:18.229816",
   "environment_variables": {},
   "exception": null,
   "input_path": "__notebook__.ipynb",
   "output_path": "__notebook__.ipynb",
   "parameters": {},
   "start_time": "2023-06-12T16:19:07.417521",
   "version": "2.4.0"
  }
 },
 "nbformat": 4,
 "nbformat_minor": 5
}
