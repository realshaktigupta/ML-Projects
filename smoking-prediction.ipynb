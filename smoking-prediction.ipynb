{
 "cells": [
  {
   "cell_type": "markdown",
   "id": "9a1c31da",
   "metadata": {
    "papermill": {
     "duration": 0.007906,
     "end_time": "2024-02-10T17:35:59.158746",
     "exception": false,
     "start_time": "2024-02-10T17:35:59.150840",
     "status": "completed"
    },
    "tags": []
   },
   "source": [
    "# **Run Optuna with colsample_by_tree and num_parallel_trees too**"
   ]
  },
  {
   "cell_type": "code",
   "execution_count": 1,
   "id": "8f774018",
   "metadata": {
    "_cell_guid": "b1076dfc-b9ad-4769-8c92-a6c4dae69d19",
    "_uuid": "8f2839f25d086af736a60e9eeb907d3b93b6e0e5",
    "execution": {
     "iopub.execute_input": "2024-02-10T17:35:59.175769Z",
     "iopub.status.busy": "2024-02-10T17:35:59.174793Z",
     "iopub.status.idle": "2024-02-10T17:36:04.742789Z",
     "shell.execute_reply": "2024-02-10T17:36:04.741789Z"
    },
    "papermill": {
     "duration": 5.579367,
     "end_time": "2024-02-10T17:36:04.745400",
     "exception": false,
     "start_time": "2024-02-10T17:35:59.166033",
     "status": "completed"
    },
    "tags": []
   },
   "outputs": [],
   "source": [
    "import numpy as np\n",
    "import pandas as pd\n",
    "import matplotlib.pyplot as plt\n",
    "import seaborn as sns\n",
    "import xgboost as xgb\n",
    "from sklearn.model_selection import train_test_split\n",
    "import optuna\n",
    "from sklearn.model_selection import cross_val_score\n",
    "from sklearn.metrics import roc_auc_score\n",
    "import cupy as cp"
   ]
  },
  {
   "cell_type": "code",
   "execution_count": 2,
   "id": "e2053d9c",
   "metadata": {
    "execution": {
     "iopub.execute_input": "2024-02-10T17:36:04.762237Z",
     "iopub.status.busy": "2024-02-10T17:36:04.761650Z",
     "iopub.status.idle": "2024-02-10T17:36:05.389679Z",
     "shell.execute_reply": "2024-02-10T17:36:05.388469Z"
    },
    "papermill": {
     "duration": 0.639492,
     "end_time": "2024-02-10T17:36:05.392238",
     "exception": false,
     "start_time": "2024-02-10T17:36:04.752746",
     "status": "completed"
    },
    "tags": []
   },
   "outputs": [
    {
     "data": {
      "text/html": [
       "<div>\n",
       "<style scoped>\n",
       "    .dataframe tbody tr th:only-of-type {\n",
       "        vertical-align: middle;\n",
       "    }\n",
       "\n",
       "    .dataframe tbody tr th {\n",
       "        vertical-align: top;\n",
       "    }\n",
       "\n",
       "    .dataframe thead th {\n",
       "        text-align: right;\n",
       "    }\n",
       "</style>\n",
       "<table border=\"1\" class=\"dataframe\">\n",
       "  <thead>\n",
       "    <tr style=\"text-align: right;\">\n",
       "      <th></th>\n",
       "      <th>id</th>\n",
       "      <th>age</th>\n",
       "      <th>height(cm)</th>\n",
       "      <th>weight(kg)</th>\n",
       "      <th>waist(cm)</th>\n",
       "      <th>eyesight(left)</th>\n",
       "      <th>eyesight(right)</th>\n",
       "      <th>hearing(left)</th>\n",
       "      <th>hearing(right)</th>\n",
       "      <th>systolic</th>\n",
       "      <th>...</th>\n",
       "      <th>HDL</th>\n",
       "      <th>LDL</th>\n",
       "      <th>hemoglobin</th>\n",
       "      <th>Urine protein</th>\n",
       "      <th>serum creatinine</th>\n",
       "      <th>AST</th>\n",
       "      <th>ALT</th>\n",
       "      <th>Gtp</th>\n",
       "      <th>dental caries</th>\n",
       "      <th>smoking</th>\n",
       "    </tr>\n",
       "  </thead>\n",
       "  <tbody>\n",
       "    <tr>\n",
       "      <th>0</th>\n",
       "      <td>0</td>\n",
       "      <td>55</td>\n",
       "      <td>165</td>\n",
       "      <td>60</td>\n",
       "      <td>81.0</td>\n",
       "      <td>0.5</td>\n",
       "      <td>0.6</td>\n",
       "      <td>1</td>\n",
       "      <td>1</td>\n",
       "      <td>135</td>\n",
       "      <td>...</td>\n",
       "      <td>40</td>\n",
       "      <td>75</td>\n",
       "      <td>16.5</td>\n",
       "      <td>1</td>\n",
       "      <td>1.0</td>\n",
       "      <td>22</td>\n",
       "      <td>25</td>\n",
       "      <td>27</td>\n",
       "      <td>0</td>\n",
       "      <td>1</td>\n",
       "    </tr>\n",
       "    <tr>\n",
       "      <th>1</th>\n",
       "      <td>1</td>\n",
       "      <td>70</td>\n",
       "      <td>165</td>\n",
       "      <td>65</td>\n",
       "      <td>89.0</td>\n",
       "      <td>0.6</td>\n",
       "      <td>0.7</td>\n",
       "      <td>2</td>\n",
       "      <td>2</td>\n",
       "      <td>146</td>\n",
       "      <td>...</td>\n",
       "      <td>57</td>\n",
       "      <td>126</td>\n",
       "      <td>16.2</td>\n",
       "      <td>1</td>\n",
       "      <td>1.1</td>\n",
       "      <td>27</td>\n",
       "      <td>23</td>\n",
       "      <td>37</td>\n",
       "      <td>1</td>\n",
       "      <td>0</td>\n",
       "    </tr>\n",
       "    <tr>\n",
       "      <th>2</th>\n",
       "      <td>2</td>\n",
       "      <td>20</td>\n",
       "      <td>170</td>\n",
       "      <td>75</td>\n",
       "      <td>81.0</td>\n",
       "      <td>0.4</td>\n",
       "      <td>0.5</td>\n",
       "      <td>1</td>\n",
       "      <td>1</td>\n",
       "      <td>118</td>\n",
       "      <td>...</td>\n",
       "      <td>45</td>\n",
       "      <td>93</td>\n",
       "      <td>17.4</td>\n",
       "      <td>1</td>\n",
       "      <td>0.8</td>\n",
       "      <td>27</td>\n",
       "      <td>31</td>\n",
       "      <td>53</td>\n",
       "      <td>0</td>\n",
       "      <td>1</td>\n",
       "    </tr>\n",
       "    <tr>\n",
       "      <th>3</th>\n",
       "      <td>3</td>\n",
       "      <td>35</td>\n",
       "      <td>180</td>\n",
       "      <td>95</td>\n",
       "      <td>105.0</td>\n",
       "      <td>1.5</td>\n",
       "      <td>1.2</td>\n",
       "      <td>1</td>\n",
       "      <td>1</td>\n",
       "      <td>131</td>\n",
       "      <td>...</td>\n",
       "      <td>38</td>\n",
       "      <td>102</td>\n",
       "      <td>15.9</td>\n",
       "      <td>1</td>\n",
       "      <td>1.0</td>\n",
       "      <td>20</td>\n",
       "      <td>27</td>\n",
       "      <td>30</td>\n",
       "      <td>1</td>\n",
       "      <td>0</td>\n",
       "    </tr>\n",
       "    <tr>\n",
       "      <th>4</th>\n",
       "      <td>4</td>\n",
       "      <td>30</td>\n",
       "      <td>165</td>\n",
       "      <td>60</td>\n",
       "      <td>80.5</td>\n",
       "      <td>1.5</td>\n",
       "      <td>1.0</td>\n",
       "      <td>1</td>\n",
       "      <td>1</td>\n",
       "      <td>121</td>\n",
       "      <td>...</td>\n",
       "      <td>44</td>\n",
       "      <td>93</td>\n",
       "      <td>15.4</td>\n",
       "      <td>1</td>\n",
       "      <td>0.8</td>\n",
       "      <td>19</td>\n",
       "      <td>13</td>\n",
       "      <td>17</td>\n",
       "      <td>0</td>\n",
       "      <td>1</td>\n",
       "    </tr>\n",
       "  </tbody>\n",
       "</table>\n",
       "<p>5 rows × 24 columns</p>\n",
       "</div>"
      ],
      "text/plain": [
       "   id  age  height(cm)  weight(kg)  waist(cm)  eyesight(left)  \\\n",
       "0   0   55         165          60       81.0             0.5   \n",
       "1   1   70         165          65       89.0             0.6   \n",
       "2   2   20         170          75       81.0             0.4   \n",
       "3   3   35         180          95      105.0             1.5   \n",
       "4   4   30         165          60       80.5             1.5   \n",
       "\n",
       "   eyesight(right)  hearing(left)  hearing(right)  systolic  ...  HDL  LDL  \\\n",
       "0              0.6              1               1       135  ...   40   75   \n",
       "1              0.7              2               2       146  ...   57  126   \n",
       "2              0.5              1               1       118  ...   45   93   \n",
       "3              1.2              1               1       131  ...   38  102   \n",
       "4              1.0              1               1       121  ...   44   93   \n",
       "\n",
       "   hemoglobin  Urine protein  serum creatinine  AST  ALT  Gtp  dental caries  \\\n",
       "0        16.5              1               1.0   22   25   27              0   \n",
       "1        16.2              1               1.1   27   23   37              1   \n",
       "2        17.4              1               0.8   27   31   53              0   \n",
       "3        15.9              1               1.0   20   27   30              1   \n",
       "4        15.4              1               0.8   19   13   17              0   \n",
       "\n",
       "   smoking  \n",
       "0        1  \n",
       "1        0  \n",
       "2        1  \n",
       "3        0  \n",
       "4        1  \n",
       "\n",
       "[5 rows x 24 columns]"
      ]
     },
     "execution_count": 2,
     "metadata": {},
     "output_type": "execute_result"
    }
   ],
   "source": [
    "oly_train = pd.read_csv(\"/kaggle/input/ml-olympiad-smoking/train.csv\")\n",
    "oly_train.head(5)"
   ]
  },
  {
   "cell_type": "code",
   "execution_count": 3,
   "id": "68f2c3bf",
   "metadata": {
    "execution": {
     "iopub.execute_input": "2024-02-10T17:36:05.409836Z",
     "iopub.status.busy": "2024-02-10T17:36:05.409425Z",
     "iopub.status.idle": "2024-02-10T17:36:05.562895Z",
     "shell.execute_reply": "2024-02-10T17:36:05.561755Z"
    },
    "papermill": {
     "duration": 0.164674,
     "end_time": "2024-02-10T17:36:05.565398",
     "exception": false,
     "start_time": "2024-02-10T17:36:05.400724",
     "status": "completed"
    },
    "tags": []
   },
   "outputs": [
    {
     "data": {
      "text/html": [
       "<div>\n",
       "<style scoped>\n",
       "    .dataframe tbody tr th:only-of-type {\n",
       "        vertical-align: middle;\n",
       "    }\n",
       "\n",
       "    .dataframe tbody tr th {\n",
       "        vertical-align: top;\n",
       "    }\n",
       "\n",
       "    .dataframe thead th {\n",
       "        text-align: right;\n",
       "    }\n",
       "</style>\n",
       "<table border=\"1\" class=\"dataframe\">\n",
       "  <thead>\n",
       "    <tr style=\"text-align: right;\">\n",
       "      <th></th>\n",
       "      <th>age</th>\n",
       "      <th>height(cm)</th>\n",
       "      <th>weight(kg)</th>\n",
       "      <th>waist(cm)</th>\n",
       "      <th>eyesight(left)</th>\n",
       "      <th>eyesight(right)</th>\n",
       "      <th>hearing(left)</th>\n",
       "      <th>hearing(right)</th>\n",
       "      <th>systolic</th>\n",
       "      <th>relaxation</th>\n",
       "      <th>...</th>\n",
       "      <th>HDL</th>\n",
       "      <th>LDL</th>\n",
       "      <th>hemoglobin</th>\n",
       "      <th>Urine protein</th>\n",
       "      <th>serum creatinine</th>\n",
       "      <th>AST</th>\n",
       "      <th>ALT</th>\n",
       "      <th>Gtp</th>\n",
       "      <th>dental caries</th>\n",
       "      <th>smoking</th>\n",
       "    </tr>\n",
       "  </thead>\n",
       "  <tbody>\n",
       "    <tr>\n",
       "      <th>0</th>\n",
       "      <td>35</td>\n",
       "      <td>170</td>\n",
       "      <td>85</td>\n",
       "      <td>97.0</td>\n",
       "      <td>0.9</td>\n",
       "      <td>0.9</td>\n",
       "      <td>1</td>\n",
       "      <td>1</td>\n",
       "      <td>118</td>\n",
       "      <td>78</td>\n",
       "      <td>...</td>\n",
       "      <td>70</td>\n",
       "      <td>142</td>\n",
       "      <td>19.8</td>\n",
       "      <td>1</td>\n",
       "      <td>1.0</td>\n",
       "      <td>61</td>\n",
       "      <td>115</td>\n",
       "      <td>125</td>\n",
       "      <td>1</td>\n",
       "      <td>1</td>\n",
       "    </tr>\n",
       "    <tr>\n",
       "      <th>1</th>\n",
       "      <td>20</td>\n",
       "      <td>175</td>\n",
       "      <td>110</td>\n",
       "      <td>110.0</td>\n",
       "      <td>0.7</td>\n",
       "      <td>0.9</td>\n",
       "      <td>1</td>\n",
       "      <td>1</td>\n",
       "      <td>119</td>\n",
       "      <td>79</td>\n",
       "      <td>...</td>\n",
       "      <td>71</td>\n",
       "      <td>114</td>\n",
       "      <td>15.9</td>\n",
       "      <td>1</td>\n",
       "      <td>1.1</td>\n",
       "      <td>19</td>\n",
       "      <td>25</td>\n",
       "      <td>30</td>\n",
       "      <td>1</td>\n",
       "      <td>0</td>\n",
       "    </tr>\n",
       "    <tr>\n",
       "      <th>2</th>\n",
       "      <td>45</td>\n",
       "      <td>155</td>\n",
       "      <td>65</td>\n",
       "      <td>86.0</td>\n",
       "      <td>0.9</td>\n",
       "      <td>0.9</td>\n",
       "      <td>1</td>\n",
       "      <td>1</td>\n",
       "      <td>110</td>\n",
       "      <td>80</td>\n",
       "      <td>...</td>\n",
       "      <td>57</td>\n",
       "      <td>112</td>\n",
       "      <td>13.7</td>\n",
       "      <td>3</td>\n",
       "      <td>0.6</td>\n",
       "      <td>1090</td>\n",
       "      <td>1400</td>\n",
       "      <td>276</td>\n",
       "      <td>0</td>\n",
       "      <td>0</td>\n",
       "    </tr>\n",
       "    <tr>\n",
       "      <th>3</th>\n",
       "      <td>45</td>\n",
       "      <td>165</td>\n",
       "      <td>80</td>\n",
       "      <td>94.0</td>\n",
       "      <td>0.8</td>\n",
       "      <td>0.7</td>\n",
       "      <td>1</td>\n",
       "      <td>1</td>\n",
       "      <td>158</td>\n",
       "      <td>88</td>\n",
       "      <td>...</td>\n",
       "      <td>46</td>\n",
       "      <td>91</td>\n",
       "      <td>16.9</td>\n",
       "      <td>1</td>\n",
       "      <td>0.9</td>\n",
       "      <td>32</td>\n",
       "      <td>36</td>\n",
       "      <td>36</td>\n",
       "      <td>0</td>\n",
       "      <td>0</td>\n",
       "    </tr>\n",
       "    <tr>\n",
       "      <th>4</th>\n",
       "      <td>20</td>\n",
       "      <td>165</td>\n",
       "      <td>60</td>\n",
       "      <td>81.0</td>\n",
       "      <td>1.5</td>\n",
       "      <td>0.1</td>\n",
       "      <td>1</td>\n",
       "      <td>1</td>\n",
       "      <td>109</td>\n",
       "      <td>64</td>\n",
       "      <td>...</td>\n",
       "      <td>47</td>\n",
       "      <td>92</td>\n",
       "      <td>14.9</td>\n",
       "      <td>1</td>\n",
       "      <td>1.2</td>\n",
       "      <td>26</td>\n",
       "      <td>28</td>\n",
       "      <td>15</td>\n",
       "      <td>0</td>\n",
       "      <td>0</td>\n",
       "    </tr>\n",
       "  </tbody>\n",
       "</table>\n",
       "<p>5 rows × 23 columns</p>\n",
       "</div>"
      ],
      "text/plain": [
       "   age  height(cm)  weight(kg)  waist(cm)  eyesight(left)  eyesight(right)  \\\n",
       "0   35         170          85       97.0             0.9              0.9   \n",
       "1   20         175         110      110.0             0.7              0.9   \n",
       "2   45         155          65       86.0             0.9              0.9   \n",
       "3   45         165          80       94.0             0.8              0.7   \n",
       "4   20         165          60       81.0             1.5              0.1   \n",
       "\n",
       "   hearing(left)  hearing(right)  systolic  relaxation  ...  HDL  LDL  \\\n",
       "0              1               1       118          78  ...   70  142   \n",
       "1              1               1       119          79  ...   71  114   \n",
       "2              1               1       110          80  ...   57  112   \n",
       "3              1               1       158          88  ...   46   91   \n",
       "4              1               1       109          64  ...   47   92   \n",
       "\n",
       "   hemoglobin  Urine protein  serum creatinine   AST   ALT  Gtp  \\\n",
       "0        19.8              1               1.0    61   115  125   \n",
       "1        15.9              1               1.1    19    25   30   \n",
       "2        13.7              3               0.6  1090  1400  276   \n",
       "3        16.9              1               0.9    32    36   36   \n",
       "4        14.9              1               1.2    26    28   15   \n",
       "\n",
       "   dental caries  smoking  \n",
       "0              1        1  \n",
       "1              1        0  \n",
       "2              0        0  \n",
       "3              0        0  \n",
       "4              0        0  \n",
       "\n",
       "[5 rows x 23 columns]"
      ]
     },
     "execution_count": 3,
     "metadata": {},
     "output_type": "execute_result"
    }
   ],
   "source": [
    "ori_train = pd.read_csv(\"/kaggle/input/smoker-status-prediction-using-biosignals/train_dataset.csv\")\n",
    "ori_train.head(5)"
   ]
  },
  {
   "cell_type": "code",
   "execution_count": 4,
   "id": "fa5088d6",
   "metadata": {
    "execution": {
     "iopub.execute_input": "2024-02-10T17:36:05.583660Z",
     "iopub.status.busy": "2024-02-10T17:36:05.582999Z",
     "iopub.status.idle": "2024-02-10T17:36:05.610751Z",
     "shell.execute_reply": "2024-02-10T17:36:05.609502Z"
    },
    "papermill": {
     "duration": 0.040307,
     "end_time": "2024-02-10T17:36:05.613846",
     "exception": false,
     "start_time": "2024-02-10T17:36:05.573539",
     "status": "completed"
    },
    "tags": []
   },
   "outputs": [
    {
     "name": "stdout",
     "output_type": "stream",
     "text": [
      "<class 'pandas.core.frame.DataFrame'>\n",
      "RangeIndex: 159256 entries, 0 to 159255\n",
      "Data columns (total 24 columns):\n",
      " #   Column               Non-Null Count   Dtype  \n",
      "---  ------               --------------   -----  \n",
      " 0   id                   159256 non-null  int64  \n",
      " 1   age                  159256 non-null  int64  \n",
      " 2   height(cm)           159256 non-null  int64  \n",
      " 3   weight(kg)           159256 non-null  int64  \n",
      " 4   waist(cm)            159256 non-null  float64\n",
      " 5   eyesight(left)       159256 non-null  float64\n",
      " 6   eyesight(right)      159256 non-null  float64\n",
      " 7   hearing(left)        159256 non-null  int64  \n",
      " 8   hearing(right)       159256 non-null  int64  \n",
      " 9   systolic             159256 non-null  int64  \n",
      " 10  relaxation           159256 non-null  int64  \n",
      " 11  fasting blood sugar  159256 non-null  int64  \n",
      " 12  Cholesterol          159256 non-null  int64  \n",
      " 13  triglyceride         159256 non-null  int64  \n",
      " 14  HDL                  159256 non-null  int64  \n",
      " 15  LDL                  159256 non-null  int64  \n",
      " 16  hemoglobin           159256 non-null  float64\n",
      " 17  Urine protein        159256 non-null  int64  \n",
      " 18  serum creatinine     159256 non-null  float64\n",
      " 19  AST                  159256 non-null  int64  \n",
      " 20  ALT                  159256 non-null  int64  \n",
      " 21  Gtp                  159256 non-null  int64  \n",
      " 22  dental caries        159256 non-null  int64  \n",
      " 23  smoking              159256 non-null  int64  \n",
      "dtypes: float64(5), int64(19)\n",
      "memory usage: 29.2 MB\n"
     ]
    }
   ],
   "source": [
    "oly_train.info()"
   ]
  },
  {
   "cell_type": "code",
   "execution_count": 5,
   "id": "235a392f",
   "metadata": {
    "execution": {
     "iopub.execute_input": "2024-02-10T17:36:05.634296Z",
     "iopub.status.busy": "2024-02-10T17:36:05.633499Z",
     "iopub.status.idle": "2024-02-10T17:36:05.830026Z",
     "shell.execute_reply": "2024-02-10T17:36:05.828873Z"
    },
    "papermill": {
     "duration": 0.209454,
     "end_time": "2024-02-10T17:36:05.832717",
     "exception": false,
     "start_time": "2024-02-10T17:36:05.623263",
     "status": "completed"
    },
    "tags": []
   },
   "outputs": [
    {
     "data": {
      "text/html": [
       "<div>\n",
       "<style scoped>\n",
       "    .dataframe tbody tr th:only-of-type {\n",
       "        vertical-align: middle;\n",
       "    }\n",
       "\n",
       "    .dataframe tbody tr th {\n",
       "        vertical-align: top;\n",
       "    }\n",
       "\n",
       "    .dataframe thead th {\n",
       "        text-align: right;\n",
       "    }\n",
       "</style>\n",
       "<table border=\"1\" class=\"dataframe\">\n",
       "  <thead>\n",
       "    <tr style=\"text-align: right;\">\n",
       "      <th></th>\n",
       "      <th>count</th>\n",
       "      <th>mean</th>\n",
       "      <th>std</th>\n",
       "      <th>min</th>\n",
       "      <th>25%</th>\n",
       "      <th>50%</th>\n",
       "      <th>75%</th>\n",
       "      <th>max</th>\n",
       "    </tr>\n",
       "  </thead>\n",
       "  <tbody>\n",
       "    <tr>\n",
       "      <th>id</th>\n",
       "      <td>159256.0</td>\n",
       "      <td>79627.500000</td>\n",
       "      <td>45973.391572</td>\n",
       "      <td>0.0</td>\n",
       "      <td>39813.75</td>\n",
       "      <td>79627.5</td>\n",
       "      <td>119441.25</td>\n",
       "      <td>159255.0</td>\n",
       "    </tr>\n",
       "    <tr>\n",
       "      <th>age</th>\n",
       "      <td>159256.0</td>\n",
       "      <td>44.306626</td>\n",
       "      <td>11.842286</td>\n",
       "      <td>20.0</td>\n",
       "      <td>40.00</td>\n",
       "      <td>40.0</td>\n",
       "      <td>55.00</td>\n",
       "      <td>85.0</td>\n",
       "    </tr>\n",
       "    <tr>\n",
       "      <th>height(cm)</th>\n",
       "      <td>159256.0</td>\n",
       "      <td>165.266929</td>\n",
       "      <td>8.818970</td>\n",
       "      <td>135.0</td>\n",
       "      <td>160.00</td>\n",
       "      <td>165.0</td>\n",
       "      <td>170.00</td>\n",
       "      <td>190.0</td>\n",
       "    </tr>\n",
       "    <tr>\n",
       "      <th>weight(kg)</th>\n",
       "      <td>159256.0</td>\n",
       "      <td>67.143662</td>\n",
       "      <td>12.586198</td>\n",
       "      <td>30.0</td>\n",
       "      <td>60.00</td>\n",
       "      <td>65.0</td>\n",
       "      <td>75.00</td>\n",
       "      <td>130.0</td>\n",
       "    </tr>\n",
       "    <tr>\n",
       "      <th>waist(cm)</th>\n",
       "      <td>159256.0</td>\n",
       "      <td>83.001990</td>\n",
       "      <td>8.957937</td>\n",
       "      <td>51.0</td>\n",
       "      <td>77.00</td>\n",
       "      <td>83.0</td>\n",
       "      <td>89.00</td>\n",
       "      <td>127.0</td>\n",
       "    </tr>\n",
       "    <tr>\n",
       "      <th>eyesight(left)</th>\n",
       "      <td>159256.0</td>\n",
       "      <td>1.005798</td>\n",
       "      <td>0.402113</td>\n",
       "      <td>0.1</td>\n",
       "      <td>0.80</td>\n",
       "      <td>1.0</td>\n",
       "      <td>1.20</td>\n",
       "      <td>9.9</td>\n",
       "    </tr>\n",
       "    <tr>\n",
       "      <th>eyesight(right)</th>\n",
       "      <td>159256.0</td>\n",
       "      <td>1.000989</td>\n",
       "      <td>0.392299</td>\n",
       "      <td>0.1</td>\n",
       "      <td>0.80</td>\n",
       "      <td>1.0</td>\n",
       "      <td>1.20</td>\n",
       "      <td>9.9</td>\n",
       "    </tr>\n",
       "    <tr>\n",
       "      <th>hearing(left)</th>\n",
       "      <td>159256.0</td>\n",
       "      <td>1.023974</td>\n",
       "      <td>0.152969</td>\n",
       "      <td>1.0</td>\n",
       "      <td>1.00</td>\n",
       "      <td>1.0</td>\n",
       "      <td>1.00</td>\n",
       "      <td>2.0</td>\n",
       "    </tr>\n",
       "    <tr>\n",
       "      <th>hearing(right)</th>\n",
       "      <td>159256.0</td>\n",
       "      <td>1.023421</td>\n",
       "      <td>0.151238</td>\n",
       "      <td>1.0</td>\n",
       "      <td>1.00</td>\n",
       "      <td>1.0</td>\n",
       "      <td>1.00</td>\n",
       "      <td>2.0</td>\n",
       "    </tr>\n",
       "    <tr>\n",
       "      <th>systolic</th>\n",
       "      <td>159256.0</td>\n",
       "      <td>122.503648</td>\n",
       "      <td>12.729315</td>\n",
       "      <td>77.0</td>\n",
       "      <td>114.00</td>\n",
       "      <td>121.0</td>\n",
       "      <td>130.00</td>\n",
       "      <td>213.0</td>\n",
       "    </tr>\n",
       "    <tr>\n",
       "      <th>relaxation</th>\n",
       "      <td>159256.0</td>\n",
       "      <td>76.874071</td>\n",
       "      <td>8.994642</td>\n",
       "      <td>44.0</td>\n",
       "      <td>70.00</td>\n",
       "      <td>78.0</td>\n",
       "      <td>82.00</td>\n",
       "      <td>133.0</td>\n",
       "    </tr>\n",
       "    <tr>\n",
       "      <th>fasting blood sugar</th>\n",
       "      <td>159256.0</td>\n",
       "      <td>98.352552</td>\n",
       "      <td>15.329740</td>\n",
       "      <td>46.0</td>\n",
       "      <td>90.00</td>\n",
       "      <td>96.0</td>\n",
       "      <td>103.00</td>\n",
       "      <td>375.0</td>\n",
       "    </tr>\n",
       "    <tr>\n",
       "      <th>Cholesterol</th>\n",
       "      <td>159256.0</td>\n",
       "      <td>195.796165</td>\n",
       "      <td>28.396959</td>\n",
       "      <td>77.0</td>\n",
       "      <td>175.00</td>\n",
       "      <td>196.0</td>\n",
       "      <td>217.00</td>\n",
       "      <td>393.0</td>\n",
       "    </tr>\n",
       "    <tr>\n",
       "      <th>triglyceride</th>\n",
       "      <td>159256.0</td>\n",
       "      <td>127.616046</td>\n",
       "      <td>66.188989</td>\n",
       "      <td>8.0</td>\n",
       "      <td>77.00</td>\n",
       "      <td>115.0</td>\n",
       "      <td>165.00</td>\n",
       "      <td>766.0</td>\n",
       "    </tr>\n",
       "    <tr>\n",
       "      <th>HDL</th>\n",
       "      <td>159256.0</td>\n",
       "      <td>55.852684</td>\n",
       "      <td>13.964141</td>\n",
       "      <td>9.0</td>\n",
       "      <td>45.00</td>\n",
       "      <td>54.0</td>\n",
       "      <td>64.00</td>\n",
       "      <td>136.0</td>\n",
       "    </tr>\n",
       "    <tr>\n",
       "      <th>LDL</th>\n",
       "      <td>159256.0</td>\n",
       "      <td>114.607682</td>\n",
       "      <td>28.158931</td>\n",
       "      <td>1.0</td>\n",
       "      <td>95.00</td>\n",
       "      <td>114.0</td>\n",
       "      <td>133.00</td>\n",
       "      <td>1860.0</td>\n",
       "    </tr>\n",
       "    <tr>\n",
       "      <th>hemoglobin</th>\n",
       "      <td>159256.0</td>\n",
       "      <td>14.796965</td>\n",
       "      <td>1.431213</td>\n",
       "      <td>4.9</td>\n",
       "      <td>13.80</td>\n",
       "      <td>15.0</td>\n",
       "      <td>15.80</td>\n",
       "      <td>21.0</td>\n",
       "    </tr>\n",
       "    <tr>\n",
       "      <th>Urine protein</th>\n",
       "      <td>159256.0</td>\n",
       "      <td>1.074233</td>\n",
       "      <td>0.347856</td>\n",
       "      <td>1.0</td>\n",
       "      <td>1.00</td>\n",
       "      <td>1.0</td>\n",
       "      <td>1.00</td>\n",
       "      <td>6.0</td>\n",
       "    </tr>\n",
       "    <tr>\n",
       "      <th>serum creatinine</th>\n",
       "      <td>159256.0</td>\n",
       "      <td>0.892764</td>\n",
       "      <td>0.179346</td>\n",
       "      <td>0.1</td>\n",
       "      <td>0.80</td>\n",
       "      <td>0.9</td>\n",
       "      <td>1.00</td>\n",
       "      <td>9.9</td>\n",
       "    </tr>\n",
       "    <tr>\n",
       "      <th>AST</th>\n",
       "      <td>159256.0</td>\n",
       "      <td>25.516853</td>\n",
       "      <td>9.464882</td>\n",
       "      <td>6.0</td>\n",
       "      <td>20.00</td>\n",
       "      <td>24.0</td>\n",
       "      <td>29.00</td>\n",
       "      <td>778.0</td>\n",
       "    </tr>\n",
       "    <tr>\n",
       "      <th>ALT</th>\n",
       "      <td>159256.0</td>\n",
       "      <td>26.550296</td>\n",
       "      <td>17.753070</td>\n",
       "      <td>1.0</td>\n",
       "      <td>16.00</td>\n",
       "      <td>22.0</td>\n",
       "      <td>32.00</td>\n",
       "      <td>2914.0</td>\n",
       "    </tr>\n",
       "    <tr>\n",
       "      <th>Gtp</th>\n",
       "      <td>159256.0</td>\n",
       "      <td>36.216004</td>\n",
       "      <td>31.204643</td>\n",
       "      <td>2.0</td>\n",
       "      <td>18.00</td>\n",
       "      <td>27.0</td>\n",
       "      <td>44.00</td>\n",
       "      <td>999.0</td>\n",
       "    </tr>\n",
       "    <tr>\n",
       "      <th>dental caries</th>\n",
       "      <td>159256.0</td>\n",
       "      <td>0.197996</td>\n",
       "      <td>0.398490</td>\n",
       "      <td>0.0</td>\n",
       "      <td>0.00</td>\n",
       "      <td>0.0</td>\n",
       "      <td>0.00</td>\n",
       "      <td>1.0</td>\n",
       "    </tr>\n",
       "    <tr>\n",
       "      <th>smoking</th>\n",
       "      <td>159256.0</td>\n",
       "      <td>0.437365</td>\n",
       "      <td>0.496063</td>\n",
       "      <td>0.0</td>\n",
       "      <td>0.00</td>\n",
       "      <td>0.0</td>\n",
       "      <td>1.00</td>\n",
       "      <td>1.0</td>\n",
       "    </tr>\n",
       "  </tbody>\n",
       "</table>\n",
       "</div>"
      ],
      "text/plain": [
       "                        count          mean           std    min       25%  \\\n",
       "id                   159256.0  79627.500000  45973.391572    0.0  39813.75   \n",
       "age                  159256.0     44.306626     11.842286   20.0     40.00   \n",
       "height(cm)           159256.0    165.266929      8.818970  135.0    160.00   \n",
       "weight(kg)           159256.0     67.143662     12.586198   30.0     60.00   \n",
       "waist(cm)            159256.0     83.001990      8.957937   51.0     77.00   \n",
       "eyesight(left)       159256.0      1.005798      0.402113    0.1      0.80   \n",
       "eyesight(right)      159256.0      1.000989      0.392299    0.1      0.80   \n",
       "hearing(left)        159256.0      1.023974      0.152969    1.0      1.00   \n",
       "hearing(right)       159256.0      1.023421      0.151238    1.0      1.00   \n",
       "systolic             159256.0    122.503648     12.729315   77.0    114.00   \n",
       "relaxation           159256.0     76.874071      8.994642   44.0     70.00   \n",
       "fasting blood sugar  159256.0     98.352552     15.329740   46.0     90.00   \n",
       "Cholesterol          159256.0    195.796165     28.396959   77.0    175.00   \n",
       "triglyceride         159256.0    127.616046     66.188989    8.0     77.00   \n",
       "HDL                  159256.0     55.852684     13.964141    9.0     45.00   \n",
       "LDL                  159256.0    114.607682     28.158931    1.0     95.00   \n",
       "hemoglobin           159256.0     14.796965      1.431213    4.9     13.80   \n",
       "Urine protein        159256.0      1.074233      0.347856    1.0      1.00   \n",
       "serum creatinine     159256.0      0.892764      0.179346    0.1      0.80   \n",
       "AST                  159256.0     25.516853      9.464882    6.0     20.00   \n",
       "ALT                  159256.0     26.550296     17.753070    1.0     16.00   \n",
       "Gtp                  159256.0     36.216004     31.204643    2.0     18.00   \n",
       "dental caries        159256.0      0.197996      0.398490    0.0      0.00   \n",
       "smoking              159256.0      0.437365      0.496063    0.0      0.00   \n",
       "\n",
       "                         50%        75%       max  \n",
       "id                   79627.5  119441.25  159255.0  \n",
       "age                     40.0      55.00      85.0  \n",
       "height(cm)             165.0     170.00     190.0  \n",
       "weight(kg)              65.0      75.00     130.0  \n",
       "waist(cm)               83.0      89.00     127.0  \n",
       "eyesight(left)           1.0       1.20       9.9  \n",
       "eyesight(right)          1.0       1.20       9.9  \n",
       "hearing(left)            1.0       1.00       2.0  \n",
       "hearing(right)           1.0       1.00       2.0  \n",
       "systolic               121.0     130.00     213.0  \n",
       "relaxation              78.0      82.00     133.0  \n",
       "fasting blood sugar     96.0     103.00     375.0  \n",
       "Cholesterol            196.0     217.00     393.0  \n",
       "triglyceride           115.0     165.00     766.0  \n",
       "HDL                     54.0      64.00     136.0  \n",
       "LDL                    114.0     133.00    1860.0  \n",
       "hemoglobin              15.0      15.80      21.0  \n",
       "Urine protein            1.0       1.00       6.0  \n",
       "serum creatinine         0.9       1.00       9.9  \n",
       "AST                     24.0      29.00     778.0  \n",
       "ALT                     22.0      32.00    2914.0  \n",
       "Gtp                     27.0      44.00     999.0  \n",
       "dental caries            0.0       0.00       1.0  \n",
       "smoking                  0.0       1.00       1.0  "
      ]
     },
     "execution_count": 5,
     "metadata": {},
     "output_type": "execute_result"
    }
   ],
   "source": [
    "oly_train.describe().T"
   ]
  },
  {
   "cell_type": "code",
   "execution_count": 6,
   "id": "399949bf",
   "metadata": {
    "execution": {
     "iopub.execute_input": "2024-02-10T17:36:05.853263Z",
     "iopub.status.busy": "2024-02-10T17:36:05.852274Z",
     "iopub.status.idle": "2024-02-10T17:36:06.126685Z",
     "shell.execute_reply": "2024-02-10T17:36:06.125618Z"
    },
    "papermill": {
     "duration": 0.287222,
     "end_time": "2024-02-10T17:36:06.129195",
     "exception": false,
     "start_time": "2024-02-10T17:36:05.841973",
     "status": "completed"
    },
    "tags": []
   },
   "outputs": [
    {
     "data": {
      "text/plain": [
       "(array([12969., 11465., 13081., 65171., 15769., 13448., 22681.,  2230.,\n",
       "         1760.,   682.]),\n",
       " array([20. , 26.5, 33. , 39.5, 46. , 52.5, 59. , 65.5, 72. , 78.5, 85. ]),\n",
       " <BarContainer object of 10 artists>)"
      ]
     },
     "execution_count": 6,
     "metadata": {},
     "output_type": "execute_result"
    },
    {
     "data": {
      "image/png": "[encoded data removed]",
      "text/plain": [
       "<Figure size 640x480 with 1 Axes>"
      ]
     },
     "metadata": {},
     "output_type": "display_data"
    }
   ],
   "source": [
    "plt.hist(oly_train['age'])"
   ]
  },
  {
   "cell_type": "code",
   "execution_count": 7,
   "id": "742ac7d2",
   "metadata": {
    "execution": {
     "iopub.execute_input": "2024-02-10T17:36:06.150358Z",
     "iopub.status.busy": "2024-02-10T17:36:06.149969Z",
     "iopub.status.idle": "2024-02-10T17:36:06.407302Z",
     "shell.execute_reply": "2024-02-10T17:36:06.406212Z"
    },
    "papermill": {
     "duration": 0.270775,
     "end_time": "2024-02-10T17:36:06.409841",
     "exception": false,
     "start_time": "2024-02-10T17:36:06.139066",
     "status": "completed"
    },
    "tags": []
   },
   "outputs": [
    {
     "data": {
      "text/plain": [
       "(array([ 3592.,  2868.,  3148., 15613.,  3901.,  3451.,  5190.,   586.,\n",
       "          424.,   211.]),\n",
       " array([20. , 26.5, 33. , 39.5, 46. , 52.5, 59. , 65.5, 72. , 78.5, 85. ]),\n",
       " <BarContainer object of 10 artists>)"
      ]
     },
     "execution_count": 7,
     "metadata": {},
     "output_type": "execute_result"
    },
    {
     "data": {
      "image/png": "[encoded data removed]",
      "text/plain": [
       "<Figure size 640x480 with 1 Axes>"
      ]
     },
     "metadata": {},
     "output_type": "display_data"
    }
   ],
   "source": [
    "plt.hist(ori_train['age'])"
   ]
  },
  {
   "cell_type": "code",
   "execution_count": 8,
   "id": "69851b60",
   "metadata": {
    "execution": {
     "iopub.execute_input": "2024-02-10T17:36:06.432893Z",
     "iopub.status.busy": "2024-02-10T17:36:06.432512Z",
     "iopub.status.idle": "2024-02-10T17:36:06.678235Z",
     "shell.execute_reply": "2024-02-10T17:36:06.677183Z"
    },
    "papermill": {
     "duration": 0.260617,
     "end_time": "2024-02-10T17:36:06.680718",
     "exception": false,
     "start_time": "2024-02-10T17:36:06.420101",
     "status": "completed"
    },
    "tags": []
   },
   "outputs": [
    {
     "data": {
      "text/plain": [
       "(array([  419.,  2736., 11534., 19597., 22783., 30145., 37398., 24852.,\n",
       "         8186.,  1606.]),\n",
       " array([135. , 140.5, 146. , 151.5, 157. , 162.5, 168. , 173.5, 179. ,\n",
       "        184.5, 190. ]),\n",
       " <BarContainer object of 10 artists>)"
      ]
     },
     "execution_count": 8,
     "metadata": {},
     "output_type": "execute_result"
    },
    {
     "data": {
      "image/png": "[encoded data removed]",
      "text/plain": [
       "<Figure size 640x480 with 1 Axes>"
      ]
     },
     "metadata": {},
     "output_type": "display_data"
    }
   ],
   "source": [
    "plt.hist(oly_train['height(cm)'])"
   ]
  },
  {
   "cell_type": "code",
   "execution_count": 9,
   "id": "2aeaedc0",
   "metadata": {
    "execution": {
     "iopub.execute_input": "2024-02-10T17:36:06.703255Z",
     "iopub.status.busy": "2024-02-10T17:36:06.702850Z",
     "iopub.status.idle": "2024-02-10T17:36:06.937663Z",
     "shell.execute_reply": "2024-02-10T17:36:06.936639Z"
    },
    "papermill": {
     "duration": 0.249235,
     "end_time": "2024-02-10T17:36:06.940167",
     "exception": false,
     "start_time": "2024-02-10T17:36:06.690932",
     "status": "completed"
    },
    "tags": []
   },
   "outputs": [
    {
     "data": {
      "text/plain": [
       "(array([5.000e+00, 1.470e+02, 8.430e+02, 3.132e+03, 5.292e+03, 1.324e+04,\n",
       "        7.985e+03, 5.617e+03, 2.203e+03, 5.200e+02]),\n",
       " array([130., 136., 142., 148., 154., 160., 166., 172., 178., 184., 190.]),\n",
       " <BarContainer object of 10 artists>)"
      ]
     },
     "execution_count": 9,
     "metadata": {},
     "output_type": "execute_result"
    },
    {
     "data": {
      "image/png": "[encoded data removed]",
      "text/plain": [
       "<Figure size 640x480 with 1 Axes>"
      ]
     },
     "metadata": {},
     "output_type": "display_data"
    }
   ],
   "source": [
    "plt.hist(ori_train['height(cm)'])"
   ]
  },
  {
   "cell_type": "code",
   "execution_count": 10,
   "id": "2e481971",
   "metadata": {
    "execution": {
     "iopub.execute_input": "2024-02-10T17:36:06.964361Z",
     "iopub.status.busy": "2024-02-10T17:36:06.963954Z",
     "iopub.status.idle": "2024-02-10T17:36:07.178963Z",
     "shell.execute_reply": "2024-02-10T17:36:07.177912Z"
    },
    "papermill": {
     "duration": 0.229976,
     "end_time": "2024-02-10T17:36:07.181414",
     "exception": false,
     "start_time": "2024-02-10T17:36:06.951438",
     "status": "completed"
    },
    "tags": []
   },
   "outputs": [
    {
     "data": {
      "text/plain": [
       "(array([6.1000e+01, 6.3010e+03, 3.2495e+04, 4.4727e+04, 4.3867e+04,\n",
       "        2.2247e+04, 7.3240e+03, 1.8920e+03, 3.1000e+02, 3.2000e+01]),\n",
       " array([ 30.,  40.,  50.,  60.,  70.,  80.,  90., 100., 110., 120., 130.]),\n",
       " <BarContainer object of 10 artists>)"
      ]
     },
     "execution_count": 10,
     "metadata": {},
     "output_type": "execute_result"
    },
    {
     "data": {
      "image/png": "[encoded data removed]",
      "text/plain": [
       "<Figure size 640x480 with 1 Axes>"
      ]
     },
     "metadata": {},
     "output_type": "display_data"
    }
   ],
   "source": [
    "plt.hist(oly_train['weight(kg)'])"
   ]
  },
  {
   "cell_type": "code",
   "execution_count": 11,
   "id": "7cd4a021",
   "metadata": {
    "execution": {
     "iopub.execute_input": "2024-02-10T17:36:07.206156Z",
     "iopub.status.busy": "2024-02-10T17:36:07.205770Z",
     "iopub.status.idle": "2024-02-10T17:36:07.432126Z",
     "shell.execute_reply": "2024-02-10T17:36:07.431041Z"
    },
    "papermill": {
     "duration": 0.241517,
     "end_time": "2024-02-10T17:36:07.434540",
     "exception": false,
     "start_time": "2024-02-10T17:36:07.193023",
     "status": "completed"
    },
    "tags": []
   },
   "outputs": [
    {
     "data": {
      "text/plain": [
       "(array([3.5900e+02, 5.5330e+03, 1.0791e+04, 1.1146e+04, 7.1120e+03,\n",
       "        2.8260e+03, 9.2600e+02, 2.2700e+02, 5.4000e+01, 1.0000e+01]),\n",
       " array([ 30. ,  40.5,  51. ,  61.5,  72. ,  82.5,  93. , 103.5, 114. ,\n",
       "        124.5, 135. ]),\n",
       " <BarContainer object of 10 artists>)"
      ]
     },
     "execution_count": 11,
     "metadata": {},
     "output_type": "execute_result"
    },
    {
     "data": {
      "image/png": "[encoded data removed]",
      "text/plain": [
       "<Figure size 640x480 with 1 Axes>"
      ]
     },
     "metadata": {},
     "output_type": "display_data"
    }
   ],
   "source": [
    "plt.hist(ori_train['weight(kg)'])"
   ]
  },
  {
   "cell_type": "code",
   "execution_count": 12,
   "id": "8aaa95d6",
   "metadata": {
    "execution": {
     "iopub.execute_input": "2024-02-10T17:36:07.462302Z",
     "iopub.status.busy": "2024-02-10T17:36:07.461568Z",
     "iopub.status.idle": "2024-02-10T17:36:07.710320Z",
     "shell.execute_reply": "2024-02-10T17:36:07.709331Z"
    },
    "papermill": {
     "duration": 0.265431,
     "end_time": "2024-02-10T17:36:07.712514",
     "exception": false,
     "start_time": "2024-02-10T17:36:07.447083",
     "status": "completed"
    },
    "tags": []
   },
   "outputs": [
    {
     "data": {
      "text/plain": [
       "(array([7.2000e+01, 4.9010e+03, 1.9518e+04, 4.4042e+04, 4.8832e+04,\n",
       "        3.1526e+04, 8.7930e+03, 1.3710e+03, 1.8500e+02, 1.6000e+01]),\n",
       " array([ 51. ,  58.6,  66.2,  73.8,  81.4,  89. ,  96.6, 104.2, 111.8,\n",
       "        119.4, 127. ]),\n",
       " <BarContainer object of 10 artists>)"
      ]
     },
     "execution_count": 12,
     "metadata": {},
     "output_type": "execute_result"
    },
    {
     "data": {
      "image/png": "[encoded data removed]",
      "text/plain": [
       "<Figure size 640x480 with 1 Axes>"
      ]
     },
     "metadata": {},
     "output_type": "display_data"
    }
   ],
   "source": [
    "plt.hist(oly_train['waist(cm)'])"
   ]
  },
  {
   "cell_type": "code",
   "execution_count": 13,
   "id": "c58ebca0",
   "metadata": {
    "execution": {
     "iopub.execute_input": "2024-02-10T17:36:07.740875Z",
     "iopub.status.busy": "2024-02-10T17:36:07.739814Z",
     "iopub.status.idle": "2024-02-10T17:36:08.003640Z",
     "shell.execute_reply": "2024-02-10T17:36:08.002206Z"
    },
    "papermill": {
     "duration": 0.280995,
     "end_time": "2024-02-10T17:36:08.006487",
     "exception": false,
     "start_time": "2024-02-10T17:36:07.725492",
     "status": "completed"
    },
    "tags": []
   },
   "outputs": [
    {
     "data": {
      "text/plain": [
       "age                   -0.206033\n",
       "height(cm)             0.447111\n",
       "weight(kg)             0.351748\n",
       "waist(cm)              0.262715\n",
       "eyesight(left)         0.100420\n",
       "eyesight(right)        0.109781\n",
       "hearing(left)         -0.038219\n",
       "hearing(right)        -0.036858\n",
       "systolic               0.058642\n",
       "relaxation             0.109501\n",
       "fasting blood sugar    0.096534\n",
       "Cholesterol           -0.051896\n",
       "triglyceride           0.331975\n",
       "HDL                   -0.271186\n",
       "LDL                   -0.072285\n",
       "hemoglobin             0.450679\n",
       "Urine protein         -0.028548\n",
       "serum creatinine       0.272979\n",
       "AST                    0.059394\n",
       "ALT                    0.163016\n",
       "Gtp                    0.305561\n",
       "dental caries          0.106636\n",
       "smoking                1.000000\n",
       "Name: smoking, dtype: float64"
      ]
     },
     "execution_count": 13,
     "metadata": {},
     "output_type": "execute_result"
    }
   ],
   "source": [
    "oly_train.drop('id',axis=1).corr()['smoking']"
   ]
  },
  {
   "cell_type": "code",
   "execution_count": 14,
   "id": "b791a7fb",
   "metadata": {
    "execution": {
     "iopub.execute_input": "2024-02-10T17:36:08.036257Z",
     "iopub.status.busy": "2024-02-10T17:36:08.035298Z",
     "iopub.status.idle": "2024-02-10T17:36:08.105829Z",
     "shell.execute_reply": "2024-02-10T17:36:08.104717Z"
    },
    "papermill": {
     "duration": 0.087222,
     "end_time": "2024-02-10T17:36:08.108328",
     "exception": false,
     "start_time": "2024-02-10T17:36:08.021106",
     "status": "completed"
    },
    "tags": []
   },
   "outputs": [
    {
     "data": {
      "text/plain": [
       "age                   -0.166268\n",
       "height(cm)             0.394314\n",
       "weight(kg)             0.299347\n",
       "waist(cm)              0.223359\n",
       "eyesight(left)         0.059409\n",
       "eyesight(right)        0.064587\n",
       "hearing(left)         -0.022077\n",
       "hearing(right)        -0.018990\n",
       "systolic               0.070176\n",
       "relaxation             0.103663\n",
       "fasting blood sugar    0.099908\n",
       "Cholesterol           -0.027493\n",
       "triglyceride           0.251057\n",
       "HDL                   -0.179509\n",
       "LDL                   -0.041627\n",
       "hemoglobin             0.401206\n",
       "Urine protein          0.013653\n",
       "serum creatinine       0.212473\n",
       "AST                    0.062834\n",
       "ALT                    0.098615\n",
       "Gtp                    0.240274\n",
       "dental caries          0.107601\n",
       "smoking                1.000000\n",
       "Name: smoking, dtype: float64"
      ]
     },
     "execution_count": 14,
     "metadata": {},
     "output_type": "execute_result"
    }
   ],
   "source": [
    "ori_train.corr()['smoking']"
   ]
  },
  {
   "cell_type": "code",
   "execution_count": 15,
   "id": "85716a47",
   "metadata": {
    "execution": {
     "iopub.execute_input": "2024-02-10T17:36:08.137013Z",
     "iopub.status.busy": "2024-02-10T17:36:08.136582Z",
     "iopub.status.idle": "2024-02-10T17:36:08.147445Z",
     "shell.execute_reply": "2024-02-10T17:36:08.146495Z"
    },
    "papermill": {
     "duration": 0.028286,
     "end_time": "2024-02-10T17:36:08.149924",
     "exception": false,
     "start_time": "2024-02-10T17:36:08.121638",
     "status": "completed"
    },
    "tags": []
   },
   "outputs": [],
   "source": [
    "X, y = oly_train.drop(['smoking','id'],axis=1),oly_train['smoking']"
   ]
  },
  {
   "cell_type": "code",
   "execution_count": 16,
   "id": "1e15df68",
   "metadata": {
    "execution": {
     "iopub.execute_input": "2024-02-10T17:36:08.179484Z",
     "iopub.status.busy": "2024-02-10T17:36:08.178324Z",
     "iopub.status.idle": "2024-02-10T17:36:08.184209Z",
     "shell.execute_reply": "2024-02-10T17:36:08.183259Z"
    },
    "papermill": {
     "duration": 0.023009,
     "end_time": "2024-02-10T17:36:08.186613",
     "exception": false,
     "start_time": "2024-02-10T17:36:08.163604",
     "status": "completed"
    },
    "tags": []
   },
   "outputs": [],
   "source": [
    "# def objective(trial):\n",
    "#     #X_train, y_train, X_val, y_val = train_test_split(X,y,test_size=0.2,random_state = 42)\n",
    "#     max_depth = trial.suggest_int(\"xgb_max_depth\", 2, 512, log=True)\n",
    "#     reg_alpha = trial.suggest_float(\"xgb_reg_alpha\", 0.001, 0.2)\n",
    "#     reg_lambda = trial.suggest_float(\"xgb_reg_lambda\", 0.001, 0.2)\n",
    "#     subsample = trial.suggest_float(\"xgb_subsample\", 0.1, 1.0)\n",
    "#     eta = trial.suggest_float(\"xgb_eta\", 0.001, 0.3)\n",
    "#     gamma = trial.suggest_float(\"xgb_gamma\", 0.001, 0.1)\n",
    "#     n_estimators = trial.suggest_int(\"xgb_n_estimators\",100,1000)\n",
    "    \n",
    "#     xgbc = xgb.XGBClassifier( n_jobs=-1, max_depth = max_depth,device = 'cuda', eta = eta, reg_alpha = reg_alpha, reg_lambda = reg_lambda,subsample = subsample,eval_metric=roc_auc_score, verbosity=0 )\n",
    "#     score = cross_val_score(estimator=xgbc, X=X, y=y,  cv=3,n_jobs = -1,verbose = 2).mean()\n",
    "#     return score"
   ]
  },
  {
   "cell_type": "code",
   "execution_count": 17,
   "id": "a0737e02",
   "metadata": {
    "execution": {
     "iopub.execute_input": "2024-02-10T17:36:08.216724Z",
     "iopub.status.busy": "2024-02-10T17:36:08.215648Z",
     "iopub.status.idle": "2024-02-10T17:36:08.220682Z",
     "shell.execute_reply": "2024-02-10T17:36:08.219560Z"
    },
    "papermill": {
     "duration": 0.022332,
     "end_time": "2024-02-10T17:36:08.222975",
     "exception": false,
     "start_time": "2024-02-10T17:36:08.200643",
     "status": "completed"
    },
    "tags": []
   },
   "outputs": [],
   "source": [
    "# study = optuna.create_study(direction = \"maximize\")\n",
    "# study.optimize(objective, n_trials = 500)\n",
    "# trial = study.best_trial\n",
    "# print(\"Best Score: \", trial.value)\n",
    "# print(\"Best Params: \")\n",
    "# for key, value in trial.params.items():\n",
    "#     print(\"  {}: {}\".format(key, value))"
   ]
  },
  {
   "cell_type": "code",
   "execution_count": 18,
   "id": "e5c85d23",
   "metadata": {
    "execution": {
     "iopub.execute_input": "2024-02-10T17:36:08.253399Z",
     "iopub.status.busy": "2024-02-10T17:36:08.252448Z",
     "iopub.status.idle": "2024-02-10T17:36:08.293103Z",
     "shell.execute_reply": "2024-02-10T17:36:08.292100Z"
    },
    "papermill": {
     "duration": 0.059217,
     "end_time": "2024-02-10T17:36:08.296076",
     "exception": false,
     "start_time": "2024-02-10T17:36:08.236859",
     "status": "completed"
    },
    "tags": []
   },
   "outputs": [],
   "source": [
    "X_train, X_val, y_train, y_val = train_test_split(X,y,test_size=0.2,random_state = 42)"
   ]
  },
  {
   "cell_type": "code",
   "execution_count": 19,
   "id": "709bf699",
   "metadata": {
    "execution": {
     "iopub.execute_input": "2024-02-10T17:36:08.327362Z",
     "iopub.status.busy": "2024-02-10T17:36:08.326857Z",
     "iopub.status.idle": "2024-02-10T17:36:08.333438Z",
     "shell.execute_reply": "2024-02-10T17:36:08.332406Z"
    },
    "papermill": {
     "duration": 0.024395,
     "end_time": "2024-02-10T17:36:08.335732",
     "exception": false,
     "start_time": "2024-02-10T17:36:08.311337",
     "status": "completed"
    },
    "tags": []
   },
   "outputs": [
    {
     "data": {
      "text/plain": [
       "31852"
      ]
     },
     "execution_count": 19,
     "metadata": {},
     "output_type": "execute_result"
    }
   ],
   "source": [
    "len(y_val)"
   ]
  },
  {
   "cell_type": "code",
   "execution_count": 20,
   "id": "0eca4eab",
   "metadata": {
    "execution": {
     "iopub.execute_input": "2024-02-10T17:36:08.365982Z",
     "iopub.status.busy": "2024-02-10T17:36:08.364890Z",
     "iopub.status.idle": "2024-02-10T17:36:08.372137Z",
     "shell.execute_reply": "2024-02-10T17:36:08.371203Z"
    },
    "papermill": {
     "duration": 0.024787,
     "end_time": "2024-02-10T17:36:08.374579",
     "exception": false,
     "start_time": "2024-02-10T17:36:08.349792",
     "status": "completed"
    },
    "tags": []
   },
   "outputs": [],
   "source": [
    "max_depth = 6\n",
    "reg_alpha = 0.03178027565100258\n",
    "reg_lambda = 0.17773911707297346\n",
    "subsample = 0.9726738221620005\n",
    "eta = 0.16058778523232964\n",
    "gamma = 0.09525201444434678\n",
    "n_estimators = 600\n",
    "\n",
    "xgbc = xgb.XGBClassifier( n_jobs=-1, max_depth = max_depth,device = 'cuda', eta = eta, reg_alpha = reg_alpha, \n",
    "                         reg_lambda = reg_lambda,subsample = subsample, colsample_bytree=0.4 ,num_parallel_tree=500, eval_metric=roc_auc_score, verbosity=0 )"
   ]
  },
  {
   "cell_type": "code",
   "execution_count": 21,
   "id": "5d490430",
   "metadata": {
    "execution": {
     "iopub.execute_input": "2024-02-10T17:36:08.405256Z",
     "iopub.status.busy": "2024-02-10T17:36:08.404319Z",
     "iopub.status.idle": "2024-02-10T17:38:12.660544Z",
     "shell.execute_reply": "2024-02-10T17:38:12.659251Z"
    },
    "papermill": {
     "duration": 124.288016,
     "end_time": "2024-02-10T17:38:12.676749",
     "exception": false,
     "start_time": "2024-02-10T17:36:08.388733",
     "status": "completed"
    },
    "tags": []
   },
   "outputs": [
    {
     "data": {
      "text/html": [
       "<style>#sk-container-id-1 {color: black;background-color: white;}#sk-container-id-1 pre{padding: 0;}#sk-container-id-1 div.sk-toggleable {background-color: white;}#sk-container-id-1 label.sk-toggleable__label {cursor: pointer;display: block;width: 100%;margin-bottom: 0;padding: 0.3em;box-sizing: border-box;text-align: center;}#sk-container-id-1 label.sk-toggleable__label-arrow:before {content: \"▸\";float: left;margin-right: 0.25em;color: #696969;}#sk-container-id-1 label.sk-toggleable__label-arrow:hover:before {color: black;}#sk-container-id-1 div.sk-estimator:hover label.sk-toggleable__label-arrow:before {color: black;}#sk-container-id-1 div.sk-toggleable__content {max-height: 0;max-width: 0;overflow: hidden;text-align: left;background-color: #f0f8ff;}#sk-container-id-1 div.sk-toggleable__content pre {margin: 0.2em;color: black;border-radius: 0.25em;background-color: #f0f8ff;}#sk-container-id-1 input.sk-toggleable__control:checked~div.sk-toggleable__content {max-height: 200px;max-width: 100%;overflow: auto;}#sk-container-id-1 input.sk-toggleable__control:checked~label.sk-toggleable__label-arrow:before {content: \"▾\";}#sk-container-id-1 div.sk-estimator input.sk-toggleable__control:checked~label.sk-toggleable__label {background-color: #d4ebff;}#sk-container-id-1 div.sk-label input.sk-toggleable__control:checked~label.sk-toggleable__label {background-color: #d4ebff;}#sk-container-id-1 input.sk-hidden--visually {border: 0;clip: rect(1px 1px 1px 1px);clip: rect(1px, 1px, 1px, 1px);height: 1px;margin: -1px;overflow: hidden;padding: 0;position: absolute;width: 1px;}#sk-container-id-1 div.sk-estimator {font-family: monospace;background-color: #f0f8ff;border: 1px dotted black;border-radius: 0.25em;box-sizing: border-box;margin-bottom: 0.5em;}#sk-container-id-1 div.sk-estimator:hover {background-color: #d4ebff;}#sk-container-id-1 div.sk-parallel-item::after {content: \"\";width: 100%;border-bottom: 1px solid gray;flex-grow: 1;}#sk-container-id-1 div.sk-label:hover label.sk-toggleable__label {background-color: #d4ebff;}#sk-container-id-1 div.sk-serial::before {content: \"\";position: absolute;border-left: 1px solid gray;box-sizing: border-box;top: 0;bottom: 0;left: 50%;z-index: 0;}#sk-container-id-1 div.sk-serial {display: flex;flex-direction: column;align-items: center;background-color: white;padding-right: 0.2em;padding-left: 0.2em;position: relative;}#sk-container-id-1 div.sk-item {position: relative;z-index: 1;}#sk-container-id-1 div.sk-parallel {display: flex;align-items: stretch;justify-content: center;background-color: white;position: relative;}#sk-container-id-1 div.sk-item::before, #sk-container-id-1 div.sk-parallel-item::before {content: \"\";position: absolute;border-left: 1px solid gray;box-sizing: border-box;top: 0;bottom: 0;left: 50%;z-index: -1;}#sk-container-id-1 div.sk-parallel-item {display: flex;flex-direction: column;z-index: 1;position: relative;background-color: white;}#sk-container-id-1 div.sk-parallel-item:first-child::after {align-self: flex-end;width: 50%;}#sk-container-id-1 div.sk-parallel-item:last-child::after {align-self: flex-start;width: 50%;}#sk-container-id-1 div.sk-parallel-item:only-child::after {width: 0;}#sk-container-id-1 div.sk-dashed-wrapped {border: 1px dashed gray;margin: 0 0.4em 0.5em 0.4em;box-sizing: border-box;padding-bottom: 0.4em;background-color: white;}#sk-container-id-1 div.sk-label label {font-family: monospace;font-weight: bold;display: inline-block;line-height: 1.2em;}#sk-container-id-1 div.sk-label-container {text-align: center;}#sk-container-id-1 div.sk-container {/* jupyter's `normalize.less` sets `[hidden] { display: none; }` but bootstrap.min.css set `[hidden] { display: none !important; }` so we also need the `!important` here to be able to override the default hidden behavior on the sphinx rendered scikit-learn.org. See: https://github.com/scikit-learn/scikit-learn/issues/21755 */display: inline-block !important;position: relative;}#sk-container-id-1 div.sk-text-repr-fallback {display: none;}</style><div id=\"sk-container-id-1\" class=\"sk-top-container\"><div class=\"sk-text-repr-fallback\"><pre>XGBClassifier(base_score=None, booster=None, callbacks=None,\n",
       "              colsample_bylevel=None, colsample_bynode=None,\n",
       "              colsample_bytree=0.4, device=&#x27;cuda&#x27;, early_stopping_rounds=None,\n",
       "              enable_categorical=False, eta=0.16058778523232964,\n",
       "              eval_metric=&lt;function roc_auc_score at 0x7e6064a2ac20&gt;,\n",
       "              feature_types=None, gamma=None, grow_policy=None,\n",
       "              importance_type=None, interaction_constraints=None,\n",
       "              learning_rate=None, max_bin=None, max_cat_threshold=None,\n",
       "              max_cat_to_onehot=None, max_delta_step=None, max_depth=6,\n",
       "              max_leaves=None, min_child_weight=None, missing=nan,\n",
       "              monotone_constraints=None, multi_strategy=None, n_estimators=None,\n",
       "              n_jobs=-1, num_parallel_tree=500, ...)</pre><b>In a Jupyter environment, please rerun this cell to show the HTML representation or trust the notebook. <br />On GitHub, the HTML representation is unable to render, please try loading this page with nbviewer.org.</b></div><div class=\"sk-container\" hidden><div class=\"sk-item\"><div class=\"sk-estimator sk-toggleable\"><input class=\"sk-toggleable__control sk-hidden--visually\" id=\"sk-estimator-id-1\" type=\"checkbox\" checked><label for=\"sk-estimator-id-1\" class=\"sk-toggleable__label sk-toggleable__label-arrow\">XGBClassifier</label><div class=\"sk-toggleable__content\"><pre>XGBClassifier(base_score=None, booster=None, callbacks=None,\n",
       "              colsample_bylevel=None, colsample_bynode=None,\n",
       "              colsample_bytree=0.4, device=&#x27;cuda&#x27;, early_stopping_rounds=None,\n",
       "              enable_categorical=False, eta=0.16058778523232964,\n",
       "              eval_metric=&lt;function roc_auc_score at 0x7e6064a2ac20&gt;,\n",
       "              feature_types=None, gamma=None, grow_policy=None,\n",
       "              importance_type=None, interaction_constraints=None,\n",
       "              learning_rate=None, max_bin=None, max_cat_threshold=None,\n",
       "              max_cat_to_onehot=None, max_delta_step=None, max_depth=6,\n",
       "              max_leaves=None, min_child_weight=None, missing=nan,\n",
       "              monotone_constraints=None, multi_strategy=None, n_estimators=None,\n",
       "              n_jobs=-1, num_parallel_tree=500, ...)</pre></div></div></div></div></div>"
      ],
      "text/plain": [
       "XGBClassifier(base_score=None, booster=None, callbacks=None,\n",
       "              colsample_bylevel=None, colsample_bynode=None,\n",
       "              colsample_bytree=0.4, device='cuda', early_stopping_rounds=None,\n",
       "              enable_categorical=False, eta=0.16058778523232964,\n",
       "              eval_metric=<function roc_auc_score at 0x7e6064a2ac20>,\n",
       "              feature_types=None, gamma=None, grow_policy=None,\n",
       "              importance_type=None, interaction_constraints=None,\n",
       "              learning_rate=None, max_bin=None, max_cat_threshold=None,\n",
       "              max_cat_to_onehot=None, max_delta_step=None, max_depth=6,\n",
       "              max_leaves=None, min_child_weight=None, missing=nan,\n",
       "              monotone_constraints=None, multi_strategy=None, n_estimators=None,\n",
       "              n_jobs=-1, num_parallel_tree=500, ...)"
      ]
     },
     "execution_count": 21,
     "metadata": {},
     "output_type": "execute_result"
    }
   ],
   "source": [
    "xgbc.fit(X_train,y_train)"
   ]
  },
  {
   "cell_type": "code",
   "execution_count": 22,
   "id": "9924e631",
   "metadata": {
    "execution": {
     "iopub.execute_input": "2024-02-10T17:38:12.706047Z",
     "iopub.status.busy": "2024-02-10T17:38:12.705682Z",
     "iopub.status.idle": "2024-02-10T17:38:13.422026Z",
     "shell.execute_reply": "2024-02-10T17:38:13.420795Z"
    },
    "papermill": {
     "duration": 0.734237,
     "end_time": "2024-02-10T17:38:13.424806",
     "exception": false,
     "start_time": "2024-02-10T17:38:12.690569",
     "status": "completed"
    },
    "tags": []
   },
   "outputs": [
    {
     "data": {
      "text/plain": [
       "0.784059404411849"
      ]
     },
     "execution_count": 22,
     "metadata": {},
     "output_type": "execute_result"
    }
   ],
   "source": [
    "roc_auc_score(y_val,xgbc.predict(X_val))"
   ]
  },
  {
   "cell_type": "code",
   "execution_count": 23,
   "id": "e60643d6",
   "metadata": {
    "execution": {
     "iopub.execute_input": "2024-02-10T17:38:13.455295Z",
     "iopub.status.busy": "2024-02-10T17:38:13.454878Z",
     "iopub.status.idle": "2024-02-10T17:38:13.812494Z",
     "shell.execute_reply": "2024-02-10T17:38:13.811469Z"
    },
    "papermill": {
     "duration": 0.375723,
     "end_time": "2024-02-10T17:38:13.815126",
     "exception": false,
     "start_time": "2024-02-10T17:38:13.439403",
     "status": "completed"
    },
    "tags": []
   },
   "outputs": [],
   "source": [
    "test = pd.read_csv(\"/kaggle/input/ml-olympiad-smoking/test.csv\")"
   ]
  },
  {
   "cell_type": "code",
   "execution_count": 24,
   "id": "dc6fdbb2",
   "metadata": {
    "execution": {
     "iopub.execute_input": "2024-02-10T17:38:13.846040Z",
     "iopub.status.busy": "2024-02-10T17:38:13.845643Z",
     "iopub.status.idle": "2024-02-10T17:38:15.286900Z",
     "shell.execute_reply": "2024-02-10T17:38:15.285728Z"
    },
    "papermill": {
     "duration": 1.459702,
     "end_time": "2024-02-10T17:38:15.289656",
     "exception": false,
     "start_time": "2024-02-10T17:38:13.829954",
     "status": "completed"
    },
    "tags": []
   },
   "outputs": [],
   "source": [
    "smoking = xgbc.predict_proba(test.drop('id',axis=1))[:,1]"
   ]
  },
  {
   "cell_type": "code",
   "execution_count": 25,
   "id": "e03351f0",
   "metadata": {
    "execution": {
     "iopub.execute_input": "2024-02-10T17:38:15.322800Z",
     "iopub.status.busy": "2024-02-10T17:38:15.321364Z",
     "iopub.status.idle": "2024-02-10T17:38:15.345953Z",
     "shell.execute_reply": "2024-02-10T17:38:15.344511Z"
    },
    "papermill": {
     "duration": 0.043941,
     "end_time": "2024-02-10T17:38:15.348790",
     "exception": false,
     "start_time": "2024-02-10T17:38:15.304849",
     "status": "completed"
    },
    "tags": []
   },
   "outputs": [
    {
     "data": {
      "text/html": [
       "<div>\n",
       "<style scoped>\n",
       "    .dataframe tbody tr th:only-of-type {\n",
       "        vertical-align: middle;\n",
       "    }\n",
       "\n",
       "    .dataframe tbody tr th {\n",
       "        vertical-align: top;\n",
       "    }\n",
       "\n",
       "    .dataframe thead th {\n",
       "        text-align: right;\n",
       "    }\n",
       "</style>\n",
       "<table border=\"1\" class=\"dataframe\">\n",
       "  <thead>\n",
       "    <tr style=\"text-align: right;\">\n",
       "      <th></th>\n",
       "      <th>smoking</th>\n",
       "    </tr>\n",
       "    <tr>\n",
       "      <th>id</th>\n",
       "      <th></th>\n",
       "    </tr>\n",
       "  </thead>\n",
       "  <tbody>\n",
       "    <tr>\n",
       "      <th>159256</th>\n",
       "      <td>0.636277</td>\n",
       "    </tr>\n",
       "    <tr>\n",
       "      <th>159257</th>\n",
       "      <td>0.195193</td>\n",
       "    </tr>\n",
       "    <tr>\n",
       "      <th>159258</th>\n",
       "      <td>0.471378</td>\n",
       "    </tr>\n",
       "    <tr>\n",
       "      <th>159259</th>\n",
       "      <td>0.015161</td>\n",
       "    </tr>\n",
       "    <tr>\n",
       "      <th>159260</th>\n",
       "      <td>0.529918</td>\n",
       "    </tr>\n",
       "    <tr>\n",
       "      <th>...</th>\n",
       "      <td>...</td>\n",
       "    </tr>\n",
       "    <tr>\n",
       "      <th>265422</th>\n",
       "      <td>0.592206</td>\n",
       "    </tr>\n",
       "    <tr>\n",
       "      <th>265423</th>\n",
       "      <td>0.601863</td>\n",
       "    </tr>\n",
       "    <tr>\n",
       "      <th>265424</th>\n",
       "      <td>0.428177</td>\n",
       "    </tr>\n",
       "    <tr>\n",
       "      <th>265425</th>\n",
       "      <td>0.112604</td>\n",
       "    </tr>\n",
       "    <tr>\n",
       "      <th>265426</th>\n",
       "      <td>0.019973</td>\n",
       "    </tr>\n",
       "  </tbody>\n",
       "</table>\n",
       "<p>106171 rows × 1 columns</p>\n",
       "</div>"
      ],
      "text/plain": [
       "         smoking\n",
       "id              \n",
       "159256  0.636277\n",
       "159257  0.195193\n",
       "159258  0.471378\n",
       "159259  0.015161\n",
       "159260  0.529918\n",
       "...          ...\n",
       "265422  0.592206\n",
       "265423  0.601863\n",
       "265424  0.428177\n",
       "265425  0.112604\n",
       "265426  0.019973\n",
       "\n",
       "[106171 rows x 1 columns]"
      ]
     },
     "execution_count": 25,
     "metadata": {},
     "output_type": "execute_result"
    }
   ],
   "source": [
    "submission=pd.DataFrame()\n",
    "submission['smoking']=smoking\n",
    "submission['id'] = test['id']\n",
    "submission=submission.set_index('id')\n",
    "submission"
   ]
  },
  {
   "cell_type": "code",
   "execution_count": 26,
   "id": "628cb0b5",
   "metadata": {
    "execution": {
     "iopub.execute_input": "2024-02-10T17:38:15.384366Z",
     "iopub.status.busy": "2024-02-10T17:38:15.383853Z",
     "iopub.status.idle": "2024-02-10T17:38:15.673877Z",
     "shell.execute_reply": "2024-02-10T17:38:15.672800Z"
    },
    "papermill": {
     "duration": 0.313281,
     "end_time": "2024-02-10T17:38:15.677105",
     "exception": false,
     "start_time": "2024-02-10T17:38:15.363824",
     "status": "completed"
    },
    "tags": []
   },
   "outputs": [],
   "source": [
    "submission.to_csv(\"submission.csv\",index='id')"
   ]
  },
  {
   "cell_type": "code",
   "execution_count": null,
   "id": "3ea29ff7",
   "metadata": {
    "papermill": {
     "duration": 0.015279,
     "end_time": "2024-02-10T17:38:15.711059",
     "exception": false,
     "start_time": "2024-02-10T17:38:15.695780",
     "status": "completed"
    },
    "tags": []
   },
   "outputs": [],
   "source": []
  }
 ],
 "metadata": {
  "kaggle": {
   "accelerator": "gpu",
   "dataSources": [
    {
     "databundleVersionId": 7669326,
     "sourceId": 70052,
     "sourceType": "competition"
    },
    {
     "datasetId": 2367101,
     "sourceId": 3989074,
     "sourceType": "datasetVersion"
    }
   ],
   "dockerImageVersionId": 30646,
   "isGpuEnabled": true,
   "isInternetEnabled": true,
   "language": "python",
   "sourceType": "notebook"
  },
  "kernelspec": {
   "display_name": "Python 3",
   "language": "python",
   "name": "python3"
  },
  "language_info": {
   "codemirror_mode": {
    "name": "ipython",
    "version": 3
   },
   "file_extension": ".py",
   "mimetype": "text/x-python",
   "name": "python",
   "nbconvert_exporter": "python",
   "pygments_lexer": "ipython3",
   "version": "3.10.13"
  },
  "papermill": {
   "default_parameters": {},
   "duration": 140.793247,
   "end_time": "2024-02-10T17:38:16.749366",
   "environment_variables": {},
   "exception": null,
   "input_path": "__notebook__.ipynb",
   "output_path": "__notebook__.ipynb",
   "parameters": {},
   "start_time": "2024-02-10T17:35:55.956119",
   "version": "2.5.0"
  }
 },
 "nbformat": 4,
 "nbformat_minor": 5
}
