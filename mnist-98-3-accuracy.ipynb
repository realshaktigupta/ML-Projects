{
 "cells": [
  {
   "cell_type": "code",
   "execution_count": 1,
   "id": "d838b547",
   "metadata": {
    "_cell_guid": "b1076dfc-b9ad-4769-8c92-a6c4dae69d19",
    "_uuid": "8f2839f25d086af736a60e9eeb907d3b93b6e0e5",
    "execution": {
     "iopub.execute_input": "2023-06-10T07:18:43.389525Z",
     "iopub.status.busy": "2023-06-10T07:18:43.388913Z",
     "iopub.status.idle": "2023-06-10T07:18:43.401758Z",
     "shell.execute_reply": "2023-06-10T07:18:43.400655Z"
    },
    "papermill": {
     "duration": 0.024745,
     "end_time": "2023-06-10T07:18:43.404465",
     "exception": false,
     "start_time": "2023-06-10T07:18:43.379720",
     "status": "completed"
    },
    "tags": []
   },
   "outputs": [],
   "source": [
    "# This Python 3 environment comes with many helpful analytics libraries installed\n",
    "# It is defined by the kaggle/python Docker image: https://github.com/kaggle/docker-python\n",
    "# For example, here's several helpful packages to load\n",
    "\n",
    "import numpy as np # linear algebra\n",
    "import pandas as pd # data processing, CSV file I/O (e.g. pd.read_csv)\n",
    "\n",
    "# Input data files are available in the read-only \"../input/\" directory\n",
    "# For example, running this (by clicking run or pressing Shift+Enter) will list all files under the input directory\n",
    "\n",
    "import os\n",
    "for dirname, _, filenames in os.walk('/kaggle/input'):\n",
    "    for filename in filenames:\n",
    "        print(os.path.join(dirname, filename))\n",
    "\n",
    "# You can write up to 20GB to the current directory (/kaggle/working/) that gets preserved as output when you create a version using \"Save & Run All\" \n",
    "# You can also write temporary files to /kaggle/temp/, but they won't be saved outside of the current session"
   ]
  },
  {
   "cell_type": "code",
   "execution_count": 2,
   "id": "69287723",
   "metadata": {
    "execution": {
     "iopub.execute_input": "2023-06-10T07:18:43.420607Z",
     "iopub.status.busy": "2023-06-10T07:18:43.420217Z",
     "iopub.status.idle": "2023-06-10T07:18:43.424802Z",
     "shell.execute_reply": "2023-06-10T07:18:43.423796Z"
    },
    "papermill": {
     "duration": 0.015322,
     "end_time": "2023-06-10T07:18:43.427101",
     "exception": false,
     "start_time": "2023-06-10T07:18:43.411779",
     "status": "completed"
    },
    "tags": []
   },
   "outputs": [],
   "source": [
    "import matplotlib.pyplot as plt"
   ]
  },
  {
   "cell_type": "code",
   "execution_count": 3,
   "id": "9579fe94",
   "metadata": {
    "execution": {
     "iopub.execute_input": "2023-06-10T07:18:43.444328Z",
     "iopub.status.busy": "2023-06-10T07:18:43.443104Z",
     "iopub.status.idle": "2023-06-10T07:18:52.815462Z",
     "shell.execute_reply": "2023-06-10T07:18:52.814178Z"
    },
    "papermill": {
     "duration": 9.383768,
     "end_time": "2023-06-10T07:18:52.818320",
     "exception": false,
     "start_time": "2023-06-10T07:18:43.434552",
     "status": "completed"
    },
    "tags": []
   },
   "outputs": [
    {
     "name": "stderr",
     "output_type": "stream",
     "text": [
      "/opt/conda/lib/python3.10/site-packages/tensorflow_io/python/ops/__init__.py:98: UserWarning: unable to load libtensorflow_io_plugins.so: unable to open file: libtensorflow_io_plugins.so, from paths: ['/opt/conda/lib/python3.10/site-packages/tensorflow_io/python/ops/libtensorflow_io_plugins.so']\n",
      "caused by: ['/opt/conda/lib/python3.10/site-packages/tensorflow_io/python/ops/libtensorflow_io_plugins.so: undefined symbol: _ZN3tsl6StatusC1EN10tensorflow5error4CodeESt17basic_string_viewIcSt11char_traitsIcEENS_14SourceLocationE']\n",
      "  warnings.warn(f\"unable to load libtensorflow_io_plugins.so: {e}\")\n",
      "/opt/conda/lib/python3.10/site-packages/tensorflow_io/python/ops/__init__.py:104: UserWarning: file system plugins are not loaded: unable to open file: libtensorflow_io.so, from paths: ['/opt/conda/lib/python3.10/site-packages/tensorflow_io/python/ops/libtensorflow_io.so']\n",
      "caused by: ['/opt/conda/lib/python3.10/site-packages/tensorflow_io/python/ops/libtensorflow_io.so: undefined symbol: _ZTVN10tensorflow13GcsFileSystemE']\n",
      "  warnings.warn(f\"file system plugins are not loaded: {e}\")\n"
     ]
    }
   ],
   "source": [
    "import tensorflow as tf\n",
    "from tensorflow import keras"
   ]
  },
  {
   "cell_type": "code",
   "execution_count": 4,
   "id": "70ba5797",
   "metadata": {
    "execution": {
     "iopub.execute_input": "2023-06-10T07:18:52.835147Z",
     "iopub.status.busy": "2023-06-10T07:18:52.833921Z",
     "iopub.status.idle": "2023-06-10T07:18:54.616866Z",
     "shell.execute_reply": "2023-06-10T07:18:54.615585Z"
    },
    "papermill": {
     "duration": 1.794044,
     "end_time": "2023-06-10T07:18:54.619444",
     "exception": false,
     "start_time": "2023-06-10T07:18:52.825400",
     "status": "completed"
    },
    "tags": []
   },
   "outputs": [
    {
     "name": "stdout",
     "output_type": "stream",
     "text": [
      "Downloading data from https://storage.googleapis.com/tensorflow/tf-keras-datasets/mnist.npz\n",
      "11490434/11490434 [==============================] - 1s 0us/step\n"
     ]
    },
    {
     "data": {
      "text/plain": [
       "(60000, 28, 28)"
      ]
     },
     "execution_count": 4,
     "metadata": {},
     "output_type": "execute_result"
    }
   ],
   "source": [
    "(X_train_full, y_train_full), (X_test, y_test) = keras.datasets.mnist.load_data()\n",
    "X_train_full.shape"
   ]
  },
  {
   "cell_type": "code",
   "execution_count": 5,
   "id": "40d457b2",
   "metadata": {
    "execution": {
     "iopub.execute_input": "2023-06-10T07:18:54.641705Z",
     "iopub.status.busy": "2023-06-10T07:18:54.641265Z",
     "iopub.status.idle": "2023-06-10T07:18:54.648700Z",
     "shell.execute_reply": "2023-06-10T07:18:54.647512Z"
    },
    "papermill": {
     "duration": 0.022176,
     "end_time": "2023-06-10T07:18:54.651201",
     "exception": false,
     "start_time": "2023-06-10T07:18:54.629025",
     "status": "completed"
    },
    "tags": []
   },
   "outputs": [
    {
     "data": {
      "text/plain": [
       "(dtype('uint8'), dtype('uint8'))"
      ]
     },
     "execution_count": 5,
     "metadata": {},
     "output_type": "execute_result"
    }
   ],
   "source": [
    "X_train_full.dtype,y_train_full.dtype"
   ]
  },
  {
   "cell_type": "code",
   "execution_count": 6,
   "id": "81daaf17",
   "metadata": {
    "execution": {
     "iopub.execute_input": "2023-06-10T07:18:54.672112Z",
     "iopub.status.busy": "2023-06-10T07:18:54.671397Z",
     "iopub.status.idle": "2023-06-10T07:18:54.873941Z",
     "shell.execute_reply": "2023-06-10T07:18:54.872577Z"
    },
    "papermill": {
     "duration": 0.216247,
     "end_time": "2023-06-10T07:18:54.876679",
     "exception": false,
     "start_time": "2023-06-10T07:18:54.660432",
     "status": "completed"
    },
    "tags": []
   },
   "outputs": [],
   "source": [
    "X_valid, X_train = X_train_full[:5000] / 255.0, X_train_full[5000:] / 255.0\n",
    "y_valid, y_train = y_train_full[:5000], y_train_full[5000:]\n",
    "X_test = X_test / 255."
   ]
  },
  {
   "cell_type": "code",
   "execution_count": 7,
   "id": "6999fecd",
   "metadata": {
    "execution": {
     "iopub.execute_input": "2023-06-10T07:18:54.898038Z",
     "iopub.status.busy": "2023-06-10T07:18:54.897037Z",
     "iopub.status.idle": "2023-06-10T07:18:55.028711Z",
     "shell.execute_reply": "2023-06-10T07:18:55.027407Z"
    },
    "papermill": {
     "duration": 0.145367,
     "end_time": "2023-06-10T07:18:55.031466",
     "exception": false,
     "start_time": "2023-06-10T07:18:54.886099",
     "status": "completed"
    },
    "tags": []
   },
   "outputs": [
    {
     "data": {
      "image/png": "[encoded data removed]",
      "text/plain": [
       "<Figure size 640x480 with 1 Axes>"
      ]
     },
     "metadata": {},
     "output_type": "display_data"
    }
   ],
   "source": [
    "plt.imshow(X_train[0], cmap=\"binary\")\n",
    "plt.axis('off')\n",
    "plt.show()"
   ]
  },
  {
   "cell_type": "code",
   "execution_count": 8,
   "id": "8f3f973d",
   "metadata": {
    "execution": {
     "iopub.execute_input": "2023-06-10T07:18:55.053182Z",
     "iopub.status.busy": "2023-06-10T07:18:55.052333Z",
     "iopub.status.idle": "2023-06-10T07:18:55.060301Z",
     "shell.execute_reply": "2023-06-10T07:18:55.059184Z"
    },
    "papermill": {
     "duration": 0.021658,
     "end_time": "2023-06-10T07:18:55.062946",
     "exception": false,
     "start_time": "2023-06-10T07:18:55.041288",
     "status": "completed"
    },
    "tags": []
   },
   "outputs": [],
   "source": [
    "K = keras.backend\n",
    "\n",
    "class ExponentialLearningRate(keras.callbacks.Callback):\n",
    "    def __init__(self, factor):\n",
    "        self.factor = factor\n",
    "        self.rates = []\n",
    "        self.losses = []\n",
    "    def on_batch_end(self, batch, logs):\n",
    "        self.rates.append(K.get_value(self.model.optimizer.learning_rate))\n",
    "        self.losses.append(logs[\"loss\"])\n",
    "        K.set_value(self.model.optimizer.learning_rate, self.model.optimizer.learning_rate * self.factor)"
   ]
  },
  {
   "cell_type": "code",
   "execution_count": 9,
   "id": "b48b2f2c",
   "metadata": {
    "execution": {
     "iopub.execute_input": "2023-06-10T07:18:55.084290Z",
     "iopub.status.busy": "2023-06-10T07:18:55.083122Z",
     "iopub.status.idle": "2023-06-10T07:18:55.111833Z",
     "shell.execute_reply": "2023-06-10T07:18:55.110317Z"
    },
    "papermill": {
     "duration": 0.042673,
     "end_time": "2023-06-10T07:18:55.115002",
     "exception": false,
     "start_time": "2023-06-10T07:18:55.072329",
     "status": "completed"
    },
    "tags": []
   },
   "outputs": [],
   "source": [
    "keras.backend.clear_session()\n",
    "np.random.seed(42)\n",
    "tf.random.set_seed(42)"
   ]
  },
  {
   "cell_type": "code",
   "execution_count": 10,
   "id": "6839bd83",
   "metadata": {
    "execution": {
     "iopub.execute_input": "2023-06-10T07:18:55.137059Z",
     "iopub.status.busy": "2023-06-10T07:18:55.136380Z",
     "iopub.status.idle": "2023-06-10T07:18:55.333081Z",
     "shell.execute_reply": "2023-06-10T07:18:55.331760Z"
    },
    "papermill": {
     "duration": 0.210939,
     "end_time": "2023-06-10T07:18:55.335989",
     "exception": false,
     "start_time": "2023-06-10T07:18:55.125050",
     "status": "completed"
    },
    "tags": []
   },
   "outputs": [],
   "source": [
    "model = keras.models.Sequential([\n",
    "    keras.layers.Flatten(input_shape=[28, 28]),\n",
    "    keras.layers.Dense(300, activation=\"relu\"),\n",
    "    keras.layers.Dense(100, activation=\"relu\"),\n",
    "    keras.layers.Dense(10, activation=\"softmax\")\n",
    "])"
   ]
  },
  {
   "cell_type": "code",
   "execution_count": 11,
   "id": "b937fd4b",
   "metadata": {
    "execution": {
     "iopub.execute_input": "2023-06-10T07:18:55.356717Z",
     "iopub.status.busy": "2023-06-10T07:18:55.356271Z",
     "iopub.status.idle": "2023-06-10T07:18:55.378113Z",
     "shell.execute_reply": "2023-06-10T07:18:55.376786Z"
    },
    "papermill": {
     "duration": 0.035437,
     "end_time": "2023-06-10T07:18:55.380844",
     "exception": false,
     "start_time": "2023-06-10T07:18:55.345407",
     "status": "completed"
    },
    "tags": []
   },
   "outputs": [],
   "source": [
    "model.compile(loss=\"sparse_categorical_crossentropy\",\n",
    "              optimizer=keras.optimizers.SGD(learning_rate=1e-3),\n",
    "              metrics=[\"accuracy\"])\n",
    "expon_lr = ExponentialLearningRate(factor=1.005)"
   ]
  },
  {
   "cell_type": "code",
   "execution_count": 12,
   "id": "00600b61",
   "metadata": {
    "execution": {
     "iopub.execute_input": "2023-06-10T07:18:55.402112Z",
     "iopub.status.busy": "2023-06-10T07:18:55.401710Z",
     "iopub.status.idle": "2023-06-10T07:19:06.880466Z",
     "shell.execute_reply": "2023-06-10T07:19:06.879437Z"
    },
    "papermill": {
     "duration": 11.492635,
     "end_time": "2023-06-10T07:19:06.883223",
     "exception": false,
     "start_time": "2023-06-10T07:18:55.390588",
     "status": "completed"
    },
    "tags": []
   },
   "outputs": [
    {
     "name": "stdout",
     "output_type": "stream",
     "text": [
      "1719/1719 [==============================] - 10s 5ms/step - loss: nan - accuracy: 0.5833 - val_loss: nan - val_accuracy: 0.0958\n"
     ]
    }
   ],
   "source": [
    "history = model.fit(X_train, y_train, epochs=1,\n",
    "                    validation_data=(X_valid, y_valid),\n",
    "                    callbacks=[expon_lr])"
   ]
  },
  {
   "cell_type": "code",
   "execution_count": 13,
   "id": "21754a6a",
   "metadata": {
    "execution": {
     "iopub.execute_input": "2023-06-10T07:19:06.931735Z",
     "iopub.status.busy": "2023-06-10T07:19:06.931131Z",
     "iopub.status.idle": "2023-06-10T07:19:07.534070Z",
     "shell.execute_reply": "2023-06-10T07:19:07.532817Z"
    },
    "papermill": {
     "duration": 0.629658,
     "end_time": "2023-06-10T07:19:07.536610",
     "exception": false,
     "start_time": "2023-06-10T07:19:06.906952",
     "status": "completed"
    },
    "tags": []
   },
   "outputs": [
    {
     "data": {
      "text/plain": [
       "Text(0, 0.5, 'Loss')"
      ]
     },
     "execution_count": 13,
     "metadata": {},
     "output_type": "execute_result"
    },
    {
     "data": {
      "image/png": "[encoded data removed]",
      "text/plain": [
       "<Figure size 640x480 with 1 Axes>"
      ]
     },
     "metadata": {},
     "output_type": "display_data"
    }
   ],
   "source": [
    "plt.plot(expon_lr.rates, expon_lr.losses)\n",
    "plt.gca().set_xscale('log')\n",
    "plt.hlines(min(expon_lr.losses), min(expon_lr.rates), max(expon_lr.rates))\n",
    "plt.axis([min(expon_lr.rates), max(expon_lr.rates), 0, expon_lr.losses[0]])\n",
    "plt.grid()\n",
    "plt.xlabel(\"Learning rate\")\n",
    "plt.ylabel(\"Loss\")"
   ]
  },
  {
   "cell_type": "code",
   "execution_count": 14,
   "id": "5bad78d9",
   "metadata": {
    "execution": {
     "iopub.execute_input": "2023-06-10T07:19:07.585662Z",
     "iopub.status.busy": "2023-06-10T07:19:07.585204Z",
     "iopub.status.idle": "2023-06-10T07:19:07.598490Z",
     "shell.execute_reply": "2023-06-10T07:19:07.597361Z"
    },
    "papermill": {
     "duration": 0.041224,
     "end_time": "2023-06-10T07:19:07.601475",
     "exception": false,
     "start_time": "2023-06-10T07:19:07.560251",
     "status": "completed"
    },
    "tags": []
   },
   "outputs": [],
   "source": [
    "keras.backend.clear_session()\n",
    "np.random.seed(42)\n",
    "tf.random.set_seed(42)"
   ]
  },
  {
   "cell_type": "code",
   "execution_count": 15,
   "id": "3c2aed5f",
   "metadata": {
    "execution": {
     "iopub.execute_input": "2023-06-10T07:19:07.651372Z",
     "iopub.status.busy": "2023-06-10T07:19:07.650262Z",
     "iopub.status.idle": "2023-06-10T07:19:07.728013Z",
     "shell.execute_reply": "2023-06-10T07:19:07.726910Z"
    },
    "papermill": {
     "duration": 0.105194,
     "end_time": "2023-06-10T07:19:07.730776",
     "exception": false,
     "start_time": "2023-06-10T07:19:07.625582",
     "status": "completed"
    },
    "tags": []
   },
   "outputs": [],
   "source": [
    "model = keras.models.Sequential([\n",
    "    keras.layers.Flatten(input_shape=[28, 28]),\n",
    "    keras.layers.Dense(300, activation=\"relu\"),\n",
    "    keras.layers.Dense(100, activation=\"relu\"),\n",
    "    keras.layers.Dense(10, activation=\"softmax\")\n",
    "])"
   ]
  },
  {
   "cell_type": "code",
   "execution_count": 16,
   "id": "0d3dae4f",
   "metadata": {
    "execution": {
     "iopub.execute_input": "2023-06-10T07:19:07.779655Z",
     "iopub.status.busy": "2023-06-10T07:19:07.778622Z",
     "iopub.status.idle": "2023-06-10T07:19:07.794664Z",
     "shell.execute_reply": "2023-06-10T07:19:07.793702Z"
    },
    "papermill": {
     "duration": 0.043407,
     "end_time": "2023-06-10T07:19:07.797382",
     "exception": false,
     "start_time": "2023-06-10T07:19:07.753975",
     "status": "completed"
    },
    "tags": []
   },
   "outputs": [],
   "source": [
    "model.compile(loss=\"sparse_categorical_crossentropy\",\n",
    "              optimizer=keras.optimizers.SGD(learning_rate=3e-1),\n",
    "              metrics=[\"accuracy\"])"
   ]
  },
  {
   "cell_type": "code",
   "execution_count": 17,
   "id": "8db09cd8",
   "metadata": {
    "execution": {
     "iopub.execute_input": "2023-06-10T07:19:07.845752Z",
     "iopub.status.busy": "2023-06-10T07:19:07.845297Z",
     "iopub.status.idle": "2023-06-10T07:19:07.853372Z",
     "shell.execute_reply": "2023-06-10T07:19:07.852080Z"
    },
    "papermill": {
     "duration": 0.035091,
     "end_time": "2023-06-10T07:19:07.855817",
     "exception": false,
     "start_time": "2023-06-10T07:19:07.820726",
     "status": "completed"
    },
    "tags": []
   },
   "outputs": [
    {
     "data": {
      "text/plain": [
       "'./my_mnist_logs/run_001'"
      ]
     },
     "execution_count": 17,
     "metadata": {},
     "output_type": "execute_result"
    }
   ],
   "source": [
    "run_index = 1 # increment this at every run\n",
    "run_logdir = os.path.join(os.curdir, \"my_mnist_logs\", \"run_{:03d}\".format(run_index))\n",
    "run_logdir"
   ]
  },
  {
   "cell_type": "code",
   "execution_count": 18,
   "id": "24de26d2",
   "metadata": {
    "execution": {
     "iopub.execute_input": "2023-06-10T07:19:07.906813Z",
     "iopub.status.busy": "2023-06-10T07:19:07.905428Z",
     "iopub.status.idle": "2023-06-10T07:22:17.023984Z",
     "shell.execute_reply": "2023-06-10T07:22:17.022320Z"
    },
    "papermill": {
     "duration": 189.147041,
     "end_time": "2023-06-10T07:22:17.026834",
     "exception": false,
     "start_time": "2023-06-10T07:19:07.879793",
     "status": "completed"
    },
    "tags": []
   },
   "outputs": [
    {
     "name": "stdout",
     "output_type": "stream",
     "text": [
      "Epoch 1/100\n",
      "1719/1719 [==============================] - 8s 4ms/step - loss: 0.2318 - accuracy: 0.9281 - val_loss: 0.1030 - val_accuracy: 0.9702\n",
      "Epoch 2/100\n",
      "1719/1719 [==============================] - 7s 4ms/step - loss: 0.0939 - accuracy: 0.9715 - val_loss: 0.1034 - val_accuracy: 0.9708\n",
      "Epoch 3/100\n",
      "1719/1719 [==============================] - 7s 4ms/step - loss: 0.0656 - accuracy: 0.9789 - val_loss: 0.0755 - val_accuracy: 0.9792\n",
      "Epoch 4/100\n",
      "1719/1719 [==============================] - 8s 4ms/step - loss: 0.0483 - accuracy: 0.9845 - val_loss: 0.0925 - val_accuracy: 0.9744\n",
      "Epoch 5/100\n",
      "1719/1719 [==============================] - 7s 4ms/step - loss: 0.0345 - accuracy: 0.9890 - val_loss: 0.0746 - val_accuracy: 0.9800\n",
      "Epoch 6/100\n",
      "1719/1719 [==============================] - 7s 4ms/step - loss: 0.0307 - accuracy: 0.9901 - val_loss: 0.0737 - val_accuracy: 0.9808\n",
      "Epoch 7/100\n",
      "1719/1719 [==============================] - 7s 4ms/step - loss: 0.0240 - accuracy: 0.9917 - val_loss: 0.0860 - val_accuracy: 0.9790\n",
      "Epoch 8/100\n",
      "1719/1719 [==============================] - 7s 4ms/step - loss: 0.0168 - accuracy: 0.9948 - val_loss: 0.0746 - val_accuracy: 0.9812\n",
      "Epoch 9/100\n",
      "1719/1719 [==============================] - 7s 4ms/step - loss: 0.0146 - accuracy: 0.9953 - val_loss: 0.0934 - val_accuracy: 0.9814\n",
      "Epoch 10/100\n",
      "1719/1719 [==============================] - 8s 4ms/step - loss: 0.0154 - accuracy: 0.9950 - val_loss: 0.0953 - val_accuracy: 0.9788\n",
      "Epoch 11/100\n",
      "1719/1719 [==============================] - 7s 4ms/step - loss: 0.0110 - accuracy: 0.9964 - val_loss: 0.0780 - val_accuracy: 0.9846\n",
      "Epoch 12/100\n",
      "1719/1719 [==============================] - 7s 4ms/step - loss: 0.0085 - accuracy: 0.9974 - val_loss: 0.0894 - val_accuracy: 0.9804\n",
      "Epoch 13/100\n",
      "1719/1719 [==============================] - 7s 4ms/step - loss: 0.0070 - accuracy: 0.9979 - val_loss: 0.0900 - val_accuracy: 0.9832\n",
      "Epoch 14/100\n",
      "1719/1719 [==============================] - 7s 4ms/step - loss: 0.0101 - accuracy: 0.9964 - val_loss: 0.1086 - val_accuracy: 0.9780\n",
      "Epoch 15/100\n",
      "1719/1719 [==============================] - 7s 4ms/step - loss: 0.0110 - accuracy: 0.9965 - val_loss: 0.0952 - val_accuracy: 0.9808\n",
      "Epoch 16/100\n",
      "1719/1719 [==============================] - 7s 4ms/step - loss: 0.0074 - accuracy: 0.9978 - val_loss: 0.0911 - val_accuracy: 0.9830\n",
      "Epoch 17/100\n",
      "1719/1719 [==============================] - 7s 4ms/step - loss: 0.0059 - accuracy: 0.9984 - val_loss: 0.0853 - val_accuracy: 0.9856\n",
      "Epoch 18/100\n",
      "1719/1719 [==============================] - 7s 4ms/step - loss: 0.0049 - accuracy: 0.9985 - val_loss: 0.1224 - val_accuracy: 0.9814\n",
      "Epoch 19/100\n",
      "1719/1719 [==============================] - 7s 4ms/step - loss: 0.0047 - accuracy: 0.9986 - val_loss: 0.1104 - val_accuracy: 0.9840\n",
      "Epoch 20/100\n",
      "1719/1719 [==============================] - 7s 4ms/step - loss: 0.0039 - accuracy: 0.9989 - val_loss: 0.0951 - val_accuracy: 0.9842\n",
      "Epoch 21/100\n",
      "1719/1719 [==============================] - 7s 4ms/step - loss: 0.0041 - accuracy: 0.9988 - val_loss: 0.1129 - val_accuracy: 0.9818\n",
      "Epoch 22/100\n",
      "1719/1719 [==============================] - 7s 4ms/step - loss: 0.0054 - accuracy: 0.9983 - val_loss: 0.1108 - val_accuracy: 0.9826\n",
      "Epoch 23/100\n",
      "1719/1719 [==============================] - 7s 4ms/step - loss: 0.0045 - accuracy: 0.9987 - val_loss: 0.0989 - val_accuracy: 0.9852\n",
      "Epoch 24/100\n",
      "1719/1719 [==============================] - 7s 4ms/step - loss: 7.0423e-04 - accuracy: 0.9998 - val_loss: 0.1056 - val_accuracy: 0.9848\n",
      "Epoch 25/100\n",
      "1719/1719 [==============================] - 7s 4ms/step - loss: 3.1982e-04 - accuracy: 0.9999 - val_loss: 0.0956 - val_accuracy: 0.9864\n",
      "Epoch 26/100\n",
      "1719/1719 [==============================] - 7s 4ms/step - loss: 7.6587e-05 - accuracy: 1.0000 - val_loss: 0.0971 - val_accuracy: 0.9862\n"
     ]
    }
   ],
   "source": [
    "early_stopping_cb = keras.callbacks.EarlyStopping(patience=20)\n",
    "checkpoint_cb = keras.callbacks.ModelCheckpoint(\"my_mnist_model.h5\", save_best_only=True)\n",
    "tensorboard_cb = keras.callbacks.TensorBoard(run_logdir)\n",
    "\n",
    "history = model.fit(X_train, y_train, epochs=100,\n",
    "                    validation_data=(X_valid, y_valid),\n",
    "                    callbacks=[checkpoint_cb, early_stopping_cb, tensorboard_cb])"
   ]
  },
  {
   "cell_type": "code",
   "execution_count": 19,
   "id": "8407d7d4",
   "metadata": {
    "execution": {
     "iopub.execute_input": "2023-06-10T07:22:17.686857Z",
     "iopub.status.busy": "2023-06-10T07:22:17.686443Z",
     "iopub.status.idle": "2023-06-10T07:22:31.654405Z",
     "shell.execute_reply": "2023-06-10T07:22:31.653211Z"
    },
    "papermill": {
     "duration": 14.302483,
     "end_time": "2023-06-10T07:22:31.657212",
     "exception": false,
     "start_time": "2023-06-10T07:22:17.354729",
     "status": "completed"
    },
    "tags": []
   },
   "outputs": [
    {
     "name": "stdout",
     "output_type": "stream",
     "text": [
      "313/313 [==============================] - 1s 2ms/step - loss: 0.0762 - accuracy: 0.9793\n"
     ]
    },
    {
     "data": {
      "text/plain": [
       "[0.07620123028755188, 0.9793000221252441]"
      ]
     },
     "execution_count": 19,
     "metadata": {},
     "output_type": "execute_result"
    }
   ],
   "source": [
    "model = keras.models.load_model(\"my_mnist_model.h5\") # rollback to best model\n",
    "model.evaluate(X_test, y_test)"
   ]
  },
  {
   "cell_type": "code",
   "execution_count": null,
   "id": "22517fae",
   "metadata": {
    "papermill": {
     "duration": 0.327882,
     "end_time": "2023-06-10T07:22:32.388657",
     "exception": false,
     "start_time": "2023-06-10T07:22:32.060775",
     "status": "completed"
    },
    "tags": []
   },
   "outputs": [],
   "source": []
  }
 ],
 "metadata": {
  "kernelspec": {
   "display_name": "Python 3",
   "language": "python",
   "name": "python3"
  },
  "language_info": {
   "codemirror_mode": {
    "name": "ipython",
    "version": 3
   },
   "file_extension": ".py",
   "mimetype": "text/x-python",
   "name": "python",
   "nbconvert_exporter": "python",
   "pygments_lexer": "ipython3",
   "version": "3.10.10"
  },
  "papermill": {
   "default_parameters": {},
   "duration": 244.909805,
   "end_time": "2023-06-10T07:22:35.659589",
   "environment_variables": {},
   "exception": null,
   "input_path": "__notebook__.ipynb",
   "output_path": "__notebook__.ipynb",
   "parameters": {},
   "start_time": "2023-06-10T07:18:30.749784",
   "version": "2.4.0"
  }
 },
 "nbformat": 4,
 "nbformat_minor": 5
}
