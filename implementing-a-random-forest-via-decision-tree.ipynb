{
 "cells": [
  {
   "cell_type": "code",
   "execution_count": 1,
   "id": "53c48621",
   "metadata": {
    "_cell_guid": "b1076dfc-b9ad-4769-8c92-a6c4dae69d19",
    "_uuid": "8f2839f25d086af736a60e9eeb907d3b93b6e0e5",
    "execution": {
     "iopub.execute_input": "2023-05-29T17:56:56.929329Z",
     "iopub.status.busy": "2023-05-29T17:56:56.928903Z",
     "iopub.status.idle": "2023-05-29T17:56:56.942263Z",
     "shell.execute_reply": "2023-05-29T17:56:56.941079Z"
    },
    "papermill": {
     "duration": 0.026341,
     "end_time": "2023-05-29T17:56:56.945014",
     "exception": false,
     "start_time": "2023-05-29T17:56:56.918673",
     "status": "completed"
    },
    "tags": []
   },
   "outputs": [],
   "source": [
    "# This Python 3 environment comes with many helpful analytics libraries installed\n",
    "# It is defined by the kaggle/python Docker image: https://github.com/kaggle/docker-python\n",
    "# For example, here's several helpful packages to load\n",
    "\n",
    "import numpy as np # linear algebra\n",
    "import pandas as pd # data processing, CSV file I/O (e.g. pd.read_csv)\n",
    "\n",
    "# Input data files are available in the read-only \"../input/\" directory\n",
    "# For example, running this (by clicking run or pressing Shift+Enter) will list all files under the input directory\n",
    "\n",
    "import os\n",
    "for dirname, _, filenames in os.walk('/kaggle/input'):\n",
    "    for filename in filenames:\n",
    "        print(os.path.join(dirname, filename))\n",
    "\n",
    "# You can write up to 20GB to the current directory (/kaggle/working/) that gets preserved as output when you create a version using \"Save & Run All\" \n",
    "# You can also write temporary files to /kaggle/temp/, but they won't be saved outside of the current session"
   ]
  },
  {
   "cell_type": "markdown",
   "id": "327a28b9",
   "metadata": {
    "papermill": {
     "duration": 0.007106,
     "end_time": "2023-05-29T17:56:56.959749",
     "exception": false,
     "start_time": "2023-05-29T17:56:56.952643",
     "status": "completed"
    },
    "tags": []
   },
   "source": [
    "**Building a Random Forest using Decision Trees**\n",
    "\n",
    "Here we will construct a Random Forest using Decision Trees. We will be using the Moons dataset with a sample size of 10,000 for this purpose. 80% of which will be split into the train set and the rest placed in the test set.\n",
    "\n",
    "Now,Our Implementation is going to be simple and will involve the following steps:-\n",
    "\n",
    "1.Generate the dataset using make_moons() and Split it into train and test sets.\n",
    "\n",
    "2.Split the train set into 1,000 subsets each containing 100 randomly selected instances. We will be using sklearn's ShuffleSplit class for this.\n",
    "\n",
    "3.Train a decision tree on each subset.We will be setting max_leaf_nodes=15 and keeping all other hyperparameters as default. To know why this is the best hyperparameter combination for the decision trees here, refer to this small and simple notebook here at https://bit.ly/43r9W9Q ,which explains the process of determining the best hyperparameter combination using gridsearch.\n",
    "\n",
    "4.For each test set instance,we generate the predictions of\n",
    "all the 1,000 Decision Trees,and keep only the most frequent prediction (we use SciPy’s mode() function for this).This gives us the majority-vote predictions over the test set. Our Random Forest model becomes ready at this stage.\n",
    "\n",
    "5.Now we evaluate these majority-vote predictions over the test set and check for accuracy."
   ]
  },
  {
   "cell_type": "markdown",
   "id": "8b7f94f5",
   "metadata": {
    "papermill": {
     "duration": 0.00699,
     "end_time": "2023-05-29T17:56:56.974060",
     "exception": false,
     "start_time": "2023-05-29T17:56:56.967070",
     "status": "completed"
    },
    "tags": []
   },
   "source": [
    "Now, Let's get to work."
   ]
  },
  {
   "cell_type": "markdown",
   "id": "784a1d81",
   "metadata": {
    "papermill": {
     "duration": 0.00694,
     "end_time": "2023-05-29T17:56:56.988558",
     "exception": false,
     "start_time": "2023-05-29T17:56:56.981618",
     "status": "completed"
    },
    "tags": []
   },
   "source": [
    "**Generating The Dataset**\n",
    "\n",
    "First,we generate the dataset with a sample size of 10000 and some noise(0.4 to be precise)."
   ]
  },
  {
   "cell_type": "code",
   "execution_count": 2,
   "id": "4805e3e0",
   "metadata": {
    "execution": {
     "iopub.execute_input": "2023-05-29T17:56:57.007671Z",
     "iopub.status.busy": "2023-05-29T17:56:57.007171Z",
     "iopub.status.idle": "2023-05-29T17:56:58.796834Z",
     "shell.execute_reply": "2023-05-29T17:56:58.795306Z"
    },
    "papermill": {
     "duration": 1.804382,
     "end_time": "2023-05-29T17:56:58.800228",
     "exception": false,
     "start_time": "2023-05-29T17:56:56.995846",
     "status": "completed"
    },
    "tags": []
   },
   "outputs": [],
   "source": [
    "from sklearn.datasets import make_moons\n",
    "moons_data=make_moons(n_samples=10000,noise=0.4)"
   ]
  },
  {
   "cell_type": "code",
   "execution_count": 3,
   "id": "a261ed69",
   "metadata": {
    "execution": {
     "iopub.execute_input": "2023-05-29T17:56:58.818541Z",
     "iopub.status.busy": "2023-05-29T17:56:58.818083Z",
     "iopub.status.idle": "2023-05-29T17:56:58.830415Z",
     "shell.execute_reply": "2023-05-29T17:56:58.829095Z"
    },
    "papermill": {
     "duration": 0.024918,
     "end_time": "2023-05-29T17:56:58.833284",
     "exception": false,
     "start_time": "2023-05-29T17:56:58.808366",
     "status": "completed"
    },
    "tags": []
   },
   "outputs": [
    {
     "data": {
      "text/plain": [
       "(array([[-0.29307918, -0.5347303 ],\n",
       "        [ 0.83055992,  0.72960135],\n",
       "        [ 0.60439709,  0.07601212],\n",
       "        ...,\n",
       "        [ 1.04914839, -0.22514331],\n",
       "        [ 0.58550797,  0.50997327],\n",
       "        [ 2.36583301,  0.12127511]]),\n",
       " array([1, 0, 1, ..., 1, 1, 1]))"
      ]
     },
     "execution_count": 3,
     "metadata": {},
     "output_type": "execute_result"
    }
   ],
   "source": [
    "moons_data"
   ]
  },
  {
   "cell_type": "code",
   "execution_count": 4,
   "id": "d79737d2",
   "metadata": {
    "execution": {
     "iopub.execute_input": "2023-05-29T17:56:58.851293Z",
     "iopub.status.busy": "2023-05-29T17:56:58.850853Z",
     "iopub.status.idle": "2023-05-29T17:56:58.856539Z",
     "shell.execute_reply": "2023-05-29T17:56:58.855308Z"
    },
    "papermill": {
     "duration": 0.018166,
     "end_time": "2023-05-29T17:56:58.859458",
     "exception": false,
     "start_time": "2023-05-29T17:56:58.841292",
     "status": "completed"
    },
    "tags": []
   },
   "outputs": [],
   "source": [
    "X=moons_data[0]\n",
    "y=moons_data[1]"
   ]
  },
  {
   "cell_type": "code",
   "execution_count": 5,
   "id": "06a40afe",
   "metadata": {
    "execution": {
     "iopub.execute_input": "2023-05-29T17:56:58.877638Z",
     "iopub.status.busy": "2023-05-29T17:56:58.877167Z",
     "iopub.status.idle": "2023-05-29T17:56:59.008063Z",
     "shell.execute_reply": "2023-05-29T17:56:59.006545Z"
    },
    "papermill": {
     "duration": 0.144165,
     "end_time": "2023-05-29T17:56:59.011546",
     "exception": false,
     "start_time": "2023-05-29T17:56:58.867381",
     "status": "completed"
    },
    "tags": []
   },
   "outputs": [],
   "source": [
    "from sklearn.model_selection import train_test_split\n",
    "X_train,X_test,y_train,y_test=train_test_split(X,y,random_state=42,test_size=0.1)"
   ]
  },
  {
   "cell_type": "markdown",
   "id": "e702618e",
   "metadata": {
    "papermill": {
     "duration": 0.007195,
     "end_time": "2023-05-29T17:56:59.026635",
     "exception": false,
     "start_time": "2023-05-29T17:56:59.019440",
     "status": "completed"
    },
    "tags": []
   },
   "source": [
    "**Splitting Train Set into 1000 Subsets**\n",
    "\n",
    "Now,we Split the train set into 1,000 subsets each containing 100 randomly selected instances using ShuffleSplit."
   ]
  },
  {
   "cell_type": "code",
   "execution_count": 6,
   "id": "9398aa91",
   "metadata": {
    "execution": {
     "iopub.execute_input": "2023-05-29T17:56:59.043855Z",
     "iopub.status.busy": "2023-05-29T17:56:59.043390Z",
     "iopub.status.idle": "2023-05-29T17:56:59.397011Z",
     "shell.execute_reply": "2023-05-29T17:56:59.395892Z"
    },
    "papermill": {
     "duration": 0.365743,
     "end_time": "2023-05-29T17:56:59.400038",
     "exception": false,
     "start_time": "2023-05-29T17:56:59.034295",
     "status": "completed"
    },
    "tags": []
   },
   "outputs": [],
   "source": [
    "from sklearn.model_selection import ShuffleSplit\n",
    "ss = ShuffleSplit(n_splits=1000,train_size=0.0112,random_state=42) \n",
    "#train size is 0.0112 because 100/9000=0.0112\n",
    "train_splits=[]\n",
    "i=0\n",
    "for train_index,test_index in ss.split(X_train):\n",
    "    x=[]\n",
    "    y=[]\n",
    "    for j in train_index:\n",
    "        x.append(X_train[j])\n",
    "        y.append(y_train[j])\n",
    "    train_splits.append([x,y])\n",
    "\n",
    "X_train_splits=[]\n",
    "y_train_splits=[]\n",
    "\n",
    "for i in range(1000):\n",
    "    X_train_splits.append(train_splits[i][0])\n",
    "    y_train_splits.append(train_splits[i][1])"
   ]
  },
  {
   "cell_type": "markdown",
   "id": "aabddcf6",
   "metadata": {
    "papermill": {
     "duration": 0.007273,
     "end_time": "2023-05-29T17:56:59.414961",
     "exception": false,
     "start_time": "2023-05-29T17:56:59.407688",
     "status": "completed"
    },
    "tags": []
   },
   "source": [
    "**Training a decision tree on each subset**"
   ]
  },
  {
   "cell_type": "markdown",
   "id": "4d310a69",
   "metadata": {
    "papermill": {
     "duration": 0.007019,
     "end_time": "2023-05-29T17:56:59.429263",
     "exception": false,
     "start_time": "2023-05-29T17:56:59.422244",
     "status": "completed"
    },
    "tags": []
   },
   "source": [
    "Now,we perform Gridsearch and clone the best estimator obtained 1000 times to build our forest. Then, fit each tree on one subset each.This is step 4 that was mentioned at the start."
   ]
  },
  {
   "cell_type": "code",
   "execution_count": 7,
   "id": "c9696a6e",
   "metadata": {
    "execution": {
     "iopub.execute_input": "2023-05-29T17:56:59.445835Z",
     "iopub.status.busy": "2023-05-29T17:56:59.445406Z",
     "iopub.status.idle": "2023-05-29T17:57:11.506235Z",
     "shell.execute_reply": "2023-05-29T17:57:11.504938Z"
    },
    "papermill": {
     "duration": 12.072815,
     "end_time": "2023-05-29T17:57:11.509407",
     "exception": false,
     "start_time": "2023-05-29T17:56:59.436592",
     "status": "completed"
    },
    "tags": []
   },
   "outputs": [
    {
     "name": "stdout",
     "output_type": "stream",
     "text": [
      "Fitting 3 folds for each of 1152 candidates, totalling 3456 fits\n"
     ]
    },
    {
     "data": {
      "text/html": [
       "<style>#sk-container-id-1 {color: black;background-color: white;}#sk-container-id-1 pre{padding: 0;}#sk-container-id-1 div.sk-toggleable {background-color: white;}#sk-container-id-1 label.sk-toggleable__label {cursor: pointer;display: block;width: 100%;margin-bottom: 0;padding: 0.3em;box-sizing: border-box;text-align: center;}#sk-container-id-1 label.sk-toggleable__label-arrow:before {content: \"▸\";float: left;margin-right: 0.25em;color: #696969;}#sk-container-id-1 label.sk-toggleable__label-arrow:hover:before {color: black;}#sk-container-id-1 div.sk-estimator:hover label.sk-toggleable__label-arrow:before {color: black;}#sk-container-id-1 div.sk-toggleable__content {max-height: 0;max-width: 0;overflow: hidden;text-align: left;background-color: #f0f8ff;}#sk-container-id-1 div.sk-toggleable__content pre {margin: 0.2em;color: black;border-radius: 0.25em;background-color: #f0f8ff;}#sk-container-id-1 input.sk-toggleable__control:checked~div.sk-toggleable__content {max-height: 200px;max-width: 100%;overflow: auto;}#sk-container-id-1 input.sk-toggleable__control:checked~label.sk-toggleable__label-arrow:before {content: \"▾\";}#sk-container-id-1 div.sk-estimator input.sk-toggleable__control:checked~label.sk-toggleable__label {background-color: #d4ebff;}#sk-container-id-1 div.sk-label input.sk-toggleable__control:checked~label.sk-toggleable__label {background-color: #d4ebff;}#sk-container-id-1 input.sk-hidden--visually {border: 0;clip: rect(1px 1px 1px 1px);clip: rect(1px, 1px, 1px, 1px);height: 1px;margin: -1px;overflow: hidden;padding: 0;position: absolute;width: 1px;}#sk-container-id-1 div.sk-estimator {font-family: monospace;background-color: #f0f8ff;border: 1px dotted black;border-radius: 0.25em;box-sizing: border-box;margin-bottom: 0.5em;}#sk-container-id-1 div.sk-estimator:hover {background-color: #d4ebff;}#sk-container-id-1 div.sk-parallel-item::after {content: \"\";width: 100%;border-bottom: 1px solid gray;flex-grow: 1;}#sk-container-id-1 div.sk-label:hover label.sk-toggleable__label {background-color: #d4ebff;}#sk-container-id-1 div.sk-serial::before {content: \"\";position: absolute;border-left: 1px solid gray;box-sizing: border-box;top: 0;bottom: 0;left: 50%;z-index: 0;}#sk-container-id-1 div.sk-serial {display: flex;flex-direction: column;align-items: center;background-color: white;padding-right: 0.2em;padding-left: 0.2em;position: relative;}#sk-container-id-1 div.sk-item {position: relative;z-index: 1;}#sk-container-id-1 div.sk-parallel {display: flex;align-items: stretch;justify-content: center;background-color: white;position: relative;}#sk-container-id-1 div.sk-item::before, #sk-container-id-1 div.sk-parallel-item::before {content: \"\";position: absolute;border-left: 1px solid gray;box-sizing: border-box;top: 0;bottom: 0;left: 50%;z-index: -1;}#sk-container-id-1 div.sk-parallel-item {display: flex;flex-direction: column;z-index: 1;position: relative;background-color: white;}#sk-container-id-1 div.sk-parallel-item:first-child::after {align-self: flex-end;width: 50%;}#sk-container-id-1 div.sk-parallel-item:last-child::after {align-self: flex-start;width: 50%;}#sk-container-id-1 div.sk-parallel-item:only-child::after {width: 0;}#sk-container-id-1 div.sk-dashed-wrapped {border: 1px dashed gray;margin: 0 0.4em 0.5em 0.4em;box-sizing: border-box;padding-bottom: 0.4em;background-color: white;}#sk-container-id-1 div.sk-label label {font-family: monospace;font-weight: bold;display: inline-block;line-height: 1.2em;}#sk-container-id-1 div.sk-label-container {text-align: center;}#sk-container-id-1 div.sk-container {/* jupyter's `normalize.less` sets `[hidden] { display: none; }` but bootstrap.min.css set `[hidden] { display: none !important; }` so we also need the `!important` here to be able to override the default hidden behavior on the sphinx rendered scikit-learn.org. See: https://github.com/scikit-learn/scikit-learn/issues/21755 */display: inline-block !important;position: relative;}#sk-container-id-1 div.sk-text-repr-fallback {display: none;}</style><div id=\"sk-container-id-1\" class=\"sk-top-container\"><div class=\"sk-text-repr-fallback\"><pre>DecisionTreeClassifier(max_leaf_nodes=17)</pre><b>In a Jupyter environment, please rerun this cell to show the HTML representation or trust the notebook. <br />On GitHub, the HTML representation is unable to render, please try loading this page with nbviewer.org.</b></div><div class=\"sk-container\" hidden><div class=\"sk-item\"><div class=\"sk-estimator sk-toggleable\"><input class=\"sk-toggleable__control sk-hidden--visually\" id=\"sk-estimator-id-1\" type=\"checkbox\" checked><label for=\"sk-estimator-id-1\" class=\"sk-toggleable__label sk-toggleable__label-arrow\">DecisionTreeClassifier</label><div class=\"sk-toggleable__content\"><pre>DecisionTreeClassifier(max_leaf_nodes=17)</pre></div></div></div></div></div>"
      ],
      "text/plain": [
       "DecisionTreeClassifier(max_leaf_nodes=17)"
      ]
     },
     "execution_count": 7,
     "metadata": {},
     "output_type": "execute_result"
    }
   ],
   "source": [
    "from sklearn.model_selection import GridSearchCV\n",
    "from sklearn.tree import DecisionTreeClassifier\n",
    "decision_tree_clf= DecisionTreeClassifier()\n",
    "param_grid={'criterion':[\"gini\",\"entropy\",\"log_loss\"],'splitter':[\"best\",\"random\"],\n",
    "            'max_depth':[None,2,3,5,7,10,13,14],'min_samples_split':[2,3,4],\n",
    "            'max_leaf_nodes':[5, 7, 10, 13, 15,16,17,18]}\n",
    "grid_search = GridSearchCV(decision_tree_clf, param_grid,verbose=1, n_jobs=-1, cv=3)\n",
    "grid_search.fit(X_train,y_train)\n",
    "grid_search.best_estimator_"
   ]
  },
  {
   "cell_type": "code",
   "execution_count": 8,
   "id": "70de129f",
   "metadata": {
    "execution": {
     "iopub.execute_input": "2023-05-29T17:57:11.527719Z",
     "iopub.status.busy": "2023-05-29T17:57:11.527292Z",
     "iopub.status.idle": "2023-05-29T17:57:11.532883Z",
     "shell.execute_reply": "2023-05-29T17:57:11.531620Z"
    },
    "papermill": {
     "duration": 0.018145,
     "end_time": "2023-05-29T17:57:11.535603",
     "exception": false,
     "start_time": "2023-05-29T17:57:11.517458",
     "status": "completed"
    },
    "tags": []
   },
   "outputs": [],
   "source": [
    "from sklearn.metrics import accuracy_score"
   ]
  },
  {
   "cell_type": "code",
   "execution_count": 9,
   "id": "bdcaaf25",
   "metadata": {
    "execution": {
     "iopub.execute_input": "2023-05-29T17:57:11.554555Z",
     "iopub.status.busy": "2023-05-29T17:57:11.554093Z",
     "iopub.status.idle": "2023-05-29T17:57:13.402684Z",
     "shell.execute_reply": "2023-05-29T17:57:13.401382Z"
    },
    "papermill": {
     "duration": 1.861201,
     "end_time": "2023-05-29T17:57:13.405462",
     "exception": false,
     "start_time": "2023-05-29T17:57:11.544261",
     "status": "completed"
    },
    "tags": []
   },
   "outputs": [
    {
     "data": {
      "text/plain": [
       "0.7915840000000001"
      ]
     },
     "execution_count": 9,
     "metadata": {},
     "output_type": "execute_result"
    }
   ],
   "source": [
    "from sklearn.base import clone\n",
    "forest = [clone(grid_search.best_estimator_) for _ in range(1000)]\n",
    "accuracy_scores = []\n",
    "for tree, (X_mini_train, y_mini_train) in zip(forest, train_splits):\n",
    "    tree.fit(X_mini_train, y_mini_train)\n",
    "    y_pred = tree.predict(X_test)\n",
    "    accuracy_scores.append(accuracy_score(y_test, y_pred))\n",
    "np.mean(accuracy_scores)"
   ]
  },
  {
   "cell_type": "code",
   "execution_count": 10,
   "id": "35b5fc4c",
   "metadata": {
    "execution": {
     "iopub.execute_input": "2023-05-29T17:57:13.423985Z",
     "iopub.status.busy": "2023-05-29T17:57:13.423481Z",
     "iopub.status.idle": "2023-05-29T17:57:13.600273Z",
     "shell.execute_reply": "2023-05-29T17:57:13.599062Z"
    },
    "papermill": {
     "duration": 0.189653,
     "end_time": "2023-05-29T17:57:13.603354",
     "exception": false,
     "start_time": "2023-05-29T17:57:13.413701",
     "status": "completed"
    },
    "tags": []
   },
   "outputs": [],
   "source": [
    "Y_pred = np.empty([1000, len(X_test)], dtype=np.uint8)\n",
    "for tree_index, tree in enumerate(forest):\n",
    "    Y_pred[tree_index] = tree.predict(X_test)"
   ]
  },
  {
   "cell_type": "markdown",
   "id": "0bbe622e",
   "metadata": {
    "papermill": {
     "duration": 0.007566,
     "end_time": "2023-05-29T17:57:13.619094",
     "exception": false,
     "start_time": "2023-05-29T17:57:13.611528",
     "status": "completed"
    },
    "tags": []
   },
   "source": [
    "Now, we implement step 5."
   ]
  },
  {
   "cell_type": "code",
   "execution_count": 11,
   "id": "572bed62",
   "metadata": {
    "execution": {
     "iopub.execute_input": "2023-05-29T17:57:13.637644Z",
     "iopub.status.busy": "2023-05-29T17:57:13.636757Z",
     "iopub.status.idle": "2023-05-29T17:57:13.696039Z",
     "shell.execute_reply": "2023-05-29T17:57:13.694845Z"
    },
    "papermill": {
     "duration": 0.072057,
     "end_time": "2023-05-29T17:57:13.699048",
     "exception": false,
     "start_time": "2023-05-29T17:57:13.626991",
     "status": "completed"
    },
    "tags": []
   },
   "outputs": [],
   "source": [
    "from scipy.stats import mode\n",
    "y_pred_majority_votes, n_votes = mode(Y_pred, axis=0,keepdims=True)"
   ]
  },
  {
   "cell_type": "markdown",
   "id": "43d14245",
   "metadata": {
    "papermill": {
     "duration": 0.007681,
     "end_time": "2023-05-29T17:57:13.715039",
     "exception": false,
     "start_time": "2023-05-29T17:57:13.707358",
     "status": "completed"
    },
    "tags": []
   },
   "source": [
    "Our Random Forest Model is ready."
   ]
  },
  {
   "cell_type": "code",
   "execution_count": 12,
   "id": "83dddaf0",
   "metadata": {
    "execution": {
     "iopub.execute_input": "2023-05-29T17:57:13.734166Z",
     "iopub.status.busy": "2023-05-29T17:57:13.733105Z",
     "iopub.status.idle": "2023-05-29T17:57:13.743145Z",
     "shell.execute_reply": "2023-05-29T17:57:13.741986Z"
    },
    "papermill": {
     "duration": 0.02238,
     "end_time": "2023-05-29T17:57:13.745784",
     "exception": false,
     "start_time": "2023-05-29T17:57:13.723404",
     "status": "completed"
    },
    "tags": []
   },
   "outputs": [
    {
     "data": {
      "text/plain": [
       "0.863"
      ]
     },
     "execution_count": 12,
     "metadata": {},
     "output_type": "execute_result"
    }
   ],
   "source": [
    "accuracy_score(y_test, y_pred_majority_votes.reshape([-1]))"
   ]
  },
  {
   "cell_type": "markdown",
   "id": "bf156194",
   "metadata": {
    "papermill": {
     "duration": 0.008758,
     "end_time": "2023-05-29T17:57:13.763527",
     "exception": false,
     "start_time": "2023-05-29T17:57:13.754769",
     "status": "completed"
    },
    "tags": []
   },
   "source": [
    "Now, Let's compare how it performs in comparison to the inbuilt RandomForestClassifier in sklearn.As we see, it performs almost equally well."
   ]
  },
  {
   "cell_type": "code",
   "execution_count": 13,
   "id": "9e60e4b5",
   "metadata": {
    "execution": {
     "iopub.execute_input": "2023-05-29T17:57:13.783275Z",
     "iopub.status.busy": "2023-05-29T17:57:13.782230Z",
     "iopub.status.idle": "2023-05-29T17:57:22.251740Z",
     "shell.execute_reply": "2023-05-29T17:57:22.250235Z"
    },
    "papermill": {
     "duration": 8.482896,
     "end_time": "2023-05-29T17:57:22.255037",
     "exception": false,
     "start_time": "2023-05-29T17:57:13.772141",
     "status": "completed"
    },
    "tags": []
   },
   "outputs": [
    {
     "data": {
      "text/html": [
       "<style>#sk-container-id-2 {color: black;background-color: white;}#sk-container-id-2 pre{padding: 0;}#sk-container-id-2 div.sk-toggleable {background-color: white;}#sk-container-id-2 label.sk-toggleable__label {cursor: pointer;display: block;width: 100%;margin-bottom: 0;padding: 0.3em;box-sizing: border-box;text-align: center;}#sk-container-id-2 label.sk-toggleable__label-arrow:before {content: \"▸\";float: left;margin-right: 0.25em;color: #696969;}#sk-container-id-2 label.sk-toggleable__label-arrow:hover:before {color: black;}#sk-container-id-2 div.sk-estimator:hover label.sk-toggleable__label-arrow:before {color: black;}#sk-container-id-2 div.sk-toggleable__content {max-height: 0;max-width: 0;overflow: hidden;text-align: left;background-color: #f0f8ff;}#sk-container-id-2 div.sk-toggleable__content pre {margin: 0.2em;color: black;border-radius: 0.25em;background-color: #f0f8ff;}#sk-container-id-2 input.sk-toggleable__control:checked~div.sk-toggleable__content {max-height: 200px;max-width: 100%;overflow: auto;}#sk-container-id-2 input.sk-toggleable__control:checked~label.sk-toggleable__label-arrow:before {content: \"▾\";}#sk-container-id-2 div.sk-estimator input.sk-toggleable__control:checked~label.sk-toggleable__label {background-color: #d4ebff;}#sk-container-id-2 div.sk-label input.sk-toggleable__control:checked~label.sk-toggleable__label {background-color: #d4ebff;}#sk-container-id-2 input.sk-hidden--visually {border: 0;clip: rect(1px 1px 1px 1px);clip: rect(1px, 1px, 1px, 1px);height: 1px;margin: -1px;overflow: hidden;padding: 0;position: absolute;width: 1px;}#sk-container-id-2 div.sk-estimator {font-family: monospace;background-color: #f0f8ff;border: 1px dotted black;border-radius: 0.25em;box-sizing: border-box;margin-bottom: 0.5em;}#sk-container-id-2 div.sk-estimator:hover {background-color: #d4ebff;}#sk-container-id-2 div.sk-parallel-item::after {content: \"\";width: 100%;border-bottom: 1px solid gray;flex-grow: 1;}#sk-container-id-2 div.sk-label:hover label.sk-toggleable__label {background-color: #d4ebff;}#sk-container-id-2 div.sk-serial::before {content: \"\";position: absolute;border-left: 1px solid gray;box-sizing: border-box;top: 0;bottom: 0;left: 50%;z-index: 0;}#sk-container-id-2 div.sk-serial {display: flex;flex-direction: column;align-items: center;background-color: white;padding-right: 0.2em;padding-left: 0.2em;position: relative;}#sk-container-id-2 div.sk-item {position: relative;z-index: 1;}#sk-container-id-2 div.sk-parallel {display: flex;align-items: stretch;justify-content: center;background-color: white;position: relative;}#sk-container-id-2 div.sk-item::before, #sk-container-id-2 div.sk-parallel-item::before {content: \"\";position: absolute;border-left: 1px solid gray;box-sizing: border-box;top: 0;bottom: 0;left: 50%;z-index: -1;}#sk-container-id-2 div.sk-parallel-item {display: flex;flex-direction: column;z-index: 1;position: relative;background-color: white;}#sk-container-id-2 div.sk-parallel-item:first-child::after {align-self: flex-end;width: 50%;}#sk-container-id-2 div.sk-parallel-item:last-child::after {align-self: flex-start;width: 50%;}#sk-container-id-2 div.sk-parallel-item:only-child::after {width: 0;}#sk-container-id-2 div.sk-dashed-wrapped {border: 1px dashed gray;margin: 0 0.4em 0.5em 0.4em;box-sizing: border-box;padding-bottom: 0.4em;background-color: white;}#sk-container-id-2 div.sk-label label {font-family: monospace;font-weight: bold;display: inline-block;line-height: 1.2em;}#sk-container-id-2 div.sk-label-container {text-align: center;}#sk-container-id-2 div.sk-container {/* jupyter's `normalize.less` sets `[hidden] { display: none; }` but bootstrap.min.css set `[hidden] { display: none !important; }` so we also need the `!important` here to be able to override the default hidden behavior on the sphinx rendered scikit-learn.org. See: https://github.com/scikit-learn/scikit-learn/issues/21755 */display: inline-block !important;position: relative;}#sk-container-id-2 div.sk-text-repr-fallback {display: none;}</style><div id=\"sk-container-id-2\" class=\"sk-top-container\"><div class=\"sk-text-repr-fallback\"><pre>RandomForestClassifier(max_leaf_nodes=17, n_estimators=1000)</pre><b>In a Jupyter environment, please rerun this cell to show the HTML representation or trust the notebook. <br />On GitHub, the HTML representation is unable to render, please try loading this page with nbviewer.org.</b></div><div class=\"sk-container\" hidden><div class=\"sk-item\"><div class=\"sk-estimator sk-toggleable\"><input class=\"sk-toggleable__control sk-hidden--visually\" id=\"sk-estimator-id-2\" type=\"checkbox\" checked><label for=\"sk-estimator-id-2\" class=\"sk-toggleable__label sk-toggleable__label-arrow\">RandomForestClassifier</label><div class=\"sk-toggleable__content\"><pre>RandomForestClassifier(max_leaf_nodes=17, n_estimators=1000)</pre></div></div></div></div></div>"
      ],
      "text/plain": [
       "RandomForestClassifier(max_leaf_nodes=17, n_estimators=1000)"
      ]
     },
     "execution_count": 13,
     "metadata": {},
     "output_type": "execute_result"
    }
   ],
   "source": [
    "from sklearn.ensemble import RandomForestClassifier\n",
    "rand_clf=RandomForestClassifier(n_estimators=1000,max_leaf_nodes=17)\n",
    "rand_clf.fit(X_train,y_train)"
   ]
  },
  {
   "cell_type": "code",
   "execution_count": 14,
   "id": "4e06152c",
   "metadata": {
    "execution": {
     "iopub.execute_input": "2023-05-29T17:57:22.275060Z",
     "iopub.status.busy": "2023-05-29T17:57:22.273891Z",
     "iopub.status.idle": "2023-05-29T17:57:22.506727Z",
     "shell.execute_reply": "2023-05-29T17:57:22.505278Z"
    },
    "papermill": {
     "duration": 0.245908,
     "end_time": "2023-05-29T17:57:22.509565",
     "exception": false,
     "start_time": "2023-05-29T17:57:22.263657",
     "status": "completed"
    },
    "tags": []
   },
   "outputs": [
    {
     "data": {
      "text/plain": [
       "0.863"
      ]
     },
     "execution_count": 14,
     "metadata": {},
     "output_type": "execute_result"
    }
   ],
   "source": [
    "ypred2=rand_clf.predict(X_test)\n",
    "accuracy_score(y_test,ypred2)"
   ]
  }
 ],
 "metadata": {
  "kernelspec": {
   "display_name": "Python 3",
   "language": "python",
   "name": "python3"
  },
  "language_info": {
   "codemirror_mode": {
    "name": "ipython",
    "version": 3
   },
   "file_extension": ".py",
   "mimetype": "text/x-python",
   "name": "python",
   "nbconvert_exporter": "python",
   "pygments_lexer": "ipython3",
   "version": "3.10.10"
  },
  "papermill": {
   "default_parameters": {},
   "duration": 42.96433,
   "end_time": "2023-05-29T17:57:25.142552",
   "environment_variables": {},
   "exception": null,
   "input_path": "__notebook__.ipynb",
   "output_path": "__notebook__.ipynb",
   "parameters": {},
   "start_time": "2023-05-29T17:56:42.178222",
   "version": "2.4.0"
  }
 },
 "nbformat": 4,
 "nbformat_minor": 5
}
