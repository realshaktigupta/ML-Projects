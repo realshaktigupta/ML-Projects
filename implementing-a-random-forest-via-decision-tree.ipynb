{
 "cells": [
  {
   "cell_type": "code",
   "execution_count": 1,
   "id": "cb0963e7",
   "metadata": {
    "_cell_guid": "b1076dfc-b9ad-4769-8c92-a6c4dae69d19",
    "_uuid": "8f2839f25d086af736a60e9eeb907d3b93b6e0e5",
    "execution": {
     "iopub.execute_input": "2023-05-29T17:54:30.866100Z",
     "iopub.status.busy": "2023-05-29T17:54:30.865354Z",
     "iopub.status.idle": "2023-05-29T17:54:30.880225Z",
     "shell.execute_reply": "2023-05-29T17:54:30.879412Z"
    },
    "papermill": {
     "duration": 0.026773,
     "end_time": "2023-05-29T17:54:30.882641",
     "exception": false,
     "start_time": "2023-05-29T17:54:30.855868",
     "status": "completed"
    },
    "tags": []
   },
   "outputs": [],
   "source": [
    "# This Python 3 environment comes with many helpful analytics libraries installed\n",
    "# It is defined by the kaggle/python Docker image: https://github.com/kaggle/docker-python\n",
    "# For example, here's several helpful packages to load\n",
    "\n",
    "import numpy as np # linear algebra\n",
    "import pandas as pd # data processing, CSV file I/O (e.g. pd.read_csv)\n",
    "\n",
    "# Input data files are available in the read-only \"../input/\" directory\n",
    "# For example, running this (by clicking run or pressing Shift+Enter) will list all files under the input directory\n",
    "\n",
    "import os\n",
    "for dirname, _, filenames in os.walk('/kaggle/input'):\n",
    "    for filename in filenames:\n",
    "        print(os.path.join(dirname, filename))\n",
    "\n",
    "# You can write up to 20GB to the current directory (/kaggle/working/) that gets preserved as output when you create a version using \"Save & Run All\" \n",
    "# You can also write temporary files to /kaggle/temp/, but they won't be saved outside of the current session"
   ]
  },
  {
   "cell_type": "markdown",
   "id": "3667170e",
   "metadata": {
    "papermill": {
     "duration": 0.006531,
     "end_time": "2023-05-29T17:54:30.896185",
     "exception": false,
     "start_time": "2023-05-29T17:54:30.889654",
     "status": "completed"
    },
    "tags": []
   },
   "source": [
    "**Building a Random Forest using Decision Trees**\n",
    "\n",
    "Here we will construct a Random Forest using Decision Trees. We will be using the Moons dataset with a sample size of 10,000 for this purpose. 80% of which will be split into the train set and the rest placed in the test set.\n",
    "\n",
    "Now,Our Implementation is going to be simple and will involve the following steps:-\n",
    "\n",
    "1.Generate the dataset using make_moons() and Split it into train and test sets.\n",
    "\n",
    "2.Split the train set into 1,000 subsets each containing 100 randomly selected instances. We will be using sklearn's ShuffleSplit class for this.\n",
    "\n",
    "3.Train a decision tree on each subset.We will be setting max_leaf_nodes=15 and keeping all other hyperparameters as default. To know why this is the best hyperparameter combination for the decision trees here, refer to this small and simple notebook here at https://bit.ly/43r9W9Q ,which explains the process of determining the best hyperparameter combination using gridsearch.\n",
    "\n",
    "4.For each test set instance,we generate the predictions of\n",
    "all the 1,000 Decision Trees,and keep only the most frequent prediction (we use SciPy’s mode() function for this).This gives us the majority-vote predictions over the test set. Our Random Forest model becomes ready at this stage.\n",
    "\n",
    "5.Now we evaluate these majority-vote predictions over the test set and check for accuracy."
   ]
  },
  {
   "cell_type": "markdown",
   "id": "3e630585",
   "metadata": {
    "papermill": {
     "duration": 0.006592,
     "end_time": "2023-05-29T17:54:30.909828",
     "exception": false,
     "start_time": "2023-05-29T17:54:30.903236",
     "status": "completed"
    },
    "tags": []
   },
   "source": [
    "Now, Let's get to work."
   ]
  },
  {
   "cell_type": "markdown",
   "id": "45f77c16",
   "metadata": {
    "papermill": {
     "duration": 0.006352,
     "end_time": "2023-05-29T17:54:30.922940",
     "exception": false,
     "start_time": "2023-05-29T17:54:30.916588",
     "status": "completed"
    },
    "tags": []
   },
   "source": [
    "**Generating The Dataset**\n",
    "\n",
    "First,we generate the dataset with a sample size of 10000 and some noise(0.4 to be precise)."
   ]
  },
  {
   "cell_type": "code",
   "execution_count": 2,
   "id": "f45992b6",
   "metadata": {
    "execution": {
     "iopub.execute_input": "2023-05-29T17:54:30.938450Z",
     "iopub.status.busy": "2023-05-29T17:54:30.937818Z",
     "iopub.status.idle": "2023-05-29T17:54:32.431215Z",
     "shell.execute_reply": "2023-05-29T17:54:32.430315Z"
    },
    "papermill": {
     "duration": 1.504158,
     "end_time": "2023-05-29T17:54:32.433842",
     "exception": false,
     "start_time": "2023-05-29T17:54:30.929684",
     "status": "completed"
    },
    "tags": []
   },
   "outputs": [],
   "source": [
    "from sklearn.datasets import make_moons\n",
    "moons_data=make_moons(n_samples=10000,noise=0.4)"
   ]
  },
  {
   "cell_type": "code",
   "execution_count": 3,
   "id": "3af07806",
   "metadata": {
    "execution": {
     "iopub.execute_input": "2023-05-29T17:54:32.449866Z",
     "iopub.status.busy": "2023-05-29T17:54:32.449355Z",
     "iopub.status.idle": "2023-05-29T17:54:32.459157Z",
     "shell.execute_reply": "2023-05-29T17:54:32.458450Z"
    },
    "papermill": {
     "duration": 0.021781,
     "end_time": "2023-05-29T17:54:32.462491",
     "exception": false,
     "start_time": "2023-05-29T17:54:32.440710",
     "status": "completed"
    },
    "tags": []
   },
   "outputs": [
    {
     "data": {
      "text/plain": [
       "(array([[-0.17427406,  1.26025665],\n",
       "        [ 1.40430396, -0.62914946],\n",
       "        [ 0.20593545, -0.74989752],\n",
       "        ...,\n",
       "        [-0.3746145 ,  0.68760545],\n",
       "        [-0.19171973,  0.75998828],\n",
       "        [ 0.85875371,  0.32085544]]),\n",
       " array([0, 1, 1, ..., 0, 1, 0]))"
      ]
     },
     "execution_count": 3,
     "metadata": {},
     "output_type": "execute_result"
    }
   ],
   "source": [
    "moons_data"
   ]
  },
  {
   "cell_type": "code",
   "execution_count": 4,
   "id": "248e532c",
   "metadata": {
    "execution": {
     "iopub.execute_input": "2023-05-29T17:54:32.479938Z",
     "iopub.status.busy": "2023-05-29T17:54:32.479558Z",
     "iopub.status.idle": "2023-05-29T17:54:32.484097Z",
     "shell.execute_reply": "2023-05-29T17:54:32.483018Z"
    },
    "papermill": {
     "duration": 0.01522,
     "end_time": "2023-05-29T17:54:32.486329",
     "exception": false,
     "start_time": "2023-05-29T17:54:32.471109",
     "status": "completed"
    },
    "tags": []
   },
   "outputs": [],
   "source": [
    "X=moons_data[0]\n",
    "y=moons_data[1]"
   ]
  },
  {
   "cell_type": "code",
   "execution_count": 5,
   "id": "b31efff8",
   "metadata": {
    "execution": {
     "iopub.execute_input": "2023-05-29T17:54:32.502705Z",
     "iopub.status.busy": "2023-05-29T17:54:32.502334Z",
     "iopub.status.idle": "2023-05-29T17:54:32.615887Z",
     "shell.execute_reply": "2023-05-29T17:54:32.614655Z"
    },
    "papermill": {
     "duration": 0.125398,
     "end_time": "2023-05-29T17:54:32.618846",
     "exception": false,
     "start_time": "2023-05-29T17:54:32.493448",
     "status": "completed"
    },
    "tags": []
   },
   "outputs": [],
   "source": [
    "from sklearn.model_selection import train_test_split\n",
    "X_train,X_test,y_train,y_test=train_test_split(X,y,random_state=42,test_size=0.1)"
   ]
  },
  {
   "cell_type": "markdown",
   "id": "4895efdd",
   "metadata": {
    "papermill": {
     "duration": 0.006853,
     "end_time": "2023-05-29T17:54:32.632865",
     "exception": false,
     "start_time": "2023-05-29T17:54:32.626012",
     "status": "completed"
    },
    "tags": []
   },
   "source": [
    "**Splitting Train Set into 1000 Subsets**\n",
    "\n",
    "Now,we Split the train set into 1,000 subsets each containing 100 randomly selected instances using ShuffleSplit."
   ]
  },
  {
   "cell_type": "code",
   "execution_count": 6,
   "id": "6423af5b",
   "metadata": {
    "execution": {
     "iopub.execute_input": "2023-05-29T17:54:32.649132Z",
     "iopub.status.busy": "2023-05-29T17:54:32.648715Z",
     "iopub.status.idle": "2023-05-29T17:54:32.994904Z",
     "shell.execute_reply": "2023-05-29T17:54:32.993809Z"
    },
    "papermill": {
     "duration": 0.357832,
     "end_time": "2023-05-29T17:54:32.997904",
     "exception": false,
     "start_time": "2023-05-29T17:54:32.640072",
     "status": "completed"
    },
    "tags": []
   },
   "outputs": [],
   "source": [
    "from sklearn.model_selection import ShuffleSplit\n",
    "ss = ShuffleSplit(n_splits=1000,train_size=0.0112,random_state=42) \n",
    "#train size is 0.0112 because 100/9000=0.0112\n",
    "train_splits=[]\n",
    "i=0\n",
    "for train_index,test_index in ss.split(X_train):\n",
    "    x=[]\n",
    "    y=[]\n",
    "    for j in train_index:\n",
    "        x.append(X_train[j])\n",
    "        y.append(y_train[j])\n",
    "    train_splits.append([x,y])\n",
    "\n",
    "X_train_splits=[]\n",
    "y_train_splits=[]\n",
    "\n",
    "for i in range(1000):\n",
    "    X_train_splits.append(train_splits[i][0])\n",
    "    y_train_splits.append(train_splits[i][1])"
   ]
  },
  {
   "cell_type": "markdown",
   "id": "41b9cf2a",
   "metadata": {
    "papermill": {
     "duration": 0.007214,
     "end_time": "2023-05-29T17:54:33.012606",
     "exception": false,
     "start_time": "2023-05-29T17:54:33.005392",
     "status": "completed"
    },
    "tags": []
   },
   "source": [
    "**Training a decision tree on each subset**"
   ]
  },
  {
   "cell_type": "markdown",
   "id": "c1ad8e05",
   "metadata": {
    "papermill": {
     "duration": 0.006824,
     "end_time": "2023-05-29T17:54:33.026472",
     "exception": false,
     "start_time": "2023-05-29T17:54:33.019648",
     "status": "completed"
    },
    "tags": []
   },
   "source": [
    "Now,we perform Gridsearch and clone the best estimator obtained 1000 times to build our forest. Then, fit each tree on one subset each.This is step 4 that was mentioned at the start."
   ]
  },
  {
   "cell_type": "code",
   "execution_count": 7,
   "id": "9127735d",
   "metadata": {
    "execution": {
     "iopub.execute_input": "2023-05-29T17:54:33.042941Z",
     "iopub.status.busy": "2023-05-29T17:54:33.042387Z",
     "iopub.status.idle": "2023-05-29T17:54:44.465589Z",
     "shell.execute_reply": "2023-05-29T17:54:44.464658Z"
    },
    "papermill": {
     "duration": 11.4341,
     "end_time": "2023-05-29T17:54:44.467699",
     "exception": false,
     "start_time": "2023-05-29T17:54:33.033599",
     "status": "completed"
    },
    "tags": []
   },
   "outputs": [
    {
     "name": "stdout",
     "output_type": "stream",
     "text": [
      "Fitting 3 folds for each of 1152 candidates, totalling 3456 fits\n"
     ]
    },
    {
     "data": {
      "text/html": [
       "<style>#sk-container-id-1 {color: black;background-color: white;}#sk-container-id-1 pre{padding: 0;}#sk-container-id-1 div.sk-toggleable {background-color: white;}#sk-container-id-1 label.sk-toggleable__label {cursor: pointer;display: block;width: 100%;margin-bottom: 0;padding: 0.3em;box-sizing: border-box;text-align: center;}#sk-container-id-1 label.sk-toggleable__label-arrow:before {content: \"▸\";float: left;margin-right: 0.25em;color: #696969;}#sk-container-id-1 label.sk-toggleable__label-arrow:hover:before {color: black;}#sk-container-id-1 div.sk-estimator:hover label.sk-toggleable__label-arrow:before {color: black;}#sk-container-id-1 div.sk-toggleable__content {max-height: 0;max-width: 0;overflow: hidden;text-align: left;background-color: #f0f8ff;}#sk-container-id-1 div.sk-toggleable__content pre {margin: 0.2em;color: black;border-radius: 0.25em;background-color: #f0f8ff;}#sk-container-id-1 input.sk-toggleable__control:checked~div.sk-toggleable__content {max-height: 200px;max-width: 100%;overflow: auto;}#sk-container-id-1 input.sk-toggleable__control:checked~label.sk-toggleable__label-arrow:before {content: \"▾\";}#sk-container-id-1 div.sk-estimator input.sk-toggleable__control:checked~label.sk-toggleable__label {background-color: #d4ebff;}#sk-container-id-1 div.sk-label input.sk-toggleable__control:checked~label.sk-toggleable__label {background-color: #d4ebff;}#sk-container-id-1 input.sk-hidden--visually {border: 0;clip: rect(1px 1px 1px 1px);clip: rect(1px, 1px, 1px, 1px);height: 1px;margin: -1px;overflow: hidden;padding: 0;position: absolute;width: 1px;}#sk-container-id-1 div.sk-estimator {font-family: monospace;background-color: #f0f8ff;border: 1px dotted black;border-radius: 0.25em;box-sizing: border-box;margin-bottom: 0.5em;}#sk-container-id-1 div.sk-estimator:hover {background-color: #d4ebff;}#sk-container-id-1 div.sk-parallel-item::after {content: \"\";width: 100%;border-bottom: 1px solid gray;flex-grow: 1;}#sk-container-id-1 div.sk-label:hover label.sk-toggleable__label {background-color: #d4ebff;}#sk-container-id-1 div.sk-serial::before {content: \"\";position: absolute;border-left: 1px solid gray;box-sizing: border-box;top: 0;bottom: 0;left: 50%;z-index: 0;}#sk-container-id-1 div.sk-serial {display: flex;flex-direction: column;align-items: center;background-color: white;padding-right: 0.2em;padding-left: 0.2em;position: relative;}#sk-container-id-1 div.sk-item {position: relative;z-index: 1;}#sk-container-id-1 div.sk-parallel {display: flex;align-items: stretch;justify-content: center;background-color: white;position: relative;}#sk-container-id-1 div.sk-item::before, #sk-container-id-1 div.sk-parallel-item::before {content: \"\";position: absolute;border-left: 1px solid gray;box-sizing: border-box;top: 0;bottom: 0;left: 50%;z-index: -1;}#sk-container-id-1 div.sk-parallel-item {display: flex;flex-direction: column;z-index: 1;position: relative;background-color: white;}#sk-container-id-1 div.sk-parallel-item:first-child::after {align-self: flex-end;width: 50%;}#sk-container-id-1 div.sk-parallel-item:last-child::after {align-self: flex-start;width: 50%;}#sk-container-id-1 div.sk-parallel-item:only-child::after {width: 0;}#sk-container-id-1 div.sk-dashed-wrapped {border: 1px dashed gray;margin: 0 0.4em 0.5em 0.4em;box-sizing: border-box;padding-bottom: 0.4em;background-color: white;}#sk-container-id-1 div.sk-label label {font-family: monospace;font-weight: bold;display: inline-block;line-height: 1.2em;}#sk-container-id-1 div.sk-label-container {text-align: center;}#sk-container-id-1 div.sk-container {/* jupyter's `normalize.less` sets `[hidden] { display: none; }` but bootstrap.min.css set `[hidden] { display: none !important; }` so we also need the `!important` here to be able to override the default hidden behavior on the sphinx rendered scikit-learn.org. See: https://github.com/scikit-learn/scikit-learn/issues/21755 */display: inline-block !important;position: relative;}#sk-container-id-1 div.sk-text-repr-fallback {display: none;}</style><div id=\"sk-container-id-1\" class=\"sk-top-container\"><div class=\"sk-text-repr-fallback\"><pre>DecisionTreeClassifier(max_depth=10, max_leaf_nodes=18, min_samples_split=4,\n",
       "                       splitter=&#x27;random&#x27;)</pre><b>In a Jupyter environment, please rerun this cell to show the HTML representation or trust the notebook. <br />On GitHub, the HTML representation is unable to render, please try loading this page with nbviewer.org.</b></div><div class=\"sk-container\" hidden><div class=\"sk-item\"><div class=\"sk-estimator sk-toggleable\"><input class=\"sk-toggleable__control sk-hidden--visually\" id=\"sk-estimator-id-1\" type=\"checkbox\" checked><label for=\"sk-estimator-id-1\" class=\"sk-toggleable__label sk-toggleable__label-arrow\">DecisionTreeClassifier</label><div class=\"sk-toggleable__content\"><pre>DecisionTreeClassifier(max_depth=10, max_leaf_nodes=18, min_samples_split=4,\n",
       "                       splitter=&#x27;random&#x27;)</pre></div></div></div></div></div>"
      ],
      "text/plain": [
       "DecisionTreeClassifier(max_depth=10, max_leaf_nodes=18, min_samples_split=4,\n",
       "                       splitter='random')"
      ]
     },
     "execution_count": 7,
     "metadata": {},
     "output_type": "execute_result"
    }
   ],
   "source": [
    "from sklearn.model_selection import GridSearchCV\n",
    "from sklearn.tree import DecisionTreeClassifier\n",
    "decision_tree_clf= DecisionTreeClassifier()\n",
    "param_grid={'criterion':[\"gini\",\"entropy\",\"log_loss\"],'splitter':[\"best\",\"random\"],\n",
    "            'max_depth':[None,2,3,5,7,10,13,14],'min_samples_split':[2,3,4],\n",
    "            'max_leaf_nodes':[5, 7, 10, 13, 15,16,17,18]}\n",
    "grid_search = GridSearchCV(decision_tree_clf, param_grid,verbose=1, n_jobs=-1, cv=3)\n",
    "grid_search.fit(X_train,y_train)\n",
    "grid_search.best_estimator_"
   ]
  },
  {
   "cell_type": "code",
   "execution_count": 8,
   "id": "fcb89f0f",
   "metadata": {
    "execution": {
     "iopub.execute_input": "2023-05-29T17:54:44.484916Z",
     "iopub.status.busy": "2023-05-29T17:54:44.483945Z",
     "iopub.status.idle": "2023-05-29T17:54:44.489374Z",
     "shell.execute_reply": "2023-05-29T17:54:44.488350Z"
    },
    "papermill": {
     "duration": 0.016549,
     "end_time": "2023-05-29T17:54:44.491693",
     "exception": false,
     "start_time": "2023-05-29T17:54:44.475144",
     "status": "completed"
    },
    "tags": []
   },
   "outputs": [],
   "source": [
    "from sklearn.metrics import accuracy_score"
   ]
  },
  {
   "cell_type": "code",
   "execution_count": 9,
   "id": "62705de7",
   "metadata": {
    "execution": {
     "iopub.execute_input": "2023-05-29T17:54:44.507876Z",
     "iopub.status.busy": "2023-05-29T17:54:44.507472Z",
     "iopub.status.idle": "2023-05-29T17:54:46.183050Z",
     "shell.execute_reply": "2023-05-29T17:54:46.182000Z"
    },
    "papermill": {
     "duration": 1.686738,
     "end_time": "2023-05-29T17:54:46.185719",
     "exception": false,
     "start_time": "2023-05-29T17:54:44.498981",
     "status": "completed"
    },
    "tags": []
   },
   "outputs": [
    {
     "data": {
      "text/plain": [
       "0.802052"
      ]
     },
     "execution_count": 9,
     "metadata": {},
     "output_type": "execute_result"
    }
   ],
   "source": [
    "from sklearn.base import clone\n",
    "forest = [clone(grid_search.best_estimator_) for _ in range(1000)]\n",
    "accuracy_scores = []\n",
    "for tree, (X_mini_train, y_mini_train) in zip(forest, train_splits):\n",
    "    tree.fit(X_mini_train, y_mini_train)\n",
    "    y_pred = tree.predict(X_test)\n",
    "    accuracy_scores.append(accuracy_score(y_test, y_pred))\n",
    "np.mean(accuracy_scores)"
   ]
  },
  {
   "cell_type": "code",
   "execution_count": 10,
   "id": "53218ddc",
   "metadata": {
    "execution": {
     "iopub.execute_input": "2023-05-29T17:54:46.203027Z",
     "iopub.status.busy": "2023-05-29T17:54:46.202617Z",
     "iopub.status.idle": "2023-05-29T17:54:46.379020Z",
     "shell.execute_reply": "2023-05-29T17:54:46.377751Z"
    },
    "papermill": {
     "duration": 0.188422,
     "end_time": "2023-05-29T17:54:46.381826",
     "exception": false,
     "start_time": "2023-05-29T17:54:46.193404",
     "status": "completed"
    },
    "tags": []
   },
   "outputs": [],
   "source": [
    "Y_pred = np.empty([1000, len(X_test)], dtype=np.uint8)\n",
    "for tree_index, tree in enumerate(forest):\n",
    "    Y_pred[tree_index] = tree.predict(X_test)"
   ]
  },
  {
   "cell_type": "code",
   "execution_count": 11,
   "id": "a16314df",
   "metadata": {
    "execution": {
     "iopub.execute_input": "2023-05-29T17:54:46.398759Z",
     "iopub.status.busy": "2023-05-29T17:54:46.398366Z",
     "iopub.status.idle": "2023-05-29T17:54:46.454324Z",
     "shell.execute_reply": "2023-05-29T17:54:46.453265Z"
    },
    "papermill": {
     "duration": 0.06763,
     "end_time": "2023-05-29T17:54:46.457157",
     "exception": false,
     "start_time": "2023-05-29T17:54:46.389527",
     "status": "completed"
    },
    "tags": []
   },
   "outputs": [],
   "source": [
    "from scipy.stats import mode\n",
    "y_pred_majority_votes, n_votes = mode(Y_pred, axis=0,keepdims=True)"
   ]
  },
  {
   "cell_type": "markdown",
   "id": "5fd1d520",
   "metadata": {
    "papermill": {
     "duration": 0.00722,
     "end_time": "2023-05-29T17:54:46.471987",
     "exception": false,
     "start_time": "2023-05-29T17:54:46.464767",
     "status": "completed"
    },
    "tags": []
   },
   "source": [
    "Our Random Forest Model is ready."
   ]
  },
  {
   "cell_type": "code",
   "execution_count": 12,
   "id": "87f79189",
   "metadata": {
    "execution": {
     "iopub.execute_input": "2023-05-29T17:54:46.489094Z",
     "iopub.status.busy": "2023-05-29T17:54:46.488246Z",
     "iopub.status.idle": "2023-05-29T17:54:46.497942Z",
     "shell.execute_reply": "2023-05-29T17:54:46.497099Z"
    },
    "papermill": {
     "duration": 0.02049,
     "end_time": "2023-05-29T17:54:46.500032",
     "exception": false,
     "start_time": "2023-05-29T17:54:46.479542",
     "status": "completed"
    },
    "tags": []
   },
   "outputs": [
    {
     "data": {
      "text/plain": [
       "0.859"
      ]
     },
     "execution_count": 12,
     "metadata": {},
     "output_type": "execute_result"
    }
   ],
   "source": [
    "accuracy_score(y_test, y_pred_majority_votes.reshape([-1]))"
   ]
  },
  {
   "cell_type": "markdown",
   "id": "0957f935",
   "metadata": {
    "papermill": {
     "duration": 0.00751,
     "end_time": "2023-05-29T17:54:46.515532",
     "exception": false,
     "start_time": "2023-05-29T17:54:46.508022",
     "status": "completed"
    },
    "tags": []
   },
   "source": [
    "Now, Let's compare how it performs in comparison to the inbuilt RandomForestClassifier in sklearn.As we see, it performs almost equally well."
   ]
  },
  {
   "cell_type": "code",
   "execution_count": 13,
   "id": "57c96eb0",
   "metadata": {
    "execution": {
     "iopub.execute_input": "2023-05-29T17:54:46.532725Z",
     "iopub.status.busy": "2023-05-29T17:54:46.532045Z",
     "iopub.status.idle": "2023-05-29T17:54:54.682382Z",
     "shell.execute_reply": "2023-05-29T17:54:54.681320Z"
    },
    "papermill": {
     "duration": 8.161716,
     "end_time": "2023-05-29T17:54:54.684783",
     "exception": false,
     "start_time": "2023-05-29T17:54:46.523067",
     "status": "completed"
    },
    "tags": []
   },
   "outputs": [
    {
     "data": {
      "text/html": [
       "<style>#sk-container-id-2 {color: black;background-color: white;}#sk-container-id-2 pre{padding: 0;}#sk-container-id-2 div.sk-toggleable {background-color: white;}#sk-container-id-2 label.sk-toggleable__label {cursor: pointer;display: block;width: 100%;margin-bottom: 0;padding: 0.3em;box-sizing: border-box;text-align: center;}#sk-container-id-2 label.sk-toggleable__label-arrow:before {content: \"▸\";float: left;margin-right: 0.25em;color: #696969;}#sk-container-id-2 label.sk-toggleable__label-arrow:hover:before {color: black;}#sk-container-id-2 div.sk-estimator:hover label.sk-toggleable__label-arrow:before {color: black;}#sk-container-id-2 div.sk-toggleable__content {max-height: 0;max-width: 0;overflow: hidden;text-align: left;background-color: #f0f8ff;}#sk-container-id-2 div.sk-toggleable__content pre {margin: 0.2em;color: black;border-radius: 0.25em;background-color: #f0f8ff;}#sk-container-id-2 input.sk-toggleable__control:checked~div.sk-toggleable__content {max-height: 200px;max-width: 100%;overflow: auto;}#sk-container-id-2 input.sk-toggleable__control:checked~label.sk-toggleable__label-arrow:before {content: \"▾\";}#sk-container-id-2 div.sk-estimator input.sk-toggleable__control:checked~label.sk-toggleable__label {background-color: #d4ebff;}#sk-container-id-2 div.sk-label input.sk-toggleable__control:checked~label.sk-toggleable__label {background-color: #d4ebff;}#sk-container-id-2 input.sk-hidden--visually {border: 0;clip: rect(1px 1px 1px 1px);clip: rect(1px, 1px, 1px, 1px);height: 1px;margin: -1px;overflow: hidden;padding: 0;position: absolute;width: 1px;}#sk-container-id-2 div.sk-estimator {font-family: monospace;background-color: #f0f8ff;border: 1px dotted black;border-radius: 0.25em;box-sizing: border-box;margin-bottom: 0.5em;}#sk-container-id-2 div.sk-estimator:hover {background-color: #d4ebff;}#sk-container-id-2 div.sk-parallel-item::after {content: \"\";width: 100%;border-bottom: 1px solid gray;flex-grow: 1;}#sk-container-id-2 div.sk-label:hover label.sk-toggleable__label {background-color: #d4ebff;}#sk-container-id-2 div.sk-serial::before {content: \"\";position: absolute;border-left: 1px solid gray;box-sizing: border-box;top: 0;bottom: 0;left: 50%;z-index: 0;}#sk-container-id-2 div.sk-serial {display: flex;flex-direction: column;align-items: center;background-color: white;padding-right: 0.2em;padding-left: 0.2em;position: relative;}#sk-container-id-2 div.sk-item {position: relative;z-index: 1;}#sk-container-id-2 div.sk-parallel {display: flex;align-items: stretch;justify-content: center;background-color: white;position: relative;}#sk-container-id-2 div.sk-item::before, #sk-container-id-2 div.sk-parallel-item::before {content: \"\";position: absolute;border-left: 1px solid gray;box-sizing: border-box;top: 0;bottom: 0;left: 50%;z-index: -1;}#sk-container-id-2 div.sk-parallel-item {display: flex;flex-direction: column;z-index: 1;position: relative;background-color: white;}#sk-container-id-2 div.sk-parallel-item:first-child::after {align-self: flex-end;width: 50%;}#sk-container-id-2 div.sk-parallel-item:last-child::after {align-self: flex-start;width: 50%;}#sk-container-id-2 div.sk-parallel-item:only-child::after {width: 0;}#sk-container-id-2 div.sk-dashed-wrapped {border: 1px dashed gray;margin: 0 0.4em 0.5em 0.4em;box-sizing: border-box;padding-bottom: 0.4em;background-color: white;}#sk-container-id-2 div.sk-label label {font-family: monospace;font-weight: bold;display: inline-block;line-height: 1.2em;}#sk-container-id-2 div.sk-label-container {text-align: center;}#sk-container-id-2 div.sk-container {/* jupyter's `normalize.less` sets `[hidden] { display: none; }` but bootstrap.min.css set `[hidden] { display: none !important; }` so we also need the `!important` here to be able to override the default hidden behavior on the sphinx rendered scikit-learn.org. See: https://github.com/scikit-learn/scikit-learn/issues/21755 */display: inline-block !important;position: relative;}#sk-container-id-2 div.sk-text-repr-fallback {display: none;}</style><div id=\"sk-container-id-2\" class=\"sk-top-container\"><div class=\"sk-text-repr-fallback\"><pre>RandomForestClassifier(max_leaf_nodes=17, n_estimators=1000)</pre><b>In a Jupyter environment, please rerun this cell to show the HTML representation or trust the notebook. <br />On GitHub, the HTML representation is unable to render, please try loading this page with nbviewer.org.</b></div><div class=\"sk-container\" hidden><div class=\"sk-item\"><div class=\"sk-estimator sk-toggleable\"><input class=\"sk-toggleable__control sk-hidden--visually\" id=\"sk-estimator-id-2\" type=\"checkbox\" checked><label for=\"sk-estimator-id-2\" class=\"sk-toggleable__label sk-toggleable__label-arrow\">RandomForestClassifier</label><div class=\"sk-toggleable__content\"><pre>RandomForestClassifier(max_leaf_nodes=17, n_estimators=1000)</pre></div></div></div></div></div>"
      ],
      "text/plain": [
       "RandomForestClassifier(max_leaf_nodes=17, n_estimators=1000)"
      ]
     },
     "execution_count": 13,
     "metadata": {},
     "output_type": "execute_result"
    }
   ],
   "source": [
    "from sklearn.ensemble import RandomForestClassifier\n",
    "rand_clf=RandomForestClassifier(n_estimators=1000,max_leaf_nodes=17)\n",
    "rand_clf.fit(X_train,y_train)"
   ]
  },
  {
   "cell_type": "code",
   "execution_count": 14,
   "id": "42824704",
   "metadata": {
    "execution": {
     "iopub.execute_input": "2023-05-29T17:54:54.702929Z",
     "iopub.status.busy": "2023-05-29T17:54:54.702221Z",
     "iopub.status.idle": "2023-05-29T17:54:54.926092Z",
     "shell.execute_reply": "2023-05-29T17:54:54.925039Z"
    },
    "papermill": {
     "duration": 0.235816,
     "end_time": "2023-05-29T17:54:54.928538",
     "exception": false,
     "start_time": "2023-05-29T17:54:54.692722",
     "status": "completed"
    },
    "tags": []
   },
   "outputs": [
    {
     "data": {
      "text/plain": [
       "0.86"
      ]
     },
     "execution_count": 14,
     "metadata": {},
     "output_type": "execute_result"
    }
   ],
   "source": [
    "ypred2=rand_clf.predict(X_test)\n",
    "accuracy_score(y_test,ypred2)"
   ]
  }
 ],
 "metadata": {
  "kernelspec": {
   "display_name": "Python 3",
   "language": "python",
   "name": "python3"
  },
  "language_info": {
   "codemirror_mode": {
    "name": "ipython",
    "version": 3
   },
   "file_extension": ".py",
   "mimetype": "text/x-python",
   "name": "python",
   "nbconvert_exporter": "python",
   "pygments_lexer": "ipython3",
   "version": "3.10.10"
  },
  "papermill": {
   "default_parameters": {},
   "duration": 38.401,
   "end_time": "2023-05-29T17:54:57.557353",
   "environment_variables": {},
   "exception": null,
   "input_path": "__notebook__.ipynb",
   "output_path": "__notebook__.ipynb",
   "parameters": {},
   "start_time": "2023-05-29T17:54:19.156353",
   "version": "2.4.0"
  }
 },
 "nbformat": 4,
 "nbformat_minor": 5
}
