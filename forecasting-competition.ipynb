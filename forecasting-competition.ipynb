{
 "cells": [
  {
   "cell_type": "code",
   "execution_count": 1,
   "id": "8d415876",
   "metadata": {
    "_cell_guid": "b1076dfc-b9ad-4769-8c92-a6c4dae69d19",
    "_uuid": "8f2839f25d086af736a60e9eeb907d3b93b6e0e5",
    "execution": {
     "iopub.execute_input": "2023-07-18T17:43:50.704059Z",
     "iopub.status.busy": "2023-07-18T17:43:50.703644Z",
     "iopub.status.idle": "2023-07-18T17:44:00.456484Z",
     "shell.execute_reply": "2023-07-18T17:44:00.455484Z"
    },
    "papermill": {
     "duration": 9.763104,
     "end_time": "2023-07-18T17:44:00.459072",
     "exception": false,
     "start_time": "2023-07-18T17:43:50.695968",
     "status": "completed"
    },
    "tags": []
   },
   "outputs": [
    {
     "name": "stderr",
     "output_type": "stream",
     "text": [
      "/opt/conda/lib/python3.10/site-packages/scipy/__init__.py:146: UserWarning: A NumPy version >=1.16.5 and <1.23.0 is required for this version of SciPy (detected version 1.23.5\n",
      "  warnings.warn(f\"A NumPy version >={np_minversion} and <{np_maxversion}\"\n",
      "/opt/conda/lib/python3.10/site-packages/tensorflow_io/python/ops/__init__.py:98: UserWarning: unable to load libtensorflow_io_plugins.so: unable to open file: libtensorflow_io_plugins.so, from paths: ['/opt/conda/lib/python3.10/site-packages/tensorflow_io/python/ops/libtensorflow_io_plugins.so']\n",
      "caused by: ['/opt/conda/lib/python3.10/site-packages/tensorflow_io/python/ops/libtensorflow_io_plugins.so: undefined symbol: _ZN3tsl6StatusC1EN10tensorflow5error4CodeESt17basic_string_viewIcSt11char_traitsIcEENS_14SourceLocationE']\n",
      "  warnings.warn(f\"unable to load libtensorflow_io_plugins.so: {e}\")\n",
      "/opt/conda/lib/python3.10/site-packages/tensorflow_io/python/ops/__init__.py:104: UserWarning: file system plugins are not loaded: unable to open file: libtensorflow_io.so, from paths: ['/opt/conda/lib/python3.10/site-packages/tensorflow_io/python/ops/libtensorflow_io.so']\n",
      "caused by: ['/opt/conda/lib/python3.10/site-packages/tensorflow_io/python/ops/libtensorflow_io.so: undefined symbol: _ZTVN10tensorflow13GcsFileSystemE']\n",
      "  warnings.warn(f\"file system plugins are not loaded: {e}\")\n"
     ]
    }
   ],
   "source": [
    "import numpy as np\n",
    "import pandas as pd\n",
    "import os\n",
    "import tensorflow as tf\n",
    "import keras\n",
    "import datetime\n",
    "from tqdm import tqdm\n",
    "from sklearn.model_selection import TimeSeriesSplit"
   ]
  },
  {
   "cell_type": "code",
   "execution_count": 2,
   "id": "fd26e638",
   "metadata": {
    "execution": {
     "iopub.execute_input": "2023-07-18T17:44:00.473462Z",
     "iopub.status.busy": "2023-07-18T17:44:00.472621Z",
     "iopub.status.idle": "2023-07-18T17:44:00.477587Z",
     "shell.execute_reply": "2023-07-18T17:44:00.476492Z"
    },
    "papermill": {
     "duration": 0.014775,
     "end_time": "2023-07-18T17:44:00.480308",
     "exception": false,
     "start_time": "2023-07-18T17:44:00.465533",
     "status": "completed"
    },
    "tags": []
   },
   "outputs": [],
   "source": [
    "#This notebooks is a work in progress and incomplete."
   ]
  },
  {
   "cell_type": "code",
   "execution_count": 3,
   "id": "c0c4ec68",
   "metadata": {
    "execution": {
     "iopub.execute_input": "2023-07-18T17:44:00.492936Z",
     "iopub.status.busy": "2023-07-18T17:44:00.492534Z",
     "iopub.status.idle": "2023-07-18T17:44:00.841355Z",
     "shell.execute_reply": "2023-07-18T17:44:00.840408Z"
    },
    "papermill": {
     "duration": 0.358424,
     "end_time": "2023-07-18T17:44:00.844128",
     "exception": false,
     "start_time": "2023-07-18T17:44:00.485704",
     "status": "completed"
    },
    "tags": []
   },
   "outputs": [],
   "source": [
    "train=pd.read_csv(\"/kaggle/input/playground-series-s3e19/train.csv\",index_col='id')\n",
    "test=pd.read_csv(\"/kaggle/input/playground-series-s3e19/test.csv\",index_col='id')"
   ]
  },
  {
   "cell_type": "code",
   "execution_count": 4,
   "id": "da1ac762",
   "metadata": {
    "execution": {
     "iopub.execute_input": "2023-07-18T17:44:00.856320Z",
     "iopub.status.busy": "2023-07-18T17:44:00.855924Z",
     "iopub.status.idle": "2023-07-18T17:44:00.875299Z",
     "shell.execute_reply": "2023-07-18T17:44:00.874425Z"
    },
    "papermill": {
     "duration": 0.027817,
     "end_time": "2023-07-18T17:44:00.877442",
     "exception": false,
     "start_time": "2023-07-18T17:44:00.849625",
     "status": "completed"
    },
    "tags": []
   },
   "outputs": [
    {
     "data": {
      "text/html": [
       "<div>\n",
       "<style scoped>\n",
       "    .dataframe tbody tr th:only-of-type {\n",
       "        vertical-align: middle;\n",
       "    }\n",
       "\n",
       "    .dataframe tbody tr th {\n",
       "        vertical-align: top;\n",
       "    }\n",
       "\n",
       "    .dataframe thead th {\n",
       "        text-align: right;\n",
       "    }\n",
       "</style>\n",
       "<table border=\"1\" class=\"dataframe\">\n",
       "  <thead>\n",
       "    <tr style=\"text-align: right;\">\n",
       "      <th></th>\n",
       "      <th>date</th>\n",
       "      <th>country</th>\n",
       "      <th>store</th>\n",
       "      <th>product</th>\n",
       "      <th>num_sold</th>\n",
       "    </tr>\n",
       "    <tr>\n",
       "      <th>id</th>\n",
       "      <th></th>\n",
       "      <th></th>\n",
       "      <th></th>\n",
       "      <th></th>\n",
       "      <th></th>\n",
       "    </tr>\n",
       "  </thead>\n",
       "  <tbody>\n",
       "    <tr>\n",
       "      <th>0</th>\n",
       "      <td>2017-01-01</td>\n",
       "      <td>Argentina</td>\n",
       "      <td>Kaggle Learn</td>\n",
       "      <td>Using LLMs to Improve Your Coding</td>\n",
       "      <td>63</td>\n",
       "    </tr>\n",
       "    <tr>\n",
       "      <th>1</th>\n",
       "      <td>2017-01-01</td>\n",
       "      <td>Argentina</td>\n",
       "      <td>Kaggle Learn</td>\n",
       "      <td>Using LLMs to Train More LLMs</td>\n",
       "      <td>66</td>\n",
       "    </tr>\n",
       "    <tr>\n",
       "      <th>2</th>\n",
       "      <td>2017-01-01</td>\n",
       "      <td>Argentina</td>\n",
       "      <td>Kaggle Learn</td>\n",
       "      <td>Using LLMs to Win Friends and Influence People</td>\n",
       "      <td>9</td>\n",
       "    </tr>\n",
       "    <tr>\n",
       "      <th>3</th>\n",
       "      <td>2017-01-01</td>\n",
       "      <td>Argentina</td>\n",
       "      <td>Kaggle Learn</td>\n",
       "      <td>Using LLMs to Win More Kaggle Competitions</td>\n",
       "      <td>59</td>\n",
       "    </tr>\n",
       "    <tr>\n",
       "      <th>4</th>\n",
       "      <td>2017-01-01</td>\n",
       "      <td>Argentina</td>\n",
       "      <td>Kaggle Learn</td>\n",
       "      <td>Using LLMs to Write Better</td>\n",
       "      <td>49</td>\n",
       "    </tr>\n",
       "  </tbody>\n",
       "</table>\n",
       "</div>"
      ],
      "text/plain": [
       "          date    country         store  \\\n",
       "id                                        \n",
       "0   2017-01-01  Argentina  Kaggle Learn   \n",
       "1   2017-01-01  Argentina  Kaggle Learn   \n",
       "2   2017-01-01  Argentina  Kaggle Learn   \n",
       "3   2017-01-01  Argentina  Kaggle Learn   \n",
       "4   2017-01-01  Argentina  Kaggle Learn   \n",
       "\n",
       "                                           product  num_sold  \n",
       "id                                                            \n",
       "0                Using LLMs to Improve Your Coding        63  \n",
       "1                    Using LLMs to Train More LLMs        66  \n",
       "2   Using LLMs to Win Friends and Influence People         9  \n",
       "3       Using LLMs to Win More Kaggle Competitions        59  \n",
       "4                       Using LLMs to Write Better        49  "
      ]
     },
     "execution_count": 4,
     "metadata": {},
     "output_type": "execute_result"
    }
   ],
   "source": [
    "train.head()"
   ]
  },
  {
   "cell_type": "code",
   "execution_count": 5,
   "id": "80a39312",
   "metadata": {
    "execution": {
     "iopub.execute_input": "2023-07-18T17:44:00.890474Z",
     "iopub.status.busy": "2023-07-18T17:44:00.890101Z",
     "iopub.status.idle": "2023-07-18T17:44:00.940211Z",
     "shell.execute_reply": "2023-07-18T17:44:00.937947Z"
    },
    "papermill": {
     "duration": 0.060125,
     "end_time": "2023-07-18T17:44:00.943165",
     "exception": false,
     "start_time": "2023-07-18T17:44:00.883040",
     "status": "completed"
    },
    "tags": []
   },
   "outputs": [
    {
     "name": "stdout",
     "output_type": "stream",
     "text": [
      "country : ['Argentina' 'Canada' 'Estonia' 'Japan' 'Spain']\n",
      "store : ['Kaggle Learn' 'Kaggle Store' 'Kagglazon']\n",
      "product : ['Using LLMs to Improve Your Coding' 'Using LLMs to Train More LLMs'\n",
      " 'Using LLMs to Win Friends and Influence People'\n",
      " 'Using LLMs to Win More Kaggle Competitions' 'Using LLMs to Write Better']\n"
     ]
    }
   ],
   "source": [
    "cat_features=['country','store','product']\n",
    "for feature in cat_features:\n",
    "    print(feature,':',train[feature].unique())"
   ]
  },
  {
   "cell_type": "code",
   "execution_count": 6,
   "id": "b5b6c459",
   "metadata": {
    "execution": {
     "iopub.execute_input": "2023-07-18T17:44:00.956836Z",
     "iopub.status.busy": "2023-07-18T17:44:00.955973Z",
     "iopub.status.idle": "2023-07-18T17:44:01.147463Z",
     "shell.execute_reply": "2023-07-18T17:44:01.146091Z"
    },
    "papermill": {
     "duration": 0.200849,
     "end_time": "2023-07-18T17:44:01.149865",
     "exception": false,
     "start_time": "2023-07-18T17:44:00.949016",
     "status": "completed"
    },
    "tags": []
   },
   "outputs": [
    {
     "name": "stdout",
     "output_type": "stream",
     "text": [
      "<class 'pandas.core.frame.DataFrame'>\n",
      "Int64Index: 136950 entries, 0 to 136949\n",
      "Data columns (total 5 columns):\n",
      " #   Column    Non-Null Count   Dtype \n",
      "---  ------    --------------   ----- \n",
      " 0   date      136950 non-null  object\n",
      " 1   country   136950 non-null  object\n",
      " 2   store     136950 non-null  object\n",
      " 3   product   136950 non-null  object\n",
      " 4   num_sold  136950 non-null  int64 \n",
      "dtypes: int64(1), object(4)\n",
      "memory usage: 6.3+ MB\n"
     ]
    }
   ],
   "source": [
    "train.info()"
   ]
  },
  {
   "cell_type": "code",
   "execution_count": 7,
   "id": "4cb9057a",
   "metadata": {
    "execution": {
     "iopub.execute_input": "2023-07-18T17:44:01.163446Z",
     "iopub.status.busy": "2023-07-18T17:44:01.163039Z",
     "iopub.status.idle": "2023-07-18T17:44:01.172342Z",
     "shell.execute_reply": "2023-07-18T17:44:01.171075Z"
    },
    "papermill": {
     "duration": 0.018993,
     "end_time": "2023-07-18T17:44:01.174767",
     "exception": false,
     "start_time": "2023-07-18T17:44:01.155774",
     "status": "completed"
    },
    "tags": []
   },
   "outputs": [],
   "source": [
    "def data_encoding(dataset):\n",
    "    cat_features=['country','store','product']\n",
    "    for feature in tqdm(cat_features):\n",
    "        dictionary={}\n",
    "        n=1\n",
    "        print('feature:',feature)\n",
    "        print('categories:',dataset[feature].unique())\n",
    "        for sub_cat in dataset[feature].unique():\n",
    "            dictionary[sub_cat]=n\n",
    "            n+=1\n",
    "        print('encoding rule:',dictionary)\n",
    "        dataset[feature]=dataset[feature].map(dictionary)\n",
    "        dummies=pd.get_dummies(dataset[feature],prefix=feature)\n",
    "        for key in dummies:\n",
    "            dataset[key]=dummies[key]\n",
    "        dataset=dataset.drop(feature,axis=1)\n",
    "    dataset['date']=pd.to_datetime(dataset['date'],format='%Y-%m-%d')\n",
    "    print(\"Dates converted to datetime64 format\")\n",
    "    return dataset"
   ]
  },
  {
   "cell_type": "code",
   "execution_count": 8,
   "id": "54849ab6",
   "metadata": {
    "execution": {
     "iopub.execute_input": "2023-07-18T17:44:01.189821Z",
     "iopub.status.busy": "2023-07-18T17:44:01.189447Z",
     "iopub.status.idle": "2023-07-18T17:44:01.483748Z",
     "shell.execute_reply": "2023-07-18T17:44:01.482189Z"
    },
    "papermill": {
     "duration": 0.304442,
     "end_time": "2023-07-18T17:44:01.486670",
     "exception": false,
     "start_time": "2023-07-18T17:44:01.182228",
     "status": "completed"
    },
    "tags": []
   },
   "outputs": [
    {
     "name": "stderr",
     "output_type": "stream",
     "text": [
      " 67%|██████▋   | 2/3 [00:00<00:00, 16.25it/s]"
     ]
    },
    {
     "name": "stdout",
     "output_type": "stream",
     "text": [
      "feature: country\n",
      "categories: ['Argentina' 'Canada' 'Estonia' 'Japan' 'Spain']\n",
      "encoding rule: {'Argentina': 1, 'Canada': 2, 'Estonia': 3, 'Japan': 4, 'Spain': 5}\n",
      "feature: store\n",
      "categories: ['Kaggle Learn' 'Kaggle Store' 'Kagglazon']\n",
      "encoding rule: {'Kaggle Learn': 1, 'Kaggle Store': 2, 'Kagglazon': 3}\n",
      "feature: product\n",
      "categories: ['Using LLMs to Improve Your Coding' 'Using LLMs to Train More LLMs'\n",
      " 'Using LLMs to Win Friends and Influence People'\n",
      " 'Using LLMs to Win More Kaggle Competitions' 'Using LLMs to Write Better']\n"
     ]
    },
    {
     "name": "stderr",
     "output_type": "stream",
     "text": [
      "100%|██████████| 3/3 [00:00<00:00, 15.32it/s]\n"
     ]
    },
    {
     "name": "stdout",
     "output_type": "stream",
     "text": [
      "encoding rule: {'Using LLMs to Improve Your Coding': 1, 'Using LLMs to Train More LLMs': 2, 'Using LLMs to Win Friends and Influence People': 3, 'Using LLMs to Win More Kaggle Competitions': 4, 'Using LLMs to Write Better': 5}\n",
      "Dates converted to datetime64 format\n"
     ]
    },
    {
     "name": "stderr",
     "output_type": "stream",
     "text": [
      "100%|██████████| 3/3 [00:00<00:00, 60.86it/s]"
     ]
    },
    {
     "name": "stdout",
     "output_type": "stream",
     "text": [
      "feature: country\n",
      "categories: ['Argentina' 'Canada' 'Estonia' 'Japan' 'Spain']\n",
      "encoding rule: {'Argentina': 1, 'Canada': 2, 'Estonia': 3, 'Japan': 4, 'Spain': 5}\n",
      "feature: store\n",
      "categories: ['Kaggle Learn' 'Kaggle Store' 'Kagglazon']\n",
      "encoding rule: {'Kaggle Learn': 1, 'Kaggle Store': 2, 'Kagglazon': 3}\n",
      "feature: product\n",
      "categories: ['Using LLMs to Improve Your Coding' 'Using LLMs to Train More LLMs'\n",
      " 'Using LLMs to Win Friends and Influence People'\n",
      " 'Using LLMs to Win More Kaggle Competitions' 'Using LLMs to Write Better']\n",
      "encoding rule: {'Using LLMs to Improve Your Coding': 1, 'Using LLMs to Train More LLMs': 2, 'Using LLMs to Win Friends and Influence People': 3, 'Using LLMs to Win More Kaggle Competitions': 4, 'Using LLMs to Write Better': 5}\n",
      "Dates converted to datetime64 format\n"
     ]
    },
    {
     "name": "stderr",
     "output_type": "stream",
     "text": [
      "\n"
     ]
    }
   ],
   "source": [
    "train=data_encoding(train)\n",
    "test=data_encoding(test)"
   ]
  },
  {
   "cell_type": "code",
   "execution_count": 9,
   "id": "36feeefa",
   "metadata": {
    "execution": {
     "iopub.execute_input": "2023-07-18T17:44:01.502495Z",
     "iopub.status.busy": "2023-07-18T17:44:01.502080Z",
     "iopub.status.idle": "2023-07-18T17:44:01.519950Z",
     "shell.execute_reply": "2023-07-18T17:44:01.518509Z"
    },
    "papermill": {
     "duration": 0.029449,
     "end_time": "2023-07-18T17:44:01.523114",
     "exception": false,
     "start_time": "2023-07-18T17:44:01.493665",
     "status": "completed"
    },
    "tags": []
   },
   "outputs": [
    {
     "data": {
      "text/html": [
       "<div>\n",
       "<style scoped>\n",
       "    .dataframe tbody tr th:only-of-type {\n",
       "        vertical-align: middle;\n",
       "    }\n",
       "\n",
       "    .dataframe tbody tr th {\n",
       "        vertical-align: top;\n",
       "    }\n",
       "\n",
       "    .dataframe thead th {\n",
       "        text-align: right;\n",
       "    }\n",
       "</style>\n",
       "<table border=\"1\" class=\"dataframe\">\n",
       "  <thead>\n",
       "    <tr style=\"text-align: right;\">\n",
       "      <th></th>\n",
       "      <th>date</th>\n",
       "      <th>num_sold</th>\n",
       "      <th>country_1</th>\n",
       "      <th>country_2</th>\n",
       "      <th>country_3</th>\n",
       "      <th>country_4</th>\n",
       "      <th>country_5</th>\n",
       "      <th>store_1</th>\n",
       "      <th>store_2</th>\n",
       "      <th>store_3</th>\n",
       "      <th>product_1</th>\n",
       "      <th>product_2</th>\n",
       "      <th>product_3</th>\n",
       "      <th>product_4</th>\n",
       "      <th>product_5</th>\n",
       "    </tr>\n",
       "    <tr>\n",
       "      <th>id</th>\n",
       "      <th></th>\n",
       "      <th></th>\n",
       "      <th></th>\n",
       "      <th></th>\n",
       "      <th></th>\n",
       "      <th></th>\n",
       "      <th></th>\n",
       "      <th></th>\n",
       "      <th></th>\n",
       "      <th></th>\n",
       "      <th></th>\n",
       "      <th></th>\n",
       "      <th></th>\n",
       "      <th></th>\n",
       "      <th></th>\n",
       "    </tr>\n",
       "  </thead>\n",
       "  <tbody>\n",
       "    <tr>\n",
       "      <th>0</th>\n",
       "      <td>2017-01-01</td>\n",
       "      <td>63</td>\n",
       "      <td>1</td>\n",
       "      <td>0</td>\n",
       "      <td>0</td>\n",
       "      <td>0</td>\n",
       "      <td>0</td>\n",
       "      <td>1</td>\n",
       "      <td>0</td>\n",
       "      <td>0</td>\n",
       "      <td>1</td>\n",
       "      <td>0</td>\n",
       "      <td>0</td>\n",
       "      <td>0</td>\n",
       "      <td>0</td>\n",
       "    </tr>\n",
       "    <tr>\n",
       "      <th>1</th>\n",
       "      <td>2017-01-01</td>\n",
       "      <td>66</td>\n",
       "      <td>1</td>\n",
       "      <td>0</td>\n",
       "      <td>0</td>\n",
       "      <td>0</td>\n",
       "      <td>0</td>\n",
       "      <td>1</td>\n",
       "      <td>0</td>\n",
       "      <td>0</td>\n",
       "      <td>0</td>\n",
       "      <td>1</td>\n",
       "      <td>0</td>\n",
       "      <td>0</td>\n",
       "      <td>0</td>\n",
       "    </tr>\n",
       "    <tr>\n",
       "      <th>2</th>\n",
       "      <td>2017-01-01</td>\n",
       "      <td>9</td>\n",
       "      <td>1</td>\n",
       "      <td>0</td>\n",
       "      <td>0</td>\n",
       "      <td>0</td>\n",
       "      <td>0</td>\n",
       "      <td>1</td>\n",
       "      <td>0</td>\n",
       "      <td>0</td>\n",
       "      <td>0</td>\n",
       "      <td>0</td>\n",
       "      <td>1</td>\n",
       "      <td>0</td>\n",
       "      <td>0</td>\n",
       "    </tr>\n",
       "    <tr>\n",
       "      <th>3</th>\n",
       "      <td>2017-01-01</td>\n",
       "      <td>59</td>\n",
       "      <td>1</td>\n",
       "      <td>0</td>\n",
       "      <td>0</td>\n",
       "      <td>0</td>\n",
       "      <td>0</td>\n",
       "      <td>1</td>\n",
       "      <td>0</td>\n",
       "      <td>0</td>\n",
       "      <td>0</td>\n",
       "      <td>0</td>\n",
       "      <td>0</td>\n",
       "      <td>1</td>\n",
       "      <td>0</td>\n",
       "    </tr>\n",
       "    <tr>\n",
       "      <th>4</th>\n",
       "      <td>2017-01-01</td>\n",
       "      <td>49</td>\n",
       "      <td>1</td>\n",
       "      <td>0</td>\n",
       "      <td>0</td>\n",
       "      <td>0</td>\n",
       "      <td>0</td>\n",
       "      <td>1</td>\n",
       "      <td>0</td>\n",
       "      <td>0</td>\n",
       "      <td>0</td>\n",
       "      <td>0</td>\n",
       "      <td>0</td>\n",
       "      <td>0</td>\n",
       "      <td>1</td>\n",
       "    </tr>\n",
       "  </tbody>\n",
       "</table>\n",
       "</div>"
      ],
      "text/plain": [
       "         date  num_sold  country_1  country_2  country_3  country_4  \\\n",
       "id                                                                    \n",
       "0  2017-01-01        63          1          0          0          0   \n",
       "1  2017-01-01        66          1          0          0          0   \n",
       "2  2017-01-01         9          1          0          0          0   \n",
       "3  2017-01-01        59          1          0          0          0   \n",
       "4  2017-01-01        49          1          0          0          0   \n",
       "\n",
       "    country_5  store_1  store_2  store_3  product_1  product_2  product_3  \\\n",
       "id                                                                          \n",
       "0           0        1        0        0          1          0          0   \n",
       "1           0        1        0        0          0          1          0   \n",
       "2           0        1        0        0          0          0          1   \n",
       "3           0        1        0        0          0          0          0   \n",
       "4           0        1        0        0          0          0          0   \n",
       "\n",
       "    product_4  product_5  \n",
       "id                        \n",
       "0           0          0  \n",
       "1           0          0  \n",
       "2           0          0  \n",
       "3           1          0  \n",
       "4           0          1  "
      ]
     },
     "execution_count": 9,
     "metadata": {},
     "output_type": "execute_result"
    }
   ],
   "source": [
    "train.head()"
   ]
  },
  {
   "cell_type": "code",
   "execution_count": 10,
   "id": "9ef64bc8",
   "metadata": {
    "execution": {
     "iopub.execute_input": "2023-07-18T17:44:01.540221Z",
     "iopub.status.busy": "2023-07-18T17:44:01.539793Z",
     "iopub.status.idle": "2023-07-18T17:44:01.558871Z",
     "shell.execute_reply": "2023-07-18T17:44:01.557529Z"
    },
    "papermill": {
     "duration": 0.030275,
     "end_time": "2023-07-18T17:44:01.561351",
     "exception": false,
     "start_time": "2023-07-18T17:44:01.531076",
     "status": "completed"
    },
    "tags": []
   },
   "outputs": [
    {
     "name": "stdout",
     "output_type": "stream",
     "text": [
      "<class 'pandas.core.frame.DataFrame'>\n",
      "Int64Index: 136950 entries, 0 to 136949\n",
      "Data columns (total 15 columns):\n",
      " #   Column     Non-Null Count   Dtype         \n",
      "---  ------     --------------   -----         \n",
      " 0   date       136950 non-null  datetime64[ns]\n",
      " 1   num_sold   136950 non-null  int64         \n",
      " 2   country_1  136950 non-null  uint8         \n",
      " 3   country_2  136950 non-null  uint8         \n",
      " 4   country_3  136950 non-null  uint8         \n",
      " 5   country_4  136950 non-null  uint8         \n",
      " 6   country_5  136950 non-null  uint8         \n",
      " 7   store_1    136950 non-null  uint8         \n",
      " 8   store_2    136950 non-null  uint8         \n",
      " 9   store_3    136950 non-null  uint8         \n",
      " 10  product_1  136950 non-null  uint8         \n",
      " 11  product_2  136950 non-null  uint8         \n",
      " 12  product_3  136950 non-null  uint8         \n",
      " 13  product_4  136950 non-null  uint8         \n",
      " 14  product_5  136950 non-null  uint8         \n",
      "dtypes: datetime64[ns](1), int64(1), uint8(13)\n",
      "memory usage: 4.8 MB\n"
     ]
    }
   ],
   "source": [
    "train.info()"
   ]
  },
  {
   "cell_type": "code",
   "execution_count": 11,
   "id": "1121f2cc",
   "metadata": {
    "execution": {
     "iopub.execute_input": "2023-07-18T17:44:01.577949Z",
     "iopub.status.busy": "2023-07-18T17:44:01.577552Z",
     "iopub.status.idle": "2023-07-18T17:44:01.591618Z",
     "shell.execute_reply": "2023-07-18T17:44:01.590399Z"
    },
    "papermill": {
     "duration": 0.025397,
     "end_time": "2023-07-18T17:44:01.594190",
     "exception": false,
     "start_time": "2023-07-18T17:44:01.568793",
     "status": "completed"
    },
    "tags": []
   },
   "outputs": [],
   "source": [
    "def datetime_features(df_temp):\n",
    "    \"\"\"\n",
    "ref:-https://www.kaggle.com/code/chingiznurzhanov/timeseriessplit-catboost-trick\n",
    "    \"\"\"\n",
    "    df_temp['month'] = df_temp['date'].dt.month\n",
    "    df_temp['day'] = df_temp['date'].dt.day\n",
    "    df_temp['year'] = df_temp['date'].dt.year\n",
    "    df_temp['dayofweek'] = df_temp['date'].dt.dayofweek\n",
    "    df_temp['quarter'] = df_temp['date'].dt.quarter\n",
    "    df_temp['dayofmonth'] = df_temp['date'].dt.day\n",
    "    df_temp['weekofyear'] = df_temp['date'].dt.weekofyear\n",
    "    df_temp['is_month_start'] = df_temp.date.dt.is_month_start.astype(np.int8)\n",
    "    df_temp['is_month_end'] = df_temp.date.dt.is_month_end.astype(np.int8)\n",
    "    df_temp['monday'] = df_temp.date.dt.weekday.eq(0).astype(np.uint8)\n",
    "    df_temp['tuesday'] = df_temp.date.dt.weekday.eq(1).astype(np.uint8)\n",
    "    df_temp['wednesday'] = df_temp.date.dt.weekday.eq(2).astype(np.uint8)\n",
    "    df_temp['thursday'] = df_temp.date.dt.weekday.eq(3).astype(np.uint8)\n",
    "    df_temp['friday'] = df_temp.date.dt.weekday.eq(4).astype(np.uint8)\n",
    "    df_temp['saturday'] = df_temp.date.dt.weekday.eq(5).astype(np.uint8)\n",
    "    df_temp['sunday'] = df_temp.date.dt.weekday.eq(6).astype(np.uint8)\n",
    "    df_temp['is_quarter_end'] = df_temp['date'].dt.is_quarter_end\n",
    "    df_temp['is_quarter_start'] = df_temp['date'].dt.is_quarter_start\n",
    "    df_temp['is_year_end'] = df_temp['date'].dt.is_year_end\n",
    "    df_temp['is_year_start'] = df_temp['date'].dt.is_year_start\n",
    "    return df_temp"
   ]
  },
  {
   "cell_type": "code",
   "execution_count": 12,
   "id": "4dc24011",
   "metadata": {
    "execution": {
     "iopub.execute_input": "2023-07-18T17:44:01.611889Z",
     "iopub.status.busy": "2023-07-18T17:44:01.610936Z",
     "iopub.status.idle": "2023-07-18T17:44:01.616784Z",
     "shell.execute_reply": "2023-07-18T17:44:01.615707Z"
    },
    "papermill": {
     "duration": 0.017321,
     "end_time": "2023-07-18T17:44:01.619195",
     "exception": false,
     "start_time": "2023-07-18T17:44:01.601874",
     "status": "completed"
    },
    "tags": []
   },
   "outputs": [],
   "source": [
    "#splitting into training and validation sets\n",
    "val=train[round(0.7*len(train)):]\n",
    "train=train[:round(0.7*len(train))]"
   ]
  },
  {
   "cell_type": "code",
   "execution_count": 13,
   "id": "6de6b426",
   "metadata": {
    "execution": {
     "iopub.execute_input": "2023-07-18T17:44:01.636300Z",
     "iopub.status.busy": "2023-07-18T17:44:01.635881Z",
     "iopub.status.idle": "2023-07-18T17:44:01.640204Z",
     "shell.execute_reply": "2023-07-18T17:44:01.639106Z"
    },
    "papermill": {
     "duration": 0.015355,
     "end_time": "2023-07-18T17:44:01.642330",
     "exception": false,
     "start_time": "2023-07-18T17:44:01.626975",
     "status": "completed"
    },
    "tags": []
   },
   "outputs": [],
   "source": [
    "#tf.convert_to_tensor(train)"
   ]
  },
  {
   "cell_type": "code",
   "execution_count": null,
   "id": "8f86d8c8",
   "metadata": {
    "papermill": {
     "duration": 0.009226,
     "end_time": "2023-07-18T17:44:01.658975",
     "exception": false,
     "start_time": "2023-07-18T17:44:01.649749",
     "status": "completed"
    },
    "tags": []
   },
   "outputs": [],
   "source": []
  }
 ],
 "metadata": {
  "kernelspec": {
   "display_name": "Python 3",
   "language": "python",
   "name": "python3"
  },
  "language_info": {
   "codemirror_mode": {
    "name": "ipython",
    "version": 3
   },
   "file_extension": ".py",
   "mimetype": "text/x-python",
   "name": "python",
   "nbconvert_exporter": "python",
   "pygments_lexer": "ipython3",
   "version": "3.10.12"
  },
  "papermill": {
   "default_parameters": {},
   "duration": 24.687895,
   "end_time": "2023-07-18T17:44:04.439337",
   "environment_variables": {},
   "exception": null,
   "input_path": "__notebook__.ipynb",
   "output_path": "__notebook__.ipynb",
   "parameters": {},
   "start_time": "2023-07-18T17:43:39.751442",
   "version": "2.4.0"
  }
 },
 "nbformat": 4,
 "nbformat_minor": 5
}
