{
 "cells": [
  {
   "cell_type": "code",
   "execution_count": 1,
   "id": "4dec7b1d",
   "metadata": {
    "_cell_guid": "b1076dfc-b9ad-4769-8c92-a6c4dae69d19",
    "_uuid": "8f2839f25d086af736a60e9eeb907d3b93b6e0e5",
    "execution": {
     "iopub.execute_input": "2023-07-20T17:35:48.907099Z",
     "iopub.status.busy": "2023-07-20T17:35:48.906720Z",
     "iopub.status.idle": "2023-07-20T17:36:00.660309Z",
     "shell.execute_reply": "2023-07-20T17:36:00.658630Z"
    },
    "papermill": {
     "duration": 11.765565,
     "end_time": "2023-07-20T17:36:00.663337",
     "exception": false,
     "start_time": "2023-07-20T17:35:48.897772",
     "status": "completed"
    },
    "tags": []
   },
   "outputs": [
    {
     "name": "stderr",
     "output_type": "stream",
     "text": [
      "/opt/conda/lib/python3.10/site-packages/scipy/__init__.py:146: UserWarning: A NumPy version >=1.16.5 and <1.23.0 is required for this version of SciPy (detected version 1.23.5\n",
      "  warnings.warn(f\"A NumPy version >={np_minversion} and <{np_maxversion}\"\n",
      "/opt/conda/lib/python3.10/site-packages/tensorflow_io/python/ops/__init__.py:98: UserWarning: unable to load libtensorflow_io_plugins.so: unable to open file: libtensorflow_io_plugins.so, from paths: ['/opt/conda/lib/python3.10/site-packages/tensorflow_io/python/ops/libtensorflow_io_plugins.so']\n",
      "caused by: ['/opt/conda/lib/python3.10/site-packages/tensorflow_io/python/ops/libtensorflow_io_plugins.so: undefined symbol: _ZN3tsl6StatusC1EN10tensorflow5error4CodeESt17basic_string_viewIcSt11char_traitsIcEENS_14SourceLocationE']\n",
      "  warnings.warn(f\"unable to load libtensorflow_io_plugins.so: {e}\")\n",
      "/opt/conda/lib/python3.10/site-packages/tensorflow_io/python/ops/__init__.py:104: UserWarning: file system plugins are not loaded: unable to open file: libtensorflow_io.so, from paths: ['/opt/conda/lib/python3.10/site-packages/tensorflow_io/python/ops/libtensorflow_io.so']\n",
      "caused by: ['/opt/conda/lib/python3.10/site-packages/tensorflow_io/python/ops/libtensorflow_io.so: undefined symbol: _ZTVN10tensorflow13GcsFileSystemE']\n",
      "  warnings.warn(f\"file system plugins are not loaded: {e}\")\n"
     ]
    }
   ],
   "source": [
    "import numpy as np\n",
    "import pandas as pd\n",
    "import os\n",
    "import tensorflow as tf\n",
    "import keras\n",
    "import datetime\n",
    "from tqdm import tqdm\n",
    "from sklearn.model_selection import TimeSeriesSplit\n",
    "from catboost import CatBoostRegressor\n",
    "import matplotlib.pyplot as plt"
   ]
  },
  {
   "cell_type": "code",
   "execution_count": 2,
   "id": "7498db0f",
   "metadata": {
    "execution": {
     "iopub.execute_input": "2023-07-20T17:36:00.680687Z",
     "iopub.status.busy": "2023-07-20T17:36:00.679409Z",
     "iopub.status.idle": "2023-07-20T17:36:00.687038Z",
     "shell.execute_reply": "2023-07-20T17:36:00.685501Z"
    },
    "papermill": {
     "duration": 0.019969,
     "end_time": "2023-07-20T17:36:00.690464",
     "exception": false,
     "start_time": "2023-07-20T17:36:00.670495",
     "status": "completed"
    },
    "tags": []
   },
   "outputs": [],
   "source": [
    "#This notebooks is a work in progress and incomplete."
   ]
  },
  {
   "cell_type": "code",
   "execution_count": 3,
   "id": "e85524d6",
   "metadata": {
    "execution": {
     "iopub.execute_input": "2023-07-20T17:36:00.708777Z",
     "iopub.status.busy": "2023-07-20T17:36:00.708011Z",
     "iopub.status.idle": "2023-07-20T17:36:01.128273Z",
     "shell.execute_reply": "2023-07-20T17:36:01.126856Z"
    },
    "papermill": {
     "duration": 0.433274,
     "end_time": "2023-07-20T17:36:01.131373",
     "exception": false,
     "start_time": "2023-07-20T17:36:00.698099",
     "status": "completed"
    },
    "tags": []
   },
   "outputs": [],
   "source": [
    "train=pd.read_csv(\"/kaggle/input/playground-series-s3e19/train.csv\",index_col='id')\n",
    "test=pd.read_csv(\"/kaggle/input/playground-series-s3e19/test.csv\",index_col='id')"
   ]
  },
  {
   "cell_type": "code",
   "execution_count": 4,
   "id": "213d5150",
   "metadata": {
    "execution": {
     "iopub.execute_input": "2023-07-20T17:36:01.147458Z",
     "iopub.status.busy": "2023-07-20T17:36:01.147071Z",
     "iopub.status.idle": "2023-07-20T17:36:01.168675Z",
     "shell.execute_reply": "2023-07-20T17:36:01.167467Z"
    },
    "papermill": {
     "duration": 0.032809,
     "end_time": "2023-07-20T17:36:01.171320",
     "exception": false,
     "start_time": "2023-07-20T17:36:01.138511",
     "status": "completed"
    },
    "tags": []
   },
   "outputs": [
    {
     "data": {
      "text/html": [
       "<div>\n",
       "<style scoped>\n",
       "    .dataframe tbody tr th:only-of-type {\n",
       "        vertical-align: middle;\n",
       "    }\n",
       "\n",
       "    .dataframe tbody tr th {\n",
       "        vertical-align: top;\n",
       "    }\n",
       "\n",
       "    .dataframe thead th {\n",
       "        text-align: right;\n",
       "    }\n",
       "</style>\n",
       "<table border=\"1\" class=\"dataframe\">\n",
       "  <thead>\n",
       "    <tr style=\"text-align: right;\">\n",
       "      <th></th>\n",
       "      <th>date</th>\n",
       "      <th>country</th>\n",
       "      <th>store</th>\n",
       "      <th>product</th>\n",
       "      <th>num_sold</th>\n",
       "    </tr>\n",
       "    <tr>\n",
       "      <th>id</th>\n",
       "      <th></th>\n",
       "      <th></th>\n",
       "      <th></th>\n",
       "      <th></th>\n",
       "      <th></th>\n",
       "    </tr>\n",
       "  </thead>\n",
       "  <tbody>\n",
       "    <tr>\n",
       "      <th>0</th>\n",
       "      <td>2017-01-01</td>\n",
       "      <td>Argentina</td>\n",
       "      <td>Kaggle Learn</td>\n",
       "      <td>Using LLMs to Improve Your Coding</td>\n",
       "      <td>63</td>\n",
       "    </tr>\n",
       "    <tr>\n",
       "      <th>1</th>\n",
       "      <td>2017-01-01</td>\n",
       "      <td>Argentina</td>\n",
       "      <td>Kaggle Learn</td>\n",
       "      <td>Using LLMs to Train More LLMs</td>\n",
       "      <td>66</td>\n",
       "    </tr>\n",
       "    <tr>\n",
       "      <th>2</th>\n",
       "      <td>2017-01-01</td>\n",
       "      <td>Argentina</td>\n",
       "      <td>Kaggle Learn</td>\n",
       "      <td>Using LLMs to Win Friends and Influence People</td>\n",
       "      <td>9</td>\n",
       "    </tr>\n",
       "    <tr>\n",
       "      <th>3</th>\n",
       "      <td>2017-01-01</td>\n",
       "      <td>Argentina</td>\n",
       "      <td>Kaggle Learn</td>\n",
       "      <td>Using LLMs to Win More Kaggle Competitions</td>\n",
       "      <td>59</td>\n",
       "    </tr>\n",
       "    <tr>\n",
       "      <th>4</th>\n",
       "      <td>2017-01-01</td>\n",
       "      <td>Argentina</td>\n",
       "      <td>Kaggle Learn</td>\n",
       "      <td>Using LLMs to Write Better</td>\n",
       "      <td>49</td>\n",
       "    </tr>\n",
       "  </tbody>\n",
       "</table>\n",
       "</div>"
      ],
      "text/plain": [
       "          date    country         store  \\\n",
       "id                                        \n",
       "0   2017-01-01  Argentina  Kaggle Learn   \n",
       "1   2017-01-01  Argentina  Kaggle Learn   \n",
       "2   2017-01-01  Argentina  Kaggle Learn   \n",
       "3   2017-01-01  Argentina  Kaggle Learn   \n",
       "4   2017-01-01  Argentina  Kaggle Learn   \n",
       "\n",
       "                                           product  num_sold  \n",
       "id                                                            \n",
       "0                Using LLMs to Improve Your Coding        63  \n",
       "1                    Using LLMs to Train More LLMs        66  \n",
       "2   Using LLMs to Win Friends and Influence People         9  \n",
       "3       Using LLMs to Win More Kaggle Competitions        59  \n",
       "4                       Using LLMs to Write Better        49  "
      ]
     },
     "execution_count": 4,
     "metadata": {},
     "output_type": "execute_result"
    }
   ],
   "source": [
    "train.head()"
   ]
  },
  {
   "cell_type": "code",
   "execution_count": 5,
   "id": "2c49eabc",
   "metadata": {
    "execution": {
     "iopub.execute_input": "2023-07-20T17:36:01.188637Z",
     "iopub.status.busy": "2023-07-20T17:36:01.187351Z",
     "iopub.status.idle": "2023-07-20T17:36:01.209536Z",
     "shell.execute_reply": "2023-07-20T17:36:01.208188Z"
    },
    "papermill": {
     "duration": 0.033826,
     "end_time": "2023-07-20T17:36:01.212428",
     "exception": false,
     "start_time": "2023-07-20T17:36:01.178602",
     "status": "completed"
    },
    "tags": []
   },
   "outputs": [
    {
     "data": {
      "text/plain": [
       "1826"
      ]
     },
     "execution_count": 5,
     "metadata": {},
     "output_type": "execute_result"
    }
   ],
   "source": [
    "len(train['date'].unique())"
   ]
  },
  {
   "cell_type": "code",
   "execution_count": 6,
   "id": "be0d6893",
   "metadata": {
    "execution": {
     "iopub.execute_input": "2023-07-20T17:36:01.230777Z",
     "iopub.status.busy": "2023-07-20T17:36:01.230361Z",
     "iopub.status.idle": "2023-07-20T17:36:01.280437Z",
     "shell.execute_reply": "2023-07-20T17:36:01.278086Z"
    },
    "papermill": {
     "duration": 0.062678,
     "end_time": "2023-07-20T17:36:01.284138",
     "exception": false,
     "start_time": "2023-07-20T17:36:01.221460",
     "status": "completed"
    },
    "tags": []
   },
   "outputs": [
    {
     "name": "stdout",
     "output_type": "stream",
     "text": [
      "country : ['Argentina' 'Canada' 'Estonia' 'Japan' 'Spain']\n",
      "store : ['Kaggle Learn' 'Kaggle Store' 'Kagglazon']\n",
      "product : ['Using LLMs to Improve Your Coding' 'Using LLMs to Train More LLMs'\n",
      " 'Using LLMs to Win Friends and Influence People'\n",
      " 'Using LLMs to Win More Kaggle Competitions' 'Using LLMs to Write Better']\n"
     ]
    }
   ],
   "source": [
    "cat_features=['country','store','product']\n",
    "for feature in cat_features:\n",
    "    print(feature,':',train[feature].unique())"
   ]
  },
  {
   "cell_type": "code",
   "execution_count": 7,
   "id": "10bdb99d",
   "metadata": {
    "execution": {
     "iopub.execute_input": "2023-07-20T17:36:01.306311Z",
     "iopub.status.busy": "2023-07-20T17:36:01.305916Z",
     "iopub.status.idle": "2023-07-20T17:36:01.509538Z",
     "shell.execute_reply": "2023-07-20T17:36:01.507853Z"
    },
    "papermill": {
     "duration": 0.22033,
     "end_time": "2023-07-20T17:36:01.513195",
     "exception": false,
     "start_time": "2023-07-20T17:36:01.292865",
     "status": "completed"
    },
    "tags": []
   },
   "outputs": [
    {
     "name": "stdout",
     "output_type": "stream",
     "text": [
      "<class 'pandas.core.frame.DataFrame'>\n",
      "Int64Index: 136950 entries, 0 to 136949\n",
      "Data columns (total 5 columns):\n",
      " #   Column    Non-Null Count   Dtype \n",
      "---  ------    --------------   ----- \n",
      " 0   date      136950 non-null  object\n",
      " 1   country   136950 non-null  object\n",
      " 2   store     136950 non-null  object\n",
      " 3   product   136950 non-null  object\n",
      " 4   num_sold  136950 non-null  int64 \n",
      "dtypes: int64(1), object(4)\n",
      "memory usage: 6.3+ MB\n"
     ]
    }
   ],
   "source": [
    "train.info()"
   ]
  },
  {
   "cell_type": "code",
   "execution_count": 8,
   "id": "24adeef3",
   "metadata": {
    "execution": {
     "iopub.execute_input": "2023-07-20T17:36:01.531742Z",
     "iopub.status.busy": "2023-07-20T17:36:01.531197Z",
     "iopub.status.idle": "2023-07-20T17:36:01.548072Z",
     "shell.execute_reply": "2023-07-20T17:36:01.546437Z"
    },
    "papermill": {
     "duration": 0.029477,
     "end_time": "2023-07-20T17:36:01.550917",
     "exception": false,
     "start_time": "2023-07-20T17:36:01.521440",
     "status": "completed"
    },
    "tags": []
   },
   "outputs": [],
   "source": [
    "def datetime_features(df_temp):\n",
    "    \"\"\"\n",
    "ref:-https://www.kaggle.com/code/chingiznurzhanov/timeseriessplit-catboost-trick\n",
    "    \"\"\"\n",
    "    df_temp['month'] = df_temp['date'].dt.month\n",
    "    df_temp['day'] = df_temp['date'].dt.day\n",
    "    df_temp['year'] = df_temp['date'].dt.year\n",
    "    df_temp['dayofweek'] = df_temp['date'].dt.dayofweek\n",
    "    df_temp['quarter'] = df_temp['date'].dt.quarter\n",
    "    df_temp['dayofmonth'] = df_temp['date'].dt.day\n",
    "    #df_temp['weekofyear'] = df_temp['date'].dt.weekofyear\n",
    "    df_temp['weekofyear'] = df_temp['date'].dt.isocalendar().week.astype(np.int64)\n",
    "    df_temp['is_month_start'] = df_temp.date.dt.is_month_start.astype(np.int8)\n",
    "    df_temp['is_month_end'] = df_temp.date.dt.is_month_end.astype(np.int8)\n",
    "    df_temp['monday'] = df_temp.date.dt.weekday.eq(0).astype(np.uint8)\n",
    "    df_temp['tuesday'] = df_temp.date.dt.weekday.eq(1).astype(np.uint8)\n",
    "    df_temp['wednesday'] = df_temp.date.dt.weekday.eq(2).astype(np.uint8)\n",
    "    df_temp['thursday'] = df_temp.date.dt.weekday.eq(3).astype(np.uint8)\n",
    "    df_temp['friday'] = df_temp.date.dt.weekday.eq(4).astype(np.uint8)\n",
    "    df_temp['saturday'] = df_temp.date.dt.weekday.eq(5).astype(np.uint8)\n",
    "    df_temp['sunday'] = df_temp.date.dt.weekday.eq(6).astype(np.uint8)\n",
    "    df_temp['is_quarter_end'] = df_temp['date'].dt.is_quarter_end.astype(np.uint8)\n",
    "    df_temp['is_quarter_start'] = df_temp['date'].dt.is_quarter_start.astype(np.uint8)\n",
    "    df_temp['is_year_end'] = df_temp['date'].dt.is_year_end.astype(np.uint8)\n",
    "    df_temp['is_year_start'] = df_temp['date'].dt.is_year_start.astype(np.uint8)\n",
    "    df_temp=df_temp.drop('date',axis=1)\n",
    "    return df_temp"
   ]
  },
  {
   "cell_type": "code",
   "execution_count": 9,
   "id": "dd5e8a5c",
   "metadata": {
    "execution": {
     "iopub.execute_input": "2023-07-20T17:36:01.569209Z",
     "iopub.status.busy": "2023-07-20T17:36:01.568758Z",
     "iopub.status.idle": "2023-07-20T17:36:01.579727Z",
     "shell.execute_reply": "2023-07-20T17:36:01.578090Z"
    },
    "papermill": {
     "duration": 0.023953,
     "end_time": "2023-07-20T17:36:01.582952",
     "exception": false,
     "start_time": "2023-07-20T17:36:01.558999",
     "status": "completed"
    },
    "tags": []
   },
   "outputs": [],
   "source": [
    "def data_encoding(dataset):\n",
    "    cat_features=['country','store','product']\n",
    "    for feature in tqdm(cat_features):\n",
    "        dictionary={}\n",
    "        n=1\n",
    "        print('feature:',feature)\n",
    "        print('categories:',dataset[feature].unique())\n",
    "        for sub_cat in dataset[feature].unique():\n",
    "            dictionary[sub_cat]=n\n",
    "            n+=1\n",
    "        print('encoding rule:',dictionary)\n",
    "        dataset[feature]=dataset[feature].map(dictionary)\n",
    "        dummies=pd.get_dummies(dataset[feature],prefix=feature)\n",
    "        for key in dummies:\n",
    "            dataset[key]=dummies[key]\n",
    "        dataset=dataset.drop(feature,axis=1)\n",
    "    dataset['date']=pd.to_datetime(dataset['date'],format='%Y-%m-%d')\n",
    "    print(\"Date converted to Datetime features. Check returned dataframe if you want further details.\")\n",
    "    return datetime_features(dataset)"
   ]
  },
  {
   "cell_type": "code",
   "execution_count": 10,
   "id": "0fd804a2",
   "metadata": {
    "execution": {
     "iopub.execute_input": "2023-07-20T17:36:01.600198Z",
     "iopub.status.busy": "2023-07-20T17:36:01.599787Z",
     "iopub.status.idle": "2023-07-20T17:36:02.432366Z",
     "shell.execute_reply": "2023-07-20T17:36:02.430609Z"
    },
    "papermill": {
     "duration": 0.844596,
     "end_time": "2023-07-20T17:36:02.435364",
     "exception": false,
     "start_time": "2023-07-20T17:36:01.590768",
     "status": "completed"
    },
    "tags": []
   },
   "outputs": [
    {
     "name": "stderr",
     "output_type": "stream",
     "text": [
      "  0%|          | 0/3 [00:00<?, ?it/s]"
     ]
    },
    {
     "name": "stdout",
     "output_type": "stream",
     "text": [
      "feature: country\n",
      "categories: ['Argentina' 'Canada' 'Estonia' 'Japan' 'Spain']\n",
      "encoding rule: {'Argentina': 1, 'Canada': 2, 'Estonia': 3, 'Japan': 4, 'Spain': 5}\n",
      "feature: store\n",
      "categories: ['Kaggle Learn' 'Kaggle Store' 'Kagglazon']\n",
      "encoding rule: {'Kaggle Learn': 1, 'Kaggle Store': 2, 'Kagglazon': 3}\n"
     ]
    },
    {
     "name": "stderr",
     "output_type": "stream",
     "text": [
      "100%|██████████| 3/3 [00:00<00:00, 14.84it/s]"
     ]
    },
    {
     "name": "stdout",
     "output_type": "stream",
     "text": [
      "feature: product\n",
      "categories: ['Using LLMs to Improve Your Coding' 'Using LLMs to Train More LLMs'\n",
      " 'Using LLMs to Win Friends and Influence People'\n",
      " 'Using LLMs to Win More Kaggle Competitions' 'Using LLMs to Write Better']\n",
      "encoding rule: {'Using LLMs to Improve Your Coding': 1, 'Using LLMs to Train More LLMs': 2, 'Using LLMs to Win Friends and Influence People': 3, 'Using LLMs to Win More Kaggle Competitions': 4, 'Using LLMs to Write Better': 5}\n"
     ]
    },
    {
     "name": "stderr",
     "output_type": "stream",
     "text": [
      "\n"
     ]
    },
    {
     "name": "stdout",
     "output_type": "stream",
     "text": [
      "Date converted to Datetime features. Check returned dataframe if you want further details.\n"
     ]
    },
    {
     "name": "stderr",
     "output_type": "stream",
     "text": [
      "100%|██████████| 3/3 [00:00<00:00, 56.06it/s]"
     ]
    },
    {
     "name": "stdout",
     "output_type": "stream",
     "text": [
      "feature: country\n",
      "categories: ['Argentina' 'Canada' 'Estonia' 'Japan' 'Spain']\n",
      "encoding rule: {'Argentina': 1, 'Canada': 2, 'Estonia': 3, 'Japan': 4, 'Spain': 5}\n",
      "feature: store\n",
      "categories: ['Kaggle Learn' 'Kaggle Store' 'Kagglazon']\n",
      "encoding rule: {'Kaggle Learn': 1, 'Kaggle Store': 2, 'Kagglazon': 3}\n",
      "feature: product\n",
      "categories: ['Using LLMs to Improve Your Coding' 'Using LLMs to Train More LLMs'\n",
      " 'Using LLMs to Win Friends and Influence People'\n",
      " 'Using LLMs to Win More Kaggle Competitions' 'Using LLMs to Write Better']\n",
      "encoding rule: {'Using LLMs to Improve Your Coding': 1, 'Using LLMs to Train More LLMs': 2, 'Using LLMs to Win Friends and Influence People': 3, 'Using LLMs to Win More Kaggle Competitions': 4, 'Using LLMs to Write Better': 5}\n",
      "Date converted to Datetime features. Check returned dataframe if you want further details.\n"
     ]
    },
    {
     "name": "stderr",
     "output_type": "stream",
     "text": [
      "\n"
     ]
    }
   ],
   "source": [
    "train=data_encoding(train)\n",
    "test=data_encoding(test)"
   ]
  },
  {
   "cell_type": "code",
   "execution_count": 11,
   "id": "46a2067a",
   "metadata": {
    "execution": {
     "iopub.execute_input": "2023-07-20T17:36:02.454629Z",
     "iopub.status.busy": "2023-07-20T17:36:02.454183Z",
     "iopub.status.idle": "2023-07-20T17:36:02.480604Z",
     "shell.execute_reply": "2023-07-20T17:36:02.479382Z"
    },
    "papermill": {
     "duration": 0.039129,
     "end_time": "2023-07-20T17:36:02.483255",
     "exception": false,
     "start_time": "2023-07-20T17:36:02.444126",
     "status": "completed"
    },
    "tags": []
   },
   "outputs": [
    {
     "data": {
      "text/html": [
       "<div>\n",
       "<style scoped>\n",
       "    .dataframe tbody tr th:only-of-type {\n",
       "        vertical-align: middle;\n",
       "    }\n",
       "\n",
       "    .dataframe tbody tr th {\n",
       "        vertical-align: top;\n",
       "    }\n",
       "\n",
       "    .dataframe thead th {\n",
       "        text-align: right;\n",
       "    }\n",
       "</style>\n",
       "<table border=\"1\" class=\"dataframe\">\n",
       "  <thead>\n",
       "    <tr style=\"text-align: right;\">\n",
       "      <th></th>\n",
       "      <th>num_sold</th>\n",
       "      <th>country_1</th>\n",
       "      <th>country_2</th>\n",
       "      <th>country_3</th>\n",
       "      <th>country_4</th>\n",
       "      <th>country_5</th>\n",
       "      <th>store_1</th>\n",
       "      <th>store_2</th>\n",
       "      <th>store_3</th>\n",
       "      <th>product_1</th>\n",
       "      <th>...</th>\n",
       "      <th>tuesday</th>\n",
       "      <th>wednesday</th>\n",
       "      <th>thursday</th>\n",
       "      <th>friday</th>\n",
       "      <th>saturday</th>\n",
       "      <th>sunday</th>\n",
       "      <th>is_quarter_end</th>\n",
       "      <th>is_quarter_start</th>\n",
       "      <th>is_year_end</th>\n",
       "      <th>is_year_start</th>\n",
       "    </tr>\n",
       "    <tr>\n",
       "      <th>id</th>\n",
       "      <th></th>\n",
       "      <th></th>\n",
       "      <th></th>\n",
       "      <th></th>\n",
       "      <th></th>\n",
       "      <th></th>\n",
       "      <th></th>\n",
       "      <th></th>\n",
       "      <th></th>\n",
       "      <th></th>\n",
       "      <th></th>\n",
       "      <th></th>\n",
       "      <th></th>\n",
       "      <th></th>\n",
       "      <th></th>\n",
       "      <th></th>\n",
       "      <th></th>\n",
       "      <th></th>\n",
       "      <th></th>\n",
       "      <th></th>\n",
       "      <th></th>\n",
       "    </tr>\n",
       "  </thead>\n",
       "  <tbody>\n",
       "    <tr>\n",
       "      <th>0</th>\n",
       "      <td>63</td>\n",
       "      <td>1</td>\n",
       "      <td>0</td>\n",
       "      <td>0</td>\n",
       "      <td>0</td>\n",
       "      <td>0</td>\n",
       "      <td>1</td>\n",
       "      <td>0</td>\n",
       "      <td>0</td>\n",
       "      <td>1</td>\n",
       "      <td>...</td>\n",
       "      <td>0</td>\n",
       "      <td>0</td>\n",
       "      <td>0</td>\n",
       "      <td>0</td>\n",
       "      <td>0</td>\n",
       "      <td>1</td>\n",
       "      <td>0</td>\n",
       "      <td>1</td>\n",
       "      <td>0</td>\n",
       "      <td>1</td>\n",
       "    </tr>\n",
       "    <tr>\n",
       "      <th>1</th>\n",
       "      <td>66</td>\n",
       "      <td>1</td>\n",
       "      <td>0</td>\n",
       "      <td>0</td>\n",
       "      <td>0</td>\n",
       "      <td>0</td>\n",
       "      <td>1</td>\n",
       "      <td>0</td>\n",
       "      <td>0</td>\n",
       "      <td>0</td>\n",
       "      <td>...</td>\n",
       "      <td>0</td>\n",
       "      <td>0</td>\n",
       "      <td>0</td>\n",
       "      <td>0</td>\n",
       "      <td>0</td>\n",
       "      <td>1</td>\n",
       "      <td>0</td>\n",
       "      <td>1</td>\n",
       "      <td>0</td>\n",
       "      <td>1</td>\n",
       "    </tr>\n",
       "    <tr>\n",
       "      <th>2</th>\n",
       "      <td>9</td>\n",
       "      <td>1</td>\n",
       "      <td>0</td>\n",
       "      <td>0</td>\n",
       "      <td>0</td>\n",
       "      <td>0</td>\n",
       "      <td>1</td>\n",
       "      <td>0</td>\n",
       "      <td>0</td>\n",
       "      <td>0</td>\n",
       "      <td>...</td>\n",
       "      <td>0</td>\n",
       "      <td>0</td>\n",
       "      <td>0</td>\n",
       "      <td>0</td>\n",
       "      <td>0</td>\n",
       "      <td>1</td>\n",
       "      <td>0</td>\n",
       "      <td>1</td>\n",
       "      <td>0</td>\n",
       "      <td>1</td>\n",
       "    </tr>\n",
       "    <tr>\n",
       "      <th>3</th>\n",
       "      <td>59</td>\n",
       "      <td>1</td>\n",
       "      <td>0</td>\n",
       "      <td>0</td>\n",
       "      <td>0</td>\n",
       "      <td>0</td>\n",
       "      <td>1</td>\n",
       "      <td>0</td>\n",
       "      <td>0</td>\n",
       "      <td>0</td>\n",
       "      <td>...</td>\n",
       "      <td>0</td>\n",
       "      <td>0</td>\n",
       "      <td>0</td>\n",
       "      <td>0</td>\n",
       "      <td>0</td>\n",
       "      <td>1</td>\n",
       "      <td>0</td>\n",
       "      <td>1</td>\n",
       "      <td>0</td>\n",
       "      <td>1</td>\n",
       "    </tr>\n",
       "    <tr>\n",
       "      <th>4</th>\n",
       "      <td>49</td>\n",
       "      <td>1</td>\n",
       "      <td>0</td>\n",
       "      <td>0</td>\n",
       "      <td>0</td>\n",
       "      <td>0</td>\n",
       "      <td>1</td>\n",
       "      <td>0</td>\n",
       "      <td>0</td>\n",
       "      <td>0</td>\n",
       "      <td>...</td>\n",
       "      <td>0</td>\n",
       "      <td>0</td>\n",
       "      <td>0</td>\n",
       "      <td>0</td>\n",
       "      <td>0</td>\n",
       "      <td>1</td>\n",
       "      <td>0</td>\n",
       "      <td>1</td>\n",
       "      <td>0</td>\n",
       "      <td>1</td>\n",
       "    </tr>\n",
       "  </tbody>\n",
       "</table>\n",
       "<p>5 rows × 34 columns</p>\n",
       "</div>"
      ],
      "text/plain": [
       "    num_sold  country_1  country_2  country_3  country_4  country_5  store_1  \\\n",
       "id                                                                             \n",
       "0         63          1          0          0          0          0        1   \n",
       "1         66          1          0          0          0          0        1   \n",
       "2          9          1          0          0          0          0        1   \n",
       "3         59          1          0          0          0          0        1   \n",
       "4         49          1          0          0          0          0        1   \n",
       "\n",
       "    store_2  store_3  product_1  ...  tuesday  wednesday  thursday  friday  \\\n",
       "id                               ...                                         \n",
       "0         0        0          1  ...        0          0         0       0   \n",
       "1         0        0          0  ...        0          0         0       0   \n",
       "2         0        0          0  ...        0          0         0       0   \n",
       "3         0        0          0  ...        0          0         0       0   \n",
       "4         0        0          0  ...        0          0         0       0   \n",
       "\n",
       "    saturday  sunday  is_quarter_end  is_quarter_start  is_year_end  \\\n",
       "id                                                                    \n",
       "0          0       1               0                 1            0   \n",
       "1          0       1               0                 1            0   \n",
       "2          0       1               0                 1            0   \n",
       "3          0       1               0                 1            0   \n",
       "4          0       1               0                 1            0   \n",
       "\n",
       "    is_year_start  \n",
       "id                 \n",
       "0               1  \n",
       "1               1  \n",
       "2               1  \n",
       "3               1  \n",
       "4               1  \n",
       "\n",
       "[5 rows x 34 columns]"
      ]
     },
     "execution_count": 11,
     "metadata": {},
     "output_type": "execute_result"
    }
   ],
   "source": [
    "train.head()"
   ]
  },
  {
   "cell_type": "code",
   "execution_count": 12,
   "id": "08a49744",
   "metadata": {
    "execution": {
     "iopub.execute_input": "2023-07-20T17:36:02.503472Z",
     "iopub.status.busy": "2023-07-20T17:36:02.503059Z",
     "iopub.status.idle": "2023-07-20T17:36:02.528703Z",
     "shell.execute_reply": "2023-07-20T17:36:02.526910Z"
    },
    "papermill": {
     "duration": 0.038866,
     "end_time": "2023-07-20T17:36:02.531294",
     "exception": false,
     "start_time": "2023-07-20T17:36:02.492428",
     "status": "completed"
    },
    "tags": []
   },
   "outputs": [
    {
     "name": "stdout",
     "output_type": "stream",
     "text": [
      "<class 'pandas.core.frame.DataFrame'>\n",
      "Int64Index: 136950 entries, 0 to 136949\n",
      "Data columns (total 34 columns):\n",
      " #   Column            Non-Null Count   Dtype\n",
      "---  ------            --------------   -----\n",
      " 0   num_sold          136950 non-null  int64\n",
      " 1   country_1         136950 non-null  uint8\n",
      " 2   country_2         136950 non-null  uint8\n",
      " 3   country_3         136950 non-null  uint8\n",
      " 4   country_4         136950 non-null  uint8\n",
      " 5   country_5         136950 non-null  uint8\n",
      " 6   store_1           136950 non-null  uint8\n",
      " 7   store_2           136950 non-null  uint8\n",
      " 8   store_3           136950 non-null  uint8\n",
      " 9   product_1         136950 non-null  uint8\n",
      " 10  product_2         136950 non-null  uint8\n",
      " 11  product_3         136950 non-null  uint8\n",
      " 12  product_4         136950 non-null  uint8\n",
      " 13  product_5         136950 non-null  uint8\n",
      " 14  month             136950 non-null  int64\n",
      " 15  day               136950 non-null  int64\n",
      " 16  year              136950 non-null  int64\n",
      " 17  dayofweek         136950 non-null  int64\n",
      " 18  quarter           136950 non-null  int64\n",
      " 19  dayofmonth        136950 non-null  int64\n",
      " 20  weekofyear        136950 non-null  int64\n",
      " 21  is_month_start    136950 non-null  int8 \n",
      " 22  is_month_end      136950 non-null  int8 \n",
      " 23  monday            136950 non-null  uint8\n",
      " 24  tuesday           136950 non-null  uint8\n",
      " 25  wednesday         136950 non-null  uint8\n",
      " 26  thursday          136950 non-null  uint8\n",
      " 27  friday            136950 non-null  uint8\n",
      " 28  saturday          136950 non-null  uint8\n",
      " 29  sunday            136950 non-null  uint8\n",
      " 30  is_quarter_end    136950 non-null  uint8\n",
      " 31  is_quarter_start  136950 non-null  uint8\n",
      " 32  is_year_end       136950 non-null  uint8\n",
      " 33  is_year_start     136950 non-null  uint8\n",
      "dtypes: int64(8), int8(2), uint8(24)\n",
      "memory usage: 12.8 MB\n"
     ]
    }
   ],
   "source": [
    "train.info()"
   ]
  },
  {
   "cell_type": "code",
   "execution_count": 13,
   "id": "088ffe48",
   "metadata": {
    "execution": {
     "iopub.execute_input": "2023-07-20T17:36:02.551601Z",
     "iopub.status.busy": "2023-07-20T17:36:02.551177Z",
     "iopub.status.idle": "2023-07-20T17:36:02.592754Z",
     "shell.execute_reply": "2023-07-20T17:36:02.591386Z"
    },
    "papermill": {
     "duration": 0.05502,
     "end_time": "2023-07-20T17:36:02.595684",
     "exception": false,
     "start_time": "2023-07-20T17:36:02.540664",
     "status": "completed"
    },
    "tags": []
   },
   "outputs": [],
   "source": [
    "X,y=train.drop(\"num_sold\",axis=1),train[\"num_sold\"]"
   ]
  },
  {
   "cell_type": "code",
   "execution_count": 14,
   "id": "b338ca81",
   "metadata": {
    "execution": {
     "iopub.execute_input": "2023-07-20T17:36:02.617066Z",
     "iopub.status.busy": "2023-07-20T17:36:02.616685Z",
     "iopub.status.idle": "2023-07-20T17:36:02.621809Z",
     "shell.execute_reply": "2023-07-20T17:36:02.620630Z"
    },
    "papermill": {
     "duration": 0.018764,
     "end_time": "2023-07-20T17:36:02.624493",
     "exception": false,
     "start_time": "2023-07-20T17:36:02.605729",
     "status": "completed"
    },
    "tags": []
   },
   "outputs": [],
   "source": [
    "#(tf.convert_to_tensor(X),tf.convert_to_tensor(y))"
   ]
  },
  {
   "cell_type": "code",
   "execution_count": 15,
   "id": "2caf5587",
   "metadata": {
    "execution": {
     "iopub.execute_input": "2023-07-20T17:36:02.645930Z",
     "iopub.status.busy": "2023-07-20T17:36:02.645531Z",
     "iopub.status.idle": "2023-07-20T17:36:23.695322Z",
     "shell.execute_reply": "2023-07-20T17:36:23.694102Z"
    },
    "papermill": {
     "duration": 21.063639,
     "end_time": "2023-07-20T17:36:23.697960",
     "exception": false,
     "start_time": "2023-07-20T17:36:02.634321",
     "status": "completed"
    },
    "tags": []
   },
   "outputs": [
    {
     "name": "stdout",
     "output_type": "stream",
     "text": [
      "0:\tlearn: 0.7681344\ttotal: 82.7ms\tremaining: 1m 22s\n",
      "3:\tlearn: 0.7063613\ttotal: 145ms\tremaining: 36.1s\n",
      "6:\tlearn: 0.6509865\ttotal: 209ms\tremaining: 29.6s\n",
      "9:\tlearn: 0.6005779\ttotal: 271ms\tremaining: 26.8s\n",
      "12:\tlearn: 0.5556023\ttotal: 333ms\tremaining: 25.3s\n",
      "15:\tlearn: 0.5154378\ttotal: 396ms\tremaining: 24.3s\n",
      "18:\tlearn: 0.4797088\ttotal: 457ms\tremaining: 23.6s\n",
      "21:\tlearn: 0.4486643\ttotal: 519ms\tremaining: 23.1s\n",
      "24:\tlearn: 0.4224866\ttotal: 582ms\tremaining: 22.7s\n",
      "27:\tlearn: 0.4004820\ttotal: 644ms\tremaining: 22.4s\n",
      "30:\tlearn: 0.3826975\ttotal: 702ms\tremaining: 21.9s\n",
      "33:\tlearn: 0.3686199\ttotal: 762ms\tremaining: 21.6s\n",
      "36:\tlearn: 0.3567323\ttotal: 822ms\tremaining: 21.4s\n",
      "39:\tlearn: 0.3470778\ttotal: 882ms\tremaining: 21.2s\n",
      "42:\tlearn: 0.3380456\ttotal: 942ms\tremaining: 21s\n",
      "45:\tlearn: 0.3305483\ttotal: 999ms\tremaining: 20.7s\n",
      "48:\tlearn: 0.3238798\ttotal: 1.06s\tremaining: 20.6s\n",
      "51:\tlearn: 0.3174818\ttotal: 1.12s\tremaining: 20.4s\n",
      "54:\tlearn: 0.3116046\ttotal: 1.18s\tremaining: 20.2s\n",
      "57:\tlearn: 0.3059675\ttotal: 1.23s\tremaining: 20s\n",
      "60:\tlearn: 0.3009950\ttotal: 1.3s\tremaining: 20s\n",
      "63:\tlearn: 0.2965063\ttotal: 1.36s\tremaining: 19.8s\n",
      "66:\tlearn: 0.2923097\ttotal: 1.42s\tremaining: 19.7s\n",
      "69:\tlearn: 0.2885326\ttotal: 1.48s\tremaining: 19.7s\n",
      "72:\tlearn: 0.2846725\ttotal: 1.54s\tremaining: 19.6s\n",
      "75:\tlearn: 0.2814035\ttotal: 1.61s\tremaining: 19.5s\n",
      "78:\tlearn: 0.2781459\ttotal: 1.67s\tremaining: 19.4s\n",
      "81:\tlearn: 0.2752925\ttotal: 1.73s\tremaining: 19.3s\n",
      "84:\tlearn: 0.2723412\ttotal: 1.79s\tremaining: 19.3s\n",
      "87:\tlearn: 0.2693373\ttotal: 1.87s\tremaining: 19.4s\n",
      "90:\tlearn: 0.2665865\ttotal: 1.94s\tremaining: 19.3s\n",
      "93:\tlearn: 0.2638857\ttotal: 2s\tremaining: 19.2s\n",
      "96:\tlearn: 0.2612910\ttotal: 2.05s\tremaining: 19.1s\n",
      "99:\tlearn: 0.2587721\ttotal: 2.11s\tremaining: 19s\n",
      "102:\tlearn: 0.2564552\ttotal: 2.17s\tremaining: 18.9s\n",
      "105:\tlearn: 0.2542991\ttotal: 2.23s\tremaining: 18.8s\n",
      "108:\tlearn: 0.2522988\ttotal: 2.29s\tremaining: 18.7s\n",
      "111:\tlearn: 0.2504188\ttotal: 2.35s\tremaining: 18.6s\n",
      "114:\tlearn: 0.2486157\ttotal: 2.41s\tremaining: 18.5s\n",
      "117:\tlearn: 0.2468684\ttotal: 2.47s\tremaining: 18.5s\n",
      "120:\tlearn: 0.2449534\ttotal: 2.53s\tremaining: 18.4s\n",
      "123:\tlearn: 0.2434684\ttotal: 2.61s\tremaining: 18.4s\n",
      "126:\tlearn: 0.2417469\ttotal: 2.68s\tremaining: 18.4s\n",
      "129:\tlearn: 0.2404200\ttotal: 2.74s\tremaining: 18.4s\n",
      "132:\tlearn: 0.2386203\ttotal: 2.81s\tremaining: 18.3s\n",
      "135:\tlearn: 0.2371214\ttotal: 2.86s\tremaining: 18.2s\n",
      "138:\tlearn: 0.2354275\ttotal: 2.92s\tremaining: 18.1s\n",
      "141:\tlearn: 0.2335056\ttotal: 2.98s\tremaining: 18s\n",
      "144:\tlearn: 0.2319597\ttotal: 3.04s\tremaining: 17.9s\n",
      "147:\tlearn: 0.2305612\ttotal: 3.1s\tremaining: 17.8s\n",
      "150:\tlearn: 0.2287437\ttotal: 3.16s\tremaining: 17.8s\n",
      "153:\tlearn: 0.2273925\ttotal: 3.22s\tremaining: 17.7s\n",
      "156:\tlearn: 0.2257241\ttotal: 3.28s\tremaining: 17.6s\n",
      "159:\tlearn: 0.2240753\ttotal: 3.34s\tremaining: 17.5s\n",
      "162:\tlearn: 0.2225596\ttotal: 3.4s\tremaining: 17.5s\n",
      "165:\tlearn: 0.2211979\ttotal: 3.46s\tremaining: 17.4s\n",
      "168:\tlearn: 0.2198738\ttotal: 3.52s\tremaining: 17.3s\n",
      "171:\tlearn: 0.2186958\ttotal: 3.6s\tremaining: 17.3s\n",
      "174:\tlearn: 0.2174498\ttotal: 3.65s\tremaining: 17.2s\n",
      "177:\tlearn: 0.2162643\ttotal: 3.71s\tremaining: 17.2s\n",
      "180:\tlearn: 0.2150278\ttotal: 3.77s\tremaining: 17.1s\n",
      "183:\tlearn: 0.2139485\ttotal: 3.83s\tremaining: 17s\n",
      "186:\tlearn: 0.2128370\ttotal: 3.89s\tremaining: 16.9s\n",
      "189:\tlearn: 0.2117883\ttotal: 3.95s\tremaining: 16.8s\n",
      "192:\tlearn: 0.2107472\ttotal: 4.01s\tremaining: 16.8s\n",
      "195:\tlearn: 0.2096977\ttotal: 4.07s\tremaining: 16.7s\n",
      "198:\tlearn: 0.2088964\ttotal: 4.13s\tremaining: 16.6s\n",
      "201:\tlearn: 0.2081498\ttotal: 4.18s\tremaining: 16.5s\n",
      "204:\tlearn: 0.2073829\ttotal: 4.25s\tremaining: 16.5s\n",
      "207:\tlearn: 0.2066030\ttotal: 4.31s\tremaining: 16.4s\n",
      "210:\tlearn: 0.2037731\ttotal: 4.37s\tremaining: 16.3s\n",
      "213:\tlearn: 0.2018110\ttotal: 4.43s\tremaining: 16.3s\n",
      "216:\tlearn: 0.1986960\ttotal: 4.49s\tremaining: 16.2s\n",
      "219:\tlearn: 0.1971413\ttotal: 4.55s\tremaining: 16.1s\n",
      "222:\tlearn: 0.1945228\ttotal: 4.61s\tremaining: 16.1s\n",
      "225:\tlearn: 0.1921189\ttotal: 4.67s\tremaining: 16s\n",
      "228:\tlearn: 0.1885265\ttotal: 4.73s\tremaining: 15.9s\n",
      "231:\tlearn: 0.1862411\ttotal: 4.78s\tremaining: 15.8s\n",
      "234:\tlearn: 0.1844917\ttotal: 4.84s\tremaining: 15.8s\n",
      "237:\tlearn: 0.1827276\ttotal: 4.9s\tremaining: 15.7s\n",
      "240:\tlearn: 0.1799805\ttotal: 4.96s\tremaining: 15.6s\n",
      "243:\tlearn: 0.1783707\ttotal: 5.02s\tremaining: 15.6s\n",
      "246:\tlearn: 0.1762329\ttotal: 5.08s\tremaining: 15.5s\n",
      "249:\tlearn: 0.1749012\ttotal: 5.14s\tremaining: 15.4s\n",
      "252:\tlearn: 0.1723628\ttotal: 5.2s\tremaining: 15.3s\n",
      "255:\tlearn: 0.1699122\ttotal: 5.25s\tremaining: 15.3s\n",
      "258:\tlearn: 0.1681103\ttotal: 5.32s\tremaining: 15.2s\n",
      "261:\tlearn: 0.1664500\ttotal: 5.37s\tremaining: 15.1s\n",
      "264:\tlearn: 0.1647613\ttotal: 5.43s\tremaining: 15.1s\n",
      "267:\tlearn: 0.1634726\ttotal: 5.49s\tremaining: 15s\n",
      "270:\tlearn: 0.1617248\ttotal: 5.55s\tremaining: 14.9s\n",
      "273:\tlearn: 0.1598941\ttotal: 5.61s\tremaining: 14.9s\n",
      "276:\tlearn: 0.1582497\ttotal: 5.67s\tremaining: 14.8s\n",
      "279:\tlearn: 0.1568775\ttotal: 5.73s\tremaining: 14.7s\n",
      "282:\tlearn: 0.1556821\ttotal: 5.79s\tremaining: 14.7s\n",
      "285:\tlearn: 0.1542141\ttotal: 5.85s\tremaining: 14.6s\n",
      "288:\tlearn: 0.1530651\ttotal: 5.91s\tremaining: 14.5s\n",
      "291:\tlearn: 0.1516441\ttotal: 5.97s\tremaining: 14.5s\n",
      "294:\tlearn: 0.1507000\ttotal: 6.03s\tremaining: 14.4s\n",
      "297:\tlearn: 0.1493624\ttotal: 6.09s\tremaining: 14.3s\n",
      "300:\tlearn: 0.1479619\ttotal: 6.14s\tremaining: 14.3s\n",
      "303:\tlearn: 0.1468665\ttotal: 6.2s\tremaining: 14.2s\n",
      "306:\tlearn: 0.1456129\ttotal: 6.26s\tremaining: 14.1s\n",
      "309:\tlearn: 0.1443935\ttotal: 6.32s\tremaining: 14.1s\n",
      "312:\tlearn: 0.1435686\ttotal: 6.37s\tremaining: 14s\n",
      "315:\tlearn: 0.1426524\ttotal: 6.43s\tremaining: 13.9s\n",
      "318:\tlearn: 0.1417976\ttotal: 6.49s\tremaining: 13.8s\n",
      "321:\tlearn: 0.1409099\ttotal: 6.54s\tremaining: 13.8s\n",
      "324:\tlearn: 0.1401426\ttotal: 6.6s\tremaining: 13.7s\n",
      "327:\tlearn: 0.1393889\ttotal: 6.65s\tremaining: 13.6s\n",
      "330:\tlearn: 0.1386024\ttotal: 6.71s\tremaining: 13.6s\n",
      "333:\tlearn: 0.1378243\ttotal: 6.77s\tremaining: 13.5s\n",
      "336:\tlearn: 0.1371796\ttotal: 6.83s\tremaining: 13.4s\n",
      "339:\tlearn: 0.1365300\ttotal: 6.88s\tremaining: 13.4s\n",
      "342:\tlearn: 0.1360669\ttotal: 6.94s\tremaining: 13.3s\n",
      "345:\tlearn: 0.1354503\ttotal: 7s\tremaining: 13.2s\n",
      "348:\tlearn: 0.1345697\ttotal: 7.07s\tremaining: 13.2s\n",
      "351:\tlearn: 0.1339109\ttotal: 7.13s\tremaining: 13.1s\n",
      "354:\tlearn: 0.1333534\ttotal: 7.19s\tremaining: 13.1s\n",
      "357:\tlearn: 0.1326652\ttotal: 7.25s\tremaining: 13s\n",
      "360:\tlearn: 0.1319724\ttotal: 7.31s\tremaining: 12.9s\n",
      "363:\tlearn: 0.1313085\ttotal: 7.37s\tremaining: 12.9s\n",
      "366:\tlearn: 0.1306249\ttotal: 7.43s\tremaining: 12.8s\n",
      "369:\tlearn: 0.1298481\ttotal: 7.49s\tremaining: 12.8s\n",
      "372:\tlearn: 0.1291369\ttotal: 7.56s\tremaining: 12.7s\n",
      "375:\tlearn: 0.1286150\ttotal: 7.62s\tremaining: 12.6s\n",
      "378:\tlearn: 0.1280306\ttotal: 7.68s\tremaining: 12.6s\n",
      "381:\tlearn: 0.1274852\ttotal: 7.74s\tremaining: 12.5s\n",
      "384:\tlearn: 0.1269996\ttotal: 7.8s\tremaining: 12.5s\n",
      "387:\tlearn: 0.1265437\ttotal: 7.86s\tremaining: 12.4s\n",
      "390:\tlearn: 0.1261134\ttotal: 7.92s\tremaining: 12.3s\n",
      "393:\tlearn: 0.1257817\ttotal: 7.98s\tremaining: 12.3s\n",
      "396:\tlearn: 0.1253291\ttotal: 8.03s\tremaining: 12.2s\n",
      "399:\tlearn: 0.1249117\ttotal: 8.09s\tremaining: 12.1s\n",
      "402:\tlearn: 0.1245186\ttotal: 8.15s\tremaining: 12.1s\n",
      "405:\tlearn: 0.1241287\ttotal: 8.2s\tremaining: 12s\n",
      "408:\tlearn: 0.1237479\ttotal: 8.26s\tremaining: 11.9s\n",
      "411:\tlearn: 0.1233778\ttotal: 8.32s\tremaining: 11.9s\n",
      "414:\tlearn: 0.1230262\ttotal: 8.38s\tremaining: 11.8s\n",
      "417:\tlearn: 0.1226945\ttotal: 8.44s\tremaining: 11.8s\n",
      "420:\tlearn: 0.1224166\ttotal: 8.5s\tremaining: 11.7s\n",
      "423:\tlearn: 0.1220871\ttotal: 8.56s\tremaining: 11.6s\n",
      "426:\tlearn: 0.1218264\ttotal: 8.62s\tremaining: 11.6s\n",
      "429:\tlearn: 0.1214964\ttotal: 8.67s\tremaining: 11.5s\n",
      "432:\tlearn: 0.1212330\ttotal: 8.73s\tremaining: 11.4s\n",
      "435:\tlearn: 0.1209791\ttotal: 8.79s\tremaining: 11.4s\n",
      "438:\tlearn: 0.1206564\ttotal: 8.84s\tremaining: 11.3s\n",
      "441:\tlearn: 0.1203388\ttotal: 8.9s\tremaining: 11.2s\n",
      "444:\tlearn: 0.1199582\ttotal: 8.96s\tremaining: 11.2s\n",
      "447:\tlearn: 0.1196220\ttotal: 9.02s\tremaining: 11.1s\n",
      "450:\tlearn: 0.1192212\ttotal: 9.08s\tremaining: 11s\n",
      "453:\tlearn: 0.1189948\ttotal: 9.13s\tremaining: 11s\n",
      "456:\tlearn: 0.1187869\ttotal: 9.19s\tremaining: 10.9s\n",
      "459:\tlearn: 0.1184995\ttotal: 9.25s\tremaining: 10.9s\n",
      "462:\tlearn: 0.1181394\ttotal: 9.31s\tremaining: 10.8s\n",
      "465:\tlearn: 0.1177170\ttotal: 9.37s\tremaining: 10.7s\n",
      "468:\tlearn: 0.1173825\ttotal: 9.43s\tremaining: 10.7s\n",
      "471:\tlearn: 0.1170934\ttotal: 9.49s\tremaining: 10.6s\n",
      "474:\tlearn: 0.1168371\ttotal: 9.55s\tremaining: 10.6s\n",
      "477:\tlearn: 0.1165722\ttotal: 9.61s\tremaining: 10.5s\n",
      "480:\tlearn: 0.1162915\ttotal: 9.67s\tremaining: 10.4s\n",
      "483:\tlearn: 0.1160297\ttotal: 9.73s\tremaining: 10.4s\n",
      "486:\tlearn: 0.1158125\ttotal: 9.79s\tremaining: 10.3s\n",
      "489:\tlearn: 0.1155799\ttotal: 9.85s\tremaining: 10.3s\n",
      "492:\tlearn: 0.1153582\ttotal: 9.91s\tremaining: 10.2s\n",
      "495:\tlearn: 0.1151802\ttotal: 9.97s\tremaining: 10.1s\n",
      "498:\tlearn: 0.1148466\ttotal: 10s\tremaining: 10.1s\n",
      "501:\tlearn: 0.1146551\ttotal: 10.1s\tremaining: 10s\n",
      "504:\tlearn: 0.1144480\ttotal: 10.2s\tremaining: 9.95s\n",
      "507:\tlearn: 0.1142372\ttotal: 10.2s\tremaining: 9.89s\n",
      "510:\tlearn: 0.1140420\ttotal: 10.3s\tremaining: 9.84s\n",
      "513:\tlearn: 0.1138142\ttotal: 10.3s\tremaining: 9.78s\n",
      "516:\tlearn: 0.1136105\ttotal: 10.4s\tremaining: 9.72s\n",
      "519:\tlearn: 0.1133453\ttotal: 10.5s\tremaining: 9.67s\n",
      "522:\tlearn: 0.1131507\ttotal: 10.5s\tremaining: 9.61s\n",
      "525:\tlearn: 0.1129801\ttotal: 10.6s\tremaining: 9.55s\n",
      "528:\tlearn: 0.1127062\ttotal: 10.7s\tremaining: 9.49s\n",
      "531:\tlearn: 0.1124351\ttotal: 10.7s\tremaining: 9.43s\n",
      "534:\tlearn: 0.1122804\ttotal: 10.8s\tremaining: 9.37s\n",
      "537:\tlearn: 0.1120900\ttotal: 10.8s\tremaining: 9.31s\n",
      "540:\tlearn: 0.1119072\ttotal: 10.9s\tremaining: 9.25s\n",
      "543:\tlearn: 0.1117563\ttotal: 11s\tremaining: 9.2s\n",
      "546:\tlearn: 0.1115950\ttotal: 11s\tremaining: 9.14s\n",
      "549:\tlearn: 0.1114250\ttotal: 11.1s\tremaining: 9.08s\n",
      "552:\tlearn: 0.1112619\ttotal: 11.2s\tremaining: 9.02s\n",
      "555:\tlearn: 0.1110996\ttotal: 11.2s\tremaining: 8.96s\n",
      "558:\tlearn: 0.1108826\ttotal: 11.3s\tremaining: 8.9s\n",
      "561:\tlearn: 0.1106733\ttotal: 11.3s\tremaining: 8.84s\n",
      "564:\tlearn: 0.1104612\ttotal: 11.4s\tremaining: 8.77s\n",
      "567:\tlearn: 0.1099254\ttotal: 11.5s\tremaining: 8.71s\n",
      "570:\tlearn: 0.1093295\ttotal: 11.5s\tremaining: 8.65s\n",
      "573:\tlearn: 0.1087606\ttotal: 11.6s\tremaining: 8.59s\n",
      "576:\tlearn: 0.1082441\ttotal: 11.6s\tremaining: 8.53s\n",
      "579:\tlearn: 0.1078094\ttotal: 11.7s\tremaining: 8.47s\n",
      "582:\tlearn: 0.1074054\ttotal: 11.8s\tremaining: 8.41s\n",
      "585:\tlearn: 0.1069921\ttotal: 11.8s\tremaining: 8.35s\n",
      "588:\tlearn: 0.1066311\ttotal: 11.9s\tremaining: 8.29s\n",
      "591:\tlearn: 0.1062983\ttotal: 11.9s\tremaining: 8.23s\n",
      "594:\tlearn: 0.1060470\ttotal: 12s\tremaining: 8.17s\n",
      "597:\tlearn: 0.1058734\ttotal: 12.1s\tremaining: 8.1s\n",
      "600:\tlearn: 0.1055781\ttotal: 12.1s\tremaining: 8.04s\n",
      "603:\tlearn: 0.1052162\ttotal: 12.2s\tremaining: 7.98s\n",
      "606:\tlearn: 0.1049611\ttotal: 12.2s\tremaining: 7.92s\n",
      "609:\tlearn: 0.1048080\ttotal: 12.3s\tremaining: 7.86s\n",
      "612:\tlearn: 0.1044858\ttotal: 12.4s\tremaining: 7.8s\n",
      "615:\tlearn: 0.1043390\ttotal: 12.4s\tremaining: 7.74s\n",
      "618:\tlearn: 0.1041801\ttotal: 12.5s\tremaining: 7.7s\n",
      "621:\tlearn: 0.1040836\ttotal: 12.6s\tremaining: 7.64s\n",
      "624:\tlearn: 0.1039888\ttotal: 12.6s\tremaining: 7.58s\n",
      "627:\tlearn: 0.1038920\ttotal: 12.7s\tremaining: 7.52s\n",
      "630:\tlearn: 0.1037850\ttotal: 12.8s\tremaining: 7.46s\n",
      "633:\tlearn: 0.1036879\ttotal: 12.8s\tremaining: 7.4s\n",
      "636:\tlearn: 0.1035197\ttotal: 12.9s\tremaining: 7.34s\n",
      "639:\tlearn: 0.1034095\ttotal: 12.9s\tremaining: 7.28s\n",
      "642:\tlearn: 0.1032494\ttotal: 13s\tremaining: 7.22s\n",
      "645:\tlearn: 0.1030528\ttotal: 13.1s\tremaining: 7.17s\n",
      "648:\tlearn: 0.1029199\ttotal: 13.2s\tremaining: 7.13s\n",
      "651:\tlearn: 0.1027789\ttotal: 13.3s\tremaining: 7.12s\n",
      "654:\tlearn: 0.1026458\ttotal: 13.5s\tremaining: 7.1s\n",
      "657:\tlearn: 0.1025358\ttotal: 13.6s\tremaining: 7.04s\n",
      "660:\tlearn: 0.1024309\ttotal: 13.6s\tremaining: 6.99s\n",
      "663:\tlearn: 0.1023411\ttotal: 13.7s\tremaining: 6.94s\n",
      "666:\tlearn: 0.1022482\ttotal: 13.8s\tremaining: 6.88s\n",
      "669:\tlearn: 0.1021277\ttotal: 13.9s\tremaining: 6.83s\n",
      "672:\tlearn: 0.1020206\ttotal: 13.9s\tremaining: 6.77s\n",
      "675:\tlearn: 0.1019227\ttotal: 14s\tremaining: 6.71s\n",
      "678:\tlearn: 0.1018131\ttotal: 14.1s\tremaining: 6.66s\n",
      "681:\tlearn: 0.1017107\ttotal: 14.2s\tremaining: 6.61s\n",
      "684:\tlearn: 0.1016221\ttotal: 14.3s\tremaining: 6.55s\n",
      "687:\tlearn: 0.1015248\ttotal: 14.3s\tremaining: 6.5s\n",
      "690:\tlearn: 0.1013863\ttotal: 14.4s\tremaining: 6.44s\n",
      "693:\tlearn: 0.1012532\ttotal: 14.5s\tremaining: 6.39s\n",
      "696:\tlearn: 0.1011220\ttotal: 14.6s\tremaining: 6.33s\n",
      "699:\tlearn: 0.1009304\ttotal: 14.6s\tremaining: 6.28s\n",
      "702:\tlearn: 0.1007099\ttotal: 14.7s\tremaining: 6.22s\n",
      "705:\tlearn: 0.1005172\ttotal: 14.8s\tremaining: 6.16s\n",
      "708:\tlearn: 0.1003411\ttotal: 14.8s\tremaining: 6.09s\n",
      "711:\tlearn: 0.1002230\ttotal: 14.9s\tremaining: 6.03s\n",
      "714:\tlearn: 0.0999990\ttotal: 15s\tremaining: 5.97s\n",
      "717:\tlearn: 0.0998364\ttotal: 15.1s\tremaining: 5.91s\n",
      "720:\tlearn: 0.0997096\ttotal: 15.1s\tremaining: 5.85s\n",
      "723:\tlearn: 0.0996551\ttotal: 15.2s\tremaining: 5.78s\n",
      "726:\tlearn: 0.0995774\ttotal: 15.2s\tremaining: 5.72s\n",
      "729:\tlearn: 0.0994888\ttotal: 15.3s\tremaining: 5.66s\n",
      "732:\tlearn: 0.0994076\ttotal: 15.4s\tremaining: 5.59s\n",
      "735:\tlearn: 0.0993340\ttotal: 15.4s\tremaining: 5.53s\n",
      "738:\tlearn: 0.0992392\ttotal: 15.5s\tremaining: 5.47s\n",
      "741:\tlearn: 0.0991325\ttotal: 15.5s\tremaining: 5.4s\n",
      "744:\tlearn: 0.0990135\ttotal: 15.6s\tremaining: 5.34s\n",
      "747:\tlearn: 0.0989547\ttotal: 15.7s\tremaining: 5.28s\n",
      "750:\tlearn: 0.0988412\ttotal: 15.7s\tremaining: 5.21s\n",
      "753:\tlearn: 0.0987874\ttotal: 15.8s\tremaining: 5.15s\n",
      "756:\tlearn: 0.0986385\ttotal: 15.8s\tremaining: 5.09s\n",
      "759:\tlearn: 0.0984775\ttotal: 15.9s\tremaining: 5.02s\n",
      "762:\tlearn: 0.0983430\ttotal: 16s\tremaining: 4.96s\n",
      "765:\tlearn: 0.0982389\ttotal: 16s\tremaining: 4.9s\n",
      "768:\tlearn: 0.0981149\ttotal: 16.1s\tremaining: 4.83s\n",
      "771:\tlearn: 0.0980083\ttotal: 16.2s\tremaining: 4.77s\n",
      "774:\tlearn: 0.0979020\ttotal: 16.2s\tremaining: 4.71s\n",
      "777:\tlearn: 0.0978199\ttotal: 16.3s\tremaining: 4.64s\n",
      "780:\tlearn: 0.0977329\ttotal: 16.3s\tremaining: 4.58s\n",
      "783:\tlearn: 0.0976549\ttotal: 16.4s\tremaining: 4.52s\n",
      "786:\tlearn: 0.0975810\ttotal: 16.5s\tremaining: 4.46s\n",
      "789:\tlearn: 0.0974402\ttotal: 16.5s\tremaining: 4.39s\n",
      "792:\tlearn: 0.0973829\ttotal: 16.6s\tremaining: 4.33s\n",
      "795:\tlearn: 0.0973211\ttotal: 16.7s\tremaining: 4.27s\n",
      "798:\tlearn: 0.0972369\ttotal: 16.7s\tremaining: 4.2s\n",
      "801:\tlearn: 0.0971886\ttotal: 16.8s\tremaining: 4.14s\n",
      "804:\tlearn: 0.0971231\ttotal: 16.8s\tremaining: 4.08s\n",
      "807:\tlearn: 0.0970431\ttotal: 16.9s\tremaining: 4.01s\n",
      "810:\tlearn: 0.0969636\ttotal: 16.9s\tremaining: 3.95s\n",
      "813:\tlearn: 0.0968828\ttotal: 17s\tremaining: 3.89s\n",
      "816:\tlearn: 0.0968073\ttotal: 17.1s\tremaining: 3.82s\n",
      "819:\tlearn: 0.0967635\ttotal: 17.1s\tremaining: 3.76s\n",
      "822:\tlearn: 0.0967195\ttotal: 17.2s\tremaining: 3.7s\n",
      "825:\tlearn: 0.0966257\ttotal: 17.2s\tremaining: 3.63s\n",
      "828:\tlearn: 0.0965202\ttotal: 17.3s\tremaining: 3.57s\n",
      "831:\tlearn: 0.0964433\ttotal: 17.4s\tremaining: 3.5s\n",
      "834:\tlearn: 0.0963738\ttotal: 17.4s\tremaining: 3.44s\n",
      "837:\tlearn: 0.0962461\ttotal: 17.5s\tremaining: 3.38s\n",
      "840:\tlearn: 0.0961070\ttotal: 17.5s\tremaining: 3.32s\n",
      "843:\tlearn: 0.0959168\ttotal: 17.6s\tremaining: 3.25s\n",
      "846:\tlearn: 0.0957744\ttotal: 17.7s\tremaining: 3.19s\n",
      "849:\tlearn: 0.0956584\ttotal: 17.7s\tremaining: 3.13s\n",
      "852:\tlearn: 0.0955517\ttotal: 17.8s\tremaining: 3.06s\n",
      "855:\tlearn: 0.0954356\ttotal: 17.8s\tremaining: 3s\n",
      "858:\tlearn: 0.0953080\ttotal: 17.9s\tremaining: 2.94s\n",
      "861:\tlearn: 0.0951054\ttotal: 18s\tremaining: 2.87s\n",
      "864:\tlearn: 0.0949488\ttotal: 18s\tremaining: 2.81s\n",
      "867:\tlearn: 0.0947843\ttotal: 18.1s\tremaining: 2.75s\n",
      "870:\tlearn: 0.0946565\ttotal: 18.1s\tremaining: 2.69s\n",
      "873:\tlearn: 0.0944910\ttotal: 18.2s\tremaining: 2.62s\n",
      "876:\tlearn: 0.0942958\ttotal: 18.3s\tremaining: 2.56s\n",
      "879:\tlearn: 0.0941776\ttotal: 18.3s\tremaining: 2.5s\n",
      "882:\tlearn: 0.0940490\ttotal: 18.4s\tremaining: 2.43s\n",
      "885:\tlearn: 0.0939186\ttotal: 18.4s\tremaining: 2.37s\n",
      "888:\tlearn: 0.0937795\ttotal: 18.5s\tremaining: 2.31s\n",
      "891:\tlearn: 0.0936473\ttotal: 18.5s\tremaining: 2.24s\n",
      "894:\tlearn: 0.0935098\ttotal: 18.6s\tremaining: 2.18s\n",
      "897:\tlearn: 0.0934001\ttotal: 18.7s\tremaining: 2.12s\n",
      "900:\tlearn: 0.0932873\ttotal: 18.7s\tremaining: 2.06s\n",
      "903:\tlearn: 0.0931796\ttotal: 18.8s\tremaining: 1.99s\n",
      "906:\tlearn: 0.0930635\ttotal: 18.8s\tremaining: 1.93s\n",
      "909:\tlearn: 0.0929143\ttotal: 18.9s\tremaining: 1.87s\n",
      "912:\tlearn: 0.0927932\ttotal: 18.9s\tremaining: 1.8s\n",
      "915:\tlearn: 0.0926943\ttotal: 19s\tremaining: 1.74s\n",
      "918:\tlearn: 0.0926074\ttotal: 19.1s\tremaining: 1.68s\n",
      "921:\tlearn: 0.0924769\ttotal: 19.1s\tremaining: 1.62s\n",
      "924:\tlearn: 0.0923474\ttotal: 19.2s\tremaining: 1.55s\n",
      "927:\tlearn: 0.0922118\ttotal: 19.2s\tremaining: 1.49s\n",
      "930:\tlearn: 0.0921013\ttotal: 19.3s\tremaining: 1.43s\n",
      "933:\tlearn: 0.0919972\ttotal: 19.4s\tremaining: 1.37s\n",
      "936:\tlearn: 0.0918955\ttotal: 19.4s\tremaining: 1.3s\n",
      "939:\tlearn: 0.0917032\ttotal: 19.5s\tremaining: 1.24s\n",
      "942:\tlearn: 0.0915978\ttotal: 19.5s\tremaining: 1.18s\n",
      "945:\tlearn: 0.0914860\ttotal: 19.6s\tremaining: 1.12s\n",
      "948:\tlearn: 0.0914038\ttotal: 19.6s\tremaining: 1.05s\n",
      "951:\tlearn: 0.0912950\ttotal: 19.7s\tremaining: 993ms\n",
      "954:\tlearn: 0.0912255\ttotal: 19.8s\tremaining: 931ms\n",
      "957:\tlearn: 0.0911481\ttotal: 19.8s\tremaining: 869ms\n",
      "960:\tlearn: 0.0910931\ttotal: 19.9s\tremaining: 806ms\n",
      "963:\tlearn: 0.0909816\ttotal: 19.9s\tremaining: 744ms\n",
      "966:\tlearn: 0.0908247\ttotal: 20s\tremaining: 682ms\n",
      "969:\tlearn: 0.0907454\ttotal: 20s\tremaining: 620ms\n",
      "972:\tlearn: 0.0906773\ttotal: 20.1s\tremaining: 558ms\n",
      "975:\tlearn: 0.0906127\ttotal: 20.2s\tremaining: 496ms\n",
      "978:\tlearn: 0.0905287\ttotal: 20.2s\tremaining: 434ms\n",
      "981:\tlearn: 0.0904436\ttotal: 20.3s\tremaining: 372ms\n",
      "984:\tlearn: 0.0903704\ttotal: 20.4s\tremaining: 310ms\n",
      "987:\tlearn: 0.0902160\ttotal: 20.4s\tremaining: 248ms\n",
      "990:\tlearn: 0.0901541\ttotal: 20.5s\tremaining: 186ms\n",
      "993:\tlearn: 0.0900738\ttotal: 20.5s\tremaining: 124ms\n",
      "996:\tlearn: 0.0900065\ttotal: 20.6s\tremaining: 62ms\n",
      "999:\tlearn: 0.0899302\ttotal: 20.7s\tremaining: 0us\n"
     ]
    },
    {
     "data": {
      "text/plain": [
       "<catboost.core.CatBoostRegressor at 0x7e491db98670>"
      ]
     },
     "execution_count": 15,
     "metadata": {},
     "output_type": "execute_result"
    }
   ],
   "source": [
    "cb_reg=CatBoostRegressor(loss_function='MAPE',verbose=3)\n",
    "cb_reg.fit(X,y)"
   ]
  },
  {
   "cell_type": "code",
   "execution_count": 16,
   "id": "493d2c6c",
   "metadata": {
    "execution": {
     "iopub.execute_input": "2023-07-20T17:36:23.735173Z",
     "iopub.status.busy": "2023-07-20T17:36:23.734790Z",
     "iopub.status.idle": "2023-07-20T17:36:23.769313Z",
     "shell.execute_reply": "2023-07-20T17:36:23.768096Z"
    },
    "papermill": {
     "duration": 0.056222,
     "end_time": "2023-07-20T17:36:23.771974",
     "exception": false,
     "start_time": "2023-07-20T17:36:23.715752",
     "status": "completed"
    },
    "tags": []
   },
   "outputs": [
    {
     "data": {
      "text/plain": [
       "array([ 37.65109003,  35.47547464,   5.00696186, ...,  80.37452566,\n",
       "       425.80887339, 361.95864796])"
      ]
     },
     "execution_count": 16,
     "metadata": {},
     "output_type": "execute_result"
    }
   ],
   "source": [
    "cb_reg.predict(test)"
   ]
  },
  {
   "cell_type": "code",
   "execution_count": 17,
   "id": "9795b5d8",
   "metadata": {
    "execution": {
     "iopub.execute_input": "2023-07-20T17:36:23.808652Z",
     "iopub.status.busy": "2023-07-20T17:36:23.808242Z",
     "iopub.status.idle": "2023-07-20T17:36:24.004490Z",
     "shell.execute_reply": "2023-07-20T17:36:24.003274Z"
    },
    "papermill": {
     "duration": 0.218401,
     "end_time": "2023-07-20T17:36:24.007867",
     "exception": false,
     "start_time": "2023-07-20T17:36:23.789466",
     "status": "completed"
    },
    "tags": []
   },
   "outputs": [],
   "source": [
    "submission=pd.DataFrame(index=test.index)\n",
    "#submission['id']=test.index\n",
    "num_sold=[round(x) for x in cb_reg.predict(test)]\n",
    "submission['num_sold']=num_sold\n",
    "submission.to_csv(\"submission.csv\",index='id')"
   ]
  },
  {
   "cell_type": "code",
   "execution_count": 18,
   "id": "1d021df0",
   "metadata": {
    "execution": {
     "iopub.execute_input": "2023-07-20T17:36:24.045461Z",
     "iopub.status.busy": "2023-07-20T17:36:24.045054Z",
     "iopub.status.idle": "2023-07-20T17:36:24.057099Z",
     "shell.execute_reply": "2023-07-20T17:36:24.055831Z"
    },
    "papermill": {
     "duration": 0.034142,
     "end_time": "2023-07-20T17:36:24.059689",
     "exception": false,
     "start_time": "2023-07-20T17:36:24.025547",
     "status": "completed"
    },
    "tags": []
   },
   "outputs": [
    {
     "data": {
      "text/html": [
       "<div>\n",
       "<style scoped>\n",
       "    .dataframe tbody tr th:only-of-type {\n",
       "        vertical-align: middle;\n",
       "    }\n",
       "\n",
       "    .dataframe tbody tr th {\n",
       "        vertical-align: top;\n",
       "    }\n",
       "\n",
       "    .dataframe thead th {\n",
       "        text-align: right;\n",
       "    }\n",
       "</style>\n",
       "<table border=\"1\" class=\"dataframe\">\n",
       "  <thead>\n",
       "    <tr style=\"text-align: right;\">\n",
       "      <th></th>\n",
       "      <th>num_sold</th>\n",
       "    </tr>\n",
       "    <tr>\n",
       "      <th>id</th>\n",
       "      <th></th>\n",
       "    </tr>\n",
       "  </thead>\n",
       "  <tbody>\n",
       "    <tr>\n",
       "      <th>136950</th>\n",
       "      <td>38</td>\n",
       "    </tr>\n",
       "    <tr>\n",
       "      <th>136951</th>\n",
       "      <td>35</td>\n",
       "    </tr>\n",
       "    <tr>\n",
       "      <th>136952</th>\n",
       "      <td>5</td>\n",
       "    </tr>\n",
       "    <tr>\n",
       "      <th>136953</th>\n",
       "      <td>30</td>\n",
       "    </tr>\n",
       "    <tr>\n",
       "      <th>136954</th>\n",
       "      <td>27</td>\n",
       "    </tr>\n",
       "    <tr>\n",
       "      <th>...</th>\n",
       "      <td>...</td>\n",
       "    </tr>\n",
       "    <tr>\n",
       "      <th>164320</th>\n",
       "      <td>525</td>\n",
       "    </tr>\n",
       "    <tr>\n",
       "      <th>164321</th>\n",
       "      <td>491</td>\n",
       "    </tr>\n",
       "    <tr>\n",
       "      <th>164322</th>\n",
       "      <td>80</td>\n",
       "    </tr>\n",
       "    <tr>\n",
       "      <th>164323</th>\n",
       "      <td>426</td>\n",
       "    </tr>\n",
       "    <tr>\n",
       "      <th>164324</th>\n",
       "      <td>362</td>\n",
       "    </tr>\n",
       "  </tbody>\n",
       "</table>\n",
       "<p>27375 rows × 1 columns</p>\n",
       "</div>"
      ],
      "text/plain": [
       "        num_sold\n",
       "id              \n",
       "136950        38\n",
       "136951        35\n",
       "136952         5\n",
       "136953        30\n",
       "136954        27\n",
       "...          ...\n",
       "164320       525\n",
       "164321       491\n",
       "164322        80\n",
       "164323       426\n",
       "164324       362\n",
       "\n",
       "[27375 rows x 1 columns]"
      ]
     },
     "execution_count": 18,
     "metadata": {},
     "output_type": "execute_result"
    }
   ],
   "source": [
    "submission"
   ]
  },
  {
   "cell_type": "code",
   "execution_count": null,
   "id": "f2137e31",
   "metadata": {
    "papermill": {
     "duration": 0.017778,
     "end_time": "2023-07-20T17:36:24.095441",
     "exception": false,
     "start_time": "2023-07-20T17:36:24.077663",
     "status": "completed"
    },
    "tags": []
   },
   "outputs": [],
   "source": []
  }
 ],
 "metadata": {
  "kernelspec": {
   "display_name": "Python 3",
   "language": "python",
   "name": "python3"
  },
  "language_info": {
   "codemirror_mode": {
    "name": "ipython",
    "version": 3
   },
   "file_extension": ".py",
   "mimetype": "text/x-python",
   "name": "python",
   "nbconvert_exporter": "python",
   "pygments_lexer": "ipython3",
   "version": "3.10.12"
  },
  "papermill": {
   "default_parameters": {},
   "duration": 50.786755,
   "end_time": "2023-07-20T17:36:27.214928",
   "environment_variables": {},
   "exception": null,
   "input_path": "__notebook__.ipynb",
   "output_path": "__notebook__.ipynb",
   "parameters": {},
   "start_time": "2023-07-20T17:35:36.428173",
   "version": "2.4.0"
  }
 },
 "nbformat": 4,
 "nbformat_minor": 5
}
