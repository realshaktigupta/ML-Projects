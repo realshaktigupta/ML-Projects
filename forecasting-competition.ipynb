{
 "cells": [
  {
   "cell_type": "code",
   "execution_count": 1,
   "id": "7a54919c",
   "metadata": {
    "_cell_guid": "b1076dfc-b9ad-4769-8c92-a6c4dae69d19",
    "_uuid": "8f2839f25d086af736a60e9eeb907d3b93b6e0e5",
    "execution": {
     "iopub.execute_input": "2023-07-19T19:19:43.343867Z",
     "iopub.status.busy": "2023-07-19T19:19:43.343388Z",
     "iopub.status.idle": "2023-07-19T19:19:52.806579Z",
     "shell.execute_reply": "2023-07-19T19:19:52.805495Z"
    },
    "papermill": {
     "duration": 9.472933,
     "end_time": "2023-07-19T19:19:52.809287",
     "exception": false,
     "start_time": "2023-07-19T19:19:43.336354",
     "status": "completed"
    },
    "tags": []
   },
   "outputs": [
    {
     "name": "stderr",
     "output_type": "stream",
     "text": [
      "/opt/conda/lib/python3.10/site-packages/scipy/__init__.py:146: UserWarning: A NumPy version >=1.16.5 and <1.23.0 is required for this version of SciPy (detected version 1.23.5\n",
      "  warnings.warn(f\"A NumPy version >={np_minversion} and <{np_maxversion}\"\n",
      "/opt/conda/lib/python3.10/site-packages/tensorflow_io/python/ops/__init__.py:98: UserWarning: unable to load libtensorflow_io_plugins.so: unable to open file: libtensorflow_io_plugins.so, from paths: ['/opt/conda/lib/python3.10/site-packages/tensorflow_io/python/ops/libtensorflow_io_plugins.so']\n",
      "caused by: ['/opt/conda/lib/python3.10/site-packages/tensorflow_io/python/ops/libtensorflow_io_plugins.so: undefined symbol: _ZN3tsl6StatusC1EN10tensorflow5error4CodeESt17basic_string_viewIcSt11char_traitsIcEENS_14SourceLocationE']\n",
      "  warnings.warn(f\"unable to load libtensorflow_io_plugins.so: {e}\")\n",
      "/opt/conda/lib/python3.10/site-packages/tensorflow_io/python/ops/__init__.py:104: UserWarning: file system plugins are not loaded: unable to open file: libtensorflow_io.so, from paths: ['/opt/conda/lib/python3.10/site-packages/tensorflow_io/python/ops/libtensorflow_io.so']\n",
      "caused by: ['/opt/conda/lib/python3.10/site-packages/tensorflow_io/python/ops/libtensorflow_io.so: undefined symbol: _ZTVN10tensorflow13GcsFileSystemE']\n",
      "  warnings.warn(f\"file system plugins are not loaded: {e}\")\n"
     ]
    }
   ],
   "source": [
    "import numpy as np\n",
    "import pandas as pd\n",
    "import os\n",
    "import tensorflow as tf\n",
    "import keras\n",
    "import datetime\n",
    "from tqdm import tqdm\n",
    "from sklearn.model_selection import TimeSeriesSplit\n",
    "import matplotlib.pyplot as plt"
   ]
  },
  {
   "cell_type": "code",
   "execution_count": 2,
   "id": "9766124b",
   "metadata": {
    "execution": {
     "iopub.execute_input": "2023-07-19T19:19:52.820464Z",
     "iopub.status.busy": "2023-07-19T19:19:52.819781Z",
     "iopub.status.idle": "2023-07-19T19:19:52.824643Z",
     "shell.execute_reply": "2023-07-19T19:19:52.823726Z"
    },
    "papermill": {
     "duration": 0.012886,
     "end_time": "2023-07-19T19:19:52.826745",
     "exception": false,
     "start_time": "2023-07-19T19:19:52.813859",
     "status": "completed"
    },
    "tags": []
   },
   "outputs": [],
   "source": [
    "#This notebooks is a work in progress and incomplete."
   ]
  },
  {
   "cell_type": "code",
   "execution_count": 3,
   "id": "07acd008",
   "metadata": {
    "execution": {
     "iopub.execute_input": "2023-07-19T19:19:52.837087Z",
     "iopub.status.busy": "2023-07-19T19:19:52.836728Z",
     "iopub.status.idle": "2023-07-19T19:19:53.137317Z",
     "shell.execute_reply": "2023-07-19T19:19:53.136128Z"
    },
    "papermill": {
     "duration": 0.308594,
     "end_time": "2023-07-19T19:19:53.139889",
     "exception": false,
     "start_time": "2023-07-19T19:19:52.831295",
     "status": "completed"
    },
    "tags": []
   },
   "outputs": [],
   "source": [
    "train=pd.read_csv(\"/kaggle/input/playground-series-s3e19/train.csv\",index_col='id')\n",
    "test=pd.read_csv(\"/kaggle/input/playground-series-s3e19/test.csv\",index_col='id')"
   ]
  },
  {
   "cell_type": "code",
   "execution_count": 4,
   "id": "b7286f7e",
   "metadata": {
    "execution": {
     "iopub.execute_input": "2023-07-19T19:19:53.151558Z",
     "iopub.status.busy": "2023-07-19T19:19:53.150875Z",
     "iopub.status.idle": "2023-07-19T19:19:53.168701Z",
     "shell.execute_reply": "2023-07-19T19:19:53.167615Z"
    },
    "papermill": {
     "duration": 0.026463,
     "end_time": "2023-07-19T19:19:53.170869",
     "exception": false,
     "start_time": "2023-07-19T19:19:53.144406",
     "status": "completed"
    },
    "tags": []
   },
   "outputs": [
    {
     "data": {
      "text/html": [
       "<div>\n",
       "<style scoped>\n",
       "    .dataframe tbody tr th:only-of-type {\n",
       "        vertical-align: middle;\n",
       "    }\n",
       "\n",
       "    .dataframe tbody tr th {\n",
       "        vertical-align: top;\n",
       "    }\n",
       "\n",
       "    .dataframe thead th {\n",
       "        text-align: right;\n",
       "    }\n",
       "</style>\n",
       "<table border=\"1\" class=\"dataframe\">\n",
       "  <thead>\n",
       "    <tr style=\"text-align: right;\">\n",
       "      <th></th>\n",
       "      <th>date</th>\n",
       "      <th>country</th>\n",
       "      <th>store</th>\n",
       "      <th>product</th>\n",
       "      <th>num_sold</th>\n",
       "    </tr>\n",
       "    <tr>\n",
       "      <th>id</th>\n",
       "      <th></th>\n",
       "      <th></th>\n",
       "      <th></th>\n",
       "      <th></th>\n",
       "      <th></th>\n",
       "    </tr>\n",
       "  </thead>\n",
       "  <tbody>\n",
       "    <tr>\n",
       "      <th>0</th>\n",
       "      <td>2017-01-01</td>\n",
       "      <td>Argentina</td>\n",
       "      <td>Kaggle Learn</td>\n",
       "      <td>Using LLMs to Improve Your Coding</td>\n",
       "      <td>63</td>\n",
       "    </tr>\n",
       "    <tr>\n",
       "      <th>1</th>\n",
       "      <td>2017-01-01</td>\n",
       "      <td>Argentina</td>\n",
       "      <td>Kaggle Learn</td>\n",
       "      <td>Using LLMs to Train More LLMs</td>\n",
       "      <td>66</td>\n",
       "    </tr>\n",
       "    <tr>\n",
       "      <th>2</th>\n",
       "      <td>2017-01-01</td>\n",
       "      <td>Argentina</td>\n",
       "      <td>Kaggle Learn</td>\n",
       "      <td>Using LLMs to Win Friends and Influence People</td>\n",
       "      <td>9</td>\n",
       "    </tr>\n",
       "    <tr>\n",
       "      <th>3</th>\n",
       "      <td>2017-01-01</td>\n",
       "      <td>Argentina</td>\n",
       "      <td>Kaggle Learn</td>\n",
       "      <td>Using LLMs to Win More Kaggle Competitions</td>\n",
       "      <td>59</td>\n",
       "    </tr>\n",
       "    <tr>\n",
       "      <th>4</th>\n",
       "      <td>2017-01-01</td>\n",
       "      <td>Argentina</td>\n",
       "      <td>Kaggle Learn</td>\n",
       "      <td>Using LLMs to Write Better</td>\n",
       "      <td>49</td>\n",
       "    </tr>\n",
       "  </tbody>\n",
       "</table>\n",
       "</div>"
      ],
      "text/plain": [
       "          date    country         store  \\\n",
       "id                                        \n",
       "0   2017-01-01  Argentina  Kaggle Learn   \n",
       "1   2017-01-01  Argentina  Kaggle Learn   \n",
       "2   2017-01-01  Argentina  Kaggle Learn   \n",
       "3   2017-01-01  Argentina  Kaggle Learn   \n",
       "4   2017-01-01  Argentina  Kaggle Learn   \n",
       "\n",
       "                                           product  num_sold  \n",
       "id                                                            \n",
       "0                Using LLMs to Improve Your Coding        63  \n",
       "1                    Using LLMs to Train More LLMs        66  \n",
       "2   Using LLMs to Win Friends and Influence People         9  \n",
       "3       Using LLMs to Win More Kaggle Competitions        59  \n",
       "4                       Using LLMs to Write Better        49  "
      ]
     },
     "execution_count": 4,
     "metadata": {},
     "output_type": "execute_result"
    }
   ],
   "source": [
    "train.head()"
   ]
  },
  {
   "cell_type": "code",
   "execution_count": 5,
   "id": "728bcd24",
   "metadata": {
    "execution": {
     "iopub.execute_input": "2023-07-19T19:19:53.181399Z",
     "iopub.status.busy": "2023-07-19T19:19:53.180999Z",
     "iopub.status.idle": "2023-07-19T19:19:53.196938Z",
     "shell.execute_reply": "2023-07-19T19:19:53.195925Z"
    },
    "papermill": {
     "duration": 0.023533,
     "end_time": "2023-07-19T19:19:53.199056",
     "exception": false,
     "start_time": "2023-07-19T19:19:53.175523",
     "status": "completed"
    },
    "tags": []
   },
   "outputs": [
    {
     "data": {
      "text/plain": [
       "1826"
      ]
     },
     "execution_count": 5,
     "metadata": {},
     "output_type": "execute_result"
    }
   ],
   "source": [
    "len(train['date'].unique())"
   ]
  },
  {
   "cell_type": "code",
   "execution_count": 6,
   "id": "bc8a5450",
   "metadata": {
    "execution": {
     "iopub.execute_input": "2023-07-19T19:19:53.209870Z",
     "iopub.status.busy": "2023-07-19T19:19:53.209490Z",
     "iopub.status.idle": "2023-07-19T19:19:53.244443Z",
     "shell.execute_reply": "2023-07-19T19:19:53.243241Z"
    },
    "papermill": {
     "duration": 0.043254,
     "end_time": "2023-07-19T19:19:53.247013",
     "exception": false,
     "start_time": "2023-07-19T19:19:53.203759",
     "status": "completed"
    },
    "tags": []
   },
   "outputs": [
    {
     "name": "stdout",
     "output_type": "stream",
     "text": [
      "country : ['Argentina' 'Canada' 'Estonia' 'Japan' 'Spain']\n",
      "store : ['Kaggle Learn' 'Kaggle Store' 'Kagglazon']\n",
      "product : ['Using LLMs to Improve Your Coding' 'Using LLMs to Train More LLMs'\n",
      " 'Using LLMs to Win Friends and Influence People'\n",
      " 'Using LLMs to Win More Kaggle Competitions' 'Using LLMs to Write Better']\n"
     ]
    }
   ],
   "source": [
    "cat_features=['country','store','product']\n",
    "for feature in cat_features:\n",
    "    print(feature,':',train[feature].unique())"
   ]
  },
  {
   "cell_type": "code",
   "execution_count": 7,
   "id": "9bc31ca6",
   "metadata": {
    "execution": {
     "iopub.execute_input": "2023-07-19T19:19:53.259452Z",
     "iopub.status.busy": "2023-07-19T19:19:53.259063Z",
     "iopub.status.idle": "2023-07-19T19:19:53.361490Z",
     "shell.execute_reply": "2023-07-19T19:19:53.360365Z"
    },
    "papermill": {
     "duration": 0.110702,
     "end_time": "2023-07-19T19:19:53.363969",
     "exception": false,
     "start_time": "2023-07-19T19:19:53.253267",
     "status": "completed"
    },
    "tags": []
   },
   "outputs": [
    {
     "name": "stdout",
     "output_type": "stream",
     "text": [
      "<class 'pandas.core.frame.DataFrame'>\n",
      "Int64Index: 136950 entries, 0 to 136949\n",
      "Data columns (total 5 columns):\n",
      " #   Column    Non-Null Count   Dtype \n",
      "---  ------    --------------   ----- \n",
      " 0   date      136950 non-null  object\n",
      " 1   country   136950 non-null  object\n",
      " 2   store     136950 non-null  object\n",
      " 3   product   136950 non-null  object\n",
      " 4   num_sold  136950 non-null  int64 \n",
      "dtypes: int64(1), object(4)\n",
      "memory usage: 6.3+ MB\n"
     ]
    }
   ],
   "source": [
    "train.info()"
   ]
  },
  {
   "cell_type": "code",
   "execution_count": 8,
   "id": "0d9fb2aa",
   "metadata": {
    "execution": {
     "iopub.execute_input": "2023-07-19T19:19:53.375156Z",
     "iopub.status.busy": "2023-07-19T19:19:53.374738Z",
     "iopub.status.idle": "2023-07-19T19:19:53.382504Z",
     "shell.execute_reply": "2023-07-19T19:19:53.381422Z"
    },
    "papermill": {
     "duration": 0.015924,
     "end_time": "2023-07-19T19:19:53.384651",
     "exception": false,
     "start_time": "2023-07-19T19:19:53.368727",
     "status": "completed"
    },
    "tags": []
   },
   "outputs": [],
   "source": [
    "def data_encoding(dataset):\n",
    "    cat_features=['country','store','product']\n",
    "    for feature in tqdm(cat_features):\n",
    "        dictionary={}\n",
    "        n=1\n",
    "        print('feature:',feature)\n",
    "        print('categories:',dataset[feature].unique())\n",
    "        for sub_cat in dataset[feature].unique():\n",
    "            dictionary[sub_cat]=n\n",
    "            n+=1\n",
    "        print('encoding rule:',dictionary)\n",
    "        dataset[feature]=dataset[feature].map(dictionary)\n",
    "        dummies=pd.get_dummies(dataset[feature],prefix=feature)\n",
    "        for key in dummies:\n",
    "            dataset[key]=dummies[key]\n",
    "        dataset=dataset.drop(feature,axis=1)\n",
    "    dataset['date']=pd.to_datetime(dataset['date'],format='%Y-%m-%d')\n",
    "    print(\"Dates converted to datetime64 format\")\n",
    "    return dataset"
   ]
  },
  {
   "cell_type": "code",
   "execution_count": 9,
   "id": "dcd18cd0",
   "metadata": {
    "execution": {
     "iopub.execute_input": "2023-07-19T19:19:53.396047Z",
     "iopub.status.busy": "2023-07-19T19:19:53.395672Z",
     "iopub.status.idle": "2023-07-19T19:19:53.640596Z",
     "shell.execute_reply": "2023-07-19T19:19:53.639095Z"
    },
    "papermill": {
     "duration": 0.253527,
     "end_time": "2023-07-19T19:19:53.643219",
     "exception": false,
     "start_time": "2023-07-19T19:19:53.389692",
     "status": "completed"
    },
    "tags": []
   },
   "outputs": [
    {
     "name": "stderr",
     "output_type": "stream",
     "text": [
      "  0%|          | 0/3 [00:00<?, ?it/s]"
     ]
    },
    {
     "name": "stdout",
     "output_type": "stream",
     "text": [
      "feature: country\n",
      "categories: ['Argentina' 'Canada' 'Estonia' 'Japan' 'Spain']\n",
      "encoding rule: {'Argentina': 1, 'Canada': 2, 'Estonia': 3, 'Japan': 4, 'Spain': 5}\n"
     ]
    },
    {
     "name": "stderr",
     "output_type": "stream",
     "text": [
      " 67%|██████▋   | 2/3 [00:00<00:00, 19.86it/s]"
     ]
    },
    {
     "name": "stdout",
     "output_type": "stream",
     "text": [
      "feature: store\n",
      "categories: ['Kaggle Learn' 'Kaggle Store' 'Kagglazon']\n",
      "encoding rule: {'Kaggle Learn': 1, 'Kaggle Store': 2, 'Kagglazon': 3}\n",
      "feature: product\n",
      "categories: ['Using LLMs to Improve Your Coding' 'Using LLMs to Train More LLMs'\n",
      " 'Using LLMs to Win Friends and Influence People'\n",
      " 'Using LLMs to Win More Kaggle Competitions' 'Using LLMs to Write Better']\n",
      "encoding rule: {'Using LLMs to Improve Your Coding': 1, 'Using LLMs to Train More LLMs': 2, 'Using LLMs to Win Friends and Influence People': 3, 'Using LLMs to Win More Kaggle Competitions': 4, 'Using LLMs to Write Better': 5}\n"
     ]
    },
    {
     "name": "stderr",
     "output_type": "stream",
     "text": [
      "100%|██████████| 3/3 [00:00<00:00, 18.33it/s]\n"
     ]
    },
    {
     "name": "stdout",
     "output_type": "stream",
     "text": [
      "Dates converted to datetime64 format\n"
     ]
    },
    {
     "name": "stderr",
     "output_type": "stream",
     "text": [
      "  0%|          | 0/3 [00:00<?, ?it/s]"
     ]
    },
    {
     "name": "stdout",
     "output_type": "stream",
     "text": [
      "feature: country\n",
      "categories: ['Argentina' 'Canada' 'Estonia' 'Japan' 'Spain']\n",
      "encoding rule: {'Argentina': 1, 'Canada': 2, 'Estonia': 3, 'Japan': 4, 'Spain': 5}\n",
      "feature: store\n"
     ]
    },
    {
     "name": "stderr",
     "output_type": "stream",
     "text": [
      "100%|██████████| 3/3 [00:00<00:00, 68.65it/s]"
     ]
    },
    {
     "name": "stdout",
     "output_type": "stream",
     "text": [
      "categories: ['Kaggle Learn' 'Kaggle Store' 'Kagglazon']\n",
      "encoding rule: {'Kaggle Learn': 1, 'Kaggle Store': 2, 'Kagglazon': 3}\n",
      "feature: product\n",
      "categories: ['Using LLMs to Improve Your Coding' 'Using LLMs to Train More LLMs'\n",
      " 'Using LLMs to Win Friends and Influence People'\n",
      " 'Using LLMs to Win More Kaggle Competitions' 'Using LLMs to Write Better']\n",
      "encoding rule: {'Using LLMs to Improve Your Coding': 1, 'Using LLMs to Train More LLMs': 2, 'Using LLMs to Win Friends and Influence People': 3, 'Using LLMs to Win More Kaggle Competitions': 4, 'Using LLMs to Write Better': 5}\n",
      "Dates converted to datetime64 format\n"
     ]
    },
    {
     "name": "stderr",
     "output_type": "stream",
     "text": [
      "\n"
     ]
    }
   ],
   "source": [
    "train=data_encoding(train)\n",
    "test=data_encoding(test)"
   ]
  },
  {
   "cell_type": "code",
   "execution_count": 10,
   "id": "080c011b",
   "metadata": {
    "execution": {
     "iopub.execute_input": "2023-07-19T19:19:53.656334Z",
     "iopub.status.busy": "2023-07-19T19:19:53.655953Z",
     "iopub.status.idle": "2023-07-19T19:19:53.669767Z",
     "shell.execute_reply": "2023-07-19T19:19:53.668735Z"
    },
    "papermill": {
     "duration": 0.023059,
     "end_time": "2023-07-19T19:19:53.671816",
     "exception": false,
     "start_time": "2023-07-19T19:19:53.648757",
     "status": "completed"
    },
    "tags": []
   },
   "outputs": [
    {
     "data": {
      "text/html": [
       "<div>\n",
       "<style scoped>\n",
       "    .dataframe tbody tr th:only-of-type {\n",
       "        vertical-align: middle;\n",
       "    }\n",
       "\n",
       "    .dataframe tbody tr th {\n",
       "        vertical-align: top;\n",
       "    }\n",
       "\n",
       "    .dataframe thead th {\n",
       "        text-align: right;\n",
       "    }\n",
       "</style>\n",
       "<table border=\"1\" class=\"dataframe\">\n",
       "  <thead>\n",
       "    <tr style=\"text-align: right;\">\n",
       "      <th></th>\n",
       "      <th>date</th>\n",
       "      <th>num_sold</th>\n",
       "      <th>country_1</th>\n",
       "      <th>country_2</th>\n",
       "      <th>country_3</th>\n",
       "      <th>country_4</th>\n",
       "      <th>country_5</th>\n",
       "      <th>store_1</th>\n",
       "      <th>store_2</th>\n",
       "      <th>store_3</th>\n",
       "      <th>product_1</th>\n",
       "      <th>product_2</th>\n",
       "      <th>product_3</th>\n",
       "      <th>product_4</th>\n",
       "      <th>product_5</th>\n",
       "    </tr>\n",
       "    <tr>\n",
       "      <th>id</th>\n",
       "      <th></th>\n",
       "      <th></th>\n",
       "      <th></th>\n",
       "      <th></th>\n",
       "      <th></th>\n",
       "      <th></th>\n",
       "      <th></th>\n",
       "      <th></th>\n",
       "      <th></th>\n",
       "      <th></th>\n",
       "      <th></th>\n",
       "      <th></th>\n",
       "      <th></th>\n",
       "      <th></th>\n",
       "      <th></th>\n",
       "    </tr>\n",
       "  </thead>\n",
       "  <tbody>\n",
       "    <tr>\n",
       "      <th>0</th>\n",
       "      <td>2017-01-01</td>\n",
       "      <td>63</td>\n",
       "      <td>1</td>\n",
       "      <td>0</td>\n",
       "      <td>0</td>\n",
       "      <td>0</td>\n",
       "      <td>0</td>\n",
       "      <td>1</td>\n",
       "      <td>0</td>\n",
       "      <td>0</td>\n",
       "      <td>1</td>\n",
       "      <td>0</td>\n",
       "      <td>0</td>\n",
       "      <td>0</td>\n",
       "      <td>0</td>\n",
       "    </tr>\n",
       "    <tr>\n",
       "      <th>1</th>\n",
       "      <td>2017-01-01</td>\n",
       "      <td>66</td>\n",
       "      <td>1</td>\n",
       "      <td>0</td>\n",
       "      <td>0</td>\n",
       "      <td>0</td>\n",
       "      <td>0</td>\n",
       "      <td>1</td>\n",
       "      <td>0</td>\n",
       "      <td>0</td>\n",
       "      <td>0</td>\n",
       "      <td>1</td>\n",
       "      <td>0</td>\n",
       "      <td>0</td>\n",
       "      <td>0</td>\n",
       "    </tr>\n",
       "    <tr>\n",
       "      <th>2</th>\n",
       "      <td>2017-01-01</td>\n",
       "      <td>9</td>\n",
       "      <td>1</td>\n",
       "      <td>0</td>\n",
       "      <td>0</td>\n",
       "      <td>0</td>\n",
       "      <td>0</td>\n",
       "      <td>1</td>\n",
       "      <td>0</td>\n",
       "      <td>0</td>\n",
       "      <td>0</td>\n",
       "      <td>0</td>\n",
       "      <td>1</td>\n",
       "      <td>0</td>\n",
       "      <td>0</td>\n",
       "    </tr>\n",
       "    <tr>\n",
       "      <th>3</th>\n",
       "      <td>2017-01-01</td>\n",
       "      <td>59</td>\n",
       "      <td>1</td>\n",
       "      <td>0</td>\n",
       "      <td>0</td>\n",
       "      <td>0</td>\n",
       "      <td>0</td>\n",
       "      <td>1</td>\n",
       "      <td>0</td>\n",
       "      <td>0</td>\n",
       "      <td>0</td>\n",
       "      <td>0</td>\n",
       "      <td>0</td>\n",
       "      <td>1</td>\n",
       "      <td>0</td>\n",
       "    </tr>\n",
       "    <tr>\n",
       "      <th>4</th>\n",
       "      <td>2017-01-01</td>\n",
       "      <td>49</td>\n",
       "      <td>1</td>\n",
       "      <td>0</td>\n",
       "      <td>0</td>\n",
       "      <td>0</td>\n",
       "      <td>0</td>\n",
       "      <td>1</td>\n",
       "      <td>0</td>\n",
       "      <td>0</td>\n",
       "      <td>0</td>\n",
       "      <td>0</td>\n",
       "      <td>0</td>\n",
       "      <td>0</td>\n",
       "      <td>1</td>\n",
       "    </tr>\n",
       "  </tbody>\n",
       "</table>\n",
       "</div>"
      ],
      "text/plain": [
       "         date  num_sold  country_1  country_2  country_3  country_4  \\\n",
       "id                                                                    \n",
       "0  2017-01-01        63          1          0          0          0   \n",
       "1  2017-01-01        66          1          0          0          0   \n",
       "2  2017-01-01         9          1          0          0          0   \n",
       "3  2017-01-01        59          1          0          0          0   \n",
       "4  2017-01-01        49          1          0          0          0   \n",
       "\n",
       "    country_5  store_1  store_2  store_3  product_1  product_2  product_3  \\\n",
       "id                                                                          \n",
       "0           0        1        0        0          1          0          0   \n",
       "1           0        1        0        0          0          1          0   \n",
       "2           0        1        0        0          0          0          1   \n",
       "3           0        1        0        0          0          0          0   \n",
       "4           0        1        0        0          0          0          0   \n",
       "\n",
       "    product_4  product_5  \n",
       "id                        \n",
       "0           0          0  \n",
       "1           0          0  \n",
       "2           0          0  \n",
       "3           1          0  \n",
       "4           0          1  "
      ]
     },
     "execution_count": 10,
     "metadata": {},
     "output_type": "execute_result"
    }
   ],
   "source": [
    "train.head()"
   ]
  },
  {
   "cell_type": "code",
   "execution_count": 11,
   "id": "cf96a5fc",
   "metadata": {
    "execution": {
     "iopub.execute_input": "2023-07-19T19:19:53.686246Z",
     "iopub.status.busy": "2023-07-19T19:19:53.685299Z",
     "iopub.status.idle": "2023-07-19T19:19:53.702564Z",
     "shell.execute_reply": "2023-07-19T19:19:53.701445Z"
    },
    "papermill": {
     "duration": 0.027226,
     "end_time": "2023-07-19T19:19:53.705042",
     "exception": false,
     "start_time": "2023-07-19T19:19:53.677816",
     "status": "completed"
    },
    "tags": []
   },
   "outputs": [
    {
     "name": "stdout",
     "output_type": "stream",
     "text": [
      "<class 'pandas.core.frame.DataFrame'>\n",
      "Int64Index: 136950 entries, 0 to 136949\n",
      "Data columns (total 15 columns):\n",
      " #   Column     Non-Null Count   Dtype         \n",
      "---  ------     --------------   -----         \n",
      " 0   date       136950 non-null  datetime64[ns]\n",
      " 1   num_sold   136950 non-null  int64         \n",
      " 2   country_1  136950 non-null  uint8         \n",
      " 3   country_2  136950 non-null  uint8         \n",
      " 4   country_3  136950 non-null  uint8         \n",
      " 5   country_4  136950 non-null  uint8         \n",
      " 6   country_5  136950 non-null  uint8         \n",
      " 7   store_1    136950 non-null  uint8         \n",
      " 8   store_2    136950 non-null  uint8         \n",
      " 9   store_3    136950 non-null  uint8         \n",
      " 10  product_1  136950 non-null  uint8         \n",
      " 11  product_2  136950 non-null  uint8         \n",
      " 12  product_3  136950 non-null  uint8         \n",
      " 13  product_4  136950 non-null  uint8         \n",
      " 14  product_5  136950 non-null  uint8         \n",
      "dtypes: datetime64[ns](1), int64(1), uint8(13)\n",
      "memory usage: 4.8 MB\n"
     ]
    }
   ],
   "source": [
    "train.info()"
   ]
  },
  {
   "cell_type": "code",
   "execution_count": 12,
   "id": "993366db",
   "metadata": {
    "execution": {
     "iopub.execute_input": "2023-07-19T19:19:53.719003Z",
     "iopub.status.busy": "2023-07-19T19:19:53.718639Z",
     "iopub.status.idle": "2023-07-19T19:19:53.730379Z",
     "shell.execute_reply": "2023-07-19T19:19:53.729255Z"
    },
    "papermill": {
     "duration": 0.021327,
     "end_time": "2023-07-19T19:19:53.732618",
     "exception": false,
     "start_time": "2023-07-19T19:19:53.711291",
     "status": "completed"
    },
    "tags": []
   },
   "outputs": [],
   "source": [
    "def datetime_features(df_temp):\n",
    "    \"\"\"\n",
    "ref:-https://www.kaggle.com/code/chingiznurzhanov/timeseriessplit-catboost-trick\n",
    "    \"\"\"\n",
    "    df_temp['month'] = df_temp['date'].dt.month\n",
    "    df_temp['day'] = df_temp['date'].dt.day\n",
    "    df_temp['year'] = df_temp['date'].dt.year\n",
    "    df_temp['dayofweek'] = df_temp['date'].dt.dayofweek\n",
    "    df_temp['quarter'] = df_temp['date'].dt.quarter\n",
    "    df_temp['dayofmonth'] = df_temp['date'].dt.day\n",
    "    df_temp['weekofyear'] = df_temp['date'].dt.weekofyear\n",
    "    df_temp['is_month_start'] = df_temp.date.dt.is_month_start.astype(np.int8)\n",
    "    df_temp['is_month_end'] = df_temp.date.dt.is_month_end.astype(np.int8)\n",
    "    df_temp['monday'] = df_temp.date.dt.weekday.eq(0).astype(np.uint8)\n",
    "    df_temp['tuesday'] = df_temp.date.dt.weekday.eq(1).astype(np.uint8)\n",
    "    df_temp['wednesday'] = df_temp.date.dt.weekday.eq(2).astype(np.uint8)\n",
    "    df_temp['thursday'] = df_temp.date.dt.weekday.eq(3).astype(np.uint8)\n",
    "    df_temp['friday'] = df_temp.date.dt.weekday.eq(4).astype(np.uint8)\n",
    "    df_temp['saturday'] = df_temp.date.dt.weekday.eq(5).astype(np.uint8)\n",
    "    df_temp['sunday'] = df_temp.date.dt.weekday.eq(6).astype(np.uint8)\n",
    "    df_temp['is_quarter_end'] = df_temp['date'].dt.is_quarter_end\n",
    "    df_temp['is_quarter_start'] = df_temp['date'].dt.is_quarter_start\n",
    "    df_temp['is_year_end'] = df_temp['date'].dt.is_year_end\n",
    "    df_temp['is_year_start'] = df_temp['date'].dt.is_year_start\n",
    "    return df_temp"
   ]
  },
  {
   "cell_type": "code",
   "execution_count": null,
   "id": "38cbdef2",
   "metadata": {
    "papermill": {
     "duration": 0.005754,
     "end_time": "2023-07-19T19:19:53.744625",
     "exception": false,
     "start_time": "2023-07-19T19:19:53.738871",
     "status": "completed"
    },
    "tags": []
   },
   "outputs": [],
   "source": []
  },
  {
   "cell_type": "code",
   "execution_count": 13,
   "id": "672b5514",
   "metadata": {
    "execution": {
     "iopub.execute_input": "2023-07-19T19:19:53.758535Z",
     "iopub.status.busy": "2023-07-19T19:19:53.758104Z",
     "iopub.status.idle": "2023-07-19T19:19:53.763606Z",
     "shell.execute_reply": "2023-07-19T19:19:53.762829Z"
    },
    "papermill": {
     "duration": 0.014873,
     "end_time": "2023-07-19T19:19:53.765630",
     "exception": false,
     "start_time": "2023-07-19T19:19:53.750757",
     "status": "completed"
    },
    "tags": []
   },
   "outputs": [],
   "source": [
    "#splitting into training and validation sets\n",
    "val=train[round(0.7*len(train)):]\n",
    "train=train[:round(0.7*len(train))]"
   ]
  },
  {
   "cell_type": "code",
   "execution_count": 14,
   "id": "59aa08a0",
   "metadata": {
    "execution": {
     "iopub.execute_input": "2023-07-19T19:19:53.779910Z",
     "iopub.status.busy": "2023-07-19T19:19:53.779554Z",
     "iopub.status.idle": "2023-07-19T19:19:53.783971Z",
     "shell.execute_reply": "2023-07-19T19:19:53.782851Z"
    },
    "papermill": {
     "duration": 0.014247,
     "end_time": "2023-07-19T19:19:53.786281",
     "exception": false,
     "start_time": "2023-07-19T19:19:53.772034",
     "status": "completed"
    },
    "tags": []
   },
   "outputs": [],
   "source": [
    "#tf.convert_to_tensor(train)"
   ]
  },
  {
   "cell_type": "code",
   "execution_count": null,
   "id": "de50a318",
   "metadata": {
    "papermill": {
     "duration": 0.005823,
     "end_time": "2023-07-19T19:19:53.798334",
     "exception": false,
     "start_time": "2023-07-19T19:19:53.792511",
     "status": "completed"
    },
    "tags": []
   },
   "outputs": [],
   "source": []
  }
 ],
 "metadata": {
  "kernelspec": {
   "display_name": "Python 3",
   "language": "python",
   "name": "python3"
  },
  "language_info": {
   "codemirror_mode": {
    "name": "ipython",
    "version": 3
   },
   "file_extension": ".py",
   "mimetype": "text/x-python",
   "name": "python",
   "nbconvert_exporter": "python",
   "pygments_lexer": "ipython3",
   "version": "3.10.12"
  },
  "papermill": {
   "default_parameters": {},
   "duration": 22.541012,
   "end_time": "2023-07-19T19:19:56.570734",
   "environment_variables": {},
   "exception": null,
   "input_path": "__notebook__.ipynb",
   "output_path": "__notebook__.ipynb",
   "parameters": {},
   "start_time": "2023-07-19T19:19:34.029722",
   "version": "2.4.0"
  }
 },
 "nbformat": 4,
 "nbformat_minor": 5
}
